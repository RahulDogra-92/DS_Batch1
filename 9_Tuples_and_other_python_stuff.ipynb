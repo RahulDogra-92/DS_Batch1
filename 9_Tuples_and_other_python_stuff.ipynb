{
  "nbformat": 4,
  "nbformat_minor": 0,
  "metadata": {
    "colab": {
      "name": "9_Tuples_and_other_python_stuff.ipynb",
      "provenance": []
    },
    "kernelspec": {
      "name": "python3",
      "display_name": "Python 3"
    }
  },
  "cells": [
    {
      "cell_type": "markdown",
      "metadata": {
        "id": "view-in-github"
      },
      "source": [
        "<a href=\"https://colab.research.google.com/github/avs20/SioLabsPython0/blob/main/9_Tuples_and_other_python_stuff.ipynb\" target=\"_parent\"><img src=\"https://colab.research.google.com/assets/colab-badge.svg\" alt=\"Open In Colab\"/></a>"
      ]
    },
    {
      "cell_type": "markdown",
      "metadata": {
        "id": "hLebMNWLYgbU"
      },
      "source": [
        "Tuples\n",
        "----------\n"
      ]
    },
    {
      "cell_type": "code",
      "metadata": {
        "colab": {
          "base_uri": "https://localhost:8080/"
        },
        "id": "AsvARBonZ8gD",
        "outputId": "4900f5c2-6527-4e1f-97b8-7d3807a2df60"
      },
      "source": [
        "mytuple = 10,20,30,40,50 \n",
        "\n",
        "print(mytuple)"
      ],
      "execution_count": 9,
      "outputs": [
        {
          "output_type": "stream",
          "text": [
            "(10, 20, 30, 40, 50)\n"
          ],
          "name": "stdout"
        }
      ]
    },
    {
      "cell_type": "code",
      "metadata": {
        "colab": {
          "base_uri": "https://localhost:8080/"
        },
        "id": "ADeL_USQaJ5y",
        "outputId": "d87f58af-6aac-43ce-c449-1cd0ed300fe8"
      },
      "source": [
        "type(mytuple)"
      ],
      "execution_count": 10,
      "outputs": [
        {
          "output_type": "execute_result",
          "data": {
            "text/plain": [
              "tuple"
            ]
          },
          "metadata": {},
          "execution_count": 10
        }
      ]
    },
    {
      "cell_type": "code",
      "metadata": {
        "id": "2FUn887GaLEe"
      },
      "source": [
        "mytuple2 = (10,20,30,40,50)"
      ],
      "execution_count": 11,
      "outputs": []
    },
    {
      "cell_type": "code",
      "metadata": {
        "colab": {
          "base_uri": "https://localhost:8080/"
        },
        "id": "qPcDZoKBaQUF",
        "outputId": "9fee7bbd-e23b-4b4c-ef3f-42cdf8fc0a6d"
      },
      "source": [
        "mytuple"
      ],
      "execution_count": 12,
      "outputs": [
        {
          "output_type": "execute_result",
          "data": {
            "text/plain": [
              "(10, 20, 30, 40, 50)"
            ]
          },
          "metadata": {},
          "execution_count": 12
        }
      ]
    },
    {
      "cell_type": "code",
      "metadata": {
        "id": "lMtPhRfVaRWz"
      },
      "source": [
        "mytuple3 = 10,"
      ],
      "execution_count": 13,
      "outputs": []
    },
    {
      "cell_type": "code",
      "metadata": {
        "colab": {
          "base_uri": "https://localhost:8080/"
        },
        "id": "uaJuJJ1JaaaX",
        "outputId": "0dd92b11-ba07-4f24-a407-a6c19a56f6ad"
      },
      "source": [
        "print(mytuple3)"
      ],
      "execution_count": 14,
      "outputs": [
        {
          "output_type": "stream",
          "text": [
            "(10,)\n"
          ],
          "name": "stdout"
        }
      ]
    },
    {
      "cell_type": "code",
      "metadata": {
        "colab": {
          "base_uri": "https://localhost:8080/"
        },
        "id": "WRICyGJCacoe",
        "outputId": "b91ddbd9-fc92-4213-8f63-65eb686d3672"
      },
      "source": [
        "mytuple2 = (10,20,30,40,50)\n",
        "\n",
        "print(mytuple[0])\n",
        "print(mytuple[-1])\n",
        "print(mytuple[0:2])"
      ],
      "execution_count": 15,
      "outputs": [
        {
          "output_type": "stream",
          "text": [
            "10\n",
            "50\n",
            "(10, 20)\n"
          ],
          "name": "stdout"
        }
      ]
    },
    {
      "cell_type": "code",
      "metadata": {
        "colab": {
          "base_uri": "https://localhost:8080/",
          "height": 171
        },
        "id": "4PA4xBBLawtb",
        "outputId": "4393558e-a96d-40b4-8130-37928506e530"
      },
      "source": [
        "mytuple[2] = 100"
      ],
      "execution_count": 16,
      "outputs": [
        {
          "output_type": "error",
          "ename": "TypeError",
          "evalue": "ignored",
          "traceback": [
            "\u001b[0;31m---------------------------------------------------------------------------\u001b[0m",
            "\u001b[0;31mTypeError\u001b[0m                                 Traceback (most recent call last)",
            "\u001b[0;32m<ipython-input-16-a23c675c81df>\u001b[0m in \u001b[0;36m<module>\u001b[0;34m()\u001b[0m\n\u001b[0;32m----> 1\u001b[0;31m \u001b[0mmytuple\u001b[0m\u001b[0;34m[\u001b[0m\u001b[0;36m2\u001b[0m\u001b[0;34m]\u001b[0m \u001b[0;34m=\u001b[0m \u001b[0;36m100\u001b[0m\u001b[0;34m\u001b[0m\u001b[0;34m\u001b[0m\u001b[0m\n\u001b[0m",
            "\u001b[0;31mTypeError\u001b[0m: 'tuple' object does not support item assignment"
          ]
        }
      ]
    },
    {
      "cell_type": "code",
      "metadata": {
        "colab": {
          "base_uri": "https://localhost:8080/"
        },
        "id": "ACtqWrKJa3UT",
        "outputId": "99606283-237b-4595-c73c-5a013692c4bb"
      },
      "source": [
        "mytuple1 = (10,20,30)\n",
        "mytuple2 = (10,20,34)\n",
        "\n",
        "mytuple1 + mytuple2"
      ],
      "execution_count": 17,
      "outputs": [
        {
          "output_type": "execute_result",
          "data": {
            "text/plain": [
              "(10, 20, 30, 10, 20, 34)"
            ]
          },
          "metadata": {},
          "execution_count": 17
        }
      ]
    },
    {
      "cell_type": "code",
      "metadata": {
        "colab": {
          "base_uri": "https://localhost:8080/"
        },
        "id": "L1JoZmcybADh",
        "outputId": "a0e72847-ab82-43cc-a18d-ede3bfa81c71"
      },
      "source": [
        "mytuple * 3"
      ],
      "execution_count": 18,
      "outputs": [
        {
          "output_type": "execute_result",
          "data": {
            "text/plain": [
              "(10, 20, 30, 40, 50, 10, 20, 30, 40, 50, 10, 20, 30, 40, 50)"
            ]
          },
          "metadata": {},
          "execution_count": 18
        }
      ]
    },
    {
      "cell_type": "code",
      "metadata": {
        "colab": {
          "base_uri": "https://localhost:8080/"
        },
        "id": "hqmCEjsVbEvY",
        "outputId": "e3343b7a-95aa-40f7-bdad-75fe40dbeba7"
      },
      "source": [
        "mytuple1 = (10,20,30)\n",
        "mytuple2 = (10,20,34)\n",
        "\n",
        "print(mytuple1 < mytuple2)"
      ],
      "execution_count": 19,
      "outputs": [
        {
          "output_type": "stream",
          "text": [
            "True\n"
          ],
          "name": "stdout"
        }
      ]
    },
    {
      "cell_type": "code",
      "metadata": {
        "colab": {
          "base_uri": "https://localhost:8080/"
        },
        "id": "YDg9unjAbTuN",
        "outputId": "e6a005f8-b290-47d4-a655-fcf3439f8a01"
      },
      "source": [
        "mytuple1 = (10,18,30)\n",
        "mytuple2 = (10,20,100000)\n",
        "\n",
        "print(mytuple1 < mytuple2)"
      ],
      "execution_count": 20,
      "outputs": [
        {
          "output_type": "stream",
          "text": [
            "True\n"
          ],
          "name": "stdout"
        }
      ]
    },
    {
      "cell_type": "code",
      "metadata": {
        "colab": {
          "base_uri": "https://localhost:8080/",
          "height": 207
        },
        "id": "7uiQBqHqbe6N",
        "outputId": "e548f7bf-80ca-4fa6-aa37-3588b089a673"
      },
      "source": [
        "mytuple1 = (10,18,30)\n",
        "mytuple2 = (10,\"ashu\",100000)\n",
        "\n",
        "print(mytuple1 < mytuple2)"
      ],
      "execution_count": 21,
      "outputs": [
        {
          "output_type": "error",
          "ename": "TypeError",
          "evalue": "ignored",
          "traceback": [
            "\u001b[0;31m---------------------------------------------------------------------------\u001b[0m",
            "\u001b[0;31mTypeError\u001b[0m                                 Traceback (most recent call last)",
            "\u001b[0;32m<ipython-input-21-fcc26d93ac56>\u001b[0m in \u001b[0;36m<module>\u001b[0;34m()\u001b[0m\n\u001b[1;32m      2\u001b[0m \u001b[0mmytuple2\u001b[0m \u001b[0;34m=\u001b[0m \u001b[0;34m(\u001b[0m\u001b[0;36m10\u001b[0m\u001b[0;34m,\u001b[0m\u001b[0;34m\"ashu\"\u001b[0m\u001b[0;34m,\u001b[0m\u001b[0;36m100000\u001b[0m\u001b[0;34m)\u001b[0m\u001b[0;34m\u001b[0m\u001b[0;34m\u001b[0m\u001b[0m\n\u001b[1;32m      3\u001b[0m \u001b[0;34m\u001b[0m\u001b[0m\n\u001b[0;32m----> 4\u001b[0;31m \u001b[0mprint\u001b[0m\u001b[0;34m(\u001b[0m\u001b[0mmytuple1\u001b[0m \u001b[0;34m<\u001b[0m \u001b[0mmytuple2\u001b[0m\u001b[0;34m)\u001b[0m\u001b[0;34m\u001b[0m\u001b[0;34m\u001b[0m\u001b[0m\n\u001b[0m",
            "\u001b[0;31mTypeError\u001b[0m: '<' not supported between instances of 'int' and 'str'"
          ]
        }
      ]
    },
    {
      "cell_type": "code",
      "metadata": {
        "id": "-_Q6FMfObnPR"
      },
      "source": [
        "import math\n",
        "\n",
        "def get_values(x, y, theta):\n",
        "  h = math.sqrt(x**2 + y**2)\n",
        "\n",
        "  x_axis = h * cos(theta)\n",
        "  y_axis = h * sin(theta)\n",
        "\n",
        "  return [x_axis, y_axis]\n"
      ],
      "execution_count": 22,
      "outputs": []
    },
    {
      "cell_type": "code",
      "metadata": {
        "colab": {
          "base_uri": "https://localhost:8080/",
          "height": 298
        },
        "id": "YOVsQHQZySqQ",
        "outputId": "ce7cf9d8-8b5b-44dc-ebd7-54fc8ff4ef00"
      },
      "source": [
        "result = get_values(10,10,450)"
      ],
      "execution_count": 23,
      "outputs": [
        {
          "output_type": "error",
          "ename": "NameError",
          "evalue": "ignored",
          "traceback": [
            "\u001b[0;31m---------------------------------------------------------------------------\u001b[0m",
            "\u001b[0;31mNameError\u001b[0m                                 Traceback (most recent call last)",
            "\u001b[0;32m<ipython-input-23-72bee0ef1add>\u001b[0m in \u001b[0;36m<module>\u001b[0;34m()\u001b[0m\n\u001b[0;32m----> 1\u001b[0;31m \u001b[0mresult\u001b[0m \u001b[0;34m=\u001b[0m \u001b[0mget_values\u001b[0m\u001b[0;34m(\u001b[0m\u001b[0;36m10\u001b[0m\u001b[0;34m,\u001b[0m\u001b[0;36m10\u001b[0m\u001b[0;34m,\u001b[0m\u001b[0;36m450\u001b[0m\u001b[0;34m)\u001b[0m\u001b[0;34m\u001b[0m\u001b[0;34m\u001b[0m\u001b[0m\n\u001b[0m",
            "\u001b[0;32m<ipython-input-22-ae1762d532a7>\u001b[0m in \u001b[0;36mget_values\u001b[0;34m(x, y, theta)\u001b[0m\n\u001b[1;32m      4\u001b[0m   \u001b[0mh\u001b[0m \u001b[0;34m=\u001b[0m \u001b[0mmath\u001b[0m\u001b[0;34m.\u001b[0m\u001b[0msqrt\u001b[0m\u001b[0;34m(\u001b[0m\u001b[0mx\u001b[0m\u001b[0;34m**\u001b[0m\u001b[0;36m2\u001b[0m \u001b[0;34m+\u001b[0m \u001b[0my\u001b[0m\u001b[0;34m**\u001b[0m\u001b[0;36m2\u001b[0m\u001b[0;34m)\u001b[0m\u001b[0;34m\u001b[0m\u001b[0;34m\u001b[0m\u001b[0m\n\u001b[1;32m      5\u001b[0m \u001b[0;34m\u001b[0m\u001b[0m\n\u001b[0;32m----> 6\u001b[0;31m   \u001b[0mx_axis\u001b[0m \u001b[0;34m=\u001b[0m \u001b[0mh\u001b[0m \u001b[0;34m*\u001b[0m \u001b[0mcos\u001b[0m\u001b[0;34m(\u001b[0m\u001b[0mtheta\u001b[0m\u001b[0;34m)\u001b[0m\u001b[0;34m\u001b[0m\u001b[0;34m\u001b[0m\u001b[0m\n\u001b[0m\u001b[1;32m      7\u001b[0m   \u001b[0my_axis\u001b[0m \u001b[0;34m=\u001b[0m \u001b[0mh\u001b[0m \u001b[0;34m*\u001b[0m \u001b[0msin\u001b[0m\u001b[0;34m(\u001b[0m\u001b[0mtheta\u001b[0m\u001b[0;34m)\u001b[0m\u001b[0;34m\u001b[0m\u001b[0;34m\u001b[0m\u001b[0m\n\u001b[1;32m      8\u001b[0m \u001b[0;34m\u001b[0m\u001b[0m\n",
            "\u001b[0;31mNameError\u001b[0m: name 'cos' is not defined"
          ]
        }
      ]
    },
    {
      "cell_type": "code",
      "metadata": {
        "colab": {
          "base_uri": "https://localhost:8080/"
        },
        "id": "dPvpGQMfc-36",
        "outputId": "2272ab36-f0a2-41f5-dcec-54be5a2c4b3d"
      },
      "source": [
        "my_dict = {\n",
        "    'breakfast':'apple',\n",
        "    'lunch' : 'mango',\n",
        "    'snacks' : 'banana',\n",
        "    'dinner' : 'orange'\n",
        "}\n",
        "\n",
        "print(my_dict)"
      ],
      "execution_count": 24,
      "outputs": [
        {
          "output_type": "stream",
          "text": [
            "{'breakfast': 'apple', 'lunch': 'mango', 'snacks': 'banana', 'dinner': 'orange'}\n"
          ],
          "name": "stdout"
        }
      ]
    },
    {
      "cell_type": "code",
      "metadata": {
        "colab": {
          "base_uri": "https://localhost:8080/"
        },
        "id": "jBDenaeldKMO",
        "outputId": "8608dc06-43c7-4b0e-f87e-40e64336a116"
      },
      "source": [
        "print(my_dict.keys())"
      ],
      "execution_count": 25,
      "outputs": [
        {
          "output_type": "stream",
          "text": [
            "dict_keys(['breakfast', 'lunch', 'snacks', 'dinner'])\n"
          ],
          "name": "stdout"
        }
      ]
    },
    {
      "cell_type": "code",
      "metadata": {
        "colab": {
          "base_uri": "https://localhost:8080/"
        },
        "id": "rGzSSoOHdPHp",
        "outputId": "9b4016fb-ca76-4262-f25d-bab884385e77"
      },
      "source": [
        "my_dict.items()"
      ],
      "execution_count": 26,
      "outputs": [
        {
          "output_type": "execute_result",
          "data": {
            "text/plain": [
              "dict_items([('breakfast', 'apple'), ('lunch', 'mango'), ('snacks', 'banana'), ('dinner', 'orange')])"
            ]
          },
          "metadata": {},
          "execution_count": 26
        }
      ]
    },
    {
      "cell_type": "code",
      "metadata": {
        "colab": {
          "base_uri": "https://localhost:8080/"
        },
        "id": "XH3GYuxgdRjN",
        "outputId": "c7e30d94-7b3b-4df1-b98c-60fda52f9414"
      },
      "source": [
        "for key in my_dict:\n",
        "  print(key, ':', my_dict[key])"
      ],
      "execution_count": 27,
      "outputs": [
        {
          "output_type": "stream",
          "text": [
            "breakfast : apple\n",
            "lunch : mango\n",
            "snacks : banana\n",
            "dinner : orange\n"
          ],
          "name": "stdout"
        }
      ]
    },
    {
      "cell_type": "code",
      "metadata": {
        "colab": {
          "base_uri": "https://localhost:8080/"
        },
        "id": "D4N4nUEWdabw",
        "outputId": "257b7090-91b6-497e-c564-73f55d836106"
      },
      "source": [
        "for key, value in my_dict.items():\n",
        "  print(key, ':',value)"
      ],
      "execution_count": 28,
      "outputs": [
        {
          "output_type": "stream",
          "text": [
            "breakfast : apple\n",
            "lunch : mango\n",
            "snacks : banana\n",
            "dinner : orange\n"
          ],
          "name": "stdout"
        }
      ]
    },
    {
      "cell_type": "code",
      "metadata": {
        "id": "nnnxTy-kdhdu"
      },
      "source": [
        ""
      ],
      "execution_count": null,
      "outputs": []
    },
    {
      "cell_type": "markdown",
      "metadata": {
        "id": "0G0Ts9zNd_Mr"
      },
      "source": [
        "WhiteSpace Characters in python \n",
        "-------\n"
      ]
    },
    {
      "cell_type": "code",
      "metadata": {
        "colab": {
          "base_uri": "https://localhost:8080/"
        },
        "id": "pRCtVZzTeC3Q",
        "outputId": "97eba7e9-1207-4ed0-ce38-27c8e399d4fe"
      },
      "source": [
        "print('I love python')"
      ],
      "execution_count": 29,
      "outputs": [
        {
          "output_type": "stream",
          "text": [
            "I love python\n"
          ],
          "name": "stdout"
        }
      ]
    },
    {
      "cell_type": "code",
      "metadata": {
        "colab": {
          "base_uri": "https://localhost:8080/"
        },
        "id": "037ozh6pelKS",
        "outputId": "578dab24-970c-4dc9-c751-fd7d9f8cea19"
      },
      "source": [
        "print('I love \\t python')"
      ],
      "execution_count": 30,
      "outputs": [
        {
          "output_type": "stream",
          "text": [
            "I love \t python\n"
          ],
          "name": "stdout"
        }
      ]
    },
    {
      "cell_type": "code",
      "metadata": {
        "colab": {
          "base_uri": "https://localhost:8080/"
        },
        "id": "jef8fC3Keznk",
        "outputId": "b5860edf-27ac-4833-f744-8360e6603df5"
      },
      "source": [
        "print(' I love python\\n I love c++')"
      ],
      "execution_count": 31,
      "outputs": [
        {
          "output_type": "stream",
          "text": [
            " I love python\n",
            " I love c++\n"
          ],
          "name": "stdout"
        }
      ]
    },
    {
      "cell_type": "code",
      "metadata": {
        "colab": {
          "base_uri": "https://localhost:8080/"
        },
        "id": "3D6W-SRbe73Z",
        "outputId": "bbcd3cf9-0914-460a-bb98-13bc4870f6cc"
      },
      "source": [
        "print(' I love python\\r\\n I love c++')"
      ],
      "execution_count": 32,
      "outputs": [
        {
          "output_type": "stream",
          "text": [
            " I love python\r\n",
            " I love c++\n"
          ],
          "name": "stdout"
        }
      ]
    },
    {
      "cell_type": "code",
      "metadata": {
        "id": "k2Pz7FYWe8w4",
        "colab": {
          "base_uri": "https://localhost:8080/",
          "height": 35
        },
        "outputId": "8316d2ed-7de5-4c7b-8cc2-ef2edb4c51c2"
      },
      "source": [
        "mystr = \" I love Python      \"\n",
        "mystr.strip()\n",
        "\n"
      ],
      "execution_count": 38,
      "outputs": [
        {
          "output_type": "execute_result",
          "data": {
            "application/vnd.google.colaboratory.intrinsic+json": {
              "type": "string"
            },
            "text/plain": [
              "'I love Python'"
            ]
          },
          "metadata": {},
          "execution_count": 38
        }
      ]
    },
    {
      "cell_type": "code",
      "metadata": {
        "colab": {
          "base_uri": "https://localhost:8080/",
          "height": 35
        },
        "id": "zg02g8Mmf5aO",
        "outputId": "11dd1142-30d7-41d2-913a-0d797a1a3a92"
      },
      "source": [
        "mystr = \"   vasu singh     \"\n",
        "\n",
        "mystr.strip()"
      ],
      "execution_count": 41,
      "outputs": [
        {
          "output_type": "execute_result",
          "data": {
            "application/vnd.google.colaboratory.intrinsic+json": {
              "type": "string"
            },
            "text/plain": [
              "'vasu singh'"
            ]
          },
          "metadata": {},
          "execution_count": 41
        }
      ]
    },
    {
      "cell_type": "code",
      "metadata": {
        "colab": {
          "base_uri": "https://localhost:8080/"
        },
        "id": "7gqi72mbgM46",
        "outputId": "41d24705-4aef-497d-fdaf-08c938f56dab"
      },
      "source": [
        "mystr = \"vasu singh\"\n",
        "print(len(mystr))\n",
        "mystr2 = mystr.rstrip()\n",
        "print(len(mystr2))"
      ],
      "execution_count": 43,
      "outputs": [
        {
          "output_type": "stream",
          "text": [
            "10\n",
            "10\n"
          ],
          "name": "stdout"
        }
      ]
    },
    {
      "cell_type": "markdown",
      "metadata": {
        "id": "u-PBPv0lhf_w"
      },
      "source": [
        "Combining conditional statements \n",
        "\n"
      ]
    },
    {
      "cell_type": "code",
      "metadata": {
        "id": "PaeACmxdhjXD"
      },
      "source": [
        "a = 75\n",
        "\n",
        "print(a > 70)"
      ],
      "execution_count": null,
      "outputs": []
    },
    {
      "cell_type": "code",
      "metadata": {
        "id": "b0G9J2PQiHgh"
      },
      "source": [
        "print(a < 80)"
      ],
      "execution_count": null,
      "outputs": []
    },
    {
      "cell_type": "code",
      "metadata": {
        "id": "qDYUdKQaiJcI"
      },
      "source": [
        "if a > 70:\n",
        "  if a < 80 :\n",
        "    print('True')"
      ],
      "execution_count": null,
      "outputs": []
    },
    {
      "cell_type": "code",
      "metadata": {
        "id": "esIr2ErAiPdv"
      },
      "source": [
        "# and \n",
        "# or \n",
        "# not \n",
        "\n"
      ],
      "execution_count": null,
      "outputs": []
    },
    {
      "cell_type": "code",
      "metadata": {
        "id": "GIBFEensiUCR"
      },
      "source": [
        ""
      ],
      "execution_count": null,
      "outputs": []
    },
    {
      "cell_type": "markdown",
      "metadata": {
        "id": "8WqEgB1JiUuA"
      },
      "source": [
        "and - > combine 2 conditions and return true if both of them are true\n",
        "\n",
        "OR - combine 2 conditions and return true if at least 1 of them is true. \n",
        "\n",
        "not →  return true if condition is false,\n",
        "        return false if condition is true "
      ]
    },
    {
      "cell_type": "code",
      "metadata": {
        "colab": {
          "base_uri": "https://localhost:8080/"
        },
        "id": "YKb6jtytilST",
        "outputId": "ad641a88-c223-4654-b19c-d159e5f15b5f"
      },
      "source": [
        "a = 75\n",
        "if a > 70 and a < 80:\n",
        "  print('True')"
      ],
      "execution_count": 48,
      "outputs": [
        {
          "output_type": "stream",
          "text": [
            "True\n"
          ],
          "name": "stdout"
        }
      ]
    },
    {
      "cell_type": "code",
      "metadata": {
        "colab": {
          "base_uri": "https://localhost:8080/"
        },
        "id": "dmE74wZJitG7",
        "outputId": "9bd9851c-9e85-4db9-ed83-ef1db8c5ce44"
      },
      "source": [
        "_12_marks = 80\n",
        "test_score = 89\n",
        "\n",
        "if _12_marks > 90 or test_score > 80:\n",
        "  print('Scholarship granted')"
      ],
      "execution_count": 49,
      "outputs": [
        {
          "output_type": "stream",
          "text": [
            "Scholarship granted\n"
          ],
          "name": "stdout"
        }
      ]
    },
    {
      "cell_type": "code",
      "metadata": {
        "colab": {
          "base_uri": "https://localhost:8080/"
        },
        "id": "ZWBlJGdRjEi-",
        "outputId": "abfe966a-961f-4fb0-ca45-8c5b58f0ddf1"
      },
      "source": [
        "if not _12_marks > 90:\n",
        "  print('markes not above 90')"
      ],
      "execution_count": 50,
      "outputs": [
        {
          "output_type": "stream",
          "text": [
            "markes not above 90\n"
          ],
          "name": "stdout"
        }
      ]
    },
    {
      "cell_type": "code",
      "metadata": {
        "id": "PA2yhJc4jK-t"
      },
      "source": [
        ""
      ],
      "execution_count": null,
      "outputs": []
    },
    {
      "cell_type": "markdown",
      "metadata": {
        "id": "6WVrhL8uzDbr"
      },
      "source": [
        ""
      ]
    },
    {
      "cell_type": "markdown",
      "metadata": {
        "id": "OeUrAqgJjXjL"
      },
      "source": [
        "Scope in python\n",
        "----------"
      ]
    },
    {
      "cell_type": "code",
      "metadata": {
        "id": "HuOw2xVAjZU5"
      },
      "source": [
        "rate = 10\n",
        "\n",
        "principal = int(input())\n",
        "time = int(input())\n",
        "\n",
        "\n",
        "def calc_interest(principal, time):\n",
        "  interest = principal * rate * time / 100\n",
        "  return interest\n",
        "\n",
        "print(calc_interest(principal, time))"
      ],
      "execution_count": null,
      "outputs": []
    },
    {
      "cell_type": "code",
      "metadata": {
        "id": "EiTQmDoFkhdp"
      },
      "source": [
        "rate = 10\n",
        "\n",
        "principal = int(input())\n",
        "time = int(input())\n",
        "\n",
        "\n",
        "def calc_interest(principal, time):\n",
        "  interest = principal * rate * time / 100\n",
        "  return interest\n",
        "\n",
        "print(calc_interest(principal, time))\n",
        "print(interest)"
      ],
      "execution_count": null,
      "outputs": []
    },
    {
      "cell_type": "code",
      "metadata": {
        "id": "RFNEpGVJlVo3"
      },
      "source": [
        ""
      ],
      "execution_count": null,
      "outputs": []
    },
    {
      "cell_type": "markdown",
      "metadata": {
        "id": "PmCVRXyolV7E"
      },
      "source": [
        "range() function "
      ]
    },
    {
      "cell_type": "code",
      "metadata": {
        "id": "71eVlZrllXPF"
      },
      "source": [
        "list(range(5))"
      ],
      "execution_count": null,
      "outputs": []
    },
    {
      "cell_type": "code",
      "metadata": {
        "id": "rsH_GVoElbjZ"
      },
      "source": [
        "list(range(12,24))"
      ],
      "execution_count": null,
      "outputs": []
    },
    {
      "cell_type": "code",
      "metadata": {
        "id": "btkv98Tylwsh"
      },
      "source": [
        "list(range(12,24, 2))"
      ],
      "execution_count": null,
      "outputs": []
    },
    {
      "cell_type": "code",
      "metadata": {
        "id": "xU3YU5OLly3S"
      },
      "source": [
        "list(range(12,24, -1))"
      ],
      "execution_count": null,
      "outputs": []
    },
    {
      "cell_type": "code",
      "metadata": {
        "id": "OSwtlx4yl1Xy"
      },
      "source": [
        "list(range(24,12, -1))"
      ],
      "execution_count": null,
      "outputs": []
    },
    {
      "cell_type": "code",
      "metadata": {
        "id": "BsHdc0Bgl3hU"
      },
      "source": [
        "for i in range(10):\n",
        "  print('I love python')"
      ],
      "execution_count": null,
      "outputs": []
    },
    {
      "cell_type": "code",
      "metadata": {
        "id": "2HtRJ1Mxl98F"
      },
      "source": [
        "for i in range(len(\"ashutosh\")):\n",
        "  print(\"i love python\")"
      ],
      "execution_count": null,
      "outputs": []
    },
    {
      "cell_type": "code",
      "metadata": {
        "id": "pKDgXFXhmLuX"
      },
      "source": [
        "for i in range(len(\"ashutosh\")):\n",
        "  print(i)"
      ],
      "execution_count": null,
      "outputs": []
    },
    {
      "cell_type": "code",
      "metadata": {
        "id": "dkcK2S-CmR6d"
      },
      "source": [
        ""
      ],
      "execution_count": null,
      "outputs": []
    }
  ]
}