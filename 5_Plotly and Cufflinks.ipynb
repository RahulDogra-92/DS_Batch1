{
 "cells": [
  {
   "cell_type": "code",
   "execution_count": 1,
   "metadata": {},
   "outputs": [],
   "source": [
    "import numpy as np\n",
    "import pandas as pd"
   ]
  },
  {
   "cell_type": "code",
   "execution_count": 4,
   "metadata": {},
   "outputs": [],
   "source": [
    "import matplotlib.pyplot as plt\n",
    "import seaborn as sns"
   ]
  },
  {
   "cell_type": "code",
   "execution_count": 5,
   "metadata": {},
   "outputs": [],
   "source": [
    "from plotly.offline import download_plotlyjs, init_notebook_mode, plot, iplot\n",
    "import plotly as py"
   ]
  },
  {
   "cell_type": "code",
   "execution_count": 6,
   "metadata": {},
   "outputs": [],
   "source": [
    "import cufflinks as cf"
   ]
  },
  {
   "cell_type": "code",
   "execution_count": 10,
   "metadata": {},
   "outputs": [
    {
     "data": {
      "text/html": [
       "        <script type=\"text/javascript\">\n",
       "        window.PlotlyConfig = {MathJaxConfig: 'local'};\n",
       "        if (window.MathJax) {MathJax.Hub.Config({SVG: {font: \"STIX-Web\"}});}\n",
       "        if (typeof require !== 'undefined') {\n",
       "        require.undef(\"plotly\");\n",
       "        requirejs.config({\n",
       "            paths: {\n",
       "                'plotly': ['https://cdn.plot.ly/plotly-latest.min']\n",
       "            }\n",
       "        });\n",
       "        require(['plotly'], function(Plotly) {\n",
       "            window._Plotly = Plotly;\n",
       "        });\n",
       "        }\n",
       "        </script>\n",
       "        "
      ]
     },
     "metadata": {},
     "output_type": "display_data"
    },
    {
     "data": {
      "text/html": [
       "        <script type=\"text/javascript\">\n",
       "        window.PlotlyConfig = {MathJaxConfig: 'local'};\n",
       "        if (window.MathJax) {MathJax.Hub.Config({SVG: {font: \"STIX-Web\"}});}\n",
       "        if (typeof require !== 'undefined') {\n",
       "        require.undef(\"plotly\");\n",
       "        requirejs.config({\n",
       "            paths: {\n",
       "                'plotly': ['https://cdn.plot.ly/plotly-latest.min']\n",
       "            }\n",
       "        });\n",
       "        require(['plotly'], function(Plotly) {\n",
       "            window._Plotly = Plotly;\n",
       "        });\n",
       "        }\n",
       "        </script>\n",
       "        "
      ]
     },
     "metadata": {},
     "output_type": "display_data"
    }
   ],
   "source": [
    "py.offline.init_notebook_mode(connected=True)\n",
    "cf.go_offline()"
   ]
  },
  {
   "cell_type": "code",
   "execution_count": 11,
   "metadata": {},
   "outputs": [],
   "source": [
    "titanic = sns.load_dataset('titanic')"
   ]
  },
  {
   "cell_type": "code",
   "execution_count": 13,
   "metadata": {},
   "outputs": [
    {
     "data": {
      "text/html": [
       "<div>\n",
       "<style scoped>\n",
       "    .dataframe tbody tr th:only-of-type {\n",
       "        vertical-align: middle;\n",
       "    }\n",
       "\n",
       "    .dataframe tbody tr th {\n",
       "        vertical-align: top;\n",
       "    }\n",
       "\n",
       "    .dataframe thead th {\n",
       "        text-align: right;\n",
       "    }\n",
       "</style>\n",
       "<table border=\"1\" class=\"dataframe\">\n",
       "  <thead>\n",
       "    <tr style=\"text-align: right;\">\n",
       "      <th></th>\n",
       "      <th>survived</th>\n",
       "      <th>pclass</th>\n",
       "      <th>sex</th>\n",
       "      <th>age</th>\n",
       "      <th>sibsp</th>\n",
       "      <th>parch</th>\n",
       "      <th>fare</th>\n",
       "      <th>embarked</th>\n",
       "      <th>class</th>\n",
       "      <th>who</th>\n",
       "      <th>adult_male</th>\n",
       "      <th>deck</th>\n",
       "      <th>embark_town</th>\n",
       "      <th>alive</th>\n",
       "      <th>alone</th>\n",
       "    </tr>\n",
       "  </thead>\n",
       "  <tbody>\n",
       "    <tr>\n",
       "      <th>0</th>\n",
       "      <td>0</td>\n",
       "      <td>3</td>\n",
       "      <td>male</td>\n",
       "      <td>22.0</td>\n",
       "      <td>1</td>\n",
       "      <td>0</td>\n",
       "      <td>7.2500</td>\n",
       "      <td>S</td>\n",
       "      <td>Third</td>\n",
       "      <td>man</td>\n",
       "      <td>True</td>\n",
       "      <td>NaN</td>\n",
       "      <td>Southampton</td>\n",
       "      <td>no</td>\n",
       "      <td>False</td>\n",
       "    </tr>\n",
       "    <tr>\n",
       "      <th>1</th>\n",
       "      <td>1</td>\n",
       "      <td>1</td>\n",
       "      <td>female</td>\n",
       "      <td>38.0</td>\n",
       "      <td>1</td>\n",
       "      <td>0</td>\n",
       "      <td>71.2833</td>\n",
       "      <td>C</td>\n",
       "      <td>First</td>\n",
       "      <td>woman</td>\n",
       "      <td>False</td>\n",
       "      <td>C</td>\n",
       "      <td>Cherbourg</td>\n",
       "      <td>yes</td>\n",
       "      <td>False</td>\n",
       "    </tr>\n",
       "    <tr>\n",
       "      <th>2</th>\n",
       "      <td>1</td>\n",
       "      <td>3</td>\n",
       "      <td>female</td>\n",
       "      <td>26.0</td>\n",
       "      <td>0</td>\n",
       "      <td>0</td>\n",
       "      <td>7.9250</td>\n",
       "      <td>S</td>\n",
       "      <td>Third</td>\n",
       "      <td>woman</td>\n",
       "      <td>False</td>\n",
       "      <td>NaN</td>\n",
       "      <td>Southampton</td>\n",
       "      <td>yes</td>\n",
       "      <td>True</td>\n",
       "    </tr>\n",
       "    <tr>\n",
       "      <th>3</th>\n",
       "      <td>1</td>\n",
       "      <td>1</td>\n",
       "      <td>female</td>\n",
       "      <td>35.0</td>\n",
       "      <td>1</td>\n",
       "      <td>0</td>\n",
       "      <td>53.1000</td>\n",
       "      <td>S</td>\n",
       "      <td>First</td>\n",
       "      <td>woman</td>\n",
       "      <td>False</td>\n",
       "      <td>C</td>\n",
       "      <td>Southampton</td>\n",
       "      <td>yes</td>\n",
       "      <td>False</td>\n",
       "    </tr>\n",
       "    <tr>\n",
       "      <th>4</th>\n",
       "      <td>0</td>\n",
       "      <td>3</td>\n",
       "      <td>male</td>\n",
       "      <td>35.0</td>\n",
       "      <td>0</td>\n",
       "      <td>0</td>\n",
       "      <td>8.0500</td>\n",
       "      <td>S</td>\n",
       "      <td>Third</td>\n",
       "      <td>man</td>\n",
       "      <td>True</td>\n",
       "      <td>NaN</td>\n",
       "      <td>Southampton</td>\n",
       "      <td>no</td>\n",
       "      <td>True</td>\n",
       "    </tr>\n",
       "  </tbody>\n",
       "</table>\n",
       "</div>"
      ],
      "text/plain": [
       "   survived  pclass     sex   age  sibsp  parch     fare embarked  class  \\\n",
       "0         0       3    male  22.0      1      0   7.2500        S  Third   \n",
       "1         1       1  female  38.0      1      0  71.2833        C  First   \n",
       "2         1       3  female  26.0      0      0   7.9250        S  Third   \n",
       "3         1       1  female  35.0      1      0  53.1000        S  First   \n",
       "4         0       3    male  35.0      0      0   8.0500        S  Third   \n",
       "\n",
       "     who  adult_male deck  embark_town alive  alone  \n",
       "0    man        True  NaN  Southampton    no  False  \n",
       "1  woman       False    C    Cherbourg   yes  False  \n",
       "2  woman       False  NaN  Southampton   yes   True  \n",
       "3  woman       False    C  Southampton   yes  False  \n",
       "4    man        True  NaN  Southampton    no   True  "
      ]
     },
     "execution_count": 13,
     "metadata": {},
     "output_type": "execute_result"
    }
   ],
   "source": [
    "titanic.head()"
   ]
  },
  {
   "cell_type": "code",
   "execution_count": 16,
   "metadata": {},
   "outputs": [
    {
     "data": {
      "text/html": [
       "<div>\n",
       "<style scoped>\n",
       "    .dataframe tbody tr th:only-of-type {\n",
       "        vertical-align: middle;\n",
       "    }\n",
       "\n",
       "    .dataframe tbody tr th {\n",
       "        vertical-align: top;\n",
       "    }\n",
       "\n",
       "    .dataframe thead th {\n",
       "        text-align: right;\n",
       "    }\n",
       "</style>\n",
       "<table border=\"1\" class=\"dataframe\">\n",
       "  <thead>\n",
       "    <tr style=\"text-align: right;\">\n",
       "      <th></th>\n",
       "      <th>A</th>\n",
       "      <th>B</th>\n",
       "      <th>C</th>\n",
       "    </tr>\n",
       "  </thead>\n",
       "  <tbody>\n",
       "    <tr>\n",
       "      <th>0</th>\n",
       "      <td>0.804486</td>\n",
       "      <td>-0.434103</td>\n",
       "      <td>0.174376</td>\n",
       "    </tr>\n",
       "    <tr>\n",
       "      <th>1</th>\n",
       "      <td>-0.948151</td>\n",
       "      <td>-0.455561</td>\n",
       "      <td>0.749036</td>\n",
       "    </tr>\n",
       "    <tr>\n",
       "      <th>2</th>\n",
       "      <td>2.116135</td>\n",
       "      <td>0.517607</td>\n",
       "      <td>0.220649</td>\n",
       "    </tr>\n",
       "    <tr>\n",
       "      <th>3</th>\n",
       "      <td>-1.363823</td>\n",
       "      <td>-0.220186</td>\n",
       "      <td>-1.648093</td>\n",
       "    </tr>\n",
       "    <tr>\n",
       "      <th>4</th>\n",
       "      <td>1.843276</td>\n",
       "      <td>0.724232</td>\n",
       "      <td>1.462042</td>\n",
       "    </tr>\n",
       "  </tbody>\n",
       "</table>\n",
       "</div>"
      ],
      "text/plain": [
       "          A         B         C\n",
       "0  0.804486 -0.434103  0.174376\n",
       "1 -0.948151 -0.455561  0.749036\n",
       "2  2.116135  0.517607  0.220649\n",
       "3 -1.363823 -0.220186 -1.648093\n",
       "4  1.843276  0.724232  1.462042"
      ]
     },
     "execution_count": 16,
     "metadata": {},
     "output_type": "execute_result"
    }
   ],
   "source": [
    "df = pd.DataFrame(np.random.randn(100,3),columns=['A','B','C'])\n",
    "df.head()"
   ]
  },
  {
   "cell_type": "code",
   "execution_count": 17,
   "metadata": {},
   "outputs": [
    {
     "data": {
      "text/plain": [
       "(100, 3)"
      ]
     },
     "execution_count": 17,
     "metadata": {},
     "output_type": "execute_result"
    }
   ],
   "source": [
    "df.shape"
   ]
  },
  {
   "cell_type": "markdown",
   "metadata": {},
   "source": [
    "### Line Plot"
   ]
  },
  {
   "cell_type": "code",
   "execution_count": 19,
   "metadata": {},
   "outputs": [
    {
     "data": {
      "text/plain": [
       "<matplotlib.axes._subplots.AxesSubplot at 0x2d9ed209670>"
      ]
     },
     "execution_count": 19,
     "metadata": {},
     "output_type": "execute_result"
    },
    {
     "data": {
      "image/png": "[encoded data removed]",
      "text/plain": [
       "<Figure size 432x288 with 1 Axes>"
      ]
     },
     "metadata": {
      "needs_background": "light"
     },
     "output_type": "display_data"
    }
   ],
   "source": [
    "df.plot()"
   ]
  },
  {
   "cell_type": "code",
   "execution_count": 21,
   "metadata": {},
   "outputs": [
    {
     "data": {
      "application/vnd.plotly.v1+json": {
       "config": {
        "linkText": "Export to plot.ly",
        "plotlyServerURL": "https://plot.ly",
        "showLink": true
       },
       "data": [
        {
         "line": {
          "color": "rgba(255, 153, 51, 1.0)",
          "dash": "solid",
          "shape": "linear",
          "width": 1.3
         },
         "mode": "lines",
         "name": "A",
         "text": "",
         "type": "scatter",
         "x": [
          0,
          1,
          2,
          3,
          4,
          5,
          6,
          7,
          8,
          9,
          10,
          11,
          12,
          13,
          14,
          15,
          16,
          17,
          18,
          19,
          20,
          21,
          22,
          23,
          24,
          25,
          26,
          27,
          28,
          29,
          30,
          31,
          32,
          33,
          34,
          35,
          36,
          37,
          38,
          39,
          40,
          41,
          42,
          43,
          44,
          45,
          46,
          47,
          48,
          49,
          50,
          51,
          52,
          53,
          54,
          55,
          56,
          57,
          58,
          59,
          60,
          61,
          62,
          63,
          64,
          65,
          66,
          67,
          68,
          69,
          70,
          71,
          72,
          73,
          74,
          75,
          76,
          77,
          78,
          79,
          80,
          81,
          82,
          83,
          84,
          85,
          86,
          87,
          88,
          89,
          90,
          91,
          92,
          93,
          94,
          95,
          96,
          97,
          98,
          99
         ],
         "y": [
          0.8044864774287241,
          -0.9481510423908883,
          2.1161350125328893,
          -1.3638225018741512,
          1.843275784856714,
          -1.7485319087132714,
          0.019641782607167837,
          -1.3419230890825473,
          0.5002851311201935,
          1.7756534615326307,
          -1.5137689091411979,
          -0.6368965213801283,
          -0.4504836130030108,
          0.8223196594555584,
          -0.5668391872668452,
          0.28377158462026636,
          0.20920576519190212,
          -0.2853904827657341,
          -0.17119499296719892,
          0.3165555874193085,
          -0.04344304258750354,
          -1.6359451121334614,
          1.2297443818240892,
          0.3977701824683929,
          -0.6199429502095049,
          -0.5434986071672341,
          0.5966658633710911,
          -0.9852456719148055,
          -1.2854772280293154,
          1.6982773489170202,
          0.4917482763196713,
          -0.39007947446503893,
          0.10440829344675284,
          0.029959384510654757,
          1.8981150473853043,
          0.11224329769735449,
          0.16958490769530116,
          -1.0090664485461647,
          1.1420713489721033,
          -0.08440134014658718,
          -0.29591835801983263,
          -0.8338161349177546,
          0.4022410759931213,
          -0.09378837014273535,
          2.6294839606173075,
          -1.8389518962689346,
          -0.29174947495237014,
          0.9030605580213567,
          -0.6932451617990796,
          0.6034772327037836,
          -0.43966887835365115,
          -0.7020155628235437,
          0.4358997795514861,
          -0.8674103933488719,
          -0.0918369002124646,
          -1.1704813015761089,
          -1.485349686062648,
          -0.3845514538641442,
          -0.46603745412132286,
          1.4430100047158019,
          1.3141586177413886,
          0.20470553419963025,
          1.773014947883199,
          0.8343339136849154,
          0.8977775936652503,
          0.7747413841441109,
          -0.22299326188335347,
          -0.883794978630215,
          2.234388870676288,
          0.06021174574722974,
          0.6889431202394805,
          1.0767787342659982,
          0.4826885360517074,
          -1.3130029382256718,
          1.0590237369225428,
          0.4037213324474893,
          0.3045309914434343,
          1.6667495172080453,
          -0.850345536251703,
          -1.1913249201442142,
          -0.6669592472067115,
          -0.7523429984195517,
          0.8023647436386182,
          1.3605623973050855,
          2.083286190157904,
          0.05508675603563289,
          -0.5100089643770411,
          -1.7149273009046366,
          -0.6118769379222307,
          -2.9116624537552864,
          0.513916260938284,
          -0.4862353539068187,
          0.3189358485777468,
          1.5911437180710455,
          -2.1718658217069904,
          -0.07096115996856431,
          1.5501228178069633,
          0.07764264026662375,
          1.8097817272032244,
          -2.644102123835663
         ]
        },
        {
         "line": {
          "color": "rgba(55, 128, 191, 1.0)",
          "dash": "solid",
          "shape": "linear",
          "width": 1.3
         },
         "mode": "lines",
         "name": "B",
         "text": "",
         "type": "scatter",
         "x": [
          0,
          1,
          2,
          3,
          4,
          5,
          6,
          7,
          8,
          9,
          10,
          11,
          12,
          13,
          14,
          15,
          16,
          17,
          18,
          19,
          20,
          21,
          22,
          23,
          24,
          25,
          26,
          27,
          28,
          29,
          30,
          31,
          32,
          33,
          34,
          35,
          36,
          37,
          38,
          39,
          40,
          41,
          42,
          43,
          44,
          45,
          46,
          47,
          48,
          49,
          50,
          51,
          52,
          53,
          54,
          55,
          56,
          57,
          58,
          59,
          60,
          61,
          62,
          63,
          64,
          65,
          66,
          67,
          68,
          69,
          70,
          71,
          72,
          73,
          74,
          75,
          76,
          77,
          78,
          79,
          80,
          81,
          82,
          83,
          84,
          85,
          86,
          87,
          88,
          89,
          90,
          91,
          92,
          93,
          94,
          95,
          96,
          97,
          98,
          99
         ],
         "y": [
          -0.43410269779590144,
          -0.4555614475370614,
          0.5176068913521863,
          -0.2201856042059788,
          0.7242319396241198,
          -0.43108813976885796,
          0.25051323212230053,
          0.115786764079762,
          -0.05306888817844119,
          0.26794552710288705,
          -0.6790175164388548,
          0.5482879547153879,
          0.5228708258609674,
          0.2992033400209017,
          0.049066090332094366,
          -0.22468566558148392,
          -0.8101875845344977,
          -0.3454506572557632,
          0.32804549581812986,
          -1.2347372977765778,
          0.9742617146899739,
          0.8985367217809102,
          0.2758668900806672,
          -0.03991778128800362,
          0.5594554600328423,
          0.7373003561584219,
          0.27451390695058897,
          0.6976289260272461,
          0.32663832911693647,
          0.7628218976841893,
          -0.2608070928282954,
          -0.5146592954590046,
          1.9060095192951154,
          2.010745805923577,
          -1.96298586250898,
          -1.1544211492703425,
          1.808908280232178,
          -0.03461893387673593,
          -0.13269694561568432,
          1.2465208589234649,
          -0.4682696810329029,
          -0.16661583794871268,
          -1.6372717466544358,
          -0.4336974207373278,
          -0.5263169496035581,
          1.6134305410761696,
          0.5375785860301046,
          -0.7063059523886868,
          -0.08742558571346763,
          0.4821507580979392,
          -0.8990165341679056,
          0.38321915650915717,
          0.7423161103060311,
          1.2313060957281705,
          1.9856557724366857,
          1.0821988520204493,
          -0.7466618095854451,
          0.629040466764736,
          -0.4823326456135654,
          2.7490781272322296,
          0.8012449112581967,
          1.8190775804088608,
          -1.4955775599104129,
          0.7755581280783765,
          0.4786688696298884,
          0.37290407291698097,
          0.3326903476159306,
          0.9233357658276374,
          -0.032119544524130225,
          -0.5351270604371191,
          -0.14712955543618636,
          0.3231934174318966,
          0.7942546322839973,
          -1.2495924093637072,
          -0.7182878506608857,
          -0.9024221251217006,
          -1.8590372235363215,
          -0.18596480888861117,
          0.4952962821104375,
          0.7663780588049834,
          0.750327437984539,
          -0.9167075221920621,
          -1.4372995517066565,
          -1.10919826570545,
          0.5886280647822731,
          -1.1220490019720488,
          2.2294694141838862,
          1.2532288659970512,
          -0.38572117603426015,
          -0.6858806771800992,
          0.28722903716124615,
          -0.5837954459766008,
          -0.4391801157742352,
          0.07204523589768022,
          1.7569991188244072,
          -0.6115524855110406,
          -0.5548645380988806,
          1.212503241540441,
          0.3779869875666681,
          0.7319963648223098
         ]
        },
        {
         "line": {
          "color": "rgba(50, 171, 96, 1.0)",
          "dash": "solid",
          "shape": "linear",
          "width": 1.3
         },
         "mode": "lines",
         "name": "C",
         "text": "",
         "type": "scatter",
         "x": [
          0,
          1,
          2,
          3,
          4,
          5,
          6,
          7,
          8,
          9,
          10,
          11,
          12,
          13,
          14,
          15,
          16,
          17,
          18,
          19,
          20,
          21,
          22,
          23,
          24,
          25,
          26,
          27,
          28,
          29,
          30,
          31,
          32,
          33,
          34,
          35,
          36,
          37,
          38,
          39,
          40,
          41,
          42,
          43,
          44,
          45,
          46,
          47,
          48,
          49,
          50,
          51,
          52,
          53,
          54,
          55,
          56,
          57,
          58,
          59,
          60,
          61,
          62,
          63,
          64,
          65,
          66,
          67,
          68,
          69,
          70,
          71,
          72,
          73,
          74,
          75,
          76,
          77,
          78,
          79,
          80,
          81,
          82,
          83,
          84,
          85,
          86,
          87,
          88,
          89,
          90,
          91,
          92,
          93,
          94,
          95,
          96,
          97,
          98,
          99
         ],
         "y": [
          0.17437641394917874,
          0.7490361904498126,
          0.2206487700522952,
          -1.6480931060727528,
          1.4620421283243314,
          0.3820336249836358,
          -0.7543945300211781,
          -0.6426483276542193,
          -0.5047359239418499,
          2.260731119462813,
          1.2059967576360053,
          -0.40792789033670196,
          -0.3735557788923569,
          0.9223879901217894,
          0.5387542559927422,
          1.293366186217786,
          -0.3061694975458192,
          1.4458344474262372,
          -0.09731501254556423,
          1.349054326346807,
          0.10266894912192394,
          -1.5895513391001461,
          -0.631487039076087,
          -0.6495046871754468,
          -0.5054457546127393,
          0.16588666469731964,
          1.182579733108419,
          1.5702728567909054,
          -0.6854982775173628,
          -0.2142420737423121,
          0.0611855245856681,
          1.8877586015324224,
          -0.04635364179885129,
          -0.6216973206487607,
          -1.8700902552522218,
          -0.17574719059565638,
          0.48054197537656324,
          -1.8307026567314109,
          0.42221981905429895,
          -0.036228233963711796,
          0.2095985941357195,
          0.975831001214111,
          -0.7017837092939401,
          0.356516389516243,
          1.7467740184215845,
          1.8994410880435575,
          0.19055959194181868,
          0.2006264499212719,
          0.6845249672095227,
          -0.31312033410853163,
          1.2305046951174428,
          -0.3319642881558576,
          -1.268108681937728,
          -0.0775659164722555,
          0.7510722580630781,
          1.4084269276169865,
          -1.912990420801554,
          1.1459097803085434,
          0.15898023964590857,
          1.2297004667972553,
          -0.14560897468774114,
          0.2388596555647904,
          -0.11191358676205446,
          2.8699281091776876,
          -0.46648935628783206,
          0.1456387070136528,
          -1.5718030469704014,
          -0.919400581374011,
          -0.4385574306559472,
          0.9539469603504792,
          0.3480216508176851,
          0.7859446983841218,
          -0.7756360897273119,
          -0.17771469767058096,
          2.7841009887793176,
          -0.4500324908581403,
          -1.6813229039518773,
          -0.45463281656514104,
          -0.023025213530122365,
          -1.7038590034826455,
          -0.0825859851593682,
          -0.2037125593284725,
          0.814377619961438,
          -0.6254026100427503,
          -1.5093882638874176,
          1.2285573829502388,
          0.1652410261119857,
          1.2081300941955717,
          -0.4805856183844383,
          -0.9998030209059221,
          2.8079053019227906,
          0.04944547123720202,
          0.5304990745579125,
          -1.055345071570587,
          1.5395395879535254,
          0.38299093507564547,
          0.5321547238143925,
          0.11616983666958806,
          -1.375565023655355,
          0.5063230091191446
         ]
        }
       ],
       "layout": {
        "legend": {
         "bgcolor": "#F5F6F9",
         "font": {
          "color": "#4D5663"
         }
        },
        "paper_bgcolor": "#F5F6F9",
        "plot_bgcolor": "#F5F6F9",
        "template": {
         "data": {
          "bar": [
           {
            "error_x": {
             "color": "#2a3f5f"
            },
            "error_y": {
             "color": "#2a3f5f"
            },
            "marker": {
             "line": {
              "color": "#E5ECF6",
              "width": 0.5
             }
            },
            "type": "bar"
           }
          ],
          "barpolar": [
           {
            "marker": {
             "line": {
              "color": "#E5ECF6",
              "width": 0.5
             }
            },
            "type": "barpolar"
           }
          ],
          "carpet": [
           {
            "aaxis": {
             "endlinecolor": "#2a3f5f",
             "gridcolor": "white",
             "linecolor": "white",
             "minorgridcolor": "white",
             "startlinecolor": "#2a3f5f"
            },
            "baxis": {
             "endlinecolor": "#2a3f5f",
             "gridcolor": "white",
             "linecolor": "white",
             "minorgridcolor": "white",
             "startlinecolor": "#2a3f5f"
            },
            "type": "carpet"
           }
          ],
          "choropleth": [
           {
            "colorbar": {
             "outlinewidth": 0,
             "ticks": ""
            },
            "type": "choropleth"
           }
          ],
          "contour": [
           {
            "colorbar": {
             "outlinewidth": 0,
             "ticks": ""
            },
            "colorscale": [
             [
              0,
              "#0d0887"
             ],
             [
              0.1111111111111111,
              "#46039f"
             ],
             [
              0.2222222222222222,
              "#7201a8"
             ],
             [
              0.3333333333333333,
              "#9c179e"
             ],
             [
              0.4444444444444444,
              "#bd3786"
             ],
             [
              0.5555555555555556,
              "#d8576b"
             ],
             [
              0.6666666666666666,
              "#ed7953"
             ],
             [
              0.7777777777777778,
              "#fb9f3a"
             ],
             [
              0.8888888888888888,
              "#fdca26"
             ],
             [
              1,
              "#f0f921"
             ]
            ],
            "type": "contour"
           }
          ],
          "contourcarpet": [
           {
            "colorbar": {
             "outlinewidth": 0,
             "ticks": ""
            },
            "type": "contourcarpet"
           }
          ],
          "heatmap": [
           {
            "colorbar": {
             "outlinewidth": 0,
             "ticks": ""
            },
            "colorscale": [
             [
              0,
              "#0d0887"
             ],
             [
              0.1111111111111111,
              "#46039f"
             ],
             [
              0.2222222222222222,
              "#7201a8"
             ],
             [
              0.3333333333333333,
              "#9c179e"
             ],
             [
              0.4444444444444444,
              "#bd3786"
             ],
             [
              0.5555555555555556,
              "#d8576b"
             ],
             [
              0.6666666666666666,
              "#ed7953"
             ],
             [
              0.7777777777777778,
              "#fb9f3a"
             ],
             [
              0.8888888888888888,
              "#fdca26"
             ],
             [
              1,
              "#f0f921"
             ]
            ],
            "type": "heatmap"
           }
          ],
          "heatmapgl": [
           {
            "colorbar": {
             "outlinewidth": 0,
             "ticks": ""
            },
            "colorscale": [
             [
              0,
              "#0d0887"
             ],
             [
              0.1111111111111111,
              "#46039f"
             ],
             [
              0.2222222222222222,
              "#7201a8"
             ],
             [
              0.3333333333333333,
              "#9c179e"
             ],
             [
              0.4444444444444444,
              "#bd3786"
             ],
             [
              0.5555555555555556,
              "#d8576b"
             ],
             [
              0.6666666666666666,
              "#ed7953"
             ],
             [
              0.7777777777777778,
              "#fb9f3a"
             ],
             [
              0.8888888888888888,
              "#fdca26"
             ],
             [
              1,
              "#f0f921"
             ]
            ],
            "type": "heatmapgl"
           }
          ],
          "histogram": [
           {
            "marker": {
             "colorbar": {
              "outlinewidth": 0,
              "ticks": ""
             }
            },
            "type": "histogram"
           }
          ],
          "histogram2d": [
           {
            "colorbar": {
             "outlinewidth": 0,
             "ticks": ""
            },
            "colorscale": [
             [
              0,
              "#0d0887"
             ],
             [
              0.1111111111111111,
              "#46039f"
             ],
             [
              0.2222222222222222,
              "#7201a8"
             ],
             [
              0.3333333333333333,
              "#9c179e"
             ],
             [
              0.4444444444444444,
              "#bd3786"
             ],
             [
              0.5555555555555556,
              "#d8576b"
             ],
             [
              0.6666666666666666,
              "#ed7953"
             ],
             [
              0.7777777777777778,
              "#fb9f3a"
             ],
             [
              0.8888888888888888,
              "#fdca26"
             ],
             [
              1,
              "#f0f921"
             ]
            ],
            "type": "histogram2d"
           }
          ],
          "histogram2dcontour": [
           {
            "colorbar": {
             "outlinewidth": 0,
             "ticks": ""
            },
            "colorscale": [
             [
              0,
              "#0d0887"
             ],
             [
              0.1111111111111111,
              "#46039f"
             ],
             [
              0.2222222222222222,
              "#7201a8"
             ],
             [
              0.3333333333333333,
              "#9c179e"
             ],
             [
              0.4444444444444444,
              "#bd3786"
             ],
             [
              0.5555555555555556,
              "#d8576b"
             ],
             [
              0.6666666666666666,
              "#ed7953"
             ],
             [
              0.7777777777777778,
              "#fb9f3a"
             ],
             [
              0.8888888888888888,
              "#fdca26"
             ],
             [
              1,
              "#f0f921"
             ]
            ],
            "type": "histogram2dcontour"
           }
          ],
          "mesh3d": [
           {
            "colorbar": {
             "outlinewidth": 0,
             "ticks": ""
            },
            "type": "mesh3d"
           }
          ],
          "parcoords": [
           {
            "line": {
             "colorbar": {
              "outlinewidth": 0,
              "ticks": ""
             }
            },
            "type": "parcoords"
           }
          ],
          "pie": [
           {
            "automargin": true,
            "type": "pie"
           }
          ],
          "scatter": [
           {
            "marker": {
             "colorbar": {
              "outlinewidth": 0,
              "ticks": ""
             }
            },
            "type": "scatter"
           }
          ],
          "scatter3d": [
           {
            "line": {
             "colorbar": {
              "outlinewidth": 0,
              "ticks": ""
             }
            },
            "marker": {
             "colorbar": {
              "outlinewidth": 0,
              "ticks": ""
             }
            },
            "type": "scatter3d"
           }
          ],
          "scattercarpet": [
           {
            "marker": {
             "colorbar": {
              "outlinewidth": 0,
              "ticks": ""
             }
            },
            "type": "scattercarpet"
           }
          ],
          "scattergeo": [
           {
            "marker": {
             "colorbar": {
              "outlinewidth": 0,
              "ticks": ""
             }
            },
            "type": "scattergeo"
           }
          ],
          "scattergl": [
           {
            "marker": {
             "colorbar": {
              "outlinewidth": 0,
              "ticks": ""
             }
            },
            "type": "scattergl"
           }
          ],
          "scattermapbox": [
           {
            "marker": {
             "colorbar": {
              "outlinewidth": 0,
              "ticks": ""
             }
            },
            "type": "scattermapbox"
           }
          ],
          "scatterpolar": [
           {
            "marker": {
             "colorbar": {
              "outlinewidth": 0,
              "ticks": ""
             }
            },
            "type": "scatterpolar"
           }
          ],
          "scatterpolargl": [
           {
            "marker": {
             "colorbar": {
              "outlinewidth": 0,
              "ticks": ""
             }
            },
            "type": "scatterpolargl"
           }
          ],
          "scatterternary": [
           {
            "marker": {
             "colorbar": {
              "outlinewidth": 0,
              "ticks": ""
             }
            },
            "type": "scatterternary"
           }
          ],
          "surface": [
           {
            "colorbar": {
             "outlinewidth": 0,
             "ticks": ""
            },
            "colorscale": [
             [
              0,
              "#0d0887"
             ],
             [
              0.1111111111111111,
              "#46039f"
             ],
             [
              0.2222222222222222,
              "#7201a8"
             ],
             [
              0.3333333333333333,
              "#9c179e"
             ],
             [
              0.4444444444444444,
              "#bd3786"
             ],
             [
              0.5555555555555556,
              "#d8576b"
             ],
             [
              0.6666666666666666,
              "#ed7953"
             ],
             [
              0.7777777777777778,
              "#fb9f3a"
             ],
             [
              0.8888888888888888,
              "#fdca26"
             ],
             [
              1,
              "#f0f921"
             ]
            ],
            "type": "surface"
           }
          ],
          "table": [
           {
            "cells": {
             "fill": {
              "color": "#EBF0F8"
             },
             "line": {
              "color": "white"
             }
            },
            "header": {
             "fill": {
              "color": "#C8D4E3"
             },
             "line": {
              "color": "white"
             }
            },
            "type": "table"
           }
          ]
         },
         "layout": {
          "annotationdefaults": {
           "arrowcolor": "#2a3f5f",
           "arrowhead": 0,
           "arrowwidth": 1
          },
          "coloraxis": {
           "colorbar": {
            "outlinewidth": 0,
            "ticks": ""
           }
          },
          "colorscale": {
           "diverging": [
            [
             0,
             "#8e0152"
            ],
            [
             0.1,
             "#c51b7d"
            ],
            [
             0.2,
             "#de77ae"
            ],
            [
             0.3,
             "#f1b6da"
            ],
            [
             0.4,
             "#fde0ef"
            ],
            [
             0.5,
             "#f7f7f7"
            ],
            [
             0.6,
             "#e6f5d0"
            ],
            [
             0.7,
             "#b8e186"
            ],
            [
             0.8,
             "#7fbc41"
            ],
            [
             0.9,
             "#4d9221"
            ],
            [
             1,
             "#276419"
            ]
           ],
           "sequential": [
            [
             0,
             "#0d0887"
            ],
            [
             0.1111111111111111,
             "#46039f"
            ],
            [
             0.2222222222222222,
             "#7201a8"
            ],
            [
             0.3333333333333333,
             "#9c179e"
            ],
            [
             0.4444444444444444,
             "#bd3786"
            ],
            [
             0.5555555555555556,
             "#d8576b"
            ],
            [
             0.6666666666666666,
             "#ed7953"
            ],
            [
             0.7777777777777778,
             "#fb9f3a"
            ],
            [
             0.8888888888888888,
             "#fdca26"
            ],
            [
             1,
             "#f0f921"
            ]
           ],
           "sequentialminus": [
            [
             0,
             "#0d0887"
            ],
            [
             0.1111111111111111,
             "#46039f"
            ],
            [
             0.2222222222222222,
             "#7201a8"
            ],
            [
             0.3333333333333333,
             "#9c179e"
            ],
            [
             0.4444444444444444,
             "#bd3786"
            ],
            [
             0.5555555555555556,
             "#d8576b"
            ],
            [
             0.6666666666666666,
             "#ed7953"
            ],
            [
             0.7777777777777778,
             "#fb9f3a"
            ],
            [
             0.8888888888888888,
             "#fdca26"
            ],
            [
             1,
             "#f0f921"
            ]
           ]
          },
          "colorway": [
           "#636efa",
           "#EF553B",
           "#00cc96",
           "#ab63fa",
           "#FFA15A",
           "#19d3f3",
           "#FF6692",
           "#B6E880",
           "#FF97FF",
           "#FECB52"
          ],
          "font": {
           "color": "#2a3f5f"
          },
          "geo": {
           "bgcolor": "white",
           "lakecolor": "white",
           "landcolor": "#E5ECF6",
           "showlakes": true,
           "showland": true,
           "subunitcolor": "white"
          },
          "hoverlabel": {
           "align": "left"
          },
          "hovermode": "closest",
          "mapbox": {
           "style": "light"
          },
          "paper_bgcolor": "white",
          "plot_bgcolor": "#E5ECF6",
          "polar": {
           "angularaxis": {
            "gridcolor": "white",
            "linecolor": "white",
            "ticks": ""
           },
           "bgcolor": "#E5ECF6",
           "radialaxis": {
            "gridcolor": "white",
            "linecolor": "white",
            "ticks": ""
           }
          },
          "scene": {
           "xaxis": {
            "backgroundcolor": "#E5ECF6",
            "gridcolor": "white",
            "gridwidth": 2,
            "linecolor": "white",
            "showbackground": true,
            "ticks": "",
            "zerolinecolor": "white"
           },
           "yaxis": {
            "backgroundcolor": "#E5ECF6",
            "gridcolor": "white",
            "gridwidth": 2,
            "linecolor": "white",
            "showbackground": true,
            "ticks": "",
            "zerolinecolor": "white"
           },
           "zaxis": {
            "backgroundcolor": "#E5ECF6",
            "gridcolor": "white",
            "gridwidth": 2,
            "linecolor": "white",
            "showbackground": true,
            "ticks": "",
            "zerolinecolor": "white"
           }
          },
          "shapedefaults": {
           "line": {
            "color": "#2a3f5f"
           }
          },
          "ternary": {
           "aaxis": {
            "gridcolor": "white",
            "linecolor": "white",
            "ticks": ""
           },
           "baxis": {
            "gridcolor": "white",
            "linecolor": "white",
            "ticks": ""
           },
           "bgcolor": "#E5ECF6",
           "caxis": {
            "gridcolor": "white",
            "linecolor": "white",
            "ticks": ""
           }
          },
          "title": {
           "x": 0.05
          },
          "xaxis": {
           "automargin": true,
           "gridcolor": "white",
           "linecolor": "white",
           "ticks": "",
           "title": {
            "standoff": 15
           },
           "zerolinecolor": "white",
           "zerolinewidth": 2
          },
          "yaxis": {
           "automargin": true,
           "gridcolor": "white",
           "linecolor": "white",
           "ticks": "",
           "title": {
            "standoff": 15
           },
           "zerolinecolor": "white",
           "zerolinewidth": 2
          }
         }
        },
        "title": {
         "font": {
          "color": "#4D5663"
         }
        },
        "xaxis": {
         "gridcolor": "#E1E5ED",
         "showgrid": true,
         "tickfont": {
          "color": "#4D5663"
         },
         "title": {
          "font": {
           "color": "#4D5663"
          },
          "text": ""
         },
         "zerolinecolor": "#E1E5ED"
        },
        "yaxis": {
         "gridcolor": "#E1E5ED",
         "showgrid": true,
         "tickfont": {
          "color": "#4D5663"
         },
         "title": {
          "font": {
           "color": "#4D5663"
          },
          "text": ""
         },
         "zerolinecolor": "#E1E5ED"
        }
       }
      },
      "text/html": [
       "<div>                            <div id=\"caf447af-a7db-4f42-895f-85a29eac4abe\" class=\"plotly-graph-div\" style=\"height:525px; width:100%;\"></div>            <script type=\"text/javascript\">                require([\"plotly\"], function(Plotly) {                    window.PLOTLYENV=window.PLOTLYENV || {};\n",
       "                    window.PLOTLYENV.BASE_URL='https://plot.ly';                                    if (document.getElementById(\"caf447af-a7db-4f42-895f-85a29eac4abe\")) {                    Plotly.newPlot(                        \"caf447af-a7db-4f42-895f-85a29eac4abe\",                        [{\"line\": {\"color\": \"rgba(255, 153, 51, 1.0)\", \"dash\": \"solid\", \"shape\": \"linear\", \"width\": 1.3}, \"mode\": \"lines\", \"name\": \"A\", \"text\": \"\", \"type\": \"scatter\", \"x\": [0, 1, 2, 3, 4, 5, 6, 7, 8, 9, 10, 11, 12, 13, 14, 15, 16, 17, 18, 19, 20, 21, 22, 23, 24, 25, 26, 27, 28, 29, 30, 31, 32, 33, 34, 35, 36, 37, 38, 39, 40, 41, 42, 43, 44, 45, 46, 47, 48, 49, 50, 51, 52, 53, 54, 55, 56, 57, 58, 59, 60, 61, 62, 63, 64, 65, 66, 67, 68, 69, 70, 71, 72, 73, 74, 75, 76, 77, 78, 79, 80, 81, 82, 83, 84, 85, 86, 87, 88, 89, 90, 91, 92, 93, 94, 95, 96, 97, 98, 99], \"y\": [0.8044864774287241, -0.9481510423908883, 2.1161350125328893, -1.3638225018741512, 1.843275784856714, -1.7485319087132714, 0.019641782607167837, -1.3419230890825473, 0.5002851311201935, 1.7756534615326307, -1.5137689091411979, -0.6368965213801283, -0.4504836130030108, 0.8223196594555584, -0.5668391872668452, 0.28377158462026636, 0.20920576519190212, -0.2853904827657341, -0.17119499296719892, 0.3165555874193085, -0.04344304258750354, -1.6359451121334614, 1.2297443818240892, 0.3977701824683929, -0.6199429502095049, -0.5434986071672341, 0.5966658633710911, -0.9852456719148055, -1.2854772280293154, 1.6982773489170202, 0.4917482763196713, -0.39007947446503893, 0.10440829344675284, 0.029959384510654757, 1.8981150473853043, 0.11224329769735449, 0.16958490769530116, -1.0090664485461647, 1.1420713489721033, -0.08440134014658718, -0.29591835801983263, -0.8338161349177546, 0.4022410759931213, -0.09378837014273535, 2.6294839606173075, -1.8389518962689346, -0.29174947495237014, 0.9030605580213567, -0.6932451617990796, 0.6034772327037836, -0.43966887835365115, -0.7020155628235437, 0.4358997795514861, -0.8674103933488719, -0.0918369002124646, -1.1704813015761089, -1.485349686062648, -0.3845514538641442, -0.46603745412132286, 1.4430100047158019, 1.3141586177413886, 0.20470553419963025, 1.773014947883199, 0.8343339136849154, 0.8977775936652503, 0.7747413841441109, -0.22299326188335347, -0.883794978630215, 2.234388870676288, 0.06021174574722974, 0.6889431202394805, 1.0767787342659982, 0.4826885360517074, -1.3130029382256718, 1.0590237369225428, 0.4037213324474893, 0.3045309914434343, 1.6667495172080453, -0.850345536251703, -1.1913249201442142, -0.6669592472067115, -0.7523429984195517, 0.8023647436386182, 1.3605623973050855, 2.083286190157904, 0.05508675603563289, -0.5100089643770411, -1.7149273009046366, -0.6118769379222307, -2.9116624537552864, 0.513916260938284, -0.4862353539068187, 0.3189358485777468, 1.5911437180710455, -2.1718658217069904, -0.07096115996856431, 1.5501228178069633, 0.07764264026662375, 1.8097817272032244, -2.644102123835663]}, {\"line\": {\"color\": \"rgba(55, 128, 191, 1.0)\", \"dash\": \"solid\", \"shape\": \"linear\", \"width\": 1.3}, \"mode\": \"lines\", \"name\": \"B\", \"text\": \"\", \"type\": \"scatter\", \"x\": [0, 1, 2, 3, 4, 5, 6, 7, 8, 9, 10, 11, 12, 13, 14, 15, 16, 17, 18, 19, 20, 21, 22, 23, 24, 25, 26, 27, 28, 29, 30, 31, 32, 33, 34, 35, 36, 37, 38, 39, 40, 41, 42, 43, 44, 45, 46, 47, 48, 49, 50, 51, 52, 53, 54, 55, 56, 57, 58, 59, 60, 61, 62, 63, 64, 65, 66, 67, 68, 69, 70, 71, 72, 73, 74, 75, 76, 77, 78, 79, 80, 81, 82, 83, 84, 85, 86, 87, 88, 89, 90, 91, 92, 93, 94, 95, 96, 97, 98, 99], \"y\": [-0.43410269779590144, -0.4555614475370614, 0.5176068913521863, -0.2201856042059788, 0.7242319396241198, -0.43108813976885796, 0.25051323212230053, 0.115786764079762, -0.05306888817844119, 0.26794552710288705, -0.6790175164388548, 0.5482879547153879, 0.5228708258609674, 0.2992033400209017, 0.049066090332094366, -0.22468566558148392, -0.8101875845344977, -0.3454506572557632, 0.32804549581812986, -1.2347372977765778, 0.9742617146899739, 0.8985367217809102, 0.2758668900806672, -0.03991778128800362, 0.5594554600328423, 0.7373003561584219, 0.27451390695058897, 0.6976289260272461, 0.32663832911693647, 0.7628218976841893, -0.2608070928282954, -0.5146592954590046, 1.9060095192951154, 2.010745805923577, -1.96298586250898, -1.1544211492703425, 1.808908280232178, -0.03461893387673593, -0.13269694561568432, 1.2465208589234649, -0.4682696810329029, -0.16661583794871268, -1.6372717466544358, -0.4336974207373278, -0.5263169496035581, 1.6134305410761696, 0.5375785860301046, -0.7063059523886868, -0.08742558571346763, 0.4821507580979392, -0.8990165341679056, 0.38321915650915717, 0.7423161103060311, 1.2313060957281705, 1.9856557724366857, 1.0821988520204493, -0.7466618095854451, 0.629040466764736, -0.4823326456135654, 2.7490781272322296, 0.8012449112581967, 1.8190775804088608, -1.4955775599104129, 0.7755581280783765, 0.4786688696298884, 0.37290407291698097, 0.3326903476159306, 0.9233357658276374, -0.032119544524130225, -0.5351270604371191, -0.14712955543618636, 0.3231934174318966, 0.7942546322839973, -1.2495924093637072, -0.7182878506608857, -0.9024221251217006, -1.8590372235363215, -0.18596480888861117, 0.4952962821104375, 0.7663780588049834, 0.750327437984539, -0.9167075221920621, -1.4372995517066565, -1.10919826570545, 0.5886280647822731, -1.1220490019720488, 2.2294694141838862, 1.2532288659970512, -0.38572117603426015, -0.6858806771800992, 0.28722903716124615, -0.5837954459766008, -0.4391801157742352, 0.07204523589768022, 1.7569991188244072, -0.6115524855110406, -0.5548645380988806, 1.212503241540441, 0.3779869875666681, 0.7319963648223098]}, {\"line\": {\"color\": \"rgba(50, 171, 96, 1.0)\", \"dash\": \"solid\", \"shape\": \"linear\", \"width\": 1.3}, \"mode\": \"lines\", \"name\": \"C\", \"text\": \"\", \"type\": \"scatter\", \"x\": [0, 1, 2, 3, 4, 5, 6, 7, 8, 9, 10, 11, 12, 13, 14, 15, 16, 17, 18, 19, 20, 21, 22, 23, 24, 25, 26, 27, 28, 29, 30, 31, 32, 33, 34, 35, 36, 37, 38, 39, 40, 41, 42, 43, 44, 45, 46, 47, 48, 49, 50, 51, 52, 53, 54, 55, 56, 57, 58, 59, 60, 61, 62, 63, 64, 65, 66, 67, 68, 69, 70, 71, 72, 73, 74, 75, 76, 77, 78, 79, 80, 81, 82, 83, 84, 85, 86, 87, 88, 89, 90, 91, 92, 93, 94, 95, 96, 97, 98, 99], \"y\": [0.17437641394917874, 0.7490361904498126, 0.2206487700522952, -1.6480931060727528, 1.4620421283243314, 0.3820336249836358, -0.7543945300211781, -0.6426483276542193, -0.5047359239418499, 2.260731119462813, 1.2059967576360053, -0.40792789033670196, -0.3735557788923569, 0.9223879901217894, 0.5387542559927422, 1.293366186217786, -0.3061694975458192, 1.4458344474262372, -0.09731501254556423, 1.349054326346807, 0.10266894912192394, -1.5895513391001461, -0.631487039076087, -0.6495046871754468, -0.5054457546127393, 0.16588666469731964, 1.182579733108419, 1.5702728567909054, -0.6854982775173628, -0.2142420737423121, 0.0611855245856681, 1.8877586015324224, -0.04635364179885129, -0.6216973206487607, -1.8700902552522218, -0.17574719059565638, 0.48054197537656324, -1.8307026567314109, 0.42221981905429895, -0.036228233963711796, 0.2095985941357195, 0.975831001214111, -0.7017837092939401, 0.356516389516243, 1.7467740184215845, 1.8994410880435575, 0.19055959194181868, 0.2006264499212719, 0.6845249672095227, -0.31312033410853163, 1.2305046951174428, -0.3319642881558576, -1.268108681937728, -0.0775659164722555, 0.7510722580630781, 1.4084269276169865, -1.912990420801554, 1.1459097803085434, 0.15898023964590857, 1.2297004667972553, -0.14560897468774114, 0.2388596555647904, -0.11191358676205446, 2.8699281091776876, -0.46648935628783206, 0.1456387070136528, -1.5718030469704014, -0.919400581374011, -0.4385574306559472, 0.9539469603504792, 0.3480216508176851, 0.7859446983841218, -0.7756360897273119, -0.17771469767058096, 2.7841009887793176, -0.4500324908581403, -1.6813229039518773, -0.45463281656514104, -0.023025213530122365, -1.7038590034826455, -0.0825859851593682, -0.2037125593284725, 0.814377619961438, -0.6254026100427503, -1.5093882638874176, 1.2285573829502388, 0.1652410261119857, 1.2081300941955717, -0.4805856183844383, -0.9998030209059221, 2.8079053019227906, 0.04944547123720202, 0.5304990745579125, -1.055345071570587, 1.5395395879535254, 0.38299093507564547, 0.5321547238143925, 0.11616983666958806, -1.375565023655355, 0.5063230091191446]}],                        {\"legend\": {\"bgcolor\": \"#F5F6F9\", \"font\": {\"color\": \"#4D5663\"}}, \"paper_bgcolor\": \"#F5F6F9\", \"plot_bgcolor\": \"#F5F6F9\", \"template\": {\"data\": {\"bar\": [{\"error_x\": {\"color\": \"#2a3f5f\"}, \"error_y\": {\"color\": \"#2a3f5f\"}, \"marker\": {\"line\": {\"color\": \"#E5ECF6\", \"width\": 0.5}}, \"type\": \"bar\"}], \"barpolar\": [{\"marker\": {\"line\": {\"color\": \"#E5ECF6\", \"width\": 0.5}}, \"type\": \"barpolar\"}], \"carpet\": [{\"aaxis\": {\"endlinecolor\": \"#2a3f5f\", \"gridcolor\": \"white\", \"linecolor\": \"white\", \"minorgridcolor\": \"white\", \"startlinecolor\": \"#2a3f5f\"}, \"baxis\": {\"endlinecolor\": \"#2a3f5f\", \"gridcolor\": \"white\", \"linecolor\": \"white\", \"minorgridcolor\": \"white\", \"startlinecolor\": \"#2a3f5f\"}, \"type\": \"carpet\"}], \"choropleth\": [{\"colorbar\": {\"outlinewidth\": 0, \"ticks\": \"\"}, \"type\": \"choropleth\"}], \"contour\": [{\"colorbar\": {\"outlinewidth\": 0, \"ticks\": \"\"}, \"colorscale\": [[0.0, \"#0d0887\"], [0.1111111111111111, \"#46039f\"], [0.2222222222222222, \"#7201a8\"], [0.3333333333333333, \"#9c179e\"], [0.4444444444444444, \"#bd3786\"], [0.5555555555555556, \"#d8576b\"], [0.6666666666666666, \"#ed7953\"], [0.7777777777777778, \"#fb9f3a\"], [0.8888888888888888, \"#fdca26\"], [1.0, \"#f0f921\"]], \"type\": \"contour\"}], \"contourcarpet\": [{\"colorbar\": {\"outlinewidth\": 0, \"ticks\": \"\"}, \"type\": \"contourcarpet\"}], \"heatmap\": [{\"colorbar\": {\"outlinewidth\": 0, \"ticks\": \"\"}, \"colorscale\": [[0.0, \"#0d0887\"], [0.1111111111111111, \"#46039f\"], [0.2222222222222222, \"#7201a8\"], [0.3333333333333333, \"#9c179e\"], [0.4444444444444444, \"#bd3786\"], [0.5555555555555556, \"#d8576b\"], [0.6666666666666666, \"#ed7953\"], [0.7777777777777778, \"#fb9f3a\"], [0.8888888888888888, \"#fdca26\"], [1.0, \"#f0f921\"]], \"type\": \"heatmap\"}], \"heatmapgl\": [{\"colorbar\": {\"outlinewidth\": 0, \"ticks\": \"\"}, \"colorscale\": [[0.0, \"#0d0887\"], [0.1111111111111111, \"#46039f\"], [0.2222222222222222, \"#7201a8\"], [0.3333333333333333, \"#9c179e\"], [0.4444444444444444, \"#bd3786\"], [0.5555555555555556, \"#d8576b\"], [0.6666666666666666, \"#ed7953\"], [0.7777777777777778, \"#fb9f3a\"], [0.8888888888888888, \"#fdca26\"], [1.0, \"#f0f921\"]], \"type\": \"heatmapgl\"}], \"histogram\": [{\"marker\": {\"colorbar\": {\"outlinewidth\": 0, \"ticks\": \"\"}}, \"type\": \"histogram\"}], \"histogram2d\": [{\"colorbar\": {\"outlinewidth\": 0, \"ticks\": \"\"}, \"colorscale\": [[0.0, \"#0d0887\"], [0.1111111111111111, \"#46039f\"], [0.2222222222222222, \"#7201a8\"], [0.3333333333333333, \"#9c179e\"], [0.4444444444444444, \"#bd3786\"], [0.5555555555555556, \"#d8576b\"], [0.6666666666666666, \"#ed7953\"], [0.7777777777777778, \"#fb9f3a\"], [0.8888888888888888, \"#fdca26\"], [1.0, \"#f0f921\"]], \"type\": \"histogram2d\"}], \"histogram2dcontour\": [{\"colorbar\": {\"outlinewidth\": 0, \"ticks\": \"\"}, \"colorscale\": [[0.0, \"#0d0887\"], [0.1111111111111111, \"#46039f\"], [0.2222222222222222, \"#7201a8\"], [0.3333333333333333, \"#9c179e\"], [0.4444444444444444, \"#bd3786\"], [0.5555555555555556, \"#d8576b\"], [0.6666666666666666, \"#ed7953\"], [0.7777777777777778, \"#fb9f3a\"], [0.8888888888888888, \"#fdca26\"], [1.0, \"#f0f921\"]], \"type\": \"histogram2dcontour\"}], \"mesh3d\": [{\"colorbar\": {\"outlinewidth\": 0, \"ticks\": \"\"}, \"type\": \"mesh3d\"}], \"parcoords\": [{\"line\": {\"colorbar\": {\"outlinewidth\": 0, \"ticks\": \"\"}}, \"type\": \"parcoords\"}], \"pie\": [{\"automargin\": true, \"type\": \"pie\"}], \"scatter\": [{\"marker\": {\"colorbar\": {\"outlinewidth\": 0, \"ticks\": \"\"}}, \"type\": \"scatter\"}], \"scatter3d\": [{\"line\": {\"colorbar\": {\"outlinewidth\": 0, \"ticks\": \"\"}}, \"marker\": {\"colorbar\": {\"outlinewidth\": 0, \"ticks\": \"\"}}, \"type\": \"scatter3d\"}], \"scattercarpet\": [{\"marker\": {\"colorbar\": {\"outlinewidth\": 0, \"ticks\": \"\"}}, \"type\": \"scattercarpet\"}], \"scattergeo\": [{\"marker\": {\"colorbar\": {\"outlinewidth\": 0, \"ticks\": \"\"}}, \"type\": \"scattergeo\"}], \"scattergl\": [{\"marker\": {\"colorbar\": {\"outlinewidth\": 0, \"ticks\": \"\"}}, \"type\": \"scattergl\"}], \"scattermapbox\": [{\"marker\": {\"colorbar\": {\"outlinewidth\": 0, \"ticks\": \"\"}}, \"type\": \"scattermapbox\"}], \"scatterpolar\": [{\"marker\": {\"colorbar\": {\"outlinewidth\": 0, \"ticks\": \"\"}}, \"type\": \"scatterpolar\"}], \"scatterpolargl\": [{\"marker\": {\"colorbar\": {\"outlinewidth\": 0, \"ticks\": \"\"}}, \"type\": \"scatterpolargl\"}], \"scatterternary\": [{\"marker\": {\"colorbar\": {\"outlinewidth\": 0, \"ticks\": \"\"}}, \"type\": \"scatterternary\"}], \"surface\": [{\"colorbar\": {\"outlinewidth\": 0, \"ticks\": \"\"}, \"colorscale\": [[0.0, \"#0d0887\"], [0.1111111111111111, \"#46039f\"], [0.2222222222222222, \"#7201a8\"], [0.3333333333333333, \"#9c179e\"], [0.4444444444444444, \"#bd3786\"], [0.5555555555555556, \"#d8576b\"], [0.6666666666666666, \"#ed7953\"], [0.7777777777777778, \"#fb9f3a\"], [0.8888888888888888, \"#fdca26\"], [1.0, \"#f0f921\"]], \"type\": \"surface\"}], \"table\": [{\"cells\": {\"fill\": {\"color\": \"#EBF0F8\"}, \"line\": {\"color\": \"white\"}}, \"header\": {\"fill\": {\"color\": \"#C8D4E3\"}, \"line\": {\"color\": \"white\"}}, \"type\": \"table\"}]}, \"layout\": {\"annotationdefaults\": {\"arrowcolor\": \"#2a3f5f\", \"arrowhead\": 0, \"arrowwidth\": 1}, \"coloraxis\": {\"colorbar\": {\"outlinewidth\": 0, \"ticks\": \"\"}}, \"colorscale\": {\"diverging\": [[0, \"#8e0152\"], [0.1, \"#c51b7d\"], [0.2, \"#de77ae\"], [0.3, \"#f1b6da\"], [0.4, \"#fde0ef\"], [0.5, \"#f7f7f7\"], [0.6, \"#e6f5d0\"], [0.7, \"#b8e186\"], [0.8, \"#7fbc41\"], [0.9, \"#4d9221\"], [1, \"#276419\"]], \"sequential\": [[0.0, \"#0d0887\"], [0.1111111111111111, \"#46039f\"], [0.2222222222222222, \"#7201a8\"], [0.3333333333333333, \"#9c179e\"], [0.4444444444444444, \"#bd3786\"], [0.5555555555555556, \"#d8576b\"], [0.6666666666666666, \"#ed7953\"], [0.7777777777777778, \"#fb9f3a\"], [0.8888888888888888, \"#fdca26\"], [1.0, \"#f0f921\"]], \"sequentialminus\": [[0.0, \"#0d0887\"], [0.1111111111111111, \"#46039f\"], [0.2222222222222222, \"#7201a8\"], [0.3333333333333333, \"#9c179e\"], [0.4444444444444444, \"#bd3786\"], [0.5555555555555556, \"#d8576b\"], [0.6666666666666666, \"#ed7953\"], [0.7777777777777778, \"#fb9f3a\"], [0.8888888888888888, \"#fdca26\"], [1.0, \"#f0f921\"]]}, \"colorway\": [\"#636efa\", \"#EF553B\", \"#00cc96\", \"#ab63fa\", \"#FFA15A\", \"#19d3f3\", \"#FF6692\", \"#B6E880\", \"#FF97FF\", \"#FECB52\"], \"font\": {\"color\": \"#2a3f5f\"}, \"geo\": {\"bgcolor\": \"white\", \"lakecolor\": \"white\", \"landcolor\": \"#E5ECF6\", \"showlakes\": true, \"showland\": true, \"subunitcolor\": \"white\"}, \"hoverlabel\": {\"align\": \"left\"}, \"hovermode\": \"closest\", \"mapbox\": {\"style\": \"light\"}, \"paper_bgcolor\": \"white\", \"plot_bgcolor\": \"#E5ECF6\", \"polar\": {\"angularaxis\": {\"gridcolor\": \"white\", \"linecolor\": \"white\", \"ticks\": \"\"}, \"bgcolor\": \"#E5ECF6\", \"radialaxis\": {\"gridcolor\": \"white\", \"linecolor\": \"white\", \"ticks\": \"\"}}, \"scene\": {\"xaxis\": {\"backgroundcolor\": \"#E5ECF6\", \"gridcolor\": \"white\", \"gridwidth\": 2, \"linecolor\": \"white\", \"showbackground\": true, \"ticks\": \"\", \"zerolinecolor\": \"white\"}, \"yaxis\": {\"backgroundcolor\": \"#E5ECF6\", \"gridcolor\": \"white\", \"gridwidth\": 2, \"linecolor\": \"white\", \"showbackground\": true, \"ticks\": \"\", \"zerolinecolor\": \"white\"}, \"zaxis\": {\"backgroundcolor\": \"#E5ECF6\", \"gridcolor\": \"white\", \"gridwidth\": 2, \"linecolor\": \"white\", \"showbackground\": true, \"ticks\": \"\", \"zerolinecolor\": \"white\"}}, \"shapedefaults\": {\"line\": {\"color\": \"#2a3f5f\"}}, \"ternary\": {\"aaxis\": {\"gridcolor\": \"white\", \"linecolor\": \"white\", \"ticks\": \"\"}, \"baxis\": {\"gridcolor\": \"white\", \"linecolor\": \"white\", \"ticks\": \"\"}, \"bgcolor\": \"#E5ECF6\", \"caxis\": {\"gridcolor\": \"white\", \"linecolor\": \"white\", \"ticks\": \"\"}}, \"title\": {\"x\": 0.05}, \"xaxis\": {\"automargin\": true, \"gridcolor\": \"white\", \"linecolor\": \"white\", \"ticks\": \"\", \"title\": {\"standoff\": 15}, \"zerolinecolor\": \"white\", \"zerolinewidth\": 2}, \"yaxis\": {\"automargin\": true, \"gridcolor\": \"white\", \"linecolor\": \"white\", \"ticks\": \"\", \"title\": {\"standoff\": 15}, \"zerolinecolor\": \"white\", \"zerolinewidth\": 2}}}, \"title\": {\"font\": {\"color\": \"#4D5663\"}}, \"xaxis\": {\"gridcolor\": \"#E1E5ED\", \"showgrid\": true, \"tickfont\": {\"color\": \"#4D5663\"}, \"title\": {\"font\": {\"color\": \"#4D5663\"}, \"text\": \"\"}, \"zerolinecolor\": \"#E1E5ED\"}, \"yaxis\": {\"gridcolor\": \"#E1E5ED\", \"showgrid\": true, \"tickfont\": {\"color\": \"#4D5663\"}, \"title\": {\"font\": {\"color\": \"#4D5663\"}, \"text\": \"\"}, \"zerolinecolor\": \"#E1E5ED\"}},                        {\"showLink\": true, \"linkText\": \"Export to plot.ly\", \"plotlyServerURL\": \"https://plot.ly\", \"responsive\": true}                    ).then(function(){\n",
       "                            \n",
       "var gd = document.getElementById('caf447af-a7db-4f42-895f-85a29eac4abe');\n",
       "var x = new MutationObserver(function (mutations, observer) {{\n",
       "        var display = window.getComputedStyle(gd).display;\n",
       "        if (!display || display === 'none') {{\n",
       "            console.log([gd, 'removed!']);\n",
       "            Plotly.purge(gd);\n",
       "            observer.disconnect();\n",
       "        }}\n",
       "}});\n",
       "\n",
       "// Listen for the removal of the full notebook cells\n",
       "var notebookContainer = gd.closest('#notebook-container');\n",
       "if (notebookContainer) {{\n",
       "    x.observe(notebookContainer, {childList: true});\n",
       "}}\n",
       "\n",
       "// Listen for the clearing of the current output cell\n",
       "var outputEl = gd.closest('.output');\n",
       "if (outputEl) {{\n",
       "    x.observe(outputEl, {childList: true});\n",
       "}}\n",
       "\n",
       "                        })                };                });            </script>        </div>"
      ]
     },
     "metadata": {},
     "output_type": "display_data"
    }
   ],
   "source": [
    "df.iplot();"
   ]
  },
  {
   "cell_type": "markdown",
   "metadata": {},
   "source": [
    "### Bar Plot"
   ]
  },
  {
   "cell_type": "code",
   "execution_count": 22,
   "metadata": {},
   "outputs": [
    {
     "data": {
      "application/vnd.plotly.v1+json": {
       "config": {
        "linkText": "Export to plot.ly",
        "plotlyServerURL": "https://plot.ly",
        "showLink": true
       },
       "data": [
        {
         "marker": {
          "color": "rgba(255, 153, 51, 0.6)",
          "line": {
           "color": "rgba(255, 153, 51, 1.0)",
           "width": 1
          }
         },
         "name": "pclass",
         "orientation": "v",
         "text": "",
         "type": "bar",
         "x": [
          0,
          1,
          1,
          1,
          0,
          0,
          0,
          0,
          1,
          1,
          1,
          1,
          0,
          0,
          0,
          1,
          0,
          1,
          0,
          1,
          0,
          1,
          1,
          1,
          0,
          1,
          0,
          0,
          1,
          0,
          0,
          1,
          1,
          0,
          0,
          0,
          1,
          0,
          0,
          1,
          0,
          0,
          0,
          1,
          1,
          0,
          0,
          1,
          0,
          0,
          0,
          0,
          1,
          1,
          0,
          1,
          1,
          0,
          1,
          0,
          0,
          1,
          0,
          0,
          0,
          1,
          1,
          0,
          1,
          0,
          0,
          0,
          0,
          0,
          1,
          0,
          0,
          0,
          1,
          1,
          0,
          1,
          1,
          0,
          1,
          1,
          0,
          0,
          1,
          0,
          0,
          0,
          0,
          0,
          0,
          0,
          0,
          1,
          1,
          0,
          0,
          0,
          0,
          0,
          0,
          0,
          1,
          1,
          0,
          1,
          0,
          0,
          0,
          0,
          0,
          0,
          0,
          0,
          0,
          0,
          0,
          0,
          0,
          1,
          0,
          1,
          0,
          1,
          1,
          0,
          0,
          0,
          0,
          1,
          0,
          0,
          1,
          0,
          0,
          0,
          0,
          1,
          1,
          0,
          0,
          0,
          1,
          0,
          0,
          0,
          0,
          1,
          0,
          0,
          0,
          0,
          1,
          0,
          0,
          0,
          0,
          1,
          0,
          0,
          0,
          1,
          1,
          0,
          0,
          0,
          0,
          0,
          1,
          0,
          0,
          0,
          0,
          0,
          0,
          0,
          0,
          0,
          0,
          1,
          1,
          0,
          1,
          1,
          0,
          0,
          1,
          0,
          1,
          1,
          1,
          1,
          0,
          0,
          1,
          0,
          0,
          0,
          0,
          0,
          1,
          0,
          0,
          1,
          1,
          1,
          0,
          1,
          0,
          0,
          0,
          1,
          1,
          0,
          1,
          0,
          1,
          0,
          0,
          0,
          1,
          0,
          1,
          0,
          0,
          0,
          1,
          0,
          0,
          1,
          0,
          0,
          0,
          1,
          0,
          0,
          0,
          1,
          0,
          0,
          0,
          0,
          0,
          1,
          1,
          0,
          0,
          0,
          0,
          0,
          0,
          1,
          1,
          1,
          1,
          1,
          0,
          1,
          0,
          0,
          0,
          0,
          0,
          1,
          1,
          1,
          0,
          1,
          1,
          0,
          1,
          1,
          0,
          0,
          0,
          1,
          0,
          0,
          0,
          1,
          0,
          0,
          1,
          0,
          1,
          1,
          1,
          1,
          0,
          0,
          0,
          0,
          0,
          0,
          1,
          1,
          1,
          1,
          0,
          1,
          0,
          1,
          1,
          1,
          0,
          1,
          1,
          1,
          0,
          0,
          0,
          1,
          1,
          0,
          1,
          1,
          0,
          0,
          1,
          1,
          0,
          1,
          0,
          1,
          1,
          1,
          1,
          0,
          0,
          0,
          1,
          0,
          0,
          1,
          1,
          0,
          1,
          1,
          0,
          0,
          0,
          1,
          1,
          1,
          1,
          0,
          0,
          0,
          0,
          0,
          0,
          0,
          1,
          0,
          1,
          1,
          0,
          0,
          0,
          0,
          0,
          0,
          1,
          1,
          1,
          1,
          1,
          0,
          0,
          0,
          0,
          1,
          1,
          0,
          0,
          0,
          1,
          1,
          0,
          1,
          0,
          0,
          0,
          1,
          0,
          1,
          1,
          1,
          0,
          1,
          1,
          0,
          0,
          0,
          0,
          1,
          1,
          0,
          0,
          0,
          0,
          0,
          0,
          1,
          0,
          0,
          0,
          0,
          1,
          0,
          1,
          0,
          1,
          1,
          0,
          0,
          0,
          0,
          0,
          0,
          0,
          0,
          1,
          1,
          0,
          1,
          1,
          1,
          1,
          0,
          0,
          1,
          0,
          1,
          0,
          0,
          1,
          0,
          0,
          1,
          1,
          1,
          1,
          1,
          1,
          1,
          0,
          0,
          0,
          1,
          0,
          1,
          0,
          1,
          1,
          0,
          1,
          0,
          0,
          0,
          0,
          0,
          0,
          0,
          0,
          1,
          0,
          0,
          1,
          1,
          0,
          0,
          0,
          0,
          0,
          1,
          0,
          0,
          0,
          1,
          1,
          0,
          1,
          0,
          0,
          1,
          0,
          0,
          0,
          0,
          0,
          0,
          1,
          0,
          0,
          0,
          0,
          0,
          0,
          0,
          1,
          0,
          1,
          1,
          0,
          1,
          1,
          0,
          1,
          1,
          0,
          0,
          1,
          0,
          1,
          0,
          1,
          0,
          0,
          1,
          0,
          0,
          1,
          0,
          0,
          0,
          1,
          0,
          0,
          1,
          0,
          1,
          0,
          1,
          0,
          1,
          1,
          0,
          0,
          1,
          0,
          0,
          1,
          1,
          0,
          1,
          1,
          0,
          0,
          1,
          1,
          0,
          1,
          0,
          1,
          1,
          0,
          0,
          0,
          0,
          0,
          0,
          0,
          0,
          0,
          1,
          1,
          1,
          1,
          1,
          0,
          0,
          1,
          1,
          0,
          1,
          1,
          1,
          0,
          0,
          0,
          1,
          0,
          1,
          0,
          0,
          0,
          1,
          0,
          0,
          0,
          0,
          1,
          0,
          0,
          1,
          1,
          0,
          0,
          0,
          1,
          0,
          0,
          1,
          1,
          1,
          0,
          0,
          1,
          0,
          0,
          1,
          0,
          0,
          1,
          0,
          0,
          1,
          1,
          0,
          0,
          0,
          0,
          1,
          0,
          0,
          1,
          0,
          1,
          0,
          0,
          1,
          0,
          0,
          0,
          0,
          0,
          1,
          0,
          1,
          1,
          1,
          0,
          1,
          0,
          1,
          0,
          1,
          0,
          1,
          0,
          0,
          0,
          0,
          0,
          0,
          1,
          0,
          0,
          0,
          1,
          0,
          0,
          0,
          0,
          1,
          1,
          0,
          0,
          1,
          0,
          0,
          0,
          1,
          0,
          1,
          0,
          1,
          0,
          0,
          0,
          0,
          0,
          0,
          0,
          1,
          1,
          1,
          1,
          0,
          0,
          0,
          0,
          1,
          0,
          0,
          1,
          1,
          0,
          0,
          0,
          0,
          1,
          1,
          1,
          1,
          1,
          0,
          1,
          0,
          0,
          0,
          1,
          1,
          0,
          0,
          1,
          0,
          0,
          0,
          1,
          0,
          1,
          1,
          0,
          0,
          1,
          0,
          0,
          0,
          0,
          0,
          0,
          1,
          0,
          0,
          1,
          0,
          1,
          0,
          1,
          0,
          0,
          1,
          0,
          0,
          1,
          1,
          0,
          0,
          1,
          1,
          0,
          0,
          0,
          1,
          0,
          0,
          1,
          1,
          0,
          1,
          0,
          0,
          0,
          0,
          0,
          0,
          0,
          0,
          1,
          0,
          0,
          1,
          0,
          1,
          1,
          1,
          0,
          0,
          0,
          0,
          1,
          0,
          1,
          0,
          0,
          0,
          0,
          0,
          0,
          0,
          1,
          1,
          0,
          0,
          0,
          1,
          1,
          1,
          1,
          0,
          0,
          0,
          0,
          1,
          0,
          0,
          0,
          0,
          0,
          0,
          0,
          0,
          0,
          0,
          1,
          1,
          0,
          1,
          0,
          0,
          0,
          1,
          1,
          1,
          1,
          1,
          0,
          0,
          0,
          1,
          0,
          0,
          1,
          1,
          0,
          0,
          1,
          0,
          0,
          0,
          0,
          0,
          0,
          1,
          0,
          0,
          0,
          1,
          0,
          1,
          1,
          1,
          1,
          0,
          0,
          0,
          1,
          0,
          0,
          1,
          1,
          0,
          0,
          1,
          0,
          1,
          0,
          0,
          1,
          1,
          0,
          0,
          0,
          1,
          1,
          0,
          0,
          0,
          0,
          0,
          0,
          1,
          0,
          1,
          0
         ],
         "y": [
          3,
          1,
          3,
          1,
          3,
          3,
          1,
          3,
          3,
          2,
          3,
          1,
          3,
          3,
          3,
          2,
          3,
          2,
          3,
          3,
          2,
          2,
          3,
          1,
          3,
          3,
          3,
          1,
          3,
          3,
          1,
          1,
          3,
          2,
          1,
          1,
          3,
          3,
          3,
          3,
          3,
          2,
          3,
          2,
          3,
          3,
          3,
          3,
          3,
          3,
          3,
          3,
          1,
          2,
          1,
          1,
          2,
          3,
          2,
          3,
          3,
          1,
          1,
          3,
          1,
          3,
          2,
          3,
          3,
          3,
          2,
          3,
          2,
          3,
          3,
          3,
          3,
          3,
          2,
          3,
          3,
          3,
          3,
          1,
          2,
          3,
          3,
          3,
          1,
          3,
          3,
          3,
          1,
          3,
          3,
          3,
          1,
          1,
          2,
          2,
          3,
          3,
          1,
          3,
          3,
          3,
          3,
          3,
          3,
          3,
          1,
          3,
          3,
          3,
          3,
          3,
          3,
          2,
          1,
          3,
          2,
          3,
          2,
          2,
          1,
          3,
          3,
          3,
          3,
          3,
          3,
          3,
          3,
          2,
          2,
          2,
          1,
          1,
          3,
          1,
          3,
          3,
          3,
          3,
          2,
          2,
          3,
          3,
          2,
          2,
          2,
          1,
          3,
          3,
          3,
          1,
          3,
          3,
          3,
          3,
          3,
          2,
          3,
          3,
          3,
          3,
          1,
          3,
          1,
          3,
          1,
          3,
          3,
          3,
          1,
          3,
          3,
          1,
          2,
          3,
          3,
          2,
          3,
          2,
          3,
          1,
          3,
          1,
          3,
          3,
          2,
          2,
          3,
          2,
          1,
          1,
          3,
          3,
          3,
          2,
          3,
          3,
          3,
          3,
          3,
          3,
          3,
          3,
          3,
          1,
          3,
          2,
          3,
          2,
          3,
          1,
          3,
          2,
          1,
          2,
          3,
          2,
          3,
          3,
          1,
          3,
          2,
          3,
          2,
          3,
          1,
          3,
          2,
          3,
          2,
          3,
          2,
          2,
          2,
          2,
          3,
          3,
          2,
          3,
          3,
          1,
          3,
          2,
          1,
          2,
          3,
          3,
          1,
          3,
          3,
          3,
          1,
          1,
          1,
          2,
          3,
          3,
          1,
          1,
          3,
          2,
          3,
          3,
          1,
          1,
          1,
          3,
          2,
          1,
          3,
          1,
          3,
          2,
          3,
          3,
          3,
          3,
          3,
          3,
          1,
          3,
          3,
          3,
          2,
          3,
          1,
          1,
          2,
          3,
          3,
          1,
          3,
          1,
          1,
          1,
          3,
          3,
          3,
          2,
          3,
          1,
          1,
          1,
          2,
          1,
          1,
          1,
          2,
          3,
          2,
          3,
          2,
          2,
          1,
          1,
          3,
          3,
          2,
          2,
          3,
          1,
          3,
          2,
          3,
          1,
          3,
          1,
          1,
          3,
          1,
          3,
          1,
          1,
          3,
          1,
          2,
          1,
          2,
          2,
          2,
          2,
          2,
          3,
          3,
          3,
          3,
          1,
          3,
          3,
          3,
          3,
          1,
          2,
          3,
          3,
          3,
          2,
          3,
          3,
          3,
          3,
          1,
          3,
          3,
          1,
          1,
          3,
          3,
          1,
          3,
          1,
          3,
          1,
          3,
          3,
          1,
          3,
          3,
          1,
          3,
          2,
          3,
          2,
          3,
          2,
          1,
          3,
          3,
          1,
          3,
          3,
          3,
          2,
          2,
          2,
          3,
          3,
          3,
          3,
          3,
          2,
          3,
          2,
          3,
          3,
          3,
          3,
          1,
          2,
          3,
          3,
          2,
          2,
          2,
          3,
          3,
          3,
          3,
          3,
          3,
          3,
          2,
          2,
          3,
          3,
          1,
          3,
          2,
          3,
          1,
          1,
          3,
          2,
          1,
          2,
          2,
          3,
          3,
          2,
          3,
          1,
          2,
          1,
          3,
          1,
          2,
          3,
          1,
          1,
          3,
          3,
          1,
          1,
          2,
          3,
          1,
          3,
          1,
          2,
          3,
          3,
          2,
          1,
          3,
          3,
          3,
          3,
          2,
          2,
          3,
          1,
          2,
          3,
          3,
          3,
          3,
          2,
          3,
          3,
          1,
          3,
          1,
          1,
          3,
          3,
          3,
          3,
          1,
          1,
          3,
          3,
          1,
          3,
          1,
          3,
          3,
          3,
          3,
          3,
          1,
          1,
          2,
          1,
          3,
          3,
          3,
          3,
          1,
          1,
          3,
          1,
          2,
          3,
          2,
          3,
          1,
          3,
          3,
          1,
          3,
          3,
          2,
          1,
          3,
          2,
          2,
          3,
          3,
          3,
          3,
          2,
          1,
          1,
          3,
          1,
          1,
          3,
          3,
          2,
          1,
          1,
          2,
          2,
          3,
          2,
          1,
          2,
          3,
          3,
          3,
          1,
          1,
          1,
          1,
          3,
          3,
          3,
          2,
          3,
          3,
          3,
          3,
          3,
          3,
          3,
          2,
          1,
          1,
          3,
          3,
          3,
          2,
          1,
          3,
          3,
          2,
          1,
          2,
          1,
          3,
          1,
          2,
          1,
          3,
          3,
          3,
          1,
          3,
          3,
          2,
          3,
          2,
          3,
          3,
          1,
          2,
          3,
          1,
          3,
          1,
          3,
          3,
          1,
          2,
          1,
          3,
          3,
          3,
          3,
          3,
          2,
          3,
          3,
          2,
          2,
          3,
          1,
          3,
          3,
          3,
          1,
          2,
          1,
          3,
          3,
          1,
          3,
          1,
          1,
          3,
          2,
          3,
          2,
          3,
          3,
          3,
          1,
          3,
          3,
          3,
          1,
          3,
          1,
          3,
          3,
          3,
          2,
          3,
          3,
          3,
          2,
          3,
          3,
          2,
          1,
          1,
          3,
          1,
          3,
          3,
          2,
          2,
          3,
          3,
          1,
          2,
          1,
          2,
          2,
          2,
          3,
          3,
          3,
          3,
          1,
          3,
          1,
          3,
          3,
          2,
          2,
          3,
          3,
          3,
          1,
          1,
          3,
          3,
          3,
          1,
          2,
          3,
          3,
          1,
          3,
          1,
          1,
          3,
          3,
          3,
          2,
          2,
          1,
          1,
          3,
          1,
          1,
          1,
          3,
          2,
          3,
          1,
          2,
          3,
          3,
          2,
          3,
          2,
          2,
          1,
          3,
          2,
          3,
          2,
          3,
          1,
          3,
          2,
          2,
          2,
          3,
          3,
          1,
          3,
          3,
          1,
          1,
          1,
          3,
          3,
          1,
          3,
          2,
          1,
          3,
          2,
          3,
          3,
          3,
          2,
          2,
          3,
          2,
          3,
          1,
          3,
          3,
          3,
          1,
          3,
          1,
          1,
          3,
          3,
          3,
          3,
          3,
          2,
          3,
          2,
          3,
          3,
          3,
          3,
          1,
          3,
          1,
          1,
          3,
          3,
          3,
          3,
          3,
          3,
          1,
          3,
          2,
          3,
          1,
          3,
          2,
          1,
          3,
          3,
          3,
          2,
          2,
          1,
          3,
          3,
          3,
          1,
          3,
          2,
          1,
          3,
          3,
          2,
          3,
          3,
          1,
          3,
          2,
          3,
          3,
          1,
          3,
          1,
          3,
          3,
          3,
          3,
          2,
          3,
          1,
          3,
          2,
          3,
          3,
          3,
          1,
          3,
          3,
          3,
          1,
          3,
          2,
          1,
          3,
          3,
          3,
          3,
          3,
          2,
          1,
          3,
          3,
          3,
          1,
          2,
          3,
          1,
          1,
          3,
          3,
          3,
          2,
          1,
          3,
          2,
          2,
          2,
          1,
          3,
          3,
          3,
          1,
          1,
          3,
          2,
          3,
          3,
          3,
          3,
          1,
          2,
          3,
          3,
          2,
          3,
          3,
          2,
          1,
          3,
          1,
          3
         ]
        }
       ],
       "layout": {
        "legend": {
         "bgcolor": "#F5F6F9",
         "font": {
          "color": "#4D5663"
         }
        },
        "paper_bgcolor": "#F5F6F9",
        "plot_bgcolor": "#F5F6F9",
        "template": {
         "data": {
          "bar": [
           {
            "error_x": {
             "color": "#2a3f5f"
            },
            "error_y": {
             "color": "#2a3f5f"
            },
            "marker": {
             "line": {
              "color": "#E5ECF6",
              "width": 0.5
             }
            },
            "type": "bar"
           }
          ],
          "barpolar": [
           {
            "marker": {
             "line": {
              "color": "#E5ECF6",
              "width": 0.5
             }
            },
            "type": "barpolar"
           }
          ],
          "carpet": [
           {
            "aaxis": {
             "endlinecolor": "#2a3f5f",
             "gridcolor": "white",
             "linecolor": "white",
             "minorgridcolor": "white",
             "startlinecolor": "#2a3f5f"
            },
            "baxis": {
             "endlinecolor": "#2a3f5f",
             "gridcolor": "white",
             "linecolor": "white",
             "minorgridcolor": "white",
             "startlinecolor": "#2a3f5f"
            },
            "type": "carpet"
           }
          ],
          "choropleth": [
           {
            "colorbar": {
             "outlinewidth": 0,
             "ticks": ""
            },
            "type": "choropleth"
           }
          ],
          "contour": [
           {
            "colorbar": {
             "outlinewidth": 0,
             "ticks": ""
            },
            "colorscale": [
             [
              0,
              "#0d0887"
             ],
             [
              0.1111111111111111,
              "#46039f"
             ],
             [
              0.2222222222222222,
              "#7201a8"
             ],
             [
              0.3333333333333333,
              "#9c179e"
             ],
             [
              0.4444444444444444,
              "#bd3786"
             ],
             [
              0.5555555555555556,
              "#d8576b"
             ],
             [
              0.6666666666666666,
              "#ed7953"
             ],
             [
              0.7777777777777778,
              "#fb9f3a"
             ],
             [
              0.8888888888888888,
              "#fdca26"
             ],
             [
              1,
              "#f0f921"
             ]
            ],
            "type": "contour"
           }
          ],
          "contourcarpet": [
           {
            "colorbar": {
             "outlinewidth": 0,
             "ticks": ""
            },
            "type": "contourcarpet"
           }
          ],
          "heatmap": [
           {
            "colorbar": {
             "outlinewidth": 0,
             "ticks": ""
            },
            "colorscale": [
             [
              0,
              "#0d0887"
             ],
             [
              0.1111111111111111,
              "#46039f"
             ],
             [
              0.2222222222222222,
              "#7201a8"
             ],
             [
              0.3333333333333333,
              "#9c179e"
             ],
             [
              0.4444444444444444,
              "#bd3786"
             ],
             [
              0.5555555555555556,
              "#d8576b"
             ],
             [
              0.6666666666666666,
              "#ed7953"
             ],
             [
              0.7777777777777778,
              "#fb9f3a"
             ],
             [
              0.8888888888888888,
              "#fdca26"
             ],
             [
              1,
              "#f0f921"
             ]
            ],
            "type": "heatmap"
           }
          ],
          "heatmapgl": [
           {
            "colorbar": {
             "outlinewidth": 0,
             "ticks": ""
            },
            "colorscale": [
             [
              0,
              "#0d0887"
             ],
             [
              0.1111111111111111,
              "#46039f"
             ],
             [
              0.2222222222222222,
              "#7201a8"
             ],
             [
              0.3333333333333333,
              "#9c179e"
             ],
             [
              0.4444444444444444,
              "#bd3786"
             ],
             [
              0.5555555555555556,
              "#d8576b"
             ],
             [
              0.6666666666666666,
              "#ed7953"
             ],
             [
              0.7777777777777778,
              "#fb9f3a"
             ],
             [
              0.8888888888888888,
              "#fdca26"
             ],
             [
              1,
              "#f0f921"
             ]
            ],
            "type": "heatmapgl"
           }
          ],
          "histogram": [
           {
            "marker": {
             "colorbar": {
              "outlinewidth": 0,
              "ticks": ""
             }
            },
            "type": "histogram"
           }
          ],
          "histogram2d": [
           {
            "colorbar": {
             "outlinewidth": 0,
             "ticks": ""
            },
            "colorscale": [
             [
              0,
              "#0d0887"
             ],
             [
              0.1111111111111111,
              "#46039f"
             ],
             [
              0.2222222222222222,
              "#7201a8"
             ],
             [
              0.3333333333333333,
              "#9c179e"
             ],
             [
              0.4444444444444444,
              "#bd3786"
             ],
             [
              0.5555555555555556,
              "#d8576b"
             ],
             [
              0.6666666666666666,
              "#ed7953"
             ],
             [
              0.7777777777777778,
              "#fb9f3a"
             ],
             [
              0.8888888888888888,
              "#fdca26"
             ],
             [
              1,
              "#f0f921"
             ]
            ],
            "type": "histogram2d"
           }
          ],
          "histogram2dcontour": [
           {
            "colorbar": {
             "outlinewidth": 0,
             "ticks": ""
            },
            "colorscale": [
             [
              0,
              "#0d0887"
             ],
             [
              0.1111111111111111,
              "#46039f"
             ],
             [
              0.2222222222222222,
              "#7201a8"
             ],
             [
              0.3333333333333333,
              "#9c179e"
             ],
             [
              0.4444444444444444,
              "#bd3786"
             ],
             [
              0.5555555555555556,
              "#d8576b"
             ],
             [
              0.6666666666666666,
              "#ed7953"
             ],
             [
              0.7777777777777778,
              "#fb9f3a"
             ],
             [
              0.8888888888888888,
              "#fdca26"
             ],
             [
              1,
              "#f0f921"
             ]
            ],
            "type": "histogram2dcontour"
           }
          ],
          "mesh3d": [
           {
            "colorbar": {
             "outlinewidth": 0,
             "ticks": ""
            },
            "type": "mesh3d"
           }
          ],
          "parcoords": [
           {
            "line": {
             "colorbar": {
              "outlinewidth": 0,
              "ticks": ""
             }
            },
            "type": "parcoords"
           }
          ],
          "pie": [
           {
            "automargin": true,
            "type": "pie"
           }
          ],
          "scatter": [
           {
            "marker": {
             "colorbar": {
              "outlinewidth": 0,
              "ticks": ""
             }
            },
            "type": "scatter"
           }
          ],
          "scatter3d": [
           {
            "line": {
             "colorbar": {
              "outlinewidth": 0,
              "ticks": ""
             }
            },
            "marker": {
             "colorbar": {
              "outlinewidth": 0,
              "ticks": ""
             }
            },
            "type": "scatter3d"
           }
          ],
          "scattercarpet": [
           {
            "marker": {
             "colorbar": {
              "outlinewidth": 0,
              "ticks": ""
             }
            },
            "type": "scattercarpet"
           }
          ],
          "scattergeo": [
           {
            "marker": {
             "colorbar": {
              "outlinewidth": 0,
              "ticks": ""
             }
            },
            "type": "scattergeo"
           }
          ],
          "scattergl": [
           {
            "marker": {
             "colorbar": {
              "outlinewidth": 0,
              "ticks": ""
             }
            },
            "type": "scattergl"
           }
          ],
          "scattermapbox": [
           {
            "marker": {
             "colorbar": {
              "outlinewidth": 0,
              "ticks": ""
             }
            },
            "type": "scattermapbox"
           }
          ],
          "scatterpolar": [
           {
            "marker": {
             "colorbar": {
              "outlinewidth": 0,
              "ticks": ""
             }
            },
            "type": "scatterpolar"
           }
          ],
          "scatterpolargl": [
           {
            "marker": {
             "colorbar": {
              "outlinewidth": 0,
              "ticks": ""
             }
            },
            "type": "scatterpolargl"
           }
          ],
          "scatterternary": [
           {
            "marker": {
             "colorbar": {
              "outlinewidth": 0,
              "ticks": ""
             }
            },
            "type": "scatterternary"
           }
          ],
          "surface": [
           {
            "colorbar": {
             "outlinewidth": 0,
             "ticks": ""
            },
            "colorscale": [
             [
              0,
              "#0d0887"
             ],
             [
              0.1111111111111111,
              "#46039f"
             ],
             [
              0.2222222222222222,
              "#7201a8"
             ],
             [
              0.3333333333333333,
              "#9c179e"
             ],
             [
              0.4444444444444444,
              "#bd3786"
             ],
             [
              0.5555555555555556,
              "#d8576b"
             ],
             [
              0.6666666666666666,
              "#ed7953"
             ],
             [
              0.7777777777777778,
              "#fb9f3a"
             ],
             [
              0.8888888888888888,
              "#fdca26"
             ],
             [
              1,
              "#f0f921"
             ]
            ],
            "type": "surface"
           }
          ],
          "table": [
           {
            "cells": {
             "fill": {
              "color": "#EBF0F8"
             },
             "line": {
              "color": "white"
             }
            },
            "header": {
             "fill": {
              "color": "#C8D4E3"
             },
             "line": {
              "color": "white"
             }
            },
            "type": "table"
           }
          ]
         },
         "layout": {
          "annotationdefaults": {
           "arrowcolor": "#2a3f5f",
           "arrowhead": 0,
           "arrowwidth": 1
          },
          "coloraxis": {
           "colorbar": {
            "outlinewidth": 0,
            "ticks": ""
           }
          },
          "colorscale": {
           "diverging": [
            [
             0,
             "#8e0152"
            ],
            [
             0.1,
             "#c51b7d"
            ],
            [
             0.2,
             "#de77ae"
            ],
            [
             0.3,
             "#f1b6da"
            ],
            [
             0.4,
             "#fde0ef"
            ],
            [
             0.5,
             "#f7f7f7"
            ],
            [
             0.6,
             "#e6f5d0"
            ],
            [
             0.7,
             "#b8e186"
            ],
            [
             0.8,
             "#7fbc41"
            ],
            [
             0.9,
             "#4d9221"
            ],
            [
             1,
             "#276419"
            ]
           ],
           "sequential": [
            [
             0,
             "#0d0887"
            ],
            [
             0.1111111111111111,
             "#46039f"
            ],
            [
             0.2222222222222222,
             "#7201a8"
            ],
            [
             0.3333333333333333,
             "#9c179e"
            ],
            [
             0.4444444444444444,
             "#bd3786"
            ],
            [
             0.5555555555555556,
             "#d8576b"
            ],
            [
             0.6666666666666666,
             "#ed7953"
            ],
            [
             0.7777777777777778,
             "#fb9f3a"
            ],
            [
             0.8888888888888888,
             "#fdca26"
            ],
            [
             1,
             "#f0f921"
            ]
           ],
           "sequentialminus": [
            [
             0,
             "#0d0887"
            ],
            [
             0.1111111111111111,
             "#46039f"
            ],
            [
             0.2222222222222222,
             "#7201a8"
            ],
            [
             0.3333333333333333,
             "#9c179e"
            ],
            [
             0.4444444444444444,
             "#bd3786"
            ],
            [
             0.5555555555555556,
             "#d8576b"
            ],
            [
             0.6666666666666666,
             "#ed7953"
            ],
            [
             0.7777777777777778,
             "#fb9f3a"
            ],
            [
             0.8888888888888888,
             "#fdca26"
            ],
            [
             1,
             "#f0f921"
            ]
           ]
          },
          "colorway": [
           "#636efa",
           "#EF553B",
           "#00cc96",
           "#ab63fa",
           "#FFA15A",
           "#19d3f3",
           "#FF6692",
           "#B6E880",
           "#FF97FF",
           "#FECB52"
          ],
          "font": {
           "color": "#2a3f5f"
          },
          "geo": {
           "bgcolor": "white",
           "lakecolor": "white",
           "landcolor": "#E5ECF6",
           "showlakes": true,
           "showland": true,
           "subunitcolor": "white"
          },
          "hoverlabel": {
           "align": "left"
          },
          "hovermode": "closest",
          "mapbox": {
           "style": "light"
          },
          "paper_bgcolor": "white",
          "plot_bgcolor": "#E5ECF6",
          "polar": {
           "angularaxis": {
            "gridcolor": "white",
            "linecolor": "white",
            "ticks": ""
           },
           "bgcolor": "#E5ECF6",
           "radialaxis": {
            "gridcolor": "white",
            "linecolor": "white",
            "ticks": ""
           }
          },
          "scene": {
           "xaxis": {
            "backgroundcolor": "#E5ECF6",
            "gridcolor": "white",
            "gridwidth": 2,
            "linecolor": "white",
            "showbackground": true,
            "ticks": "",
            "zerolinecolor": "white"
           },
           "yaxis": {
            "backgroundcolor": "#E5ECF6",
            "gridcolor": "white",
            "gridwidth": 2,
            "linecolor": "white",
            "showbackground": true,
            "ticks": "",
            "zerolinecolor": "white"
           },
           "zaxis": {
            "backgroundcolor": "#E5ECF6",
            "gridcolor": "white",
            "gridwidth": 2,
            "linecolor": "white",
            "showbackground": true,
            "ticks": "",
            "zerolinecolor": "white"
           }
          },
          "shapedefaults": {
           "line": {
            "color": "#2a3f5f"
           }
          },
          "ternary": {
           "aaxis": {
            "gridcolor": "white",
            "linecolor": "white",
            "ticks": ""
           },
           "baxis": {
            "gridcolor": "white",
            "linecolor": "white",
            "ticks": ""
           },
           "bgcolor": "#E5ECF6",
           "caxis": {
            "gridcolor": "white",
            "linecolor": "white",
            "ticks": ""
           }
          },
          "title": {
           "x": 0.05
          },
          "xaxis": {
           "automargin": true,
           "gridcolor": "white",
           "linecolor": "white",
           "ticks": "",
           "title": {
            "standoff": 15
           },
           "zerolinecolor": "white",
           "zerolinewidth": 2
          },
          "yaxis": {
           "automargin": true,
           "gridcolor": "white",
           "linecolor": "white",
           "ticks": "",
           "title": {
            "standoff": 15
           },
           "zerolinecolor": "white",
           "zerolinewidth": 2
          }
         }
        },
        "title": {
         "font": {
          "color": "#4D5663"
         }
        },
        "xaxis": {
         "gridcolor": "#E1E5ED",
         "showgrid": true,
         "tickfont": {
          "color": "#4D5663"
         },
         "title": {
          "font": {
           "color": "#4D5663"
          },
          "text": ""
         },
         "zerolinecolor": "#E1E5ED"
        },
        "yaxis": {
         "gridcolor": "#E1E5ED",
         "showgrid": true,
         "tickfont": {
          "color": "#4D5663"
         },
         "title": {
          "font": {
           "color": "#4D5663"
          },
          "text": ""
         },
         "zerolinecolor": "#E1E5ED"
        }
       }
      },
      "text/html": [
       "<div>                            <div id=\"9946ef11-dec4-4c3a-861c-263e8543f948\" class=\"plotly-graph-div\" style=\"height:525px; width:100%;\"></div>            <script type=\"text/javascript\">                require([\"plotly\"], function(Plotly) {                    window.PLOTLYENV=window.PLOTLYENV || {};\n",
       "                    window.PLOTLYENV.BASE_URL='https://plot.ly';                                    if (document.getElementById(\"9946ef11-dec4-4c3a-861c-263e8543f948\")) {                    Plotly.newPlot(                        \"9946ef11-dec4-4c3a-861c-263e8543f948\",                        [{\"marker\": {\"color\": \"rgba(255, 153, 51, 0.6)\", \"line\": {\"color\": \"rgba(255, 153, 51, 1.0)\", \"width\": 1}}, \"name\": \"pclass\", \"orientation\": \"v\", \"text\": \"\", \"type\": \"bar\", \"x\": [0, 1, 1, 1, 0, 0, 0, 0, 1, 1, 1, 1, 0, 0, 0, 1, 0, 1, 0, 1, 0, 1, 1, 1, 0, 1, 0, 0, 1, 0, 0, 1, 1, 0, 0, 0, 1, 0, 0, 1, 0, 0, 0, 1, 1, 0, 0, 1, 0, 0, 0, 0, 1, 1, 0, 1, 1, 0, 1, 0, 0, 1, 0, 0, 0, 1, 1, 0, 1, 0, 0, 0, 0, 0, 1, 0, 0, 0, 1, 1, 0, 1, 1, 0, 1, 1, 0, 0, 1, 0, 0, 0, 0, 0, 0, 0, 0, 1, 1, 0, 0, 0, 0, 0, 0, 0, 1, 1, 0, 1, 0, 0, 0, 0, 0, 0, 0, 0, 0, 0, 0, 0, 0, 1, 0, 1, 0, 1, 1, 0, 0, 0, 0, 1, 0, 0, 1, 0, 0, 0, 0, 1, 1, 0, 0, 0, 1, 0, 0, 0, 0, 1, 0, 0, 0, 0, 1, 0, 0, 0, 0, 1, 0, 0, 0, 1, 1, 0, 0, 0, 0, 0, 1, 0, 0, 0, 0, 0, 0, 0, 0, 0, 0, 1, 1, 0, 1, 1, 0, 0, 1, 0, 1, 1, 1, 1, 0, 0, 1, 0, 0, 0, 0, 0, 1, 0, 0, 1, 1, 1, 0, 1, 0, 0, 0, 1, 1, 0, 1, 0, 1, 0, 0, 0, 1, 0, 1, 0, 0, 0, 1, 0, 0, 1, 0, 0, 0, 1, 0, 0, 0, 1, 0, 0, 0, 0, 0, 1, 1, 0, 0, 0, 0, 0, 0, 1, 1, 1, 1, 1, 0, 1, 0, 0, 0, 0, 0, 1, 1, 1, 0, 1, 1, 0, 1, 1, 0, 0, 0, 1, 0, 0, 0, 1, 0, 0, 1, 0, 1, 1, 1, 1, 0, 0, 0, 0, 0, 0, 1, 1, 1, 1, 0, 1, 0, 1, 1, 1, 0, 1, 1, 1, 0, 0, 0, 1, 1, 0, 1, 1, 0, 0, 1, 1, 0, 1, 0, 1, 1, 1, 1, 0, 0, 0, 1, 0, 0, 1, 1, 0, 1, 1, 0, 0, 0, 1, 1, 1, 1, 0, 0, 0, 0, 0, 0, 0, 1, 0, 1, 1, 0, 0, 0, 0, 0, 0, 1, 1, 1, 1, 1, 0, 0, 0, 0, 1, 1, 0, 0, 0, 1, 1, 0, 1, 0, 0, 0, 1, 0, 1, 1, 1, 0, 1, 1, 0, 0, 0, 0, 1, 1, 0, 0, 0, 0, 0, 0, 1, 0, 0, 0, 0, 1, 0, 1, 0, 1, 1, 0, 0, 0, 0, 0, 0, 0, 0, 1, 1, 0, 1, 1, 1, 1, 0, 0, 1, 0, 1, 0, 0, 1, 0, 0, 1, 1, 1, 1, 1, 1, 1, 0, 0, 0, 1, 0, 1, 0, 1, 1, 0, 1, 0, 0, 0, 0, 0, 0, 0, 0, 1, 0, 0, 1, 1, 0, 0, 0, 0, 0, 1, 0, 0, 0, 1, 1, 0, 1, 0, 0, 1, 0, 0, 0, 0, 0, 0, 1, 0, 0, 0, 0, 0, 0, 0, 1, 0, 1, 1, 0, 1, 1, 0, 1, 1, 0, 0, 1, 0, 1, 0, 1, 0, 0, 1, 0, 0, 1, 0, 0, 0, 1, 0, 0, 1, 0, 1, 0, 1, 0, 1, 1, 0, 0, 1, 0, 0, 1, 1, 0, 1, 1, 0, 0, 1, 1, 0, 1, 0, 1, 1, 0, 0, 0, 0, 0, 0, 0, 0, 0, 1, 1, 1, 1, 1, 0, 0, 1, 1, 0, 1, 1, 1, 0, 0, 0, 1, 0, 1, 0, 0, 0, 1, 0, 0, 0, 0, 1, 0, 0, 1, 1, 0, 0, 0, 1, 0, 0, 1, 1, 1, 0, 0, 1, 0, 0, 1, 0, 0, 1, 0, 0, 1, 1, 0, 0, 0, 0, 1, 0, 0, 1, 0, 1, 0, 0, 1, 0, 0, 0, 0, 0, 1, 0, 1, 1, 1, 0, 1, 0, 1, 0, 1, 0, 1, 0, 0, 0, 0, 0, 0, 1, 0, 0, 0, 1, 0, 0, 0, 0, 1, 1, 0, 0, 1, 0, 0, 0, 1, 0, 1, 0, 1, 0, 0, 0, 0, 0, 0, 0, 1, 1, 1, 1, 0, 0, 0, 0, 1, 0, 0, 1, 1, 0, 0, 0, 0, 1, 1, 1, 1, 1, 0, 1, 0, 0, 0, 1, 1, 0, 0, 1, 0, 0, 0, 1, 0, 1, 1, 0, 0, 1, 0, 0, 0, 0, 0, 0, 1, 0, 0, 1, 0, 1, 0, 1, 0, 0, 1, 0, 0, 1, 1, 0, 0, 1, 1, 0, 0, 0, 1, 0, 0, 1, 1, 0, 1, 0, 0, 0, 0, 0, 0, 0, 0, 1, 0, 0, 1, 0, 1, 1, 1, 0, 0, 0, 0, 1, 0, 1, 0, 0, 0, 0, 0, 0, 0, 1, 1, 0, 0, 0, 1, 1, 1, 1, 0, 0, 0, 0, 1, 0, 0, 0, 0, 0, 0, 0, 0, 0, 0, 1, 1, 0, 1, 0, 0, 0, 1, 1, 1, 1, 1, 0, 0, 0, 1, 0, 0, 1, 1, 0, 0, 1, 0, 0, 0, 0, 0, 0, 1, 0, 0, 0, 1, 0, 1, 1, 1, 1, 0, 0, 0, 1, 0, 0, 1, 1, 0, 0, 1, 0, 1, 0, 0, 1, 1, 0, 0, 0, 1, 1, 0, 0, 0, 0, 0, 0, 1, 0, 1, 0], \"y\": [3, 1, 3, 1, 3, 3, 1, 3, 3, 2, 3, 1, 3, 3, 3, 2, 3, 2, 3, 3, 2, 2, 3, 1, 3, 3, 3, 1, 3, 3, 1, 1, 3, 2, 1, 1, 3, 3, 3, 3, 3, 2, 3, 2, 3, 3, 3, 3, 3, 3, 3, 3, 1, 2, 1, 1, 2, 3, 2, 3, 3, 1, 1, 3, 1, 3, 2, 3, 3, 3, 2, 3, 2, 3, 3, 3, 3, 3, 2, 3, 3, 3, 3, 1, 2, 3, 3, 3, 1, 3, 3, 3, 1, 3, 3, 3, 1, 1, 2, 2, 3, 3, 1, 3, 3, 3, 3, 3, 3, 3, 1, 3, 3, 3, 3, 3, 3, 2, 1, 3, 2, 3, 2, 2, 1, 3, 3, 3, 3, 3, 3, 3, 3, 2, 2, 2, 1, 1, 3, 1, 3, 3, 3, 3, 2, 2, 3, 3, 2, 2, 2, 1, 3, 3, 3, 1, 3, 3, 3, 3, 3, 2, 3, 3, 3, 3, 1, 3, 1, 3, 1, 3, 3, 3, 1, 3, 3, 1, 2, 3, 3, 2, 3, 2, 3, 1, 3, 1, 3, 3, 2, 2, 3, 2, 1, 1, 3, 3, 3, 2, 3, 3, 3, 3, 3, 3, 3, 3, 3, 1, 3, 2, 3, 2, 3, 1, 3, 2, 1, 2, 3, 2, 3, 3, 1, 3, 2, 3, 2, 3, 1, 3, 2, 3, 2, 3, 2, 2, 2, 2, 3, 3, 2, 3, 3, 1, 3, 2, 1, 2, 3, 3, 1, 3, 3, 3, 1, 1, 1, 2, 3, 3, 1, 1, 3, 2, 3, 3, 1, 1, 1, 3, 2, 1, 3, 1, 3, 2, 3, 3, 3, 3, 3, 3, 1, 3, 3, 3, 2, 3, 1, 1, 2, 3, 3, 1, 3, 1, 1, 1, 3, 3, 3, 2, 3, 1, 1, 1, 2, 1, 1, 1, 2, 3, 2, 3, 2, 2, 1, 1, 3, 3, 2, 2, 3, 1, 3, 2, 3, 1, 3, 1, 1, 3, 1, 3, 1, 1, 3, 1, 2, 1, 2, 2, 2, 2, 2, 3, 3, 3, 3, 1, 3, 3, 3, 3, 1, 2, 3, 3, 3, 2, 3, 3, 3, 3, 1, 3, 3, 1, 1, 3, 3, 1, 3, 1, 3, 1, 3, 3, 1, 3, 3, 1, 3, 2, 3, 2, 3, 2, 1, 3, 3, 1, 3, 3, 3, 2, 2, 2, 3, 3, 3, 3, 3, 2, 3, 2, 3, 3, 3, 3, 1, 2, 3, 3, 2, 2, 2, 3, 3, 3, 3, 3, 3, 3, 2, 2, 3, 3, 1, 3, 2, 3, 1, 1, 3, 2, 1, 2, 2, 3, 3, 2, 3, 1, 2, 1, 3, 1, 2, 3, 1, 1, 3, 3, 1, 1, 2, 3, 1, 3, 1, 2, 3, 3, 2, 1, 3, 3, 3, 3, 2, 2, 3, 1, 2, 3, 3, 3, 3, 2, 3, 3, 1, 3, 1, 1, 3, 3, 3, 3, 1, 1, 3, 3, 1, 3, 1, 3, 3, 3, 3, 3, 1, 1, 2, 1, 3, 3, 3, 3, 1, 1, 3, 1, 2, 3, 2, 3, 1, 3, 3, 1, 3, 3, 2, 1, 3, 2, 2, 3, 3, 3, 3, 2, 1, 1, 3, 1, 1, 3, 3, 2, 1, 1, 2, 2, 3, 2, 1, 2, 3, 3, 3, 1, 1, 1, 1, 3, 3, 3, 2, 3, 3, 3, 3, 3, 3, 3, 2, 1, 1, 3, 3, 3, 2, 1, 3, 3, 2, 1, 2, 1, 3, 1, 2, 1, 3, 3, 3, 1, 3, 3, 2, 3, 2, 3, 3, 1, 2, 3, 1, 3, 1, 3, 3, 1, 2, 1, 3, 3, 3, 3, 3, 2, 3, 3, 2, 2, 3, 1, 3, 3, 3, 1, 2, 1, 3, 3, 1, 3, 1, 1, 3, 2, 3, 2, 3, 3, 3, 1, 3, 3, 3, 1, 3, 1, 3, 3, 3, 2, 3, 3, 3, 2, 3, 3, 2, 1, 1, 3, 1, 3, 3, 2, 2, 3, 3, 1, 2, 1, 2, 2, 2, 3, 3, 3, 3, 1, 3, 1, 3, 3, 2, 2, 3, 3, 3, 1, 1, 3, 3, 3, 1, 2, 3, 3, 1, 3, 1, 1, 3, 3, 3, 2, 2, 1, 1, 3, 1, 1, 1, 3, 2, 3, 1, 2, 3, 3, 2, 3, 2, 2, 1, 3, 2, 3, 2, 3, 1, 3, 2, 2, 2, 3, 3, 1, 3, 3, 1, 1, 1, 3, 3, 1, 3, 2, 1, 3, 2, 3, 3, 3, 2, 2, 3, 2, 3, 1, 3, 3, 3, 1, 3, 1, 1, 3, 3, 3, 3, 3, 2, 3, 2, 3, 3, 3, 3, 1, 3, 1, 1, 3, 3, 3, 3, 3, 3, 1, 3, 2, 3, 1, 3, 2, 1, 3, 3, 3, 2, 2, 1, 3, 3, 3, 1, 3, 2, 1, 3, 3, 2, 3, 3, 1, 3, 2, 3, 3, 1, 3, 1, 3, 3, 3, 3, 2, 3, 1, 3, 2, 3, 3, 3, 1, 3, 3, 3, 1, 3, 2, 1, 3, 3, 3, 3, 3, 2, 1, 3, 3, 3, 1, 2, 3, 1, 1, 3, 3, 3, 2, 1, 3, 2, 2, 2, 1, 3, 3, 3, 1, 1, 3, 2, 3, 3, 3, 3, 1, 2, 3, 3, 2, 3, 3, 2, 1, 3, 1, 3]}],                        {\"legend\": {\"bgcolor\": \"#F5F6F9\", \"font\": {\"color\": \"#4D5663\"}}, \"paper_bgcolor\": \"#F5F6F9\", \"plot_bgcolor\": \"#F5F6F9\", \"template\": {\"data\": {\"bar\": [{\"error_x\": {\"color\": \"#2a3f5f\"}, \"error_y\": {\"color\": \"#2a3f5f\"}, \"marker\": {\"line\": {\"color\": \"#E5ECF6\", \"width\": 0.5}}, \"type\": \"bar\"}], \"barpolar\": [{\"marker\": {\"line\": {\"color\": \"#E5ECF6\", \"width\": 0.5}}, \"type\": \"barpolar\"}], \"carpet\": [{\"aaxis\": {\"endlinecolor\": \"#2a3f5f\", \"gridcolor\": \"white\", \"linecolor\": \"white\", \"minorgridcolor\": \"white\", \"startlinecolor\": \"#2a3f5f\"}, \"baxis\": {\"endlinecolor\": \"#2a3f5f\", \"gridcolor\": \"white\", \"linecolor\": \"white\", \"minorgridcolor\": \"white\", \"startlinecolor\": \"#2a3f5f\"}, \"type\": \"carpet\"}], \"choropleth\": [{\"colorbar\": {\"outlinewidth\": 0, \"ticks\": \"\"}, \"type\": \"choropleth\"}], \"contour\": [{\"colorbar\": {\"outlinewidth\": 0, \"ticks\": \"\"}, \"colorscale\": [[0.0, \"#0d0887\"], [0.1111111111111111, \"#46039f\"], [0.2222222222222222, \"#7201a8\"], [0.3333333333333333, \"#9c179e\"], [0.4444444444444444, \"#bd3786\"], [0.5555555555555556, \"#d8576b\"], [0.6666666666666666, \"#ed7953\"], [0.7777777777777778, \"#fb9f3a\"], [0.8888888888888888, \"#fdca26\"], [1.0, \"#f0f921\"]], \"type\": \"contour\"}], \"contourcarpet\": [{\"colorbar\": {\"outlinewidth\": 0, \"ticks\": \"\"}, \"type\": \"contourcarpet\"}], \"heatmap\": [{\"colorbar\": {\"outlinewidth\": 0, \"ticks\": \"\"}, \"colorscale\": [[0.0, \"#0d0887\"], [0.1111111111111111, \"#46039f\"], [0.2222222222222222, \"#7201a8\"], [0.3333333333333333, \"#9c179e\"], [0.4444444444444444, \"#bd3786\"], [0.5555555555555556, \"#d8576b\"], [0.6666666666666666, \"#ed7953\"], [0.7777777777777778, \"#fb9f3a\"], [0.8888888888888888, \"#fdca26\"], [1.0, \"#f0f921\"]], \"type\": \"heatmap\"}], \"heatmapgl\": [{\"colorbar\": {\"outlinewidth\": 0, \"ticks\": \"\"}, \"colorscale\": [[0.0, \"#0d0887\"], [0.1111111111111111, \"#46039f\"], [0.2222222222222222, \"#7201a8\"], [0.3333333333333333, \"#9c179e\"], [0.4444444444444444, \"#bd3786\"], [0.5555555555555556, \"#d8576b\"], [0.6666666666666666, \"#ed7953\"], [0.7777777777777778, \"#fb9f3a\"], [0.8888888888888888, \"#fdca26\"], [1.0, \"#f0f921\"]], \"type\": \"heatmapgl\"}], \"histogram\": [{\"marker\": {\"colorbar\": {\"outlinewidth\": 0, \"ticks\": \"\"}}, \"type\": \"histogram\"}], \"histogram2d\": [{\"colorbar\": {\"outlinewidth\": 0, \"ticks\": \"\"}, \"colorscale\": [[0.0, \"#0d0887\"], [0.1111111111111111, \"#46039f\"], [0.2222222222222222, \"#7201a8\"], [0.3333333333333333, \"#9c179e\"], [0.4444444444444444, \"#bd3786\"], [0.5555555555555556, \"#d8576b\"], [0.6666666666666666, \"#ed7953\"], [0.7777777777777778, \"#fb9f3a\"], [0.8888888888888888, \"#fdca26\"], [1.0, \"#f0f921\"]], \"type\": \"histogram2d\"}], \"histogram2dcontour\": [{\"colorbar\": {\"outlinewidth\": 0, \"ticks\": \"\"}, \"colorscale\": [[0.0, \"#0d0887\"], [0.1111111111111111, \"#46039f\"], [0.2222222222222222, \"#7201a8\"], [0.3333333333333333, \"#9c179e\"], [0.4444444444444444, \"#bd3786\"], [0.5555555555555556, \"#d8576b\"], [0.6666666666666666, \"#ed7953\"], [0.7777777777777778, \"#fb9f3a\"], [0.8888888888888888, \"#fdca26\"], [1.0, \"#f0f921\"]], \"type\": \"histogram2dcontour\"}], \"mesh3d\": [{\"colorbar\": {\"outlinewidth\": 0, \"ticks\": \"\"}, \"type\": \"mesh3d\"}], \"parcoords\": [{\"line\": {\"colorbar\": {\"outlinewidth\": 0, \"ticks\": \"\"}}, \"type\": \"parcoords\"}], \"pie\": [{\"automargin\": true, \"type\": \"pie\"}], \"scatter\": [{\"marker\": {\"colorbar\": {\"outlinewidth\": 0, \"ticks\": \"\"}}, \"type\": \"scatter\"}], \"scatter3d\": [{\"line\": {\"colorbar\": {\"outlinewidth\": 0, \"ticks\": \"\"}}, \"marker\": {\"colorbar\": {\"outlinewidth\": 0, \"ticks\": \"\"}}, \"type\": \"scatter3d\"}], \"scattercarpet\": [{\"marker\": {\"colorbar\": {\"outlinewidth\": 0, \"ticks\": \"\"}}, \"type\": \"scattercarpet\"}], \"scattergeo\": [{\"marker\": {\"colorbar\": {\"outlinewidth\": 0, \"ticks\": \"\"}}, \"type\": \"scattergeo\"}], \"scattergl\": [{\"marker\": {\"colorbar\": {\"outlinewidth\": 0, \"ticks\": \"\"}}, \"type\": \"scattergl\"}], \"scattermapbox\": [{\"marker\": {\"colorbar\": {\"outlinewidth\": 0, \"ticks\": \"\"}}, \"type\": \"scattermapbox\"}], \"scatterpolar\": [{\"marker\": {\"colorbar\": {\"outlinewidth\": 0, \"ticks\": \"\"}}, \"type\": \"scatterpolar\"}], \"scatterpolargl\": [{\"marker\": {\"colorbar\": {\"outlinewidth\": 0, \"ticks\": \"\"}}, \"type\": \"scatterpolargl\"}], \"scatterternary\": [{\"marker\": {\"colorbar\": {\"outlinewidth\": 0, \"ticks\": \"\"}}, \"type\": \"scatterternary\"}], \"surface\": [{\"colorbar\": {\"outlinewidth\": 0, \"ticks\": \"\"}, \"colorscale\": [[0.0, \"#0d0887\"], [0.1111111111111111, \"#46039f\"], [0.2222222222222222, \"#7201a8\"], [0.3333333333333333, \"#9c179e\"], [0.4444444444444444, \"#bd3786\"], [0.5555555555555556, \"#d8576b\"], [0.6666666666666666, \"#ed7953\"], [0.7777777777777778, \"#fb9f3a\"], [0.8888888888888888, \"#fdca26\"], [1.0, \"#f0f921\"]], \"type\": \"surface\"}], \"table\": [{\"cells\": {\"fill\": {\"color\": \"#EBF0F8\"}, \"line\": {\"color\": \"white\"}}, \"header\": {\"fill\": {\"color\": \"#C8D4E3\"}, \"line\": {\"color\": \"white\"}}, \"type\": \"table\"}]}, \"layout\": {\"annotationdefaults\": {\"arrowcolor\": \"#2a3f5f\", \"arrowhead\": 0, \"arrowwidth\": 1}, \"coloraxis\": {\"colorbar\": {\"outlinewidth\": 0, \"ticks\": \"\"}}, \"colorscale\": {\"diverging\": [[0, \"#8e0152\"], [0.1, \"#c51b7d\"], [0.2, \"#de77ae\"], [0.3, \"#f1b6da\"], [0.4, \"#fde0ef\"], [0.5, \"#f7f7f7\"], [0.6, \"#e6f5d0\"], [0.7, \"#b8e186\"], [0.8, \"#7fbc41\"], [0.9, \"#4d9221\"], [1, \"#276419\"]], \"sequential\": [[0.0, \"#0d0887\"], [0.1111111111111111, \"#46039f\"], [0.2222222222222222, \"#7201a8\"], [0.3333333333333333, \"#9c179e\"], [0.4444444444444444, \"#bd3786\"], [0.5555555555555556, \"#d8576b\"], [0.6666666666666666, \"#ed7953\"], [0.7777777777777778, \"#fb9f3a\"], [0.8888888888888888, \"#fdca26\"], [1.0, \"#f0f921\"]], \"sequentialminus\": [[0.0, \"#0d0887\"], [0.1111111111111111, \"#46039f\"], [0.2222222222222222, \"#7201a8\"], [0.3333333333333333, \"#9c179e\"], [0.4444444444444444, \"#bd3786\"], [0.5555555555555556, \"#d8576b\"], [0.6666666666666666, \"#ed7953\"], [0.7777777777777778, \"#fb9f3a\"], [0.8888888888888888, \"#fdca26\"], [1.0, \"#f0f921\"]]}, \"colorway\": [\"#636efa\", \"#EF553B\", \"#00cc96\", \"#ab63fa\", \"#FFA15A\", \"#19d3f3\", \"#FF6692\", \"#B6E880\", \"#FF97FF\", \"#FECB52\"], \"font\": {\"color\": \"#2a3f5f\"}, \"geo\": {\"bgcolor\": \"white\", \"lakecolor\": \"white\", \"landcolor\": \"#E5ECF6\", \"showlakes\": true, \"showland\": true, \"subunitcolor\": \"white\"}, \"hoverlabel\": {\"align\": \"left\"}, \"hovermode\": \"closest\", \"mapbox\": {\"style\": \"light\"}, \"paper_bgcolor\": \"white\", \"plot_bgcolor\": \"#E5ECF6\", \"polar\": {\"angularaxis\": {\"gridcolor\": \"white\", \"linecolor\": \"white\", \"ticks\": \"\"}, \"bgcolor\": \"#E5ECF6\", \"radialaxis\": {\"gridcolor\": \"white\", \"linecolor\": \"white\", \"ticks\": \"\"}}, \"scene\": {\"xaxis\": {\"backgroundcolor\": \"#E5ECF6\", \"gridcolor\": \"white\", \"gridwidth\": 2, \"linecolor\": \"white\", \"showbackground\": true, \"ticks\": \"\", \"zerolinecolor\": \"white\"}, \"yaxis\": {\"backgroundcolor\": \"#E5ECF6\", \"gridcolor\": \"white\", \"gridwidth\": 2, \"linecolor\": \"white\", \"showbackground\": true, \"ticks\": \"\", \"zerolinecolor\": \"white\"}, \"zaxis\": {\"backgroundcolor\": \"#E5ECF6\", \"gridcolor\": \"white\", \"gridwidth\": 2, \"linecolor\": \"white\", \"showbackground\": true, \"ticks\": \"\", \"zerolinecolor\": \"white\"}}, \"shapedefaults\": {\"line\": {\"color\": \"#2a3f5f\"}}, \"ternary\": {\"aaxis\": {\"gridcolor\": \"white\", \"linecolor\": \"white\", \"ticks\": \"\"}, \"baxis\": {\"gridcolor\": \"white\", \"linecolor\": \"white\", \"ticks\": \"\"}, \"bgcolor\": \"#E5ECF6\", \"caxis\": {\"gridcolor\": \"white\", \"linecolor\": \"white\", \"ticks\": \"\"}}, \"title\": {\"x\": 0.05}, \"xaxis\": {\"automargin\": true, \"gridcolor\": \"white\", \"linecolor\": \"white\", \"ticks\": \"\", \"title\": {\"standoff\": 15}, \"zerolinecolor\": \"white\", \"zerolinewidth\": 2}, \"yaxis\": {\"automargin\": true, \"gridcolor\": \"white\", \"linecolor\": \"white\", \"ticks\": \"\", \"title\": {\"standoff\": 15}, \"zerolinecolor\": \"white\", \"zerolinewidth\": 2}}}, \"title\": {\"font\": {\"color\": \"#4D5663\"}}, \"xaxis\": {\"gridcolor\": \"#E1E5ED\", \"showgrid\": true, \"tickfont\": {\"color\": \"#4D5663\"}, \"title\": {\"font\": {\"color\": \"#4D5663\"}, \"text\": \"\"}, \"zerolinecolor\": \"#E1E5ED\"}, \"yaxis\": {\"gridcolor\": \"#E1E5ED\", \"showgrid\": true, \"tickfont\": {\"color\": \"#4D5663\"}, \"title\": {\"font\": {\"color\": \"#4D5663\"}, \"text\": \"\"}, \"zerolinecolor\": \"#E1E5ED\"}},                        {\"showLink\": true, \"linkText\": \"Export to plot.ly\", \"plotlyServerURL\": \"https://plot.ly\", \"responsive\": true}                    ).then(function(){\n",
       "                            \n",
       "var gd = document.getElementById('9946ef11-dec4-4c3a-861c-263e8543f948');\n",
       "var x = new MutationObserver(function (mutations, observer) {{\n",
       "        var display = window.getComputedStyle(gd).display;\n",
       "        if (!display || display === 'none') {{\n",
       "            console.log([gd, 'removed!']);\n",
       "            Plotly.purge(gd);\n",
       "            observer.disconnect();\n",
       "        }}\n",
       "}});\n",
       "\n",
       "// Listen for the removal of the full notebook cells\n",
       "var notebookContainer = gd.closest('#notebook-container');\n",
       "if (notebookContainer) {{\n",
       "    x.observe(notebookContainer, {childList: true});\n",
       "}}\n",
       "\n",
       "// Listen for the clearing of the current output cell\n",
       "var outputEl = gd.closest('.output');\n",
       "if (outputEl) {{\n",
       "    x.observe(outputEl, {childList: true});\n",
       "}}\n",
       "\n",
       "                        })                };                });            </script>        </div>"
      ]
     },
     "metadata": {},
     "output_type": "display_data"
    }
   ],
   "source": [
    "titanic.iplot(kind='bar',x='survived',y='pclass');"
   ]
  },
  {
   "cell_type": "markdown",
   "metadata": {},
   "source": [
    "### Scatter Plot"
   ]
  },
  {
   "cell_type": "code",
   "execution_count": 25,
   "metadata": {},
   "outputs": [
    {
     "data": {
      "application/vnd.plotly.v1+json": {
       "config": {
        "linkText": "Export to plot.ly",
        "plotlyServerURL": "https://plot.ly",
        "showLink": true
       },
       "data": [
        {
         "line": {
          "color": "rgba(255, 153, 51, 1.0)",
          "dash": "solid",
          "shape": "linear",
          "width": 1.3
         },
         "marker": {
          "size": 15,
          "symbol": "circle"
         },
         "mode": "markers",
         "name": "B",
         "text": "",
         "type": "scatter",
         "x": [
          0.8044864774287241,
          -0.9481510423908883,
          2.1161350125328893,
          -1.3638225018741512,
          1.843275784856714,
          -1.7485319087132714,
          0.019641782607167837,
          -1.3419230890825473,
          0.5002851311201935,
          1.7756534615326307,
          -1.5137689091411979,
          -0.6368965213801283,
          -0.4504836130030108,
          0.8223196594555584,
          -0.5668391872668452,
          0.28377158462026636,
          0.20920576519190212,
          -0.2853904827657341,
          -0.17119499296719892,
          0.3165555874193085,
          -0.04344304258750354,
          -1.6359451121334614,
          1.2297443818240892,
          0.3977701824683929,
          -0.6199429502095049,
          -0.5434986071672341,
          0.5966658633710911,
          -0.9852456719148055,
          -1.2854772280293154,
          1.6982773489170202,
          0.4917482763196713,
          -0.39007947446503893,
          0.10440829344675284,
          0.029959384510654757,
          1.8981150473853043,
          0.11224329769735449,
          0.16958490769530116,
          -1.0090664485461647,
          1.1420713489721033,
          -0.08440134014658718,
          -0.29591835801983263,
          -0.8338161349177546,
          0.4022410759931213,
          -0.09378837014273535,
          2.6294839606173075,
          -1.8389518962689346,
          -0.29174947495237014,
          0.9030605580213567,
          -0.6932451617990796,
          0.6034772327037836,
          -0.43966887835365115,
          -0.7020155628235437,
          0.4358997795514861,
          -0.8674103933488719,
          -0.0918369002124646,
          -1.1704813015761089,
          -1.485349686062648,
          -0.3845514538641442,
          -0.46603745412132286,
          1.4430100047158019,
          1.3141586177413886,
          0.20470553419963025,
          1.773014947883199,
          0.8343339136849154,
          0.8977775936652503,
          0.7747413841441109,
          -0.22299326188335347,
          -0.883794978630215,
          2.234388870676288,
          0.06021174574722974,
          0.6889431202394805,
          1.0767787342659982,
          0.4826885360517074,
          -1.3130029382256718,
          1.0590237369225428,
          0.4037213324474893,
          0.3045309914434343,
          1.6667495172080453,
          -0.850345536251703,
          -1.1913249201442142,
          -0.6669592472067115,
          -0.7523429984195517,
          0.8023647436386182,
          1.3605623973050855,
          2.083286190157904,
          0.05508675603563289,
          -0.5100089643770411,
          -1.7149273009046366,
          -0.6118769379222307,
          -2.9116624537552864,
          0.513916260938284,
          -0.4862353539068187,
          0.3189358485777468,
          1.5911437180710455,
          -2.1718658217069904,
          -0.07096115996856431,
          1.5501228178069633,
          0.07764264026662375,
          1.8097817272032244,
          -2.644102123835663
         ],
         "y": [
          -0.43410269779590144,
          -0.4555614475370614,
          0.5176068913521863,
          -0.2201856042059788,
          0.7242319396241198,
          -0.43108813976885796,
          0.25051323212230053,
          0.115786764079762,
          -0.05306888817844119,
          0.26794552710288705,
          -0.6790175164388548,
          0.5482879547153879,
          0.5228708258609674,
          0.2992033400209017,
          0.049066090332094366,
          -0.22468566558148392,
          -0.8101875845344977,
          -0.3454506572557632,
          0.32804549581812986,
          -1.2347372977765778,
          0.9742617146899739,
          0.8985367217809102,
          0.2758668900806672,
          -0.03991778128800362,
          0.5594554600328423,
          0.7373003561584219,
          0.27451390695058897,
          0.6976289260272461,
          0.32663832911693647,
          0.7628218976841893,
          -0.2608070928282954,
          -0.5146592954590046,
          1.9060095192951154,
          2.010745805923577,
          -1.96298586250898,
          -1.1544211492703425,
          1.808908280232178,
          -0.03461893387673593,
          -0.13269694561568432,
          1.2465208589234649,
          -0.4682696810329029,
          -0.16661583794871268,
          -1.6372717466544358,
          -0.4336974207373278,
          -0.5263169496035581,
          1.6134305410761696,
          0.5375785860301046,
          -0.7063059523886868,
          -0.08742558571346763,
          0.4821507580979392,
          -0.8990165341679056,
          0.38321915650915717,
          0.7423161103060311,
          1.2313060957281705,
          1.9856557724366857,
          1.0821988520204493,
          -0.7466618095854451,
          0.629040466764736,
          -0.4823326456135654,
          2.7490781272322296,
          0.8012449112581967,
          1.8190775804088608,
          -1.4955775599104129,
          0.7755581280783765,
          0.4786688696298884,
          0.37290407291698097,
          0.3326903476159306,
          0.9233357658276374,
          -0.032119544524130225,
          -0.5351270604371191,
          -0.14712955543618636,
          0.3231934174318966,
          0.7942546322839973,
          -1.2495924093637072,
          -0.7182878506608857,
          -0.9024221251217006,
          -1.8590372235363215,
          -0.18596480888861117,
          0.4952962821104375,
          0.7663780588049834,
          0.750327437984539,
          -0.9167075221920621,
          -1.4372995517066565,
          -1.10919826570545,
          0.5886280647822731,
          -1.1220490019720488,
          2.2294694141838862,
          1.2532288659970512,
          -0.38572117603426015,
          -0.6858806771800992,
          0.28722903716124615,
          -0.5837954459766008,
          -0.4391801157742352,
          0.07204523589768022,
          1.7569991188244072,
          -0.6115524855110406,
          -0.5548645380988806,
          1.212503241540441,
          0.3779869875666681,
          0.7319963648223098
         ]
        }
       ],
       "layout": {
        "legend": {
         "bgcolor": "#F5F6F9",
         "font": {
          "color": "#4D5663"
         }
        },
        "paper_bgcolor": "#F5F6F9",
        "plot_bgcolor": "#F5F6F9",
        "template": {
         "data": {
          "bar": [
           {
            "error_x": {
             "color": "#2a3f5f"
            },
            "error_y": {
             "color": "#2a3f5f"
            },
            "marker": {
             "line": {
              "color": "#E5ECF6",
              "width": 0.5
             }
            },
            "type": "bar"
           }
          ],
          "barpolar": [
           {
            "marker": {
             "line": {
              "color": "#E5ECF6",
              "width": 0.5
             }
            },
            "type": "barpolar"
           }
          ],
          "carpet": [
           {
            "aaxis": {
             "endlinecolor": "#2a3f5f",
             "gridcolor": "white",
             "linecolor": "white",
             "minorgridcolor": "white",
             "startlinecolor": "#2a3f5f"
            },
            "baxis": {
             "endlinecolor": "#2a3f5f",
             "gridcolor": "white",
             "linecolor": "white",
             "minorgridcolor": "white",
             "startlinecolor": "#2a3f5f"
            },
            "type": "carpet"
           }
          ],
          "choropleth": [
           {
            "colorbar": {
             "outlinewidth": 0,
             "ticks": ""
            },
            "type": "choropleth"
           }
          ],
          "contour": [
           {
            "colorbar": {
             "outlinewidth": 0,
             "ticks": ""
            },
            "colorscale": [
             [
              0,
              "#0d0887"
             ],
             [
              0.1111111111111111,
              "#46039f"
             ],
             [
              0.2222222222222222,
              "#7201a8"
             ],
             [
              0.3333333333333333,
              "#9c179e"
             ],
             [
              0.4444444444444444,
              "#bd3786"
             ],
             [
              0.5555555555555556,
              "#d8576b"
             ],
             [
              0.6666666666666666,
              "#ed7953"
             ],
             [
              0.7777777777777778,
              "#fb9f3a"
             ],
             [
              0.8888888888888888,
              "#fdca26"
             ],
             [
              1,
              "#f0f921"
             ]
            ],
            "type": "contour"
           }
          ],
          "contourcarpet": [
           {
            "colorbar": {
             "outlinewidth": 0,
             "ticks": ""
            },
            "type": "contourcarpet"
           }
          ],
          "heatmap": [
           {
            "colorbar": {
             "outlinewidth": 0,
             "ticks": ""
            },
            "colorscale": [
             [
              0,
              "#0d0887"
             ],
             [
              0.1111111111111111,
              "#46039f"
             ],
             [
              0.2222222222222222,
              "#7201a8"
             ],
             [
              0.3333333333333333,
              "#9c179e"
             ],
             [
              0.4444444444444444,
              "#bd3786"
             ],
             [
              0.5555555555555556,
              "#d8576b"
             ],
             [
              0.6666666666666666,
              "#ed7953"
             ],
             [
              0.7777777777777778,
              "#fb9f3a"
             ],
             [
              0.8888888888888888,
              "#fdca26"
             ],
             [
              1,
              "#f0f921"
             ]
            ],
            "type": "heatmap"
           }
          ],
          "heatmapgl": [
           {
            "colorbar": {
             "outlinewidth": 0,
             "ticks": ""
            },
            "colorscale": [
             [
              0,
              "#0d0887"
             ],
             [
              0.1111111111111111,
              "#46039f"
             ],
             [
              0.2222222222222222,
              "#7201a8"
             ],
             [
              0.3333333333333333,
              "#9c179e"
             ],
             [
              0.4444444444444444,
              "#bd3786"
             ],
             [
              0.5555555555555556,
              "#d8576b"
             ],
             [
              0.6666666666666666,
              "#ed7953"
             ],
             [
              0.7777777777777778,
              "#fb9f3a"
             ],
             [
              0.8888888888888888,
              "#fdca26"
             ],
             [
              1,
              "#f0f921"
             ]
            ],
            "type": "heatmapgl"
           }
          ],
          "histogram": [
           {
            "marker": {
             "colorbar": {
              "outlinewidth": 0,
              "ticks": ""
             }
            },
            "type": "histogram"
           }
          ],
          "histogram2d": [
           {
            "colorbar": {
             "outlinewidth": 0,
             "ticks": ""
            },
            "colorscale": [
             [
              0,
              "#0d0887"
             ],
             [
              0.1111111111111111,
              "#46039f"
             ],
             [
              0.2222222222222222,
              "#7201a8"
             ],
             [
              0.3333333333333333,
              "#9c179e"
             ],
             [
              0.4444444444444444,
              "#bd3786"
             ],
             [
              0.5555555555555556,
              "#d8576b"
             ],
             [
              0.6666666666666666,
              "#ed7953"
             ],
             [
              0.7777777777777778,
              "#fb9f3a"
             ],
             [
              0.8888888888888888,
              "#fdca26"
             ],
             [
              1,
              "#f0f921"
             ]
            ],
            "type": "histogram2d"
           }
          ],
          "histogram2dcontour": [
           {
            "colorbar": {
             "outlinewidth": 0,
             "ticks": ""
            },
            "colorscale": [
             [
              0,
              "#0d0887"
             ],
             [
              0.1111111111111111,
              "#46039f"
             ],
             [
              0.2222222222222222,
              "#7201a8"
             ],
             [
              0.3333333333333333,
              "#9c179e"
             ],
             [
              0.4444444444444444,
              "#bd3786"
             ],
             [
              0.5555555555555556,
              "#d8576b"
             ],
             [
              0.6666666666666666,
              "#ed7953"
             ],
             [
              0.7777777777777778,
              "#fb9f3a"
             ],
             [
              0.8888888888888888,
              "#fdca26"
             ],
             [
              1,
              "#f0f921"
             ]
            ],
            "type": "histogram2dcontour"
           }
          ],
          "mesh3d": [
           {
            "colorbar": {
             "outlinewidth": 0,
             "ticks": ""
            },
            "type": "mesh3d"
           }
          ],
          "parcoords": [
           {
            "line": {
             "colorbar": {
              "outlinewidth": 0,
              "ticks": ""
             }
            },
            "type": "parcoords"
           }
          ],
          "pie": [
           {
            "automargin": true,
            "type": "pie"
           }
          ],
          "scatter": [
           {
            "marker": {
             "colorbar": {
              "outlinewidth": 0,
              "ticks": ""
             }
            },
            "type": "scatter"
           }
          ],
          "scatter3d": [
           {
            "line": {
             "colorbar": {
              "outlinewidth": 0,
              "ticks": ""
             }
            },
            "marker": {
             "colorbar": {
              "outlinewidth": 0,
              "ticks": ""
             }
            },
            "type": "scatter3d"
           }
          ],
          "scattercarpet": [
           {
            "marker": {
             "colorbar": {
              "outlinewidth": 0,
              "ticks": ""
             }
            },
            "type": "scattercarpet"
           }
          ],
          "scattergeo": [
           {
            "marker": {
             "colorbar": {
              "outlinewidth": 0,
              "ticks": ""
             }
            },
            "type": "scattergeo"
           }
          ],
          "scattergl": [
           {
            "marker": {
             "colorbar": {
              "outlinewidth": 0,
              "ticks": ""
             }
            },
            "type": "scattergl"
           }
          ],
          "scattermapbox": [
           {
            "marker": {
             "colorbar": {
              "outlinewidth": 0,
              "ticks": ""
             }
            },
            "type": "scattermapbox"
           }
          ],
          "scatterpolar": [
           {
            "marker": {
             "colorbar": {
              "outlinewidth": 0,
              "ticks": ""
             }
            },
            "type": "scatterpolar"
           }
          ],
          "scatterpolargl": [
           {
            "marker": {
             "colorbar": {
              "outlinewidth": 0,
              "ticks": ""
             }
            },
            "type": "scatterpolargl"
           }
          ],
          "scatterternary": [
           {
            "marker": {
             "colorbar": {
              "outlinewidth": 0,
              "ticks": ""
             }
            },
            "type": "scatterternary"
           }
          ],
          "surface": [
           {
            "colorbar": {
             "outlinewidth": 0,
             "ticks": ""
            },
            "colorscale": [
             [
              0,
              "#0d0887"
             ],
             [
              0.1111111111111111,
              "#46039f"
             ],
             [
              0.2222222222222222,
              "#7201a8"
             ],
             [
              0.3333333333333333,
              "#9c179e"
             ],
             [
              0.4444444444444444,
              "#bd3786"
             ],
             [
              0.5555555555555556,
              "#d8576b"
             ],
             [
              0.6666666666666666,
              "#ed7953"
             ],
             [
              0.7777777777777778,
              "#fb9f3a"
             ],
             [
              0.8888888888888888,
              "#fdca26"
             ],
             [
              1,
              "#f0f921"
             ]
            ],
            "type": "surface"
           }
          ],
          "table": [
           {
            "cells": {
             "fill": {
              "color": "#EBF0F8"
             },
             "line": {
              "color": "white"
             }
            },
            "header": {
             "fill": {
              "color": "#C8D4E3"
             },
             "line": {
              "color": "white"
             }
            },
            "type": "table"
           }
          ]
         },
         "layout": {
          "annotationdefaults": {
           "arrowcolor": "#2a3f5f",
           "arrowhead": 0,
           "arrowwidth": 1
          },
          "coloraxis": {
           "colorbar": {
            "outlinewidth": 0,
            "ticks": ""
           }
          },
          "colorscale": {
           "diverging": [
            [
             0,
             "#8e0152"
            ],
            [
             0.1,
             "#c51b7d"
            ],
            [
             0.2,
             "#de77ae"
            ],
            [
             0.3,
             "#f1b6da"
            ],
            [
             0.4,
             "#fde0ef"
            ],
            [
             0.5,
             "#f7f7f7"
            ],
            [
             0.6,
             "#e6f5d0"
            ],
            [
             0.7,
             "#b8e186"
            ],
            [
             0.8,
             "#7fbc41"
            ],
            [
             0.9,
             "#4d9221"
            ],
            [
             1,
             "#276419"
            ]
           ],
           "sequential": [
            [
             0,
             "#0d0887"
            ],
            [
             0.1111111111111111,
             "#46039f"
            ],
            [
             0.2222222222222222,
             "#7201a8"
            ],
            [
             0.3333333333333333,
             "#9c179e"
            ],
            [
             0.4444444444444444,
             "#bd3786"
            ],
            [
             0.5555555555555556,
             "#d8576b"
            ],
            [
             0.6666666666666666,
             "#ed7953"
            ],
            [
             0.7777777777777778,
             "#fb9f3a"
            ],
            [
             0.8888888888888888,
             "#fdca26"
            ],
            [
             1,
             "#f0f921"
            ]
           ],
           "sequentialminus": [
            [
             0,
             "#0d0887"
            ],
            [
             0.1111111111111111,
             "#46039f"
            ],
            [
             0.2222222222222222,
             "#7201a8"
            ],
            [
             0.3333333333333333,
             "#9c179e"
            ],
            [
             0.4444444444444444,
             "#bd3786"
            ],
            [
             0.5555555555555556,
             "#d8576b"
            ],
            [
             0.6666666666666666,
             "#ed7953"
            ],
            [
             0.7777777777777778,
             "#fb9f3a"
            ],
            [
             0.8888888888888888,
             "#fdca26"
            ],
            [
             1,
             "#f0f921"
            ]
           ]
          },
          "colorway": [
           "#636efa",
           "#EF553B",
           "#00cc96",
           "#ab63fa",
           "#FFA15A",
           "#19d3f3",
           "#FF6692",
           "#B6E880",
           "#FF97FF",
           "#FECB52"
          ],
          "font": {
           "color": "#2a3f5f"
          },
          "geo": {
           "bgcolor": "white",
           "lakecolor": "white",
           "landcolor": "#E5ECF6",
           "showlakes": true,
           "showland": true,
           "subunitcolor": "white"
          },
          "hoverlabel": {
           "align": "left"
          },
          "hovermode": "closest",
          "mapbox": {
           "style": "light"
          },
          "paper_bgcolor": "white",
          "plot_bgcolor": "#E5ECF6",
          "polar": {
           "angularaxis": {
            "gridcolor": "white",
            "linecolor": "white",
            "ticks": ""
           },
           "bgcolor": "#E5ECF6",
           "radialaxis": {
            "gridcolor": "white",
            "linecolor": "white",
            "ticks": ""
           }
          },
          "scene": {
           "xaxis": {
            "backgroundcolor": "#E5ECF6",
            "gridcolor": "white",
            "gridwidth": 2,
            "linecolor": "white",
            "showbackground": true,
            "ticks": "",
            "zerolinecolor": "white"
           },
           "yaxis": {
            "backgroundcolor": "#E5ECF6",
            "gridcolor": "white",
            "gridwidth": 2,
            "linecolor": "white",
            "showbackground": true,
            "ticks": "",
            "zerolinecolor": "white"
           },
           "zaxis": {
            "backgroundcolor": "#E5ECF6",
            "gridcolor": "white",
            "gridwidth": 2,
            "linecolor": "white",
            "showbackground": true,
            "ticks": "",
            "zerolinecolor": "white"
           }
          },
          "shapedefaults": {
           "line": {
            "color": "#2a3f5f"
           }
          },
          "ternary": {
           "aaxis": {
            "gridcolor": "white",
            "linecolor": "white",
            "ticks": ""
           },
           "baxis": {
            "gridcolor": "white",
            "linecolor": "white",
            "ticks": ""
           },
           "bgcolor": "#E5ECF6",
           "caxis": {
            "gridcolor": "white",
            "linecolor": "white",
            "ticks": ""
           }
          },
          "title": {
           "x": 0.05
          },
          "xaxis": {
           "automargin": true,
           "gridcolor": "white",
           "linecolor": "white",
           "ticks": "",
           "title": {
            "standoff": 15
           },
           "zerolinecolor": "white",
           "zerolinewidth": 2
          },
          "yaxis": {
           "automargin": true,
           "gridcolor": "white",
           "linecolor": "white",
           "ticks": "",
           "title": {
            "standoff": 15
           },
           "zerolinecolor": "white",
           "zerolinewidth": 2
          }
         }
        },
        "title": {
         "font": {
          "color": "#4D5663"
         },
         "text": "Scatter Plot"
        },
        "xaxis": {
         "gridcolor": "#E1E5ED",
         "showgrid": true,
         "tickfont": {
          "color": "#4D5663"
         },
         "title": {
          "font": {
           "color": "#4D5663"
          },
          "text": "X"
         },
         "zerolinecolor": "#E1E5ED"
        },
        "yaxis": {
         "gridcolor": "#E1E5ED",
         "showgrid": true,
         "tickfont": {
          "color": "#4D5663"
         },
         "title": {
          "font": {
           "color": "#4D5663"
          },
          "text": "Y"
         },
         "zerolinecolor": "#E1E5ED"
        }
       }
      },
      "text/html": [
       "<div>                            <div id=\"aa8bbd5d-6bbe-43a0-ba81-de75f2993aa0\" class=\"plotly-graph-div\" style=\"height:525px; width:100%;\"></div>            <script type=\"text/javascript\">                require([\"plotly\"], function(Plotly) {                    window.PLOTLYENV=window.PLOTLYENV || {};\n",
       "                    window.PLOTLYENV.BASE_URL='https://plot.ly';                                    if (document.getElementById(\"aa8bbd5d-6bbe-43a0-ba81-de75f2993aa0\")) {                    Plotly.newPlot(                        \"aa8bbd5d-6bbe-43a0-ba81-de75f2993aa0\",                        [{\"line\": {\"color\": \"rgba(255, 153, 51, 1.0)\", \"dash\": \"solid\", \"shape\": \"linear\", \"width\": 1.3}, \"marker\": {\"size\": 15, \"symbol\": \"circle\"}, \"mode\": \"markers\", \"name\": \"B\", \"text\": \"\", \"type\": \"scatter\", \"x\": [0.8044864774287241, -0.9481510423908883, 2.1161350125328893, -1.3638225018741512, 1.843275784856714, -1.7485319087132714, 0.019641782607167837, -1.3419230890825473, 0.5002851311201935, 1.7756534615326307, -1.5137689091411979, -0.6368965213801283, -0.4504836130030108, 0.8223196594555584, -0.5668391872668452, 0.28377158462026636, 0.20920576519190212, -0.2853904827657341, -0.17119499296719892, 0.3165555874193085, -0.04344304258750354, -1.6359451121334614, 1.2297443818240892, 0.3977701824683929, -0.6199429502095049, -0.5434986071672341, 0.5966658633710911, -0.9852456719148055, -1.2854772280293154, 1.6982773489170202, 0.4917482763196713, -0.39007947446503893, 0.10440829344675284, 0.029959384510654757, 1.8981150473853043, 0.11224329769735449, 0.16958490769530116, -1.0090664485461647, 1.1420713489721033, -0.08440134014658718, -0.29591835801983263, -0.8338161349177546, 0.4022410759931213, -0.09378837014273535, 2.6294839606173075, -1.8389518962689346, -0.29174947495237014, 0.9030605580213567, -0.6932451617990796, 0.6034772327037836, -0.43966887835365115, -0.7020155628235437, 0.4358997795514861, -0.8674103933488719, -0.0918369002124646, -1.1704813015761089, -1.485349686062648, -0.3845514538641442, -0.46603745412132286, 1.4430100047158019, 1.3141586177413886, 0.20470553419963025, 1.773014947883199, 0.8343339136849154, 0.8977775936652503, 0.7747413841441109, -0.22299326188335347, -0.883794978630215, 2.234388870676288, 0.06021174574722974, 0.6889431202394805, 1.0767787342659982, 0.4826885360517074, -1.3130029382256718, 1.0590237369225428, 0.4037213324474893, 0.3045309914434343, 1.6667495172080453, -0.850345536251703, -1.1913249201442142, -0.6669592472067115, -0.7523429984195517, 0.8023647436386182, 1.3605623973050855, 2.083286190157904, 0.05508675603563289, -0.5100089643770411, -1.7149273009046366, -0.6118769379222307, -2.9116624537552864, 0.513916260938284, -0.4862353539068187, 0.3189358485777468, 1.5911437180710455, -2.1718658217069904, -0.07096115996856431, 1.5501228178069633, 0.07764264026662375, 1.8097817272032244, -2.644102123835663], \"y\": [-0.43410269779590144, -0.4555614475370614, 0.5176068913521863, -0.2201856042059788, 0.7242319396241198, -0.43108813976885796, 0.25051323212230053, 0.115786764079762, -0.05306888817844119, 0.26794552710288705, -0.6790175164388548, 0.5482879547153879, 0.5228708258609674, 0.2992033400209017, 0.049066090332094366, -0.22468566558148392, -0.8101875845344977, -0.3454506572557632, 0.32804549581812986, -1.2347372977765778, 0.9742617146899739, 0.8985367217809102, 0.2758668900806672, -0.03991778128800362, 0.5594554600328423, 0.7373003561584219, 0.27451390695058897, 0.6976289260272461, 0.32663832911693647, 0.7628218976841893, -0.2608070928282954, -0.5146592954590046, 1.9060095192951154, 2.010745805923577, -1.96298586250898, -1.1544211492703425, 1.808908280232178, -0.03461893387673593, -0.13269694561568432, 1.2465208589234649, -0.4682696810329029, -0.16661583794871268, -1.6372717466544358, -0.4336974207373278, -0.5263169496035581, 1.6134305410761696, 0.5375785860301046, -0.7063059523886868, -0.08742558571346763, 0.4821507580979392, -0.8990165341679056, 0.38321915650915717, 0.7423161103060311, 1.2313060957281705, 1.9856557724366857, 1.0821988520204493, -0.7466618095854451, 0.629040466764736, -0.4823326456135654, 2.7490781272322296, 0.8012449112581967, 1.8190775804088608, -1.4955775599104129, 0.7755581280783765, 0.4786688696298884, 0.37290407291698097, 0.3326903476159306, 0.9233357658276374, -0.032119544524130225, -0.5351270604371191, -0.14712955543618636, 0.3231934174318966, 0.7942546322839973, -1.2495924093637072, -0.7182878506608857, -0.9024221251217006, -1.8590372235363215, -0.18596480888861117, 0.4952962821104375, 0.7663780588049834, 0.750327437984539, -0.9167075221920621, -1.4372995517066565, -1.10919826570545, 0.5886280647822731, -1.1220490019720488, 2.2294694141838862, 1.2532288659970512, -0.38572117603426015, -0.6858806771800992, 0.28722903716124615, -0.5837954459766008, -0.4391801157742352, 0.07204523589768022, 1.7569991188244072, -0.6115524855110406, -0.5548645380988806, 1.212503241540441, 0.3779869875666681, 0.7319963648223098]}],                        {\"legend\": {\"bgcolor\": \"#F5F6F9\", \"font\": {\"color\": \"#4D5663\"}}, \"paper_bgcolor\": \"#F5F6F9\", \"plot_bgcolor\": \"#F5F6F9\", \"template\": {\"data\": {\"bar\": [{\"error_x\": {\"color\": \"#2a3f5f\"}, \"error_y\": {\"color\": \"#2a3f5f\"}, \"marker\": {\"line\": {\"color\": \"#E5ECF6\", \"width\": 0.5}}, \"type\": \"bar\"}], \"barpolar\": [{\"marker\": {\"line\": {\"color\": \"#E5ECF6\", \"width\": 0.5}}, \"type\": \"barpolar\"}], \"carpet\": [{\"aaxis\": {\"endlinecolor\": \"#2a3f5f\", \"gridcolor\": \"white\", \"linecolor\": \"white\", \"minorgridcolor\": \"white\", \"startlinecolor\": \"#2a3f5f\"}, \"baxis\": {\"endlinecolor\": \"#2a3f5f\", \"gridcolor\": \"white\", \"linecolor\": \"white\", \"minorgridcolor\": \"white\", \"startlinecolor\": \"#2a3f5f\"}, \"type\": \"carpet\"}], \"choropleth\": [{\"colorbar\": {\"outlinewidth\": 0, \"ticks\": \"\"}, \"type\": \"choropleth\"}], \"contour\": [{\"colorbar\": {\"outlinewidth\": 0, \"ticks\": \"\"}, \"colorscale\": [[0.0, \"#0d0887\"], [0.1111111111111111, \"#46039f\"], [0.2222222222222222, \"#7201a8\"], [0.3333333333333333, \"#9c179e\"], [0.4444444444444444, \"#bd3786\"], [0.5555555555555556, \"#d8576b\"], [0.6666666666666666, \"#ed7953\"], [0.7777777777777778, \"#fb9f3a\"], [0.8888888888888888, \"#fdca26\"], [1.0, \"#f0f921\"]], \"type\": \"contour\"}], \"contourcarpet\": [{\"colorbar\": {\"outlinewidth\": 0, \"ticks\": \"\"}, \"type\": \"contourcarpet\"}], \"heatmap\": [{\"colorbar\": {\"outlinewidth\": 0, \"ticks\": \"\"}, \"colorscale\": [[0.0, \"#0d0887\"], [0.1111111111111111, \"#46039f\"], [0.2222222222222222, \"#7201a8\"], [0.3333333333333333, \"#9c179e\"], [0.4444444444444444, \"#bd3786\"], [0.5555555555555556, \"#d8576b\"], [0.6666666666666666, \"#ed7953\"], [0.7777777777777778, \"#fb9f3a\"], [0.8888888888888888, \"#fdca26\"], [1.0, \"#f0f921\"]], \"type\": \"heatmap\"}], \"heatmapgl\": [{\"colorbar\": {\"outlinewidth\": 0, \"ticks\": \"\"}, \"colorscale\": [[0.0, \"#0d0887\"], [0.1111111111111111, \"#46039f\"], [0.2222222222222222, \"#7201a8\"], [0.3333333333333333, \"#9c179e\"], [0.4444444444444444, \"#bd3786\"], [0.5555555555555556, \"#d8576b\"], [0.6666666666666666, \"#ed7953\"], [0.7777777777777778, \"#fb9f3a\"], [0.8888888888888888, \"#fdca26\"], [1.0, \"#f0f921\"]], \"type\": \"heatmapgl\"}], \"histogram\": [{\"marker\": {\"colorbar\": {\"outlinewidth\": 0, \"ticks\": \"\"}}, \"type\": \"histogram\"}], \"histogram2d\": [{\"colorbar\": {\"outlinewidth\": 0, \"ticks\": \"\"}, \"colorscale\": [[0.0, \"#0d0887\"], [0.1111111111111111, \"#46039f\"], [0.2222222222222222, \"#7201a8\"], [0.3333333333333333, \"#9c179e\"], [0.4444444444444444, \"#bd3786\"], [0.5555555555555556, \"#d8576b\"], [0.6666666666666666, \"#ed7953\"], [0.7777777777777778, \"#fb9f3a\"], [0.8888888888888888, \"#fdca26\"], [1.0, \"#f0f921\"]], \"type\": \"histogram2d\"}], \"histogram2dcontour\": [{\"colorbar\": {\"outlinewidth\": 0, \"ticks\": \"\"}, \"colorscale\": [[0.0, \"#0d0887\"], [0.1111111111111111, \"#46039f\"], [0.2222222222222222, \"#7201a8\"], [0.3333333333333333, \"#9c179e\"], [0.4444444444444444, \"#bd3786\"], [0.5555555555555556, \"#d8576b\"], [0.6666666666666666, \"#ed7953\"], [0.7777777777777778, \"#fb9f3a\"], [0.8888888888888888, \"#fdca26\"], [1.0, \"#f0f921\"]], \"type\": \"histogram2dcontour\"}], \"mesh3d\": [{\"colorbar\": {\"outlinewidth\": 0, \"ticks\": \"\"}, \"type\": \"mesh3d\"}], \"parcoords\": [{\"line\": {\"colorbar\": {\"outlinewidth\": 0, \"ticks\": \"\"}}, \"type\": \"parcoords\"}], \"pie\": [{\"automargin\": true, \"type\": \"pie\"}], \"scatter\": [{\"marker\": {\"colorbar\": {\"outlinewidth\": 0, \"ticks\": \"\"}}, \"type\": \"scatter\"}], \"scatter3d\": [{\"line\": {\"colorbar\": {\"outlinewidth\": 0, \"ticks\": \"\"}}, \"marker\": {\"colorbar\": {\"outlinewidth\": 0, \"ticks\": \"\"}}, \"type\": \"scatter3d\"}], \"scattercarpet\": [{\"marker\": {\"colorbar\": {\"outlinewidth\": 0, \"ticks\": \"\"}}, \"type\": \"scattercarpet\"}], \"scattergeo\": [{\"marker\": {\"colorbar\": {\"outlinewidth\": 0, \"ticks\": \"\"}}, \"type\": \"scattergeo\"}], \"scattergl\": [{\"marker\": {\"colorbar\": {\"outlinewidth\": 0, \"ticks\": \"\"}}, \"type\": \"scattergl\"}], \"scattermapbox\": [{\"marker\": {\"colorbar\": {\"outlinewidth\": 0, \"ticks\": \"\"}}, \"type\": \"scattermapbox\"}], \"scatterpolar\": [{\"marker\": {\"colorbar\": {\"outlinewidth\": 0, \"ticks\": \"\"}}, \"type\": \"scatterpolar\"}], \"scatterpolargl\": [{\"marker\": {\"colorbar\": {\"outlinewidth\": 0, \"ticks\": \"\"}}, \"type\": \"scatterpolargl\"}], \"scatterternary\": [{\"marker\": {\"colorbar\": {\"outlinewidth\": 0, \"ticks\": \"\"}}, \"type\": \"scatterternary\"}], \"surface\": [{\"colorbar\": {\"outlinewidth\": 0, \"ticks\": \"\"}, \"colorscale\": [[0.0, \"#0d0887\"], [0.1111111111111111, \"#46039f\"], [0.2222222222222222, \"#7201a8\"], [0.3333333333333333, \"#9c179e\"], [0.4444444444444444, \"#bd3786\"], [0.5555555555555556, \"#d8576b\"], [0.6666666666666666, \"#ed7953\"], [0.7777777777777778, \"#fb9f3a\"], [0.8888888888888888, \"#fdca26\"], [1.0, \"#f0f921\"]], \"type\": \"surface\"}], \"table\": [{\"cells\": {\"fill\": {\"color\": \"#EBF0F8\"}, \"line\": {\"color\": \"white\"}}, \"header\": {\"fill\": {\"color\": \"#C8D4E3\"}, \"line\": {\"color\": \"white\"}}, \"type\": \"table\"}]}, \"layout\": {\"annotationdefaults\": {\"arrowcolor\": \"#2a3f5f\", \"arrowhead\": 0, \"arrowwidth\": 1}, \"coloraxis\": {\"colorbar\": {\"outlinewidth\": 0, \"ticks\": \"\"}}, \"colorscale\": {\"diverging\": [[0, \"#8e0152\"], [0.1, \"#c51b7d\"], [0.2, \"#de77ae\"], [0.3, \"#f1b6da\"], [0.4, \"#fde0ef\"], [0.5, \"#f7f7f7\"], [0.6, \"#e6f5d0\"], [0.7, \"#b8e186\"], [0.8, \"#7fbc41\"], [0.9, \"#4d9221\"], [1, \"#276419\"]], \"sequential\": [[0.0, \"#0d0887\"], [0.1111111111111111, \"#46039f\"], [0.2222222222222222, \"#7201a8\"], [0.3333333333333333, \"#9c179e\"], [0.4444444444444444, \"#bd3786\"], [0.5555555555555556, \"#d8576b\"], [0.6666666666666666, \"#ed7953\"], [0.7777777777777778, \"#fb9f3a\"], [0.8888888888888888, \"#fdca26\"], [1.0, \"#f0f921\"]], \"sequentialminus\": [[0.0, \"#0d0887\"], [0.1111111111111111, \"#46039f\"], [0.2222222222222222, \"#7201a8\"], [0.3333333333333333, \"#9c179e\"], [0.4444444444444444, \"#bd3786\"], [0.5555555555555556, \"#d8576b\"], [0.6666666666666666, \"#ed7953\"], [0.7777777777777778, \"#fb9f3a\"], [0.8888888888888888, \"#fdca26\"], [1.0, \"#f0f921\"]]}, \"colorway\": [\"#636efa\", \"#EF553B\", \"#00cc96\", \"#ab63fa\", \"#FFA15A\", \"#19d3f3\", \"#FF6692\", \"#B6E880\", \"#FF97FF\", \"#FECB52\"], \"font\": {\"color\": \"#2a3f5f\"}, \"geo\": {\"bgcolor\": \"white\", \"lakecolor\": \"white\", \"landcolor\": \"#E5ECF6\", \"showlakes\": true, \"showland\": true, \"subunitcolor\": \"white\"}, \"hoverlabel\": {\"align\": \"left\"}, \"hovermode\": \"closest\", \"mapbox\": {\"style\": \"light\"}, \"paper_bgcolor\": \"white\", \"plot_bgcolor\": \"#E5ECF6\", \"polar\": {\"angularaxis\": {\"gridcolor\": \"white\", \"linecolor\": \"white\", \"ticks\": \"\"}, \"bgcolor\": \"#E5ECF6\", \"radialaxis\": {\"gridcolor\": \"white\", \"linecolor\": \"white\", \"ticks\": \"\"}}, \"scene\": {\"xaxis\": {\"backgroundcolor\": \"#E5ECF6\", \"gridcolor\": \"white\", \"gridwidth\": 2, \"linecolor\": \"white\", \"showbackground\": true, \"ticks\": \"\", \"zerolinecolor\": \"white\"}, \"yaxis\": {\"backgroundcolor\": \"#E5ECF6\", \"gridcolor\": \"white\", \"gridwidth\": 2, \"linecolor\": \"white\", \"showbackground\": true, \"ticks\": \"\", \"zerolinecolor\": \"white\"}, \"zaxis\": {\"backgroundcolor\": \"#E5ECF6\", \"gridcolor\": \"white\", \"gridwidth\": 2, \"linecolor\": \"white\", \"showbackground\": true, \"ticks\": \"\", \"zerolinecolor\": \"white\"}}, \"shapedefaults\": {\"line\": {\"color\": \"#2a3f5f\"}}, \"ternary\": {\"aaxis\": {\"gridcolor\": \"white\", \"linecolor\": \"white\", \"ticks\": \"\"}, \"baxis\": {\"gridcolor\": \"white\", \"linecolor\": \"white\", \"ticks\": \"\"}, \"bgcolor\": \"#E5ECF6\", \"caxis\": {\"gridcolor\": \"white\", \"linecolor\": \"white\", \"ticks\": \"\"}}, \"title\": {\"x\": 0.05}, \"xaxis\": {\"automargin\": true, \"gridcolor\": \"white\", \"linecolor\": \"white\", \"ticks\": \"\", \"title\": {\"standoff\": 15}, \"zerolinecolor\": \"white\", \"zerolinewidth\": 2}, \"yaxis\": {\"automargin\": true, \"gridcolor\": \"white\", \"linecolor\": \"white\", \"ticks\": \"\", \"title\": {\"standoff\": 15}, \"zerolinecolor\": \"white\", \"zerolinewidth\": 2}}}, \"title\": {\"font\": {\"color\": \"#4D5663\"}, \"text\": \"Scatter Plot\"}, \"xaxis\": {\"gridcolor\": \"#E1E5ED\", \"showgrid\": true, \"tickfont\": {\"color\": \"#4D5663\"}, \"title\": {\"font\": {\"color\": \"#4D5663\"}, \"text\": \"X\"}, \"zerolinecolor\": \"#E1E5ED\"}, \"yaxis\": {\"gridcolor\": \"#E1E5ED\", \"showgrid\": true, \"tickfont\": {\"color\": \"#4D5663\"}, \"title\": {\"font\": {\"color\": \"#4D5663\"}, \"text\": \"Y\"}, \"zerolinecolor\": \"#E1E5ED\"}},                        {\"showLink\": true, \"linkText\": \"Export to plot.ly\", \"plotlyServerURL\": \"https://plot.ly\", \"responsive\": true}                    ).then(function(){\n",
       "                            \n",
       "var gd = document.getElementById('aa8bbd5d-6bbe-43a0-ba81-de75f2993aa0');\n",
       "var x = new MutationObserver(function (mutations, observer) {{\n",
       "        var display = window.getComputedStyle(gd).display;\n",
       "        if (!display || display === 'none') {{\n",
       "            console.log([gd, 'removed!']);\n",
       "            Plotly.purge(gd);\n",
       "            observer.disconnect();\n",
       "        }}\n",
       "}});\n",
       "\n",
       "// Listen for the removal of the full notebook cells\n",
       "var notebookContainer = gd.closest('#notebook-container');\n",
       "if (notebookContainer) {{\n",
       "    x.observe(notebookContainer, {childList: true});\n",
       "}}\n",
       "\n",
       "// Listen for the clearing of the current output cell\n",
       "var outputEl = gd.closest('.output');\n",
       "if (outputEl) {{\n",
       "    x.observe(outputEl, {childList: true});\n",
       "}}\n",
       "\n",
       "                        })                };                });            </script>        </div>"
      ]
     },
     "metadata": {},
     "output_type": "display_data"
    }
   ],
   "source": [
    "#Highly Interactive Scatter Plot\n",
    "df.iplot(x='A',y='B',title='Scatter Plot',mode='markers',size = 15,xTitle = 'X',yTitle = 'Y')"
   ]
  },
  {
   "cell_type": "code",
   "execution_count": 26,
   "metadata": {},
   "outputs": [
    {
     "data": {
      "application/vnd.plotly.v1+json": {
       "config": {
        "linkText": "Export to plot.ly",
        "plotlyServerURL": "https://plot.ly",
        "showLink": true
       },
       "data": [
        {
         "marker": {
          "color": "rgba(255, 153, 51, 0.6)",
          "line": {
           "color": "rgba(255, 153, 51, 1.0)",
           "width": 1
          }
         },
         "name": "A",
         "orientation": "v",
         "text": "",
         "type": "bar",
         "x": [
          0,
          1,
          2,
          3,
          4,
          5,
          6,
          7,
          8,
          9,
          10,
          11,
          12,
          13,
          14,
          15,
          16,
          17,
          18,
          19,
          20,
          21,
          22,
          23,
          24,
          25,
          26,
          27,
          28,
          29,
          30,
          31,
          32,
          33,
          34,
          35,
          36,
          37,
          38,
          39,
          40,
          41,
          42,
          43,
          44,
          45,
          46,
          47,
          48,
          49,
          50,
          51,
          52,
          53,
          54,
          55,
          56,
          57,
          58,
          59,
          60,
          61,
          62,
          63,
          64,
          65,
          66,
          67,
          68,
          69,
          70,
          71,
          72,
          73,
          74,
          75,
          76,
          77,
          78,
          79,
          80,
          81,
          82,
          83,
          84,
          85,
          86,
          87,
          88,
          89,
          90,
          91,
          92,
          93,
          94,
          95,
          96,
          97,
          98,
          99
         ],
         "y": [
          0.8044864774287241,
          -0.9481510423908883,
          2.1161350125328893,
          -1.3638225018741512,
          1.843275784856714,
          -1.7485319087132714,
          0.019641782607167837,
          -1.3419230890825473,
          0.5002851311201935,
          1.7756534615326307,
          -1.5137689091411979,
          -0.6368965213801283,
          -0.4504836130030108,
          0.8223196594555584,
          -0.5668391872668452,
          0.28377158462026636,
          0.20920576519190212,
          -0.2853904827657341,
          -0.17119499296719892,
          0.3165555874193085,
          -0.04344304258750354,
          -1.6359451121334614,
          1.2297443818240892,
          0.3977701824683929,
          -0.6199429502095049,
          -0.5434986071672341,
          0.5966658633710911,
          -0.9852456719148055,
          -1.2854772280293154,
          1.6982773489170202,
          0.4917482763196713,
          -0.39007947446503893,
          0.10440829344675284,
          0.029959384510654757,
          1.8981150473853043,
          0.11224329769735449,
          0.16958490769530116,
          -1.0090664485461647,
          1.1420713489721033,
          -0.08440134014658718,
          -0.29591835801983263,
          -0.8338161349177546,
          0.4022410759931213,
          -0.09378837014273535,
          2.6294839606173075,
          -1.8389518962689346,
          -0.29174947495237014,
          0.9030605580213567,
          -0.6932451617990796,
          0.6034772327037836,
          -0.43966887835365115,
          -0.7020155628235437,
          0.4358997795514861,
          -0.8674103933488719,
          -0.0918369002124646,
          -1.1704813015761089,
          -1.485349686062648,
          -0.3845514538641442,
          -0.46603745412132286,
          1.4430100047158019,
          1.3141586177413886,
          0.20470553419963025,
          1.773014947883199,
          0.8343339136849154,
          0.8977775936652503,
          0.7747413841441109,
          -0.22299326188335347,
          -0.883794978630215,
          2.234388870676288,
          0.06021174574722974,
          0.6889431202394805,
          1.0767787342659982,
          0.4826885360517074,
          -1.3130029382256718,
          1.0590237369225428,
          0.4037213324474893,
          0.3045309914434343,
          1.6667495172080453,
          -0.850345536251703,
          -1.1913249201442142,
          -0.6669592472067115,
          -0.7523429984195517,
          0.8023647436386182,
          1.3605623973050855,
          2.083286190157904,
          0.05508675603563289,
          -0.5100089643770411,
          -1.7149273009046366,
          -0.6118769379222307,
          -2.9116624537552864,
          0.513916260938284,
          -0.4862353539068187,
          0.3189358485777468,
          1.5911437180710455,
          -2.1718658217069904,
          -0.07096115996856431,
          1.5501228178069633,
          0.07764264026662375,
          1.8097817272032244,
          -2.644102123835663
         ]
        },
        {
         "marker": {
          "color": "rgba(55, 128, 191, 0.6)",
          "line": {
           "color": "rgba(55, 128, 191, 1.0)",
           "width": 1
          }
         },
         "name": "B",
         "orientation": "v",
         "text": "",
         "type": "bar",
         "x": [
          0,
          1,
          2,
          3,
          4,
          5,
          6,
          7,
          8,
          9,
          10,
          11,
          12,
          13,
          14,
          15,
          16,
          17,
          18,
          19,
          20,
          21,
          22,
          23,
          24,
          25,
          26,
          27,
          28,
          29,
          30,
          31,
          32,
          33,
          34,
          35,
          36,
          37,
          38,
          39,
          40,
          41,
          42,
          43,
          44,
          45,
          46,
          47,
          48,
          49,
          50,
          51,
          52,
          53,
          54,
          55,
          56,
          57,
          58,
          59,
          60,
          61,
          62,
          63,
          64,
          65,
          66,
          67,
          68,
          69,
          70,
          71,
          72,
          73,
          74,
          75,
          76,
          77,
          78,
          79,
          80,
          81,
          82,
          83,
          84,
          85,
          86,
          87,
          88,
          89,
          90,
          91,
          92,
          93,
          94,
          95,
          96,
          97,
          98,
          99
         ],
         "y": [
          -0.43410269779590144,
          -0.4555614475370614,
          0.5176068913521863,
          -0.2201856042059788,
          0.7242319396241198,
          -0.43108813976885796,
          0.25051323212230053,
          0.115786764079762,
          -0.05306888817844119,
          0.26794552710288705,
          -0.6790175164388548,
          0.5482879547153879,
          0.5228708258609674,
          0.2992033400209017,
          0.049066090332094366,
          -0.22468566558148392,
          -0.8101875845344977,
          -0.3454506572557632,
          0.32804549581812986,
          -1.2347372977765778,
          0.9742617146899739,
          0.8985367217809102,
          0.2758668900806672,
          -0.03991778128800362,
          0.5594554600328423,
          0.7373003561584219,
          0.27451390695058897,
          0.6976289260272461,
          0.32663832911693647,
          0.7628218976841893,
          -0.2608070928282954,
          -0.5146592954590046,
          1.9060095192951154,
          2.010745805923577,
          -1.96298586250898,
          -1.1544211492703425,
          1.808908280232178,
          -0.03461893387673593,
          -0.13269694561568432,
          1.2465208589234649,
          -0.4682696810329029,
          -0.16661583794871268,
          -1.6372717466544358,
          -0.4336974207373278,
          -0.5263169496035581,
          1.6134305410761696,
          0.5375785860301046,
          -0.7063059523886868,
          -0.08742558571346763,
          0.4821507580979392,
          -0.8990165341679056,
          0.38321915650915717,
          0.7423161103060311,
          1.2313060957281705,
          1.9856557724366857,
          1.0821988520204493,
          -0.7466618095854451,
          0.629040466764736,
          -0.4823326456135654,
          2.7490781272322296,
          0.8012449112581967,
          1.8190775804088608,
          -1.4955775599104129,
          0.7755581280783765,
          0.4786688696298884,
          0.37290407291698097,
          0.3326903476159306,
          0.9233357658276374,
          -0.032119544524130225,
          -0.5351270604371191,
          -0.14712955543618636,
          0.3231934174318966,
          0.7942546322839973,
          -1.2495924093637072,
          -0.7182878506608857,
          -0.9024221251217006,
          -1.8590372235363215,
          -0.18596480888861117,
          0.4952962821104375,
          0.7663780588049834,
          0.750327437984539,
          -0.9167075221920621,
          -1.4372995517066565,
          -1.10919826570545,
          0.5886280647822731,
          -1.1220490019720488,
          2.2294694141838862,
          1.2532288659970512,
          -0.38572117603426015,
          -0.6858806771800992,
          0.28722903716124615,
          -0.5837954459766008,
          -0.4391801157742352,
          0.07204523589768022,
          1.7569991188244072,
          -0.6115524855110406,
          -0.5548645380988806,
          1.212503241540441,
          0.3779869875666681,
          0.7319963648223098
         ]
        },
        {
         "marker": {
          "color": "rgba(50, 171, 96, 0.6)",
          "line": {
           "color": "rgba(50, 171, 96, 1.0)",
           "width": 1
          }
         },
         "name": "C",
         "orientation": "v",
         "text": "",
         "type": "bar",
         "x": [
          0,
          1,
          2,
          3,
          4,
          5,
          6,
          7,
          8,
          9,
          10,
          11,
          12,
          13,
          14,
          15,
          16,
          17,
          18,
          19,
          20,
          21,
          22,
          23,
          24,
          25,
          26,
          27,
          28,
          29,
          30,
          31,
          32,
          33,
          34,
          35,
          36,
          37,
          38,
          39,
          40,
          41,
          42,
          43,
          44,
          45,
          46,
          47,
          48,
          49,
          50,
          51,
          52,
          53,
          54,
          55,
          56,
          57,
          58,
          59,
          60,
          61,
          62,
          63,
          64,
          65,
          66,
          67,
          68,
          69,
          70,
          71,
          72,
          73,
          74,
          75,
          76,
          77,
          78,
          79,
          80,
          81,
          82,
          83,
          84,
          85,
          86,
          87,
          88,
          89,
          90,
          91,
          92,
          93,
          94,
          95,
          96,
          97,
          98,
          99
         ],
         "y": [
          0.17437641394917874,
          0.7490361904498126,
          0.2206487700522952,
          -1.6480931060727528,
          1.4620421283243314,
          0.3820336249836358,
          -0.7543945300211781,
          -0.6426483276542193,
          -0.5047359239418499,
          2.260731119462813,
          1.2059967576360053,
          -0.40792789033670196,
          -0.3735557788923569,
          0.9223879901217894,
          0.5387542559927422,
          1.293366186217786,
          -0.3061694975458192,
          1.4458344474262372,
          -0.09731501254556423,
          1.349054326346807,
          0.10266894912192394,
          -1.5895513391001461,
          -0.631487039076087,
          -0.6495046871754468,
          -0.5054457546127393,
          0.16588666469731964,
          1.182579733108419,
          1.5702728567909054,
          -0.6854982775173628,
          -0.2142420737423121,
          0.0611855245856681,
          1.8877586015324224,
          -0.04635364179885129,
          -0.6216973206487607,
          -1.8700902552522218,
          -0.17574719059565638,
          0.48054197537656324,
          -1.8307026567314109,
          0.42221981905429895,
          -0.036228233963711796,
          0.2095985941357195,
          0.975831001214111,
          -0.7017837092939401,
          0.356516389516243,
          1.7467740184215845,
          1.8994410880435575,
          0.19055959194181868,
          0.2006264499212719,
          0.6845249672095227,
          -0.31312033410853163,
          1.2305046951174428,
          -0.3319642881558576,
          -1.268108681937728,
          -0.0775659164722555,
          0.7510722580630781,
          1.4084269276169865,
          -1.912990420801554,
          1.1459097803085434,
          0.15898023964590857,
          1.2297004667972553,
          -0.14560897468774114,
          0.2388596555647904,
          -0.11191358676205446,
          2.8699281091776876,
          -0.46648935628783206,
          0.1456387070136528,
          -1.5718030469704014,
          -0.919400581374011,
          -0.4385574306559472,
          0.9539469603504792,
          0.3480216508176851,
          0.7859446983841218,
          -0.7756360897273119,
          -0.17771469767058096,
          2.7841009887793176,
          -0.4500324908581403,
          -1.6813229039518773,
          -0.45463281656514104,
          -0.023025213530122365,
          -1.7038590034826455,
          -0.0825859851593682,
          -0.2037125593284725,
          0.814377619961438,
          -0.6254026100427503,
          -1.5093882638874176,
          1.2285573829502388,
          0.1652410261119857,
          1.2081300941955717,
          -0.4805856183844383,
          -0.9998030209059221,
          2.8079053019227906,
          0.04944547123720202,
          0.5304990745579125,
          -1.055345071570587,
          1.5395395879535254,
          0.38299093507564547,
          0.5321547238143925,
          0.11616983666958806,
          -1.375565023655355,
          0.5063230091191446
         ]
        }
       ],
       "layout": {
        "barmode": "stack",
        "legend": {
         "bgcolor": "#F5F6F9",
         "font": {
          "color": "#4D5663"
         },
         "traceorder": "normal"
        },
        "paper_bgcolor": "#F5F6F9",
        "plot_bgcolor": "#F5F6F9",
        "template": {
         "data": {
          "bar": [
           {
            "error_x": {
             "color": "#2a3f5f"
            },
            "error_y": {
             "color": "#2a3f5f"
            },
            "marker": {
             "line": {
              "color": "#E5ECF6",
              "width": 0.5
             }
            },
            "type": "bar"
           }
          ],
          "barpolar": [
           {
            "marker": {
             "line": {
              "color": "#E5ECF6",
              "width": 0.5
             }
            },
            "type": "barpolar"
           }
          ],
          "carpet": [
           {
            "aaxis": {
             "endlinecolor": "#2a3f5f",
             "gridcolor": "white",
             "linecolor": "white",
             "minorgridcolor": "white",
             "startlinecolor": "#2a3f5f"
            },
            "baxis": {
             "endlinecolor": "#2a3f5f",
             "gridcolor": "white",
             "linecolor": "white",
             "minorgridcolor": "white",
             "startlinecolor": "#2a3f5f"
            },
            "type": "carpet"
           }
          ],
          "choropleth": [
           {
            "colorbar": {
             "outlinewidth": 0,
             "ticks": ""
            },
            "type": "choropleth"
           }
          ],
          "contour": [
           {
            "colorbar": {
             "outlinewidth": 0,
             "ticks": ""
            },
            "colorscale": [
             [
              0,
              "#0d0887"
             ],
             [
              0.1111111111111111,
              "#46039f"
             ],
             [
              0.2222222222222222,
              "#7201a8"
             ],
             [
              0.3333333333333333,
              "#9c179e"
             ],
             [
              0.4444444444444444,
              "#bd3786"
             ],
             [
              0.5555555555555556,
              "#d8576b"
             ],
             [
              0.6666666666666666,
              "#ed7953"
             ],
             [
              0.7777777777777778,
              "#fb9f3a"
             ],
             [
              0.8888888888888888,
              "#fdca26"
             ],
             [
              1,
              "#f0f921"
             ]
            ],
            "type": "contour"
           }
          ],
          "contourcarpet": [
           {
            "colorbar": {
             "outlinewidth": 0,
             "ticks": ""
            },
            "type": "contourcarpet"
           }
          ],
          "heatmap": [
           {
            "colorbar": {
             "outlinewidth": 0,
             "ticks": ""
            },
            "colorscale": [
             [
              0,
              "#0d0887"
             ],
             [
              0.1111111111111111,
              "#46039f"
             ],
             [
              0.2222222222222222,
              "#7201a8"
             ],
             [
              0.3333333333333333,
              "#9c179e"
             ],
             [
              0.4444444444444444,
              "#bd3786"
             ],
             [
              0.5555555555555556,
              "#d8576b"
             ],
             [
              0.6666666666666666,
              "#ed7953"
             ],
             [
              0.7777777777777778,
              "#fb9f3a"
             ],
             [
              0.8888888888888888,
              "#fdca26"
             ],
             [
              1,
              "#f0f921"
             ]
            ],
            "type": "heatmap"
           }
          ],
          "heatmapgl": [
           {
            "colorbar": {
             "outlinewidth": 0,
             "ticks": ""
            },
            "colorscale": [
             [
              0,
              "#0d0887"
             ],
             [
              0.1111111111111111,
              "#46039f"
             ],
             [
              0.2222222222222222,
              "#7201a8"
             ],
             [
              0.3333333333333333,
              "#9c179e"
             ],
             [
              0.4444444444444444,
              "#bd3786"
             ],
             [
              0.5555555555555556,
              "#d8576b"
             ],
             [
              0.6666666666666666,
              "#ed7953"
             ],
             [
              0.7777777777777778,
              "#fb9f3a"
             ],
             [
              0.8888888888888888,
              "#fdca26"
             ],
             [
              1,
              "#f0f921"
             ]
            ],
            "type": "heatmapgl"
           }
          ],
          "histogram": [
           {
            "marker": {
             "colorbar": {
              "outlinewidth": 0,
              "ticks": ""
             }
            },
            "type": "histogram"
           }
          ],
          "histogram2d": [
           {
            "colorbar": {
             "outlinewidth": 0,
             "ticks": ""
            },
            "colorscale": [
             [
              0,
              "#0d0887"
             ],
             [
              0.1111111111111111,
              "#46039f"
             ],
             [
              0.2222222222222222,
              "#7201a8"
             ],
             [
              0.3333333333333333,
              "#9c179e"
             ],
             [
              0.4444444444444444,
              "#bd3786"
             ],
             [
              0.5555555555555556,
              "#d8576b"
             ],
             [
              0.6666666666666666,
              "#ed7953"
             ],
             [
              0.7777777777777778,
              "#fb9f3a"
             ],
             [
              0.8888888888888888,
              "#fdca26"
             ],
             [
              1,
              "#f0f921"
             ]
            ],
            "type": "histogram2d"
           }
          ],
          "histogram2dcontour": [
           {
            "colorbar": {
             "outlinewidth": 0,
             "ticks": ""
            },
            "colorscale": [
             [
              0,
              "#0d0887"
             ],
             [
              0.1111111111111111,
              "#46039f"
             ],
             [
              0.2222222222222222,
              "#7201a8"
             ],
             [
              0.3333333333333333,
              "#9c179e"
             ],
             [
              0.4444444444444444,
              "#bd3786"
             ],
             [
              0.5555555555555556,
              "#d8576b"
             ],
             [
              0.6666666666666666,
              "#ed7953"
             ],
             [
              0.7777777777777778,
              "#fb9f3a"
             ],
             [
              0.8888888888888888,
              "#fdca26"
             ],
             [
              1,
              "#f0f921"
             ]
            ],
            "type": "histogram2dcontour"
           }
          ],
          "mesh3d": [
           {
            "colorbar": {
             "outlinewidth": 0,
             "ticks": ""
            },
            "type": "mesh3d"
           }
          ],
          "parcoords": [
           {
            "line": {
             "colorbar": {
              "outlinewidth": 0,
              "ticks": ""
             }
            },
            "type": "parcoords"
           }
          ],
          "pie": [
           {
            "automargin": true,
            "type": "pie"
           }
          ],
          "scatter": [
           {
            "marker": {
             "colorbar": {
              "outlinewidth": 0,
              "ticks": ""
             }
            },
            "type": "scatter"
           }
          ],
          "scatter3d": [
           {
            "line": {
             "colorbar": {
              "outlinewidth": 0,
              "ticks": ""
             }
            },
            "marker": {
             "colorbar": {
              "outlinewidth": 0,
              "ticks": ""
             }
            },
            "type": "scatter3d"
           }
          ],
          "scattercarpet": [
           {
            "marker": {
             "colorbar": {
              "outlinewidth": 0,
              "ticks": ""
             }
            },
            "type": "scattercarpet"
           }
          ],
          "scattergeo": [
           {
            "marker": {
             "colorbar": {
              "outlinewidth": 0,
              "ticks": ""
             }
            },
            "type": "scattergeo"
           }
          ],
          "scattergl": [
           {
            "marker": {
             "colorbar": {
              "outlinewidth": 0,
              "ticks": ""
             }
            },
            "type": "scattergl"
           }
          ],
          "scattermapbox": [
           {
            "marker": {
             "colorbar": {
              "outlinewidth": 0,
              "ticks": ""
             }
            },
            "type": "scattermapbox"
           }
          ],
          "scatterpolar": [
           {
            "marker": {
             "colorbar": {
              "outlinewidth": 0,
              "ticks": ""
             }
            },
            "type": "scatterpolar"
           }
          ],
          "scatterpolargl": [
           {
            "marker": {
             "colorbar": {
              "outlinewidth": 0,
              "ticks": ""
             }
            },
            "type": "scatterpolargl"
           }
          ],
          "scatterternary": [
           {
            "marker": {
             "colorbar": {
              "outlinewidth": 0,
              "ticks": ""
             }
            },
            "type": "scatterternary"
           }
          ],
          "surface": [
           {
            "colorbar": {
             "outlinewidth": 0,
             "ticks": ""
            },
            "colorscale": [
             [
              0,
              "#0d0887"
             ],
             [
              0.1111111111111111,
              "#46039f"
             ],
             [
              0.2222222222222222,
              "#7201a8"
             ],
             [
              0.3333333333333333,
              "#9c179e"
             ],
             [
              0.4444444444444444,
              "#bd3786"
             ],
             [
              0.5555555555555556,
              "#d8576b"
             ],
             [
              0.6666666666666666,
              "#ed7953"
             ],
             [
              0.7777777777777778,
              "#fb9f3a"
             ],
             [
              0.8888888888888888,
              "#fdca26"
             ],
             [
              1,
              "#f0f921"
             ]
            ],
            "type": "surface"
           }
          ],
          "table": [
           {
            "cells": {
             "fill": {
              "color": "#EBF0F8"
             },
             "line": {
              "color": "white"
             }
            },
            "header": {
             "fill": {
              "color": "#C8D4E3"
             },
             "line": {
              "color": "white"
             }
            },
            "type": "table"
           }
          ]
         },
         "layout": {
          "annotationdefaults": {
           "arrowcolor": "#2a3f5f",
           "arrowhead": 0,
           "arrowwidth": 1
          },
          "coloraxis": {
           "colorbar": {
            "outlinewidth": 0,
            "ticks": ""
           }
          },
          "colorscale": {
           "diverging": [
            [
             0,
             "#8e0152"
            ],
            [
             0.1,
             "#c51b7d"
            ],
            [
             0.2,
             "#de77ae"
            ],
            [
             0.3,
             "#f1b6da"
            ],
            [
             0.4,
             "#fde0ef"
            ],
            [
             0.5,
             "#f7f7f7"
            ],
            [
             0.6,
             "#e6f5d0"
            ],
            [
             0.7,
             "#b8e186"
            ],
            [
             0.8,
             "#7fbc41"
            ],
            [
             0.9,
             "#4d9221"
            ],
            [
             1,
             "#276419"
            ]
           ],
           "sequential": [
            [
             0,
             "#0d0887"
            ],
            [
             0.1111111111111111,
             "#46039f"
            ],
            [
             0.2222222222222222,
             "#7201a8"
            ],
            [
             0.3333333333333333,
             "#9c179e"
            ],
            [
             0.4444444444444444,
             "#bd3786"
            ],
            [
             0.5555555555555556,
             "#d8576b"
            ],
            [
             0.6666666666666666,
             "#ed7953"
            ],
            [
             0.7777777777777778,
             "#fb9f3a"
            ],
            [
             0.8888888888888888,
             "#fdca26"
            ],
            [
             1,
             "#f0f921"
            ]
           ],
           "sequentialminus": [
            [
             0,
             "#0d0887"
            ],
            [
             0.1111111111111111,
             "#46039f"
            ],
            [
             0.2222222222222222,
             "#7201a8"
            ],
            [
             0.3333333333333333,
             "#9c179e"
            ],
            [
             0.4444444444444444,
             "#bd3786"
            ],
            [
             0.5555555555555556,
             "#d8576b"
            ],
            [
             0.6666666666666666,
             "#ed7953"
            ],
            [
             0.7777777777777778,
             "#fb9f3a"
            ],
            [
             0.8888888888888888,
             "#fdca26"
            ],
            [
             1,
             "#f0f921"
            ]
           ]
          },
          "colorway": [
           "#636efa",
           "#EF553B",
           "#00cc96",
           "#ab63fa",
           "#FFA15A",
           "#19d3f3",
           "#FF6692",
           "#B6E880",
           "#FF97FF",
           "#FECB52"
          ],
          "font": {
           "color": "#2a3f5f"
          },
          "geo": {
           "bgcolor": "white",
           "lakecolor": "white",
           "landcolor": "#E5ECF6",
           "showlakes": true,
           "showland": true,
           "subunitcolor": "white"
          },
          "hoverlabel": {
           "align": "left"
          },
          "hovermode": "closest",
          "mapbox": {
           "style": "light"
          },
          "paper_bgcolor": "white",
          "plot_bgcolor": "#E5ECF6",
          "polar": {
           "angularaxis": {
            "gridcolor": "white",
            "linecolor": "white",
            "ticks": ""
           },
           "bgcolor": "#E5ECF6",
           "radialaxis": {
            "gridcolor": "white",
            "linecolor": "white",
            "ticks": ""
           }
          },
          "scene": {
           "xaxis": {
            "backgroundcolor": "#E5ECF6",
            "gridcolor": "white",
            "gridwidth": 2,
            "linecolor": "white",
            "showbackground": true,
            "ticks": "",
            "zerolinecolor": "white"
           },
           "yaxis": {
            "backgroundcolor": "#E5ECF6",
            "gridcolor": "white",
            "gridwidth": 2,
            "linecolor": "white",
            "showbackground": true,
            "ticks": "",
            "zerolinecolor": "white"
           },
           "zaxis": {
            "backgroundcolor": "#E5ECF6",
            "gridcolor": "white",
            "gridwidth": 2,
            "linecolor": "white",
            "showbackground": true,
            "ticks": "",
            "zerolinecolor": "white"
           }
          },
          "shapedefaults": {
           "line": {
            "color": "#2a3f5f"
           }
          },
          "ternary": {
           "aaxis": {
            "gridcolor": "white",
            "linecolor": "white",
            "ticks": ""
           },
           "baxis": {
            "gridcolor": "white",
            "linecolor": "white",
            "ticks": ""
           },
           "bgcolor": "#E5ECF6",
           "caxis": {
            "gridcolor": "white",
            "linecolor": "white",
            "ticks": ""
           }
          },
          "title": {
           "x": 0.05
          },
          "xaxis": {
           "automargin": true,
           "gridcolor": "white",
           "linecolor": "white",
           "ticks": "",
           "title": {
            "standoff": 15
           },
           "zerolinecolor": "white",
           "zerolinewidth": 2
          },
          "yaxis": {
           "automargin": true,
           "gridcolor": "white",
           "linecolor": "white",
           "ticks": "",
           "title": {
            "standoff": 15
           },
           "zerolinecolor": "white",
           "zerolinewidth": 2
          }
         }
        },
        "title": {
         "font": {
          "color": "#4D5663"
         }
        },
        "xaxis": {
         "gridcolor": "#E1E5ED",
         "showgrid": true,
         "tickfont": {
          "color": "#4D5663"
         },
         "title": {
          "font": {
           "color": "#4D5663"
          },
          "text": ""
         },
         "zerolinecolor": "#E1E5ED"
        },
        "yaxis": {
         "gridcolor": "#E1E5ED",
         "showgrid": true,
         "tickfont": {
          "color": "#4D5663"
         },
         "title": {
          "font": {
           "color": "#4D5663"
          },
          "text": ""
         },
         "zerolinecolor": "#E1E5ED"
        }
       }
      },
      "text/html": [
       "<div>                            <div id=\"d459fe79-78b4-4ac5-a567-d2ae51b36135\" class=\"plotly-graph-div\" style=\"height:525px; width:100%;\"></div>            <script type=\"text/javascript\">                require([\"plotly\"], function(Plotly) {                    window.PLOTLYENV=window.PLOTLYENV || {};\n",
       "                    window.PLOTLYENV.BASE_URL='https://plot.ly';                                    if (document.getElementById(\"d459fe79-78b4-4ac5-a567-d2ae51b36135\")) {                    Plotly.newPlot(                        \"d459fe79-78b4-4ac5-a567-d2ae51b36135\",                        [{\"marker\": {\"color\": \"rgba(255, 153, 51, 0.6)\", \"line\": {\"color\": \"rgba(255, 153, 51, 1.0)\", \"width\": 1}}, \"name\": \"A\", \"orientation\": \"v\", \"text\": \"\", \"type\": \"bar\", \"x\": [0, 1, 2, 3, 4, 5, 6, 7, 8, 9, 10, 11, 12, 13, 14, 15, 16, 17, 18, 19, 20, 21, 22, 23, 24, 25, 26, 27, 28, 29, 30, 31, 32, 33, 34, 35, 36, 37, 38, 39, 40, 41, 42, 43, 44, 45, 46, 47, 48, 49, 50, 51, 52, 53, 54, 55, 56, 57, 58, 59, 60, 61, 62, 63, 64, 65, 66, 67, 68, 69, 70, 71, 72, 73, 74, 75, 76, 77, 78, 79, 80, 81, 82, 83, 84, 85, 86, 87, 88, 89, 90, 91, 92, 93, 94, 95, 96, 97, 98, 99], \"y\": [0.8044864774287241, -0.9481510423908883, 2.1161350125328893, -1.3638225018741512, 1.843275784856714, -1.7485319087132714, 0.019641782607167837, -1.3419230890825473, 0.5002851311201935, 1.7756534615326307, -1.5137689091411979, -0.6368965213801283, -0.4504836130030108, 0.8223196594555584, -0.5668391872668452, 0.28377158462026636, 0.20920576519190212, -0.2853904827657341, -0.17119499296719892, 0.3165555874193085, -0.04344304258750354, -1.6359451121334614, 1.2297443818240892, 0.3977701824683929, -0.6199429502095049, -0.5434986071672341, 0.5966658633710911, -0.9852456719148055, -1.2854772280293154, 1.6982773489170202, 0.4917482763196713, -0.39007947446503893, 0.10440829344675284, 0.029959384510654757, 1.8981150473853043, 0.11224329769735449, 0.16958490769530116, -1.0090664485461647, 1.1420713489721033, -0.08440134014658718, -0.29591835801983263, -0.8338161349177546, 0.4022410759931213, -0.09378837014273535, 2.6294839606173075, -1.8389518962689346, -0.29174947495237014, 0.9030605580213567, -0.6932451617990796, 0.6034772327037836, -0.43966887835365115, -0.7020155628235437, 0.4358997795514861, -0.8674103933488719, -0.0918369002124646, -1.1704813015761089, -1.485349686062648, -0.3845514538641442, -0.46603745412132286, 1.4430100047158019, 1.3141586177413886, 0.20470553419963025, 1.773014947883199, 0.8343339136849154, 0.8977775936652503, 0.7747413841441109, -0.22299326188335347, -0.883794978630215, 2.234388870676288, 0.06021174574722974, 0.6889431202394805, 1.0767787342659982, 0.4826885360517074, -1.3130029382256718, 1.0590237369225428, 0.4037213324474893, 0.3045309914434343, 1.6667495172080453, -0.850345536251703, -1.1913249201442142, -0.6669592472067115, -0.7523429984195517, 0.8023647436386182, 1.3605623973050855, 2.083286190157904, 0.05508675603563289, -0.5100089643770411, -1.7149273009046366, -0.6118769379222307, -2.9116624537552864, 0.513916260938284, -0.4862353539068187, 0.3189358485777468, 1.5911437180710455, -2.1718658217069904, -0.07096115996856431, 1.5501228178069633, 0.07764264026662375, 1.8097817272032244, -2.644102123835663]}, {\"marker\": {\"color\": \"rgba(55, 128, 191, 0.6)\", \"line\": {\"color\": \"rgba(55, 128, 191, 1.0)\", \"width\": 1}}, \"name\": \"B\", \"orientation\": \"v\", \"text\": \"\", \"type\": \"bar\", \"x\": [0, 1, 2, 3, 4, 5, 6, 7, 8, 9, 10, 11, 12, 13, 14, 15, 16, 17, 18, 19, 20, 21, 22, 23, 24, 25, 26, 27, 28, 29, 30, 31, 32, 33, 34, 35, 36, 37, 38, 39, 40, 41, 42, 43, 44, 45, 46, 47, 48, 49, 50, 51, 52, 53, 54, 55, 56, 57, 58, 59, 60, 61, 62, 63, 64, 65, 66, 67, 68, 69, 70, 71, 72, 73, 74, 75, 76, 77, 78, 79, 80, 81, 82, 83, 84, 85, 86, 87, 88, 89, 90, 91, 92, 93, 94, 95, 96, 97, 98, 99], \"y\": [-0.43410269779590144, -0.4555614475370614, 0.5176068913521863, -0.2201856042059788, 0.7242319396241198, -0.43108813976885796, 0.25051323212230053, 0.115786764079762, -0.05306888817844119, 0.26794552710288705, -0.6790175164388548, 0.5482879547153879, 0.5228708258609674, 0.2992033400209017, 0.049066090332094366, -0.22468566558148392, -0.8101875845344977, -0.3454506572557632, 0.32804549581812986, -1.2347372977765778, 0.9742617146899739, 0.8985367217809102, 0.2758668900806672, -0.03991778128800362, 0.5594554600328423, 0.7373003561584219, 0.27451390695058897, 0.6976289260272461, 0.32663832911693647, 0.7628218976841893, -0.2608070928282954, -0.5146592954590046, 1.9060095192951154, 2.010745805923577, -1.96298586250898, -1.1544211492703425, 1.808908280232178, -0.03461893387673593, -0.13269694561568432, 1.2465208589234649, -0.4682696810329029, -0.16661583794871268, -1.6372717466544358, -0.4336974207373278, -0.5263169496035581, 1.6134305410761696, 0.5375785860301046, -0.7063059523886868, -0.08742558571346763, 0.4821507580979392, -0.8990165341679056, 0.38321915650915717, 0.7423161103060311, 1.2313060957281705, 1.9856557724366857, 1.0821988520204493, -0.7466618095854451, 0.629040466764736, -0.4823326456135654, 2.7490781272322296, 0.8012449112581967, 1.8190775804088608, -1.4955775599104129, 0.7755581280783765, 0.4786688696298884, 0.37290407291698097, 0.3326903476159306, 0.9233357658276374, -0.032119544524130225, -0.5351270604371191, -0.14712955543618636, 0.3231934174318966, 0.7942546322839973, -1.2495924093637072, -0.7182878506608857, -0.9024221251217006, -1.8590372235363215, -0.18596480888861117, 0.4952962821104375, 0.7663780588049834, 0.750327437984539, -0.9167075221920621, -1.4372995517066565, -1.10919826570545, 0.5886280647822731, -1.1220490019720488, 2.2294694141838862, 1.2532288659970512, -0.38572117603426015, -0.6858806771800992, 0.28722903716124615, -0.5837954459766008, -0.4391801157742352, 0.07204523589768022, 1.7569991188244072, -0.6115524855110406, -0.5548645380988806, 1.212503241540441, 0.3779869875666681, 0.7319963648223098]}, {\"marker\": {\"color\": \"rgba(50, 171, 96, 0.6)\", \"line\": {\"color\": \"rgba(50, 171, 96, 1.0)\", \"width\": 1}}, \"name\": \"C\", \"orientation\": \"v\", \"text\": \"\", \"type\": \"bar\", \"x\": [0, 1, 2, 3, 4, 5, 6, 7, 8, 9, 10, 11, 12, 13, 14, 15, 16, 17, 18, 19, 20, 21, 22, 23, 24, 25, 26, 27, 28, 29, 30, 31, 32, 33, 34, 35, 36, 37, 38, 39, 40, 41, 42, 43, 44, 45, 46, 47, 48, 49, 50, 51, 52, 53, 54, 55, 56, 57, 58, 59, 60, 61, 62, 63, 64, 65, 66, 67, 68, 69, 70, 71, 72, 73, 74, 75, 76, 77, 78, 79, 80, 81, 82, 83, 84, 85, 86, 87, 88, 89, 90, 91, 92, 93, 94, 95, 96, 97, 98, 99], \"y\": [0.17437641394917874, 0.7490361904498126, 0.2206487700522952, -1.6480931060727528, 1.4620421283243314, 0.3820336249836358, -0.7543945300211781, -0.6426483276542193, -0.5047359239418499, 2.260731119462813, 1.2059967576360053, -0.40792789033670196, -0.3735557788923569, 0.9223879901217894, 0.5387542559927422, 1.293366186217786, -0.3061694975458192, 1.4458344474262372, -0.09731501254556423, 1.349054326346807, 0.10266894912192394, -1.5895513391001461, -0.631487039076087, -0.6495046871754468, -0.5054457546127393, 0.16588666469731964, 1.182579733108419, 1.5702728567909054, -0.6854982775173628, -0.2142420737423121, 0.0611855245856681, 1.8877586015324224, -0.04635364179885129, -0.6216973206487607, -1.8700902552522218, -0.17574719059565638, 0.48054197537656324, -1.8307026567314109, 0.42221981905429895, -0.036228233963711796, 0.2095985941357195, 0.975831001214111, -0.7017837092939401, 0.356516389516243, 1.7467740184215845, 1.8994410880435575, 0.19055959194181868, 0.2006264499212719, 0.6845249672095227, -0.31312033410853163, 1.2305046951174428, -0.3319642881558576, -1.268108681937728, -0.0775659164722555, 0.7510722580630781, 1.4084269276169865, -1.912990420801554, 1.1459097803085434, 0.15898023964590857, 1.2297004667972553, -0.14560897468774114, 0.2388596555647904, -0.11191358676205446, 2.8699281091776876, -0.46648935628783206, 0.1456387070136528, -1.5718030469704014, -0.919400581374011, -0.4385574306559472, 0.9539469603504792, 0.3480216508176851, 0.7859446983841218, -0.7756360897273119, -0.17771469767058096, 2.7841009887793176, -0.4500324908581403, -1.6813229039518773, -0.45463281656514104, -0.023025213530122365, -1.7038590034826455, -0.0825859851593682, -0.2037125593284725, 0.814377619961438, -0.6254026100427503, -1.5093882638874176, 1.2285573829502388, 0.1652410261119857, 1.2081300941955717, -0.4805856183844383, -0.9998030209059221, 2.8079053019227906, 0.04944547123720202, 0.5304990745579125, -1.055345071570587, 1.5395395879535254, 0.38299093507564547, 0.5321547238143925, 0.11616983666958806, -1.375565023655355, 0.5063230091191446]}],                        {\"barmode\": \"stack\", \"legend\": {\"bgcolor\": \"#F5F6F9\", \"font\": {\"color\": \"#4D5663\"}, \"traceorder\": \"normal\"}, \"paper_bgcolor\": \"#F5F6F9\", \"plot_bgcolor\": \"#F5F6F9\", \"template\": {\"data\": {\"bar\": [{\"error_x\": {\"color\": \"#2a3f5f\"}, \"error_y\": {\"color\": \"#2a3f5f\"}, \"marker\": {\"line\": {\"color\": \"#E5ECF6\", \"width\": 0.5}}, \"type\": \"bar\"}], \"barpolar\": [{\"marker\": {\"line\": {\"color\": \"#E5ECF6\", \"width\": 0.5}}, \"type\": \"barpolar\"}], \"carpet\": [{\"aaxis\": {\"endlinecolor\": \"#2a3f5f\", \"gridcolor\": \"white\", \"linecolor\": \"white\", \"minorgridcolor\": \"white\", \"startlinecolor\": \"#2a3f5f\"}, \"baxis\": {\"endlinecolor\": \"#2a3f5f\", \"gridcolor\": \"white\", \"linecolor\": \"white\", \"minorgridcolor\": \"white\", \"startlinecolor\": \"#2a3f5f\"}, \"type\": \"carpet\"}], \"choropleth\": [{\"colorbar\": {\"outlinewidth\": 0, \"ticks\": \"\"}, \"type\": \"choropleth\"}], \"contour\": [{\"colorbar\": {\"outlinewidth\": 0, \"ticks\": \"\"}, \"colorscale\": [[0.0, \"#0d0887\"], [0.1111111111111111, \"#46039f\"], [0.2222222222222222, \"#7201a8\"], [0.3333333333333333, \"#9c179e\"], [0.4444444444444444, \"#bd3786\"], [0.5555555555555556, \"#d8576b\"], [0.6666666666666666, \"#ed7953\"], [0.7777777777777778, \"#fb9f3a\"], [0.8888888888888888, \"#fdca26\"], [1.0, \"#f0f921\"]], \"type\": \"contour\"}], \"contourcarpet\": [{\"colorbar\": {\"outlinewidth\": 0, \"ticks\": \"\"}, \"type\": \"contourcarpet\"}], \"heatmap\": [{\"colorbar\": {\"outlinewidth\": 0, \"ticks\": \"\"}, \"colorscale\": [[0.0, \"#0d0887\"], [0.1111111111111111, \"#46039f\"], [0.2222222222222222, \"#7201a8\"], [0.3333333333333333, \"#9c179e\"], [0.4444444444444444, \"#bd3786\"], [0.5555555555555556, \"#d8576b\"], [0.6666666666666666, \"#ed7953\"], [0.7777777777777778, \"#fb9f3a\"], [0.8888888888888888, \"#fdca26\"], [1.0, \"#f0f921\"]], \"type\": \"heatmap\"}], \"heatmapgl\": [{\"colorbar\": {\"outlinewidth\": 0, \"ticks\": \"\"}, \"colorscale\": [[0.0, \"#0d0887\"], [0.1111111111111111, \"#46039f\"], [0.2222222222222222, \"#7201a8\"], [0.3333333333333333, \"#9c179e\"], [0.4444444444444444, \"#bd3786\"], [0.5555555555555556, \"#d8576b\"], [0.6666666666666666, \"#ed7953\"], [0.7777777777777778, \"#fb9f3a\"], [0.8888888888888888, \"#fdca26\"], [1.0, \"#f0f921\"]], \"type\": \"heatmapgl\"}], \"histogram\": [{\"marker\": {\"colorbar\": {\"outlinewidth\": 0, \"ticks\": \"\"}}, \"type\": \"histogram\"}], \"histogram2d\": [{\"colorbar\": {\"outlinewidth\": 0, \"ticks\": \"\"}, \"colorscale\": [[0.0, \"#0d0887\"], [0.1111111111111111, \"#46039f\"], [0.2222222222222222, \"#7201a8\"], [0.3333333333333333, \"#9c179e\"], [0.4444444444444444, \"#bd3786\"], [0.5555555555555556, \"#d8576b\"], [0.6666666666666666, \"#ed7953\"], [0.7777777777777778, \"#fb9f3a\"], [0.8888888888888888, \"#fdca26\"], [1.0, \"#f0f921\"]], \"type\": \"histogram2d\"}], \"histogram2dcontour\": [{\"colorbar\": {\"outlinewidth\": 0, \"ticks\": \"\"}, \"colorscale\": [[0.0, \"#0d0887\"], [0.1111111111111111, \"#46039f\"], [0.2222222222222222, \"#7201a8\"], [0.3333333333333333, \"#9c179e\"], [0.4444444444444444, \"#bd3786\"], [0.5555555555555556, \"#d8576b\"], [0.6666666666666666, \"#ed7953\"], [0.7777777777777778, \"#fb9f3a\"], [0.8888888888888888, \"#fdca26\"], [1.0, \"#f0f921\"]], \"type\": \"histogram2dcontour\"}], \"mesh3d\": [{\"colorbar\": {\"outlinewidth\": 0, \"ticks\": \"\"}, \"type\": \"mesh3d\"}], \"parcoords\": [{\"line\": {\"colorbar\": {\"outlinewidth\": 0, \"ticks\": \"\"}}, \"type\": \"parcoords\"}], \"pie\": [{\"automargin\": true, \"type\": \"pie\"}], \"scatter\": [{\"marker\": {\"colorbar\": {\"outlinewidth\": 0, \"ticks\": \"\"}}, \"type\": \"scatter\"}], \"scatter3d\": [{\"line\": {\"colorbar\": {\"outlinewidth\": 0, \"ticks\": \"\"}}, \"marker\": {\"colorbar\": {\"outlinewidth\": 0, \"ticks\": \"\"}}, \"type\": \"scatter3d\"}], \"scattercarpet\": [{\"marker\": {\"colorbar\": {\"outlinewidth\": 0, \"ticks\": \"\"}}, \"type\": \"scattercarpet\"}], \"scattergeo\": [{\"marker\": {\"colorbar\": {\"outlinewidth\": 0, \"ticks\": \"\"}}, \"type\": \"scattergeo\"}], \"scattergl\": [{\"marker\": {\"colorbar\": {\"outlinewidth\": 0, \"ticks\": \"\"}}, \"type\": \"scattergl\"}], \"scattermapbox\": [{\"marker\": {\"colorbar\": {\"outlinewidth\": 0, \"ticks\": \"\"}}, \"type\": \"scattermapbox\"}], \"scatterpolar\": [{\"marker\": {\"colorbar\": {\"outlinewidth\": 0, \"ticks\": \"\"}}, \"type\": \"scatterpolar\"}], \"scatterpolargl\": [{\"marker\": {\"colorbar\": {\"outlinewidth\": 0, \"ticks\": \"\"}}, \"type\": \"scatterpolargl\"}], \"scatterternary\": [{\"marker\": {\"colorbar\": {\"outlinewidth\": 0, \"ticks\": \"\"}}, \"type\": \"scatterternary\"}], \"surface\": [{\"colorbar\": {\"outlinewidth\": 0, \"ticks\": \"\"}, \"colorscale\": [[0.0, \"#0d0887\"], [0.1111111111111111, \"#46039f\"], [0.2222222222222222, \"#7201a8\"], [0.3333333333333333, \"#9c179e\"], [0.4444444444444444, \"#bd3786\"], [0.5555555555555556, \"#d8576b\"], [0.6666666666666666, \"#ed7953\"], [0.7777777777777778, \"#fb9f3a\"], [0.8888888888888888, \"#fdca26\"], [1.0, \"#f0f921\"]], \"type\": \"surface\"}], \"table\": [{\"cells\": {\"fill\": {\"color\": \"#EBF0F8\"}, \"line\": {\"color\": \"white\"}}, \"header\": {\"fill\": {\"color\": \"#C8D4E3\"}, \"line\": {\"color\": \"white\"}}, \"type\": \"table\"}]}, \"layout\": {\"annotationdefaults\": {\"arrowcolor\": \"#2a3f5f\", \"arrowhead\": 0, \"arrowwidth\": 1}, \"coloraxis\": {\"colorbar\": {\"outlinewidth\": 0, \"ticks\": \"\"}}, \"colorscale\": {\"diverging\": [[0, \"#8e0152\"], [0.1, \"#c51b7d\"], [0.2, \"#de77ae\"], [0.3, \"#f1b6da\"], [0.4, \"#fde0ef\"], [0.5, \"#f7f7f7\"], [0.6, \"#e6f5d0\"], [0.7, \"#b8e186\"], [0.8, \"#7fbc41\"], [0.9, \"#4d9221\"], [1, \"#276419\"]], \"sequential\": [[0.0, \"#0d0887\"], [0.1111111111111111, \"#46039f\"], [0.2222222222222222, \"#7201a8\"], [0.3333333333333333, \"#9c179e\"], [0.4444444444444444, \"#bd3786\"], [0.5555555555555556, \"#d8576b\"], [0.6666666666666666, \"#ed7953\"], [0.7777777777777778, \"#fb9f3a\"], [0.8888888888888888, \"#fdca26\"], [1.0, \"#f0f921\"]], \"sequentialminus\": [[0.0, \"#0d0887\"], [0.1111111111111111, \"#46039f\"], [0.2222222222222222, \"#7201a8\"], [0.3333333333333333, \"#9c179e\"], [0.4444444444444444, \"#bd3786\"], [0.5555555555555556, \"#d8576b\"], [0.6666666666666666, \"#ed7953\"], [0.7777777777777778, \"#fb9f3a\"], [0.8888888888888888, \"#fdca26\"], [1.0, \"#f0f921\"]]}, \"colorway\": [\"#636efa\", \"#EF553B\", \"#00cc96\", \"#ab63fa\", \"#FFA15A\", \"#19d3f3\", \"#FF6692\", \"#B6E880\", \"#FF97FF\", \"#FECB52\"], \"font\": {\"color\": \"#2a3f5f\"}, \"geo\": {\"bgcolor\": \"white\", \"lakecolor\": \"white\", \"landcolor\": \"#E5ECF6\", \"showlakes\": true, \"showland\": true, \"subunitcolor\": \"white\"}, \"hoverlabel\": {\"align\": \"left\"}, \"hovermode\": \"closest\", \"mapbox\": {\"style\": \"light\"}, \"paper_bgcolor\": \"white\", \"plot_bgcolor\": \"#E5ECF6\", \"polar\": {\"angularaxis\": {\"gridcolor\": \"white\", \"linecolor\": \"white\", \"ticks\": \"\"}, \"bgcolor\": \"#E5ECF6\", \"radialaxis\": {\"gridcolor\": \"white\", \"linecolor\": \"white\", \"ticks\": \"\"}}, \"scene\": {\"xaxis\": {\"backgroundcolor\": \"#E5ECF6\", \"gridcolor\": \"white\", \"gridwidth\": 2, \"linecolor\": \"white\", \"showbackground\": true, \"ticks\": \"\", \"zerolinecolor\": \"white\"}, \"yaxis\": {\"backgroundcolor\": \"#E5ECF6\", \"gridcolor\": \"white\", \"gridwidth\": 2, \"linecolor\": \"white\", \"showbackground\": true, \"ticks\": \"\", \"zerolinecolor\": \"white\"}, \"zaxis\": {\"backgroundcolor\": \"#E5ECF6\", \"gridcolor\": \"white\", \"gridwidth\": 2, \"linecolor\": \"white\", \"showbackground\": true, \"ticks\": \"\", \"zerolinecolor\": \"white\"}}, \"shapedefaults\": {\"line\": {\"color\": \"#2a3f5f\"}}, \"ternary\": {\"aaxis\": {\"gridcolor\": \"white\", \"linecolor\": \"white\", \"ticks\": \"\"}, \"baxis\": {\"gridcolor\": \"white\", \"linecolor\": \"white\", \"ticks\": \"\"}, \"bgcolor\": \"#E5ECF6\", \"caxis\": {\"gridcolor\": \"white\", \"linecolor\": \"white\", \"ticks\": \"\"}}, \"title\": {\"x\": 0.05}, \"xaxis\": {\"automargin\": true, \"gridcolor\": \"white\", \"linecolor\": \"white\", \"ticks\": \"\", \"title\": {\"standoff\": 15}, \"zerolinecolor\": \"white\", \"zerolinewidth\": 2}, \"yaxis\": {\"automargin\": true, \"gridcolor\": \"white\", \"linecolor\": \"white\", \"ticks\": \"\", \"title\": {\"standoff\": 15}, \"zerolinecolor\": \"white\", \"zerolinewidth\": 2}}}, \"title\": {\"font\": {\"color\": \"#4D5663\"}}, \"xaxis\": {\"gridcolor\": \"#E1E5ED\", \"showgrid\": true, \"tickfont\": {\"color\": \"#4D5663\"}, \"title\": {\"font\": {\"color\": \"#4D5663\"}, \"text\": \"\"}, \"zerolinecolor\": \"#E1E5ED\"}, \"yaxis\": {\"gridcolor\": \"#E1E5ED\", \"showgrid\": true, \"tickfont\": {\"color\": \"#4D5663\"}, \"title\": {\"font\": {\"color\": \"#4D5663\"}, \"text\": \"\"}, \"zerolinecolor\": \"#E1E5ED\"}},                        {\"showLink\": true, \"linkText\": \"Export to plot.ly\", \"plotlyServerURL\": \"https://plot.ly\", \"responsive\": true}                    ).then(function(){\n",
       "                            \n",
       "var gd = document.getElementById('d459fe79-78b4-4ac5-a567-d2ae51b36135');\n",
       "var x = new MutationObserver(function (mutations, observer) {{\n",
       "        var display = window.getComputedStyle(gd).display;\n",
       "        if (!display || display === 'none') {{\n",
       "            console.log([gd, 'removed!']);\n",
       "            Plotly.purge(gd);\n",
       "            observer.disconnect();\n",
       "        }}\n",
       "}});\n",
       "\n",
       "// Listen for the removal of the full notebook cells\n",
       "var notebookContainer = gd.closest('#notebook-container');\n",
       "if (notebookContainer) {{\n",
       "    x.observe(notebookContainer, {childList: true});\n",
       "}}\n",
       "\n",
       "// Listen for the clearing of the current output cell\n",
       "var outputEl = gd.closest('.output');\n",
       "if (outputEl) {{\n",
       "    x.observe(outputEl, {childList: true});\n",
       "}}\n",
       "\n",
       "                        })                };                });            </script>        </div>"
      ]
     },
     "metadata": {},
     "output_type": "display_data"
    }
   ],
   "source": [
    "df.iplot(kind='bar',barmode='stack')"
   ]
  },
  {
   "cell_type": "markdown",
   "metadata": {},
   "source": [
    "### Box Plot"
   ]
  },
  {
   "cell_type": "code",
   "execution_count": 27,
   "metadata": {},
   "outputs": [
    {
     "data": {
      "application/vnd.plotly.v1+json": {
       "config": {
        "linkText": "Export to plot.ly",
        "plotlyServerURL": "https://plot.ly",
        "showLink": true
       },
       "data": [
        {
         "boxpoints": false,
         "line": {
          "width": 1.3
         },
         "marker": {
          "color": "rgba(255, 153, 51, 1.0)"
         },
         "name": "A",
         "orientation": "v",
         "type": "box",
         "y": [
          0.8044864774287241,
          -0.9481510423908883,
          2.1161350125328893,
          -1.3638225018741512,
          1.843275784856714,
          -1.7485319087132714,
          0.019641782607167837,
          -1.3419230890825473,
          0.5002851311201935,
          1.7756534615326307,
          -1.5137689091411979,
          -0.6368965213801283,
          -0.4504836130030108,
          0.8223196594555584,
          -0.5668391872668452,
          0.28377158462026636,
          0.20920576519190212,
          -0.2853904827657341,
          -0.17119499296719892,
          0.3165555874193085,
          -0.04344304258750354,
          -1.6359451121334614,
          1.2297443818240892,
          0.3977701824683929,
          -0.6199429502095049,
          -0.5434986071672341,
          0.5966658633710911,
          -0.9852456719148055,
          -1.2854772280293154,
          1.6982773489170202,
          0.4917482763196713,
          -0.39007947446503893,
          0.10440829344675284,
          0.029959384510654757,
          1.8981150473853043,
          0.11224329769735449,
          0.16958490769530116,
          -1.0090664485461647,
          1.1420713489721033,
          -0.08440134014658718,
          -0.29591835801983263,
          -0.8338161349177546,
          0.4022410759931213,
          -0.09378837014273535,
          2.6294839606173075,
          -1.8389518962689346,
          -0.29174947495237014,
          0.9030605580213567,
          -0.6932451617990796,
          0.6034772327037836,
          -0.43966887835365115,
          -0.7020155628235437,
          0.4358997795514861,
          -0.8674103933488719,
          -0.0918369002124646,
          -1.1704813015761089,
          -1.485349686062648,
          -0.3845514538641442,
          -0.46603745412132286,
          1.4430100047158019,
          1.3141586177413886,
          0.20470553419963025,
          1.773014947883199,
          0.8343339136849154,
          0.8977775936652503,
          0.7747413841441109,
          -0.22299326188335347,
          -0.883794978630215,
          2.234388870676288,
          0.06021174574722974,
          0.6889431202394805,
          1.0767787342659982,
          0.4826885360517074,
          -1.3130029382256718,
          1.0590237369225428,
          0.4037213324474893,
          0.3045309914434343,
          1.6667495172080453,
          -0.850345536251703,
          -1.1913249201442142,
          -0.6669592472067115,
          -0.7523429984195517,
          0.8023647436386182,
          1.3605623973050855,
          2.083286190157904,
          0.05508675603563289,
          -0.5100089643770411,
          -1.7149273009046366,
          -0.6118769379222307,
          -2.9116624537552864,
          0.513916260938284,
          -0.4862353539068187,
          0.3189358485777468,
          1.5911437180710455,
          -2.1718658217069904,
          -0.07096115996856431,
          1.5501228178069633,
          0.07764264026662375,
          1.8097817272032244,
          -2.644102123835663
         ]
        },
        {
         "boxpoints": false,
         "line": {
          "width": 1.3
         },
         "marker": {
          "color": "rgba(55, 128, 191, 1.0)"
         },
         "name": "B",
         "orientation": "v",
         "type": "box",
         "y": [
          -0.43410269779590144,
          -0.4555614475370614,
          0.5176068913521863,
          -0.2201856042059788,
          0.7242319396241198,
          -0.43108813976885796,
          0.25051323212230053,
          0.115786764079762,
          -0.05306888817844119,
          0.26794552710288705,
          -0.6790175164388548,
          0.5482879547153879,
          0.5228708258609674,
          0.2992033400209017,
          0.049066090332094366,
          -0.22468566558148392,
          -0.8101875845344977,
          -0.3454506572557632,
          0.32804549581812986,
          -1.2347372977765778,
          0.9742617146899739,
          0.8985367217809102,
          0.2758668900806672,
          -0.03991778128800362,
          0.5594554600328423,
          0.7373003561584219,
          0.27451390695058897,
          0.6976289260272461,
          0.32663832911693647,
          0.7628218976841893,
          -0.2608070928282954,
          -0.5146592954590046,
          1.9060095192951154,
          2.010745805923577,
          -1.96298586250898,
          -1.1544211492703425,
          1.808908280232178,
          -0.03461893387673593,
          -0.13269694561568432,
          1.2465208589234649,
          -0.4682696810329029,
          -0.16661583794871268,
          -1.6372717466544358,
          -0.4336974207373278,
          -0.5263169496035581,
          1.6134305410761696,
          0.5375785860301046,
          -0.7063059523886868,
          -0.08742558571346763,
          0.4821507580979392,
          -0.8990165341679056,
          0.38321915650915717,
          0.7423161103060311,
          1.2313060957281705,
          1.9856557724366857,
          1.0821988520204493,
          -0.7466618095854451,
          0.629040466764736,
          -0.4823326456135654,
          2.7490781272322296,
          0.8012449112581967,
          1.8190775804088608,
          -1.4955775599104129,
          0.7755581280783765,
          0.4786688696298884,
          0.37290407291698097,
          0.3326903476159306,
          0.9233357658276374,
          -0.032119544524130225,
          -0.5351270604371191,
          -0.14712955543618636,
          0.3231934174318966,
          0.7942546322839973,
          -1.2495924093637072,
          -0.7182878506608857,
          -0.9024221251217006,
          -1.8590372235363215,
          -0.18596480888861117,
          0.4952962821104375,
          0.7663780588049834,
          0.750327437984539,
          -0.9167075221920621,
          -1.4372995517066565,
          -1.10919826570545,
          0.5886280647822731,
          -1.1220490019720488,
          2.2294694141838862,
          1.2532288659970512,
          -0.38572117603426015,
          -0.6858806771800992,
          0.28722903716124615,
          -0.5837954459766008,
          -0.4391801157742352,
          0.07204523589768022,
          1.7569991188244072,
          -0.6115524855110406,
          -0.5548645380988806,
          1.212503241540441,
          0.3779869875666681,
          0.7319963648223098
         ]
        },
        {
         "boxpoints": false,
         "line": {
          "width": 1.3
         },
         "marker": {
          "color": "rgba(50, 171, 96, 1.0)"
         },
         "name": "C",
         "orientation": "v",
         "type": "box",
         "y": [
          0.17437641394917874,
          0.7490361904498126,
          0.2206487700522952,
          -1.6480931060727528,
          1.4620421283243314,
          0.3820336249836358,
          -0.7543945300211781,
          -0.6426483276542193,
          -0.5047359239418499,
          2.260731119462813,
          1.2059967576360053,
          -0.40792789033670196,
          -0.3735557788923569,
          0.9223879901217894,
          0.5387542559927422,
          1.293366186217786,
          -0.3061694975458192,
          1.4458344474262372,
          -0.09731501254556423,
          1.349054326346807,
          0.10266894912192394,
          -1.5895513391001461,
          -0.631487039076087,
          -0.6495046871754468,
          -0.5054457546127393,
          0.16588666469731964,
          1.182579733108419,
          1.5702728567909054,
          -0.6854982775173628,
          -0.2142420737423121,
          0.0611855245856681,
          1.8877586015324224,
          -0.04635364179885129,
          -0.6216973206487607,
          -1.8700902552522218,
          -0.17574719059565638,
          0.48054197537656324,
          -1.8307026567314109,
          0.42221981905429895,
          -0.036228233963711796,
          0.2095985941357195,
          0.975831001214111,
          -0.7017837092939401,
          0.356516389516243,
          1.7467740184215845,
          1.8994410880435575,
          0.19055959194181868,
          0.2006264499212719,
          0.6845249672095227,
          -0.31312033410853163,
          1.2305046951174428,
          -0.3319642881558576,
          -1.268108681937728,
          -0.0775659164722555,
          0.7510722580630781,
          1.4084269276169865,
          -1.912990420801554,
          1.1459097803085434,
          0.15898023964590857,
          1.2297004667972553,
          -0.14560897468774114,
          0.2388596555647904,
          -0.11191358676205446,
          2.8699281091776876,
          -0.46648935628783206,
          0.1456387070136528,
          -1.5718030469704014,
          -0.919400581374011,
          -0.4385574306559472,
          0.9539469603504792,
          0.3480216508176851,
          0.7859446983841218,
          -0.7756360897273119,
          -0.17771469767058096,
          2.7841009887793176,
          -0.4500324908581403,
          -1.6813229039518773,
          -0.45463281656514104,
          -0.023025213530122365,
          -1.7038590034826455,
          -0.0825859851593682,
          -0.2037125593284725,
          0.814377619961438,
          -0.6254026100427503,
          -1.5093882638874176,
          1.2285573829502388,
          0.1652410261119857,
          1.2081300941955717,
          -0.4805856183844383,
          -0.9998030209059221,
          2.8079053019227906,
          0.04944547123720202,
          0.5304990745579125,
          -1.055345071570587,
          1.5395395879535254,
          0.38299093507564547,
          0.5321547238143925,
          0.11616983666958806,
          -1.375565023655355,
          0.5063230091191446
         ]
        }
       ],
       "layout": {
        "legend": {
         "bgcolor": "#F5F6F9",
         "font": {
          "color": "#4D5663"
         }
        },
        "paper_bgcolor": "#F5F6F9",
        "plot_bgcolor": "#F5F6F9",
        "template": {
         "data": {
          "bar": [
           {
            "error_x": {
             "color": "#2a3f5f"
            },
            "error_y": {
             "color": "#2a3f5f"
            },
            "marker": {
             "line": {
              "color": "#E5ECF6",
              "width": 0.5
             }
            },
            "type": "bar"
           }
          ],
          "barpolar": [
           {
            "marker": {
             "line": {
              "color": "#E5ECF6",
              "width": 0.5
             }
            },
            "type": "barpolar"
           }
          ],
          "carpet": [
           {
            "aaxis": {
             "endlinecolor": "#2a3f5f",
             "gridcolor": "white",
             "linecolor": "white",
             "minorgridcolor": "white",
             "startlinecolor": "#2a3f5f"
            },
            "baxis": {
             "endlinecolor": "#2a3f5f",
             "gridcolor": "white",
             "linecolor": "white",
             "minorgridcolor": "white",
             "startlinecolor": "#2a3f5f"
            },
            "type": "carpet"
           }
          ],
          "choropleth": [
           {
            "colorbar": {
             "outlinewidth": 0,
             "ticks": ""
            },
            "type": "choropleth"
           }
          ],
          "contour": [
           {
            "colorbar": {
             "outlinewidth": 0,
             "ticks": ""
            },
            "colorscale": [
             [
              0,
              "#0d0887"
             ],
             [
              0.1111111111111111,
              "#46039f"
             ],
             [
              0.2222222222222222,
              "#7201a8"
             ],
             [
              0.3333333333333333,
              "#9c179e"
             ],
             [
              0.4444444444444444,
              "#bd3786"
             ],
             [
              0.5555555555555556,
              "#d8576b"
             ],
             [
              0.6666666666666666,
              "#ed7953"
             ],
             [
              0.7777777777777778,
              "#fb9f3a"
             ],
             [
              0.8888888888888888,
              "#fdca26"
             ],
             [
              1,
              "#f0f921"
             ]
            ],
            "type": "contour"
           }
          ],
          "contourcarpet": [
           {
            "colorbar": {
             "outlinewidth": 0,
             "ticks": ""
            },
            "type": "contourcarpet"
           }
          ],
          "heatmap": [
           {
            "colorbar": {
             "outlinewidth": 0,
             "ticks": ""
            },
            "colorscale": [
             [
              0,
              "#0d0887"
             ],
             [
              0.1111111111111111,
              "#46039f"
             ],
             [
              0.2222222222222222,
              "#7201a8"
             ],
             [
              0.3333333333333333,
              "#9c179e"
             ],
             [
              0.4444444444444444,
              "#bd3786"
             ],
             [
              0.5555555555555556,
              "#d8576b"
             ],
             [
              0.6666666666666666,
              "#ed7953"
             ],
             [
              0.7777777777777778,
              "#fb9f3a"
             ],
             [
              0.8888888888888888,
              "#fdca26"
             ],
             [
              1,
              "#f0f921"
             ]
            ],
            "type": "heatmap"
           }
          ],
          "heatmapgl": [
           {
            "colorbar": {
             "outlinewidth": 0,
             "ticks": ""
            },
            "colorscale": [
             [
              0,
              "#0d0887"
             ],
             [
              0.1111111111111111,
              "#46039f"
             ],
             [
              0.2222222222222222,
              "#7201a8"
             ],
             [
              0.3333333333333333,
              "#9c179e"
             ],
             [
              0.4444444444444444,
              "#bd3786"
             ],
             [
              0.5555555555555556,
              "#d8576b"
             ],
             [
              0.6666666666666666,
              "#ed7953"
             ],
             [
              0.7777777777777778,
              "#fb9f3a"
             ],
             [
              0.8888888888888888,
              "#fdca26"
             ],
             [
              1,
              "#f0f921"
             ]
            ],
            "type": "heatmapgl"
           }
          ],
          "histogram": [
           {
            "marker": {
             "colorbar": {
              "outlinewidth": 0,
              "ticks": ""
             }
            },
            "type": "histogram"
           }
          ],
          "histogram2d": [
           {
            "colorbar": {
             "outlinewidth": 0,
             "ticks": ""
            },
            "colorscale": [
             [
              0,
              "#0d0887"
             ],
             [
              0.1111111111111111,
              "#46039f"
             ],
             [
              0.2222222222222222,
              "#7201a8"
             ],
             [
              0.3333333333333333,
              "#9c179e"
             ],
             [
              0.4444444444444444,
              "#bd3786"
             ],
             [
              0.5555555555555556,
              "#d8576b"
             ],
             [
              0.6666666666666666,
              "#ed7953"
             ],
             [
              0.7777777777777778,
              "#fb9f3a"
             ],
             [
              0.8888888888888888,
              "#fdca26"
             ],
             [
              1,
              "#f0f921"
             ]
            ],
            "type": "histogram2d"
           }
          ],
          "histogram2dcontour": [
           {
            "colorbar": {
             "outlinewidth": 0,
             "ticks": ""
            },
            "colorscale": [
             [
              0,
              "#0d0887"
             ],
             [
              0.1111111111111111,
              "#46039f"
             ],
             [
              0.2222222222222222,
              "#7201a8"
             ],
             [
              0.3333333333333333,
              "#9c179e"
             ],
             [
              0.4444444444444444,
              "#bd3786"
             ],
             [
              0.5555555555555556,
              "#d8576b"
             ],
             [
              0.6666666666666666,
              "#ed7953"
             ],
             [
              0.7777777777777778,
              "#fb9f3a"
             ],
             [
              0.8888888888888888,
              "#fdca26"
             ],
             [
              1,
              "#f0f921"
             ]
            ],
            "type": "histogram2dcontour"
           }
          ],
          "mesh3d": [
           {
            "colorbar": {
             "outlinewidth": 0,
             "ticks": ""
            },
            "type": "mesh3d"
           }
          ],
          "parcoords": [
           {
            "line": {
             "colorbar": {
              "outlinewidth": 0,
              "ticks": ""
             }
            },
            "type": "parcoords"
           }
          ],
          "pie": [
           {
            "automargin": true,
            "type": "pie"
           }
          ],
          "scatter": [
           {
            "marker": {
             "colorbar": {
              "outlinewidth": 0,
              "ticks": ""
             }
            },
            "type": "scatter"
           }
          ],
          "scatter3d": [
           {
            "line": {
             "colorbar": {
              "outlinewidth": 0,
              "ticks": ""
             }
            },
            "marker": {
             "colorbar": {
              "outlinewidth": 0,
              "ticks": ""
             }
            },
            "type": "scatter3d"
           }
          ],
          "scattercarpet": [
           {
            "marker": {
             "colorbar": {
              "outlinewidth": 0,
              "ticks": ""
             }
            },
            "type": "scattercarpet"
           }
          ],
          "scattergeo": [
           {
            "marker": {
             "colorbar": {
              "outlinewidth": 0,
              "ticks": ""
             }
            },
            "type": "scattergeo"
           }
          ],
          "scattergl": [
           {
            "marker": {
             "colorbar": {
              "outlinewidth": 0,
              "ticks": ""
             }
            },
            "type": "scattergl"
           }
          ],
          "scattermapbox": [
           {
            "marker": {
             "colorbar": {
              "outlinewidth": 0,
              "ticks": ""
             }
            },
            "type": "scattermapbox"
           }
          ],
          "scatterpolar": [
           {
            "marker": {
             "colorbar": {
              "outlinewidth": 0,
              "ticks": ""
             }
            },
            "type": "scatterpolar"
           }
          ],
          "scatterpolargl": [
           {
            "marker": {
             "colorbar": {
              "outlinewidth": 0,
              "ticks": ""
             }
            },
            "type": "scatterpolargl"
           }
          ],
          "scatterternary": [
           {
            "marker": {
             "colorbar": {
              "outlinewidth": 0,
              "ticks": ""
             }
            },
            "type": "scatterternary"
           }
          ],
          "surface": [
           {
            "colorbar": {
             "outlinewidth": 0,
             "ticks": ""
            },
            "colorscale": [
             [
              0,
              "#0d0887"
             ],
             [
              0.1111111111111111,
              "#46039f"
             ],
             [
              0.2222222222222222,
              "#7201a8"
             ],
             [
              0.3333333333333333,
              "#9c179e"
             ],
             [
              0.4444444444444444,
              "#bd3786"
             ],
             [
              0.5555555555555556,
              "#d8576b"
             ],
             [
              0.6666666666666666,
              "#ed7953"
             ],
             [
              0.7777777777777778,
              "#fb9f3a"
             ],
             [
              0.8888888888888888,
              "#fdca26"
             ],
             [
              1,
              "#f0f921"
             ]
            ],
            "type": "surface"
           }
          ],
          "table": [
           {
            "cells": {
             "fill": {
              "color": "#EBF0F8"
             },
             "line": {
              "color": "white"
             }
            },
            "header": {
             "fill": {
              "color": "#C8D4E3"
             },
             "line": {
              "color": "white"
             }
            },
            "type": "table"
           }
          ]
         },
         "layout": {
          "annotationdefaults": {
           "arrowcolor": "#2a3f5f",
           "arrowhead": 0,
           "arrowwidth": 1
          },
          "coloraxis": {
           "colorbar": {
            "outlinewidth": 0,
            "ticks": ""
           }
          },
          "colorscale": {
           "diverging": [
            [
             0,
             "#8e0152"
            ],
            [
             0.1,
             "#c51b7d"
            ],
            [
             0.2,
             "#de77ae"
            ],
            [
             0.3,
             "#f1b6da"
            ],
            [
             0.4,
             "#fde0ef"
            ],
            [
             0.5,
             "#f7f7f7"
            ],
            [
             0.6,
             "#e6f5d0"
            ],
            [
             0.7,
             "#b8e186"
            ],
            [
             0.8,
             "#7fbc41"
            ],
            [
             0.9,
             "#4d9221"
            ],
            [
             1,
             "#276419"
            ]
           ],
           "sequential": [
            [
             0,
             "#0d0887"
            ],
            [
             0.1111111111111111,
             "#46039f"
            ],
            [
             0.2222222222222222,
             "#7201a8"
            ],
            [
             0.3333333333333333,
             "#9c179e"
            ],
            [
             0.4444444444444444,
             "#bd3786"
            ],
            [
             0.5555555555555556,
             "#d8576b"
            ],
            [
             0.6666666666666666,
             "#ed7953"
            ],
            [
             0.7777777777777778,
             "#fb9f3a"
            ],
            [
             0.8888888888888888,
             "#fdca26"
            ],
            [
             1,
             "#f0f921"
            ]
           ],
           "sequentialminus": [
            [
             0,
             "#0d0887"
            ],
            [
             0.1111111111111111,
             "#46039f"
            ],
            [
             0.2222222222222222,
             "#7201a8"
            ],
            [
             0.3333333333333333,
             "#9c179e"
            ],
            [
             0.4444444444444444,
             "#bd3786"
            ],
            [
             0.5555555555555556,
             "#d8576b"
            ],
            [
             0.6666666666666666,
             "#ed7953"
            ],
            [
             0.7777777777777778,
             "#fb9f3a"
            ],
            [
             0.8888888888888888,
             "#fdca26"
            ],
            [
             1,
             "#f0f921"
            ]
           ]
          },
          "colorway": [
           "#636efa",
           "#EF553B",
           "#00cc96",
           "#ab63fa",
           "#FFA15A",
           "#19d3f3",
           "#FF6692",
           "#B6E880",
           "#FF97FF",
           "#FECB52"
          ],
          "font": {
           "color": "#2a3f5f"
          },
          "geo": {
           "bgcolor": "white",
           "lakecolor": "white",
           "landcolor": "#E5ECF6",
           "showlakes": true,
           "showland": true,
           "subunitcolor": "white"
          },
          "hoverlabel": {
           "align": "left"
          },
          "hovermode": "closest",
          "mapbox": {
           "style": "light"
          },
          "paper_bgcolor": "white",
          "plot_bgcolor": "#E5ECF6",
          "polar": {
           "angularaxis": {
            "gridcolor": "white",
            "linecolor": "white",
            "ticks": ""
           },
           "bgcolor": "#E5ECF6",
           "radialaxis": {
            "gridcolor": "white",
            "linecolor": "white",
            "ticks": ""
           }
          },
          "scene": {
           "xaxis": {
            "backgroundcolor": "#E5ECF6",
            "gridcolor": "white",
            "gridwidth": 2,
            "linecolor": "white",
            "showbackground": true,
            "ticks": "",
            "zerolinecolor": "white"
           },
           "yaxis": {
            "backgroundcolor": "#E5ECF6",
            "gridcolor": "white",
            "gridwidth": 2,
            "linecolor": "white",
            "showbackground": true,
            "ticks": "",
            "zerolinecolor": "white"
           },
           "zaxis": {
            "backgroundcolor": "#E5ECF6",
            "gridcolor": "white",
            "gridwidth": 2,
            "linecolor": "white",
            "showbackground": true,
            "ticks": "",
            "zerolinecolor": "white"
           }
          },
          "shapedefaults": {
           "line": {
            "color": "#2a3f5f"
           }
          },
          "ternary": {
           "aaxis": {
            "gridcolor": "white",
            "linecolor": "white",
            "ticks": ""
           },
           "baxis": {
            "gridcolor": "white",
            "linecolor": "white",
            "ticks": ""
           },
           "bgcolor": "#E5ECF6",
           "caxis": {
            "gridcolor": "white",
            "linecolor": "white",
            "ticks": ""
           }
          },
          "title": {
           "x": 0.05
          },
          "xaxis": {
           "automargin": true,
           "gridcolor": "white",
           "linecolor": "white",
           "ticks": "",
           "title": {
            "standoff": 15
           },
           "zerolinecolor": "white",
           "zerolinewidth": 2
          },
          "yaxis": {
           "automargin": true,
           "gridcolor": "white",
           "linecolor": "white",
           "ticks": "",
           "title": {
            "standoff": 15
           },
           "zerolinecolor": "white",
           "zerolinewidth": 2
          }
         }
        },
        "title": {
         "font": {
          "color": "#4D5663"
         }
        },
        "xaxis": {
         "gridcolor": "#E1E5ED",
         "showgrid": true,
         "tickfont": {
          "color": "#4D5663"
         },
         "title": {
          "font": {
           "color": "#4D5663"
          },
          "text": ""
         },
         "zerolinecolor": "#E1E5ED"
        },
        "yaxis": {
         "gridcolor": "#E1E5ED",
         "showgrid": true,
         "tickfont": {
          "color": "#4D5663"
         },
         "title": {
          "font": {
           "color": "#4D5663"
          },
          "text": ""
         },
         "zerolinecolor": "#E1E5ED"
        }
       }
      },
      "text/html": [
       "<div>                            <div id=\"626d7db2-057c-4a5c-9e67-c1b69b5dea41\" class=\"plotly-graph-div\" style=\"height:525px; width:100%;\"></div>            <script type=\"text/javascript\">                require([\"plotly\"], function(Plotly) {                    window.PLOTLYENV=window.PLOTLYENV || {};\n",
       "                    window.PLOTLYENV.BASE_URL='https://plot.ly';                                    if (document.getElementById(\"626d7db2-057c-4a5c-9e67-c1b69b5dea41\")) {                    Plotly.newPlot(                        \"626d7db2-057c-4a5c-9e67-c1b69b5dea41\",                        [{\"boxpoints\": false, \"line\": {\"width\": 1.3}, \"marker\": {\"color\": \"rgba(255, 153, 51, 1.0)\"}, \"name\": \"A\", \"orientation\": \"v\", \"type\": \"box\", \"y\": [0.8044864774287241, -0.9481510423908883, 2.1161350125328893, -1.3638225018741512, 1.843275784856714, -1.7485319087132714, 0.019641782607167837, -1.3419230890825473, 0.5002851311201935, 1.7756534615326307, -1.5137689091411979, -0.6368965213801283, -0.4504836130030108, 0.8223196594555584, -0.5668391872668452, 0.28377158462026636, 0.20920576519190212, -0.2853904827657341, -0.17119499296719892, 0.3165555874193085, -0.04344304258750354, -1.6359451121334614, 1.2297443818240892, 0.3977701824683929, -0.6199429502095049, -0.5434986071672341, 0.5966658633710911, -0.9852456719148055, -1.2854772280293154, 1.6982773489170202, 0.4917482763196713, -0.39007947446503893, 0.10440829344675284, 0.029959384510654757, 1.8981150473853043, 0.11224329769735449, 0.16958490769530116, -1.0090664485461647, 1.1420713489721033, -0.08440134014658718, -0.29591835801983263, -0.8338161349177546, 0.4022410759931213, -0.09378837014273535, 2.6294839606173075, -1.8389518962689346, -0.29174947495237014, 0.9030605580213567, -0.6932451617990796, 0.6034772327037836, -0.43966887835365115, -0.7020155628235437, 0.4358997795514861, -0.8674103933488719, -0.0918369002124646, -1.1704813015761089, -1.485349686062648, -0.3845514538641442, -0.46603745412132286, 1.4430100047158019, 1.3141586177413886, 0.20470553419963025, 1.773014947883199, 0.8343339136849154, 0.8977775936652503, 0.7747413841441109, -0.22299326188335347, -0.883794978630215, 2.234388870676288, 0.06021174574722974, 0.6889431202394805, 1.0767787342659982, 0.4826885360517074, -1.3130029382256718, 1.0590237369225428, 0.4037213324474893, 0.3045309914434343, 1.6667495172080453, -0.850345536251703, -1.1913249201442142, -0.6669592472067115, -0.7523429984195517, 0.8023647436386182, 1.3605623973050855, 2.083286190157904, 0.05508675603563289, -0.5100089643770411, -1.7149273009046366, -0.6118769379222307, -2.9116624537552864, 0.513916260938284, -0.4862353539068187, 0.3189358485777468, 1.5911437180710455, -2.1718658217069904, -0.07096115996856431, 1.5501228178069633, 0.07764264026662375, 1.8097817272032244, -2.644102123835663]}, {\"boxpoints\": false, \"line\": {\"width\": 1.3}, \"marker\": {\"color\": \"rgba(55, 128, 191, 1.0)\"}, \"name\": \"B\", \"orientation\": \"v\", \"type\": \"box\", \"y\": [-0.43410269779590144, -0.4555614475370614, 0.5176068913521863, -0.2201856042059788, 0.7242319396241198, -0.43108813976885796, 0.25051323212230053, 0.115786764079762, -0.05306888817844119, 0.26794552710288705, -0.6790175164388548, 0.5482879547153879, 0.5228708258609674, 0.2992033400209017, 0.049066090332094366, -0.22468566558148392, -0.8101875845344977, -0.3454506572557632, 0.32804549581812986, -1.2347372977765778, 0.9742617146899739, 0.8985367217809102, 0.2758668900806672, -0.03991778128800362, 0.5594554600328423, 0.7373003561584219, 0.27451390695058897, 0.6976289260272461, 0.32663832911693647, 0.7628218976841893, -0.2608070928282954, -0.5146592954590046, 1.9060095192951154, 2.010745805923577, -1.96298586250898, -1.1544211492703425, 1.808908280232178, -0.03461893387673593, -0.13269694561568432, 1.2465208589234649, -0.4682696810329029, -0.16661583794871268, -1.6372717466544358, -0.4336974207373278, -0.5263169496035581, 1.6134305410761696, 0.5375785860301046, -0.7063059523886868, -0.08742558571346763, 0.4821507580979392, -0.8990165341679056, 0.38321915650915717, 0.7423161103060311, 1.2313060957281705, 1.9856557724366857, 1.0821988520204493, -0.7466618095854451, 0.629040466764736, -0.4823326456135654, 2.7490781272322296, 0.8012449112581967, 1.8190775804088608, -1.4955775599104129, 0.7755581280783765, 0.4786688696298884, 0.37290407291698097, 0.3326903476159306, 0.9233357658276374, -0.032119544524130225, -0.5351270604371191, -0.14712955543618636, 0.3231934174318966, 0.7942546322839973, -1.2495924093637072, -0.7182878506608857, -0.9024221251217006, -1.8590372235363215, -0.18596480888861117, 0.4952962821104375, 0.7663780588049834, 0.750327437984539, -0.9167075221920621, -1.4372995517066565, -1.10919826570545, 0.5886280647822731, -1.1220490019720488, 2.2294694141838862, 1.2532288659970512, -0.38572117603426015, -0.6858806771800992, 0.28722903716124615, -0.5837954459766008, -0.4391801157742352, 0.07204523589768022, 1.7569991188244072, -0.6115524855110406, -0.5548645380988806, 1.212503241540441, 0.3779869875666681, 0.7319963648223098]}, {\"boxpoints\": false, \"line\": {\"width\": 1.3}, \"marker\": {\"color\": \"rgba(50, 171, 96, 1.0)\"}, \"name\": \"C\", \"orientation\": \"v\", \"type\": \"box\", \"y\": [0.17437641394917874, 0.7490361904498126, 0.2206487700522952, -1.6480931060727528, 1.4620421283243314, 0.3820336249836358, -0.7543945300211781, -0.6426483276542193, -0.5047359239418499, 2.260731119462813, 1.2059967576360053, -0.40792789033670196, -0.3735557788923569, 0.9223879901217894, 0.5387542559927422, 1.293366186217786, -0.3061694975458192, 1.4458344474262372, -0.09731501254556423, 1.349054326346807, 0.10266894912192394, -1.5895513391001461, -0.631487039076087, -0.6495046871754468, -0.5054457546127393, 0.16588666469731964, 1.182579733108419, 1.5702728567909054, -0.6854982775173628, -0.2142420737423121, 0.0611855245856681, 1.8877586015324224, -0.04635364179885129, -0.6216973206487607, -1.8700902552522218, -0.17574719059565638, 0.48054197537656324, -1.8307026567314109, 0.42221981905429895, -0.036228233963711796, 0.2095985941357195, 0.975831001214111, -0.7017837092939401, 0.356516389516243, 1.7467740184215845, 1.8994410880435575, 0.19055959194181868, 0.2006264499212719, 0.6845249672095227, -0.31312033410853163, 1.2305046951174428, -0.3319642881558576, -1.268108681937728, -0.0775659164722555, 0.7510722580630781, 1.4084269276169865, -1.912990420801554, 1.1459097803085434, 0.15898023964590857, 1.2297004667972553, -0.14560897468774114, 0.2388596555647904, -0.11191358676205446, 2.8699281091776876, -0.46648935628783206, 0.1456387070136528, -1.5718030469704014, -0.919400581374011, -0.4385574306559472, 0.9539469603504792, 0.3480216508176851, 0.7859446983841218, -0.7756360897273119, -0.17771469767058096, 2.7841009887793176, -0.4500324908581403, -1.6813229039518773, -0.45463281656514104, -0.023025213530122365, -1.7038590034826455, -0.0825859851593682, -0.2037125593284725, 0.814377619961438, -0.6254026100427503, -1.5093882638874176, 1.2285573829502388, 0.1652410261119857, 1.2081300941955717, -0.4805856183844383, -0.9998030209059221, 2.8079053019227906, 0.04944547123720202, 0.5304990745579125, -1.055345071570587, 1.5395395879535254, 0.38299093507564547, 0.5321547238143925, 0.11616983666958806, -1.375565023655355, 0.5063230091191446]}],                        {\"legend\": {\"bgcolor\": \"#F5F6F9\", \"font\": {\"color\": \"#4D5663\"}}, \"paper_bgcolor\": \"#F5F6F9\", \"plot_bgcolor\": \"#F5F6F9\", \"template\": {\"data\": {\"bar\": [{\"error_x\": {\"color\": \"#2a3f5f\"}, \"error_y\": {\"color\": \"#2a3f5f\"}, \"marker\": {\"line\": {\"color\": \"#E5ECF6\", \"width\": 0.5}}, \"type\": \"bar\"}], \"barpolar\": [{\"marker\": {\"line\": {\"color\": \"#E5ECF6\", \"width\": 0.5}}, \"type\": \"barpolar\"}], \"carpet\": [{\"aaxis\": {\"endlinecolor\": \"#2a3f5f\", \"gridcolor\": \"white\", \"linecolor\": \"white\", \"minorgridcolor\": \"white\", \"startlinecolor\": \"#2a3f5f\"}, \"baxis\": {\"endlinecolor\": \"#2a3f5f\", \"gridcolor\": \"white\", \"linecolor\": \"white\", \"minorgridcolor\": \"white\", \"startlinecolor\": \"#2a3f5f\"}, \"type\": \"carpet\"}], \"choropleth\": [{\"colorbar\": {\"outlinewidth\": 0, \"ticks\": \"\"}, \"type\": \"choropleth\"}], \"contour\": [{\"colorbar\": {\"outlinewidth\": 0, \"ticks\": \"\"}, \"colorscale\": [[0.0, \"#0d0887\"], [0.1111111111111111, \"#46039f\"], [0.2222222222222222, \"#7201a8\"], [0.3333333333333333, \"#9c179e\"], [0.4444444444444444, \"#bd3786\"], [0.5555555555555556, \"#d8576b\"], [0.6666666666666666, \"#ed7953\"], [0.7777777777777778, \"#fb9f3a\"], [0.8888888888888888, \"#fdca26\"], [1.0, \"#f0f921\"]], \"type\": \"contour\"}], \"contourcarpet\": [{\"colorbar\": {\"outlinewidth\": 0, \"ticks\": \"\"}, \"type\": \"contourcarpet\"}], \"heatmap\": [{\"colorbar\": {\"outlinewidth\": 0, \"ticks\": \"\"}, \"colorscale\": [[0.0, \"#0d0887\"], [0.1111111111111111, \"#46039f\"], [0.2222222222222222, \"#7201a8\"], [0.3333333333333333, \"#9c179e\"], [0.4444444444444444, \"#bd3786\"], [0.5555555555555556, \"#d8576b\"], [0.6666666666666666, \"#ed7953\"], [0.7777777777777778, \"#fb9f3a\"], [0.8888888888888888, \"#fdca26\"], [1.0, \"#f0f921\"]], \"type\": \"heatmap\"}], \"heatmapgl\": [{\"colorbar\": {\"outlinewidth\": 0, \"ticks\": \"\"}, \"colorscale\": [[0.0, \"#0d0887\"], [0.1111111111111111, \"#46039f\"], [0.2222222222222222, \"#7201a8\"], [0.3333333333333333, \"#9c179e\"], [0.4444444444444444, \"#bd3786\"], [0.5555555555555556, \"#d8576b\"], [0.6666666666666666, \"#ed7953\"], [0.7777777777777778, \"#fb9f3a\"], [0.8888888888888888, \"#fdca26\"], [1.0, \"#f0f921\"]], \"type\": \"heatmapgl\"}], \"histogram\": [{\"marker\": {\"colorbar\": {\"outlinewidth\": 0, \"ticks\": \"\"}}, \"type\": \"histogram\"}], \"histogram2d\": [{\"colorbar\": {\"outlinewidth\": 0, \"ticks\": \"\"}, \"colorscale\": [[0.0, \"#0d0887\"], [0.1111111111111111, \"#46039f\"], [0.2222222222222222, \"#7201a8\"], [0.3333333333333333, \"#9c179e\"], [0.4444444444444444, \"#bd3786\"], [0.5555555555555556, \"#d8576b\"], [0.6666666666666666, \"#ed7953\"], [0.7777777777777778, \"#fb9f3a\"], [0.8888888888888888, \"#fdca26\"], [1.0, \"#f0f921\"]], \"type\": \"histogram2d\"}], \"histogram2dcontour\": [{\"colorbar\": {\"outlinewidth\": 0, \"ticks\": \"\"}, \"colorscale\": [[0.0, \"#0d0887\"], [0.1111111111111111, \"#46039f\"], [0.2222222222222222, \"#7201a8\"], [0.3333333333333333, \"#9c179e\"], [0.4444444444444444, \"#bd3786\"], [0.5555555555555556, \"#d8576b\"], [0.6666666666666666, \"#ed7953\"], [0.7777777777777778, \"#fb9f3a\"], [0.8888888888888888, \"#fdca26\"], [1.0, \"#f0f921\"]], \"type\": \"histogram2dcontour\"}], \"mesh3d\": [{\"colorbar\": {\"outlinewidth\": 0, \"ticks\": \"\"}, \"type\": \"mesh3d\"}], \"parcoords\": [{\"line\": {\"colorbar\": {\"outlinewidth\": 0, \"ticks\": \"\"}}, \"type\": \"parcoords\"}], \"pie\": [{\"automargin\": true, \"type\": \"pie\"}], \"scatter\": [{\"marker\": {\"colorbar\": {\"outlinewidth\": 0, \"ticks\": \"\"}}, \"type\": \"scatter\"}], \"scatter3d\": [{\"line\": {\"colorbar\": {\"outlinewidth\": 0, \"ticks\": \"\"}}, \"marker\": {\"colorbar\": {\"outlinewidth\": 0, \"ticks\": \"\"}}, \"type\": \"scatter3d\"}], \"scattercarpet\": [{\"marker\": {\"colorbar\": {\"outlinewidth\": 0, \"ticks\": \"\"}}, \"type\": \"scattercarpet\"}], \"scattergeo\": [{\"marker\": {\"colorbar\": {\"outlinewidth\": 0, \"ticks\": \"\"}}, \"type\": \"scattergeo\"}], \"scattergl\": [{\"marker\": {\"colorbar\": {\"outlinewidth\": 0, \"ticks\": \"\"}}, \"type\": \"scattergl\"}], \"scattermapbox\": [{\"marker\": {\"colorbar\": {\"outlinewidth\": 0, \"ticks\": \"\"}}, \"type\": \"scattermapbox\"}], \"scatterpolar\": [{\"marker\": {\"colorbar\": {\"outlinewidth\": 0, \"ticks\": \"\"}}, \"type\": \"scatterpolar\"}], \"scatterpolargl\": [{\"marker\": {\"colorbar\": {\"outlinewidth\": 0, \"ticks\": \"\"}}, \"type\": \"scatterpolargl\"}], \"scatterternary\": [{\"marker\": {\"colorbar\": {\"outlinewidth\": 0, \"ticks\": \"\"}}, \"type\": \"scatterternary\"}], \"surface\": [{\"colorbar\": {\"outlinewidth\": 0, \"ticks\": \"\"}, \"colorscale\": [[0.0, \"#0d0887\"], [0.1111111111111111, \"#46039f\"], [0.2222222222222222, \"#7201a8\"], [0.3333333333333333, \"#9c179e\"], [0.4444444444444444, \"#bd3786\"], [0.5555555555555556, \"#d8576b\"], [0.6666666666666666, \"#ed7953\"], [0.7777777777777778, \"#fb9f3a\"], [0.8888888888888888, \"#fdca26\"], [1.0, \"#f0f921\"]], \"type\": \"surface\"}], \"table\": [{\"cells\": {\"fill\": {\"color\": \"#EBF0F8\"}, \"line\": {\"color\": \"white\"}}, \"header\": {\"fill\": {\"color\": \"#C8D4E3\"}, \"line\": {\"color\": \"white\"}}, \"type\": \"table\"}]}, \"layout\": {\"annotationdefaults\": {\"arrowcolor\": \"#2a3f5f\", \"arrowhead\": 0, \"arrowwidth\": 1}, \"coloraxis\": {\"colorbar\": {\"outlinewidth\": 0, \"ticks\": \"\"}}, \"colorscale\": {\"diverging\": [[0, \"#8e0152\"], [0.1, \"#c51b7d\"], [0.2, \"#de77ae\"], [0.3, \"#f1b6da\"], [0.4, \"#fde0ef\"], [0.5, \"#f7f7f7\"], [0.6, \"#e6f5d0\"], [0.7, \"#b8e186\"], [0.8, \"#7fbc41\"], [0.9, \"#4d9221\"], [1, \"#276419\"]], \"sequential\": [[0.0, \"#0d0887\"], [0.1111111111111111, \"#46039f\"], [0.2222222222222222, \"#7201a8\"], [0.3333333333333333, \"#9c179e\"], [0.4444444444444444, \"#bd3786\"], [0.5555555555555556, \"#d8576b\"], [0.6666666666666666, \"#ed7953\"], [0.7777777777777778, \"#fb9f3a\"], [0.8888888888888888, \"#fdca26\"], [1.0, \"#f0f921\"]], \"sequentialminus\": [[0.0, \"#0d0887\"], [0.1111111111111111, \"#46039f\"], [0.2222222222222222, \"#7201a8\"], [0.3333333333333333, \"#9c179e\"], [0.4444444444444444, \"#bd3786\"], [0.5555555555555556, \"#d8576b\"], [0.6666666666666666, \"#ed7953\"], [0.7777777777777778, \"#fb9f3a\"], [0.8888888888888888, \"#fdca26\"], [1.0, \"#f0f921\"]]}, \"colorway\": [\"#636efa\", \"#EF553B\", \"#00cc96\", \"#ab63fa\", \"#FFA15A\", \"#19d3f3\", \"#FF6692\", \"#B6E880\", \"#FF97FF\", \"#FECB52\"], \"font\": {\"color\": \"#2a3f5f\"}, \"geo\": {\"bgcolor\": \"white\", \"lakecolor\": \"white\", \"landcolor\": \"#E5ECF6\", \"showlakes\": true, \"showland\": true, \"subunitcolor\": \"white\"}, \"hoverlabel\": {\"align\": \"left\"}, \"hovermode\": \"closest\", \"mapbox\": {\"style\": \"light\"}, \"paper_bgcolor\": \"white\", \"plot_bgcolor\": \"#E5ECF6\", \"polar\": {\"angularaxis\": {\"gridcolor\": \"white\", \"linecolor\": \"white\", \"ticks\": \"\"}, \"bgcolor\": \"#E5ECF6\", \"radialaxis\": {\"gridcolor\": \"white\", \"linecolor\": \"white\", \"ticks\": \"\"}}, \"scene\": {\"xaxis\": {\"backgroundcolor\": \"#E5ECF6\", \"gridcolor\": \"white\", \"gridwidth\": 2, \"linecolor\": \"white\", \"showbackground\": true, \"ticks\": \"\", \"zerolinecolor\": \"white\"}, \"yaxis\": {\"backgroundcolor\": \"#E5ECF6\", \"gridcolor\": \"white\", \"gridwidth\": 2, \"linecolor\": \"white\", \"showbackground\": true, \"ticks\": \"\", \"zerolinecolor\": \"white\"}, \"zaxis\": {\"backgroundcolor\": \"#E5ECF6\", \"gridcolor\": \"white\", \"gridwidth\": 2, \"linecolor\": \"white\", \"showbackground\": true, \"ticks\": \"\", \"zerolinecolor\": \"white\"}}, \"shapedefaults\": {\"line\": {\"color\": \"#2a3f5f\"}}, \"ternary\": {\"aaxis\": {\"gridcolor\": \"white\", \"linecolor\": \"white\", \"ticks\": \"\"}, \"baxis\": {\"gridcolor\": \"white\", \"linecolor\": \"white\", \"ticks\": \"\"}, \"bgcolor\": \"#E5ECF6\", \"caxis\": {\"gridcolor\": \"white\", \"linecolor\": \"white\", \"ticks\": \"\"}}, \"title\": {\"x\": 0.05}, \"xaxis\": {\"automargin\": true, \"gridcolor\": \"white\", \"linecolor\": \"white\", \"ticks\": \"\", \"title\": {\"standoff\": 15}, \"zerolinecolor\": \"white\", \"zerolinewidth\": 2}, \"yaxis\": {\"automargin\": true, \"gridcolor\": \"white\", \"linecolor\": \"white\", \"ticks\": \"\", \"title\": {\"standoff\": 15}, \"zerolinecolor\": \"white\", \"zerolinewidth\": 2}}}, \"title\": {\"font\": {\"color\": \"#4D5663\"}}, \"xaxis\": {\"gridcolor\": \"#E1E5ED\", \"showgrid\": true, \"tickfont\": {\"color\": \"#4D5663\"}, \"title\": {\"font\": {\"color\": \"#4D5663\"}, \"text\": \"\"}, \"zerolinecolor\": \"#E1E5ED\"}, \"yaxis\": {\"gridcolor\": \"#E1E5ED\", \"showgrid\": true, \"tickfont\": {\"color\": \"#4D5663\"}, \"title\": {\"font\": {\"color\": \"#4D5663\"}, \"text\": \"\"}, \"zerolinecolor\": \"#E1E5ED\"}},                        {\"showLink\": true, \"linkText\": \"Export to plot.ly\", \"plotlyServerURL\": \"https://plot.ly\", \"responsive\": true}                    ).then(function(){\n",
       "                            \n",
       "var gd = document.getElementById('626d7db2-057c-4a5c-9e67-c1b69b5dea41');\n",
       "var x = new MutationObserver(function (mutations, observer) {{\n",
       "        var display = window.getComputedStyle(gd).display;\n",
       "        if (!display || display === 'none') {{\n",
       "            console.log([gd, 'removed!']);\n",
       "            Plotly.purge(gd);\n",
       "            observer.disconnect();\n",
       "        }}\n",
       "}});\n",
       "\n",
       "// Listen for the removal of the full notebook cells\n",
       "var notebookContainer = gd.closest('#notebook-container');\n",
       "if (notebookContainer) {{\n",
       "    x.observe(notebookContainer, {childList: true});\n",
       "}}\n",
       "\n",
       "// Listen for the clearing of the current output cell\n",
       "var outputEl = gd.closest('.output');\n",
       "if (outputEl) {{\n",
       "    x.observe(outputEl, {childList: true});\n",
       "}}\n",
       "\n",
       "                        })                };                });            </script>        </div>"
      ]
     },
     "metadata": {},
     "output_type": "display_data"
    }
   ],
   "source": [
    "df.iplot(kind='box')"
   ]
  },
  {
   "cell_type": "markdown",
   "metadata": {},
   "source": [
    "### Area Plot"
   ]
  },
  {
   "cell_type": "code",
   "execution_count": 28,
   "metadata": {},
   "outputs": [
    {
     "data": {
      "application/vnd.plotly.v1+json": {
       "config": {
        "linkText": "Export to plot.ly",
        "plotlyServerURL": "https://plot.ly",
        "showLink": true
       },
       "data": [
        {
         "fill": "tonexty",
         "fillcolor": "rgba(255, 153, 51, 0.3)",
         "line": {
          "color": "rgba(255, 153, 51, 1.0)",
          "dash": "solid",
          "shape": "linear",
          "width": 1.3
         },
         "mode": "lines",
         "name": "A",
         "text": "",
         "type": "scatter",
         "x": [
          0,
          1,
          2,
          3,
          4,
          5,
          6,
          7,
          8,
          9,
          10,
          11,
          12,
          13,
          14,
          15,
          16,
          17,
          18,
          19,
          20,
          21,
          22,
          23,
          24,
          25,
          26,
          27,
          28,
          29,
          30,
          31,
          32,
          33,
          34,
          35,
          36,
          37,
          38,
          39,
          40,
          41,
          42,
          43,
          44,
          45,
          46,
          47,
          48,
          49,
          50,
          51,
          52,
          53,
          54,
          55,
          56,
          57,
          58,
          59,
          60,
          61,
          62,
          63,
          64,
          65,
          66,
          67,
          68,
          69,
          70,
          71,
          72,
          73,
          74,
          75,
          76,
          77,
          78,
          79,
          80,
          81,
          82,
          83,
          84,
          85,
          86,
          87,
          88,
          89,
          90,
          91,
          92,
          93,
          94,
          95,
          96,
          97,
          98,
          99
         ],
         "y": [
          0.8044864774287241,
          -0.9481510423908883,
          2.1161350125328893,
          -1.3638225018741512,
          1.843275784856714,
          -1.7485319087132714,
          0.019641782607167837,
          -1.3419230890825473,
          0.5002851311201935,
          1.7756534615326307,
          -1.5137689091411979,
          -0.6368965213801283,
          -0.4504836130030108,
          0.8223196594555584,
          -0.5668391872668452,
          0.28377158462026636,
          0.20920576519190212,
          -0.2853904827657341,
          -0.17119499296719892,
          0.3165555874193085,
          -0.04344304258750354,
          -1.6359451121334614,
          1.2297443818240892,
          0.3977701824683929,
          -0.6199429502095049,
          -0.5434986071672341,
          0.5966658633710911,
          -0.9852456719148055,
          -1.2854772280293154,
          1.6982773489170202,
          0.4917482763196713,
          -0.39007947446503893,
          0.10440829344675284,
          0.029959384510654757,
          1.8981150473853043,
          0.11224329769735449,
          0.16958490769530116,
          -1.0090664485461647,
          1.1420713489721033,
          -0.08440134014658718,
          -0.29591835801983263,
          -0.8338161349177546,
          0.4022410759931213,
          -0.09378837014273535,
          2.6294839606173075,
          -1.8389518962689346,
          -0.29174947495237014,
          0.9030605580213567,
          -0.6932451617990796,
          0.6034772327037836,
          -0.43966887835365115,
          -0.7020155628235437,
          0.4358997795514861,
          -0.8674103933488719,
          -0.0918369002124646,
          -1.1704813015761089,
          -1.485349686062648,
          -0.3845514538641442,
          -0.46603745412132286,
          1.4430100047158019,
          1.3141586177413886,
          0.20470553419963025,
          1.773014947883199,
          0.8343339136849154,
          0.8977775936652503,
          0.7747413841441109,
          -0.22299326188335347,
          -0.883794978630215,
          2.234388870676288,
          0.06021174574722974,
          0.6889431202394805,
          1.0767787342659982,
          0.4826885360517074,
          -1.3130029382256718,
          1.0590237369225428,
          0.4037213324474893,
          0.3045309914434343,
          1.6667495172080453,
          -0.850345536251703,
          -1.1913249201442142,
          -0.6669592472067115,
          -0.7523429984195517,
          0.8023647436386182,
          1.3605623973050855,
          2.083286190157904,
          0.05508675603563289,
          -0.5100089643770411,
          -1.7149273009046366,
          -0.6118769379222307,
          -2.9116624537552864,
          0.513916260938284,
          -0.4862353539068187,
          0.3189358485777468,
          1.5911437180710455,
          -2.1718658217069904,
          -0.07096115996856431,
          1.5501228178069633,
          0.07764264026662375,
          1.8097817272032244,
          -2.644102123835663
         ]
        },
        {
         "fill": "tonexty",
         "fillcolor": "rgba(55, 128, 191, 0.3)",
         "line": {
          "color": "rgba(55, 128, 191, 1.0)",
          "dash": "solid",
          "shape": "linear",
          "width": 1.3
         },
         "mode": "lines",
         "name": "B",
         "text": "",
         "type": "scatter",
         "x": [
          0,
          1,
          2,
          3,
          4,
          5,
          6,
          7,
          8,
          9,
          10,
          11,
          12,
          13,
          14,
          15,
          16,
          17,
          18,
          19,
          20,
          21,
          22,
          23,
          24,
          25,
          26,
          27,
          28,
          29,
          30,
          31,
          32,
          33,
          34,
          35,
          36,
          37,
          38,
          39,
          40,
          41,
          42,
          43,
          44,
          45,
          46,
          47,
          48,
          49,
          50,
          51,
          52,
          53,
          54,
          55,
          56,
          57,
          58,
          59,
          60,
          61,
          62,
          63,
          64,
          65,
          66,
          67,
          68,
          69,
          70,
          71,
          72,
          73,
          74,
          75,
          76,
          77,
          78,
          79,
          80,
          81,
          82,
          83,
          84,
          85,
          86,
          87,
          88,
          89,
          90,
          91,
          92,
          93,
          94,
          95,
          96,
          97,
          98,
          99
         ],
         "y": [
          0.3703837796328227,
          -1.4037124899279498,
          2.633741903885076,
          -1.58400810608013,
          2.567507724480834,
          -2.1796200484821293,
          0.27015501472946835,
          -1.2261363250027852,
          0.4472162429417523,
          2.0435989886355177,
          -2.192786425580053,
          -0.08860856666474037,
          0.07238721285795663,
          1.1215229994764602,
          -0.5177730969347508,
          0.059085919038782436,
          -0.6009818193425955,
          -0.6308411400214973,
          0.15685050285093094,
          -0.9181817103572694,
          0.9308186721024704,
          -0.7374083903525512,
          1.5056112719047565,
          0.3578524011803893,
          -0.06048749017666255,
          0.19380174899118785,
          0.87117977032168,
          -0.28761674588755937,
          -0.958838898912379,
          2.4610992466012096,
          0.23094118349137588,
          -0.9047387699240435,
          2.0104178127418684,
          2.040705190434232,
          -0.06487081512367565,
          -1.042177851572988,
          1.9784931879274792,
          -1.0436853824229007,
          1.009374403356419,
          1.1621195187768776,
          -0.7641880390527356,
          -1.0004319728664672,
          -1.2350306706613146,
          -0.5274857908800632,
          2.1031670110137495,
          -0.22552135519276506,
          0.24582911107773442,
          0.1967546056326699,
          -0.7806707475125472,
          1.0856279908017228,
          -1.3386854125215568,
          -0.31879640631438655,
          1.1782158898575172,
          0.3638957023792986,
          1.893818872224221,
          -0.08828244955565956,
          -2.232011495648093,
          0.24448901290059183,
          -0.9483700997348883,
          4.192088131948031,
          2.115403528999585,
          2.023783114608491,
          0.27743738797278605,
          1.6098920417632918,
          1.3764464632951388,
          1.147645457061092,
          0.10969708573257711,
          0.03954078719742249,
          2.202269326152158,
          -0.47491531468988935,
          0.5418135648032941,
          1.399972151697895,
          1.2769431683357046,
          -2.562595347589379,
          0.3407358862616571,
          -0.4987007926742113,
          -1.554506232092887,
          1.480784708319434,
          -0.3550492541412654,
          -0.42494686133923076,
          0.08336819077782753,
          -1.6690505206116137,
          -0.6349348080680383,
          0.25136413159963555,
          2.671914254940177,
          -1.0669622459364159,
          1.719460449806845,
          -0.46169843490758544,
          -0.9975981139564909,
          -3.5975431309353856,
          0.8011452980995302,
          -1.0700307998834195,
          -0.1202442671964884,
          1.6631889539687257,
          -0.4148667028825832,
          -0.6825136454796049,
          0.9952582797080827,
          1.2901458818070648,
          2.1877687147698923,
          -1.912105759013353
         ]
        },
        {
         "fill": "tonexty",
         "fillcolor": "rgba(50, 171, 96, 0.3)",
         "line": {
          "color": "rgba(50, 171, 96, 1.0)",
          "dash": "solid",
          "shape": "linear",
          "width": 1.3
         },
         "mode": "lines",
         "name": "C",
         "text": "",
         "type": "scatter",
         "x": [
          0,
          1,
          2,
          3,
          4,
          5,
          6,
          7,
          8,
          9,
          10,
          11,
          12,
          13,
          14,
          15,
          16,
          17,
          18,
          19,
          20,
          21,
          22,
          23,
          24,
          25,
          26,
          27,
          28,
          29,
          30,
          31,
          32,
          33,
          34,
          35,
          36,
          37,
          38,
          39,
          40,
          41,
          42,
          43,
          44,
          45,
          46,
          47,
          48,
          49,
          50,
          51,
          52,
          53,
          54,
          55,
          56,
          57,
          58,
          59,
          60,
          61,
          62,
          63,
          64,
          65,
          66,
          67,
          68,
          69,
          70,
          71,
          72,
          73,
          74,
          75,
          76,
          77,
          78,
          79,
          80,
          81,
          82,
          83,
          84,
          85,
          86,
          87,
          88,
          89,
          90,
          91,
          92,
          93,
          94,
          95,
          96,
          97,
          98,
          99
         ],
         "y": [
          0.5447601935820015,
          -0.6546762994781372,
          2.854390673937371,
          -3.232101212152883,
          4.029549852805165,
          -1.7975864234984935,
          -0.4842395152917097,
          -1.8687846526570047,
          -0.05751968100009758,
          4.3043301080983305,
          -0.9867896679440475,
          -0.49653645700144233,
          -0.3011685660344003,
          2.0439109895982495,
          0.02098115905799136,
          1.3524521052565686,
          -0.9071513168884147,
          0.81499330740474,
          0.059535490305366714,
          0.43087261598953774,
          1.0334876212243944,
          -2.3269597294526974,
          0.8741242328286695,
          -0.29165228599505755,
          -0.5659332447894019,
          0.35968841368850746,
          2.053759503430099,
          1.282656110903346,
          -1.6443371764297416,
          2.2468571728588973,
          0.292126708077044,
          0.9830198316083789,
          1.964064170943017,
          1.4190078697854713,
          -1.9349610703758975,
          -1.2179250421686445,
          2.4590351633040424,
          -2.8743880391543115,
          1.4315942224107179,
          1.1258912848131657,
          -0.5545894449170161,
          -0.024600971652356196,
          -1.9368143799552546,
          -0.17096940136382022,
          3.849941029435334,
          1.6739197328507924,
          0.4363887030195531,
          0.39738105555394176,
          -0.09614578030302445,
          0.7725076566931912,
          -0.10818071740411406,
          -0.6507606944702442,
          -0.08989279208021084,
          0.28632978590704306,
          2.644891130287299,
          1.320144478061327,
          -4.145001916449647,
          1.3903987932091353,
          -0.7893898600889797,
          5.4217885987452865,
          1.969794554311844,
          2.2626427701732816,
          0.1655238012107316,
          4.479820150940979,
          0.9099571070073067,
          1.2932841640747448,
          -1.4621059612378242,
          -0.8798597941765885,
          1.7637118954962108,
          0.47903164566058987,
          0.8898352156209792,
          2.185916850082017,
          0.5013070786083927,
          -2.74031004525996,
          3.1248368750409745,
          -0.9487332835323516,
          -3.2358291360447646,
          1.026151891754293,
          -0.3780744676713878,
          -2.128805864821876,
          0.0007822056184593335,
          -1.8727630799400863,
          0.17944281189339972,
          -0.3740384784431148,
          1.1625259910527594,
          0.1615951370138229,
          1.8847014759188307,
          0.7464316592879863,
          -1.4781837323409293,
          -4.5973461518413075,
          3.6090506000223206,
          -1.0205853286462174,
          0.41025480736142406,
          0.6078438823981387,
          1.1246728850709422,
          -0.29952271040395945,
          1.5274130035224753,
          1.4063157184766528,
          0.8122036911145374,
          -1.4057827498942084
         ]
        }
       ],
       "layout": {
        "legend": {
         "bgcolor": "#F5F6F9",
         "font": {
          "color": "#4D5663"
         }
        },
        "paper_bgcolor": "#F5F6F9",
        "plot_bgcolor": "#F5F6F9",
        "template": {
         "data": {
          "bar": [
           {
            "error_x": {
             "color": "#2a3f5f"
            },
            "error_y": {
             "color": "#2a3f5f"
            },
            "marker": {
             "line": {
              "color": "#E5ECF6",
              "width": 0.5
             }
            },
            "type": "bar"
           }
          ],
          "barpolar": [
           {
            "marker": {
             "line": {
              "color": "#E5ECF6",
              "width": 0.5
             }
            },
            "type": "barpolar"
           }
          ],
          "carpet": [
           {
            "aaxis": {
             "endlinecolor": "#2a3f5f",
             "gridcolor": "white",
             "linecolor": "white",
             "minorgridcolor": "white",
             "startlinecolor": "#2a3f5f"
            },
            "baxis": {
             "endlinecolor": "#2a3f5f",
             "gridcolor": "white",
             "linecolor": "white",
             "minorgridcolor": "white",
             "startlinecolor": "#2a3f5f"
            },
            "type": "carpet"
           }
          ],
          "choropleth": [
           {
            "colorbar": {
             "outlinewidth": 0,
             "ticks": ""
            },
            "type": "choropleth"
           }
          ],
          "contour": [
           {
            "colorbar": {
             "outlinewidth": 0,
             "ticks": ""
            },
            "colorscale": [
             [
              0,
              "#0d0887"
             ],
             [
              0.1111111111111111,
              "#46039f"
             ],
             [
              0.2222222222222222,
              "#7201a8"
             ],
             [
              0.3333333333333333,
              "#9c179e"
             ],
             [
              0.4444444444444444,
              "#bd3786"
             ],
             [
              0.5555555555555556,
              "#d8576b"
             ],
             [
              0.6666666666666666,
              "#ed7953"
             ],
             [
              0.7777777777777778,
              "#fb9f3a"
             ],
             [
              0.8888888888888888,
              "#fdca26"
             ],
             [
              1,
              "#f0f921"
             ]
            ],
            "type": "contour"
           }
          ],
          "contourcarpet": [
           {
            "colorbar": {
             "outlinewidth": 0,
             "ticks": ""
            },
            "type": "contourcarpet"
           }
          ],
          "heatmap": [
           {
            "colorbar": {
             "outlinewidth": 0,
             "ticks": ""
            },
            "colorscale": [
             [
              0,
              "#0d0887"
             ],
             [
              0.1111111111111111,
              "#46039f"
             ],
             [
              0.2222222222222222,
              "#7201a8"
             ],
             [
              0.3333333333333333,
              "#9c179e"
             ],
             [
              0.4444444444444444,
              "#bd3786"
             ],
             [
              0.5555555555555556,
              "#d8576b"
             ],
             [
              0.6666666666666666,
              "#ed7953"
             ],
             [
              0.7777777777777778,
              "#fb9f3a"
             ],
             [
              0.8888888888888888,
              "#fdca26"
             ],
             [
              1,
              "#f0f921"
             ]
            ],
            "type": "heatmap"
           }
          ],
          "heatmapgl": [
           {
            "colorbar": {
             "outlinewidth": 0,
             "ticks": ""
            },
            "colorscale": [
             [
              0,
              "#0d0887"
             ],
             [
              0.1111111111111111,
              "#46039f"
             ],
             [
              0.2222222222222222,
              "#7201a8"
             ],
             [
              0.3333333333333333,
              "#9c179e"
             ],
             [
              0.4444444444444444,
              "#bd3786"
             ],
             [
              0.5555555555555556,
              "#d8576b"
             ],
             [
              0.6666666666666666,
              "#ed7953"
             ],
             [
              0.7777777777777778,
              "#fb9f3a"
             ],
             [
              0.8888888888888888,
              "#fdca26"
             ],
             [
              1,
              "#f0f921"
             ]
            ],
            "type": "heatmapgl"
           }
          ],
          "histogram": [
           {
            "marker": {
             "colorbar": {
              "outlinewidth": 0,
              "ticks": ""
             }
            },
            "type": "histogram"
           }
          ],
          "histogram2d": [
           {
            "colorbar": {
             "outlinewidth": 0,
             "ticks": ""
            },
            "colorscale": [
             [
              0,
              "#0d0887"
             ],
             [
              0.1111111111111111,
              "#46039f"
             ],
             [
              0.2222222222222222,
              "#7201a8"
             ],
             [
              0.3333333333333333,
              "#9c179e"
             ],
             [
              0.4444444444444444,
              "#bd3786"
             ],
             [
              0.5555555555555556,
              "#d8576b"
             ],
             [
              0.6666666666666666,
              "#ed7953"
             ],
             [
              0.7777777777777778,
              "#fb9f3a"
             ],
             [
              0.8888888888888888,
              "#fdca26"
             ],
             [
              1,
              "#f0f921"
             ]
            ],
            "type": "histogram2d"
           }
          ],
          "histogram2dcontour": [
           {
            "colorbar": {
             "outlinewidth": 0,
             "ticks": ""
            },
            "colorscale": [
             [
              0,
              "#0d0887"
             ],
             [
              0.1111111111111111,
              "#46039f"
             ],
             [
              0.2222222222222222,
              "#7201a8"
             ],
             [
              0.3333333333333333,
              "#9c179e"
             ],
             [
              0.4444444444444444,
              "#bd3786"
             ],
             [
              0.5555555555555556,
              "#d8576b"
             ],
             [
              0.6666666666666666,
              "#ed7953"
             ],
             [
              0.7777777777777778,
              "#fb9f3a"
             ],
             [
              0.8888888888888888,
              "#fdca26"
             ],
             [
              1,
              "#f0f921"
             ]
            ],
            "type": "histogram2dcontour"
           }
          ],
          "mesh3d": [
           {
            "colorbar": {
             "outlinewidth": 0,
             "ticks": ""
            },
            "type": "mesh3d"
           }
          ],
          "parcoords": [
           {
            "line": {
             "colorbar": {
              "outlinewidth": 0,
              "ticks": ""
             }
            },
            "type": "parcoords"
           }
          ],
          "pie": [
           {
            "automargin": true,
            "type": "pie"
           }
          ],
          "scatter": [
           {
            "marker": {
             "colorbar": {
              "outlinewidth": 0,
              "ticks": ""
             }
            },
            "type": "scatter"
           }
          ],
          "scatter3d": [
           {
            "line": {
             "colorbar": {
              "outlinewidth": 0,
              "ticks": ""
             }
            },
            "marker": {
             "colorbar": {
              "outlinewidth": 0,
              "ticks": ""
             }
            },
            "type": "scatter3d"
           }
          ],
          "scattercarpet": [
           {
            "marker": {
             "colorbar": {
              "outlinewidth": 0,
              "ticks": ""
             }
            },
            "type": "scattercarpet"
           }
          ],
          "scattergeo": [
           {
            "marker": {
             "colorbar": {
              "outlinewidth": 0,
              "ticks": ""
             }
            },
            "type": "scattergeo"
           }
          ],
          "scattergl": [
           {
            "marker": {
             "colorbar": {
              "outlinewidth": 0,
              "ticks": ""
             }
            },
            "type": "scattergl"
           }
          ],
          "scattermapbox": [
           {
            "marker": {
             "colorbar": {
              "outlinewidth": 0,
              "ticks": ""
             }
            },
            "type": "scattermapbox"
           }
          ],
          "scatterpolar": [
           {
            "marker": {
             "colorbar": {
              "outlinewidth": 0,
              "ticks": ""
             }
            },
            "type": "scatterpolar"
           }
          ],
          "scatterpolargl": [
           {
            "marker": {
             "colorbar": {
              "outlinewidth": 0,
              "ticks": ""
             }
            },
            "type": "scatterpolargl"
           }
          ],
          "scatterternary": [
           {
            "marker": {
             "colorbar": {
              "outlinewidth": 0,
              "ticks": ""
             }
            },
            "type": "scatterternary"
           }
          ],
          "surface": [
           {
            "colorbar": {
             "outlinewidth": 0,
             "ticks": ""
            },
            "colorscale": [
             [
              0,
              "#0d0887"
             ],
             [
              0.1111111111111111,
              "#46039f"
             ],
             [
              0.2222222222222222,
              "#7201a8"
             ],
             [
              0.3333333333333333,
              "#9c179e"
             ],
             [
              0.4444444444444444,
              "#bd3786"
             ],
             [
              0.5555555555555556,
              "#d8576b"
             ],
             [
              0.6666666666666666,
              "#ed7953"
             ],
             [
              0.7777777777777778,
              "#fb9f3a"
             ],
             [
              0.8888888888888888,
              "#fdca26"
             ],
             [
              1,
              "#f0f921"
             ]
            ],
            "type": "surface"
           }
          ],
          "table": [
           {
            "cells": {
             "fill": {
              "color": "#EBF0F8"
             },
             "line": {
              "color": "white"
             }
            },
            "header": {
             "fill": {
              "color": "#C8D4E3"
             },
             "line": {
              "color": "white"
             }
            },
            "type": "table"
           }
          ]
         },
         "layout": {
          "annotationdefaults": {
           "arrowcolor": "#2a3f5f",
           "arrowhead": 0,
           "arrowwidth": 1
          },
          "coloraxis": {
           "colorbar": {
            "outlinewidth": 0,
            "ticks": ""
           }
          },
          "colorscale": {
           "diverging": [
            [
             0,
             "#8e0152"
            ],
            [
             0.1,
             "#c51b7d"
            ],
            [
             0.2,
             "#de77ae"
            ],
            [
             0.3,
             "#f1b6da"
            ],
            [
             0.4,
             "#fde0ef"
            ],
            [
             0.5,
             "#f7f7f7"
            ],
            [
             0.6,
             "#e6f5d0"
            ],
            [
             0.7,
             "#b8e186"
            ],
            [
             0.8,
             "#7fbc41"
            ],
            [
             0.9,
             "#4d9221"
            ],
            [
             1,
             "#276419"
            ]
           ],
           "sequential": [
            [
             0,
             "#0d0887"
            ],
            [
             0.1111111111111111,
             "#46039f"
            ],
            [
             0.2222222222222222,
             "#7201a8"
            ],
            [
             0.3333333333333333,
             "#9c179e"
            ],
            [
             0.4444444444444444,
             "#bd3786"
            ],
            [
             0.5555555555555556,
             "#d8576b"
            ],
            [
             0.6666666666666666,
             "#ed7953"
            ],
            [
             0.7777777777777778,
             "#fb9f3a"
            ],
            [
             0.8888888888888888,
             "#fdca26"
            ],
            [
             1,
             "#f0f921"
            ]
           ],
           "sequentialminus": [
            [
             0,
             "#0d0887"
            ],
            [
             0.1111111111111111,
             "#46039f"
            ],
            [
             0.2222222222222222,
             "#7201a8"
            ],
            [
             0.3333333333333333,
             "#9c179e"
            ],
            [
             0.4444444444444444,
             "#bd3786"
            ],
            [
             0.5555555555555556,
             "#d8576b"
            ],
            [
             0.6666666666666666,
             "#ed7953"
            ],
            [
             0.7777777777777778,
             "#fb9f3a"
            ],
            [
             0.8888888888888888,
             "#fdca26"
            ],
            [
             1,
             "#f0f921"
            ]
           ]
          },
          "colorway": [
           "#636efa",
           "#EF553B",
           "#00cc96",
           "#ab63fa",
           "#FFA15A",
           "#19d3f3",
           "#FF6692",
           "#B6E880",
           "#FF97FF",
           "#FECB52"
          ],
          "font": {
           "color": "#2a3f5f"
          },
          "geo": {
           "bgcolor": "white",
           "lakecolor": "white",
           "landcolor": "#E5ECF6",
           "showlakes": true,
           "showland": true,
           "subunitcolor": "white"
          },
          "hoverlabel": {
           "align": "left"
          },
          "hovermode": "closest",
          "mapbox": {
           "style": "light"
          },
          "paper_bgcolor": "white",
          "plot_bgcolor": "#E5ECF6",
          "polar": {
           "angularaxis": {
            "gridcolor": "white",
            "linecolor": "white",
            "ticks": ""
           },
           "bgcolor": "#E5ECF6",
           "radialaxis": {
            "gridcolor": "white",
            "linecolor": "white",
            "ticks": ""
           }
          },
          "scene": {
           "xaxis": {
            "backgroundcolor": "#E5ECF6",
            "gridcolor": "white",
            "gridwidth": 2,
            "linecolor": "white",
            "showbackground": true,
            "ticks": "",
            "zerolinecolor": "white"
           },
           "yaxis": {
            "backgroundcolor": "#E5ECF6",
            "gridcolor": "white",
            "gridwidth": 2,
            "linecolor": "white",
            "showbackground": true,
            "ticks": "",
            "zerolinecolor": "white"
           },
           "zaxis": {
            "backgroundcolor": "#E5ECF6",
            "gridcolor": "white",
            "gridwidth": 2,
            "linecolor": "white",
            "showbackground": true,
            "ticks": "",
            "zerolinecolor": "white"
           }
          },
          "shapedefaults": {
           "line": {
            "color": "#2a3f5f"
           }
          },
          "ternary": {
           "aaxis": {
            "gridcolor": "white",
            "linecolor": "white",
            "ticks": ""
           },
           "baxis": {
            "gridcolor": "white",
            "linecolor": "white",
            "ticks": ""
           },
           "bgcolor": "#E5ECF6",
           "caxis": {
            "gridcolor": "white",
            "linecolor": "white",
            "ticks": ""
           }
          },
          "title": {
           "x": 0.05
          },
          "xaxis": {
           "automargin": true,
           "gridcolor": "white",
           "linecolor": "white",
           "ticks": "",
           "title": {
            "standoff": 15
           },
           "zerolinecolor": "white",
           "zerolinewidth": 2
          },
          "yaxis": {
           "automargin": true,
           "gridcolor": "white",
           "linecolor": "white",
           "ticks": "",
           "title": {
            "standoff": 15
           },
           "zerolinecolor": "white",
           "zerolinewidth": 2
          }
         }
        },
        "title": {
         "font": {
          "color": "#4D5663"
         }
        },
        "xaxis": {
         "gridcolor": "#E1E5ED",
         "showgrid": true,
         "tickfont": {
          "color": "#4D5663"
         },
         "title": {
          "font": {
           "color": "#4D5663"
          },
          "text": ""
         },
         "zerolinecolor": "#E1E5ED"
        },
        "yaxis": {
         "gridcolor": "#E1E5ED",
         "showgrid": true,
         "tickfont": {
          "color": "#4D5663"
         },
         "title": {
          "font": {
           "color": "#4D5663"
          },
          "text": ""
         },
         "zerolinecolor": "#E1E5ED"
        }
       }
      },
      "text/html": [
       "<div>                            <div id=\"0139c8a0-7d82-404a-a5b0-b98687bfd6e2\" class=\"plotly-graph-div\" style=\"height:525px; width:100%;\"></div>            <script type=\"text/javascript\">                require([\"plotly\"], function(Plotly) {                    window.PLOTLYENV=window.PLOTLYENV || {};\n",
       "                    window.PLOTLYENV.BASE_URL='https://plot.ly';                                    if (document.getElementById(\"0139c8a0-7d82-404a-a5b0-b98687bfd6e2\")) {                    Plotly.newPlot(                        \"0139c8a0-7d82-404a-a5b0-b98687bfd6e2\",                        [{\"fill\": \"tonexty\", \"fillcolor\": \"rgba(255, 153, 51, 0.3)\", \"line\": {\"color\": \"rgba(255, 153, 51, 1.0)\", \"dash\": \"solid\", \"shape\": \"linear\", \"width\": 1.3}, \"mode\": \"lines\", \"name\": \"A\", \"text\": \"\", \"type\": \"scatter\", \"x\": [0, 1, 2, 3, 4, 5, 6, 7, 8, 9, 10, 11, 12, 13, 14, 15, 16, 17, 18, 19, 20, 21, 22, 23, 24, 25, 26, 27, 28, 29, 30, 31, 32, 33, 34, 35, 36, 37, 38, 39, 40, 41, 42, 43, 44, 45, 46, 47, 48, 49, 50, 51, 52, 53, 54, 55, 56, 57, 58, 59, 60, 61, 62, 63, 64, 65, 66, 67, 68, 69, 70, 71, 72, 73, 74, 75, 76, 77, 78, 79, 80, 81, 82, 83, 84, 85, 86, 87, 88, 89, 90, 91, 92, 93, 94, 95, 96, 97, 98, 99], \"y\": [0.8044864774287241, -0.9481510423908883, 2.1161350125328893, -1.3638225018741512, 1.843275784856714, -1.7485319087132714, 0.019641782607167837, -1.3419230890825473, 0.5002851311201935, 1.7756534615326307, -1.5137689091411979, -0.6368965213801283, -0.4504836130030108, 0.8223196594555584, -0.5668391872668452, 0.28377158462026636, 0.20920576519190212, -0.2853904827657341, -0.17119499296719892, 0.3165555874193085, -0.04344304258750354, -1.6359451121334614, 1.2297443818240892, 0.3977701824683929, -0.6199429502095049, -0.5434986071672341, 0.5966658633710911, -0.9852456719148055, -1.2854772280293154, 1.6982773489170202, 0.4917482763196713, -0.39007947446503893, 0.10440829344675284, 0.029959384510654757, 1.8981150473853043, 0.11224329769735449, 0.16958490769530116, -1.0090664485461647, 1.1420713489721033, -0.08440134014658718, -0.29591835801983263, -0.8338161349177546, 0.4022410759931213, -0.09378837014273535, 2.6294839606173075, -1.8389518962689346, -0.29174947495237014, 0.9030605580213567, -0.6932451617990796, 0.6034772327037836, -0.43966887835365115, -0.7020155628235437, 0.4358997795514861, -0.8674103933488719, -0.0918369002124646, -1.1704813015761089, -1.485349686062648, -0.3845514538641442, -0.46603745412132286, 1.4430100047158019, 1.3141586177413886, 0.20470553419963025, 1.773014947883199, 0.8343339136849154, 0.8977775936652503, 0.7747413841441109, -0.22299326188335347, -0.883794978630215, 2.234388870676288, 0.06021174574722974, 0.6889431202394805, 1.0767787342659982, 0.4826885360517074, -1.3130029382256718, 1.0590237369225428, 0.4037213324474893, 0.3045309914434343, 1.6667495172080453, -0.850345536251703, -1.1913249201442142, -0.6669592472067115, -0.7523429984195517, 0.8023647436386182, 1.3605623973050855, 2.083286190157904, 0.05508675603563289, -0.5100089643770411, -1.7149273009046366, -0.6118769379222307, -2.9116624537552864, 0.513916260938284, -0.4862353539068187, 0.3189358485777468, 1.5911437180710455, -2.1718658217069904, -0.07096115996856431, 1.5501228178069633, 0.07764264026662375, 1.8097817272032244, -2.644102123835663]}, {\"fill\": \"tonexty\", \"fillcolor\": \"rgba(55, 128, 191, 0.3)\", \"line\": {\"color\": \"rgba(55, 128, 191, 1.0)\", \"dash\": \"solid\", \"shape\": \"linear\", \"width\": 1.3}, \"mode\": \"lines\", \"name\": \"B\", \"text\": \"\", \"type\": \"scatter\", \"x\": [0, 1, 2, 3, 4, 5, 6, 7, 8, 9, 10, 11, 12, 13, 14, 15, 16, 17, 18, 19, 20, 21, 22, 23, 24, 25, 26, 27, 28, 29, 30, 31, 32, 33, 34, 35, 36, 37, 38, 39, 40, 41, 42, 43, 44, 45, 46, 47, 48, 49, 50, 51, 52, 53, 54, 55, 56, 57, 58, 59, 60, 61, 62, 63, 64, 65, 66, 67, 68, 69, 70, 71, 72, 73, 74, 75, 76, 77, 78, 79, 80, 81, 82, 83, 84, 85, 86, 87, 88, 89, 90, 91, 92, 93, 94, 95, 96, 97, 98, 99], \"y\": [0.3703837796328227, -1.4037124899279498, 2.633741903885076, -1.58400810608013, 2.567507724480834, -2.1796200484821293, 0.27015501472946835, -1.2261363250027852, 0.4472162429417523, 2.0435989886355177, -2.192786425580053, -0.08860856666474037, 0.07238721285795663, 1.1215229994764602, -0.5177730969347508, 0.059085919038782436, -0.6009818193425955, -0.6308411400214973, 0.15685050285093094, -0.9181817103572694, 0.9308186721024704, -0.7374083903525512, 1.5056112719047565, 0.3578524011803893, -0.06048749017666255, 0.19380174899118785, 0.87117977032168, -0.28761674588755937, -0.958838898912379, 2.4610992466012096, 0.23094118349137588, -0.9047387699240435, 2.0104178127418684, 2.040705190434232, -0.06487081512367565, -1.042177851572988, 1.9784931879274792, -1.0436853824229007, 1.009374403356419, 1.1621195187768776, -0.7641880390527356, -1.0004319728664672, -1.2350306706613146, -0.5274857908800632, 2.1031670110137495, -0.22552135519276506, 0.24582911107773442, 0.1967546056326699, -0.7806707475125472, 1.0856279908017228, -1.3386854125215568, -0.31879640631438655, 1.1782158898575172, 0.3638957023792986, 1.893818872224221, -0.08828244955565956, -2.232011495648093, 0.24448901290059183, -0.9483700997348883, 4.192088131948031, 2.115403528999585, 2.023783114608491, 0.27743738797278605, 1.6098920417632918, 1.3764464632951388, 1.147645457061092, 0.10969708573257711, 0.03954078719742249, 2.202269326152158, -0.47491531468988935, 0.5418135648032941, 1.399972151697895, 1.2769431683357046, -2.562595347589379, 0.3407358862616571, -0.4987007926742113, -1.554506232092887, 1.480784708319434, -0.3550492541412654, -0.42494686133923076, 0.08336819077782753, -1.6690505206116137, -0.6349348080680383, 0.25136413159963555, 2.671914254940177, -1.0669622459364159, 1.719460449806845, -0.46169843490758544, -0.9975981139564909, -3.5975431309353856, 0.8011452980995302, -1.0700307998834195, -0.1202442671964884, 1.6631889539687257, -0.4148667028825832, -0.6825136454796049, 0.9952582797080827, 1.2901458818070648, 2.1877687147698923, -1.912105759013353]}, {\"fill\": \"tonexty\", \"fillcolor\": \"rgba(50, 171, 96, 0.3)\", \"line\": {\"color\": \"rgba(50, 171, 96, 1.0)\", \"dash\": \"solid\", \"shape\": \"linear\", \"width\": 1.3}, \"mode\": \"lines\", \"name\": \"C\", \"text\": \"\", \"type\": \"scatter\", \"x\": [0, 1, 2, 3, 4, 5, 6, 7, 8, 9, 10, 11, 12, 13, 14, 15, 16, 17, 18, 19, 20, 21, 22, 23, 24, 25, 26, 27, 28, 29, 30, 31, 32, 33, 34, 35, 36, 37, 38, 39, 40, 41, 42, 43, 44, 45, 46, 47, 48, 49, 50, 51, 52, 53, 54, 55, 56, 57, 58, 59, 60, 61, 62, 63, 64, 65, 66, 67, 68, 69, 70, 71, 72, 73, 74, 75, 76, 77, 78, 79, 80, 81, 82, 83, 84, 85, 86, 87, 88, 89, 90, 91, 92, 93, 94, 95, 96, 97, 98, 99], \"y\": [0.5447601935820015, -0.6546762994781372, 2.854390673937371, -3.232101212152883, 4.029549852805165, -1.7975864234984935, -0.4842395152917097, -1.8687846526570047, -0.05751968100009758, 4.3043301080983305, -0.9867896679440475, -0.49653645700144233, -0.3011685660344003, 2.0439109895982495, 0.02098115905799136, 1.3524521052565686, -0.9071513168884147, 0.81499330740474, 0.059535490305366714, 0.43087261598953774, 1.0334876212243944, -2.3269597294526974, 0.8741242328286695, -0.29165228599505755, -0.5659332447894019, 0.35968841368850746, 2.053759503430099, 1.282656110903346, -1.6443371764297416, 2.2468571728588973, 0.292126708077044, 0.9830198316083789, 1.964064170943017, 1.4190078697854713, -1.9349610703758975, -1.2179250421686445, 2.4590351633040424, -2.8743880391543115, 1.4315942224107179, 1.1258912848131657, -0.5545894449170161, -0.024600971652356196, -1.9368143799552546, -0.17096940136382022, 3.849941029435334, 1.6739197328507924, 0.4363887030195531, 0.39738105555394176, -0.09614578030302445, 0.7725076566931912, -0.10818071740411406, -0.6507606944702442, -0.08989279208021084, 0.28632978590704306, 2.644891130287299, 1.320144478061327, -4.145001916449647, 1.3903987932091353, -0.7893898600889797, 5.4217885987452865, 1.969794554311844, 2.2626427701732816, 0.1655238012107316, 4.479820150940979, 0.9099571070073067, 1.2932841640747448, -1.4621059612378242, -0.8798597941765885, 1.7637118954962108, 0.47903164566058987, 0.8898352156209792, 2.185916850082017, 0.5013070786083927, -2.74031004525996, 3.1248368750409745, -0.9487332835323516, -3.2358291360447646, 1.026151891754293, -0.3780744676713878, -2.128805864821876, 0.0007822056184593335, -1.8727630799400863, 0.17944281189339972, -0.3740384784431148, 1.1625259910527594, 0.1615951370138229, 1.8847014759188307, 0.7464316592879863, -1.4781837323409293, -4.5973461518413075, 3.6090506000223206, -1.0205853286462174, 0.41025480736142406, 0.6078438823981387, 1.1246728850709422, -0.29952271040395945, 1.5274130035224753, 1.4063157184766528, 0.8122036911145374, -1.4057827498942084]}],                        {\"legend\": {\"bgcolor\": \"#F5F6F9\", \"font\": {\"color\": \"#4D5663\"}}, \"paper_bgcolor\": \"#F5F6F9\", \"plot_bgcolor\": \"#F5F6F9\", \"template\": {\"data\": {\"bar\": [{\"error_x\": {\"color\": \"#2a3f5f\"}, \"error_y\": {\"color\": \"#2a3f5f\"}, \"marker\": {\"line\": {\"color\": \"#E5ECF6\", \"width\": 0.5}}, \"type\": \"bar\"}], \"barpolar\": [{\"marker\": {\"line\": {\"color\": \"#E5ECF6\", \"width\": 0.5}}, \"type\": \"barpolar\"}], \"carpet\": [{\"aaxis\": {\"endlinecolor\": \"#2a3f5f\", \"gridcolor\": \"white\", \"linecolor\": \"white\", \"minorgridcolor\": \"white\", \"startlinecolor\": \"#2a3f5f\"}, \"baxis\": {\"endlinecolor\": \"#2a3f5f\", \"gridcolor\": \"white\", \"linecolor\": \"white\", \"minorgridcolor\": \"white\", \"startlinecolor\": \"#2a3f5f\"}, \"type\": \"carpet\"}], \"choropleth\": [{\"colorbar\": {\"outlinewidth\": 0, \"ticks\": \"\"}, \"type\": \"choropleth\"}], \"contour\": [{\"colorbar\": {\"outlinewidth\": 0, \"ticks\": \"\"}, \"colorscale\": [[0.0, \"#0d0887\"], [0.1111111111111111, \"#46039f\"], [0.2222222222222222, \"#7201a8\"], [0.3333333333333333, \"#9c179e\"], [0.4444444444444444, \"#bd3786\"], [0.5555555555555556, \"#d8576b\"], [0.6666666666666666, \"#ed7953\"], [0.7777777777777778, \"#fb9f3a\"], [0.8888888888888888, \"#fdca26\"], [1.0, \"#f0f921\"]], \"type\": \"contour\"}], \"contourcarpet\": [{\"colorbar\": {\"outlinewidth\": 0, \"ticks\": \"\"}, \"type\": \"contourcarpet\"}], \"heatmap\": [{\"colorbar\": {\"outlinewidth\": 0, \"ticks\": \"\"}, \"colorscale\": [[0.0, \"#0d0887\"], [0.1111111111111111, \"#46039f\"], [0.2222222222222222, \"#7201a8\"], [0.3333333333333333, \"#9c179e\"], [0.4444444444444444, \"#bd3786\"], [0.5555555555555556, \"#d8576b\"], [0.6666666666666666, \"#ed7953\"], [0.7777777777777778, \"#fb9f3a\"], [0.8888888888888888, \"#fdca26\"], [1.0, \"#f0f921\"]], \"type\": \"heatmap\"}], \"heatmapgl\": [{\"colorbar\": {\"outlinewidth\": 0, \"ticks\": \"\"}, \"colorscale\": [[0.0, \"#0d0887\"], [0.1111111111111111, \"#46039f\"], [0.2222222222222222, \"#7201a8\"], [0.3333333333333333, \"#9c179e\"], [0.4444444444444444, \"#bd3786\"], [0.5555555555555556, \"#d8576b\"], [0.6666666666666666, \"#ed7953\"], [0.7777777777777778, \"#fb9f3a\"], [0.8888888888888888, \"#fdca26\"], [1.0, \"#f0f921\"]], \"type\": \"heatmapgl\"}], \"histogram\": [{\"marker\": {\"colorbar\": {\"outlinewidth\": 0, \"ticks\": \"\"}}, \"type\": \"histogram\"}], \"histogram2d\": [{\"colorbar\": {\"outlinewidth\": 0, \"ticks\": \"\"}, \"colorscale\": [[0.0, \"#0d0887\"], [0.1111111111111111, \"#46039f\"], [0.2222222222222222, \"#7201a8\"], [0.3333333333333333, \"#9c179e\"], [0.4444444444444444, \"#bd3786\"], [0.5555555555555556, \"#d8576b\"], [0.6666666666666666, \"#ed7953\"], [0.7777777777777778, \"#fb9f3a\"], [0.8888888888888888, \"#fdca26\"], [1.0, \"#f0f921\"]], \"type\": \"histogram2d\"}], \"histogram2dcontour\": [{\"colorbar\": {\"outlinewidth\": 0, \"ticks\": \"\"}, \"colorscale\": [[0.0, \"#0d0887\"], [0.1111111111111111, \"#46039f\"], [0.2222222222222222, \"#7201a8\"], [0.3333333333333333, \"#9c179e\"], [0.4444444444444444, \"#bd3786\"], [0.5555555555555556, \"#d8576b\"], [0.6666666666666666, \"#ed7953\"], [0.7777777777777778, \"#fb9f3a\"], [0.8888888888888888, \"#fdca26\"], [1.0, \"#f0f921\"]], \"type\": \"histogram2dcontour\"}], \"mesh3d\": [{\"colorbar\": {\"outlinewidth\": 0, \"ticks\": \"\"}, \"type\": \"mesh3d\"}], \"parcoords\": [{\"line\": {\"colorbar\": {\"outlinewidth\": 0, \"ticks\": \"\"}}, \"type\": \"parcoords\"}], \"pie\": [{\"automargin\": true, \"type\": \"pie\"}], \"scatter\": [{\"marker\": {\"colorbar\": {\"outlinewidth\": 0, \"ticks\": \"\"}}, \"type\": \"scatter\"}], \"scatter3d\": [{\"line\": {\"colorbar\": {\"outlinewidth\": 0, \"ticks\": \"\"}}, \"marker\": {\"colorbar\": {\"outlinewidth\": 0, \"ticks\": \"\"}}, \"type\": \"scatter3d\"}], \"scattercarpet\": [{\"marker\": {\"colorbar\": {\"outlinewidth\": 0, \"ticks\": \"\"}}, \"type\": \"scattercarpet\"}], \"scattergeo\": [{\"marker\": {\"colorbar\": {\"outlinewidth\": 0, \"ticks\": \"\"}}, \"type\": \"scattergeo\"}], \"scattergl\": [{\"marker\": {\"colorbar\": {\"outlinewidth\": 0, \"ticks\": \"\"}}, \"type\": \"scattergl\"}], \"scattermapbox\": [{\"marker\": {\"colorbar\": {\"outlinewidth\": 0, \"ticks\": \"\"}}, \"type\": \"scattermapbox\"}], \"scatterpolar\": [{\"marker\": {\"colorbar\": {\"outlinewidth\": 0, \"ticks\": \"\"}}, \"type\": \"scatterpolar\"}], \"scatterpolargl\": [{\"marker\": {\"colorbar\": {\"outlinewidth\": 0, \"ticks\": \"\"}}, \"type\": \"scatterpolargl\"}], \"scatterternary\": [{\"marker\": {\"colorbar\": {\"outlinewidth\": 0, \"ticks\": \"\"}}, \"type\": \"scatterternary\"}], \"surface\": [{\"colorbar\": {\"outlinewidth\": 0, \"ticks\": \"\"}, \"colorscale\": [[0.0, \"#0d0887\"], [0.1111111111111111, \"#46039f\"], [0.2222222222222222, \"#7201a8\"], [0.3333333333333333, \"#9c179e\"], [0.4444444444444444, \"#bd3786\"], [0.5555555555555556, \"#d8576b\"], [0.6666666666666666, \"#ed7953\"], [0.7777777777777778, \"#fb9f3a\"], [0.8888888888888888, \"#fdca26\"], [1.0, \"#f0f921\"]], \"type\": \"surface\"}], \"table\": [{\"cells\": {\"fill\": {\"color\": \"#EBF0F8\"}, \"line\": {\"color\": \"white\"}}, \"header\": {\"fill\": {\"color\": \"#C8D4E3\"}, \"line\": {\"color\": \"white\"}}, \"type\": \"table\"}]}, \"layout\": {\"annotationdefaults\": {\"arrowcolor\": \"#2a3f5f\", \"arrowhead\": 0, \"arrowwidth\": 1}, \"coloraxis\": {\"colorbar\": {\"outlinewidth\": 0, \"ticks\": \"\"}}, \"colorscale\": {\"diverging\": [[0, \"#8e0152\"], [0.1, \"#c51b7d\"], [0.2, \"#de77ae\"], [0.3, \"#f1b6da\"], [0.4, \"#fde0ef\"], [0.5, \"#f7f7f7\"], [0.6, \"#e6f5d0\"], [0.7, \"#b8e186\"], [0.8, \"#7fbc41\"], [0.9, \"#4d9221\"], [1, \"#276419\"]], \"sequential\": [[0.0, \"#0d0887\"], [0.1111111111111111, \"#46039f\"], [0.2222222222222222, \"#7201a8\"], [0.3333333333333333, \"#9c179e\"], [0.4444444444444444, \"#bd3786\"], [0.5555555555555556, \"#d8576b\"], [0.6666666666666666, \"#ed7953\"], [0.7777777777777778, \"#fb9f3a\"], [0.8888888888888888, \"#fdca26\"], [1.0, \"#f0f921\"]], \"sequentialminus\": [[0.0, \"#0d0887\"], [0.1111111111111111, \"#46039f\"], [0.2222222222222222, \"#7201a8\"], [0.3333333333333333, \"#9c179e\"], [0.4444444444444444, \"#bd3786\"], [0.5555555555555556, \"#d8576b\"], [0.6666666666666666, \"#ed7953\"], [0.7777777777777778, \"#fb9f3a\"], [0.8888888888888888, \"#fdca26\"], [1.0, \"#f0f921\"]]}, \"colorway\": [\"#636efa\", \"#EF553B\", \"#00cc96\", \"#ab63fa\", \"#FFA15A\", \"#19d3f3\", \"#FF6692\", \"#B6E880\", \"#FF97FF\", \"#FECB52\"], \"font\": {\"color\": \"#2a3f5f\"}, \"geo\": {\"bgcolor\": \"white\", \"lakecolor\": \"white\", \"landcolor\": \"#E5ECF6\", \"showlakes\": true, \"showland\": true, \"subunitcolor\": \"white\"}, \"hoverlabel\": {\"align\": \"left\"}, \"hovermode\": \"closest\", \"mapbox\": {\"style\": \"light\"}, \"paper_bgcolor\": \"white\", \"plot_bgcolor\": \"#E5ECF6\", \"polar\": {\"angularaxis\": {\"gridcolor\": \"white\", \"linecolor\": \"white\", \"ticks\": \"\"}, \"bgcolor\": \"#E5ECF6\", \"radialaxis\": {\"gridcolor\": \"white\", \"linecolor\": \"white\", \"ticks\": \"\"}}, \"scene\": {\"xaxis\": {\"backgroundcolor\": \"#E5ECF6\", \"gridcolor\": \"white\", \"gridwidth\": 2, \"linecolor\": \"white\", \"showbackground\": true, \"ticks\": \"\", \"zerolinecolor\": \"white\"}, \"yaxis\": {\"backgroundcolor\": \"#E5ECF6\", \"gridcolor\": \"white\", \"gridwidth\": 2, \"linecolor\": \"white\", \"showbackground\": true, \"ticks\": \"\", \"zerolinecolor\": \"white\"}, \"zaxis\": {\"backgroundcolor\": \"#E5ECF6\", \"gridcolor\": \"white\", \"gridwidth\": 2, \"linecolor\": \"white\", \"showbackground\": true, \"ticks\": \"\", \"zerolinecolor\": \"white\"}}, \"shapedefaults\": {\"line\": {\"color\": \"#2a3f5f\"}}, \"ternary\": {\"aaxis\": {\"gridcolor\": \"white\", \"linecolor\": \"white\", \"ticks\": \"\"}, \"baxis\": {\"gridcolor\": \"white\", \"linecolor\": \"white\", \"ticks\": \"\"}, \"bgcolor\": \"#E5ECF6\", \"caxis\": {\"gridcolor\": \"white\", \"linecolor\": \"white\", \"ticks\": \"\"}}, \"title\": {\"x\": 0.05}, \"xaxis\": {\"automargin\": true, \"gridcolor\": \"white\", \"linecolor\": \"white\", \"ticks\": \"\", \"title\": {\"standoff\": 15}, \"zerolinecolor\": \"white\", \"zerolinewidth\": 2}, \"yaxis\": {\"automargin\": true, \"gridcolor\": \"white\", \"linecolor\": \"white\", \"ticks\": \"\", \"title\": {\"standoff\": 15}, \"zerolinecolor\": \"white\", \"zerolinewidth\": 2}}}, \"title\": {\"font\": {\"color\": \"#4D5663\"}}, \"xaxis\": {\"gridcolor\": \"#E1E5ED\", \"showgrid\": true, \"tickfont\": {\"color\": \"#4D5663\"}, \"title\": {\"font\": {\"color\": \"#4D5663\"}, \"text\": \"\"}, \"zerolinecolor\": \"#E1E5ED\"}, \"yaxis\": {\"gridcolor\": \"#E1E5ED\", \"showgrid\": true, \"tickfont\": {\"color\": \"#4D5663\"}, \"title\": {\"font\": {\"color\": \"#4D5663\"}, \"text\": \"\"}, \"zerolinecolor\": \"#E1E5ED\"}},                        {\"showLink\": true, \"linkText\": \"Export to plot.ly\", \"plotlyServerURL\": \"https://plot.ly\", \"responsive\": true}                    ).then(function(){\n",
       "                            \n",
       "var gd = document.getElementById('0139c8a0-7d82-404a-a5b0-b98687bfd6e2');\n",
       "var x = new MutationObserver(function (mutations, observer) {{\n",
       "        var display = window.getComputedStyle(gd).display;\n",
       "        if (!display || display === 'none') {{\n",
       "            console.log([gd, 'removed!']);\n",
       "            Plotly.purge(gd);\n",
       "            observer.disconnect();\n",
       "        }}\n",
       "}});\n",
       "\n",
       "// Listen for the removal of the full notebook cells\n",
       "var notebookContainer = gd.closest('#notebook-container');\n",
       "if (notebookContainer) {{\n",
       "    x.observe(notebookContainer, {childList: true});\n",
       "}}\n",
       "\n",
       "// Listen for the clearing of the current output cell\n",
       "var outputEl = gd.closest('.output');\n",
       "if (outputEl) {{\n",
       "    x.observe(outputEl, {childList: true});\n",
       "}}\n",
       "\n",
       "                        })                };                });            </script>        </div>"
      ]
     },
     "metadata": {},
     "output_type": "display_data"
    }
   ],
   "source": [
    "df.iplot(kind='area',fill=True)"
   ]
  },
  {
   "cell_type": "markdown",
   "metadata": {},
   "source": [
    "### 3D Plot"
   ]
  },
  {
   "cell_type": "code",
   "execution_count": 29,
   "metadata": {},
   "outputs": [
    {
     "data": {
      "application/vnd.plotly.v1+json": {
       "config": {
        "linkText": "Export to plot.ly",
        "plotlyServerURL": "https://plot.ly",
        "showLink": true
       },
       "data": [
        {
         "colorscale": [
          [
           0,
           "rgb(255, 153, 51)"
          ],
          [
           0.1111111111111111,
           "rgb(55, 128, 191)"
          ],
          [
           0.2222222222222222,
           "rgb(50, 171, 96)"
          ],
          [
           0.3333333333333333,
           "rgb(128, 0, 128)"
          ],
          [
           0.4444444444444444,
           "rgb(219, 64, 82)"
          ],
          [
           0.5555555555555556,
           "rgb(0, 128, 128)"
          ],
          [
           0.6666666666666666,
           "rgb(255, 255, 51)"
          ],
          [
           0.7777777777777778,
           "rgb(128, 128, 0)"
          ],
          [
           0.8888888888888888,
           "rgb(251, 128, 114)"
          ],
          [
           1,
           "rgb(128, 177, 211)"
          ]
         ],
         "type": "surface",
         "x": [
          0,
          1,
          2,
          3,
          4,
          5,
          6,
          7,
          8,
          9,
          10,
          11,
          12,
          13,
          14,
          15,
          16,
          17,
          18,
          19,
          20,
          21,
          22,
          23,
          24,
          25,
          26,
          27,
          28,
          29,
          30,
          31,
          32,
          33,
          34,
          35,
          36,
          37,
          38,
          39,
          40,
          41,
          42,
          43,
          44,
          45,
          46,
          47,
          48,
          49,
          50,
          51,
          52,
          53,
          54,
          55,
          56,
          57,
          58,
          59,
          60,
          61,
          62,
          63,
          64,
          65,
          66,
          67,
          68,
          69,
          70,
          71,
          72,
          73,
          74,
          75,
          76,
          77,
          78,
          79,
          80,
          81,
          82,
          83,
          84,
          85,
          86,
          87,
          88,
          89,
          90,
          91,
          92,
          93,
          94,
          95,
          96,
          97,
          98,
          99
         ],
         "y": [
          "A",
          "B",
          "C"
         ],
         "z": [
          [
           0.8044864774287241,
           -0.9481510423908883,
           2.1161350125328893,
           -1.3638225018741512,
           1.843275784856714,
           -1.7485319087132714,
           0.019641782607167837,
           -1.3419230890825473,
           0.5002851311201935,
           1.7756534615326307,
           -1.5137689091411979,
           -0.6368965213801283,
           -0.4504836130030108,
           0.8223196594555584,
           -0.5668391872668452,
           0.28377158462026636,
           0.20920576519190212,
           -0.2853904827657341,
           -0.17119499296719892,
           0.3165555874193085,
           -0.04344304258750354,
           -1.6359451121334614,
           1.2297443818240892,
           0.3977701824683929,
           -0.6199429502095049,
           -0.5434986071672341,
           0.5966658633710911,
           -0.9852456719148055,
           -1.2854772280293154,
           1.6982773489170202,
           0.4917482763196713,
           -0.39007947446503893,
           0.10440829344675284,
           0.029959384510654757,
           1.8981150473853043,
           0.11224329769735449,
           0.16958490769530116,
           -1.0090664485461647,
           1.1420713489721033,
           -0.08440134014658718,
           -0.29591835801983263,
           -0.8338161349177546,
           0.4022410759931213,
           -0.09378837014273535,
           2.6294839606173075,
           -1.8389518962689346,
           -0.29174947495237014,
           0.9030605580213567,
           -0.6932451617990796,
           0.6034772327037836,
           -0.43966887835365115,
           -0.7020155628235437,
           0.4358997795514861,
           -0.8674103933488719,
           -0.0918369002124646,
           -1.1704813015761089,
           -1.485349686062648,
           -0.3845514538641442,
           -0.46603745412132286,
           1.4430100047158019,
           1.3141586177413886,
           0.20470553419963025,
           1.773014947883199,
           0.8343339136849154,
           0.8977775936652503,
           0.7747413841441109,
           -0.22299326188335347,
           -0.883794978630215,
           2.234388870676288,
           0.06021174574722974,
           0.6889431202394805,
           1.0767787342659982,
           0.4826885360517074,
           -1.3130029382256718,
           1.0590237369225428,
           0.4037213324474893,
           0.3045309914434343,
           1.6667495172080453,
           -0.850345536251703,
           -1.1913249201442142,
           -0.6669592472067115,
           -0.7523429984195517,
           0.8023647436386182,
           1.3605623973050855,
           2.083286190157904,
           0.05508675603563289,
           -0.5100089643770411,
           -1.7149273009046366,
           -0.6118769379222307,
           -2.9116624537552864,
           0.513916260938284,
           -0.4862353539068187,
           0.3189358485777468,
           1.5911437180710455,
           -2.1718658217069904,
           -0.07096115996856431,
           1.5501228178069633,
           0.07764264026662375,
           1.8097817272032244,
           -2.644102123835663
          ],
          [
           -0.43410269779590144,
           -0.4555614475370614,
           0.5176068913521863,
           -0.2201856042059788,
           0.7242319396241198,
           -0.43108813976885796,
           0.25051323212230053,
           0.115786764079762,
           -0.05306888817844119,
           0.26794552710288705,
           -0.6790175164388548,
           0.5482879547153879,
           0.5228708258609674,
           0.2992033400209017,
           0.049066090332094366,
           -0.22468566558148392,
           -0.8101875845344977,
           -0.3454506572557632,
           0.32804549581812986,
           -1.2347372977765778,
           0.9742617146899739,
           0.8985367217809102,
           0.2758668900806672,
           -0.03991778128800362,
           0.5594554600328423,
           0.7373003561584219,
           0.27451390695058897,
           0.6976289260272461,
           0.32663832911693647,
           0.7628218976841893,
           -0.2608070928282954,
           -0.5146592954590046,
           1.9060095192951154,
           2.010745805923577,
           -1.96298586250898,
           -1.1544211492703425,
           1.808908280232178,
           -0.03461893387673593,
           -0.13269694561568432,
           1.2465208589234649,
           -0.4682696810329029,
           -0.16661583794871268,
           -1.6372717466544358,
           -0.4336974207373278,
           -0.5263169496035581,
           1.6134305410761696,
           0.5375785860301046,
           -0.7063059523886868,
           -0.08742558571346763,
           0.4821507580979392,
           -0.8990165341679056,
           0.38321915650915717,
           0.7423161103060311,
           1.2313060957281705,
           1.9856557724366857,
           1.0821988520204493,
           -0.7466618095854451,
           0.629040466764736,
           -0.4823326456135654,
           2.7490781272322296,
           0.8012449112581967,
           1.8190775804088608,
           -1.4955775599104129,
           0.7755581280783765,
           0.4786688696298884,
           0.37290407291698097,
           0.3326903476159306,
           0.9233357658276374,
           -0.032119544524130225,
           -0.5351270604371191,
           -0.14712955543618636,
           0.3231934174318966,
           0.7942546322839973,
           -1.2495924093637072,
           -0.7182878506608857,
           -0.9024221251217006,
           -1.8590372235363215,
           -0.18596480888861117,
           0.4952962821104375,
           0.7663780588049834,
           0.750327437984539,
           -0.9167075221920621,
           -1.4372995517066565,
           -1.10919826570545,
           0.5886280647822731,
           -1.1220490019720488,
           2.2294694141838862,
           1.2532288659970512,
           -0.38572117603426015,
           -0.6858806771800992,
           0.28722903716124615,
           -0.5837954459766008,
           -0.4391801157742352,
           0.07204523589768022,
           1.7569991188244072,
           -0.6115524855110406,
           -0.5548645380988806,
           1.212503241540441,
           0.3779869875666681,
           0.7319963648223098
          ],
          [
           0.17437641394917874,
           0.7490361904498126,
           0.2206487700522952,
           -1.6480931060727528,
           1.4620421283243314,
           0.3820336249836358,
           -0.7543945300211781,
           -0.6426483276542193,
           -0.5047359239418499,
           2.260731119462813,
           1.2059967576360053,
           -0.40792789033670196,
           -0.3735557788923569,
           0.9223879901217894,
           0.5387542559927422,
           1.293366186217786,
           -0.3061694975458192,
           1.4458344474262372,
           -0.09731501254556423,
           1.349054326346807,
           0.10266894912192394,
           -1.5895513391001461,
           -0.631487039076087,
           -0.6495046871754468,
           -0.5054457546127393,
           0.16588666469731964,
           1.182579733108419,
           1.5702728567909054,
           -0.6854982775173628,
           -0.2142420737423121,
           0.0611855245856681,
           1.8877586015324224,
           -0.04635364179885129,
           -0.6216973206487607,
           -1.8700902552522218,
           -0.17574719059565638,
           0.48054197537656324,
           -1.8307026567314109,
           0.42221981905429895,
           -0.036228233963711796,
           0.2095985941357195,
           0.975831001214111,
           -0.7017837092939401,
           0.356516389516243,
           1.7467740184215845,
           1.8994410880435575,
           0.19055959194181868,
           0.2006264499212719,
           0.6845249672095227,
           -0.31312033410853163,
           1.2305046951174428,
           -0.3319642881558576,
           -1.268108681937728,
           -0.0775659164722555,
           0.7510722580630781,
           1.4084269276169865,
           -1.912990420801554,
           1.1459097803085434,
           0.15898023964590857,
           1.2297004667972553,
           -0.14560897468774114,
           0.2388596555647904,
           -0.11191358676205446,
           2.8699281091776876,
           -0.46648935628783206,
           0.1456387070136528,
           -1.5718030469704014,
           -0.919400581374011,
           -0.4385574306559472,
           0.9539469603504792,
           0.3480216508176851,
           0.7859446983841218,
           -0.7756360897273119,
           -0.17771469767058096,
           2.7841009887793176,
           -0.4500324908581403,
           -1.6813229039518773,
           -0.45463281656514104,
           -0.023025213530122365,
           -1.7038590034826455,
           -0.0825859851593682,
           -0.2037125593284725,
           0.814377619961438,
           -0.6254026100427503,
           -1.5093882638874176,
           1.2285573829502388,
           0.1652410261119857,
           1.2081300941955717,
           -0.4805856183844383,
           -0.9998030209059221,
           2.8079053019227906,
           0.04944547123720202,
           0.5304990745579125,
           -1.055345071570587,
           1.5395395879535254,
           0.38299093507564547,
           0.5321547238143925,
           0.11616983666958806,
           -1.375565023655355,
           0.5063230091191446
          ]
         ]
        }
       ],
       "layout": {
        "legend": {
         "bgcolor": "#F5F6F9",
         "font": {
          "color": "#4D5663"
         }
        },
        "paper_bgcolor": "#F5F6F9",
        "plot_bgcolor": "#F5F6F9",
        "template": {
         "data": {
          "bar": [
           {
            "error_x": {
             "color": "#2a3f5f"
            },
            "error_y": {
             "color": "#2a3f5f"
            },
            "marker": {
             "line": {
              "color": "#E5ECF6",
              "width": 0.5
             }
            },
            "type": "bar"
           }
          ],
          "barpolar": [
           {
            "marker": {
             "line": {
              "color": "#E5ECF6",
              "width": 0.5
             }
            },
            "type": "barpolar"
           }
          ],
          "carpet": [
           {
            "aaxis": {
             "endlinecolor": "#2a3f5f",
             "gridcolor": "white",
             "linecolor": "white",
             "minorgridcolor": "white",
             "startlinecolor": "#2a3f5f"
            },
            "baxis": {
             "endlinecolor": "#2a3f5f",
             "gridcolor": "white",
             "linecolor": "white",
             "minorgridcolor": "white",
             "startlinecolor": "#2a3f5f"
            },
            "type": "carpet"
           }
          ],
          "choropleth": [
           {
            "colorbar": {
             "outlinewidth": 0,
             "ticks": ""
            },
            "type": "choropleth"
           }
          ],
          "contour": [
           {
            "colorbar": {
             "outlinewidth": 0,
             "ticks": ""
            },
            "colorscale": [
             [
              0,
              "#0d0887"
             ],
             [
              0.1111111111111111,
              "#46039f"
             ],
             [
              0.2222222222222222,
              "#7201a8"
             ],
             [
              0.3333333333333333,
              "#9c179e"
             ],
             [
              0.4444444444444444,
              "#bd3786"
             ],
             [
              0.5555555555555556,
              "#d8576b"
             ],
             [
              0.6666666666666666,
              "#ed7953"
             ],
             [
              0.7777777777777778,
              "#fb9f3a"
             ],
             [
              0.8888888888888888,
              "#fdca26"
             ],
             [
              1,
              "#f0f921"
             ]
            ],
            "type": "contour"
           }
          ],
          "contourcarpet": [
           {
            "colorbar": {
             "outlinewidth": 0,
             "ticks": ""
            },
            "type": "contourcarpet"
           }
          ],
          "heatmap": [
           {
            "colorbar": {
             "outlinewidth": 0,
             "ticks": ""
            },
            "colorscale": [
             [
              0,
              "#0d0887"
             ],
             [
              0.1111111111111111,
              "#46039f"
             ],
             [
              0.2222222222222222,
              "#7201a8"
             ],
             [
              0.3333333333333333,
              "#9c179e"
             ],
             [
              0.4444444444444444,
              "#bd3786"
             ],
             [
              0.5555555555555556,
              "#d8576b"
             ],
             [
              0.6666666666666666,
              "#ed7953"
             ],
             [
              0.7777777777777778,
              "#fb9f3a"
             ],
             [
              0.8888888888888888,
              "#fdca26"
             ],
             [
              1,
              "#f0f921"
             ]
            ],
            "type": "heatmap"
           }
          ],
          "heatmapgl": [
           {
            "colorbar": {
             "outlinewidth": 0,
             "ticks": ""
            },
            "colorscale": [
             [
              0,
              "#0d0887"
             ],
             [
              0.1111111111111111,
              "#46039f"
             ],
             [
              0.2222222222222222,
              "#7201a8"
             ],
             [
              0.3333333333333333,
              "#9c179e"
             ],
             [
              0.4444444444444444,
              "#bd3786"
             ],
             [
              0.5555555555555556,
              "#d8576b"
             ],
             [
              0.6666666666666666,
              "#ed7953"
             ],
             [
              0.7777777777777778,
              "#fb9f3a"
             ],
             [
              0.8888888888888888,
              "#fdca26"
             ],
             [
              1,
              "#f0f921"
             ]
            ],
            "type": "heatmapgl"
           }
          ],
          "histogram": [
           {
            "marker": {
             "colorbar": {
              "outlinewidth": 0,
              "ticks": ""
             }
            },
            "type": "histogram"
           }
          ],
          "histogram2d": [
           {
            "colorbar": {
             "outlinewidth": 0,
             "ticks": ""
            },
            "colorscale": [
             [
              0,
              "#0d0887"
             ],
             [
              0.1111111111111111,
              "#46039f"
             ],
             [
              0.2222222222222222,
              "#7201a8"
             ],
             [
              0.3333333333333333,
              "#9c179e"
             ],
             [
              0.4444444444444444,
              "#bd3786"
             ],
             [
              0.5555555555555556,
              "#d8576b"
             ],
             [
              0.6666666666666666,
              "#ed7953"
             ],
             [
              0.7777777777777778,
              "#fb9f3a"
             ],
             [
              0.8888888888888888,
              "#fdca26"
             ],
             [
              1,
              "#f0f921"
             ]
            ],
            "type": "histogram2d"
           }
          ],
          "histogram2dcontour": [
           {
            "colorbar": {
             "outlinewidth": 0,
             "ticks": ""
            },
            "colorscale": [
             [
              0,
              "#0d0887"
             ],
             [
              0.1111111111111111,
              "#46039f"
             ],
             [
              0.2222222222222222,
              "#7201a8"
             ],
             [
              0.3333333333333333,
              "#9c179e"
             ],
             [
              0.4444444444444444,
              "#bd3786"
             ],
             [
              0.5555555555555556,
              "#d8576b"
             ],
             [
              0.6666666666666666,
              "#ed7953"
             ],
             [
              0.7777777777777778,
              "#fb9f3a"
             ],
             [
              0.8888888888888888,
              "#fdca26"
             ],
             [
              1,
              "#f0f921"
             ]
            ],
            "type": "histogram2dcontour"
           }
          ],
          "mesh3d": [
           {
            "colorbar": {
             "outlinewidth": 0,
             "ticks": ""
            },
            "type": "mesh3d"
           }
          ],
          "parcoords": [
           {
            "line": {
             "colorbar": {
              "outlinewidth": 0,
              "ticks": ""
             }
            },
            "type": "parcoords"
           }
          ],
          "pie": [
           {
            "automargin": true,
            "type": "pie"
           }
          ],
          "scatter": [
           {
            "marker": {
             "colorbar": {
              "outlinewidth": 0,
              "ticks": ""
             }
            },
            "type": "scatter"
           }
          ],
          "scatter3d": [
           {
            "line": {
             "colorbar": {
              "outlinewidth": 0,
              "ticks": ""
             }
            },
            "marker": {
             "colorbar": {
              "outlinewidth": 0,
              "ticks": ""
             }
            },
            "type": "scatter3d"
           }
          ],
          "scattercarpet": [
           {
            "marker": {
             "colorbar": {
              "outlinewidth": 0,
              "ticks": ""
             }
            },
            "type": "scattercarpet"
           }
          ],
          "scattergeo": [
           {
            "marker": {
             "colorbar": {
              "outlinewidth": 0,
              "ticks": ""
             }
            },
            "type": "scattergeo"
           }
          ],
          "scattergl": [
           {
            "marker": {
             "colorbar": {
              "outlinewidth": 0,
              "ticks": ""
             }
            },
            "type": "scattergl"
           }
          ],
          "scattermapbox": [
           {
            "marker": {
             "colorbar": {
              "outlinewidth": 0,
              "ticks": ""
             }
            },
            "type": "scattermapbox"
           }
          ],
          "scatterpolar": [
           {
            "marker": {
             "colorbar": {
              "outlinewidth": 0,
              "ticks": ""
             }
            },
            "type": "scatterpolar"
           }
          ],
          "scatterpolargl": [
           {
            "marker": {
             "colorbar": {
              "outlinewidth": 0,
              "ticks": ""
             }
            },
            "type": "scatterpolargl"
           }
          ],
          "scatterternary": [
           {
            "marker": {
             "colorbar": {
              "outlinewidth": 0,
              "ticks": ""
             }
            },
            "type": "scatterternary"
           }
          ],
          "surface": [
           {
            "colorbar": {
             "outlinewidth": 0,
             "ticks": ""
            },
            "colorscale": [
             [
              0,
              "#0d0887"
             ],
             [
              0.1111111111111111,
              "#46039f"
             ],
             [
              0.2222222222222222,
              "#7201a8"
             ],
             [
              0.3333333333333333,
              "#9c179e"
             ],
             [
              0.4444444444444444,
              "#bd3786"
             ],
             [
              0.5555555555555556,
              "#d8576b"
             ],
             [
              0.6666666666666666,
              "#ed7953"
             ],
             [
              0.7777777777777778,
              "#fb9f3a"
             ],
             [
              0.8888888888888888,
              "#fdca26"
             ],
             [
              1,
              "#f0f921"
             ]
            ],
            "type": "surface"
           }
          ],
          "table": [
           {
            "cells": {
             "fill": {
              "color": "#EBF0F8"
             },
             "line": {
              "color": "white"
             }
            },
            "header": {
             "fill": {
              "color": "#C8D4E3"
             },
             "line": {
              "color": "white"
             }
            },
            "type": "table"
           }
          ]
         },
         "layout": {
          "annotationdefaults": {
           "arrowcolor": "#2a3f5f",
           "arrowhead": 0,
           "arrowwidth": 1
          },
          "coloraxis": {
           "colorbar": {
            "outlinewidth": 0,
            "ticks": ""
           }
          },
          "colorscale": {
           "diverging": [
            [
             0,
             "#8e0152"
            ],
            [
             0.1,
             "#c51b7d"
            ],
            [
             0.2,
             "#de77ae"
            ],
            [
             0.3,
             "#f1b6da"
            ],
            [
             0.4,
             "#fde0ef"
            ],
            [
             0.5,
             "#f7f7f7"
            ],
            [
             0.6,
             "#e6f5d0"
            ],
            [
             0.7,
             "#b8e186"
            ],
            [
             0.8,
             "#7fbc41"
            ],
            [
             0.9,
             "#4d9221"
            ],
            [
             1,
             "#276419"
            ]
           ],
           "sequential": [
            [
             0,
             "#0d0887"
            ],
            [
             0.1111111111111111,
             "#46039f"
            ],
            [
             0.2222222222222222,
             "#7201a8"
            ],
            [
             0.3333333333333333,
             "#9c179e"
            ],
            [
             0.4444444444444444,
             "#bd3786"
            ],
            [
             0.5555555555555556,
             "#d8576b"
            ],
            [
             0.6666666666666666,
             "#ed7953"
            ],
            [
             0.7777777777777778,
             "#fb9f3a"
            ],
            [
             0.8888888888888888,
             "#fdca26"
            ],
            [
             1,
             "#f0f921"
            ]
           ],
           "sequentialminus": [
            [
             0,
             "#0d0887"
            ],
            [
             0.1111111111111111,
             "#46039f"
            ],
            [
             0.2222222222222222,
             "#7201a8"
            ],
            [
             0.3333333333333333,
             "#9c179e"
            ],
            [
             0.4444444444444444,
             "#bd3786"
            ],
            [
             0.5555555555555556,
             "#d8576b"
            ],
            [
             0.6666666666666666,
             "#ed7953"
            ],
            [
             0.7777777777777778,
             "#fb9f3a"
            ],
            [
             0.8888888888888888,
             "#fdca26"
            ],
            [
             1,
             "#f0f921"
            ]
           ]
          },
          "colorway": [
           "#636efa",
           "#EF553B",
           "#00cc96",
           "#ab63fa",
           "#FFA15A",
           "#19d3f3",
           "#FF6692",
           "#B6E880",
           "#FF97FF",
           "#FECB52"
          ],
          "font": {
           "color": "#2a3f5f"
          },
          "geo": {
           "bgcolor": "white",
           "lakecolor": "white",
           "landcolor": "#E5ECF6",
           "showlakes": true,
           "showland": true,
           "subunitcolor": "white"
          },
          "hoverlabel": {
           "align": "left"
          },
          "hovermode": "closest",
          "mapbox": {
           "style": "light"
          },
          "paper_bgcolor": "white",
          "plot_bgcolor": "#E5ECF6",
          "polar": {
           "angularaxis": {
            "gridcolor": "white",
            "linecolor": "white",
            "ticks": ""
           },
           "bgcolor": "#E5ECF6",
           "radialaxis": {
            "gridcolor": "white",
            "linecolor": "white",
            "ticks": ""
           }
          },
          "scene": {
           "xaxis": {
            "backgroundcolor": "#E5ECF6",
            "gridcolor": "white",
            "gridwidth": 2,
            "linecolor": "white",
            "showbackground": true,
            "ticks": "",
            "zerolinecolor": "white"
           },
           "yaxis": {
            "backgroundcolor": "#E5ECF6",
            "gridcolor": "white",
            "gridwidth": 2,
            "linecolor": "white",
            "showbackground": true,
            "ticks": "",
            "zerolinecolor": "white"
           },
           "zaxis": {
            "backgroundcolor": "#E5ECF6",
            "gridcolor": "white",
            "gridwidth": 2,
            "linecolor": "white",
            "showbackground": true,
            "ticks": "",
            "zerolinecolor": "white"
           }
          },
          "shapedefaults": {
           "line": {
            "color": "#2a3f5f"
           }
          },
          "ternary": {
           "aaxis": {
            "gridcolor": "white",
            "linecolor": "white",
            "ticks": ""
           },
           "baxis": {
            "gridcolor": "white",
            "linecolor": "white",
            "ticks": ""
           },
           "bgcolor": "#E5ECF6",
           "caxis": {
            "gridcolor": "white",
            "linecolor": "white",
            "ticks": ""
           }
          },
          "title": {
           "x": 0.05
          },
          "xaxis": {
           "automargin": true,
           "gridcolor": "white",
           "linecolor": "white",
           "ticks": "",
           "title": {
            "standoff": 15
           },
           "zerolinecolor": "white",
           "zerolinewidth": 2
          },
          "yaxis": {
           "automargin": true,
           "gridcolor": "white",
           "linecolor": "white",
           "ticks": "",
           "title": {
            "standoff": 15
           },
           "zerolinecolor": "white",
           "zerolinewidth": 2
          }
         }
        },
        "title": {
         "font": {
          "color": "#4D5663"
         }
        },
        "xaxis": {
         "gridcolor": "#E1E5ED",
         "showgrid": true,
         "tickfont": {
          "color": "#4D5663"
         },
         "title": {
          "font": {
           "color": "#4D5663"
          },
          "text": ""
         },
         "zerolinecolor": "#E1E5ED"
        },
        "yaxis": {
         "gridcolor": "#E1E5ED",
         "showgrid": true,
         "tickfont": {
          "color": "#4D5663"
         },
         "title": {
          "font": {
           "color": "#4D5663"
          },
          "text": ""
         },
         "zerolinecolor": "#E1E5ED"
        }
       }
      },
      "text/html": [
       "<div>                            <div id=\"018b8e17-a56c-471c-91e4-03ff6c308534\" class=\"plotly-graph-div\" style=\"height:525px; width:100%;\"></div>            <script type=\"text/javascript\">                require([\"plotly\"], function(Plotly) {                    window.PLOTLYENV=window.PLOTLYENV || {};\n",
       "                    window.PLOTLYENV.BASE_URL='https://plot.ly';                                    if (document.getElementById(\"018b8e17-a56c-471c-91e4-03ff6c308534\")) {                    Plotly.newPlot(                        \"018b8e17-a56c-471c-91e4-03ff6c308534\",                        [{\"colorscale\": [[0.0, \"rgb(255, 153, 51)\"], [0.1111111111111111, \"rgb(55, 128, 191)\"], [0.2222222222222222, \"rgb(50, 171, 96)\"], [0.3333333333333333, \"rgb(128, 0, 128)\"], [0.4444444444444444, \"rgb(219, 64, 82)\"], [0.5555555555555556, \"rgb(0, 128, 128)\"], [0.6666666666666666, \"rgb(255, 255, 51)\"], [0.7777777777777778, \"rgb(128, 128, 0)\"], [0.8888888888888888, \"rgb(251, 128, 114)\"], [1.0, \"rgb(128, 177, 211)\"]], \"type\": \"surface\", \"x\": [0, 1, 2, 3, 4, 5, 6, 7, 8, 9, 10, 11, 12, 13, 14, 15, 16, 17, 18, 19, 20, 21, 22, 23, 24, 25, 26, 27, 28, 29, 30, 31, 32, 33, 34, 35, 36, 37, 38, 39, 40, 41, 42, 43, 44, 45, 46, 47, 48, 49, 50, 51, 52, 53, 54, 55, 56, 57, 58, 59, 60, 61, 62, 63, 64, 65, 66, 67, 68, 69, 70, 71, 72, 73, 74, 75, 76, 77, 78, 79, 80, 81, 82, 83, 84, 85, 86, 87, 88, 89, 90, 91, 92, 93, 94, 95, 96, 97, 98, 99], \"y\": [\"A\", \"B\", \"C\"], \"z\": [[0.8044864774287241, -0.9481510423908883, 2.1161350125328893, -1.3638225018741512, 1.843275784856714, -1.7485319087132714, 0.019641782607167837, -1.3419230890825473, 0.5002851311201935, 1.7756534615326307, -1.5137689091411979, -0.6368965213801283, -0.4504836130030108, 0.8223196594555584, -0.5668391872668452, 0.28377158462026636, 0.20920576519190212, -0.2853904827657341, -0.17119499296719892, 0.3165555874193085, -0.04344304258750354, -1.6359451121334614, 1.2297443818240892, 0.3977701824683929, -0.6199429502095049, -0.5434986071672341, 0.5966658633710911, -0.9852456719148055, -1.2854772280293154, 1.6982773489170202, 0.4917482763196713, -0.39007947446503893, 0.10440829344675284, 0.029959384510654757, 1.8981150473853043, 0.11224329769735449, 0.16958490769530116, -1.0090664485461647, 1.1420713489721033, -0.08440134014658718, -0.29591835801983263, -0.8338161349177546, 0.4022410759931213, -0.09378837014273535, 2.6294839606173075, -1.8389518962689346, -0.29174947495237014, 0.9030605580213567, -0.6932451617990796, 0.6034772327037836, -0.43966887835365115, -0.7020155628235437, 0.4358997795514861, -0.8674103933488719, -0.0918369002124646, -1.1704813015761089, -1.485349686062648, -0.3845514538641442, -0.46603745412132286, 1.4430100047158019, 1.3141586177413886, 0.20470553419963025, 1.773014947883199, 0.8343339136849154, 0.8977775936652503, 0.7747413841441109, -0.22299326188335347, -0.883794978630215, 2.234388870676288, 0.06021174574722974, 0.6889431202394805, 1.0767787342659982, 0.4826885360517074, -1.3130029382256718, 1.0590237369225428, 0.4037213324474893, 0.3045309914434343, 1.6667495172080453, -0.850345536251703, -1.1913249201442142, -0.6669592472067115, -0.7523429984195517, 0.8023647436386182, 1.3605623973050855, 2.083286190157904, 0.05508675603563289, -0.5100089643770411, -1.7149273009046366, -0.6118769379222307, -2.9116624537552864, 0.513916260938284, -0.4862353539068187, 0.3189358485777468, 1.5911437180710455, -2.1718658217069904, -0.07096115996856431, 1.5501228178069633, 0.07764264026662375, 1.8097817272032244, -2.644102123835663], [-0.43410269779590144, -0.4555614475370614, 0.5176068913521863, -0.2201856042059788, 0.7242319396241198, -0.43108813976885796, 0.25051323212230053, 0.115786764079762, -0.05306888817844119, 0.26794552710288705, -0.6790175164388548, 0.5482879547153879, 0.5228708258609674, 0.2992033400209017, 0.049066090332094366, -0.22468566558148392, -0.8101875845344977, -0.3454506572557632, 0.32804549581812986, -1.2347372977765778, 0.9742617146899739, 0.8985367217809102, 0.2758668900806672, -0.03991778128800362, 0.5594554600328423, 0.7373003561584219, 0.27451390695058897, 0.6976289260272461, 0.32663832911693647, 0.7628218976841893, -0.2608070928282954, -0.5146592954590046, 1.9060095192951154, 2.010745805923577, -1.96298586250898, -1.1544211492703425, 1.808908280232178, -0.03461893387673593, -0.13269694561568432, 1.2465208589234649, -0.4682696810329029, -0.16661583794871268, -1.6372717466544358, -0.4336974207373278, -0.5263169496035581, 1.6134305410761696, 0.5375785860301046, -0.7063059523886868, -0.08742558571346763, 0.4821507580979392, -0.8990165341679056, 0.38321915650915717, 0.7423161103060311, 1.2313060957281705, 1.9856557724366857, 1.0821988520204493, -0.7466618095854451, 0.629040466764736, -0.4823326456135654, 2.7490781272322296, 0.8012449112581967, 1.8190775804088608, -1.4955775599104129, 0.7755581280783765, 0.4786688696298884, 0.37290407291698097, 0.3326903476159306, 0.9233357658276374, -0.032119544524130225, -0.5351270604371191, -0.14712955543618636, 0.3231934174318966, 0.7942546322839973, -1.2495924093637072, -0.7182878506608857, -0.9024221251217006, -1.8590372235363215, -0.18596480888861117, 0.4952962821104375, 0.7663780588049834, 0.750327437984539, -0.9167075221920621, -1.4372995517066565, -1.10919826570545, 0.5886280647822731, -1.1220490019720488, 2.2294694141838862, 1.2532288659970512, -0.38572117603426015, -0.6858806771800992, 0.28722903716124615, -0.5837954459766008, -0.4391801157742352, 0.07204523589768022, 1.7569991188244072, -0.6115524855110406, -0.5548645380988806, 1.212503241540441, 0.3779869875666681, 0.7319963648223098], [0.17437641394917874, 0.7490361904498126, 0.2206487700522952, -1.6480931060727528, 1.4620421283243314, 0.3820336249836358, -0.7543945300211781, -0.6426483276542193, -0.5047359239418499, 2.260731119462813, 1.2059967576360053, -0.40792789033670196, -0.3735557788923569, 0.9223879901217894, 0.5387542559927422, 1.293366186217786, -0.3061694975458192, 1.4458344474262372, -0.09731501254556423, 1.349054326346807, 0.10266894912192394, -1.5895513391001461, -0.631487039076087, -0.6495046871754468, -0.5054457546127393, 0.16588666469731964, 1.182579733108419, 1.5702728567909054, -0.6854982775173628, -0.2142420737423121, 0.0611855245856681, 1.8877586015324224, -0.04635364179885129, -0.6216973206487607, -1.8700902552522218, -0.17574719059565638, 0.48054197537656324, -1.8307026567314109, 0.42221981905429895, -0.036228233963711796, 0.2095985941357195, 0.975831001214111, -0.7017837092939401, 0.356516389516243, 1.7467740184215845, 1.8994410880435575, 0.19055959194181868, 0.2006264499212719, 0.6845249672095227, -0.31312033410853163, 1.2305046951174428, -0.3319642881558576, -1.268108681937728, -0.0775659164722555, 0.7510722580630781, 1.4084269276169865, -1.912990420801554, 1.1459097803085434, 0.15898023964590857, 1.2297004667972553, -0.14560897468774114, 0.2388596555647904, -0.11191358676205446, 2.8699281091776876, -0.46648935628783206, 0.1456387070136528, -1.5718030469704014, -0.919400581374011, -0.4385574306559472, 0.9539469603504792, 0.3480216508176851, 0.7859446983841218, -0.7756360897273119, -0.17771469767058096, 2.7841009887793176, -0.4500324908581403, -1.6813229039518773, -0.45463281656514104, -0.023025213530122365, -1.7038590034826455, -0.0825859851593682, -0.2037125593284725, 0.814377619961438, -0.6254026100427503, -1.5093882638874176, 1.2285573829502388, 0.1652410261119857, 1.2081300941955717, -0.4805856183844383, -0.9998030209059221, 2.8079053019227906, 0.04944547123720202, 0.5304990745579125, -1.055345071570587, 1.5395395879535254, 0.38299093507564547, 0.5321547238143925, 0.11616983666958806, -1.375565023655355, 0.5063230091191446]]}],                        {\"legend\": {\"bgcolor\": \"#F5F6F9\", \"font\": {\"color\": \"#4D5663\"}}, \"paper_bgcolor\": \"#F5F6F9\", \"plot_bgcolor\": \"#F5F6F9\", \"template\": {\"data\": {\"bar\": [{\"error_x\": {\"color\": \"#2a3f5f\"}, \"error_y\": {\"color\": \"#2a3f5f\"}, \"marker\": {\"line\": {\"color\": \"#E5ECF6\", \"width\": 0.5}}, \"type\": \"bar\"}], \"barpolar\": [{\"marker\": {\"line\": {\"color\": \"#E5ECF6\", \"width\": 0.5}}, \"type\": \"barpolar\"}], \"carpet\": [{\"aaxis\": {\"endlinecolor\": \"#2a3f5f\", \"gridcolor\": \"white\", \"linecolor\": \"white\", \"minorgridcolor\": \"white\", \"startlinecolor\": \"#2a3f5f\"}, \"baxis\": {\"endlinecolor\": \"#2a3f5f\", \"gridcolor\": \"white\", \"linecolor\": \"white\", \"minorgridcolor\": \"white\", \"startlinecolor\": \"#2a3f5f\"}, \"type\": \"carpet\"}], \"choropleth\": [{\"colorbar\": {\"outlinewidth\": 0, \"ticks\": \"\"}, \"type\": \"choropleth\"}], \"contour\": [{\"colorbar\": {\"outlinewidth\": 0, \"ticks\": \"\"}, \"colorscale\": [[0.0, \"#0d0887\"], [0.1111111111111111, \"#46039f\"], [0.2222222222222222, \"#7201a8\"], [0.3333333333333333, \"#9c179e\"], [0.4444444444444444, \"#bd3786\"], [0.5555555555555556, \"#d8576b\"], [0.6666666666666666, \"#ed7953\"], [0.7777777777777778, \"#fb9f3a\"], [0.8888888888888888, \"#fdca26\"], [1.0, \"#f0f921\"]], \"type\": \"contour\"}], \"contourcarpet\": [{\"colorbar\": {\"outlinewidth\": 0, \"ticks\": \"\"}, \"type\": \"contourcarpet\"}], \"heatmap\": [{\"colorbar\": {\"outlinewidth\": 0, \"ticks\": \"\"}, \"colorscale\": [[0.0, \"#0d0887\"], [0.1111111111111111, \"#46039f\"], [0.2222222222222222, \"#7201a8\"], [0.3333333333333333, \"#9c179e\"], [0.4444444444444444, \"#bd3786\"], [0.5555555555555556, \"#d8576b\"], [0.6666666666666666, \"#ed7953\"], [0.7777777777777778, \"#fb9f3a\"], [0.8888888888888888, \"#fdca26\"], [1.0, \"#f0f921\"]], \"type\": \"heatmap\"}], \"heatmapgl\": [{\"colorbar\": {\"outlinewidth\": 0, \"ticks\": \"\"}, \"colorscale\": [[0.0, \"#0d0887\"], [0.1111111111111111, \"#46039f\"], [0.2222222222222222, \"#7201a8\"], [0.3333333333333333, \"#9c179e\"], [0.4444444444444444, \"#bd3786\"], [0.5555555555555556, \"#d8576b\"], [0.6666666666666666, \"#ed7953\"], [0.7777777777777778, \"#fb9f3a\"], [0.8888888888888888, \"#fdca26\"], [1.0, \"#f0f921\"]], \"type\": \"heatmapgl\"}], \"histogram\": [{\"marker\": {\"colorbar\": {\"outlinewidth\": 0, \"ticks\": \"\"}}, \"type\": \"histogram\"}], \"histogram2d\": [{\"colorbar\": {\"outlinewidth\": 0, \"ticks\": \"\"}, \"colorscale\": [[0.0, \"#0d0887\"], [0.1111111111111111, \"#46039f\"], [0.2222222222222222, \"#7201a8\"], [0.3333333333333333, \"#9c179e\"], [0.4444444444444444, \"#bd3786\"], [0.5555555555555556, \"#d8576b\"], [0.6666666666666666, \"#ed7953\"], [0.7777777777777778, \"#fb9f3a\"], [0.8888888888888888, \"#fdca26\"], [1.0, \"#f0f921\"]], \"type\": \"histogram2d\"}], \"histogram2dcontour\": [{\"colorbar\": {\"outlinewidth\": 0, \"ticks\": \"\"}, \"colorscale\": [[0.0, \"#0d0887\"], [0.1111111111111111, \"#46039f\"], [0.2222222222222222, \"#7201a8\"], [0.3333333333333333, \"#9c179e\"], [0.4444444444444444, \"#bd3786\"], [0.5555555555555556, \"#d8576b\"], [0.6666666666666666, \"#ed7953\"], [0.7777777777777778, \"#fb9f3a\"], [0.8888888888888888, \"#fdca26\"], [1.0, \"#f0f921\"]], \"type\": \"histogram2dcontour\"}], \"mesh3d\": [{\"colorbar\": {\"outlinewidth\": 0, \"ticks\": \"\"}, \"type\": \"mesh3d\"}], \"parcoords\": [{\"line\": {\"colorbar\": {\"outlinewidth\": 0, \"ticks\": \"\"}}, \"type\": \"parcoords\"}], \"pie\": [{\"automargin\": true, \"type\": \"pie\"}], \"scatter\": [{\"marker\": {\"colorbar\": {\"outlinewidth\": 0, \"ticks\": \"\"}}, \"type\": \"scatter\"}], \"scatter3d\": [{\"line\": {\"colorbar\": {\"outlinewidth\": 0, \"ticks\": \"\"}}, \"marker\": {\"colorbar\": {\"outlinewidth\": 0, \"ticks\": \"\"}}, \"type\": \"scatter3d\"}], \"scattercarpet\": [{\"marker\": {\"colorbar\": {\"outlinewidth\": 0, \"ticks\": \"\"}}, \"type\": \"scattercarpet\"}], \"scattergeo\": [{\"marker\": {\"colorbar\": {\"outlinewidth\": 0, \"ticks\": \"\"}}, \"type\": \"scattergeo\"}], \"scattergl\": [{\"marker\": {\"colorbar\": {\"outlinewidth\": 0, \"ticks\": \"\"}}, \"type\": \"scattergl\"}], \"scattermapbox\": [{\"marker\": {\"colorbar\": {\"outlinewidth\": 0, \"ticks\": \"\"}}, \"type\": \"scattermapbox\"}], \"scatterpolar\": [{\"marker\": {\"colorbar\": {\"outlinewidth\": 0, \"ticks\": \"\"}}, \"type\": \"scatterpolar\"}], \"scatterpolargl\": [{\"marker\": {\"colorbar\": {\"outlinewidth\": 0, \"ticks\": \"\"}}, \"type\": \"scatterpolargl\"}], \"scatterternary\": [{\"marker\": {\"colorbar\": {\"outlinewidth\": 0, \"ticks\": \"\"}}, \"type\": \"scatterternary\"}], \"surface\": [{\"colorbar\": {\"outlinewidth\": 0, \"ticks\": \"\"}, \"colorscale\": [[0.0, \"#0d0887\"], [0.1111111111111111, \"#46039f\"], [0.2222222222222222, \"#7201a8\"], [0.3333333333333333, \"#9c179e\"], [0.4444444444444444, \"#bd3786\"], [0.5555555555555556, \"#d8576b\"], [0.6666666666666666, \"#ed7953\"], [0.7777777777777778, \"#fb9f3a\"], [0.8888888888888888, \"#fdca26\"], [1.0, \"#f0f921\"]], \"type\": \"surface\"}], \"table\": [{\"cells\": {\"fill\": {\"color\": \"#EBF0F8\"}, \"line\": {\"color\": \"white\"}}, \"header\": {\"fill\": {\"color\": \"#C8D4E3\"}, \"line\": {\"color\": \"white\"}}, \"type\": \"table\"}]}, \"layout\": {\"annotationdefaults\": {\"arrowcolor\": \"#2a3f5f\", \"arrowhead\": 0, \"arrowwidth\": 1}, \"coloraxis\": {\"colorbar\": {\"outlinewidth\": 0, \"ticks\": \"\"}}, \"colorscale\": {\"diverging\": [[0, \"#8e0152\"], [0.1, \"#c51b7d\"], [0.2, \"#de77ae\"], [0.3, \"#f1b6da\"], [0.4, \"#fde0ef\"], [0.5, \"#f7f7f7\"], [0.6, \"#e6f5d0\"], [0.7, \"#b8e186\"], [0.8, \"#7fbc41\"], [0.9, \"#4d9221\"], [1, \"#276419\"]], \"sequential\": [[0.0, \"#0d0887\"], [0.1111111111111111, \"#46039f\"], [0.2222222222222222, \"#7201a8\"], [0.3333333333333333, \"#9c179e\"], [0.4444444444444444, \"#bd3786\"], [0.5555555555555556, \"#d8576b\"], [0.6666666666666666, \"#ed7953\"], [0.7777777777777778, \"#fb9f3a\"], [0.8888888888888888, \"#fdca26\"], [1.0, \"#f0f921\"]], \"sequentialminus\": [[0.0, \"#0d0887\"], [0.1111111111111111, \"#46039f\"], [0.2222222222222222, \"#7201a8\"], [0.3333333333333333, \"#9c179e\"], [0.4444444444444444, \"#bd3786\"], [0.5555555555555556, \"#d8576b\"], [0.6666666666666666, \"#ed7953\"], [0.7777777777777778, \"#fb9f3a\"], [0.8888888888888888, \"#fdca26\"], [1.0, \"#f0f921\"]]}, \"colorway\": [\"#636efa\", \"#EF553B\", \"#00cc96\", \"#ab63fa\", \"#FFA15A\", \"#19d3f3\", \"#FF6692\", \"#B6E880\", \"#FF97FF\", \"#FECB52\"], \"font\": {\"color\": \"#2a3f5f\"}, \"geo\": {\"bgcolor\": \"white\", \"lakecolor\": \"white\", \"landcolor\": \"#E5ECF6\", \"showlakes\": true, \"showland\": true, \"subunitcolor\": \"white\"}, \"hoverlabel\": {\"align\": \"left\"}, \"hovermode\": \"closest\", \"mapbox\": {\"style\": \"light\"}, \"paper_bgcolor\": \"white\", \"plot_bgcolor\": \"#E5ECF6\", \"polar\": {\"angularaxis\": {\"gridcolor\": \"white\", \"linecolor\": \"white\", \"ticks\": \"\"}, \"bgcolor\": \"#E5ECF6\", \"radialaxis\": {\"gridcolor\": \"white\", \"linecolor\": \"white\", \"ticks\": \"\"}}, \"scene\": {\"xaxis\": {\"backgroundcolor\": \"#E5ECF6\", \"gridcolor\": \"white\", \"gridwidth\": 2, \"linecolor\": \"white\", \"showbackground\": true, \"ticks\": \"\", \"zerolinecolor\": \"white\"}, \"yaxis\": {\"backgroundcolor\": \"#E5ECF6\", \"gridcolor\": \"white\", \"gridwidth\": 2, \"linecolor\": \"white\", \"showbackground\": true, \"ticks\": \"\", \"zerolinecolor\": \"white\"}, \"zaxis\": {\"backgroundcolor\": \"#E5ECF6\", \"gridcolor\": \"white\", \"gridwidth\": 2, \"linecolor\": \"white\", \"showbackground\": true, \"ticks\": \"\", \"zerolinecolor\": \"white\"}}, \"shapedefaults\": {\"line\": {\"color\": \"#2a3f5f\"}}, \"ternary\": {\"aaxis\": {\"gridcolor\": \"white\", \"linecolor\": \"white\", \"ticks\": \"\"}, \"baxis\": {\"gridcolor\": \"white\", \"linecolor\": \"white\", \"ticks\": \"\"}, \"bgcolor\": \"#E5ECF6\", \"caxis\": {\"gridcolor\": \"white\", \"linecolor\": \"white\", \"ticks\": \"\"}}, \"title\": {\"x\": 0.05}, \"xaxis\": {\"automargin\": true, \"gridcolor\": \"white\", \"linecolor\": \"white\", \"ticks\": \"\", \"title\": {\"standoff\": 15}, \"zerolinecolor\": \"white\", \"zerolinewidth\": 2}, \"yaxis\": {\"automargin\": true, \"gridcolor\": \"white\", \"linecolor\": \"white\", \"ticks\": \"\", \"title\": {\"standoff\": 15}, \"zerolinecolor\": \"white\", \"zerolinewidth\": 2}}}, \"title\": {\"font\": {\"color\": \"#4D5663\"}}, \"xaxis\": {\"gridcolor\": \"#E1E5ED\", \"showgrid\": true, \"tickfont\": {\"color\": \"#4D5663\"}, \"title\": {\"font\": {\"color\": \"#4D5663\"}, \"text\": \"\"}, \"zerolinecolor\": \"#E1E5ED\"}, \"yaxis\": {\"gridcolor\": \"#E1E5ED\", \"showgrid\": true, \"tickfont\": {\"color\": \"#4D5663\"}, \"title\": {\"font\": {\"color\": \"#4D5663\"}, \"text\": \"\"}, \"zerolinecolor\": \"#E1E5ED\"}},                        {\"showLink\": true, \"linkText\": \"Export to plot.ly\", \"plotlyServerURL\": \"https://plot.ly\", \"responsive\": true}                    ).then(function(){\n",
       "                            \n",
       "var gd = document.getElementById('018b8e17-a56c-471c-91e4-03ff6c308534');\n",
       "var x = new MutationObserver(function (mutations, observer) {{\n",
       "        var display = window.getComputedStyle(gd).display;\n",
       "        if (!display || display === 'none') {{\n",
       "            console.log([gd, 'removed!']);\n",
       "            Plotly.purge(gd);\n",
       "            observer.disconnect();\n",
       "        }}\n",
       "}});\n",
       "\n",
       "// Listen for the removal of the full notebook cells\n",
       "var notebookContainer = gd.closest('#notebook-container');\n",
       "if (notebookContainer) {{\n",
       "    x.observe(notebookContainer, {childList: true});\n",
       "}}\n",
       "\n",
       "// Listen for the clearing of the current output cell\n",
       "var outputEl = gd.closest('.output');\n",
       "if (outputEl) {{\n",
       "    x.observe(outputEl, {childList: true});\n",
       "}}\n",
       "\n",
       "                        })                };                });            </script>        </div>"
      ]
     },
     "metadata": {},
     "output_type": "display_data"
    }
   ],
   "source": [
    "df.iplot(kind='surface')"
   ]
  },
  {
   "cell_type": "code",
   "execution_count": 30,
   "metadata": {},
   "outputs": [
    {
     "data": {
      "application/vnd.plotly.v1+json": {
       "config": {
        "linkText": "Export to plot.ly",
        "plotlyServerURL": "https://plot.ly",
        "showLink": true
       },
       "data": [
        {
         "colorscale": [
          [
           0,
           "rgb(165,0,38)"
          ],
          [
           0.1,
           "rgb(215,48,39)"
          ],
          [
           0.2,
           "rgb(244,109,67)"
          ],
          [
           0.3,
           "rgb(253,174,97)"
          ],
          [
           0.4,
           "rgb(254,224,144)"
          ],
          [
           0.5,
           "rgb(255,255,191)"
          ],
          [
           0.6,
           "rgb(224,243,248)"
          ],
          [
           0.7,
           "rgb(171,217,233)"
          ],
          [
           0.8,
           "rgb(116,173,209)"
          ],
          [
           0.9,
           "rgb(69,117,180)"
          ],
          [
           1,
           "rgb(49,54,149)"
          ]
         ],
         "type": "surface",
         "x": [
          0,
          1,
          2,
          3,
          4,
          5,
          6,
          7,
          8,
          9,
          10,
          11,
          12,
          13,
          14,
          15,
          16,
          17,
          18,
          19,
          20,
          21,
          22,
          23,
          24,
          25,
          26,
          27,
          28,
          29,
          30,
          31,
          32,
          33,
          34,
          35,
          36,
          37,
          38,
          39,
          40,
          41,
          42,
          43,
          44,
          45,
          46,
          47,
          48,
          49,
          50,
          51,
          52,
          53,
          54,
          55,
          56,
          57,
          58,
          59,
          60,
          61,
          62,
          63,
          64,
          65,
          66,
          67,
          68,
          69,
          70,
          71,
          72,
          73,
          74,
          75,
          76,
          77,
          78,
          79,
          80,
          81,
          82,
          83,
          84,
          85,
          86,
          87,
          88,
          89,
          90,
          91,
          92,
          93,
          94,
          95,
          96,
          97,
          98,
          99
         ],
         "y": [
          "A",
          "B",
          "C"
         ],
         "z": [
          [
           0.8044864774287241,
           -0.9481510423908883,
           2.1161350125328893,
           -1.3638225018741512,
           1.843275784856714,
           -1.7485319087132714,
           0.019641782607167837,
           -1.3419230890825473,
           0.5002851311201935,
           1.7756534615326307,
           -1.5137689091411979,
           -0.6368965213801283,
           -0.4504836130030108,
           0.8223196594555584,
           -0.5668391872668452,
           0.28377158462026636,
           0.20920576519190212,
           -0.2853904827657341,
           -0.17119499296719892,
           0.3165555874193085,
           -0.04344304258750354,
           -1.6359451121334614,
           1.2297443818240892,
           0.3977701824683929,
           -0.6199429502095049,
           -0.5434986071672341,
           0.5966658633710911,
           -0.9852456719148055,
           -1.2854772280293154,
           1.6982773489170202,
           0.4917482763196713,
           -0.39007947446503893,
           0.10440829344675284,
           0.029959384510654757,
           1.8981150473853043,
           0.11224329769735449,
           0.16958490769530116,
           -1.0090664485461647,
           1.1420713489721033,
           -0.08440134014658718,
           -0.29591835801983263,
           -0.8338161349177546,
           0.4022410759931213,
           -0.09378837014273535,
           2.6294839606173075,
           -1.8389518962689346,
           -0.29174947495237014,
           0.9030605580213567,
           -0.6932451617990796,
           0.6034772327037836,
           -0.43966887835365115,
           -0.7020155628235437,
           0.4358997795514861,
           -0.8674103933488719,
           -0.0918369002124646,
           -1.1704813015761089,
           -1.485349686062648,
           -0.3845514538641442,
           -0.46603745412132286,
           1.4430100047158019,
           1.3141586177413886,
           0.20470553419963025,
           1.773014947883199,
           0.8343339136849154,
           0.8977775936652503,
           0.7747413841441109,
           -0.22299326188335347,
           -0.883794978630215,
           2.234388870676288,
           0.06021174574722974,
           0.6889431202394805,
           1.0767787342659982,
           0.4826885360517074,
           -1.3130029382256718,
           1.0590237369225428,
           0.4037213324474893,
           0.3045309914434343,
           1.6667495172080453,
           -0.850345536251703,
           -1.1913249201442142,
           -0.6669592472067115,
           -0.7523429984195517,
           0.8023647436386182,
           1.3605623973050855,
           2.083286190157904,
           0.05508675603563289,
           -0.5100089643770411,
           -1.7149273009046366,
           -0.6118769379222307,
           -2.9116624537552864,
           0.513916260938284,
           -0.4862353539068187,
           0.3189358485777468,
           1.5911437180710455,
           -2.1718658217069904,
           -0.07096115996856431,
           1.5501228178069633,
           0.07764264026662375,
           1.8097817272032244,
           -2.644102123835663
          ],
          [
           -0.43410269779590144,
           -0.4555614475370614,
           0.5176068913521863,
           -0.2201856042059788,
           0.7242319396241198,
           -0.43108813976885796,
           0.25051323212230053,
           0.115786764079762,
           -0.05306888817844119,
           0.26794552710288705,
           -0.6790175164388548,
           0.5482879547153879,
           0.5228708258609674,
           0.2992033400209017,
           0.049066090332094366,
           -0.22468566558148392,
           -0.8101875845344977,
           -0.3454506572557632,
           0.32804549581812986,
           -1.2347372977765778,
           0.9742617146899739,
           0.8985367217809102,
           0.2758668900806672,
           -0.03991778128800362,
           0.5594554600328423,
           0.7373003561584219,
           0.27451390695058897,
           0.6976289260272461,
           0.32663832911693647,
           0.7628218976841893,
           -0.2608070928282954,
           -0.5146592954590046,
           1.9060095192951154,
           2.010745805923577,
           -1.96298586250898,
           -1.1544211492703425,
           1.808908280232178,
           -0.03461893387673593,
           -0.13269694561568432,
           1.2465208589234649,
           -0.4682696810329029,
           -0.16661583794871268,
           -1.6372717466544358,
           -0.4336974207373278,
           -0.5263169496035581,
           1.6134305410761696,
           0.5375785860301046,
           -0.7063059523886868,
           -0.08742558571346763,
           0.4821507580979392,
           -0.8990165341679056,
           0.38321915650915717,
           0.7423161103060311,
           1.2313060957281705,
           1.9856557724366857,
           1.0821988520204493,
           -0.7466618095854451,
           0.629040466764736,
           -0.4823326456135654,
           2.7490781272322296,
           0.8012449112581967,
           1.8190775804088608,
           -1.4955775599104129,
           0.7755581280783765,
           0.4786688696298884,
           0.37290407291698097,
           0.3326903476159306,
           0.9233357658276374,
           -0.032119544524130225,
           -0.5351270604371191,
           -0.14712955543618636,
           0.3231934174318966,
           0.7942546322839973,
           -1.2495924093637072,
           -0.7182878506608857,
           -0.9024221251217006,
           -1.8590372235363215,
           -0.18596480888861117,
           0.4952962821104375,
           0.7663780588049834,
           0.750327437984539,
           -0.9167075221920621,
           -1.4372995517066565,
           -1.10919826570545,
           0.5886280647822731,
           -1.1220490019720488,
           2.2294694141838862,
           1.2532288659970512,
           -0.38572117603426015,
           -0.6858806771800992,
           0.28722903716124615,
           -0.5837954459766008,
           -0.4391801157742352,
           0.07204523589768022,
           1.7569991188244072,
           -0.6115524855110406,
           -0.5548645380988806,
           1.212503241540441,
           0.3779869875666681,
           0.7319963648223098
          ],
          [
           0.17437641394917874,
           0.7490361904498126,
           0.2206487700522952,
           -1.6480931060727528,
           1.4620421283243314,
           0.3820336249836358,
           -0.7543945300211781,
           -0.6426483276542193,
           -0.5047359239418499,
           2.260731119462813,
           1.2059967576360053,
           -0.40792789033670196,
           -0.3735557788923569,
           0.9223879901217894,
           0.5387542559927422,
           1.293366186217786,
           -0.3061694975458192,
           1.4458344474262372,
           -0.09731501254556423,
           1.349054326346807,
           0.10266894912192394,
           -1.5895513391001461,
           -0.631487039076087,
           -0.6495046871754468,
           -0.5054457546127393,
           0.16588666469731964,
           1.182579733108419,
           1.5702728567909054,
           -0.6854982775173628,
           -0.2142420737423121,
           0.0611855245856681,
           1.8877586015324224,
           -0.04635364179885129,
           -0.6216973206487607,
           -1.8700902552522218,
           -0.17574719059565638,
           0.48054197537656324,
           -1.8307026567314109,
           0.42221981905429895,
           -0.036228233963711796,
           0.2095985941357195,
           0.975831001214111,
           -0.7017837092939401,
           0.356516389516243,
           1.7467740184215845,
           1.8994410880435575,
           0.19055959194181868,
           0.2006264499212719,
           0.6845249672095227,
           -0.31312033410853163,
           1.2305046951174428,
           -0.3319642881558576,
           -1.268108681937728,
           -0.0775659164722555,
           0.7510722580630781,
           1.4084269276169865,
           -1.912990420801554,
           1.1459097803085434,
           0.15898023964590857,
           1.2297004667972553,
           -0.14560897468774114,
           0.2388596555647904,
           -0.11191358676205446,
           2.8699281091776876,
           -0.46648935628783206,
           0.1456387070136528,
           -1.5718030469704014,
           -0.919400581374011,
           -0.4385574306559472,
           0.9539469603504792,
           0.3480216508176851,
           0.7859446983841218,
           -0.7756360897273119,
           -0.17771469767058096,
           2.7841009887793176,
           -0.4500324908581403,
           -1.6813229039518773,
           -0.45463281656514104,
           -0.023025213530122365,
           -1.7038590034826455,
           -0.0825859851593682,
           -0.2037125593284725,
           0.814377619961438,
           -0.6254026100427503,
           -1.5093882638874176,
           1.2285573829502388,
           0.1652410261119857,
           1.2081300941955717,
           -0.4805856183844383,
           -0.9998030209059221,
           2.8079053019227906,
           0.04944547123720202,
           0.5304990745579125,
           -1.055345071570587,
           1.5395395879535254,
           0.38299093507564547,
           0.5321547238143925,
           0.11616983666958806,
           -1.375565023655355,
           0.5063230091191446
          ]
         ]
        }
       ],
       "layout": {
        "legend": {
         "bgcolor": "#F5F6F9",
         "font": {
          "color": "#4D5663"
         }
        },
        "paper_bgcolor": "#F5F6F9",
        "plot_bgcolor": "#F5F6F9",
        "template": {
         "data": {
          "bar": [
           {
            "error_x": {
             "color": "#2a3f5f"
            },
            "error_y": {
             "color": "#2a3f5f"
            },
            "marker": {
             "line": {
              "color": "#E5ECF6",
              "width": 0.5
             }
            },
            "type": "bar"
           }
          ],
          "barpolar": [
           {
            "marker": {
             "line": {
              "color": "#E5ECF6",
              "width": 0.5
             }
            },
            "type": "barpolar"
           }
          ],
          "carpet": [
           {
            "aaxis": {
             "endlinecolor": "#2a3f5f",
             "gridcolor": "white",
             "linecolor": "white",
             "minorgridcolor": "white",
             "startlinecolor": "#2a3f5f"
            },
            "baxis": {
             "endlinecolor": "#2a3f5f",
             "gridcolor": "white",
             "linecolor": "white",
             "minorgridcolor": "white",
             "startlinecolor": "#2a3f5f"
            },
            "type": "carpet"
           }
          ],
          "choropleth": [
           {
            "colorbar": {
             "outlinewidth": 0,
             "ticks": ""
            },
            "type": "choropleth"
           }
          ],
          "contour": [
           {
            "colorbar": {
             "outlinewidth": 0,
             "ticks": ""
            },
            "colorscale": [
             [
              0,
              "#0d0887"
             ],
             [
              0.1111111111111111,
              "#46039f"
             ],
             [
              0.2222222222222222,
              "#7201a8"
             ],
             [
              0.3333333333333333,
              "#9c179e"
             ],
             [
              0.4444444444444444,
              "#bd3786"
             ],
             [
              0.5555555555555556,
              "#d8576b"
             ],
             [
              0.6666666666666666,
              "#ed7953"
             ],
             [
              0.7777777777777778,
              "#fb9f3a"
             ],
             [
              0.8888888888888888,
              "#fdca26"
             ],
             [
              1,
              "#f0f921"
             ]
            ],
            "type": "contour"
           }
          ],
          "contourcarpet": [
           {
            "colorbar": {
             "outlinewidth": 0,
             "ticks": ""
            },
            "type": "contourcarpet"
           }
          ],
          "heatmap": [
           {
            "colorbar": {
             "outlinewidth": 0,
             "ticks": ""
            },
            "colorscale": [
             [
              0,
              "#0d0887"
             ],
             [
              0.1111111111111111,
              "#46039f"
             ],
             [
              0.2222222222222222,
              "#7201a8"
             ],
             [
              0.3333333333333333,
              "#9c179e"
             ],
             [
              0.4444444444444444,
              "#bd3786"
             ],
             [
              0.5555555555555556,
              "#d8576b"
             ],
             [
              0.6666666666666666,
              "#ed7953"
             ],
             [
              0.7777777777777778,
              "#fb9f3a"
             ],
             [
              0.8888888888888888,
              "#fdca26"
             ],
             [
              1,
              "#f0f921"
             ]
            ],
            "type": "heatmap"
           }
          ],
          "heatmapgl": [
           {
            "colorbar": {
             "outlinewidth": 0,
             "ticks": ""
            },
            "colorscale": [
             [
              0,
              "#0d0887"
             ],
             [
              0.1111111111111111,
              "#46039f"
             ],
             [
              0.2222222222222222,
              "#7201a8"
             ],
             [
              0.3333333333333333,
              "#9c179e"
             ],
             [
              0.4444444444444444,
              "#bd3786"
             ],
             [
              0.5555555555555556,
              "#d8576b"
             ],
             [
              0.6666666666666666,
              "#ed7953"
             ],
             [
              0.7777777777777778,
              "#fb9f3a"
             ],
             [
              0.8888888888888888,
              "#fdca26"
             ],
             [
              1,
              "#f0f921"
             ]
            ],
            "type": "heatmapgl"
           }
          ],
          "histogram": [
           {
            "marker": {
             "colorbar": {
              "outlinewidth": 0,
              "ticks": ""
             }
            },
            "type": "histogram"
           }
          ],
          "histogram2d": [
           {
            "colorbar": {
             "outlinewidth": 0,
             "ticks": ""
            },
            "colorscale": [
             [
              0,
              "#0d0887"
             ],
             [
              0.1111111111111111,
              "#46039f"
             ],
             [
              0.2222222222222222,
              "#7201a8"
             ],
             [
              0.3333333333333333,
              "#9c179e"
             ],
             [
              0.4444444444444444,
              "#bd3786"
             ],
             [
              0.5555555555555556,
              "#d8576b"
             ],
             [
              0.6666666666666666,
              "#ed7953"
             ],
             [
              0.7777777777777778,
              "#fb9f3a"
             ],
             [
              0.8888888888888888,
              "#fdca26"
             ],
             [
              1,
              "#f0f921"
             ]
            ],
            "type": "histogram2d"
           }
          ],
          "histogram2dcontour": [
           {
            "colorbar": {
             "outlinewidth": 0,
             "ticks": ""
            },
            "colorscale": [
             [
              0,
              "#0d0887"
             ],
             [
              0.1111111111111111,
              "#46039f"
             ],
             [
              0.2222222222222222,
              "#7201a8"
             ],
             [
              0.3333333333333333,
              "#9c179e"
             ],
             [
              0.4444444444444444,
              "#bd3786"
             ],
             [
              0.5555555555555556,
              "#d8576b"
             ],
             [
              0.6666666666666666,
              "#ed7953"
             ],
             [
              0.7777777777777778,
              "#fb9f3a"
             ],
             [
              0.8888888888888888,
              "#fdca26"
             ],
             [
              1,
              "#f0f921"
             ]
            ],
            "type": "histogram2dcontour"
           }
          ],
          "mesh3d": [
           {
            "colorbar": {
             "outlinewidth": 0,
             "ticks": ""
            },
            "type": "mesh3d"
           }
          ],
          "parcoords": [
           {
            "line": {
             "colorbar": {
              "outlinewidth": 0,
              "ticks": ""
             }
            },
            "type": "parcoords"
           }
          ],
          "pie": [
           {
            "automargin": true,
            "type": "pie"
           }
          ],
          "scatter": [
           {
            "marker": {
             "colorbar": {
              "outlinewidth": 0,
              "ticks": ""
             }
            },
            "type": "scatter"
           }
          ],
          "scatter3d": [
           {
            "line": {
             "colorbar": {
              "outlinewidth": 0,
              "ticks": ""
             }
            },
            "marker": {
             "colorbar": {
              "outlinewidth": 0,
              "ticks": ""
             }
            },
            "type": "scatter3d"
           }
          ],
          "scattercarpet": [
           {
            "marker": {
             "colorbar": {
              "outlinewidth": 0,
              "ticks": ""
             }
            },
            "type": "scattercarpet"
           }
          ],
          "scattergeo": [
           {
            "marker": {
             "colorbar": {
              "outlinewidth": 0,
              "ticks": ""
             }
            },
            "type": "scattergeo"
           }
          ],
          "scattergl": [
           {
            "marker": {
             "colorbar": {
              "outlinewidth": 0,
              "ticks": ""
             }
            },
            "type": "scattergl"
           }
          ],
          "scattermapbox": [
           {
            "marker": {
             "colorbar": {
              "outlinewidth": 0,
              "ticks": ""
             }
            },
            "type": "scattermapbox"
           }
          ],
          "scatterpolar": [
           {
            "marker": {
             "colorbar": {
              "outlinewidth": 0,
              "ticks": ""
             }
            },
            "type": "scatterpolar"
           }
          ],
          "scatterpolargl": [
           {
            "marker": {
             "colorbar": {
              "outlinewidth": 0,
              "ticks": ""
             }
            },
            "type": "scatterpolargl"
           }
          ],
          "scatterternary": [
           {
            "marker": {
             "colorbar": {
              "outlinewidth": 0,
              "ticks": ""
             }
            },
            "type": "scatterternary"
           }
          ],
          "surface": [
           {
            "colorbar": {
             "outlinewidth": 0,
             "ticks": ""
            },
            "colorscale": [
             [
              0,
              "#0d0887"
             ],
             [
              0.1111111111111111,
              "#46039f"
             ],
             [
              0.2222222222222222,
              "#7201a8"
             ],
             [
              0.3333333333333333,
              "#9c179e"
             ],
             [
              0.4444444444444444,
              "#bd3786"
             ],
             [
              0.5555555555555556,
              "#d8576b"
             ],
             [
              0.6666666666666666,
              "#ed7953"
             ],
             [
              0.7777777777777778,
              "#fb9f3a"
             ],
             [
              0.8888888888888888,
              "#fdca26"
             ],
             [
              1,
              "#f0f921"
             ]
            ],
            "type": "surface"
           }
          ],
          "table": [
           {
            "cells": {
             "fill": {
              "color": "#EBF0F8"
             },
             "line": {
              "color": "white"
             }
            },
            "header": {
             "fill": {
              "color": "#C8D4E3"
             },
             "line": {
              "color": "white"
             }
            },
            "type": "table"
           }
          ]
         },
         "layout": {
          "annotationdefaults": {
           "arrowcolor": "#2a3f5f",
           "arrowhead": 0,
           "arrowwidth": 1
          },
          "coloraxis": {
           "colorbar": {
            "outlinewidth": 0,
            "ticks": ""
           }
          },
          "colorscale": {
           "diverging": [
            [
             0,
             "#8e0152"
            ],
            [
             0.1,
             "#c51b7d"
            ],
            [
             0.2,
             "#de77ae"
            ],
            [
             0.3,
             "#f1b6da"
            ],
            [
             0.4,
             "#fde0ef"
            ],
            [
             0.5,
             "#f7f7f7"
            ],
            [
             0.6,
             "#e6f5d0"
            ],
            [
             0.7,
             "#b8e186"
            ],
            [
             0.8,
             "#7fbc41"
            ],
            [
             0.9,
             "#4d9221"
            ],
            [
             1,
             "#276419"
            ]
           ],
           "sequential": [
            [
             0,
             "#0d0887"
            ],
            [
             0.1111111111111111,
             "#46039f"
            ],
            [
             0.2222222222222222,
             "#7201a8"
            ],
            [
             0.3333333333333333,
             "#9c179e"
            ],
            [
             0.4444444444444444,
             "#bd3786"
            ],
            [
             0.5555555555555556,
             "#d8576b"
            ],
            [
             0.6666666666666666,
             "#ed7953"
            ],
            [
             0.7777777777777778,
             "#fb9f3a"
            ],
            [
             0.8888888888888888,
             "#fdca26"
            ],
            [
             1,
             "#f0f921"
            ]
           ],
           "sequentialminus": [
            [
             0,
             "#0d0887"
            ],
            [
             0.1111111111111111,
             "#46039f"
            ],
            [
             0.2222222222222222,
             "#7201a8"
            ],
            [
             0.3333333333333333,
             "#9c179e"
            ],
            [
             0.4444444444444444,
             "#bd3786"
            ],
            [
             0.5555555555555556,
             "#d8576b"
            ],
            [
             0.6666666666666666,
             "#ed7953"
            ],
            [
             0.7777777777777778,
             "#fb9f3a"
            ],
            [
             0.8888888888888888,
             "#fdca26"
            ],
            [
             1,
             "#f0f921"
            ]
           ]
          },
          "colorway": [
           "#636efa",
           "#EF553B",
           "#00cc96",
           "#ab63fa",
           "#FFA15A",
           "#19d3f3",
           "#FF6692",
           "#B6E880",
           "#FF97FF",
           "#FECB52"
          ],
          "font": {
           "color": "#2a3f5f"
          },
          "geo": {
           "bgcolor": "white",
           "lakecolor": "white",
           "landcolor": "#E5ECF6",
           "showlakes": true,
           "showland": true,
           "subunitcolor": "white"
          },
          "hoverlabel": {
           "align": "left"
          },
          "hovermode": "closest",
          "mapbox": {
           "style": "light"
          },
          "paper_bgcolor": "white",
          "plot_bgcolor": "#E5ECF6",
          "polar": {
           "angularaxis": {
            "gridcolor": "white",
            "linecolor": "white",
            "ticks": ""
           },
           "bgcolor": "#E5ECF6",
           "radialaxis": {
            "gridcolor": "white",
            "linecolor": "white",
            "ticks": ""
           }
          },
          "scene": {
           "xaxis": {
            "backgroundcolor": "#E5ECF6",
            "gridcolor": "white",
            "gridwidth": 2,
            "linecolor": "white",
            "showbackground": true,
            "ticks": "",
            "zerolinecolor": "white"
           },
           "yaxis": {
            "backgroundcolor": "#E5ECF6",
            "gridcolor": "white",
            "gridwidth": 2,
            "linecolor": "white",
            "showbackground": true,
            "ticks": "",
            "zerolinecolor": "white"
           },
           "zaxis": {
            "backgroundcolor": "#E5ECF6",
            "gridcolor": "white",
            "gridwidth": 2,
            "linecolor": "white",
            "showbackground": true,
            "ticks": "",
            "zerolinecolor": "white"
           }
          },
          "shapedefaults": {
           "line": {
            "color": "#2a3f5f"
           }
          },
          "ternary": {
           "aaxis": {
            "gridcolor": "white",
            "linecolor": "white",
            "ticks": ""
           },
           "baxis": {
            "gridcolor": "white",
            "linecolor": "white",
            "ticks": ""
           },
           "bgcolor": "#E5ECF6",
           "caxis": {
            "gridcolor": "white",
            "linecolor": "white",
            "ticks": ""
           }
          },
          "title": {
           "x": 0.05
          },
          "xaxis": {
           "automargin": true,
           "gridcolor": "white",
           "linecolor": "white",
           "ticks": "",
           "title": {
            "standoff": 15
           },
           "zerolinecolor": "white",
           "zerolinewidth": 2
          },
          "yaxis": {
           "automargin": true,
           "gridcolor": "white",
           "linecolor": "white",
           "ticks": "",
           "title": {
            "standoff": 15
           },
           "zerolinecolor": "white",
           "zerolinewidth": 2
          }
         }
        },
        "title": {
         "font": {
          "color": "#4D5663"
         }
        },
        "xaxis": {
         "gridcolor": "#E1E5ED",
         "showgrid": true,
         "tickfont": {
          "color": "#4D5663"
         },
         "title": {
          "font": {
           "color": "#4D5663"
          },
          "text": ""
         },
         "zerolinecolor": "#E1E5ED"
        },
        "yaxis": {
         "gridcolor": "#E1E5ED",
         "showgrid": true,
         "tickfont": {
          "color": "#4D5663"
         },
         "title": {
          "font": {
           "color": "#4D5663"
          },
          "text": ""
         },
         "zerolinecolor": "#E1E5ED"
        }
       }
      },
      "text/html": [
       "<div>                            <div id=\"169d81cd-2015-4168-80e6-1978235486da\" class=\"plotly-graph-div\" style=\"height:525px; width:100%;\"></div>            <script type=\"text/javascript\">                require([\"plotly\"], function(Plotly) {                    window.PLOTLYENV=window.PLOTLYENV || {};\n",
       "                    window.PLOTLYENV.BASE_URL='https://plot.ly';                                    if (document.getElementById(\"169d81cd-2015-4168-80e6-1978235486da\")) {                    Plotly.newPlot(                        \"169d81cd-2015-4168-80e6-1978235486da\",                        [{\"colorscale\": [[0.0, \"rgb(165,0,38)\"], [0.1, \"rgb(215,48,39)\"], [0.2, \"rgb(244,109,67)\"], [0.3, \"rgb(253,174,97)\"], [0.4, \"rgb(254,224,144)\"], [0.5, \"rgb(255,255,191)\"], [0.6, \"rgb(224,243,248)\"], [0.7, \"rgb(171,217,233)\"], [0.8, \"rgb(116,173,209)\"], [0.9, \"rgb(69,117,180)\"], [1.0, \"rgb(49,54,149)\"]], \"type\": \"surface\", \"x\": [0, 1, 2, 3, 4, 5, 6, 7, 8, 9, 10, 11, 12, 13, 14, 15, 16, 17, 18, 19, 20, 21, 22, 23, 24, 25, 26, 27, 28, 29, 30, 31, 32, 33, 34, 35, 36, 37, 38, 39, 40, 41, 42, 43, 44, 45, 46, 47, 48, 49, 50, 51, 52, 53, 54, 55, 56, 57, 58, 59, 60, 61, 62, 63, 64, 65, 66, 67, 68, 69, 70, 71, 72, 73, 74, 75, 76, 77, 78, 79, 80, 81, 82, 83, 84, 85, 86, 87, 88, 89, 90, 91, 92, 93, 94, 95, 96, 97, 98, 99], \"y\": [\"A\", \"B\", \"C\"], \"z\": [[0.8044864774287241, -0.9481510423908883, 2.1161350125328893, -1.3638225018741512, 1.843275784856714, -1.7485319087132714, 0.019641782607167837, -1.3419230890825473, 0.5002851311201935, 1.7756534615326307, -1.5137689091411979, -0.6368965213801283, -0.4504836130030108, 0.8223196594555584, -0.5668391872668452, 0.28377158462026636, 0.20920576519190212, -0.2853904827657341, -0.17119499296719892, 0.3165555874193085, -0.04344304258750354, -1.6359451121334614, 1.2297443818240892, 0.3977701824683929, -0.6199429502095049, -0.5434986071672341, 0.5966658633710911, -0.9852456719148055, -1.2854772280293154, 1.6982773489170202, 0.4917482763196713, -0.39007947446503893, 0.10440829344675284, 0.029959384510654757, 1.8981150473853043, 0.11224329769735449, 0.16958490769530116, -1.0090664485461647, 1.1420713489721033, -0.08440134014658718, -0.29591835801983263, -0.8338161349177546, 0.4022410759931213, -0.09378837014273535, 2.6294839606173075, -1.8389518962689346, -0.29174947495237014, 0.9030605580213567, -0.6932451617990796, 0.6034772327037836, -0.43966887835365115, -0.7020155628235437, 0.4358997795514861, -0.8674103933488719, -0.0918369002124646, -1.1704813015761089, -1.485349686062648, -0.3845514538641442, -0.46603745412132286, 1.4430100047158019, 1.3141586177413886, 0.20470553419963025, 1.773014947883199, 0.8343339136849154, 0.8977775936652503, 0.7747413841441109, -0.22299326188335347, -0.883794978630215, 2.234388870676288, 0.06021174574722974, 0.6889431202394805, 1.0767787342659982, 0.4826885360517074, -1.3130029382256718, 1.0590237369225428, 0.4037213324474893, 0.3045309914434343, 1.6667495172080453, -0.850345536251703, -1.1913249201442142, -0.6669592472067115, -0.7523429984195517, 0.8023647436386182, 1.3605623973050855, 2.083286190157904, 0.05508675603563289, -0.5100089643770411, -1.7149273009046366, -0.6118769379222307, -2.9116624537552864, 0.513916260938284, -0.4862353539068187, 0.3189358485777468, 1.5911437180710455, -2.1718658217069904, -0.07096115996856431, 1.5501228178069633, 0.07764264026662375, 1.8097817272032244, -2.644102123835663], [-0.43410269779590144, -0.4555614475370614, 0.5176068913521863, -0.2201856042059788, 0.7242319396241198, -0.43108813976885796, 0.25051323212230053, 0.115786764079762, -0.05306888817844119, 0.26794552710288705, -0.6790175164388548, 0.5482879547153879, 0.5228708258609674, 0.2992033400209017, 0.049066090332094366, -0.22468566558148392, -0.8101875845344977, -0.3454506572557632, 0.32804549581812986, -1.2347372977765778, 0.9742617146899739, 0.8985367217809102, 0.2758668900806672, -0.03991778128800362, 0.5594554600328423, 0.7373003561584219, 0.27451390695058897, 0.6976289260272461, 0.32663832911693647, 0.7628218976841893, -0.2608070928282954, -0.5146592954590046, 1.9060095192951154, 2.010745805923577, -1.96298586250898, -1.1544211492703425, 1.808908280232178, -0.03461893387673593, -0.13269694561568432, 1.2465208589234649, -0.4682696810329029, -0.16661583794871268, -1.6372717466544358, -0.4336974207373278, -0.5263169496035581, 1.6134305410761696, 0.5375785860301046, -0.7063059523886868, -0.08742558571346763, 0.4821507580979392, -0.8990165341679056, 0.38321915650915717, 0.7423161103060311, 1.2313060957281705, 1.9856557724366857, 1.0821988520204493, -0.7466618095854451, 0.629040466764736, -0.4823326456135654, 2.7490781272322296, 0.8012449112581967, 1.8190775804088608, -1.4955775599104129, 0.7755581280783765, 0.4786688696298884, 0.37290407291698097, 0.3326903476159306, 0.9233357658276374, -0.032119544524130225, -0.5351270604371191, -0.14712955543618636, 0.3231934174318966, 0.7942546322839973, -1.2495924093637072, -0.7182878506608857, -0.9024221251217006, -1.8590372235363215, -0.18596480888861117, 0.4952962821104375, 0.7663780588049834, 0.750327437984539, -0.9167075221920621, -1.4372995517066565, -1.10919826570545, 0.5886280647822731, -1.1220490019720488, 2.2294694141838862, 1.2532288659970512, -0.38572117603426015, -0.6858806771800992, 0.28722903716124615, -0.5837954459766008, -0.4391801157742352, 0.07204523589768022, 1.7569991188244072, -0.6115524855110406, -0.5548645380988806, 1.212503241540441, 0.3779869875666681, 0.7319963648223098], [0.17437641394917874, 0.7490361904498126, 0.2206487700522952, -1.6480931060727528, 1.4620421283243314, 0.3820336249836358, -0.7543945300211781, -0.6426483276542193, -0.5047359239418499, 2.260731119462813, 1.2059967576360053, -0.40792789033670196, -0.3735557788923569, 0.9223879901217894, 0.5387542559927422, 1.293366186217786, -0.3061694975458192, 1.4458344474262372, -0.09731501254556423, 1.349054326346807, 0.10266894912192394, -1.5895513391001461, -0.631487039076087, -0.6495046871754468, -0.5054457546127393, 0.16588666469731964, 1.182579733108419, 1.5702728567909054, -0.6854982775173628, -0.2142420737423121, 0.0611855245856681, 1.8877586015324224, -0.04635364179885129, -0.6216973206487607, -1.8700902552522218, -0.17574719059565638, 0.48054197537656324, -1.8307026567314109, 0.42221981905429895, -0.036228233963711796, 0.2095985941357195, 0.975831001214111, -0.7017837092939401, 0.356516389516243, 1.7467740184215845, 1.8994410880435575, 0.19055959194181868, 0.2006264499212719, 0.6845249672095227, -0.31312033410853163, 1.2305046951174428, -0.3319642881558576, -1.268108681937728, -0.0775659164722555, 0.7510722580630781, 1.4084269276169865, -1.912990420801554, 1.1459097803085434, 0.15898023964590857, 1.2297004667972553, -0.14560897468774114, 0.2388596555647904, -0.11191358676205446, 2.8699281091776876, -0.46648935628783206, 0.1456387070136528, -1.5718030469704014, -0.919400581374011, -0.4385574306559472, 0.9539469603504792, 0.3480216508176851, 0.7859446983841218, -0.7756360897273119, -0.17771469767058096, 2.7841009887793176, -0.4500324908581403, -1.6813229039518773, -0.45463281656514104, -0.023025213530122365, -1.7038590034826455, -0.0825859851593682, -0.2037125593284725, 0.814377619961438, -0.6254026100427503, -1.5093882638874176, 1.2285573829502388, 0.1652410261119857, 1.2081300941955717, -0.4805856183844383, -0.9998030209059221, 2.8079053019227906, 0.04944547123720202, 0.5304990745579125, -1.055345071570587, 1.5395395879535254, 0.38299093507564547, 0.5321547238143925, 0.11616983666958806, -1.375565023655355, 0.5063230091191446]]}],                        {\"legend\": {\"bgcolor\": \"#F5F6F9\", \"font\": {\"color\": \"#4D5663\"}}, \"paper_bgcolor\": \"#F5F6F9\", \"plot_bgcolor\": \"#F5F6F9\", \"template\": {\"data\": {\"bar\": [{\"error_x\": {\"color\": \"#2a3f5f\"}, \"error_y\": {\"color\": \"#2a3f5f\"}, \"marker\": {\"line\": {\"color\": \"#E5ECF6\", \"width\": 0.5}}, \"type\": \"bar\"}], \"barpolar\": [{\"marker\": {\"line\": {\"color\": \"#E5ECF6\", \"width\": 0.5}}, \"type\": \"barpolar\"}], \"carpet\": [{\"aaxis\": {\"endlinecolor\": \"#2a3f5f\", \"gridcolor\": \"white\", \"linecolor\": \"white\", \"minorgridcolor\": \"white\", \"startlinecolor\": \"#2a3f5f\"}, \"baxis\": {\"endlinecolor\": \"#2a3f5f\", \"gridcolor\": \"white\", \"linecolor\": \"white\", \"minorgridcolor\": \"white\", \"startlinecolor\": \"#2a3f5f\"}, \"type\": \"carpet\"}], \"choropleth\": [{\"colorbar\": {\"outlinewidth\": 0, \"ticks\": \"\"}, \"type\": \"choropleth\"}], \"contour\": [{\"colorbar\": {\"outlinewidth\": 0, \"ticks\": \"\"}, \"colorscale\": [[0.0, \"#0d0887\"], [0.1111111111111111, \"#46039f\"], [0.2222222222222222, \"#7201a8\"], [0.3333333333333333, \"#9c179e\"], [0.4444444444444444, \"#bd3786\"], [0.5555555555555556, \"#d8576b\"], [0.6666666666666666, \"#ed7953\"], [0.7777777777777778, \"#fb9f3a\"], [0.8888888888888888, \"#fdca26\"], [1.0, \"#f0f921\"]], \"type\": \"contour\"}], \"contourcarpet\": [{\"colorbar\": {\"outlinewidth\": 0, \"ticks\": \"\"}, \"type\": \"contourcarpet\"}], \"heatmap\": [{\"colorbar\": {\"outlinewidth\": 0, \"ticks\": \"\"}, \"colorscale\": [[0.0, \"#0d0887\"], [0.1111111111111111, \"#46039f\"], [0.2222222222222222, \"#7201a8\"], [0.3333333333333333, \"#9c179e\"], [0.4444444444444444, \"#bd3786\"], [0.5555555555555556, \"#d8576b\"], [0.6666666666666666, \"#ed7953\"], [0.7777777777777778, \"#fb9f3a\"], [0.8888888888888888, \"#fdca26\"], [1.0, \"#f0f921\"]], \"type\": \"heatmap\"}], \"heatmapgl\": [{\"colorbar\": {\"outlinewidth\": 0, \"ticks\": \"\"}, \"colorscale\": [[0.0, \"#0d0887\"], [0.1111111111111111, \"#46039f\"], [0.2222222222222222, \"#7201a8\"], [0.3333333333333333, \"#9c179e\"], [0.4444444444444444, \"#bd3786\"], [0.5555555555555556, \"#d8576b\"], [0.6666666666666666, \"#ed7953\"], [0.7777777777777778, \"#fb9f3a\"], [0.8888888888888888, \"#fdca26\"], [1.0, \"#f0f921\"]], \"type\": \"heatmapgl\"}], \"histogram\": [{\"marker\": {\"colorbar\": {\"outlinewidth\": 0, \"ticks\": \"\"}}, \"type\": \"histogram\"}], \"histogram2d\": [{\"colorbar\": {\"outlinewidth\": 0, \"ticks\": \"\"}, \"colorscale\": [[0.0, \"#0d0887\"], [0.1111111111111111, \"#46039f\"], [0.2222222222222222, \"#7201a8\"], [0.3333333333333333, \"#9c179e\"], [0.4444444444444444, \"#bd3786\"], [0.5555555555555556, \"#d8576b\"], [0.6666666666666666, \"#ed7953\"], [0.7777777777777778, \"#fb9f3a\"], [0.8888888888888888, \"#fdca26\"], [1.0, \"#f0f921\"]], \"type\": \"histogram2d\"}], \"histogram2dcontour\": [{\"colorbar\": {\"outlinewidth\": 0, \"ticks\": \"\"}, \"colorscale\": [[0.0, \"#0d0887\"], [0.1111111111111111, \"#46039f\"], [0.2222222222222222, \"#7201a8\"], [0.3333333333333333, \"#9c179e\"], [0.4444444444444444, \"#bd3786\"], [0.5555555555555556, \"#d8576b\"], [0.6666666666666666, \"#ed7953\"], [0.7777777777777778, \"#fb9f3a\"], [0.8888888888888888, \"#fdca26\"], [1.0, \"#f0f921\"]], \"type\": \"histogram2dcontour\"}], \"mesh3d\": [{\"colorbar\": {\"outlinewidth\": 0, \"ticks\": \"\"}, \"type\": \"mesh3d\"}], \"parcoords\": [{\"line\": {\"colorbar\": {\"outlinewidth\": 0, \"ticks\": \"\"}}, \"type\": \"parcoords\"}], \"pie\": [{\"automargin\": true, \"type\": \"pie\"}], \"scatter\": [{\"marker\": {\"colorbar\": {\"outlinewidth\": 0, \"ticks\": \"\"}}, \"type\": \"scatter\"}], \"scatter3d\": [{\"line\": {\"colorbar\": {\"outlinewidth\": 0, \"ticks\": \"\"}}, \"marker\": {\"colorbar\": {\"outlinewidth\": 0, \"ticks\": \"\"}}, \"type\": \"scatter3d\"}], \"scattercarpet\": [{\"marker\": {\"colorbar\": {\"outlinewidth\": 0, \"ticks\": \"\"}}, \"type\": \"scattercarpet\"}], \"scattergeo\": [{\"marker\": {\"colorbar\": {\"outlinewidth\": 0, \"ticks\": \"\"}}, \"type\": \"scattergeo\"}], \"scattergl\": [{\"marker\": {\"colorbar\": {\"outlinewidth\": 0, \"ticks\": \"\"}}, \"type\": \"scattergl\"}], \"scattermapbox\": [{\"marker\": {\"colorbar\": {\"outlinewidth\": 0, \"ticks\": \"\"}}, \"type\": \"scattermapbox\"}], \"scatterpolar\": [{\"marker\": {\"colorbar\": {\"outlinewidth\": 0, \"ticks\": \"\"}}, \"type\": \"scatterpolar\"}], \"scatterpolargl\": [{\"marker\": {\"colorbar\": {\"outlinewidth\": 0, \"ticks\": \"\"}}, \"type\": \"scatterpolargl\"}], \"scatterternary\": [{\"marker\": {\"colorbar\": {\"outlinewidth\": 0, \"ticks\": \"\"}}, \"type\": \"scatterternary\"}], \"surface\": [{\"colorbar\": {\"outlinewidth\": 0, \"ticks\": \"\"}, \"colorscale\": [[0.0, \"#0d0887\"], [0.1111111111111111, \"#46039f\"], [0.2222222222222222, \"#7201a8\"], [0.3333333333333333, \"#9c179e\"], [0.4444444444444444, \"#bd3786\"], [0.5555555555555556, \"#d8576b\"], [0.6666666666666666, \"#ed7953\"], [0.7777777777777778, \"#fb9f3a\"], [0.8888888888888888, \"#fdca26\"], [1.0, \"#f0f921\"]], \"type\": \"surface\"}], \"table\": [{\"cells\": {\"fill\": {\"color\": \"#EBF0F8\"}, \"line\": {\"color\": \"white\"}}, \"header\": {\"fill\": {\"color\": \"#C8D4E3\"}, \"line\": {\"color\": \"white\"}}, \"type\": \"table\"}]}, \"layout\": {\"annotationdefaults\": {\"arrowcolor\": \"#2a3f5f\", \"arrowhead\": 0, \"arrowwidth\": 1}, \"coloraxis\": {\"colorbar\": {\"outlinewidth\": 0, \"ticks\": \"\"}}, \"colorscale\": {\"diverging\": [[0, \"#8e0152\"], [0.1, \"#c51b7d\"], [0.2, \"#de77ae\"], [0.3, \"#f1b6da\"], [0.4, \"#fde0ef\"], [0.5, \"#f7f7f7\"], [0.6, \"#e6f5d0\"], [0.7, \"#b8e186\"], [0.8, \"#7fbc41\"], [0.9, \"#4d9221\"], [1, \"#276419\"]], \"sequential\": [[0.0, \"#0d0887\"], [0.1111111111111111, \"#46039f\"], [0.2222222222222222, \"#7201a8\"], [0.3333333333333333, \"#9c179e\"], [0.4444444444444444, \"#bd3786\"], [0.5555555555555556, \"#d8576b\"], [0.6666666666666666, \"#ed7953\"], [0.7777777777777778, \"#fb9f3a\"], [0.8888888888888888, \"#fdca26\"], [1.0, \"#f0f921\"]], \"sequentialminus\": [[0.0, \"#0d0887\"], [0.1111111111111111, \"#46039f\"], [0.2222222222222222, \"#7201a8\"], [0.3333333333333333, \"#9c179e\"], [0.4444444444444444, \"#bd3786\"], [0.5555555555555556, \"#d8576b\"], [0.6666666666666666, \"#ed7953\"], [0.7777777777777778, \"#fb9f3a\"], [0.8888888888888888, \"#fdca26\"], [1.0, \"#f0f921\"]]}, \"colorway\": [\"#636efa\", \"#EF553B\", \"#00cc96\", \"#ab63fa\", \"#FFA15A\", \"#19d3f3\", \"#FF6692\", \"#B6E880\", \"#FF97FF\", \"#FECB52\"], \"font\": {\"color\": \"#2a3f5f\"}, \"geo\": {\"bgcolor\": \"white\", \"lakecolor\": \"white\", \"landcolor\": \"#E5ECF6\", \"showlakes\": true, \"showland\": true, \"subunitcolor\": \"white\"}, \"hoverlabel\": {\"align\": \"left\"}, \"hovermode\": \"closest\", \"mapbox\": {\"style\": \"light\"}, \"paper_bgcolor\": \"white\", \"plot_bgcolor\": \"#E5ECF6\", \"polar\": {\"angularaxis\": {\"gridcolor\": \"white\", \"linecolor\": \"white\", \"ticks\": \"\"}, \"bgcolor\": \"#E5ECF6\", \"radialaxis\": {\"gridcolor\": \"white\", \"linecolor\": \"white\", \"ticks\": \"\"}}, \"scene\": {\"xaxis\": {\"backgroundcolor\": \"#E5ECF6\", \"gridcolor\": \"white\", \"gridwidth\": 2, \"linecolor\": \"white\", \"showbackground\": true, \"ticks\": \"\", \"zerolinecolor\": \"white\"}, \"yaxis\": {\"backgroundcolor\": \"#E5ECF6\", \"gridcolor\": \"white\", \"gridwidth\": 2, \"linecolor\": \"white\", \"showbackground\": true, \"ticks\": \"\", \"zerolinecolor\": \"white\"}, \"zaxis\": {\"backgroundcolor\": \"#E5ECF6\", \"gridcolor\": \"white\", \"gridwidth\": 2, \"linecolor\": \"white\", \"showbackground\": true, \"ticks\": \"\", \"zerolinecolor\": \"white\"}}, \"shapedefaults\": {\"line\": {\"color\": \"#2a3f5f\"}}, \"ternary\": {\"aaxis\": {\"gridcolor\": \"white\", \"linecolor\": \"white\", \"ticks\": \"\"}, \"baxis\": {\"gridcolor\": \"white\", \"linecolor\": \"white\", \"ticks\": \"\"}, \"bgcolor\": \"#E5ECF6\", \"caxis\": {\"gridcolor\": \"white\", \"linecolor\": \"white\", \"ticks\": \"\"}}, \"title\": {\"x\": 0.05}, \"xaxis\": {\"automargin\": true, \"gridcolor\": \"white\", \"linecolor\": \"white\", \"ticks\": \"\", \"title\": {\"standoff\": 15}, \"zerolinecolor\": \"white\", \"zerolinewidth\": 2}, \"yaxis\": {\"automargin\": true, \"gridcolor\": \"white\", \"linecolor\": \"white\", \"ticks\": \"\", \"title\": {\"standoff\": 15}, \"zerolinecolor\": \"white\", \"zerolinewidth\": 2}}}, \"title\": {\"font\": {\"color\": \"#4D5663\"}}, \"xaxis\": {\"gridcolor\": \"#E1E5ED\", \"showgrid\": true, \"tickfont\": {\"color\": \"#4D5663\"}, \"title\": {\"font\": {\"color\": \"#4D5663\"}, \"text\": \"\"}, \"zerolinecolor\": \"#E1E5ED\"}, \"yaxis\": {\"gridcolor\": \"#E1E5ED\", \"showgrid\": true, \"tickfont\": {\"color\": \"#4D5663\"}, \"title\": {\"font\": {\"color\": \"#4D5663\"}, \"text\": \"\"}, \"zerolinecolor\": \"#E1E5ED\"}},                        {\"showLink\": true, \"linkText\": \"Export to plot.ly\", \"plotlyServerURL\": \"https://plot.ly\", \"responsive\": true}                    ).then(function(){\n",
       "                            \n",
       "var gd = document.getElementById('169d81cd-2015-4168-80e6-1978235486da');\n",
       "var x = new MutationObserver(function (mutations, observer) {{\n",
       "        var display = window.getComputedStyle(gd).display;\n",
       "        if (!display || display === 'none') {{\n",
       "            console.log([gd, 'removed!']);\n",
       "            Plotly.purge(gd);\n",
       "            observer.disconnect();\n",
       "        }}\n",
       "}});\n",
       "\n",
       "// Listen for the removal of the full notebook cells\n",
       "var notebookContainer = gd.closest('#notebook-container');\n",
       "if (notebookContainer) {{\n",
       "    x.observe(notebookContainer, {childList: true});\n",
       "}}\n",
       "\n",
       "// Listen for the clearing of the current output cell\n",
       "var outputEl = gd.closest('.output');\n",
       "if (outputEl) {{\n",
       "    x.observe(outputEl, {childList: true});\n",
       "}}\n",
       "\n",
       "                        })                };                });            </script>        </div>"
      ]
     },
     "metadata": {},
     "output_type": "display_data"
    }
   ],
   "source": [
    "df.iplot(kind='surface',colorscale='rdylbu')"
   ]
  },
  {
   "cell_type": "code",
   "execution_count": 31,
   "metadata": {},
   "outputs": [
    {
     "name": "stderr",
     "output_type": "stream",
     "text": [
      "C:\\ProgramData\\Anaconda3\\lib\\site-packages\\cufflinks\\datagen.py:380: RuntimeWarning:\n",
      "\n",
      "invalid value encountered in true_divide\n",
      "\n"
     ]
    },
    {
     "data": {
      "application/vnd.plotly.v1+json": {
       "config": {
        "linkText": "Export to plot.ly",
        "plotlyServerURL": "https://plot.ly",
        "showLink": true
       },
       "data": [
        {
         "colorscale": [
          [
           0,
           "rgb(255, 153, 51)"
          ],
          [
           0.1111111111111111,
           "rgb(55, 128, 191)"
          ],
          [
           0.2222222222222222,
           "rgb(50, 171, 96)"
          ],
          [
           0.3333333333333333,
           "rgb(128, 0, 128)"
          ],
          [
           0.4444444444444444,
           "rgb(219, 64, 82)"
          ],
          [
           0.5555555555555556,
           "rgb(0, 128, 128)"
          ],
          [
           0.6666666666666666,
           "rgb(255, 255, 51)"
          ],
          [
           0.7777777777777778,
           "rgb(128, 128, 0)"
          ],
          [
           0.8888888888888888,
           "rgb(251, 128, 114)"
          ],
          [
           1,
           "rgb(128, 177, 211)"
          ]
         ],
         "type": "surface",
         "x": [
          -10,
          -9.75,
          -9.5,
          -9.25,
          -9,
          -8.75,
          -8.5,
          -8.25,
          -8,
          -7.75,
          -7.5,
          -7.25,
          -7,
          -6.75,
          -6.5,
          -6.25,
          -6,
          -5.75,
          -5.5,
          -5.25,
          -5,
          -4.75,
          -4.5,
          -4.25,
          -4,
          -3.75,
          -3.5,
          -3.25,
          -3,
          -2.75,
          -2.5,
          -2.25,
          -2,
          -1.75,
          -1.5,
          -1.25,
          -1,
          -0.75,
          -0.5,
          -0.25,
          0,
          0.25,
          0.5,
          0.75,
          1,
          1.25,
          1.5,
          1.75,
          2,
          2.25,
          2.5,
          2.75,
          3,
          3.25,
          3.5,
          3.75,
          4,
          4.25,
          4.5,
          4.75,
          5,
          5.25,
          5.5,
          5.75,
          6,
          6.25,
          6.5,
          6.75,
          7,
          7.25,
          7.5,
          7.75,
          8,
          8.25,
          8.5,
          8.75,
          9,
          9.25,
          9.5,
          9.75
         ],
         "y": [
          -10,
          -9.75,
          -9.5,
          -9.25,
          -9,
          -8.75,
          -8.5,
          -8.25,
          -8,
          -7.75,
          -7.5,
          -7.25,
          -7,
          -6.75,
          -6.5,
          -6.25,
          -6,
          -5.75,
          -5.5,
          -5.25,
          -5,
          -4.75,
          -4.5,
          -4.25,
          -4,
          -3.75,
          -3.5,
          -3.25,
          -3,
          -2.75,
          -2.5,
          -2.25,
          -2,
          -1.75,
          -1.5,
          -1.25,
          -1,
          -0.75,
          -0.5,
          -0.25,
          0,
          0.25,
          0.5,
          0.75,
          1,
          1.25,
          1.5,
          1.75,
          2,
          2.25,
          2.5,
          2.75,
          3,
          3.25,
          3.5,
          3.75,
          4,
          4.25,
          4.5,
          4.75,
          5,
          5.25,
          5.5,
          5.75,
          6,
          6.25,
          6.5,
          6.75,
          7,
          7.25,
          7.5,
          7.75,
          8,
          8.25,
          8.5,
          8.75,
          9,
          9.25,
          9.5,
          9.75
         ],
         "z": [
          [
           0.14141961054935853,
           0.14111903500315878,
           0.13650222610828716,
           0.12777380562398274,
           0.11526115097856117,
           0.0993958462307399,
           0.08069235790121831,
           0.059725017515438364,
           0.037104384846577534,
           0.013454008098850966,
           -0.01061150357619211,
           -0.0345063152690242,
           -0.05769048962428924,
           -0.07968395387291566,
           -0.10007704610444179,
           -0.11853755153953284,
           -0.13481430178982187,
           -0.1487375524385824,
           -0.16021647158282734,
           -0.16923416092386775,
           -0.17584069010379264,
           -0.1801446545297837,
           -0.18230376872794093,
           -0.18251498442862385,
           -0.18100457917857166,
           -0.17801860199902664,
           -0.1738139924448547,
           -0.16865061331126227,
           -0.16278435980926842,
           -0.15646143337355978,
           -0.1499137997580331,
           -0.14335579129849668,
           -0.13698176393514344,
           -0.13096468174943518,
           -0.1254554756233313,
           -0.12058300781296416,
           -0.1164544699167505,
           -0.1131560467581887,
           -0.1107536917561867,
           -0.10929387900894774,
           -0.10880422217787396,
           -0.10929387900894774,
           -0.1107536917561867,
           -0.1131560467581887,
           -0.1164544699167505,
           -0.12058300781296416,
           -0.1254554756233313,
           -0.13096468174943518,
           -0.13698176393514344,
           -0.14335579129849668,
           -0.1499137997580331,
           -0.15646143337355978,
           -0.16278435980926842,
           -0.16865061331126227,
           -0.1738139924448547,
           -0.17801860199902664,
           -0.18100457917857166,
           -0.18251498442862385,
           -0.18230376872794093,
           -0.1801446545297837,
           -0.17584069010379264,
           -0.16923416092386775,
           -0.16021647158282734,
           -0.1487375524385824,
           -0.13481430178982187,
           -0.11853755153953284,
           -0.10007704610444179,
           -0.07968395387291566,
           -0.05769048962428924,
           -0.0345063152690242,
           -0.01061150357619211,
           0.013454008098850966,
           0.037104384846577534,
           0.059725017515438364,
           0.08069235790121831,
           0.0993958462307399,
           0.11526115097856117,
           0.12777380562398274,
           0.13650222610828716,
           0.14111903500315878
          ],
          [
           0.14111903500315878,
           0.13632396086944565,
           0.12719030582037316,
           0.11405907878471819,
           0.09738828403656238,
           0.07773008237271903,
           0.05570574218106777,
           0.03197958453286062,
           0.007233082355737275,
           -0.017859822184363938,
           -0.042655257000177006,
           -0.06655906279410359,
           -0.08904297911487404,
           -0.10965701691843574,
           -0.12803786284735597,
           -0.14391335124448024,
           -0.15710321083861073,
           -0.16751643729146143,
           -0.1751457556394694,
           -0.1800597155006458,
           -0.18239300622958532,
           -0.18233559039097344,
           -0.18012123502583363,
           -0.1760159755489718,
           -0.17030698199702413,
           -0.16329221750830802,
           -0.15527119023634722,
           -0.14653700801271363,
           -0.13736985507049018,
           -0.12803192632998142,
           -0.11876378051842666,
           -0.10978201113265723,
           -0.10127808535368477,
           -0.09341816596346665,
           -0.08634370978474622,
           -0.08017262722723162,
           -0.0750007897964791,
           -0.07090368426500879,
           -0.06793803188546253,
           -0.06614321685638791,
           -0.06554239869174844,
           -0.06614321685638791,
           -0.06793803188546253,
           -0.07090368426500879,
           -0.0750007897964791,
           -0.08017262722723162,
           -0.08634370978474622,
           -0.09341816596346665,
           -0.10127808535368477,
           -0.10978201113265723,
           -0.11876378051842666,
           -0.12803192632998142,
           -0.13736985507049018,
           -0.14653700801271363,
           -0.15527119023634722,
           -0.16329221750830802,
           -0.17030698199702413,
           -0.1760159755489718,
           -0.18012123502583363,
           -0.18233559039097344,
           -0.18239300622958532,
           -0.1800597155006458,
           -0.1751457556394694,
           -0.16751643729146143,
           -0.15710321083861073,
           -0.14391335124448024,
           -0.12803786284735597,
           -0.10965701691843574,
           -0.08904297911487404,
           -0.06655906279410359,
           -0.042655257000177006,
           -0.017859822184363938,
           0.007233082355737275,
           0.03197958453286062,
           0.05570574218106777,
           0.07773008237271903,
           0.09738828403656238,
           0.11405907878471819,
           0.12719030582037316,
           0.13632396086944565
          ],
          [
           0.13650222610828716,
           0.12719030582037316,
           0.1136526088802527,
           0.09636827159298987,
           0.0759235678781371,
           0.05298490441364873,
           0.028270310898122826,
           0.0025207381574719806,
           -0.023527608249201665,
           -0.04916880920228074,
           -0.07374973820785838,
           -0.09668883252747353,
           -0.11749065565570795,
           -0.13575600794040762,
           -0.1511875643863488,
           -0.163591222139663,
           -0.17287351607260817,
           -0.17903560277058095,
           -0.1821644169794075,
           -0.18242166855756492,
           -0.1800313728705813,
           -0.1752665961050691,
           -0.16843605361995675,
           -0.15987112992755653,
           -0.1499137997580331,
           -0.13890582780165694,
           -0.1271795169340972,
           -0.11505016730310495,
           -0.10281030706494565,
           -0.0907256642328181,
           -0.07903277128303789,
           -0.06793803188546253,
           -0.05761803324395176,
           -0.04822085787410071,
           -0.039868134180728126,
           -0.032657564269347995,
           -0.026665677985416577,
           -0.021950582012676394,
           -0.01855449981019833,
           -0.016505930263581485,
           -0.015821288518275644,
           -0.016505930263581485,
           -0.01855449981019833,
           -0.021950582012676394,
           -0.026665677985416577,
           -0.032657564269347995,
           -0.039868134180728126,
           -0.04822085787410071,
           -0.05761803324395176,
           -0.06793803188546253,
           -0.07903277128303789,
           -0.0907256642328181,
           -0.10281030706494565,
           -0.11505016730310495,
           -0.1271795169340972,
           -0.13890582780165694,
           -0.1499137997580331,
           -0.15987112992755653,
           -0.16843605361995675,
           -0.1752665961050691,
           -0.1800313728705813,
           -0.18242166855756492,
           -0.1821644169794075,
           -0.17903560277058095,
           -0.17287351607260817,
           -0.163591222139663,
           -0.1511875643863488,
           -0.13575600794040762,
           -0.11749065565570795,
           -0.09668883252747353,
           -0.07374973820785838,
           -0.04916880920228074,
           -0.023527608249201665,
           0.0025207381574719806,
           0.028270310898122826,
           0.05298490441364873,
           0.0759235678781371,
           0.09636827159298987,
           0.1136526088802527,
           0.12719030582037316
          ],
          [
           0.12777380562398274,
           0.11405907878471819,
           0.09636827159298987,
           0.07531659368730659,
           0.05161237775613617,
           0.026026147564044762,
           -0.0006409754282528475,
           -0.027588123185645037,
           -0.054043516875550875,
           -0.07929019757294747,
           -0.10268778525178764,
           -0.12368964794720452,
           -0.14185512230149663,
           -0.15685668268767797,
           -0.16848219583369567,
           -0.17663261032673944,
           -0.18131560690315682,
           -0.1826358700412797,
           -0.18078273088932142,
           -0.1760159755489718,
           -0.16865061331126227,
           -0.15904136091487175,
           -0.14756752732225356,
           -0.13461888616197776,
           -0.12058300781296416,
           -0.10583439818051152,
           -0.0907256642328181,
           -0.07558080422426758,
           -0.060690608986011814,
           -0.046310064114579955,
           -0.032657564269347995,
           -0.019915691575644292,
           -0.00823327044894154,
           0.0022716100207446164,
           0.011507919583092052,
           0.019407660252202565,
           0.025921773001301992,
           0.031016232090896562,
           0.03466854669458865,
           0.03686485131708162,
           0.03759772656874239,
           0.03686485131708162,
           0.03466854669458865,
           0.031016232090896562,
           0.025921773001301992,
           0.019407660252202565,
           0.011507919583092052,
           0.0022716100207446164,
           -0.00823327044894154,
           -0.019915691575644292,
           -0.032657564269347995,
           -0.046310064114579955,
           -0.060690608986011814,
           -0.07558080422426758,
           -0.0907256642328181,
           -0.10583439818051152,
           -0.12058300781296416,
           -0.13461888616197776,
           -0.14756752732225356,
           -0.15904136091487175,
           -0.16865061331126227,
           -0.1760159755489718,
           -0.18078273088932142,
           -0.1826358700412797,
           -0.18131560690315682,
           -0.17663261032673944,
           -0.16848219583369567,
           -0.15685668268767797,
           -0.14185512230149663,
           -0.12368964794720452,
           -0.10268778525178764,
           -0.07929019757294747,
           -0.054043516875550875,
           -0.027588123185645037,
           -0.0006409754282528475,
           0.026026147564044762,
           0.05161237775613617,
           0.07531659368730659,
           0.09636827159298987,
           0.11405907878471819
          ],
          [
           0.11526115097856117,
           0.09738828403656238,
           0.0759235678781371,
           0.05161237775613617,
           0.025275083284098894,
           -0.0022274559793407315,
           -0.03002807965783915,
           -0.0572857273340844,
           -0.08321475815193494,
           -0.10711012813756442,
           -0.1283676319466868,
           -0.1464987033293174,
           -0.16113955966514656,
           -0.17205475511311313,
           -0.17913546063850083,
           -0.18239300622958532,
           -0.18194839266053625,
           -0.17801860199902664,
           -0.17090060569317098,
           -0.1609539875623888,
           -0.14858307017251748,
           -0.13421936300715656,
           -0.11830504740258321,
           -0.10127808535368477,
           -0.08355939645450051,
           -0.06554239869174844,
           -0.04758506314163741,
           -0.030004497243790427,
           -0.013073952151520388,
           0.0029779491154211806,
           0.017966041941118966,
           0.031745840459068614,
           0.044209509361482956,
           0.05528095770522729,
           0.0649104168254659,
           0.07306884206017318,
           0.07974244535617742,
           0.08492762656935865,
           0.08862652853638416,
           0.09084339726921295,
           0.09158188560927924,
           0.09084339726921295,
           0.08862652853638416,
           0.08492762656935865,
           0.07974244535617742,
           0.07306884206017318,
           0.0649104168254659,
           0.05528095770522729,
           0.044209509361482956,
           0.031745840459068614,
           0.017966041941118966,
           0.0029779491154211806,
           -0.013073952151520388,
           -0.030004497243790427,
           -0.04758506314163741,
           -0.06554239869174844,
           -0.08355939645450051,
           -0.10127808535368477,
           -0.11830504740258321,
           -0.13421936300715656,
           -0.14858307017251748,
           -0.1609539875623888,
           -0.17090060569317098,
           -0.17801860199902664,
           -0.18194839266053625,
           -0.18239300622958532,
           -0.17913546063850083,
           -0.17205475511311313,
           -0.16113955966514656,
           -0.1464987033293174,
           -0.1283676319466868,
           -0.10711012813756442,
           -0.08321475815193494,
           -0.0572857273340844,
           -0.03002807965783915,
           -0.0022274559793407315,
           0.025275083284098894,
           0.05161237775613617,
           0.0759235678781371,
           0.09738828403656238
          ],
          [
           0.0993958462307399,
           0.07773008237271903,
           0.05298490441364873,
           0.026026147564044762,
           -0.0022274559793407315,
           -0.030841885736018544,
           -0.05890402451081101,
           -0.08555491563889543,
           -0.11001880232017779,
           -0.1316269478872783,
           -0.14983554931501694,
           -0.1642373823959323,
           -0.17456713788189782,
           -0.1807007071005138,
           -0.18264893898060253,
           -0.18054660691367944,
           -0.17463748569481502,
           -0.16525654180237792,
           -0.1528102839666787,
           -0.1377563081818195,
           -0.12058300781296416,
           -0.10179031338845618,
           -0.08187218787401292,
           -0.061301442485772274,
           -0.040517266401149735,
           -0.019915691575644292,
           0.0001569493213448689,
           0.019407660252202565,
           0.03759772656874239,
           0.054541276561040686,
           0.07010183827093616,
           0.08418731130237875,
           0.09674378883254962,
           0.10774865812501504,
           0.11720338291232232,
           0.12512633286074154,
           0.13154597877649798,
           0.13649472168344115,
           0.14000357308347133,
           0.14209785531573388,
           0.14279404657238684,
           0.14209785531573388,
           0.14000357308347133,
           0.13649472168344115,
           0.13154597877649798,
           0.12512633286074154,
           0.11720338291232232,
           0.10774865812501504,
           0.09674378883254962,
           0.08418731130237875,
           0.07010183827093616,
           0.054541276561040686,
           0.03759772656874239,
           0.019407660252202565,
           0.0001569493213448689,
           -0.019915691575644292,
           -0.040517266401149735,
           -0.061301442485772274,
           -0.08187218787401292,
           -0.10179031338845618,
           -0.12058300781296416,
           -0.1377563081818195,
           -0.1528102839666787,
           -0.16525654180237792,
           -0.17463748569481502,
           -0.18054660691367944,
           -0.18264893898060253,
           -0.1807007071005138,
           -0.17456713788189782,
           -0.1642373823959323,
           -0.14983554931501694,
           -0.1316269478872783,
           -0.11001880232017779,
           -0.08555491563889543,
           -0.05890402451081101,
           -0.030841885736018544,
           -0.0022274559793407315,
           0.026026147564044762,
           0.05298490441364873,
           0.07773008237271903
          ],
          [
           0.08069235790121831,
           0.05570574218106777,
           0.028270310898122826,
           -0.0006409754282528475,
           -0.03002807965783915,
           -0.05890402451081101,
           -0.08633239590937543,
           -0.1114606806231028,
           -0.13354819579908725,
           -0.15198770280837584,
           -0.16632015713858264,
           -0.17624240938958516,
           -0.18160802037610754,
           -0.18242166855756492,
           -0.1788278960809016,
           -0.17109514979541934,
           -0.15959621882048483,
           -0.14478624788034108,
           -0.1271795169340972,
           -0.10732612754693129,
           -0.0857896329957062,
           -0.0631265026963309,
           -0.039868134180728126,
           -0.016505930263581485,
           0.0065202421682302655,
           0.02883009042098063,
           0.05010748884225075,
           0.07010183827093616,
           0.08862652853638416,
           0.10555493165712146,
           0.12081441070397907,
           0.13437885433763305,
           0.14626024334832619,
           0.15649972810645998,
           0.16515865057394133,
           0.17230988766358785,
           0.17802983029511174,
           0.18239124981424537,
           0.18545724476618586,
           0.18727640924644018,
           0.18787932061729182,
           0.18727640924644018,
           0.18545724476618586,
           0.18239124981424537,
           0.17802983029511174,
           0.17230988766358785,
           0.16515865057394133,
           0.15649972810645998,
           0.14626024334832619,
           0.13437885433763305,
           0.12081441070397907,
           0.10555493165712146,
           0.08862652853638416,
           0.07010183827093616,
           0.05010748884225075,
           0.02883009042098063,
           0.0065202421682302655,
           -0.016505930263581485,
           -0.039868134180728126,
           -0.0631265026963309,
           -0.0857896329957062,
           -0.10732612754693129,
           -0.1271795169340972,
           -0.14478624788034108,
           -0.15959621882048483,
           -0.17109514979541934,
           -0.1788278960809016,
           -0.18242166855756492,
           -0.18160802037610754,
           -0.17624240938958516,
           -0.16632015713858264,
           -0.15198770280837584,
           -0.13354819579908725,
           -0.1114606806231028,
           -0.08633239590937543,
           -0.05890402451081101,
           -0.03002807965783915,
           -0.0006409754282528475,
           0.028270310898122826,
           0.05570574218106777
          ],
          [
           0.059725017515438364,
           0.03197958453286062,
           0.0025207381574719806,
           -0.027588123185645037,
           -0.0572857273340844,
           -0.08555491563889543,
           -0.1114606806231028,
           -0.13418273806183595,
           -0.15304146672549196,
           -0.16751643729146143,
           -0.17725715646546372,
           -0.18208605074549258,
           -0.18199408570471504,
           -0.17712974307464055,
           -0.16778234479339135,
           -0.1543609103022869,
           -0.13736985507049018,
           -0.11738288358628372,
           -0.0950164022704569,
           -0.07090368426500879,
           -0.045670869380806056,
           -0.019915691575644292,
           0.0058103924762656495,
           0.031016232090896562,
           0.05528095770522729,
           0.07825990831739421,
           0.09968670899986165,
           0.11937185506223688,
           0.13719827990417027,
           0.15311446345017118,
           0.16712567793535366,
           0.1792839709402817,
           0.18967745729212915,
           0.19841943861188654,
           0.20563779959612533,
           0.21146505144444128,
           0.21602931256266372,
           0.21944644111666822,
           0.22181346801290225,
           0.2232034254780841,
           0.22366162672468853,
           0.2232034254780841,
           0.22181346801290225,
           0.21944644111666822,
           0.21602931256266372,
           0.21146505144444128,
           0.20563779959612533,
           0.19841943861188654,
           0.18967745729212915,
           0.1792839709402817,
           0.16712567793535366,
           0.15311446345017118,
           0.13719827990417027,
           0.11937185506223688,
           0.09968670899986165,
           0.07825990831739421,
           0.05528095770522729,
           0.031016232090896562,
           0.0058103924762656495,
           -0.019915691575644292,
           -0.045670869380806056,
           -0.07090368426500879,
           -0.0950164022704569,
           -0.11738288358628372,
           -0.13736985507049018,
           -0.1543609103022869,
           -0.16778234479339135,
           -0.17712974307464055,
           -0.18199408570471504,
           -0.18208605074549258,
           -0.17725715646546372,
           -0.16751643729146143,
           -0.15304146672549196,
           -0.13418273806183595,
           -0.1114606806231028,
           -0.08555491563889543,
           -0.0572857273340844,
           -0.027588123185645037,
           0.0025207381574719806,
           0.03197958453286062
          ],
          [
           0.037104384846577534,
           0.007233082355737275,
           -0.023527608249201665,
           -0.054043516875550875,
           -0.08321475815193494,
           -0.11001880232017779,
           -0.13354819579908725,
           -0.15304146672549196,
           -0.167906160972842,
           -0.17773339606034183,
           -0.18230376872794093,
           -0.18158488243001691,
           -0.17572115154133375,
           -0.16501687105976595,
           -0.1499137997580331,
           -0.13096468174943518,
           -0.10880422217787396,
           -0.08411903827788304,
           -0.05761803324395176,
           -0.030004497243790427,
           -0.001951040868825416,
           0.025921773001301992,
           0.05306249567952219,
           0.07900122348247962,
           0.10335731863015635,
           0.1258425822940911,
           0.14626024334832619,
           0.16450028494360933,
           0.18053174205108255,
           0.1943926655354523,
           0.2061784643801796,
           0.21602931256266372,
           0.22411724822563847,
           0.23063350923189954,
           0.23577655069724138,
           0.23974108638511749,
           0.242708395806646,
           0.24483804991090946,
           0.24626113579560338,
           0.24707500803079696,
           0.24733956165584545,
           0.24707500803079696,
           0.24626113579560338,
           0.24483804991090946,
           0.242708395806646,
           0.23974108638511749,
           0.23577655069724138,
           0.23063350923189954,
           0.22411724822563847,
           0.21602931256266372,
           0.2061784643801796,
           0.1943926655354523,
           0.18053174205108255,
           0.16450028494360933,
           0.14626024334832619,
           0.1258425822940911,
           0.10335731863015635,
           0.07900122348247962,
           0.05306249567952219,
           0.025921773001301992,
           -0.001951040868825416,
           -0.030004497243790427,
           -0.05761803324395176,
           -0.08411903827788304,
           -0.10880422217787396,
           -0.13096468174943518,
           -0.1499137997580331,
           -0.16501687105976595,
           -0.17572115154133375,
           -0.18158488243001691,
           -0.18230376872794093,
           -0.17773339606034183,
           -0.167906160972842,
           -0.15304146672549196,
           -0.13354819579908725,
           -0.11001880232017779,
           -0.08321475815193494,
           -0.054043516875550875,
           -0.023527608249201665,
           0.007233082355737275
          ],
          [
           0.013454008098850966,
           -0.017859822184363938,
           -0.04916880920228074,
           -0.07929019757294747,
           -0.10711012813756442,
           -0.1316269478872783,
           -0.15198770280837584,
           -0.16751643729146143,
           -0.17773339606034183,
           -0.18236471957976835,
           -0.18134271385500067,
           -0.1747972342928682,
           -0.16303912773542587,
           -0.14653700801271363,
           -0.1258888846262905,
           -0.10179031338845618,
           -0.0750007897964791,
           -0.046310064114579955,
           -0.016505930263581485,
           0.013655158230898757,
           0.043473546354522816,
           0.07232710218505171,
           0.09968670899986165,
           0.12512633286074154,
           0.14832776112580212,
           0.16908036038891633,
           0.18727640924644018,
           0.20290271423033404,
           0.21602931256266372,
           0.22679610352037188,
           0.23539823538075702,
           0.2420710146043941,
           0.24707500803079696,
           0.2506818889186662,
           0.2531614457800734,
           0.25477004091850136,
           0.2557406839380664,
           0.2562747828163765,
           0.25653555744366946,
           0.2566430509401283,
           0.2566706526738519,
           0.2566430509401283,
           0.25653555744366946,
           0.2562747828163765,
           0.2557406839380664,
           0.25477004091850136,
           0.2531614457800734,
           0.2506818889186662,
           0.24707500803079696,
           0.2420710146043941,
           0.23539823538075702,
           0.22679610352037188,
           0.21602931256266372,
           0.20290271423033404,
           0.18727640924644018,
           0.16908036038891633,
           0.14832776112580212,
           0.12512633286074154,
           0.09968670899986165,
           0.07232710218505171,
           0.043473546354522816,
           0.013655158230898757,
           -0.016505930263581485,
           -0.046310064114579955,
           -0.0750007897964791,
           -0.10179031338845618,
           -0.1258888846262905,
           -0.14653700801271363,
           -0.16303912773542587,
           -0.1747972342928682,
           -0.18134271385500067,
           -0.18236471957976835,
           -0.17773339606034183,
           -0.16751643729146143,
           -0.15198770280837584,
           -0.1316269478872783,
           -0.10711012813756442,
           -0.07929019757294747,
           -0.04916880920228074,
           -0.017859822184363938
          ],
          [
           -0.01061150357619211,
           -0.042655257000177006,
           -0.07374973820785838,
           -0.10268778525178764,
           -0.1283676319466868,
           -0.14983554931501694,
           -0.16632015713858264,
           -0.17725715646546372,
           -0.18230376872794093,
           -0.18134271385500067,
           -0.17447608825271163,
           -0.16200998595397612,
           -0.14443111863131364,
           -0.12237701362727325,
           -0.09660159075517502,
           -0.06793803188546253,
           -0.03726086233570953,
           -0.005449066140771361,
           0.026648129724923395,
           0.058241427706856384,
           0.08862652853638416,
           0.11720338291232232,
           0.14348926836260514,
           0.16712567793535366,
           0.18787932061729182,
           0.20563779959612533,
           0.22040074178662336,
           0.23226729318028777,
           0.24142096714711753,
           0.24811283911536614,
           0.25264402764959015,
           0.255348298963932,
           0.256575492104657,
           0.2566762997375786,
           0.2559887694405144,
           0.2548267267047997,
           0.25347017586536014,
           0.252157618714697,
           0.25108014921898075,
           0.25037713957121355,
           0.25013332713993036,
           0.25037713957121355,
           0.25108014921898075,
           0.252157618714697,
           0.25347017586536014,
           0.2548267267047997,
           0.2559887694405144,
           0.2566762997375786,
           0.256575492104657,
           0.255348298963932,
           0.25264402764959015,
           0.24811283911536614,
           0.24142096714711753,
           0.23226729318028777,
           0.22040074178662336,
           0.20563779959612533,
           0.18787932061729182,
           0.16712567793535366,
           0.14348926836260514,
           0.11720338291232232,
           0.08862652853638416,
           0.058241427706856384,
           0.026648129724923395,
           -0.005449066140771361,
           -0.03726086233570953,
           -0.06793803188546253,
           -0.09660159075517502,
           -0.12237701362727325,
           -0.14443111863131364,
           -0.16200998595397612,
           -0.17447608825271163,
           -0.18134271385500067,
           -0.18230376872794093,
           -0.17725715646546372,
           -0.16632015713858264,
           -0.14983554931501694,
           -0.1283676319466868,
           -0.10268778525178764,
           -0.07374973820785838,
           -0.042655257000177006
          ],
          [
           -0.0345063152690242,
           -0.06655906279410359,
           -0.09668883252747353,
           -0.12368964794720452,
           -0.1464987033293174,
           -0.1642373823959323,
           -0.17624240938958516,
           -0.18208605074549258,
           -0.18158488243001691,
           -0.1747972342928682,
           -0.16200998595397612,
           -0.1437158894806465,
           -0.12058300781296416,
           -0.09341816596346665,
           -0.0631265026963309,
           -0.03066927919323432,
           0.0029779491154211806,
           0.03686485131708162,
           0.07010183827093616,
           0.1018902143955224,
           0.13154597877649798,
           0.15851669454452746,
           0.18239124981424537,
           0.20290271423033404,
           0.21992483146863692,
           0.23346296309158113,
           0.24364050109720906,
           0.2506818889186662,
           0.254893432701845,
           0.2566430509401283,
           0.2563400102730029,
           0.25441554164532254,
           0.25130504004127213,
           0.24743234013685533,
           0.2431963471432226,
           0.23896010343988033,
           0.23504220166614895,
           0.2317103248693539,
           0.22917661128094333,
           0.22759450814784551,
           0.2270567942100705,
           0.22759450814784551,
           0.22917661128094333,
           0.2317103248693539,
           0.23504220166614895,
           0.23896010343988033,
           0.2431963471432226,
           0.24743234013685533,
           0.25130504004127213,
           0.25441554164532254,
           0.2563400102730029,
           0.2566430509401283,
           0.254893432701845,
           0.2506818889186662,
           0.24364050109720906,
           0.23346296309158113,
           0.21992483146863692,
           0.20290271423033404,
           0.18239124981424537,
           0.15851669454452746,
           0.13154597877649798,
           0.1018902143955224,
           0.07010183827093616,
           0.03686485131708162,
           0.0029779491154211806,
           -0.03066927919323432,
           -0.0631265026963309,
           -0.09341816596346665,
           -0.12058300781296416,
           -0.1437158894806465,
           -0.16200998595397612,
           -0.1747972342928682,
           -0.18158488243001691,
           -0.18208605074549258,
           -0.17624240938958516,
           -0.1642373823959323,
           -0.1464987033293174,
           -0.12368964794720452,
           -0.09668883252747353,
           -0.06655906279410359
          ],
          [
           -0.05769048962428924,
           -0.08904297911487404,
           -0.11749065565570795,
           -0.14185512230149663,
           -0.16113955966514656,
           -0.17456713788189782,
           -0.18160802037610754,
           -0.18199408570471504,
           -0.17572115154133375,
           -0.16303912773542587,
           -0.14443111863131364,
           -0.12058300781296416,
           -0.09234546620178369,
           -0.060690608986011814,
           -0.026665677985416577,
           0.008653858363151095,
           0.044209509361482956,
           0.07900122348247962,
           0.11212338767979044,
           0.14279404657238684,
           0.17037647050011584,
           0.1943926655354523,
           0.2145288714461612,
           0.23063350923189954,
           0.242708395806646,
           0.2508943222213973,
           0.2554522819126627,
           0.2567417315441088,
           0.25519727019112654,
           0.25130504004127213,
           0.2455799958764798,
           0.23854497801642713,
           0.23071227369415245,
           0.2225680860000738,
           0.21456006847846779,
           0.2070878465419809,
           0.20049625055173417,
           0.19507084218595108,
           0.19103523332295086,
           0.18854967763954522,
           0.18771045677679687,
           0.18854967763954522,
           0.19103523332295086,
           0.19507084218595108,
           0.20049625055173417,
           0.2070878465419809,
           0.21456006847846779,
           0.2225680860000738,
           0.23071227369415245,
           0.23854497801642713,
           0.2455799958764798,
           0.25130504004127213,
           0.25519727019112654,
           0.2567417315441088,
           0.2554522819126627,
           0.2508943222213973,
           0.242708395806646,
           0.23063350923189954,
           0.2145288714461612,
           0.1943926655354523,
           0.17037647050011584,
           0.14279404657238684,
           0.11212338767979044,
           0.07900122348247962,
           0.044209509361482956,
           0.008653858363151095,
           -0.026665677985416577,
           -0.060690608986011814,
           -0.09234546620178369,
           -0.12058300781296416,
           -0.14443111863131364,
           -0.16303912773542587,
           -0.17572115154133375,
           -0.18199408570471504,
           -0.18160802037610754,
           -0.17456713788189782,
           -0.16113955966514656,
           -0.14185512230149663,
           -0.11749065565570795,
           -0.08904297911487404
          ],
          [
           -0.07968395387291566,
           -0.10965701691843574,
           -0.13575600794040762,
           -0.15685668268767797,
           -0.17205475511311313,
           -0.1807007071005138,
           -0.18242166855756492,
           -0.17712974307464055,
           -0.16501687105976595,
           -0.14653700801271363,
           -0.12237701362727325,
           -0.09341816596346665,
           -0.060690608986011814,
           -0.02532329427921568,
           0.011507919583092052,
           0.04863139306208121,
           0.08492762656935865,
           0.11937185506223688,
           0.15106960365711752,
           0.1792839709402817,
           0.20345392533496165,
           0.2232034254780841,
           0.2383416766936446,
           0.24885528388828942,
           0.254893432701845,
           0.25674750760048576,
           0.2548267267047997,
           0.24963143467045815,
           0.24172565029557566,
           0.2317103248693539,
           0.22019854657881394,
           0.20779364608280457,
           0.19507084218595108,
           0.18256273925541686,
           0.17074867404778504,
           0.16004763127913005,
           0.15081422331281308,
           0.1433370736825879,
           0.13783886506830845,
           0.134477311926808,
           0.1333463922312941,
           0.134477311926808,
           0.13783886506830845,
           0.1433370736825879,
           0.15081422331281308,
           0.16004763127913005,
           0.17074867404778504,
           0.18256273925541686,
           0.19507084218595108,
           0.20779364608280457,
           0.22019854657881394,
           0.2317103248693539,
           0.24172565029557566,
           0.24963143467045815,
           0.2548267267047997,
           0.25674750760048576,
           0.254893432701845,
           0.24885528388828942,
           0.2383416766936446,
           0.2232034254780841,
           0.20345392533496165,
           0.1792839709402817,
           0.15106960365711752,
           0.11937185506223688,
           0.08492762656935865,
           0.04863139306208121,
           0.011507919583092052,
           -0.02532329427921568,
           -0.060690608986011814,
           -0.09341816596346665,
           -0.12237701362727325,
           -0.14653700801271363,
           -0.16501687105976595,
           -0.17712974307464055,
           -0.18242166855756492,
           -0.1807007071005138,
           -0.17205475511311313,
           -0.15685668268767797,
           -0.13575600794040762,
           -0.10965701691843574
          ],
          [
           -0.10007704610444179,
           -0.12803786284735597,
           -0.1511875643863488,
           -0.16848219583369567,
           -0.17913546063850083,
           -0.18264893898060253,
           -0.1788278960809016,
           -0.16778234479339135,
           -0.1499137997580331,
           -0.1258888846262905,
           -0.09660159075517502,
           -0.0631265026963309,
           -0.026665677985416577,
           0.011507919583092052,
           0.05010748884225075,
           0.0878871354792479,
           0.12369173187889267,
           0.15649972810645998,
           0.18545724476618586,
           0.20990234059772522,
           0.22937894091767205,
           0.24364050109720906,
           0.25264402764959015,
           0.25653555744366946,
           0.25562857790064414,
           0.25037713957121355,
           0.2413455569066888,
           0.22917661128094333,
           0.21456006847846779,
           0.1982031145119569,
           0.18080401871815463,
           0.1630299764243758,
           0.14549969299473817,
           0.12877087581897034,
           0.11333242903336226,
           0.09960082298540655,
           0.08791985781076668,
           0.07856287339249271,
           0.07173638515428266,
           0.06758414818694233,
           0.0661907655654817,
           0.06758414818694233,
           0.07173638515428266,
           0.07856287339249271,
           0.08791985781076668,
           0.09960082298540655,
           0.11333242903336226,
           0.12877087581897034,
           0.14549969299473817,
           0.1630299764243758,
           0.18080401871815463,
           0.1982031145119569,
           0.21456006847846779,
           0.22917661128094333,
           0.2413455569066888,
           0.25037713957121355,
           0.25562857790064414,
           0.25653555744366946,
           0.25264402764959015,
           0.24364050109720906,
           0.22937894091767205,
           0.20990234059772522,
           0.18545724476618586,
           0.15649972810645998,
           0.12369173187889267,
           0.0878871354792479,
           0.05010748884225075,
           0.011507919583092052,
           -0.026665677985416577,
           -0.0631265026963309,
           -0.09660159075517502,
           -0.1258888846262905,
           -0.1499137997580331,
           -0.16778234479339135,
           -0.1788278960809016,
           -0.18264893898060253,
           -0.17913546063850083,
           -0.16848219583369567,
           -0.1511875643863488,
           -0.12803786284735597
          ],
          [
           -0.11853755153953284,
           -0.14391335124448024,
           -0.163591222139663,
           -0.17663261032673944,
           -0.18239300622958532,
           -0.18054660691367944,
           -0.17109514979541934,
           -0.1543609103022869,
           -0.13096468174943518,
           -0.10179031338845618,
           -0.06793803188546253,
           -0.03066927919323432,
           0.008653858363151095,
           0.04863139306208121,
           0.0878871354792479,
           0.12512633286074154,
           0.15918658398472915,
           0.1890798565922851,
           0.21402402107025095,
           0.23346296309158113,
           0.24707500803079696,
           0.25477004091850136,
           0.2566762997375786,
           0.25311832399967577,
           0.24458792842044305,
           0.2317103248693539,
           0.2152076253393881,
           0.19586192453391038,
           0.17447999195279823,
           0.15186131748507978,
           0.12877087581897034,
           0.10591753298818528,
           0.08393854575868848,
           0.06339013493636744,
           0.044743679368913644,
           0.02838670735216783,
           0.014627580006334946,
           0.0037025838949493145,
           -0.004215913110515241,
           -0.009011537058698997,
           -0.010617349295218181,
           -0.009011537058698997,
           -0.004215913110515241,
           0.0037025838949493145,
           0.014627580006334946,
           0.02838670735216783,
           0.044743679368913644,
           0.06339013493636744,
           0.08393854575868848,
           0.10591753298818528,
           0.12877087581897034,
           0.15186131748507978,
           0.17447999195279823,
           0.19586192453391038,
           0.2152076253393881,
           0.2317103248693539,
           0.24458792842044305,
           0.25311832399967577,
           0.2566762997375786,
           0.25477004091850136,
           0.24707500803079696,
           0.23346296309158113,
           0.21402402107025095,
           0.1890798565922851,
           0.15918658398472915,
           0.12512633286074154,
           0.0878871354792479,
           0.04863139306208121,
           0.008653858363151095,
           -0.03066927919323432,
           -0.06793803188546253,
           -0.10179031338845618,
           -0.13096468174943518,
           -0.1543609103022869,
           -0.17109514979541934,
           -0.18054660691367944,
           -0.18239300622958532,
           -0.17663261032673944,
           -0.163591222139663,
           -0.14391335124448024
          ],
          [
           -0.13481430178982187,
           -0.15710321083861073,
           -0.17287351607260817,
           -0.18131560690315682,
           -0.18194839266053625,
           -0.17463748569481502,
           -0.15959621882048483,
           -0.13736985507049018,
           -0.10880422217787396,
           -0.0750007897964791,
           -0.03726086233570953,
           0.0029779491154211806,
           0.044209509361482956,
           0.08492762656935865,
           0.12369173187889267,
           0.15918658398472915,
           0.1902732638436695,
           0.21602931256266372,
           0.23577655069724138,
           0.24909585663212155,
           0.25582893038458626,
           0.2560677827399544,
           0.25013332713993036,
           0.23854497801642713,
           0.22198354690007724,
           0.20124995852555586,
           0.17722237538812438,
           0.15081422331281308,
           0.12293536517635703,
           0.09445829662141196,
           0.0661907655654817,
           0.03885568116655977,
           0.013078615468659323,
           -0.010617349295218181,
           -0.03181017613329085,
           -0.050171999808914604,
           -0.06545830501430487,
           -0.07749482277960204,
           -0.08616386191642225,
           -0.09139170665445415,
           -0.09313849939964196,
           -0.09139170665445415,
           -0.08616386191642225,
           -0.07749482277960204,
           -0.06545830501430487,
           -0.050171999808914604,
           -0.03181017613329085,
           -0.010617349295218181,
           0.013078615468659323,
           0.03885568116655977,
           0.0661907655654817,
           0.09445829662141196,
           0.12293536517635703,
           0.15081422331281308,
           0.17722237538812438,
           0.20124995852555586,
           0.22198354690007724,
           0.23854497801642713,
           0.25013332713993036,
           0.2560677827399544,
           0.25582893038458626,
           0.24909585663212155,
           0.23577655069724138,
           0.21602931256266372,
           0.1902732638436695,
           0.15918658398472915,
           0.12369173187889267,
           0.08492762656935865,
           0.044209509361482956,
           0.0029779491154211806,
           -0.03726086233570953,
           -0.0750007897964791,
           -0.10880422217787396,
           -0.13736985507049018,
           -0.15959621882048483,
           -0.17463748569481502,
           -0.18194839266053625,
           -0.18131560690315682,
           -0.17287351607260817,
           -0.15710321083861073
          ],
          [
           -0.1487375524385824,
           -0.16751643729146143,
           -0.17903560277058095,
           -0.1826358700412797,
           -0.17801860199902664,
           -0.16525654180237792,
           -0.14478624788034108,
           -0.11738288358628372,
           -0.08411903827788304,
           -0.046310064114579955,
           -0.005449066140771361,
           0.03686485131708162,
           0.07900122348247962,
           0.11937185506223688,
           0.15649972810645998,
           0.1890798565922851,
           0.21602931256266372,
           0.2365243422174828,
           0.25002327766855664,
           0.2562747828163765,
           0.2553118000893658,
           0.24743234013685533,
           0.23316893482082693,
           0.21324911772700825,
           0.18854967763954522,
           0.16004763127913005,
           0.12877087581897034,
           0.0957513146109,
           0.06198291759831892,
           0.02838670735216783,
           -0.004215913110515241,
           -0.03512071345143313,
           -0.06374895250625122,
           -0.08964697741323371,
           -0.11247819731414006,
           -0.132008995765264,
           -0.14809048863531396,
           -0.16063822727306362,
           -0.1696119802323752,
           -0.17499760171649797,
           -0.17679272260843765,
           -0.17499760171649797,
           -0.1696119802323752,
           -0.16063822727306362,
           -0.14809048863531396,
           -0.132008995765264,
           -0.11247819731414006,
           -0.08964697741323371,
           -0.06374895250625122,
           -0.03512071345143313,
           -0.004215913110515241,
           0.02838670735216783,
           0.06198291759831892,
           0.0957513146109,
           0.12877087581897034,
           0.16004763127913005,
           0.18854967763954522,
           0.21324911772700825,
           0.23316893482082693,
           0.24743234013685533,
           0.2553118000893658,
           0.2562747828163765,
           0.25002327766855664,
           0.2365243422174828,
           0.21602931256266372,
           0.1890798565922851,
           0.15649972810645998,
           0.11937185506223688,
           0.07900122348247962,
           0.03686485131708162,
           -0.005449066140771361,
           -0.046310064114579955,
           -0.08411903827788304,
           -0.11738288358628372,
           -0.14478624788034108,
           -0.16525654180237792,
           -0.17801860199902664,
           -0.1826358700412797,
           -0.17903560277058095,
           -0.16751643729146143
          ],
          [
           -0.16021647158282734,
           -0.1751457556394694,
           -0.1821644169794075,
           -0.18078273088932142,
           -0.17090060569317098,
           -0.1528102839666787,
           -0.1271795169340972,
           -0.0950164022704569,
           -0.05761803324395176,
           -0.016505930263581485,
           0.026648129724923395,
           0.07010183827093616,
           0.11212338767979044,
           0.15106960365711752,
           0.18545724476618586,
           0.21402402107025095,
           0.23577655069724138,
           0.25002327766855664,
           0.25639126767027576,
           0.2548267267047997,
           0.2455799958764798,
           0.22917661128094333,
           0.2063767337439853,
           0.17812580971586786,
           0.14549969299473817,
           0.1096476200446325,
           0.07173638515428266,
           0.032898814044057145,
           -0.005810793613848673,
           -0.043452159632214875,
           -0.0792240541655952,
           -0.11247819731414006,
           -0.1427221428215067,
           -0.1696119802323752,
           -0.1929363397545002,
           -0.2125937105436689,
           -0.22856545626592412,
           -0.24088710992360066,
           -0.24962054293732017,
           -0.254829433326894,
           -0.2565601183892334,
           -0.254829433326894,
           -0.24962054293732017,
           -0.24088710992360066,
           -0.22856545626592412,
           -0.2125937105436689,
           -0.1929363397545002,
           -0.1696119802323752,
           -0.1427221428215067,
           -0.11247819731414006,
           -0.0792240541655952,
           -0.043452159632214875,
           -0.005810793613848673,
           0.032898814044057145,
           0.07173638515428266,
           0.1096476200446325,
           0.14549969299473817,
           0.17812580971586786,
           0.2063767337439853,
           0.22917661128094333,
           0.2455799958764798,
           0.2548267267047997,
           0.25639126767027576,
           0.25002327766855664,
           0.23577655069724138,
           0.21402402107025095,
           0.18545724476618586,
           0.15106960365711752,
           0.11212338767979044,
           0.07010183827093616,
           0.026648129724923395,
           -0.016505930263581485,
           -0.05761803324395176,
           -0.0950164022704569,
           -0.1271795169340972,
           -0.1528102839666787,
           -0.17090060569317098,
           -0.18078273088932142,
           -0.1821644169794075,
           -0.1751457556394694
          ],
          [
           -0.16923416092386775,
           -0.1800597155006458,
           -0.18242166855756492,
           -0.1760159755489718,
           -0.1609539875623888,
           -0.1377563081818195,
           -0.10732612754693129,
           -0.07090368426500879,
           -0.030004497243790427,
           0.013655158230898757,
           0.058241427706856384,
           0.1018902143955224,
           0.14279404657238684,
           0.1792839709402817,
           0.20990234059772522,
           0.23346296309158113,
           0.24909585663212155,
           0.2562747828163765,
           0.2548267267047997,
           0.24492352037505036,
           0.2270567942100705,
           0.20199833430642128,
           0.17074867404778504,
           0.134477311926808,
           0.09445829662141196,
           0.05200503792795912,
           0.00840808631479302,
           -0.03512071345143313,
           -0.07749482277960204,
           -0.1177881852505473,
           -0.15525760655490364,
           -0.18935183535374994,
           -0.21970771693043264,
           -0.24613461781837798,
           -0.268589046149572,
           -0.28714197491104243,
           -0.30194177876754097,
           -0.31317589634427284,
           -0.3210343185560354,
           -0.32567778292945404,
           -0.32721314035298743,
           -0.32567778292945404,
           -0.3210343185560354,
           -0.31317589634427284,
           -0.30194177876754097,
           -0.28714197491104243,
           -0.268589046149572,
           -0.24613461781837798,
           -0.21970771693043264,
           -0.18935183535374994,
           -0.15525760655490364,
           -0.1177881852505473,
           -0.07749482277960204,
           -0.03512071345143313,
           0.00840808631479302,
           0.05200503792795912,
           0.09445829662141196,
           0.134477311926808,
           0.17074867404778504,
           0.20199833430642128,
           0.2270567942100705,
           0.24492352037505036,
           0.2548267267047997,
           0.2562747828163765,
           0.24909585663212155,
           0.23346296309158113,
           0.20990234059772522,
           0.1792839709402817,
           0.14279404657238684,
           0.1018902143955224,
           0.058241427706856384,
           0.013655158230898757,
           -0.030004497243790427,
           -0.07090368426500879,
           -0.10732612754693129,
           -0.1377563081818195,
           -0.1609539875623888,
           -0.1760159755489718,
           -0.18242166855756492,
           -0.1800597155006458
          ],
          [
           -0.17584069010379264,
           -0.18239300622958532,
           -0.1800313728705813,
           -0.16865061331126227,
           -0.14858307017251748,
           -0.12058300781296416,
           -0.0857896329957062,
           -0.045670869380806056,
           -0.001951040868825416,
           0.043473546354522816,
           0.08862652853638416,
           0.13154597877649798,
           0.17037647050011584,
           0.20345392533496165,
           0.22937894091767205,
           0.24707500803079696,
           0.25582893038458626,
           0.2553118000893658,
           0.2455799958764798,
           0.2270567942100705,
           0.20049625055173417,
           0.16693195814109418,
           0.12761407121954643,
           0.08393854575868848,
           0.037372873633869375,
           -0.010617349295218181,
           -0.05863687417657578,
           -0.10542055787501849,
           -0.14988136590815446,
           -0.19114437378651342,
           -0.22856545626592412,
           -0.2617343483375656,
           -0.29046275344788247,
           -0.31475910259630246,
           -0.33479237619194996,
           -0.35084804028714445,
           -0.3632795822101567,
           -0.37245933283868765,
           -0.3787322233669178,
           -0.382375848005458,
           -0.3835697098652554,
           -0.382375848005458,
           -0.3787322233669178,
           -0.37245933283868765,
           -0.3632795822101567,
           -0.35084804028714445,
           -0.33479237619194996,
           -0.31475910259630246,
           -0.29046275344788247,
           -0.2617343483375656,
           -0.22856545626592412,
           -0.19114437378651342,
           -0.14988136590815446,
           -0.10542055787501849,
           -0.05863687417657578,
           -0.010617349295218181,
           0.037372873633869375,
           0.08393854575868848,
           0.12761407121954643,
           0.16693195814109418,
           0.20049625055173417,
           0.2270567942100705,
           0.2455799958764798,
           0.2553118000893658,
           0.25582893038458626,
           0.24707500803079696,
           0.22937894091767205,
           0.20345392533496165,
           0.17037647050011584,
           0.13154597877649798,
           0.08862652853638416,
           0.043473546354522816,
           -0.001951040868825416,
           -0.045670869380806056,
           -0.0857896329957062,
           -0.12058300781296416,
           -0.14858307017251748,
           -0.16865061331126227,
           -0.1800313728705813,
           -0.18239300622958532
          ],
          [
           -0.1801446545297837,
           -0.18233559039097344,
           -0.1752665961050691,
           -0.15904136091487175,
           -0.13421936300715656,
           -0.10179031338845618,
           -0.0631265026963309,
           -0.019915691575644292,
           0.025921773001301992,
           0.07232710218505171,
           0.11720338291232232,
           0.15851669454452746,
           0.1943926655354523,
           0.2232034254780841,
           0.24364050109720906,
           0.25477004091850136,
           0.2560677827399544,
           0.24743234013685533,
           0.22917661128094333,
           0.20199833430642128,
           0.16693195814109418,
           0.12528500092613942,
           0.07856287339249271,
           0.02838670735216783,
           -0.02359098016854476,
           -0.0757679524450742,
           -0.12666669235949252,
           -0.17499760171649797,
           -0.21970771693043264,
           -0.26001264723920775,
           -0.29541051237375787,
           -0.32567778292945404,
           -0.35084804028714445,
           -0.37117570680030565,
           -0.38708768931988075,
           -0.3991265770886398,
           -0.407889497747319,
           -0.41396693622794944,
           -0.417885750201407,
           -0.4200602785751461,
           -0.4207548585159486,
           -0.4200602785751461,
           -0.417885750201407,
           -0.41396693622794944,
           -0.407889497747319,
           -0.3991265770886398,
           -0.38708768931988075,
           -0.37117570680030565,
           -0.35084804028714445,
           -0.32567778292945404,
           -0.29541051237375787,
           -0.26001264723920775,
           -0.21970771693043264,
           -0.17499760171649797,
           -0.12666669235949252,
           -0.0757679524450742,
           -0.02359098016854476,
           0.02838670735216783,
           0.07856287339249271,
           0.12528500092613942,
           0.16693195814109418,
           0.20199833430642128,
           0.22917661128094333,
           0.24743234013685533,
           0.2560677827399544,
           0.25477004091850136,
           0.24364050109720906,
           0.2232034254780841,
           0.1943926655354523,
           0.15851669454452746,
           0.11720338291232232,
           0.07232710218505171,
           0.025921773001301992,
           -0.019915691575644292,
           -0.0631265026963309,
           -0.10179031338845618,
           -0.13421936300715656,
           -0.15904136091487175,
           -0.1752665961050691,
           -0.18233559039097344
          ],
          [
           -0.18230376872794093,
           -0.18012123502583363,
           -0.16843605361995675,
           -0.14756752732225356,
           -0.11830504740258321,
           -0.08187218787401292,
           -0.039868134180728126,
           0.0058103924762656495,
           0.05306249567952219,
           0.09968670899986165,
           0.14348926836260514,
           0.18239124981424537,
           0.2145288714461612,
           0.2383416766936446,
           0.25264402764959015,
           0.2566762997375786,
           0.25013332713993036,
           0.23316893482082693,
           0.2063767337439853,
           0.17074867404778504,
           0.12761407121954643,
           0.07856287339249271,
           0.02535776443828009,
           -0.030159748399708135,
           -0.08616386191642225,
           -0.1409342819269669,
           -0.1929363397545002,
           -0.24088710992360066,
           -0.2838041182964338,
           -0.3210343185560354,
           -0.35226222727992795,
           -0.37749737145928347,
           -0.3970424421347404,
           -0.41144469052055266,
           -0.42143408131469146,
           -0.42785247459104203,
           -0.43157859884674826,
           -0.4334537754581445,
           -0.434213248547002,
           -0.43442757176285574,
           -0.43445783007337646,
           -0.43442757176285574,
           -0.434213248547002,
           -0.4334537754581445,
           -0.43157859884674826,
           -0.42785247459104203,
           -0.42143408131469146,
           -0.41144469052055266,
           -0.3970424421347404,
           -0.37749737145928347,
           -0.35226222727992795,
           -0.3210343185560354,
           -0.2838041182964338,
           -0.24088710992360066,
           -0.1929363397545002,
           -0.1409342819269669,
           -0.08616386191642225,
           -0.030159748399708135,
           0.02535776443828009,
           0.07856287339249271,
           0.12761407121954643,
           0.17074867404778504,
           0.2063767337439853,
           0.23316893482082693,
           0.25013332713993036,
           0.2566762997375786,
           0.25264402764959015,
           0.2383416766936446,
           0.2145288714461612,
           0.18239124981424537,
           0.14348926836260514,
           0.09968670899986165,
           0.05306249567952219,
           0.0058103924762656495,
           -0.039868134180728126,
           -0.08187218787401292,
           -0.11830504740258321,
           -0.14756752732225356,
           -0.16843605361995675,
           -0.18012123502583363
          ],
          [
           -0.18251498442862385,
           -0.1760159755489718,
           -0.15987112992755653,
           -0.13461888616197776,
           -0.10127808535368477,
           -0.061301442485772274,
           -0.016505930263581485,
           0.031016232090896562,
           0.07900122348247962,
           0.12512633286074154,
           0.16712567793535366,
           0.20290271423033404,
           0.23063350923189954,
           0.24885528388828942,
           0.25653555744366946,
           0.25311832399967577,
           0.23854497801642713,
           0.21324911772700825,
           0.17812580971586786,
           0.134477311926808,
           0.08393854575868848,
           0.02838670735216783,
           -0.030159748399708135,
           -0.08964697741323371,
           -0.14809048863531396,
           -0.2036729142303004,
           -0.254829433326894,
           -0.3003162506586467,
           -0.3392585664190622,
           -0.37117570680030565,
           -0.39598244357893553,
           -0.41396693622794944,
           -0.42574709936268906,
           -0.43220845214435083,
           -0.43442757176285574,
           -0.4335860886421158,
           -0.4308806796227811,
           -0.4274347075936389,
           -0.42421701152445723,
           -0.42197287899622543,
           -0.421171462695804,
           -0.42197287899622543,
           -0.42421701152445723,
           -0.4274347075936389,
           -0.4308806796227811,
           -0.4335860886421158,
           -0.43442757176285574,
           -0.43220845214435083,
           -0.42574709936268906,
           -0.41396693622794944,
           -0.39598244357893553,
           -0.37117570680030565,
           -0.3392585664190622,
           -0.3003162506586467,
           -0.254829433326894,
           -0.2036729142303004,
           -0.14809048863531396,
           -0.08964697741323371,
           -0.030159748399708135,
           0.02838670735216783,
           0.08393854575868848,
           0.134477311926808,
           0.17812580971586786,
           0.21324911772700825,
           0.23854497801642713,
           0.25311832399967577,
           0.25653555744366946,
           0.24885528388828942,
           0.23063350923189954,
           0.20290271423033404,
           0.16712567793535366,
           0.12512633286074154,
           0.07900122348247962,
           0.031016232090896562,
           -0.016505930263581485,
           -0.061301442485772274,
           -0.10127808535368477,
           -0.13461888616197776,
           -0.15987112992755653,
           -0.1760159755489718
          ],
          [
           -0.18100457917857166,
           -0.17030698199702413,
           -0.1499137997580331,
           -0.12058300781296416,
           -0.08355939645450051,
           -0.040517266401149735,
           0.0065202421682302655,
           0.05528095770522729,
           0.10335731863015635,
           0.14832776112580212,
           0.18787932061729182,
           0.21992483146863692,
           0.242708395806646,
           0.254893432701845,
           0.25562857790064414,
           0.24458792842044305,
           0.22198354690007724,
           0.18854967763954522,
           0.14549969299473817,
           0.09445829662141196,
           0.037372873633869375,
           -0.02359098016854476,
           -0.08616386191642225,
           -0.14809048863531396,
           -0.20724458052139974,
           -0.2617343483375656,
           -0.309992807249447,
           -0.35084804028714445,
           -0.3835697098652554,
           -0.407889497747319,
           -0.42399466300627076,
           -0.43249545715781157,
           -0.43436863670247905,
           -0.4308806796227811,
           -0.42349546556438716,
           -0.4137720534188708,
           -0.40325873487122593,
           -0.39338972722403176,
           -0.3853906832849483,
           -0.3801986514917913,
           -0.3784012476539641,
           -0.3801986514917913,
           -0.3853906832849483,
           -0.39338972722403176,
           -0.40325873487122593,
           -0.4137720534188708,
           -0.42349546556438716,
           -0.4308806796227811,
           -0.43436863670247905,
           -0.43249545715781157,
           -0.42399466300627076,
           -0.407889497747319,
           -0.3835697098652554,
           -0.35084804028714445,
           -0.309992807249447,
           -0.2617343483375656,
           -0.20724458052139974,
           -0.14809048863531396,
           -0.08616386191642225,
           -0.02359098016854476,
           0.037372873633869375,
           0.09445829662141196,
           0.14549969299473817,
           0.18854967763954522,
           0.22198354690007724,
           0.24458792842044305,
           0.25562857790064414,
           0.254893432701845,
           0.242708395806646,
           0.21992483146863692,
           0.18787932061729182,
           0.14832776112580212,
           0.10335731863015635,
           0.05528095770522729,
           0.0065202421682302655,
           -0.040517266401149735,
           -0.08355939645450051,
           -0.12058300781296416,
           -0.1499137997580331,
           -0.17030698199702413
          ],
          [
           -0.17801860199902664,
           -0.16329221750830802,
           -0.13890582780165694,
           -0.10583439818051152,
           -0.06554239869174844,
           -0.019915691575644292,
           0.02883009042098063,
           0.07825990831739421,
           0.1258425822940911,
           0.16908036038891633,
           0.20563779959612533,
           0.23346296309158113,
           0.2508943222213973,
           0.25674750760048576,
           0.25037713957121355,
           0.2317103248693539,
           0.20124995852555586,
           0.16004763127913005,
           0.1096476200446325,
           0.05200503792795912,
           -0.010617349295218181,
           -0.0757679524450742,
           -0.1409342819269669,
           -0.2036729142303004,
           -0.2617343483375656,
           -0.31317589634427284,
           -0.3564564355250057,
           -0.3905078789395116,
           -0.4147795406040892,
           -0.42925310491460716,
           -0.43442757176285574,
           -0.4312752446188071,
           -0.421171462695804,
           -0.40580225753498556,
           -0.38705535500366767,
           -0.36690087535799776,
           -0.3472686537517362,
           -0.32992927901128904,
           -0.3163857196862348,
           -0.3077817863653888,
           -0.30483270332925,
           -0.3077817863653888,
           -0.3163857196862348,
           -0.32992927901128904,
           -0.3472686537517362,
           -0.36690087535799776,
           -0.38705535500366767,
           -0.40580225753498556,
           -0.421171462695804,
           -0.4312752446188071,
           -0.43442757176285574,
           -0.42925310491460716,
           -0.4147795406040892,
           -0.3905078789395116,
           -0.3564564355250057,
           -0.31317589634427284,
           -0.2617343483375656,
           -0.2036729142303004,
           -0.1409342819269669,
           -0.0757679524450742,
           -0.010617349295218181,
           0.05200503792795912,
           0.1096476200446325,
           0.16004763127913005,
           0.20124995852555586,
           0.2317103248693539,
           0.25037713957121355,
           0.25674750760048576,
           0.2508943222213973,
           0.23346296309158113,
           0.20563779959612533,
           0.16908036038891633,
           0.1258425822940911,
           0.07825990831739421,
           0.02883009042098063,
           -0.019915691575644292,
           -0.06554239869174844,
           -0.10583439818051152,
           -0.13890582780165694,
           -0.16329221750830802
          ],
          [
           -0.1738139924448547,
           -0.15527119023634722,
           -0.1271795169340972,
           -0.0907256642328181,
           -0.04758506314163741,
           0.0001569493213448689,
           0.05010748884225075,
           0.09968670899986165,
           0.14626024334832619,
           0.18727640924644018,
           0.22040074178662336,
           0.24364050109720906,
           0.2554522819126627,
           0.2548267267047997,
           0.2413455569066888,
           0.2152076253393881,
           0.17722237538812438,
           0.12877087581897034,
           0.07173638515428266,
           0.00840808631479302,
           -0.05863687417657578,
           -0.12666669235949252,
           -0.1929363397545002,
           -0.254829433326894,
           -0.309992807249447,
           -0.3564564355250057,
           -0.39273214882544505,
           -0.417885750201407,
           -0.43157859884674826,
           -0.434076417833265,
           -0.42622489689420734,
           -0.4093935036702951,
           -0.3853906832849483,
           -0.35635521764627226,
           -0.324629843053556,
           -0.2926242127644853,
           -0.2626748843273063,
           -0.23691017597600564,
           -0.21712746254366178,
           -0.20468978410715197,
           -0.20044755867978276,
           -0.20468978410715197,
           -0.21712746254366178,
           -0.23691017597600564,
           -0.2626748843273063,
           -0.2926242127644853,
           -0.324629843053556,
           -0.35635521764627226,
           -0.3853906832849483,
           -0.4093935036702951,
           -0.42622489689420734,
           -0.434076417833265,
           -0.43157859884674826,
           -0.417885750201407,
           -0.39273214882544505,
           -0.3564564355250057,
           -0.309992807249447,
           -0.254829433326894,
           -0.1929363397545002,
           -0.12666669235949252,
           -0.05863687417657578,
           0.00840808631479302,
           0.07173638515428266,
           0.12877087581897034,
           0.17722237538812438,
           0.2152076253393881,
           0.2413455569066888,
           0.2548267267047997,
           0.2554522819126627,
           0.24364050109720906,
           0.22040074178662336,
           0.18727640924644018,
           0.14626024334832619,
           0.09968670899986165,
           0.05010748884225075,
           0.0001569493213448689,
           -0.04758506314163741,
           -0.0907256642328181,
           -0.1271795169340972,
           -0.15527119023634722
          ],
          [
           -0.16865061331126227,
           -0.14653700801271363,
           -0.11505016730310495,
           -0.07558080422426758,
           -0.030004497243790427,
           0.019407660252202565,
           0.07010183827093616,
           0.11937185506223688,
           0.16450028494360933,
           0.20290271423033404,
           0.23226729318028777,
           0.2506818889186662,
           0.2567417315441088,
           0.24963143467045815,
           0.22917661128094333,
           0.19586192453391038,
           0.15081422331281308,
           0.0957513146109,
           0.032898814044057145,
           -0.03512071345143313,
           -0.10542055787501849,
           -0.17499760171649797,
           -0.24088710992360066,
           -0.3003162506586467,
           -0.35084804028714445,
           -0.3905078789395116,
           -0.417885750201407,
           -0.43220845214435083,
           -0.4333778373354074,
           -0.42197287899622543,
           -0.39921534828629784,
           -0.36690087535799776,
           -0.32729906443176787,
           -0.28302803533990717,
           -0.23691017597600564,
           -0.19181693290541052,
           -0.15051108239111077,
           -0.11549507625799743,
           -0.08887373699192957,
           -0.0722388011028484,
           -0.06658162124929747,
           -0.0722388011028484,
           -0.08887373699192957,
           -0.11549507625799743,
           -0.15051108239111077,
           -0.19181693290541052,
           -0.23691017597600564,
           -0.28302803533990717,
           -0.32729906443176787,
           -0.36690087535799776,
           -0.39921534828629784,
           -0.42197287899622543,
           -0.4333778373354074,
           -0.43220845214435083,
           -0.417885750201407,
           -0.3905078789395116,
           -0.35084804028714445,
           -0.3003162506586467,
           -0.24088710992360066,
           -0.17499760171649797,
           -0.10542055787501849,
           -0.03512071345143313,
           0.032898814044057145,
           0.0957513146109,
           0.15081422331281308,
           0.19586192453391038,
           0.22917661128094333,
           0.24963143467045815,
           0.2567417315441088,
           0.2506818889186662,
           0.23226729318028777,
           0.20290271423033404,
           0.16450028494360933,
           0.11937185506223688,
           0.07010183827093616,
           0.019407660252202565,
           -0.030004497243790427,
           -0.07558080422426758,
           -0.11505016730310495,
           -0.14653700801271363
          ],
          [
           -0.16278435980926842,
           -0.13736985507049018,
           -0.10281030706494565,
           -0.060690608986011814,
           -0.013073952151520388,
           0.03759772656874239,
           0.08862652853638416,
           0.13719827990417027,
           0.18053174205108255,
           0.21602931256266372,
           0.24142096714711753,
           0.254893432701845,
           0.25519727019112654,
           0.24172565029557566,
           0.21456006847846779,
           0.17447999195279823,
           0.12293536517635703,
           0.06198291759831892,
           -0.005810793613848673,
           -0.07749482277960204,
           -0.14988136590815446,
           -0.21970771693043264,
           -0.2838041182964338,
           -0.3392585664190622,
           -0.3835697098652554,
           -0.4147795406040892,
           -0.43157859884674826,
           -0.4333778373354074,
           -0.4203430458705095,
           -0.39338972722403176,
           -0.3541384336243295,
           -0.30483270332925,
           -0.24822376277499153,
           -0.187427969950852,
           -0.1257644689695074,
           -0.06658162124929747,
           -0.0130814139378774,
           0.03184881503912622,
           0.0657883626364726,
           0.08691073780520595,
           0.0940800053732448,
           0.08691073780520595,
           0.0657883626364726,
           0.03184881503912622,
           -0.0130814139378774,
           -0.06658162124929747,
           -0.1257644689695074,
           -0.187427969950852,
           -0.24822376277499153,
           -0.30483270332925,
           -0.3541384336243295,
           -0.39338972722403176,
           -0.4203430458705095,
           -0.4333778373354074,
           -0.43157859884674826,
           -0.4147795406040892,
           -0.3835697098652554,
           -0.3392585664190622,
           -0.2838041182964338,
           -0.21970771693043264,
           -0.14988136590815446,
           -0.07749482277960204,
           -0.005810793613848673,
           0.06198291759831892,
           0.12293536517635703,
           0.17447999195279823,
           0.21456006847846779,
           0.24172565029557566,
           0.25519727019112654,
           0.254893432701845,
           0.24142096714711753,
           0.21602931256266372,
           0.18053174205108255,
           0.13719827990417027,
           0.08862652853638416,
           0.03759772656874239,
           -0.013073952151520388,
           -0.060690608986011814,
           -0.10281030706494565,
           -0.13736985507049018
          ],
          [
           -0.15646143337355978,
           -0.12803192632998142,
           -0.0907256642328181,
           -0.046310064114579955,
           0.0029779491154211806,
           0.054541276561040686,
           0.10555493165712146,
           0.15311446345017118,
           0.1943926655354523,
           0.22679610352037188,
           0.24811283911536614,
           0.2566430509401283,
           0.25130504004127213,
           0.2317103248693539,
           0.1982031145119569,
           0.15186131748507978,
           0.09445829662141196,
           0.02838670735216783,
           -0.043452159632214875,
           -0.1177881852505473,
           -0.19114437378651342,
           -0.26001264723920775,
           -0.3210343185560354,
           -0.37117570680030565,
           -0.407889497747319,
           -0.42925310491460716,
           -0.434076417833265,
           -0.42197287899622543,
           -0.39338972722403176,
           -0.3495953826561967,
           -0.2926242127644853,
           -0.22518118755916025,
           -0.15051108239111077,
           -0.0722388011028484,
           0.005811034304373925,
           0.07980593576993696,
           0.14609889758077332,
           0.20141317105264114,
           0.24300880867803662,
           0.2688222513075441,
           0.277571630583514,
           0.2688222513075441,
           0.24300880867803662,
           0.20141317105264114,
           0.14609889758077332,
           0.07980593576993696,
           0.005811034304373925,
           -0.0722388011028484,
           -0.15051108239111077,
           -0.22518118755916025,
           -0.2926242127644853,
           -0.3495953826561967,
           -0.39338972722403176,
           -0.42197287899622543,
           -0.434076417833265,
           -0.42925310491460716,
           -0.407889497747319,
           -0.37117570680030565,
           -0.3210343185560354,
           -0.26001264723920775,
           -0.19114437378651342,
           -0.1177881852505473,
           -0.043452159632214875,
           0.02838670735216783,
           0.09445829662141196,
           0.15186131748507978,
           0.1982031145119569,
           0.2317103248693539,
           0.25130504004127213,
           0.2566430509401283,
           0.24811283911536614,
           0.22679610352037188,
           0.1943926655354523,
           0.15311446345017118,
           0.10555493165712146,
           0.054541276561040686,
           0.0029779491154211806,
           -0.046310064114579955,
           -0.0907256642328181,
           -0.12803192632998142
          ],
          [
           -0.1499137997580331,
           -0.11876378051842666,
           -0.07903277128303789,
           -0.032657564269347995,
           0.017966041941118966,
           0.07010183827093616,
           0.12081441070397907,
           0.16712567793535366,
           0.2061784643801796,
           0.23539823538075702,
           0.25264402764959015,
           0.2563400102730029,
           0.2455799958764798,
           0.22019854657881394,
           0.18080401871815463,
           0.12877087581897034,
           0.0661907655654817,
           -0.004215913110515241,
           -0.0792240541655952,
           -0.15525760655490364,
           -0.22856545626592412,
           -0.29541051237375787,
           -0.35226222727992795,
           -0.39598244357893553,
           -0.42399466300627076,
           -0.43442757176285574,
           -0.42622489689420734,
           -0.39921534828629784,
           -0.3541384336243295,
           -0.2926242127644853,
           -0.21712746254366178,
           -0.13081912452072303,
           -0.03744017720227128,
           0.05887491198907235,
           0.1537963512162099,
           0.24300880867803662,
           0.32242214992953067,
           0.38837235101706136,
           0.43780226922078175,
           0.4684129583840573,
           0.47877771528316515,
           0.4684129583840573,
           0.43780226922078175,
           0.38837235101706136,
           0.32242214992953067,
           0.24300880867803662,
           0.1537963512162099,
           0.05887491198907235,
           -0.03744017720227128,
           -0.13081912452072303,
           -0.21712746254366178,
           -0.2926242127644853,
           -0.3541384336243295,
           -0.39921534828629784,
           -0.42622489689420734,
           -0.43442757176285574,
           -0.42399466300627076,
           -0.39598244357893553,
           -0.35226222727992795,
           -0.29541051237375787,
           -0.22856545626592412,
           -0.15525760655490364,
           -0.0792240541655952,
           -0.004215913110515241,
           0.0661907655654817,
           0.12877087581897034,
           0.18080401871815463,
           0.22019854657881394,
           0.2455799958764798,
           0.2563400102730029,
           0.25264402764959015,
           0.23539823538075702,
           0.2061784643801796,
           0.16712567793535366,
           0.12081441070397907,
           0.07010183827093616,
           0.017966041941118966,
           -0.032657564269347995,
           -0.07903277128303789,
           -0.11876378051842666
          ],
          [
           -0.14335579129849668,
           -0.10978201113265723,
           -0.06793803188546253,
           -0.019915691575644292,
           0.031745840459068614,
           0.08418731130237875,
           0.13437885433763305,
           0.1792839709402817,
           0.21602931256266372,
           0.2420710146043941,
           0.255348298963932,
           0.25441554164532254,
           0.23854497801642713,
           0.20779364608280457,
           0.1630299764243758,
           0.10591753298818528,
           0.03885568116655977,
           -0.03512071345143313,
           -0.11247819731414006,
           -0.18935183535374994,
           -0.2617343483375656,
           -0.32567778292945404,
           -0.37749737145928347,
           -0.41396693622794944,
           -0.43249545715781157,
           -0.4312752446188071,
           -0.4093935036702951,
           -0.36690087535799776,
           -0.30483270332925,
           -0.22518118755916025,
           -0.13081912452072303,
           -0.025378460035175753,
           0.08691073780520595,
           0.20141317105264114,
           0.3133036361206578,
           0.4177941096414197,
           0.5103612401471838,
           0.5869627944413911,
           0.6442321103834694,
           0.6796406846183429,
           0.69162061945593,
           0.6796406846183429,
           0.6442321103834694,
           0.5869627944413911,
           0.5103612401471838,
           0.4177941096414197,
           0.3133036361206578,
           0.20141317105264114,
           0.08691073780520595,
           -0.025378460035175753,
           -0.13081912452072303,
           -0.22518118755916025,
           -0.30483270332925,
           -0.36690087535799776,
           -0.4093935036702951,
           -0.4312752446188071,
           -0.43249545715781157,
           -0.41396693622794944,
           -0.37749737145928347,
           -0.32567778292945404,
           -0.2617343483375656,
           -0.18935183535374994,
           -0.11247819731414006,
           -0.03512071345143313,
           0.03885568116655977,
           0.10591753298818528,
           0.1630299764243758,
           0.20779364608280457,
           0.23854497801642713,
           0.25441554164532254,
           0.255348298963932,
           0.2420710146043941,
           0.21602931256266372,
           0.1792839709402817,
           0.13437885433763305,
           0.08418731130237875,
           0.031745840459068614,
           -0.019915691575644292,
           -0.06793803188546253,
           -0.10978201113265723
          ],
          [
           -0.13698176393514344,
           -0.10127808535368477,
           -0.05761803324395176,
           -0.00823327044894154,
           0.044209509361482956,
           0.09674378883254962,
           0.14626024334832619,
           0.18967745729212915,
           0.22411724822563847,
           0.24707500803079696,
           0.256575492104657,
           0.25130504004127213,
           0.23071227369415245,
           0.19507084218595108,
           0.14549969299473817,
           0.08393854575868848,
           0.013078615468659323,
           -0.06374895250625122,
           -0.1427221428215067,
           -0.21970771693043264,
           -0.29046275344788247,
           -0.35084804028714445,
           -0.3970424421347404,
           -0.42574709936268906,
           -0.43436863670247905,
           -0.421171462695804,
           -0.3853906832849483,
           -0.32729906443176787,
           -0.24822376277499153,
           -0.15051108239111077,
           -0.03744017720227128,
           0.08691073780520595,
           0.21783961811686398,
           0.35022902170777614,
           0.47877771528316515,
           0.5982441516081277,
           0.7036898157513979,
           0.7907103570985019,
           0.8556429685382863,
           0.8957396184216221,
           0.9092974268256817,
           0.8957396184216221,
           0.8556429685382863,
           0.7907103570985019,
           0.7036898157513979,
           0.5982441516081277,
           0.47877771528316515,
           0.35022902170777614,
           0.21783961811686398,
           0.08691073780520595,
           -0.03744017720227128,
           -0.15051108239111077,
           -0.24822376277499153,
           -0.32729906443176787,
           -0.3853906832849483,
           -0.421171462695804,
           -0.43436863670247905,
           -0.42574709936268906,
           -0.3970424421347404,
           -0.35084804028714445,
           -0.29046275344788247,
           -0.21970771693043264,
           -0.1427221428215067,
           -0.06374895250625122,
           0.013078615468659323,
           0.08393854575868848,
           0.14549969299473817,
           0.19507084218595108,
           0.23071227369415245,
           0.25130504004127213,
           0.256575492104657,
           0.24707500803079696,
           0.22411724822563847,
           0.18967745729212915,
           0.14626024334832619,
           0.09674378883254962,
           0.044209509361482956,
           -0.00823327044894154,
           -0.05761803324395176,
           -0.10127808535368477
          ],
          [
           -0.13096468174943518,
           -0.09341816596346665,
           -0.04822085787410071,
           0.0022716100207446164,
           0.05528095770522729,
           0.10774865812501504,
           0.15649972810645998,
           0.19841943861188654,
           0.23063350923189954,
           0.2506818889186662,
           0.2566762997375786,
           0.24743234013685533,
           0.2225680860000738,
           0.18256273925541686,
           0.12877087581897034,
           0.06339013493636744,
           -0.010617349295218181,
           -0.08964697741323371,
           -0.1696119802323752,
           -0.24613461781837798,
           -0.31475910259630246,
           -0.37117570680030565,
           -0.41144469052055266,
           -0.43220845214435083,
           -0.4308806796227811,
           -0.40580225753498556,
           -0.35635521764627226,
           -0.28302803533990717,
           -0.187427969950852,
           -0.0722388011028484,
           0.05887491198907235,
           0.20141317105264114,
           0.35022902170777614,
           0.49975144871271493,
           0.6442321103834694,
           0.7780040258931075,
           0.8957396184216221,
           0.992695449836068,
           1.0649315658049785,
           1.1094945766040856,
           1.124555367855928,
           1.1094945766040856,
           1.0649315658049785,
           0.992695449836068,
           0.8957396184216221,
           0.7780040258931075,
           0.6442321103834694,
           0.49975144871271493,
           0.35022902170777614,
           0.20141317105264114,
           0.05887491198907235,
           -0.0722388011028484,
           -0.187427969950852,
           -0.28302803533990717,
           -0.35635521764627226,
           -0.40580225753498556,
           -0.4308806796227811,
           -0.43220845214435083,
           -0.41144469052055266,
           -0.37117570680030565,
           -0.31475910259630246,
           -0.24613461781837798,
           -0.1696119802323752,
           -0.08964697741323371,
           -0.010617349295218181,
           0.06339013493636744,
           0.12877087581897034,
           0.18256273925541686,
           0.2225680860000738,
           0.24743234013685533,
           0.2566762997375786,
           0.2506818889186662,
           0.23063350923189954,
           0.19841943861188654,
           0.15649972810645998,
           0.10774865812501504,
           0.05528095770522729,
           0.0022716100207446164,
           -0.04822085787410071,
           -0.09341816596346665
          ],
          [
           -0.1254554756233313,
           -0.08634370978474622,
           -0.039868134180728126,
           0.011507919583092052,
           0.0649104168254659,
           0.11720338291232232,
           0.16515865057394133,
           0.20563779959612533,
           0.23577655069724138,
           0.2531614457800734,
           0.2559887694405144,
           0.2431963471432226,
           0.21456006847846779,
           0.17074867404778504,
           0.11333242903336226,
           0.044743679368913644,
           -0.03181017613329085,
           -0.11247819731414006,
           -0.1929363397545002,
           -0.268589046149572,
           -0.33479237619194996,
           -0.38708768931988075,
           -0.42143408131469146,
           -0.43442757176285574,
           -0.42349546556438716,
           -0.38705535500366767,
           -0.324629843053556,
           -0.23691017597600564,
           -0.1257644689695074,
           0.005811034304373925,
           0.1537963512162099,
           0.3133036361206578,
           0.47877771528316515,
           0.6442321103834694,
           0.803509484779075,
           0.9505541014891831,
           1.0796831610910465,
           1.1858438330909473,
           1.2648434125627805,
           1.3135412961886945,
           1.3299933154720727,
           1.3135412961886945,
           1.2648434125627805,
           1.1858438330909473,
           1.0796831610910465,
           0.9505541014891831,
           0.803509484779075,
           0.6442321103834694,
           0.47877771528316515,
           0.3133036361206578,
           0.1537963512162099,
           0.005811034304373925,
           -0.1257644689695074,
           -0.23691017597600564,
           -0.324629843053556,
           -0.38705535500366767,
           -0.42349546556438716,
           -0.43442757176285574,
           -0.42143408131469146,
           -0.38708768931988075,
           -0.33479237619194996,
           -0.268589046149572,
           -0.1929363397545002,
           -0.11247819731414006,
           -0.03181017613329085,
           0.044743679368913644,
           0.11333242903336226,
           0.17074867404778504,
           0.21456006847846779,
           0.2431963471432226,
           0.2559887694405144,
           0.2531614457800734,
           0.23577655069724138,
           0.20563779959612533,
           0.16515865057394133,
           0.11720338291232232,
           0.0649104168254659,
           0.011507919583092052,
           -0.039868134180728126,
           -0.08634370978474622
          ],
          [
           -0.12058300781296416,
           -0.08017262722723162,
           -0.032657564269347995,
           0.019407660252202565,
           0.07306884206017318,
           0.12512633286074154,
           0.17230988766358785,
           0.21146505144444128,
           0.23974108638511749,
           0.25477004091850136,
           0.2548267267047997,
           0.23896010343988033,
           0.2070878465419809,
           0.16004763127913005,
           0.09960082298540655,
           0.02838670735216783,
           -0.050171999808914604,
           -0.132008995765264,
           -0.2125937105436689,
           -0.28714197491104243,
           -0.35084804028714445,
           -0.3991265770886398,
           -0.42785247459104203,
           -0.4335860886421158,
           -0.4137720534188708,
           -0.36690087535799776,
           -0.2926242127644853,
           -0.19181693290541052,
           -0.06658162124929747,
           0.07980593576993696,
           0.24300880867803662,
           0.4177941096414197,
           0.5982441516081277,
           0.7780040258931075,
           0.9505541014891831,
           1.1094945766040856,
           1.2488284837498442,
           1.3632295064019535,
           1.4482816142111579,
           1.500678835049543,
           1.518375390968938,
           1.500678835049543,
           1.4482816142111579,
           1.3632295064019535,
           1.2488284837498442,
           1.1094945766040856,
           0.9505541014891831,
           0.7780040258931075,
           0.5982441516081277,
           0.4177941096414197,
           0.24300880867803662,
           0.07980593576993696,
           -0.06658162124929747,
           -0.19181693290541052,
           -0.2926242127644853,
           -0.36690087535799776,
           -0.4137720534188708,
           -0.4335860886421158,
           -0.42785247459104203,
           -0.3991265770886398,
           -0.35084804028714445,
           -0.28714197491104243,
           -0.2125937105436689,
           -0.132008995765264,
           -0.050171999808914604,
           0.02838670735216783,
           0.09960082298540655,
           0.16004763127913005,
           0.2070878465419809,
           0.23896010343988033,
           0.2548267267047997,
           0.25477004091850136,
           0.23974108638511749,
           0.21146505144444128,
           0.17230988766358785,
           0.12512633286074154,
           0.07306884206017318,
           0.019407660252202565,
           -0.032657564269347995,
           -0.08017262722723162
          ],
          [
           -0.1164544699167505,
           -0.0750007897964791,
           -0.026665677985416577,
           0.025921773001301992,
           0.07974244535617742,
           0.13154597877649798,
           0.17802983029511174,
           0.21602931256266372,
           0.242708395806646,
           0.2557406839380664,
           0.25347017586536014,
           0.23504220166614895,
           0.20049625055173417,
           0.15081422331281308,
           0.08791985781076668,
           0.014627580006334946,
           -0.06545830501430487,
           -0.14809048863531396,
           -0.22856545626592412,
           -0.30194177876754097,
           -0.3632795822101567,
           -0.407889497747319,
           -0.43157859884674826,
           -0.4308806796227811,
           -0.40325873487122593,
           -0.3472686537517362,
           -0.2626748843273063,
           -0.15051108239111077,
           -0.0130814139378774,
           0.14609889758077332,
           0.32242214992953067,
           0.5103612401471838,
           0.7036898157513979,
           0.8957396184216221,
           1.0796831610910465,
           1.2488284837498442,
           1.3969119972732167,
           1.518375390968938,
           1.608613254431116,
           1.6641794167481594,
           1.682941969615793,
           1.6641794167481594,
           1.608613254431116,
           1.518375390968938,
           1.3969119972732167,
           1.2488284837498442,
           1.0796831610910465,
           0.8957396184216221,
           0.7036898157513979,
           0.5103612401471838,
           0.32242214992953067,
           0.14609889758077332,
           -0.0130814139378774,
           -0.15051108239111077,
           -0.2626748843273063,
           -0.3472686537517362,
           -0.40325873487122593,
           -0.4308806796227811,
           -0.43157859884674826,
           -0.407889497747319,
           -0.3632795822101567,
           -0.30194177876754097,
           -0.22856545626592412,
           -0.14809048863531396,
           -0.06545830501430487,
           0.014627580006334946,
           0.08791985781076668,
           0.15081422331281308,
           0.20049625055173417,
           0.23504220166614895,
           0.25347017586536014,
           0.2557406839380664,
           0.242708395806646,
           0.21602931256266372,
           0.17802983029511174,
           0.13154597877649798,
           0.07974244535617742,
           0.025921773001301992,
           -0.026665677985416577,
           -0.0750007897964791
          ],
          [
           -0.1131560467581887,
           -0.07090368426500879,
           -0.021950582012676394,
           0.031016232090896562,
           0.08492762656935865,
           0.13649472168344115,
           0.18239124981424537,
           0.21944644111666822,
           0.24483804991090946,
           0.2562747828163765,
           0.252157618714697,
           0.2317103248693539,
           0.19507084218595108,
           0.1433370736825879,
           0.07856287339249271,
           0.0037025838949493145,
           -0.07749482277960204,
           -0.16063822727306362,
           -0.24088710992360066,
           -0.31317589634427284,
           -0.37245933283868765,
           -0.41396693622794944,
           -0.4334537754581445,
           -0.4274347075936389,
           -0.39338972722403176,
           -0.32992927901128904,
           -0.23691017597600564,
           -0.11549507625799743,
           0.03184881503912622,
           0.20141317105264114,
           0.38837235101706136,
           0.5869627944413911,
           0.7907103570985019,
           0.992695449836068,
           1.1858438330909473,
           1.3632295064019535,
           1.518375390968938,
           1.6455374774968983,
           1.7399588071171015,
           1.7980810383563555,
           1.8177033600622243,
           1.7980810383563555,
           1.7399588071171015,
           1.6455374774968983,
           1.518375390968938,
           1.3632295064019535,
           1.1858438330909473,
           0.992695449836068,
           0.7907103570985019,
           0.5869627944413911,
           0.38837235101706136,
           0.20141317105264114,
           0.03184881503912622,
           -0.11549507625799743,
           -0.23691017597600564,
           -0.32992927901128904,
           -0.39338972722403176,
           -0.4274347075936389,
           -0.4334537754581445,
           -0.41396693622794944,
           -0.37245933283868765,
           -0.31317589634427284,
           -0.24088710992360066,
           -0.16063822727306362,
           -0.07749482277960204,
           0.0037025838949493145,
           0.07856287339249271,
           0.1433370736825879,
           0.19507084218595108,
           0.2317103248693539,
           0.252157618714697,
           0.2562747828163765,
           0.24483804991090946,
           0.21944644111666822,
           0.18239124981424537,
           0.13649472168344115,
           0.08492762656935865,
           0.031016232090896562,
           -0.021950582012676394,
           -0.07090368426500879
          ],
          [
           -0.1107536917561867,
           -0.06793803188546253,
           -0.01855449981019833,
           0.03466854669458865,
           0.08862652853638416,
           0.14000357308347133,
           0.18545724476618586,
           0.22181346801290225,
           0.24626113579560338,
           0.25653555744366946,
           0.25108014921898075,
           0.22917661128094333,
           0.19103523332295086,
           0.13783886506830845,
           0.07173638515428266,
           -0.004215913110515241,
           -0.08616386191642225,
           -0.1696119802323752,
           -0.24962054293732017,
           -0.3210343185560354,
           -0.3787322233669178,
           -0.417885750201407,
           -0.434213248547002,
           -0.42421701152445723,
           -0.3853906832849483,
           -0.3163857196862348,
           -0.21712746254366178,
           -0.08887373699192957,
           0.0657883626364726,
           0.24300880867803662,
           0.43780226922078175,
           0.6442321103834694,
           0.8556429685382863,
           1.0649315658049785,
           1.2648434125627805,
           1.4482816142111579,
           1.608613254431116,
           1.7399588071171015,
           1.8374507397311368,
           1.8974488797623419,
           1.917702154416812,
           1.8974488797623419,
           1.8374507397311368,
           1.7399588071171015,
           1.608613254431116,
           1.4482816142111579,
           1.2648434125627805,
           1.0649315658049785,
           0.8556429685382863,
           0.6442321103834694,
           0.43780226922078175,
           0.24300880867803662,
           0.0657883626364726,
           -0.08887373699192957,
           -0.21712746254366178,
           -0.3163857196862348,
           -0.3853906832849483,
           -0.42421701152445723,
           -0.434213248547002,
           -0.417885750201407,
           -0.3787322233669178,
           -0.3210343185560354,
           -0.24962054293732017,
           -0.1696119802323752,
           -0.08616386191642225,
           -0.004215913110515241,
           0.07173638515428266,
           0.13783886506830845,
           0.19103523332295086,
           0.22917661128094333,
           0.25108014921898075,
           0.25653555744366946,
           0.24626113579560338,
           0.22181346801290225,
           0.18545724476618586,
           0.14000357308347133,
           0.08862652853638416,
           0.03466854669458865,
           -0.01855449981019833,
           -0.06793803188546253
          ],
          [
           -0.10929387900894774,
           -0.06614321685638791,
           -0.016505930263581485,
           0.03686485131708162,
           0.09084339726921295,
           0.14209785531573388,
           0.18727640924644018,
           0.2232034254780841,
           0.24707500803079696,
           0.2566430509401283,
           0.25037713957121355,
           0.22759450814784551,
           0.18854967763954522,
           0.134477311926808,
           0.06758414818694233,
           -0.009011537058698997,
           -0.09139170665445415,
           -0.17499760171649797,
           -0.254829433326894,
           -0.32567778292945404,
           -0.382375848005458,
           -0.4200602785751461,
           -0.43442757176285574,
           -0.42197287899622543,
           -0.3801986514917913,
           -0.3077817863653888,
           -0.20468978410715197,
           -0.0722388011028484,
           0.08691073780520595,
           0.2688222513075441,
           0.4684129583840573,
           0.6796406846183429,
           0.8957396184216221,
           1.1094945766040856,
           1.3135412961886945,
           1.500678835049543,
           1.6641794167481594,
           1.7980810383563555,
           1.8974488797623419,
           1.9585929762944412,
           1.9792316740361835,
           1.9585929762944412,
           1.8974488797623419,
           1.7980810383563555,
           1.6641794167481594,
           1.500678835049543,
           1.3135412961886945,
           1.1094945766040856,
           0.8957396184216221,
           0.6796406846183429,
           0.4684129583840573,
           0.2688222513075441,
           0.08691073780520595,
           -0.0722388011028484,
           -0.20468978410715197,
           -0.3077817863653888,
           -0.3801986514917913,
           -0.42197287899622543,
           -0.43442757176285574,
           -0.4200602785751461,
           -0.382375848005458,
           -0.32567778292945404,
           -0.254829433326894,
           -0.17499760171649797,
           -0.09139170665445415,
           -0.009011537058698997,
           0.06758414818694233,
           0.134477311926808,
           0.18854967763954522,
           0.22759450814784551,
           0.25037713957121355,
           0.2566430509401283,
           0.24707500803079696,
           0.2232034254780841,
           0.18727640924644018,
           0.14209785531573388,
           0.09084339726921295,
           0.03686485131708162,
           -0.016505930263581485,
           -0.06614321685638791
          ],
          [
           -0.10880422217787396,
           -0.06554239869174844,
           -0.015821288518275644,
           0.03759772656874239,
           0.09158188560927924,
           0.14279404657238684,
           0.18787932061729182,
           0.22366162672468853,
           0.24733956165584545,
           0.2566706526738519,
           0.25013332713993036,
           0.2270567942100705,
           0.18771045677679687,
           0.1333463922312941,
           0.0661907655654817,
           -0.010617349295218181,
           -0.09313849939964196,
           -0.17679272260843765,
           -0.2565601183892334,
           -0.32721314035298743,
           -0.3835697098652554,
           -0.4207548585159486,
           -0.43445783007337646,
           -0.421171462695804,
           -0.3784012476539641,
           -0.30483270332925,
           -0.20044755867978276,
           -0.06658162124929747,
           0.0940800053732448,
           0.277571630583514,
           0.47877771528316515,
           0.69162061945593,
           0.9092974268256817,
           1.124555367855928,
           1.3299933154720727,
           1.518375390968938,
           1.682941969615793,
           1.8177033600622243,
           1.917702154416812,
           1.9792316740361835,
           null,
           1.9792316740361835,
           1.917702154416812,
           1.8177033600622243,
           1.682941969615793,
           1.518375390968938,
           1.3299933154720727,
           1.124555367855928,
           0.9092974268256817,
           0.69162061945593,
           0.47877771528316515,
           0.277571630583514,
           0.0940800053732448,
           -0.06658162124929747,
           -0.20044755867978276,
           -0.30483270332925,
           -0.3784012476539641,
           -0.421171462695804,
           -0.43445783007337646,
           -0.4207548585159486,
           -0.3835697098652554,
           -0.32721314035298743,
           -0.2565601183892334,
           -0.17679272260843765,
           -0.09313849939964196,
           -0.010617349295218181,
           0.0661907655654817,
           0.1333463922312941,
           0.18771045677679687,
           0.2270567942100705,
           0.25013332713993036,
           0.2566706526738519,
           0.24733956165584545,
           0.22366162672468853,
           0.18787932061729182,
           0.14279404657238684,
           0.09158188560927924,
           0.03759772656874239,
           -0.015821288518275644,
           -0.06554239869174844
          ],
          [
           -0.10929387900894774,
           -0.06614321685638791,
           -0.016505930263581485,
           0.03686485131708162,
           0.09084339726921295,
           0.14209785531573388,
           0.18727640924644018,
           0.2232034254780841,
           0.24707500803079696,
           0.2566430509401283,
           0.25037713957121355,
           0.22759450814784551,
           0.18854967763954522,
           0.134477311926808,
           0.06758414818694233,
           -0.009011537058698997,
           -0.09139170665445415,
           -0.17499760171649797,
           -0.254829433326894,
           -0.32567778292945404,
           -0.382375848005458,
           -0.4200602785751461,
           -0.43442757176285574,
           -0.42197287899622543,
           -0.3801986514917913,
           -0.3077817863653888,
           -0.20468978410715197,
           -0.0722388011028484,
           0.08691073780520595,
           0.2688222513075441,
           0.4684129583840573,
           0.6796406846183429,
           0.8957396184216221,
           1.1094945766040856,
           1.3135412961886945,
           1.500678835049543,
           1.6641794167481594,
           1.7980810383563555,
           1.8974488797623419,
           1.9585929762944412,
           1.9792316740361835,
           1.9585929762944412,
           1.8974488797623419,
           1.7980810383563555,
           1.6641794167481594,
           1.500678835049543,
           1.3135412961886945,
           1.1094945766040856,
           0.8957396184216221,
           0.6796406846183429,
           0.4684129583840573,
           0.2688222513075441,
           0.08691073780520595,
           -0.0722388011028484,
           -0.20468978410715197,
           -0.3077817863653888,
           -0.3801986514917913,
           -0.42197287899622543,
           -0.43442757176285574,
           -0.4200602785751461,
           -0.382375848005458,
           -0.32567778292945404,
           -0.254829433326894,
           -0.17499760171649797,
           -0.09139170665445415,
           -0.009011537058698997,
           0.06758414818694233,
           0.134477311926808,
           0.18854967763954522,
           0.22759450814784551,
           0.25037713957121355,
           0.2566430509401283,
           0.24707500803079696,
           0.2232034254780841,
           0.18727640924644018,
           0.14209785531573388,
           0.09084339726921295,
           0.03686485131708162,
           -0.016505930263581485,
           -0.06614321685638791
          ],
          [
           -0.1107536917561867,
           -0.06793803188546253,
           -0.01855449981019833,
           0.03466854669458865,
           0.08862652853638416,
           0.14000357308347133,
           0.18545724476618586,
           0.22181346801290225,
           0.24626113579560338,
           0.25653555744366946,
           0.25108014921898075,
           0.22917661128094333,
           0.19103523332295086,
           0.13783886506830845,
           0.07173638515428266,
           -0.004215913110515241,
           -0.08616386191642225,
           -0.1696119802323752,
           -0.24962054293732017,
           -0.3210343185560354,
           -0.3787322233669178,
           -0.417885750201407,
           -0.434213248547002,
           -0.42421701152445723,
           -0.3853906832849483,
           -0.3163857196862348,
           -0.21712746254366178,
           -0.08887373699192957,
           0.0657883626364726,
           0.24300880867803662,
           0.43780226922078175,
           0.6442321103834694,
           0.8556429685382863,
           1.0649315658049785,
           1.2648434125627805,
           1.4482816142111579,
           1.608613254431116,
           1.7399588071171015,
           1.8374507397311368,
           1.8974488797623419,
           1.917702154416812,
           1.8974488797623419,
           1.8374507397311368,
           1.7399588071171015,
           1.608613254431116,
           1.4482816142111579,
           1.2648434125627805,
           1.0649315658049785,
           0.8556429685382863,
           0.6442321103834694,
           0.43780226922078175,
           0.24300880867803662,
           0.0657883626364726,
           -0.08887373699192957,
           -0.21712746254366178,
           -0.3163857196862348,
           -0.3853906832849483,
           -0.42421701152445723,
           -0.434213248547002,
           -0.417885750201407,
           -0.3787322233669178,
           -0.3210343185560354,
           -0.24962054293732017,
           -0.1696119802323752,
           -0.08616386191642225,
           -0.004215913110515241,
           0.07173638515428266,
           0.13783886506830845,
           0.19103523332295086,
           0.22917661128094333,
           0.25108014921898075,
           0.25653555744366946,
           0.24626113579560338,
           0.22181346801290225,
           0.18545724476618586,
           0.14000357308347133,
           0.08862652853638416,
           0.03466854669458865,
           -0.01855449981019833,
           -0.06793803188546253
          ],
          [
           -0.1131560467581887,
           -0.07090368426500879,
           -0.021950582012676394,
           0.031016232090896562,
           0.08492762656935865,
           0.13649472168344115,
           0.18239124981424537,
           0.21944644111666822,
           0.24483804991090946,
           0.2562747828163765,
           0.252157618714697,
           0.2317103248693539,
           0.19507084218595108,
           0.1433370736825879,
           0.07856287339249271,
           0.0037025838949493145,
           -0.07749482277960204,
           -0.16063822727306362,
           -0.24088710992360066,
           -0.31317589634427284,
           -0.37245933283868765,
           -0.41396693622794944,
           -0.4334537754581445,
           -0.4274347075936389,
           -0.39338972722403176,
           -0.32992927901128904,
           -0.23691017597600564,
           -0.11549507625799743,
           0.03184881503912622,
           0.20141317105264114,
           0.38837235101706136,
           0.5869627944413911,
           0.7907103570985019,
           0.992695449836068,
           1.1858438330909473,
           1.3632295064019535,
           1.518375390968938,
           1.6455374774968983,
           1.7399588071171015,
           1.7980810383563555,
           1.8177033600622243,
           1.7980810383563555,
           1.7399588071171015,
           1.6455374774968983,
           1.518375390968938,
           1.3632295064019535,
           1.1858438330909473,
           0.992695449836068,
           0.7907103570985019,
           0.5869627944413911,
           0.38837235101706136,
           0.20141317105264114,
           0.03184881503912622,
           -0.11549507625799743,
           -0.23691017597600564,
           -0.32992927901128904,
           -0.39338972722403176,
           -0.4274347075936389,
           -0.4334537754581445,
           -0.41396693622794944,
           -0.37245933283868765,
           -0.31317589634427284,
           -0.24088710992360066,
           -0.16063822727306362,
           -0.07749482277960204,
           0.0037025838949493145,
           0.07856287339249271,
           0.1433370736825879,
           0.19507084218595108,
           0.2317103248693539,
           0.252157618714697,
           0.2562747828163765,
           0.24483804991090946,
           0.21944644111666822,
           0.18239124981424537,
           0.13649472168344115,
           0.08492762656935865,
           0.031016232090896562,
           -0.021950582012676394,
           -0.07090368426500879
          ],
          [
           -0.1164544699167505,
           -0.0750007897964791,
           -0.026665677985416577,
           0.025921773001301992,
           0.07974244535617742,
           0.13154597877649798,
           0.17802983029511174,
           0.21602931256266372,
           0.242708395806646,
           0.2557406839380664,
           0.25347017586536014,
           0.23504220166614895,
           0.20049625055173417,
           0.15081422331281308,
           0.08791985781076668,
           0.014627580006334946,
           -0.06545830501430487,
           -0.14809048863531396,
           -0.22856545626592412,
           -0.30194177876754097,
           -0.3632795822101567,
           -0.407889497747319,
           -0.43157859884674826,
           -0.4308806796227811,
           -0.40325873487122593,
           -0.3472686537517362,
           -0.2626748843273063,
           -0.15051108239111077,
           -0.0130814139378774,
           0.14609889758077332,
           0.32242214992953067,
           0.5103612401471838,
           0.7036898157513979,
           0.8957396184216221,
           1.0796831610910465,
           1.2488284837498442,
           1.3969119972732167,
           1.518375390968938,
           1.608613254431116,
           1.6641794167481594,
           1.682941969615793,
           1.6641794167481594,
           1.608613254431116,
           1.518375390968938,
           1.3969119972732167,
           1.2488284837498442,
           1.0796831610910465,
           0.8957396184216221,
           0.7036898157513979,
           0.5103612401471838,
           0.32242214992953067,
           0.14609889758077332,
           -0.0130814139378774,
           -0.15051108239111077,
           -0.2626748843273063,
           -0.3472686537517362,
           -0.40325873487122593,
           -0.4308806796227811,
           -0.43157859884674826,
           -0.407889497747319,
           -0.3632795822101567,
           -0.30194177876754097,
           -0.22856545626592412,
           -0.14809048863531396,
           -0.06545830501430487,
           0.014627580006334946,
           0.08791985781076668,
           0.15081422331281308,
           0.20049625055173417,
           0.23504220166614895,
           0.25347017586536014,
           0.2557406839380664,
           0.242708395806646,
           0.21602931256266372,
           0.17802983029511174,
           0.13154597877649798,
           0.07974244535617742,
           0.025921773001301992,
           -0.026665677985416577,
           -0.0750007897964791
          ],
          [
           -0.12058300781296416,
           -0.08017262722723162,
           -0.032657564269347995,
           0.019407660252202565,
           0.07306884206017318,
           0.12512633286074154,
           0.17230988766358785,
           0.21146505144444128,
           0.23974108638511749,
           0.25477004091850136,
           0.2548267267047997,
           0.23896010343988033,
           0.2070878465419809,
           0.16004763127913005,
           0.09960082298540655,
           0.02838670735216783,
           -0.050171999808914604,
           -0.132008995765264,
           -0.2125937105436689,
           -0.28714197491104243,
           -0.35084804028714445,
           -0.3991265770886398,
           -0.42785247459104203,
           -0.4335860886421158,
           -0.4137720534188708,
           -0.36690087535799776,
           -0.2926242127644853,
           -0.19181693290541052,
           -0.06658162124929747,
           0.07980593576993696,
           0.24300880867803662,
           0.4177941096414197,
           0.5982441516081277,
           0.7780040258931075,
           0.9505541014891831,
           1.1094945766040856,
           1.2488284837498442,
           1.3632295064019535,
           1.4482816142111579,
           1.500678835049543,
           1.518375390968938,
           1.500678835049543,
           1.4482816142111579,
           1.3632295064019535,
           1.2488284837498442,
           1.1094945766040856,
           0.9505541014891831,
           0.7780040258931075,
           0.5982441516081277,
           0.4177941096414197,
           0.24300880867803662,
           0.07980593576993696,
           -0.06658162124929747,
           -0.19181693290541052,
           -0.2926242127644853,
           -0.36690087535799776,
           -0.4137720534188708,
           -0.4335860886421158,
           -0.42785247459104203,
           -0.3991265770886398,
           -0.35084804028714445,
           -0.28714197491104243,
           -0.2125937105436689,
           -0.132008995765264,
           -0.050171999808914604,
           0.02838670735216783,
           0.09960082298540655,
           0.16004763127913005,
           0.2070878465419809,
           0.23896010343988033,
           0.2548267267047997,
           0.25477004091850136,
           0.23974108638511749,
           0.21146505144444128,
           0.17230988766358785,
           0.12512633286074154,
           0.07306884206017318,
           0.019407660252202565,
           -0.032657564269347995,
           -0.08017262722723162
          ],
          [
           -0.1254554756233313,
           -0.08634370978474622,
           -0.039868134180728126,
           0.011507919583092052,
           0.0649104168254659,
           0.11720338291232232,
           0.16515865057394133,
           0.20563779959612533,
           0.23577655069724138,
           0.2531614457800734,
           0.2559887694405144,
           0.2431963471432226,
           0.21456006847846779,
           0.17074867404778504,
           0.11333242903336226,
           0.044743679368913644,
           -0.03181017613329085,
           -0.11247819731414006,
           -0.1929363397545002,
           -0.268589046149572,
           -0.33479237619194996,
           -0.38708768931988075,
           -0.42143408131469146,
           -0.43442757176285574,
           -0.42349546556438716,
           -0.38705535500366767,
           -0.324629843053556,
           -0.23691017597600564,
           -0.1257644689695074,
           0.005811034304373925,
           0.1537963512162099,
           0.3133036361206578,
           0.47877771528316515,
           0.6442321103834694,
           0.803509484779075,
           0.9505541014891831,
           1.0796831610910465,
           1.1858438330909473,
           1.2648434125627805,
           1.3135412961886945,
           1.3299933154720727,
           1.3135412961886945,
           1.2648434125627805,
           1.1858438330909473,
           1.0796831610910465,
           0.9505541014891831,
           0.803509484779075,
           0.6442321103834694,
           0.47877771528316515,
           0.3133036361206578,
           0.1537963512162099,
           0.005811034304373925,
           -0.1257644689695074,
           -0.23691017597600564,
           -0.324629843053556,
           -0.38705535500366767,
           -0.42349546556438716,
           -0.43442757176285574,
           -0.42143408131469146,
           -0.38708768931988075,
           -0.33479237619194996,
           -0.268589046149572,
           -0.1929363397545002,
           -0.11247819731414006,
           -0.03181017613329085,
           0.044743679368913644,
           0.11333242903336226,
           0.17074867404778504,
           0.21456006847846779,
           0.2431963471432226,
           0.2559887694405144,
           0.2531614457800734,
           0.23577655069724138,
           0.20563779959612533,
           0.16515865057394133,
           0.11720338291232232,
           0.0649104168254659,
           0.011507919583092052,
           -0.039868134180728126,
           -0.08634370978474622
          ],
          [
           -0.13096468174943518,
           -0.09341816596346665,
           -0.04822085787410071,
           0.0022716100207446164,
           0.05528095770522729,
           0.10774865812501504,
           0.15649972810645998,
           0.19841943861188654,
           0.23063350923189954,
           0.2506818889186662,
           0.2566762997375786,
           0.24743234013685533,
           0.2225680860000738,
           0.18256273925541686,
           0.12877087581897034,
           0.06339013493636744,
           -0.010617349295218181,
           -0.08964697741323371,
           -0.1696119802323752,
           -0.24613461781837798,
           -0.31475910259630246,
           -0.37117570680030565,
           -0.41144469052055266,
           -0.43220845214435083,
           -0.4308806796227811,
           -0.40580225753498556,
           -0.35635521764627226,
           -0.28302803533990717,
           -0.187427969950852,
           -0.0722388011028484,
           0.05887491198907235,
           0.20141317105264114,
           0.35022902170777614,
           0.49975144871271493,
           0.6442321103834694,
           0.7780040258931075,
           0.8957396184216221,
           0.992695449836068,
           1.0649315658049785,
           1.1094945766040856,
           1.124555367855928,
           1.1094945766040856,
           1.0649315658049785,
           0.992695449836068,
           0.8957396184216221,
           0.7780040258931075,
           0.6442321103834694,
           0.49975144871271493,
           0.35022902170777614,
           0.20141317105264114,
           0.05887491198907235,
           -0.0722388011028484,
           -0.187427969950852,
           -0.28302803533990717,
           -0.35635521764627226,
           -0.40580225753498556,
           -0.4308806796227811,
           -0.43220845214435083,
           -0.41144469052055266,
           -0.37117570680030565,
           -0.31475910259630246,
           -0.24613461781837798,
           -0.1696119802323752,
           -0.08964697741323371,
           -0.010617349295218181,
           0.06339013493636744,
           0.12877087581897034,
           0.18256273925541686,
           0.2225680860000738,
           0.24743234013685533,
           0.2566762997375786,
           0.2506818889186662,
           0.23063350923189954,
           0.19841943861188654,
           0.15649972810645998,
           0.10774865812501504,
           0.05528095770522729,
           0.0022716100207446164,
           -0.04822085787410071,
           -0.09341816596346665
          ],
          [
           -0.13698176393514344,
           -0.10127808535368477,
           -0.05761803324395176,
           -0.00823327044894154,
           0.044209509361482956,
           0.09674378883254962,
           0.14626024334832619,
           0.18967745729212915,
           0.22411724822563847,
           0.24707500803079696,
           0.256575492104657,
           0.25130504004127213,
           0.23071227369415245,
           0.19507084218595108,
           0.14549969299473817,
           0.08393854575868848,
           0.013078615468659323,
           -0.06374895250625122,
           -0.1427221428215067,
           -0.21970771693043264,
           -0.29046275344788247,
           -0.35084804028714445,
           -0.3970424421347404,
           -0.42574709936268906,
           -0.43436863670247905,
           -0.421171462695804,
           -0.3853906832849483,
           -0.32729906443176787,
           -0.24822376277499153,
           -0.15051108239111077,
           -0.03744017720227128,
           0.08691073780520595,
           0.21783961811686398,
           0.35022902170777614,
           0.47877771528316515,
           0.5982441516081277,
           0.7036898157513979,
           0.7907103570985019,
           0.8556429685382863,
           0.8957396184216221,
           0.9092974268256817,
           0.8957396184216221,
           0.8556429685382863,
           0.7907103570985019,
           0.7036898157513979,
           0.5982441516081277,
           0.47877771528316515,
           0.35022902170777614,
           0.21783961811686398,
           0.08691073780520595,
           -0.03744017720227128,
           -0.15051108239111077,
           -0.24822376277499153,
           -0.32729906443176787,
           -0.3853906832849483,
           -0.421171462695804,
           -0.43436863670247905,
           -0.42574709936268906,
           -0.3970424421347404,
           -0.35084804028714445,
           -0.29046275344788247,
           -0.21970771693043264,
           -0.1427221428215067,
           -0.06374895250625122,
           0.013078615468659323,
           0.08393854575868848,
           0.14549969299473817,
           0.19507084218595108,
           0.23071227369415245,
           0.25130504004127213,
           0.256575492104657,
           0.24707500803079696,
           0.22411724822563847,
           0.18967745729212915,
           0.14626024334832619,
           0.09674378883254962,
           0.044209509361482956,
           -0.00823327044894154,
           -0.05761803324395176,
           -0.10127808535368477
          ],
          [
           -0.14335579129849668,
           -0.10978201113265723,
           -0.06793803188546253,
           -0.019915691575644292,
           0.031745840459068614,
           0.08418731130237875,
           0.13437885433763305,
           0.1792839709402817,
           0.21602931256266372,
           0.2420710146043941,
           0.255348298963932,
           0.25441554164532254,
           0.23854497801642713,
           0.20779364608280457,
           0.1630299764243758,
           0.10591753298818528,
           0.03885568116655977,
           -0.03512071345143313,
           -0.11247819731414006,
           -0.18935183535374994,
           -0.2617343483375656,
           -0.32567778292945404,
           -0.37749737145928347,
           -0.41396693622794944,
           -0.43249545715781157,
           -0.4312752446188071,
           -0.4093935036702951,
           -0.36690087535799776,
           -0.30483270332925,
           -0.22518118755916025,
           -0.13081912452072303,
           -0.025378460035175753,
           0.08691073780520595,
           0.20141317105264114,
           0.3133036361206578,
           0.4177941096414197,
           0.5103612401471838,
           0.5869627944413911,
           0.6442321103834694,
           0.6796406846183429,
           0.69162061945593,
           0.6796406846183429,
           0.6442321103834694,
           0.5869627944413911,
           0.5103612401471838,
           0.4177941096414197,
           0.3133036361206578,
           0.20141317105264114,
           0.08691073780520595,
           -0.025378460035175753,
           -0.13081912452072303,
           -0.22518118755916025,
           -0.30483270332925,
           -0.36690087535799776,
           -0.4093935036702951,
           -0.4312752446188071,
           -0.43249545715781157,
           -0.41396693622794944,
           -0.37749737145928347,
           -0.32567778292945404,
           -0.2617343483375656,
           -0.18935183535374994,
           -0.11247819731414006,
           -0.03512071345143313,
           0.03885568116655977,
           0.10591753298818528,
           0.1630299764243758,
           0.20779364608280457,
           0.23854497801642713,
           0.25441554164532254,
           0.255348298963932,
           0.2420710146043941,
           0.21602931256266372,
           0.1792839709402817,
           0.13437885433763305,
           0.08418731130237875,
           0.031745840459068614,
           -0.019915691575644292,
           -0.06793803188546253,
           -0.10978201113265723
          ],
          [
           -0.1499137997580331,
           -0.11876378051842666,
           -0.07903277128303789,
           -0.032657564269347995,
           0.017966041941118966,
           0.07010183827093616,
           0.12081441070397907,
           0.16712567793535366,
           0.2061784643801796,
           0.23539823538075702,
           0.25264402764959015,
           0.2563400102730029,
           0.2455799958764798,
           0.22019854657881394,
           0.18080401871815463,
           0.12877087581897034,
           0.0661907655654817,
           -0.004215913110515241,
           -0.0792240541655952,
           -0.15525760655490364,
           -0.22856545626592412,
           -0.29541051237375787,
           -0.35226222727992795,
           -0.39598244357893553,
           -0.42399466300627076,
           -0.43442757176285574,
           -0.42622489689420734,
           -0.39921534828629784,
           -0.3541384336243295,
           -0.2926242127644853,
           -0.21712746254366178,
           -0.13081912452072303,
           -0.03744017720227128,
           0.05887491198907235,
           0.1537963512162099,
           0.24300880867803662,
           0.32242214992953067,
           0.38837235101706136,
           0.43780226922078175,
           0.4684129583840573,
           0.47877771528316515,
           0.4684129583840573,
           0.43780226922078175,
           0.38837235101706136,
           0.32242214992953067,
           0.24300880867803662,
           0.1537963512162099,
           0.05887491198907235,
           -0.03744017720227128,
           -0.13081912452072303,
           -0.21712746254366178,
           -0.2926242127644853,
           -0.3541384336243295,
           -0.39921534828629784,
           -0.42622489689420734,
           -0.43442757176285574,
           -0.42399466300627076,
           -0.39598244357893553,
           -0.35226222727992795,
           -0.29541051237375787,
           -0.22856545626592412,
           -0.15525760655490364,
           -0.0792240541655952,
           -0.004215913110515241,
           0.0661907655654817,
           0.12877087581897034,
           0.18080401871815463,
           0.22019854657881394,
           0.2455799958764798,
           0.2563400102730029,
           0.25264402764959015,
           0.23539823538075702,
           0.2061784643801796,
           0.16712567793535366,
           0.12081441070397907,
           0.07010183827093616,
           0.017966041941118966,
           -0.032657564269347995,
           -0.07903277128303789,
           -0.11876378051842666
          ],
          [
           -0.15646143337355978,
           -0.12803192632998142,
           -0.0907256642328181,
           -0.046310064114579955,
           0.0029779491154211806,
           0.054541276561040686,
           0.10555493165712146,
           0.15311446345017118,
           0.1943926655354523,
           0.22679610352037188,
           0.24811283911536614,
           0.2566430509401283,
           0.25130504004127213,
           0.2317103248693539,
           0.1982031145119569,
           0.15186131748507978,
           0.09445829662141196,
           0.02838670735216783,
           -0.043452159632214875,
           -0.1177881852505473,
           -0.19114437378651342,
           -0.26001264723920775,
           -0.3210343185560354,
           -0.37117570680030565,
           -0.407889497747319,
           -0.42925310491460716,
           -0.434076417833265,
           -0.42197287899622543,
           -0.39338972722403176,
           -0.3495953826561967,
           -0.2926242127644853,
           -0.22518118755916025,
           -0.15051108239111077,
           -0.0722388011028484,
           0.005811034304373925,
           0.07980593576993696,
           0.14609889758077332,
           0.20141317105264114,
           0.24300880867803662,
           0.2688222513075441,
           0.277571630583514,
           0.2688222513075441,
           0.24300880867803662,
           0.20141317105264114,
           0.14609889758077332,
           0.07980593576993696,
           0.005811034304373925,
           -0.0722388011028484,
           -0.15051108239111077,
           -0.22518118755916025,
           -0.2926242127644853,
           -0.3495953826561967,
           -0.39338972722403176,
           -0.42197287899622543,
           -0.434076417833265,
           -0.42925310491460716,
           -0.407889497747319,
           -0.37117570680030565,
           -0.3210343185560354,
           -0.26001264723920775,
           -0.19114437378651342,
           -0.1177881852505473,
           -0.043452159632214875,
           0.02838670735216783,
           0.09445829662141196,
           0.15186131748507978,
           0.1982031145119569,
           0.2317103248693539,
           0.25130504004127213,
           0.2566430509401283,
           0.24811283911536614,
           0.22679610352037188,
           0.1943926655354523,
           0.15311446345017118,
           0.10555493165712146,
           0.054541276561040686,
           0.0029779491154211806,
           -0.046310064114579955,
           -0.0907256642328181,
           -0.12803192632998142
          ],
          [
           -0.16278435980926842,
           -0.13736985507049018,
           -0.10281030706494565,
           -0.060690608986011814,
           -0.013073952151520388,
           0.03759772656874239,
           0.08862652853638416,
           0.13719827990417027,
           0.18053174205108255,
           0.21602931256266372,
           0.24142096714711753,
           0.254893432701845,
           0.25519727019112654,
           0.24172565029557566,
           0.21456006847846779,
           0.17447999195279823,
           0.12293536517635703,
           0.06198291759831892,
           -0.005810793613848673,
           -0.07749482277960204,
           -0.14988136590815446,
           -0.21970771693043264,
           -0.2838041182964338,
           -0.3392585664190622,
           -0.3835697098652554,
           -0.4147795406040892,
           -0.43157859884674826,
           -0.4333778373354074,
           -0.4203430458705095,
           -0.39338972722403176,
           -0.3541384336243295,
           -0.30483270332925,
           -0.24822376277499153,
           -0.187427969950852,
           -0.1257644689695074,
           -0.06658162124929747,
           -0.0130814139378774,
           0.03184881503912622,
           0.0657883626364726,
           0.08691073780520595,
           0.0940800053732448,
           0.08691073780520595,
           0.0657883626364726,
           0.03184881503912622,
           -0.0130814139378774,
           -0.06658162124929747,
           -0.1257644689695074,
           -0.187427969950852,
           -0.24822376277499153,
           -0.30483270332925,
           -0.3541384336243295,
           -0.39338972722403176,
           -0.4203430458705095,
           -0.4333778373354074,
           -0.43157859884674826,
           -0.4147795406040892,
           -0.3835697098652554,
           -0.3392585664190622,
           -0.2838041182964338,
           -0.21970771693043264,
           -0.14988136590815446,
           -0.07749482277960204,
           -0.005810793613848673,
           0.06198291759831892,
           0.12293536517635703,
           0.17447999195279823,
           0.21456006847846779,
           0.24172565029557566,
           0.25519727019112654,
           0.254893432701845,
           0.24142096714711753,
           0.21602931256266372,
           0.18053174205108255,
           0.13719827990417027,
           0.08862652853638416,
           0.03759772656874239,
           -0.013073952151520388,
           -0.060690608986011814,
           -0.10281030706494565,
           -0.13736985507049018
          ],
          [
           -0.16865061331126227,
           -0.14653700801271363,
           -0.11505016730310495,
           -0.07558080422426758,
           -0.030004497243790427,
           0.019407660252202565,
           0.07010183827093616,
           0.11937185506223688,
           0.16450028494360933,
           0.20290271423033404,
           0.23226729318028777,
           0.2506818889186662,
           0.2567417315441088,
           0.24963143467045815,
           0.22917661128094333,
           0.19586192453391038,
           0.15081422331281308,
           0.0957513146109,
           0.032898814044057145,
           -0.03512071345143313,
           -0.10542055787501849,
           -0.17499760171649797,
           -0.24088710992360066,
           -0.3003162506586467,
           -0.35084804028714445,
           -0.3905078789395116,
           -0.417885750201407,
           -0.43220845214435083,
           -0.4333778373354074,
           -0.42197287899622543,
           -0.39921534828629784,
           -0.36690087535799776,
           -0.32729906443176787,
           -0.28302803533990717,
           -0.23691017597600564,
           -0.19181693290541052,
           -0.15051108239111077,
           -0.11549507625799743,
           -0.08887373699192957,
           -0.0722388011028484,
           -0.06658162124929747,
           -0.0722388011028484,
           -0.08887373699192957,
           -0.11549507625799743,
           -0.15051108239111077,
           -0.19181693290541052,
           -0.23691017597600564,
           -0.28302803533990717,
           -0.32729906443176787,
           -0.36690087535799776,
           -0.39921534828629784,
           -0.42197287899622543,
           -0.4333778373354074,
           -0.43220845214435083,
           -0.417885750201407,
           -0.3905078789395116,
           -0.35084804028714445,
           -0.3003162506586467,
           -0.24088710992360066,
           -0.17499760171649797,
           -0.10542055787501849,
           -0.03512071345143313,
           0.032898814044057145,
           0.0957513146109,
           0.15081422331281308,
           0.19586192453391038,
           0.22917661128094333,
           0.24963143467045815,
           0.2567417315441088,
           0.2506818889186662,
           0.23226729318028777,
           0.20290271423033404,
           0.16450028494360933,
           0.11937185506223688,
           0.07010183827093616,
           0.019407660252202565,
           -0.030004497243790427,
           -0.07558080422426758,
           -0.11505016730310495,
           -0.14653700801271363
          ],
          [
           -0.1738139924448547,
           -0.15527119023634722,
           -0.1271795169340972,
           -0.0907256642328181,
           -0.04758506314163741,
           0.0001569493213448689,
           0.05010748884225075,
           0.09968670899986165,
           0.14626024334832619,
           0.18727640924644018,
           0.22040074178662336,
           0.24364050109720906,
           0.2554522819126627,
           0.2548267267047997,
           0.2413455569066888,
           0.2152076253393881,
           0.17722237538812438,
           0.12877087581897034,
           0.07173638515428266,
           0.00840808631479302,
           -0.05863687417657578,
           -0.12666669235949252,
           -0.1929363397545002,
           -0.254829433326894,
           -0.309992807249447,
           -0.3564564355250057,
           -0.39273214882544505,
           -0.417885750201407,
           -0.43157859884674826,
           -0.434076417833265,
           -0.42622489689420734,
           -0.4093935036702951,
           -0.3853906832849483,
           -0.35635521764627226,
           -0.324629843053556,
           -0.2926242127644853,
           -0.2626748843273063,
           -0.23691017597600564,
           -0.21712746254366178,
           -0.20468978410715197,
           -0.20044755867978276,
           -0.20468978410715197,
           -0.21712746254366178,
           -0.23691017597600564,
           -0.2626748843273063,
           -0.2926242127644853,
           -0.324629843053556,
           -0.35635521764627226,
           -0.3853906832849483,
           -0.4093935036702951,
           -0.42622489689420734,
           -0.434076417833265,
           -0.43157859884674826,
           -0.417885750201407,
           -0.39273214882544505,
           -0.3564564355250057,
           -0.309992807249447,
           -0.254829433326894,
           -0.1929363397545002,
           -0.12666669235949252,
           -0.05863687417657578,
           0.00840808631479302,
           0.07173638515428266,
           0.12877087581897034,
           0.17722237538812438,
           0.2152076253393881,
           0.2413455569066888,
           0.2548267267047997,
           0.2554522819126627,
           0.24364050109720906,
           0.22040074178662336,
           0.18727640924644018,
           0.14626024334832619,
           0.09968670899986165,
           0.05010748884225075,
           0.0001569493213448689,
           -0.04758506314163741,
           -0.0907256642328181,
           -0.1271795169340972,
           -0.15527119023634722
          ],
          [
           -0.17801860199902664,
           -0.16329221750830802,
           -0.13890582780165694,
           -0.10583439818051152,
           -0.06554239869174844,
           -0.019915691575644292,
           0.02883009042098063,
           0.07825990831739421,
           0.1258425822940911,
           0.16908036038891633,
           0.20563779959612533,
           0.23346296309158113,
           0.2508943222213973,
           0.25674750760048576,
           0.25037713957121355,
           0.2317103248693539,
           0.20124995852555586,
           0.16004763127913005,
           0.1096476200446325,
           0.05200503792795912,
           -0.010617349295218181,
           -0.0757679524450742,
           -0.1409342819269669,
           -0.2036729142303004,
           -0.2617343483375656,
           -0.31317589634427284,
           -0.3564564355250057,
           -0.3905078789395116,
           -0.4147795406040892,
           -0.42925310491460716,
           -0.43442757176285574,
           -0.4312752446188071,
           -0.421171462695804,
           -0.40580225753498556,
           -0.38705535500366767,
           -0.36690087535799776,
           -0.3472686537517362,
           -0.32992927901128904,
           -0.3163857196862348,
           -0.3077817863653888,
           -0.30483270332925,
           -0.3077817863653888,
           -0.3163857196862348,
           -0.32992927901128904,
           -0.3472686537517362,
           -0.36690087535799776,
           -0.38705535500366767,
           -0.40580225753498556,
           -0.421171462695804,
           -0.4312752446188071,
           -0.43442757176285574,
           -0.42925310491460716,
           -0.4147795406040892,
           -0.3905078789395116,
           -0.3564564355250057,
           -0.31317589634427284,
           -0.2617343483375656,
           -0.2036729142303004,
           -0.1409342819269669,
           -0.0757679524450742,
           -0.010617349295218181,
           0.05200503792795912,
           0.1096476200446325,
           0.16004763127913005,
           0.20124995852555586,
           0.2317103248693539,
           0.25037713957121355,
           0.25674750760048576,
           0.2508943222213973,
           0.23346296309158113,
           0.20563779959612533,
           0.16908036038891633,
           0.1258425822940911,
           0.07825990831739421,
           0.02883009042098063,
           -0.019915691575644292,
           -0.06554239869174844,
           -0.10583439818051152,
           -0.13890582780165694,
           -0.16329221750830802
          ],
          [
           -0.18100457917857166,
           -0.17030698199702413,
           -0.1499137997580331,
           -0.12058300781296416,
           -0.08355939645450051,
           -0.040517266401149735,
           0.0065202421682302655,
           0.05528095770522729,
           0.10335731863015635,
           0.14832776112580212,
           0.18787932061729182,
           0.21992483146863692,
           0.242708395806646,
           0.254893432701845,
           0.25562857790064414,
           0.24458792842044305,
           0.22198354690007724,
           0.18854967763954522,
           0.14549969299473817,
           0.09445829662141196,
           0.037372873633869375,
           -0.02359098016854476,
           -0.08616386191642225,
           -0.14809048863531396,
           -0.20724458052139974,
           -0.2617343483375656,
           -0.309992807249447,
           -0.35084804028714445,
           -0.3835697098652554,
           -0.407889497747319,
           -0.42399466300627076,
           -0.43249545715781157,
           -0.43436863670247905,
           -0.4308806796227811,
           -0.42349546556438716,
           -0.4137720534188708,
           -0.40325873487122593,
           -0.39338972722403176,
           -0.3853906832849483,
           -0.3801986514917913,
           -0.3784012476539641,
           -0.3801986514917913,
           -0.3853906832849483,
           -0.39338972722403176,
           -0.40325873487122593,
           -0.4137720534188708,
           -0.42349546556438716,
           -0.4308806796227811,
           -0.43436863670247905,
           -0.43249545715781157,
           -0.42399466300627076,
           -0.407889497747319,
           -0.3835697098652554,
           -0.35084804028714445,
           -0.309992807249447,
           -0.2617343483375656,
           -0.20724458052139974,
           -0.14809048863531396,
           -0.08616386191642225,
           -0.02359098016854476,
           0.037372873633869375,
           0.09445829662141196,
           0.14549969299473817,
           0.18854967763954522,
           0.22198354690007724,
           0.24458792842044305,
           0.25562857790064414,
           0.254893432701845,
           0.242708395806646,
           0.21992483146863692,
           0.18787932061729182,
           0.14832776112580212,
           0.10335731863015635,
           0.05528095770522729,
           0.0065202421682302655,
           -0.040517266401149735,
           -0.08355939645450051,
           -0.12058300781296416,
           -0.1499137997580331,
           -0.17030698199702413
          ],
          [
           -0.18251498442862385,
           -0.1760159755489718,
           -0.15987112992755653,
           -0.13461888616197776,
           -0.10127808535368477,
           -0.061301442485772274,
           -0.016505930263581485,
           0.031016232090896562,
           0.07900122348247962,
           0.12512633286074154,
           0.16712567793535366,
           0.20290271423033404,
           0.23063350923189954,
           0.24885528388828942,
           0.25653555744366946,
           0.25311832399967577,
           0.23854497801642713,
           0.21324911772700825,
           0.17812580971586786,
           0.134477311926808,
           0.08393854575868848,
           0.02838670735216783,
           -0.030159748399708135,
           -0.08964697741323371,
           -0.14809048863531396,
           -0.2036729142303004,
           -0.254829433326894,
           -0.3003162506586467,
           -0.3392585664190622,
           -0.37117570680030565,
           -0.39598244357893553,
           -0.41396693622794944,
           -0.42574709936268906,
           -0.43220845214435083,
           -0.43442757176285574,
           -0.4335860886421158,
           -0.4308806796227811,
           -0.4274347075936389,
           -0.42421701152445723,
           -0.42197287899622543,
           -0.421171462695804,
           -0.42197287899622543,
           -0.42421701152445723,
           -0.4274347075936389,
           -0.4308806796227811,
           -0.4335860886421158,
           -0.43442757176285574,
           -0.43220845214435083,
           -0.42574709936268906,
           -0.41396693622794944,
           -0.39598244357893553,
           -0.37117570680030565,
           -0.3392585664190622,
           -0.3003162506586467,
           -0.254829433326894,
           -0.2036729142303004,
           -0.14809048863531396,
           -0.08964697741323371,
           -0.030159748399708135,
           0.02838670735216783,
           0.08393854575868848,
           0.134477311926808,
           0.17812580971586786,
           0.21324911772700825,
           0.23854497801642713,
           0.25311832399967577,
           0.25653555744366946,
           0.24885528388828942,
           0.23063350923189954,
           0.20290271423033404,
           0.16712567793535366,
           0.12512633286074154,
           0.07900122348247962,
           0.031016232090896562,
           -0.016505930263581485,
           -0.061301442485772274,
           -0.10127808535368477,
           -0.13461888616197776,
           -0.15987112992755653,
           -0.1760159755489718
          ],
          [
           -0.18230376872794093,
           -0.18012123502583363,
           -0.16843605361995675,
           -0.14756752732225356,
           -0.11830504740258321,
           -0.08187218787401292,
           -0.039868134180728126,
           0.0058103924762656495,
           0.05306249567952219,
           0.09968670899986165,
           0.14348926836260514,
           0.18239124981424537,
           0.2145288714461612,
           0.2383416766936446,
           0.25264402764959015,
           0.2566762997375786,
           0.25013332713993036,
           0.23316893482082693,
           0.2063767337439853,
           0.17074867404778504,
           0.12761407121954643,
           0.07856287339249271,
           0.02535776443828009,
           -0.030159748399708135,
           -0.08616386191642225,
           -0.1409342819269669,
           -0.1929363397545002,
           -0.24088710992360066,
           -0.2838041182964338,
           -0.3210343185560354,
           -0.35226222727992795,
           -0.37749737145928347,
           -0.3970424421347404,
           -0.41144469052055266,
           -0.42143408131469146,
           -0.42785247459104203,
           -0.43157859884674826,
           -0.4334537754581445,
           -0.434213248547002,
           -0.43442757176285574,
           -0.43445783007337646,
           -0.43442757176285574,
           -0.434213248547002,
           -0.4334537754581445,
           -0.43157859884674826,
           -0.42785247459104203,
           -0.42143408131469146,
           -0.41144469052055266,
           -0.3970424421347404,
           -0.37749737145928347,
           -0.35226222727992795,
           -0.3210343185560354,
           -0.2838041182964338,
           -0.24088710992360066,
           -0.1929363397545002,
           -0.1409342819269669,
           -0.08616386191642225,
           -0.030159748399708135,
           0.02535776443828009,
           0.07856287339249271,
           0.12761407121954643,
           0.17074867404778504,
           0.2063767337439853,
           0.23316893482082693,
           0.25013332713993036,
           0.2566762997375786,
           0.25264402764959015,
           0.2383416766936446,
           0.2145288714461612,
           0.18239124981424537,
           0.14348926836260514,
           0.09968670899986165,
           0.05306249567952219,
           0.0058103924762656495,
           -0.039868134180728126,
           -0.08187218787401292,
           -0.11830504740258321,
           -0.14756752732225356,
           -0.16843605361995675,
           -0.18012123502583363
          ],
          [
           -0.1801446545297837,
           -0.18233559039097344,
           -0.1752665961050691,
           -0.15904136091487175,
           -0.13421936300715656,
           -0.10179031338845618,
           -0.0631265026963309,
           -0.019915691575644292,
           0.025921773001301992,
           0.07232710218505171,
           0.11720338291232232,
           0.15851669454452746,
           0.1943926655354523,
           0.2232034254780841,
           0.24364050109720906,
           0.25477004091850136,
           0.2560677827399544,
           0.24743234013685533,
           0.22917661128094333,
           0.20199833430642128,
           0.16693195814109418,
           0.12528500092613942,
           0.07856287339249271,
           0.02838670735216783,
           -0.02359098016854476,
           -0.0757679524450742,
           -0.12666669235949252,
           -0.17499760171649797,
           -0.21970771693043264,
           -0.26001264723920775,
           -0.29541051237375787,
           -0.32567778292945404,
           -0.35084804028714445,
           -0.37117570680030565,
           -0.38708768931988075,
           -0.3991265770886398,
           -0.407889497747319,
           -0.41396693622794944,
           -0.417885750201407,
           -0.4200602785751461,
           -0.4207548585159486,
           -0.4200602785751461,
           -0.417885750201407,
           -0.41396693622794944,
           -0.407889497747319,
           -0.3991265770886398,
           -0.38708768931988075,
           -0.37117570680030565,
           -0.35084804028714445,
           -0.32567778292945404,
           -0.29541051237375787,
           -0.26001264723920775,
           -0.21970771693043264,
           -0.17499760171649797,
           -0.12666669235949252,
           -0.0757679524450742,
           -0.02359098016854476,
           0.02838670735216783,
           0.07856287339249271,
           0.12528500092613942,
           0.16693195814109418,
           0.20199833430642128,
           0.22917661128094333,
           0.24743234013685533,
           0.2560677827399544,
           0.25477004091850136,
           0.24364050109720906,
           0.2232034254780841,
           0.1943926655354523,
           0.15851669454452746,
           0.11720338291232232,
           0.07232710218505171,
           0.025921773001301992,
           -0.019915691575644292,
           -0.0631265026963309,
           -0.10179031338845618,
           -0.13421936300715656,
           -0.15904136091487175,
           -0.1752665961050691,
           -0.18233559039097344
          ],
          [
           -0.17584069010379264,
           -0.18239300622958532,
           -0.1800313728705813,
           -0.16865061331126227,
           -0.14858307017251748,
           -0.12058300781296416,
           -0.0857896329957062,
           -0.045670869380806056,
           -0.001951040868825416,
           0.043473546354522816,
           0.08862652853638416,
           0.13154597877649798,
           0.17037647050011584,
           0.20345392533496165,
           0.22937894091767205,
           0.24707500803079696,
           0.25582893038458626,
           0.2553118000893658,
           0.2455799958764798,
           0.2270567942100705,
           0.20049625055173417,
           0.16693195814109418,
           0.12761407121954643,
           0.08393854575868848,
           0.037372873633869375,
           -0.010617349295218181,
           -0.05863687417657578,
           -0.10542055787501849,
           -0.14988136590815446,
           -0.19114437378651342,
           -0.22856545626592412,
           -0.2617343483375656,
           -0.29046275344788247,
           -0.31475910259630246,
           -0.33479237619194996,
           -0.35084804028714445,
           -0.3632795822101567,
           -0.37245933283868765,
           -0.3787322233669178,
           -0.382375848005458,
           -0.3835697098652554,
           -0.382375848005458,
           -0.3787322233669178,
           -0.37245933283868765,
           -0.3632795822101567,
           -0.35084804028714445,
           -0.33479237619194996,
           -0.31475910259630246,
           -0.29046275344788247,
           -0.2617343483375656,
           -0.22856545626592412,
           -0.19114437378651342,
           -0.14988136590815446,
           -0.10542055787501849,
           -0.05863687417657578,
           -0.010617349295218181,
           0.037372873633869375,
           0.08393854575868848,
           0.12761407121954643,
           0.16693195814109418,
           0.20049625055173417,
           0.2270567942100705,
           0.2455799958764798,
           0.2553118000893658,
           0.25582893038458626,
           0.24707500803079696,
           0.22937894091767205,
           0.20345392533496165,
           0.17037647050011584,
           0.13154597877649798,
           0.08862652853638416,
           0.043473546354522816,
           -0.001951040868825416,
           -0.045670869380806056,
           -0.0857896329957062,
           -0.12058300781296416,
           -0.14858307017251748,
           -0.16865061331126227,
           -0.1800313728705813,
           -0.18239300622958532
          ],
          [
           -0.16923416092386775,
           -0.1800597155006458,
           -0.18242166855756492,
           -0.1760159755489718,
           -0.1609539875623888,
           -0.1377563081818195,
           -0.10732612754693129,
           -0.07090368426500879,
           -0.030004497243790427,
           0.013655158230898757,
           0.058241427706856384,
           0.1018902143955224,
           0.14279404657238684,
           0.1792839709402817,
           0.20990234059772522,
           0.23346296309158113,
           0.24909585663212155,
           0.2562747828163765,
           0.2548267267047997,
           0.24492352037505036,
           0.2270567942100705,
           0.20199833430642128,
           0.17074867404778504,
           0.134477311926808,
           0.09445829662141196,
           0.05200503792795912,
           0.00840808631479302,
           -0.03512071345143313,
           -0.07749482277960204,
           -0.1177881852505473,
           -0.15525760655490364,
           -0.18935183535374994,
           -0.21970771693043264,
           -0.24613461781837798,
           -0.268589046149572,
           -0.28714197491104243,
           -0.30194177876754097,
           -0.31317589634427284,
           -0.3210343185560354,
           -0.32567778292945404,
           -0.32721314035298743,
           -0.32567778292945404,
           -0.3210343185560354,
           -0.31317589634427284,
           -0.30194177876754097,
           -0.28714197491104243,
           -0.268589046149572,
           -0.24613461781837798,
           -0.21970771693043264,
           -0.18935183535374994,
           -0.15525760655490364,
           -0.1177881852505473,
           -0.07749482277960204,
           -0.03512071345143313,
           0.00840808631479302,
           0.05200503792795912,
           0.09445829662141196,
           0.134477311926808,
           0.17074867404778504,
           0.20199833430642128,
           0.2270567942100705,
           0.24492352037505036,
           0.2548267267047997,
           0.2562747828163765,
           0.24909585663212155,
           0.23346296309158113,
           0.20990234059772522,
           0.1792839709402817,
           0.14279404657238684,
           0.1018902143955224,
           0.058241427706856384,
           0.013655158230898757,
           -0.030004497243790427,
           -0.07090368426500879,
           -0.10732612754693129,
           -0.1377563081818195,
           -0.1609539875623888,
           -0.1760159755489718,
           -0.18242166855756492,
           -0.1800597155006458
          ],
          [
           -0.16021647158282734,
           -0.1751457556394694,
           -0.1821644169794075,
           -0.18078273088932142,
           -0.17090060569317098,
           -0.1528102839666787,
           -0.1271795169340972,
           -0.0950164022704569,
           -0.05761803324395176,
           -0.016505930263581485,
           0.026648129724923395,
           0.07010183827093616,
           0.11212338767979044,
           0.15106960365711752,
           0.18545724476618586,
           0.21402402107025095,
           0.23577655069724138,
           0.25002327766855664,
           0.25639126767027576,
           0.2548267267047997,
           0.2455799958764798,
           0.22917661128094333,
           0.2063767337439853,
           0.17812580971586786,
           0.14549969299473817,
           0.1096476200446325,
           0.07173638515428266,
           0.032898814044057145,
           -0.005810793613848673,
           -0.043452159632214875,
           -0.0792240541655952,
           -0.11247819731414006,
           -0.1427221428215067,
           -0.1696119802323752,
           -0.1929363397545002,
           -0.2125937105436689,
           -0.22856545626592412,
           -0.24088710992360066,
           -0.24962054293732017,
           -0.254829433326894,
           -0.2565601183892334,
           -0.254829433326894,
           -0.24962054293732017,
           -0.24088710992360066,
           -0.22856545626592412,
           -0.2125937105436689,
           -0.1929363397545002,
           -0.1696119802323752,
           -0.1427221428215067,
           -0.11247819731414006,
           -0.0792240541655952,
           -0.043452159632214875,
           -0.005810793613848673,
           0.032898814044057145,
           0.07173638515428266,
           0.1096476200446325,
           0.14549969299473817,
           0.17812580971586786,
           0.2063767337439853,
           0.22917661128094333,
           0.2455799958764798,
           0.2548267267047997,
           0.25639126767027576,
           0.25002327766855664,
           0.23577655069724138,
           0.21402402107025095,
           0.18545724476618586,
           0.15106960365711752,
           0.11212338767979044,
           0.07010183827093616,
           0.026648129724923395,
           -0.016505930263581485,
           -0.05761803324395176,
           -0.0950164022704569,
           -0.1271795169340972,
           -0.1528102839666787,
           -0.17090060569317098,
           -0.18078273088932142,
           -0.1821644169794075,
           -0.1751457556394694
          ],
          [
           -0.1487375524385824,
           -0.16751643729146143,
           -0.17903560277058095,
           -0.1826358700412797,
           -0.17801860199902664,
           -0.16525654180237792,
           -0.14478624788034108,
           -0.11738288358628372,
           -0.08411903827788304,
           -0.046310064114579955,
           -0.005449066140771361,
           0.03686485131708162,
           0.07900122348247962,
           0.11937185506223688,
           0.15649972810645998,
           0.1890798565922851,
           0.21602931256266372,
           0.2365243422174828,
           0.25002327766855664,
           0.2562747828163765,
           0.2553118000893658,
           0.24743234013685533,
           0.23316893482082693,
           0.21324911772700825,
           0.18854967763954522,
           0.16004763127913005,
           0.12877087581897034,
           0.0957513146109,
           0.06198291759831892,
           0.02838670735216783,
           -0.004215913110515241,
           -0.03512071345143313,
           -0.06374895250625122,
           -0.08964697741323371,
           -0.11247819731414006,
           -0.132008995765264,
           -0.14809048863531396,
           -0.16063822727306362,
           -0.1696119802323752,
           -0.17499760171649797,
           -0.17679272260843765,
           -0.17499760171649797,
           -0.1696119802323752,
           -0.16063822727306362,
           -0.14809048863531396,
           -0.132008995765264,
           -0.11247819731414006,
           -0.08964697741323371,
           -0.06374895250625122,
           -0.03512071345143313,
           -0.004215913110515241,
           0.02838670735216783,
           0.06198291759831892,
           0.0957513146109,
           0.12877087581897034,
           0.16004763127913005,
           0.18854967763954522,
           0.21324911772700825,
           0.23316893482082693,
           0.24743234013685533,
           0.2553118000893658,
           0.2562747828163765,
           0.25002327766855664,
           0.2365243422174828,
           0.21602931256266372,
           0.1890798565922851,
           0.15649972810645998,
           0.11937185506223688,
           0.07900122348247962,
           0.03686485131708162,
           -0.005449066140771361,
           -0.046310064114579955,
           -0.08411903827788304,
           -0.11738288358628372,
           -0.14478624788034108,
           -0.16525654180237792,
           -0.17801860199902664,
           -0.1826358700412797,
           -0.17903560277058095,
           -0.16751643729146143
          ],
          [
           -0.13481430178982187,
           -0.15710321083861073,
           -0.17287351607260817,
           -0.18131560690315682,
           -0.18194839266053625,
           -0.17463748569481502,
           -0.15959621882048483,
           -0.13736985507049018,
           -0.10880422217787396,
           -0.0750007897964791,
           -0.03726086233570953,
           0.0029779491154211806,
           0.044209509361482956,
           0.08492762656935865,
           0.12369173187889267,
           0.15918658398472915,
           0.1902732638436695,
           0.21602931256266372,
           0.23577655069724138,
           0.24909585663212155,
           0.25582893038458626,
           0.2560677827399544,
           0.25013332713993036,
           0.23854497801642713,
           0.22198354690007724,
           0.20124995852555586,
           0.17722237538812438,
           0.15081422331281308,
           0.12293536517635703,
           0.09445829662141196,
           0.0661907655654817,
           0.03885568116655977,
           0.013078615468659323,
           -0.010617349295218181,
           -0.03181017613329085,
           -0.050171999808914604,
           -0.06545830501430487,
           -0.07749482277960204,
           -0.08616386191642225,
           -0.09139170665445415,
           -0.09313849939964196,
           -0.09139170665445415,
           -0.08616386191642225,
           -0.07749482277960204,
           -0.06545830501430487,
           -0.050171999808914604,
           -0.03181017613329085,
           -0.010617349295218181,
           0.013078615468659323,
           0.03885568116655977,
           0.0661907655654817,
           0.09445829662141196,
           0.12293536517635703,
           0.15081422331281308,
           0.17722237538812438,
           0.20124995852555586,
           0.22198354690007724,
           0.23854497801642713,
           0.25013332713993036,
           0.2560677827399544,
           0.25582893038458626,
           0.24909585663212155,
           0.23577655069724138,
           0.21602931256266372,
           0.1902732638436695,
           0.15918658398472915,
           0.12369173187889267,
           0.08492762656935865,
           0.044209509361482956,
           0.0029779491154211806,
           -0.03726086233570953,
           -0.0750007897964791,
           -0.10880422217787396,
           -0.13736985507049018,
           -0.15959621882048483,
           -0.17463748569481502,
           -0.18194839266053625,
           -0.18131560690315682,
           -0.17287351607260817,
           -0.15710321083861073
          ],
          [
           -0.11853755153953284,
           -0.14391335124448024,
           -0.163591222139663,
           -0.17663261032673944,
           -0.18239300622958532,
           -0.18054660691367944,
           -0.17109514979541934,
           -0.1543609103022869,
           -0.13096468174943518,
           -0.10179031338845618,
           -0.06793803188546253,
           -0.03066927919323432,
           0.008653858363151095,
           0.04863139306208121,
           0.0878871354792479,
           0.12512633286074154,
           0.15918658398472915,
           0.1890798565922851,
           0.21402402107025095,
           0.23346296309158113,
           0.24707500803079696,
           0.25477004091850136,
           0.2566762997375786,
           0.25311832399967577,
           0.24458792842044305,
           0.2317103248693539,
           0.2152076253393881,
           0.19586192453391038,
           0.17447999195279823,
           0.15186131748507978,
           0.12877087581897034,
           0.10591753298818528,
           0.08393854575868848,
           0.06339013493636744,
           0.044743679368913644,
           0.02838670735216783,
           0.014627580006334946,
           0.0037025838949493145,
           -0.004215913110515241,
           -0.009011537058698997,
           -0.010617349295218181,
           -0.009011537058698997,
           -0.004215913110515241,
           0.0037025838949493145,
           0.014627580006334946,
           0.02838670735216783,
           0.044743679368913644,
           0.06339013493636744,
           0.08393854575868848,
           0.10591753298818528,
           0.12877087581897034,
           0.15186131748507978,
           0.17447999195279823,
           0.19586192453391038,
           0.2152076253393881,
           0.2317103248693539,
           0.24458792842044305,
           0.25311832399967577,
           0.2566762997375786,
           0.25477004091850136,
           0.24707500803079696,
           0.23346296309158113,
           0.21402402107025095,
           0.1890798565922851,
           0.15918658398472915,
           0.12512633286074154,
           0.0878871354792479,
           0.04863139306208121,
           0.008653858363151095,
           -0.03066927919323432,
           -0.06793803188546253,
           -0.10179031338845618,
           -0.13096468174943518,
           -0.1543609103022869,
           -0.17109514979541934,
           -0.18054660691367944,
           -0.18239300622958532,
           -0.17663261032673944,
           -0.163591222139663,
           -0.14391335124448024
          ],
          [
           -0.10007704610444179,
           -0.12803786284735597,
           -0.1511875643863488,
           -0.16848219583369567,
           -0.17913546063850083,
           -0.18264893898060253,
           -0.1788278960809016,
           -0.16778234479339135,
           -0.1499137997580331,
           -0.1258888846262905,
           -0.09660159075517502,
           -0.0631265026963309,
           -0.026665677985416577,
           0.011507919583092052,
           0.05010748884225075,
           0.0878871354792479,
           0.12369173187889267,
           0.15649972810645998,
           0.18545724476618586,
           0.20990234059772522,
           0.22937894091767205,
           0.24364050109720906,
           0.25264402764959015,
           0.25653555744366946,
           0.25562857790064414,
           0.25037713957121355,
           0.2413455569066888,
           0.22917661128094333,
           0.21456006847846779,
           0.1982031145119569,
           0.18080401871815463,
           0.1630299764243758,
           0.14549969299473817,
           0.12877087581897034,
           0.11333242903336226,
           0.09960082298540655,
           0.08791985781076668,
           0.07856287339249271,
           0.07173638515428266,
           0.06758414818694233,
           0.0661907655654817,
           0.06758414818694233,
           0.07173638515428266,
           0.07856287339249271,
           0.08791985781076668,
           0.09960082298540655,
           0.11333242903336226,
           0.12877087581897034,
           0.14549969299473817,
           0.1630299764243758,
           0.18080401871815463,
           0.1982031145119569,
           0.21456006847846779,
           0.22917661128094333,
           0.2413455569066888,
           0.25037713957121355,
           0.25562857790064414,
           0.25653555744366946,
           0.25264402764959015,
           0.24364050109720906,
           0.22937894091767205,
           0.20990234059772522,
           0.18545724476618586,
           0.15649972810645998,
           0.12369173187889267,
           0.0878871354792479,
           0.05010748884225075,
           0.011507919583092052,
           -0.026665677985416577,
           -0.0631265026963309,
           -0.09660159075517502,
           -0.1258888846262905,
           -0.1499137997580331,
           -0.16778234479339135,
           -0.1788278960809016,
           -0.18264893898060253,
           -0.17913546063850083,
           -0.16848219583369567,
           -0.1511875643863488,
           -0.12803786284735597
          ],
          [
           -0.07968395387291566,
           -0.10965701691843574,
           -0.13575600794040762,
           -0.15685668268767797,
           -0.17205475511311313,
           -0.1807007071005138,
           -0.18242166855756492,
           -0.17712974307464055,
           -0.16501687105976595,
           -0.14653700801271363,
           -0.12237701362727325,
           -0.09341816596346665,
           -0.060690608986011814,
           -0.02532329427921568,
           0.011507919583092052,
           0.04863139306208121,
           0.08492762656935865,
           0.11937185506223688,
           0.15106960365711752,
           0.1792839709402817,
           0.20345392533496165,
           0.2232034254780841,
           0.2383416766936446,
           0.24885528388828942,
           0.254893432701845,
           0.25674750760048576,
           0.2548267267047997,
           0.24963143467045815,
           0.24172565029557566,
           0.2317103248693539,
           0.22019854657881394,
           0.20779364608280457,
           0.19507084218595108,
           0.18256273925541686,
           0.17074867404778504,
           0.16004763127913005,
           0.15081422331281308,
           0.1433370736825879,
           0.13783886506830845,
           0.134477311926808,
           0.1333463922312941,
           0.134477311926808,
           0.13783886506830845,
           0.1433370736825879,
           0.15081422331281308,
           0.16004763127913005,
           0.17074867404778504,
           0.18256273925541686,
           0.19507084218595108,
           0.20779364608280457,
           0.22019854657881394,
           0.2317103248693539,
           0.24172565029557566,
           0.24963143467045815,
           0.2548267267047997,
           0.25674750760048576,
           0.254893432701845,
           0.24885528388828942,
           0.2383416766936446,
           0.2232034254780841,
           0.20345392533496165,
           0.1792839709402817,
           0.15106960365711752,
           0.11937185506223688,
           0.08492762656935865,
           0.04863139306208121,
           0.011507919583092052,
           -0.02532329427921568,
           -0.060690608986011814,
           -0.09341816596346665,
           -0.12237701362727325,
           -0.14653700801271363,
           -0.16501687105976595,
           -0.17712974307464055,
           -0.18242166855756492,
           -0.1807007071005138,
           -0.17205475511311313,
           -0.15685668268767797,
           -0.13575600794040762,
           -0.10965701691843574
          ],
          [
           -0.05769048962428924,
           -0.08904297911487404,
           -0.11749065565570795,
           -0.14185512230149663,
           -0.16113955966514656,
           -0.17456713788189782,
           -0.18160802037610754,
           -0.18199408570471504,
           -0.17572115154133375,
           -0.16303912773542587,
           -0.14443111863131364,
           -0.12058300781296416,
           -0.09234546620178369,
           -0.060690608986011814,
           -0.026665677985416577,
           0.008653858363151095,
           0.044209509361482956,
           0.07900122348247962,
           0.11212338767979044,
           0.14279404657238684,
           0.17037647050011584,
           0.1943926655354523,
           0.2145288714461612,
           0.23063350923189954,
           0.242708395806646,
           0.2508943222213973,
           0.2554522819126627,
           0.2567417315441088,
           0.25519727019112654,
           0.25130504004127213,
           0.2455799958764798,
           0.23854497801642713,
           0.23071227369415245,
           0.2225680860000738,
           0.21456006847846779,
           0.2070878465419809,
           0.20049625055173417,
           0.19507084218595108,
           0.19103523332295086,
           0.18854967763954522,
           0.18771045677679687,
           0.18854967763954522,
           0.19103523332295086,
           0.19507084218595108,
           0.20049625055173417,
           0.2070878465419809,
           0.21456006847846779,
           0.2225680860000738,
           0.23071227369415245,
           0.23854497801642713,
           0.2455799958764798,
           0.25130504004127213,
           0.25519727019112654,
           0.2567417315441088,
           0.2554522819126627,
           0.2508943222213973,
           0.242708395806646,
           0.23063350923189954,
           0.2145288714461612,
           0.1943926655354523,
           0.17037647050011584,
           0.14279404657238684,
           0.11212338767979044,
           0.07900122348247962,
           0.044209509361482956,
           0.008653858363151095,
           -0.026665677985416577,
           -0.060690608986011814,
           -0.09234546620178369,
           -0.12058300781296416,
           -0.14443111863131364,
           -0.16303912773542587,
           -0.17572115154133375,
           -0.18199408570471504,
           -0.18160802037610754,
           -0.17456713788189782,
           -0.16113955966514656,
           -0.14185512230149663,
           -0.11749065565570795,
           -0.08904297911487404
          ],
          [
           -0.0345063152690242,
           -0.06655906279410359,
           -0.09668883252747353,
           -0.12368964794720452,
           -0.1464987033293174,
           -0.1642373823959323,
           -0.17624240938958516,
           -0.18208605074549258,
           -0.18158488243001691,
           -0.1747972342928682,
           -0.16200998595397612,
           -0.1437158894806465,
           -0.12058300781296416,
           -0.09341816596346665,
           -0.0631265026963309,
           -0.03066927919323432,
           0.0029779491154211806,
           0.03686485131708162,
           0.07010183827093616,
           0.1018902143955224,
           0.13154597877649798,
           0.15851669454452746,
           0.18239124981424537,
           0.20290271423033404,
           0.21992483146863692,
           0.23346296309158113,
           0.24364050109720906,
           0.2506818889186662,
           0.254893432701845,
           0.2566430509401283,
           0.2563400102730029,
           0.25441554164532254,
           0.25130504004127213,
           0.24743234013685533,
           0.2431963471432226,
           0.23896010343988033,
           0.23504220166614895,
           0.2317103248693539,
           0.22917661128094333,
           0.22759450814784551,
           0.2270567942100705,
           0.22759450814784551,
           0.22917661128094333,
           0.2317103248693539,
           0.23504220166614895,
           0.23896010343988033,
           0.2431963471432226,
           0.24743234013685533,
           0.25130504004127213,
           0.25441554164532254,
           0.2563400102730029,
           0.2566430509401283,
           0.254893432701845,
           0.2506818889186662,
           0.24364050109720906,
           0.23346296309158113,
           0.21992483146863692,
           0.20290271423033404,
           0.18239124981424537,
           0.15851669454452746,
           0.13154597877649798,
           0.1018902143955224,
           0.07010183827093616,
           0.03686485131708162,
           0.0029779491154211806,
           -0.03066927919323432,
           -0.0631265026963309,
           -0.09341816596346665,
           -0.12058300781296416,
           -0.1437158894806465,
           -0.16200998595397612,
           -0.1747972342928682,
           -0.18158488243001691,
           -0.18208605074549258,
           -0.17624240938958516,
           -0.1642373823959323,
           -0.1464987033293174,
           -0.12368964794720452,
           -0.09668883252747353,
           -0.06655906279410359
          ],
          [
           -0.01061150357619211,
           -0.042655257000177006,
           -0.07374973820785838,
           -0.10268778525178764,
           -0.1283676319466868,
           -0.14983554931501694,
           -0.16632015713858264,
           -0.17725715646546372,
           -0.18230376872794093,
           -0.18134271385500067,
           -0.17447608825271163,
           -0.16200998595397612,
           -0.14443111863131364,
           -0.12237701362727325,
           -0.09660159075517502,
           -0.06793803188546253,
           -0.03726086233570953,
           -0.005449066140771361,
           0.026648129724923395,
           0.058241427706856384,
           0.08862652853638416,
           0.11720338291232232,
           0.14348926836260514,
           0.16712567793535366,
           0.18787932061729182,
           0.20563779959612533,
           0.22040074178662336,
           0.23226729318028777,
           0.24142096714711753,
           0.24811283911536614,
           0.25264402764959015,
           0.255348298963932,
           0.256575492104657,
           0.2566762997375786,
           0.2559887694405144,
           0.2548267267047997,
           0.25347017586536014,
           0.252157618714697,
           0.25108014921898075,
           0.25037713957121355,
           0.25013332713993036,
           0.25037713957121355,
           0.25108014921898075,
           0.252157618714697,
           0.25347017586536014,
           0.2548267267047997,
           0.2559887694405144,
           0.2566762997375786,
           0.256575492104657,
           0.255348298963932,
           0.25264402764959015,
           0.24811283911536614,
           0.24142096714711753,
           0.23226729318028777,
           0.22040074178662336,
           0.20563779959612533,
           0.18787932061729182,
           0.16712567793535366,
           0.14348926836260514,
           0.11720338291232232,
           0.08862652853638416,
           0.058241427706856384,
           0.026648129724923395,
           -0.005449066140771361,
           -0.03726086233570953,
           -0.06793803188546253,
           -0.09660159075517502,
           -0.12237701362727325,
           -0.14443111863131364,
           -0.16200998595397612,
           -0.17447608825271163,
           -0.18134271385500067,
           -0.18230376872794093,
           -0.17725715646546372,
           -0.16632015713858264,
           -0.14983554931501694,
           -0.1283676319466868,
           -0.10268778525178764,
           -0.07374973820785838,
           -0.042655257000177006
          ],
          [
           0.013454008098850966,
           -0.017859822184363938,
           -0.04916880920228074,
           -0.07929019757294747,
           -0.10711012813756442,
           -0.1316269478872783,
           -0.15198770280837584,
           -0.16751643729146143,
           -0.17773339606034183,
           -0.18236471957976835,
           -0.18134271385500067,
           -0.1747972342928682,
           -0.16303912773542587,
           -0.14653700801271363,
           -0.1258888846262905,
           -0.10179031338845618,
           -0.0750007897964791,
           -0.046310064114579955,
           -0.016505930263581485,
           0.013655158230898757,
           0.043473546354522816,
           0.07232710218505171,
           0.09968670899986165,
           0.12512633286074154,
           0.14832776112580212,
           0.16908036038891633,
           0.18727640924644018,
           0.20290271423033404,
           0.21602931256266372,
           0.22679610352037188,
           0.23539823538075702,
           0.2420710146043941,
           0.24707500803079696,
           0.2506818889186662,
           0.2531614457800734,
           0.25477004091850136,
           0.2557406839380664,
           0.2562747828163765,
           0.25653555744366946,
           0.2566430509401283,
           0.2566706526738519,
           0.2566430509401283,
           0.25653555744366946,
           0.2562747828163765,
           0.2557406839380664,
           0.25477004091850136,
           0.2531614457800734,
           0.2506818889186662,
           0.24707500803079696,
           0.2420710146043941,
           0.23539823538075702,
           0.22679610352037188,
           0.21602931256266372,
           0.20290271423033404,
           0.18727640924644018,
           0.16908036038891633,
           0.14832776112580212,
           0.12512633286074154,
           0.09968670899986165,
           0.07232710218505171,
           0.043473546354522816,
           0.013655158230898757,
           -0.016505930263581485,
           -0.046310064114579955,
           -0.0750007897964791,
           -0.10179031338845618,
           -0.1258888846262905,
           -0.14653700801271363,
           -0.16303912773542587,
           -0.1747972342928682,
           -0.18134271385500067,
           -0.18236471957976835,
           -0.17773339606034183,
           -0.16751643729146143,
           -0.15198770280837584,
           -0.1316269478872783,
           -0.10711012813756442,
           -0.07929019757294747,
           -0.04916880920228074,
           -0.017859822184363938
          ],
          [
           0.037104384846577534,
           0.007233082355737275,
           -0.023527608249201665,
           -0.054043516875550875,
           -0.08321475815193494,
           -0.11001880232017779,
           -0.13354819579908725,
           -0.15304146672549196,
           -0.167906160972842,
           -0.17773339606034183,
           -0.18230376872794093,
           -0.18158488243001691,
           -0.17572115154133375,
           -0.16501687105976595,
           -0.1499137997580331,
           -0.13096468174943518,
           -0.10880422217787396,
           -0.08411903827788304,
           -0.05761803324395176,
           -0.030004497243790427,
           -0.001951040868825416,
           0.025921773001301992,
           0.05306249567952219,
           0.07900122348247962,
           0.10335731863015635,
           0.1258425822940911,
           0.14626024334832619,
           0.16450028494360933,
           0.18053174205108255,
           0.1943926655354523,
           0.2061784643801796,
           0.21602931256266372,
           0.22411724822563847,
           0.23063350923189954,
           0.23577655069724138,
           0.23974108638511749,
           0.242708395806646,
           0.24483804991090946,
           0.24626113579560338,
           0.24707500803079696,
           0.24733956165584545,
           0.24707500803079696,
           0.24626113579560338,
           0.24483804991090946,
           0.242708395806646,
           0.23974108638511749,
           0.23577655069724138,
           0.23063350923189954,
           0.22411724822563847,
           0.21602931256266372,
           0.2061784643801796,
           0.1943926655354523,
           0.18053174205108255,
           0.16450028494360933,
           0.14626024334832619,
           0.1258425822940911,
           0.10335731863015635,
           0.07900122348247962,
           0.05306249567952219,
           0.025921773001301992,
           -0.001951040868825416,
           -0.030004497243790427,
           -0.05761803324395176,
           -0.08411903827788304,
           -0.10880422217787396,
           -0.13096468174943518,
           -0.1499137997580331,
           -0.16501687105976595,
           -0.17572115154133375,
           -0.18158488243001691,
           -0.18230376872794093,
           -0.17773339606034183,
           -0.167906160972842,
           -0.15304146672549196,
           -0.13354819579908725,
           -0.11001880232017779,
           -0.08321475815193494,
           -0.054043516875550875,
           -0.023527608249201665,
           0.007233082355737275
          ],
          [
           0.059725017515438364,
           0.03197958453286062,
           0.0025207381574719806,
           -0.027588123185645037,
           -0.0572857273340844,
           -0.08555491563889543,
           -0.1114606806231028,
           -0.13418273806183595,
           -0.15304146672549196,
           -0.16751643729146143,
           -0.17725715646546372,
           -0.18208605074549258,
           -0.18199408570471504,
           -0.17712974307464055,
           -0.16778234479339135,
           -0.1543609103022869,
           -0.13736985507049018,
           -0.11738288358628372,
           -0.0950164022704569,
           -0.07090368426500879,
           -0.045670869380806056,
           -0.019915691575644292,
           0.0058103924762656495,
           0.031016232090896562,
           0.05528095770522729,
           0.07825990831739421,
           0.09968670899986165,
           0.11937185506223688,
           0.13719827990417027,
           0.15311446345017118,
           0.16712567793535366,
           0.1792839709402817,
           0.18967745729212915,
           0.19841943861188654,
           0.20563779959612533,
           0.21146505144444128,
           0.21602931256266372,
           0.21944644111666822,
           0.22181346801290225,
           0.2232034254780841,
           0.22366162672468853,
           0.2232034254780841,
           0.22181346801290225,
           0.21944644111666822,
           0.21602931256266372,
           0.21146505144444128,
           0.20563779959612533,
           0.19841943861188654,
           0.18967745729212915,
           0.1792839709402817,
           0.16712567793535366,
           0.15311446345017118,
           0.13719827990417027,
           0.11937185506223688,
           0.09968670899986165,
           0.07825990831739421,
           0.05528095770522729,
           0.031016232090896562,
           0.0058103924762656495,
           -0.019915691575644292,
           -0.045670869380806056,
           -0.07090368426500879,
           -0.0950164022704569,
           -0.11738288358628372,
           -0.13736985507049018,
           -0.1543609103022869,
           -0.16778234479339135,
           -0.17712974307464055,
           -0.18199408570471504,
           -0.18208605074549258,
           -0.17725715646546372,
           -0.16751643729146143,
           -0.15304146672549196,
           -0.13418273806183595,
           -0.1114606806231028,
           -0.08555491563889543,
           -0.0572857273340844,
           -0.027588123185645037,
           0.0025207381574719806,
           0.03197958453286062
          ],
          [
           0.08069235790121831,
           0.05570574218106777,
           0.028270310898122826,
           -0.0006409754282528475,
           -0.03002807965783915,
           -0.05890402451081101,
           -0.08633239590937543,
           -0.1114606806231028,
           -0.13354819579908725,
           -0.15198770280837584,
           -0.16632015713858264,
           -0.17624240938958516,
           -0.18160802037610754,
           -0.18242166855756492,
           -0.1788278960809016,
           -0.17109514979541934,
           -0.15959621882048483,
           -0.14478624788034108,
           -0.1271795169340972,
           -0.10732612754693129,
           -0.0857896329957062,
           -0.0631265026963309,
           -0.039868134180728126,
           -0.016505930263581485,
           0.0065202421682302655,
           0.02883009042098063,
           0.05010748884225075,
           0.07010183827093616,
           0.08862652853638416,
           0.10555493165712146,
           0.12081441070397907,
           0.13437885433763305,
           0.14626024334832619,
           0.15649972810645998,
           0.16515865057394133,
           0.17230988766358785,
           0.17802983029511174,
           0.18239124981424537,
           0.18545724476618586,
           0.18727640924644018,
           0.18787932061729182,
           0.18727640924644018,
           0.18545724476618586,
           0.18239124981424537,
           0.17802983029511174,
           0.17230988766358785,
           0.16515865057394133,
           0.15649972810645998,
           0.14626024334832619,
           0.13437885433763305,
           0.12081441070397907,
           0.10555493165712146,
           0.08862652853638416,
           0.07010183827093616,
           0.05010748884225075,
           0.02883009042098063,
           0.0065202421682302655,
           -0.016505930263581485,
           -0.039868134180728126,
           -0.0631265026963309,
           -0.0857896329957062,
           -0.10732612754693129,
           -0.1271795169340972,
           -0.14478624788034108,
           -0.15959621882048483,
           -0.17109514979541934,
           -0.1788278960809016,
           -0.18242166855756492,
           -0.18160802037610754,
           -0.17624240938958516,
           -0.16632015713858264,
           -0.15198770280837584,
           -0.13354819579908725,
           -0.1114606806231028,
           -0.08633239590937543,
           -0.05890402451081101,
           -0.03002807965783915,
           -0.0006409754282528475,
           0.028270310898122826,
           0.05570574218106777
          ],
          [
           0.0993958462307399,
           0.07773008237271903,
           0.05298490441364873,
           0.026026147564044762,
           -0.0022274559793407315,
           -0.030841885736018544,
           -0.05890402451081101,
           -0.08555491563889543,
           -0.11001880232017779,
           -0.1316269478872783,
           -0.14983554931501694,
           -0.1642373823959323,
           -0.17456713788189782,
           -0.1807007071005138,
           -0.18264893898060253,
           -0.18054660691367944,
           -0.17463748569481502,
           -0.16525654180237792,
           -0.1528102839666787,
           -0.1377563081818195,
           -0.12058300781296416,
           -0.10179031338845618,
           -0.08187218787401292,
           -0.061301442485772274,
           -0.040517266401149735,
           -0.019915691575644292,
           0.0001569493213448689,
           0.019407660252202565,
           0.03759772656874239,
           0.054541276561040686,
           0.07010183827093616,
           0.08418731130237875,
           0.09674378883254962,
           0.10774865812501504,
           0.11720338291232232,
           0.12512633286074154,
           0.13154597877649798,
           0.13649472168344115,
           0.14000357308347133,
           0.14209785531573388,
           0.14279404657238684,
           0.14209785531573388,
           0.14000357308347133,
           0.13649472168344115,
           0.13154597877649798,
           0.12512633286074154,
           0.11720338291232232,
           0.10774865812501504,
           0.09674378883254962,
           0.08418731130237875,
           0.07010183827093616,
           0.054541276561040686,
           0.03759772656874239,
           0.019407660252202565,
           0.0001569493213448689,
           -0.019915691575644292,
           -0.040517266401149735,
           -0.061301442485772274,
           -0.08187218787401292,
           -0.10179031338845618,
           -0.12058300781296416,
           -0.1377563081818195,
           -0.1528102839666787,
           -0.16525654180237792,
           -0.17463748569481502,
           -0.18054660691367944,
           -0.18264893898060253,
           -0.1807007071005138,
           -0.17456713788189782,
           -0.1642373823959323,
           -0.14983554931501694,
           -0.1316269478872783,
           -0.11001880232017779,
           -0.08555491563889543,
           -0.05890402451081101,
           -0.030841885736018544,
           -0.0022274559793407315,
           0.026026147564044762,
           0.05298490441364873,
           0.07773008237271903
          ],
          [
           0.11526115097856117,
           0.09738828403656238,
           0.0759235678781371,
           0.05161237775613617,
           0.025275083284098894,
           -0.0022274559793407315,
           -0.03002807965783915,
           -0.0572857273340844,
           -0.08321475815193494,
           -0.10711012813756442,
           -0.1283676319466868,
           -0.1464987033293174,
           -0.16113955966514656,
           -0.17205475511311313,
           -0.17913546063850083,
           -0.18239300622958532,
           -0.18194839266053625,
           -0.17801860199902664,
           -0.17090060569317098,
           -0.1609539875623888,
           -0.14858307017251748,
           -0.13421936300715656,
           -0.11830504740258321,
           -0.10127808535368477,
           -0.08355939645450051,
           -0.06554239869174844,
           -0.04758506314163741,
           -0.030004497243790427,
           -0.013073952151520388,
           0.0029779491154211806,
           0.017966041941118966,
           0.031745840459068614,
           0.044209509361482956,
           0.05528095770522729,
           0.0649104168254659,
           0.07306884206017318,
           0.07974244535617742,
           0.08492762656935865,
           0.08862652853638416,
           0.09084339726921295,
           0.09158188560927924,
           0.09084339726921295,
           0.08862652853638416,
           0.08492762656935865,
           0.07974244535617742,
           0.07306884206017318,
           0.0649104168254659,
           0.05528095770522729,
           0.044209509361482956,
           0.031745840459068614,
           0.017966041941118966,
           0.0029779491154211806,
           -0.013073952151520388,
           -0.030004497243790427,
           -0.04758506314163741,
           -0.06554239869174844,
           -0.08355939645450051,
           -0.10127808535368477,
           -0.11830504740258321,
           -0.13421936300715656,
           -0.14858307017251748,
           -0.1609539875623888,
           -0.17090060569317098,
           -0.17801860199902664,
           -0.18194839266053625,
           -0.18239300622958532,
           -0.17913546063850083,
           -0.17205475511311313,
           -0.16113955966514656,
           -0.1464987033293174,
           -0.1283676319466868,
           -0.10711012813756442,
           -0.08321475815193494,
           -0.0572857273340844,
           -0.03002807965783915,
           -0.0022274559793407315,
           0.025275083284098894,
           0.05161237775613617,
           0.0759235678781371,
           0.09738828403656238
          ],
          [
           0.12777380562398274,
           0.11405907878471819,
           0.09636827159298987,
           0.07531659368730659,
           0.05161237775613617,
           0.026026147564044762,
           -0.0006409754282528475,
           -0.027588123185645037,
           -0.054043516875550875,
           -0.07929019757294747,
           -0.10268778525178764,
           -0.12368964794720452,
           -0.14185512230149663,
           -0.15685668268767797,
           -0.16848219583369567,
           -0.17663261032673944,
           -0.18131560690315682,
           -0.1826358700412797,
           -0.18078273088932142,
           -0.1760159755489718,
           -0.16865061331126227,
           -0.15904136091487175,
           -0.14756752732225356,
           -0.13461888616197776,
           -0.12058300781296416,
           -0.10583439818051152,
           -0.0907256642328181,
           -0.07558080422426758,
           -0.060690608986011814,
           -0.046310064114579955,
           -0.032657564269347995,
           -0.019915691575644292,
           -0.00823327044894154,
           0.0022716100207446164,
           0.011507919583092052,
           0.019407660252202565,
           0.025921773001301992,
           0.031016232090896562,
           0.03466854669458865,
           0.03686485131708162,
           0.03759772656874239,
           0.03686485131708162,
           0.03466854669458865,
           0.031016232090896562,
           0.025921773001301992,
           0.019407660252202565,
           0.011507919583092052,
           0.0022716100207446164,
           -0.00823327044894154,
           -0.019915691575644292,
           -0.032657564269347995,
           -0.046310064114579955,
           -0.060690608986011814,
           -0.07558080422426758,
           -0.0907256642328181,
           -0.10583439818051152,
           -0.12058300781296416,
           -0.13461888616197776,
           -0.14756752732225356,
           -0.15904136091487175,
           -0.16865061331126227,
           -0.1760159755489718,
           -0.18078273088932142,
           -0.1826358700412797,
           -0.18131560690315682,
           -0.17663261032673944,
           -0.16848219583369567,
           -0.15685668268767797,
           -0.14185512230149663,
           -0.12368964794720452,
           -0.10268778525178764,
           -0.07929019757294747,
           -0.054043516875550875,
           -0.027588123185645037,
           -0.0006409754282528475,
           0.026026147564044762,
           0.05161237775613617,
           0.07531659368730659,
           0.09636827159298987,
           0.11405907878471819
          ],
          [
           0.13650222610828716,
           0.12719030582037316,
           0.1136526088802527,
           0.09636827159298987,
           0.0759235678781371,
           0.05298490441364873,
           0.028270310898122826,
           0.0025207381574719806,
           -0.023527608249201665,
           -0.04916880920228074,
           -0.07374973820785838,
           -0.09668883252747353,
           -0.11749065565570795,
           -0.13575600794040762,
           -0.1511875643863488,
           -0.163591222139663,
           -0.17287351607260817,
           -0.17903560277058095,
           -0.1821644169794075,
           -0.18242166855756492,
           -0.1800313728705813,
           -0.1752665961050691,
           -0.16843605361995675,
           -0.15987112992755653,
           -0.1499137997580331,
           -0.13890582780165694,
           -0.1271795169340972,
           -0.11505016730310495,
           -0.10281030706494565,
           -0.0907256642328181,
           -0.07903277128303789,
           -0.06793803188546253,
           -0.05761803324395176,
           -0.04822085787410071,
           -0.039868134180728126,
           -0.032657564269347995,
           -0.026665677985416577,
           -0.021950582012676394,
           -0.01855449981019833,
           -0.016505930263581485,
           -0.015821288518275644,
           -0.016505930263581485,
           -0.01855449981019833,
           -0.021950582012676394,
           -0.026665677985416577,
           -0.032657564269347995,
           -0.039868134180728126,
           -0.04822085787410071,
           -0.05761803324395176,
           -0.06793803188546253,
           -0.07903277128303789,
           -0.0907256642328181,
           -0.10281030706494565,
           -0.11505016730310495,
           -0.1271795169340972,
           -0.13890582780165694,
           -0.1499137997580331,
           -0.15987112992755653,
           -0.16843605361995675,
           -0.1752665961050691,
           -0.1800313728705813,
           -0.18242166855756492,
           -0.1821644169794075,
           -0.17903560277058095,
           -0.17287351607260817,
           -0.163591222139663,
           -0.1511875643863488,
           -0.13575600794040762,
           -0.11749065565570795,
           -0.09668883252747353,
           -0.07374973820785838,
           -0.04916880920228074,
           -0.023527608249201665,
           0.0025207381574719806,
           0.028270310898122826,
           0.05298490441364873,
           0.0759235678781371,
           0.09636827159298987,
           0.1136526088802527,
           0.12719030582037316
          ],
          [
           0.14111903500315878,
           0.13632396086944565,
           0.12719030582037316,
           0.11405907878471819,
           0.09738828403656238,
           0.07773008237271903,
           0.05570574218106777,
           0.03197958453286062,
           0.007233082355737275,
           -0.017859822184363938,
           -0.042655257000177006,
           -0.06655906279410359,
           -0.08904297911487404,
           -0.10965701691843574,
           -0.12803786284735597,
           -0.14391335124448024,
           -0.15710321083861073,
           -0.16751643729146143,
           -0.1751457556394694,
           -0.1800597155006458,
           -0.18239300622958532,
           -0.18233559039097344,
           -0.18012123502583363,
           -0.1760159755489718,
           -0.17030698199702413,
           -0.16329221750830802,
           -0.15527119023634722,
           -0.14653700801271363,
           -0.13736985507049018,
           -0.12803192632998142,
           -0.11876378051842666,
           -0.10978201113265723,
           -0.10127808535368477,
           -0.09341816596346665,
           -0.08634370978474622,
           -0.08017262722723162,
           -0.0750007897964791,
           -0.07090368426500879,
           -0.06793803188546253,
           -0.06614321685638791,
           -0.06554239869174844,
           -0.06614321685638791,
           -0.06793803188546253,
           -0.07090368426500879,
           -0.0750007897964791,
           -0.08017262722723162,
           -0.08634370978474622,
           -0.09341816596346665,
           -0.10127808535368477,
           -0.10978201113265723,
           -0.11876378051842666,
           -0.12803192632998142,
           -0.13736985507049018,
           -0.14653700801271363,
           -0.15527119023634722,
           -0.16329221750830802,
           -0.17030698199702413,
           -0.1760159755489718,
           -0.18012123502583363,
           -0.18233559039097344,
           -0.18239300622958532,
           -0.1800597155006458,
           -0.1751457556394694,
           -0.16751643729146143,
           -0.15710321083861073,
           -0.14391335124448024,
           -0.12803786284735597,
           -0.10965701691843574,
           -0.08904297911487404,
           -0.06655906279410359,
           -0.042655257000177006,
           -0.017859822184363938,
           0.007233082355737275,
           0.03197958453286062,
           0.05570574218106777,
           0.07773008237271903,
           0.09738828403656238,
           0.11405907878471819,
           0.12719030582037316,
           0.13632396086944565
          ]
         ]
        }
       ],
       "layout": {
        "legend": {
         "bgcolor": "#F5F6F9",
         "font": {
          "color": "#4D5663"
         }
        },
        "paper_bgcolor": "#F5F6F9",
        "plot_bgcolor": "#F5F6F9",
        "template": {
         "data": {
          "bar": [
           {
            "error_x": {
             "color": "#2a3f5f"
            },
            "error_y": {
             "color": "#2a3f5f"
            },
            "marker": {
             "line": {
              "color": "#E5ECF6",
              "width": 0.5
             }
            },
            "type": "bar"
           }
          ],
          "barpolar": [
           {
            "marker": {
             "line": {
              "color": "#E5ECF6",
              "width": 0.5
             }
            },
            "type": "barpolar"
           }
          ],
          "carpet": [
           {
            "aaxis": {
             "endlinecolor": "#2a3f5f",
             "gridcolor": "white",
             "linecolor": "white",
             "minorgridcolor": "white",
             "startlinecolor": "#2a3f5f"
            },
            "baxis": {
             "endlinecolor": "#2a3f5f",
             "gridcolor": "white",
             "linecolor": "white",
             "minorgridcolor": "white",
             "startlinecolor": "#2a3f5f"
            },
            "type": "carpet"
           }
          ],
          "choropleth": [
           {
            "colorbar": {
             "outlinewidth": 0,
             "ticks": ""
            },
            "type": "choropleth"
           }
          ],
          "contour": [
           {
            "colorbar": {
             "outlinewidth": 0,
             "ticks": ""
            },
            "colorscale": [
             [
              0,
              "#0d0887"
             ],
             [
              0.1111111111111111,
              "#46039f"
             ],
             [
              0.2222222222222222,
              "#7201a8"
             ],
             [
              0.3333333333333333,
              "#9c179e"
             ],
             [
              0.4444444444444444,
              "#bd3786"
             ],
             [
              0.5555555555555556,
              "#d8576b"
             ],
             [
              0.6666666666666666,
              "#ed7953"
             ],
             [
              0.7777777777777778,
              "#fb9f3a"
             ],
             [
              0.8888888888888888,
              "#fdca26"
             ],
             [
              1,
              "#f0f921"
             ]
            ],
            "type": "contour"
           }
          ],
          "contourcarpet": [
           {
            "colorbar": {
             "outlinewidth": 0,
             "ticks": ""
            },
            "type": "contourcarpet"
           }
          ],
          "heatmap": [
           {
            "colorbar": {
             "outlinewidth": 0,
             "ticks": ""
            },
            "colorscale": [
             [
              0,
              "#0d0887"
             ],
             [
              0.1111111111111111,
              "#46039f"
             ],
             [
              0.2222222222222222,
              "#7201a8"
             ],
             [
              0.3333333333333333,
              "#9c179e"
             ],
             [
              0.4444444444444444,
              "#bd3786"
             ],
             [
              0.5555555555555556,
              "#d8576b"
             ],
             [
              0.6666666666666666,
              "#ed7953"
             ],
             [
              0.7777777777777778,
              "#fb9f3a"
             ],
             [
              0.8888888888888888,
              "#fdca26"
             ],
             [
              1,
              "#f0f921"
             ]
            ],
            "type": "heatmap"
           }
          ],
          "heatmapgl": [
           {
            "colorbar": {
             "outlinewidth": 0,
             "ticks": ""
            },
            "colorscale": [
             [
              0,
              "#0d0887"
             ],
             [
              0.1111111111111111,
              "#46039f"
             ],
             [
              0.2222222222222222,
              "#7201a8"
             ],
             [
              0.3333333333333333,
              "#9c179e"
             ],
             [
              0.4444444444444444,
              "#bd3786"
             ],
             [
              0.5555555555555556,
              "#d8576b"
             ],
             [
              0.6666666666666666,
              "#ed7953"
             ],
             [
              0.7777777777777778,
              "#fb9f3a"
             ],
             [
              0.8888888888888888,
              "#fdca26"
             ],
             [
              1,
              "#f0f921"
             ]
            ],
            "type": "heatmapgl"
           }
          ],
          "histogram": [
           {
            "marker": {
             "colorbar": {
              "outlinewidth": 0,
              "ticks": ""
             }
            },
            "type": "histogram"
           }
          ],
          "histogram2d": [
           {
            "colorbar": {
             "outlinewidth": 0,
             "ticks": ""
            },
            "colorscale": [
             [
              0,
              "#0d0887"
             ],
             [
              0.1111111111111111,
              "#46039f"
             ],
             [
              0.2222222222222222,
              "#7201a8"
             ],
             [
              0.3333333333333333,
              "#9c179e"
             ],
             [
              0.4444444444444444,
              "#bd3786"
             ],
             [
              0.5555555555555556,
              "#d8576b"
             ],
             [
              0.6666666666666666,
              "#ed7953"
             ],
             [
              0.7777777777777778,
              "#fb9f3a"
             ],
             [
              0.8888888888888888,
              "#fdca26"
             ],
             [
              1,
              "#f0f921"
             ]
            ],
            "type": "histogram2d"
           }
          ],
          "histogram2dcontour": [
           {
            "colorbar": {
             "outlinewidth": 0,
             "ticks": ""
            },
            "colorscale": [
             [
              0,
              "#0d0887"
             ],
             [
              0.1111111111111111,
              "#46039f"
             ],
             [
              0.2222222222222222,
              "#7201a8"
             ],
             [
              0.3333333333333333,
              "#9c179e"
             ],
             [
              0.4444444444444444,
              "#bd3786"
             ],
             [
              0.5555555555555556,
              "#d8576b"
             ],
             [
              0.6666666666666666,
              "#ed7953"
             ],
             [
              0.7777777777777778,
              "#fb9f3a"
             ],
             [
              0.8888888888888888,
              "#fdca26"
             ],
             [
              1,
              "#f0f921"
             ]
            ],
            "type": "histogram2dcontour"
           }
          ],
          "mesh3d": [
           {
            "colorbar": {
             "outlinewidth": 0,
             "ticks": ""
            },
            "type": "mesh3d"
           }
          ],
          "parcoords": [
           {
            "line": {
             "colorbar": {
              "outlinewidth": 0,
              "ticks": ""
             }
            },
            "type": "parcoords"
           }
          ],
          "pie": [
           {
            "automargin": true,
            "type": "pie"
           }
          ],
          "scatter": [
           {
            "marker": {
             "colorbar": {
              "outlinewidth": 0,
              "ticks": ""
             }
            },
            "type": "scatter"
           }
          ],
          "scatter3d": [
           {
            "line": {
             "colorbar": {
              "outlinewidth": 0,
              "ticks": ""
             }
            },
            "marker": {
             "colorbar": {
              "outlinewidth": 0,
              "ticks": ""
             }
            },
            "type": "scatter3d"
           }
          ],
          "scattercarpet": [
           {
            "marker": {
             "colorbar": {
              "outlinewidth": 0,
              "ticks": ""
             }
            },
            "type": "scattercarpet"
           }
          ],
          "scattergeo": [
           {
            "marker": {
             "colorbar": {
              "outlinewidth": 0,
              "ticks": ""
             }
            },
            "type": "scattergeo"
           }
          ],
          "scattergl": [
           {
            "marker": {
             "colorbar": {
              "outlinewidth": 0,
              "ticks": ""
             }
            },
            "type": "scattergl"
           }
          ],
          "scattermapbox": [
           {
            "marker": {
             "colorbar": {
              "outlinewidth": 0,
              "ticks": ""
             }
            },
            "type": "scattermapbox"
           }
          ],
          "scatterpolar": [
           {
            "marker": {
             "colorbar": {
              "outlinewidth": 0,
              "ticks": ""
             }
            },
            "type": "scatterpolar"
           }
          ],
          "scatterpolargl": [
           {
            "marker": {
             "colorbar": {
              "outlinewidth": 0,
              "ticks": ""
             }
            },
            "type": "scatterpolargl"
           }
          ],
          "scatterternary": [
           {
            "marker": {
             "colorbar": {
              "outlinewidth": 0,
              "ticks": ""
             }
            },
            "type": "scatterternary"
           }
          ],
          "surface": [
           {
            "colorbar": {
             "outlinewidth": 0,
             "ticks": ""
            },
            "colorscale": [
             [
              0,
              "#0d0887"
             ],
             [
              0.1111111111111111,
              "#46039f"
             ],
             [
              0.2222222222222222,
              "#7201a8"
             ],
             [
              0.3333333333333333,
              "#9c179e"
             ],
             [
              0.4444444444444444,
              "#bd3786"
             ],
             [
              0.5555555555555556,
              "#d8576b"
             ],
             [
              0.6666666666666666,
              "#ed7953"
             ],
             [
              0.7777777777777778,
              "#fb9f3a"
             ],
             [
              0.8888888888888888,
              "#fdca26"
             ],
             [
              1,
              "#f0f921"
             ]
            ],
            "type": "surface"
           }
          ],
          "table": [
           {
            "cells": {
             "fill": {
              "color": "#EBF0F8"
             },
             "line": {
              "color": "white"
             }
            },
            "header": {
             "fill": {
              "color": "#C8D4E3"
             },
             "line": {
              "color": "white"
             }
            },
            "type": "table"
           }
          ]
         },
         "layout": {
          "annotationdefaults": {
           "arrowcolor": "#2a3f5f",
           "arrowhead": 0,
           "arrowwidth": 1
          },
          "coloraxis": {
           "colorbar": {
            "outlinewidth": 0,
            "ticks": ""
           }
          },
          "colorscale": {
           "diverging": [
            [
             0,
             "#8e0152"
            ],
            [
             0.1,
             "#c51b7d"
            ],
            [
             0.2,
             "#de77ae"
            ],
            [
             0.3,
             "#f1b6da"
            ],
            [
             0.4,
             "#fde0ef"
            ],
            [
             0.5,
             "#f7f7f7"
            ],
            [
             0.6,
             "#e6f5d0"
            ],
            [
             0.7,
             "#b8e186"
            ],
            [
             0.8,
             "#7fbc41"
            ],
            [
             0.9,
             "#4d9221"
            ],
            [
             1,
             "#276419"
            ]
           ],
           "sequential": [
            [
             0,
             "#0d0887"
            ],
            [
             0.1111111111111111,
             "#46039f"
            ],
            [
             0.2222222222222222,
             "#7201a8"
            ],
            [
             0.3333333333333333,
             "#9c179e"
            ],
            [
             0.4444444444444444,
             "#bd3786"
            ],
            [
             0.5555555555555556,
             "#d8576b"
            ],
            [
             0.6666666666666666,
             "#ed7953"
            ],
            [
             0.7777777777777778,
             "#fb9f3a"
            ],
            [
             0.8888888888888888,
             "#fdca26"
            ],
            [
             1,
             "#f0f921"
            ]
           ],
           "sequentialminus": [
            [
             0,
             "#0d0887"
            ],
            [
             0.1111111111111111,
             "#46039f"
            ],
            [
             0.2222222222222222,
             "#7201a8"
            ],
            [
             0.3333333333333333,
             "#9c179e"
            ],
            [
             0.4444444444444444,
             "#bd3786"
            ],
            [
             0.5555555555555556,
             "#d8576b"
            ],
            [
             0.6666666666666666,
             "#ed7953"
            ],
            [
             0.7777777777777778,
             "#fb9f3a"
            ],
            [
             0.8888888888888888,
             "#fdca26"
            ],
            [
             1,
             "#f0f921"
            ]
           ]
          },
          "colorway": [
           "#636efa",
           "#EF553B",
           "#00cc96",
           "#ab63fa",
           "#FFA15A",
           "#19d3f3",
           "#FF6692",
           "#B6E880",
           "#FF97FF",
           "#FECB52"
          ],
          "font": {
           "color": "#2a3f5f"
          },
          "geo": {
           "bgcolor": "white",
           "lakecolor": "white",
           "landcolor": "#E5ECF6",
           "showlakes": true,
           "showland": true,
           "subunitcolor": "white"
          },
          "hoverlabel": {
           "align": "left"
          },
          "hovermode": "closest",
          "mapbox": {
           "style": "light"
          },
          "paper_bgcolor": "white",
          "plot_bgcolor": "#E5ECF6",
          "polar": {
           "angularaxis": {
            "gridcolor": "white",
            "linecolor": "white",
            "ticks": ""
           },
           "bgcolor": "#E5ECF6",
           "radialaxis": {
            "gridcolor": "white",
            "linecolor": "white",
            "ticks": ""
           }
          },
          "scene": {
           "xaxis": {
            "backgroundcolor": "#E5ECF6",
            "gridcolor": "white",
            "gridwidth": 2,
            "linecolor": "white",
            "showbackground": true,
            "ticks": "",
            "zerolinecolor": "white"
           },
           "yaxis": {
            "backgroundcolor": "#E5ECF6",
            "gridcolor": "white",
            "gridwidth": 2,
            "linecolor": "white",
            "showbackground": true,
            "ticks": "",
            "zerolinecolor": "white"
           },
           "zaxis": {
            "backgroundcolor": "#E5ECF6",
            "gridcolor": "white",
            "gridwidth": 2,
            "linecolor": "white",
            "showbackground": true,
            "ticks": "",
            "zerolinecolor": "white"
           }
          },
          "shapedefaults": {
           "line": {
            "color": "#2a3f5f"
           }
          },
          "ternary": {
           "aaxis": {
            "gridcolor": "white",
            "linecolor": "white",
            "ticks": ""
           },
           "baxis": {
            "gridcolor": "white",
            "linecolor": "white",
            "ticks": ""
           },
           "bgcolor": "#E5ECF6",
           "caxis": {
            "gridcolor": "white",
            "linecolor": "white",
            "ticks": ""
           }
          },
          "title": {
           "x": 0.05
          },
          "xaxis": {
           "automargin": true,
           "gridcolor": "white",
           "linecolor": "white",
           "ticks": "",
           "title": {
            "standoff": 15
           },
           "zerolinecolor": "white",
           "zerolinewidth": 2
          },
          "yaxis": {
           "automargin": true,
           "gridcolor": "white",
           "linecolor": "white",
           "ticks": "",
           "title": {
            "standoff": 15
           },
           "zerolinecolor": "white",
           "zerolinewidth": 2
          }
         }
        },
        "title": {
         "font": {
          "color": "#4D5663"
         }
        },
        "xaxis": {
         "gridcolor": "#E1E5ED",
         "showgrid": true,
         "tickfont": {
          "color": "#4D5663"
         },
         "title": {
          "font": {
           "color": "#4D5663"
          },
          "text": ""
         },
         "zerolinecolor": "#E1E5ED"
        },
        "yaxis": {
         "gridcolor": "#E1E5ED",
         "showgrid": true,
         "tickfont": {
          "color": "#4D5663"
         },
         "title": {
          "font": {
           "color": "#4D5663"
          },
          "text": ""
         },
         "zerolinecolor": "#E1E5ED"
        }
       }
      },
      "text/html": [
       "<div>                            <div id=\"01216da5-a845-42eb-9605-190516955af0\" class=\"plotly-graph-div\" style=\"height:525px; width:100%;\"></div>            <script type=\"text/javascript\">                require([\"plotly\"], function(Plotly) {                    window.PLOTLYENV=window.PLOTLYENV || {};\n",
       "                    window.PLOTLYENV.BASE_URL='https://plot.ly';                                    if (document.getElementById(\"01216da5-a845-42eb-9605-190516955af0\")) {                    Plotly.newPlot(                        \"01216da5-a845-42eb-9605-190516955af0\",                        [{\"colorscale\": [[0.0, \"rgb(255, 153, 51)\"], [0.1111111111111111, \"rgb(55, 128, 191)\"], [0.2222222222222222, \"rgb(50, 171, 96)\"], [0.3333333333333333, \"rgb(128, 0, 128)\"], [0.4444444444444444, \"rgb(219, 64, 82)\"], [0.5555555555555556, \"rgb(0, 128, 128)\"], [0.6666666666666666, \"rgb(255, 255, 51)\"], [0.7777777777777778, \"rgb(128, 128, 0)\"], [0.8888888888888888, \"rgb(251, 128, 114)\"], [1.0, \"rgb(128, 177, 211)\"]], \"type\": \"surface\", \"x\": [-10.0, -9.75, -9.5, -9.25, -9.0, -8.75, -8.5, -8.25, -8.0, -7.75, -7.5, -7.25, -7.0, -6.75, -6.5, -6.25, -6.0, -5.75, -5.5, -5.25, -5.0, -4.75, -4.5, -4.25, -4.0, -3.75, -3.5, -3.25, -3.0, -2.75, -2.5, -2.25, -2.0, -1.75, -1.5, -1.25, -1.0, -0.75, -0.5, -0.25, 0.0, 0.25, 0.5, 0.75, 1.0, 1.25, 1.5, 1.75, 2.0, 2.25, 2.5, 2.75, 3.0, 3.25, 3.5, 3.75, 4.0, 4.25, 4.5, 4.75, 5.0, 5.25, 5.5, 5.75, 6.0, 6.25, 6.5, 6.75, 7.0, 7.25, 7.5, 7.75, 8.0, 8.25, 8.5, 8.75, 9.0, 9.25, 9.5, 9.75], \"y\": [-10.0, -9.75, -9.5, -9.25, -9.0, -8.75, -8.5, -8.25, -8.0, -7.75, -7.5, -7.25, -7.0, -6.75, -6.5, -6.25, -6.0, -5.75, -5.5, -5.25, -5.0, -4.75, -4.5, -4.25, -4.0, -3.75, -3.5, -3.25, -3.0, -2.75, -2.5, -2.25, -2.0, -1.75, -1.5, -1.25, -1.0, -0.75, -0.5, -0.25, 0.0, 0.25, 0.5, 0.75, 1.0, 1.25, 1.5, 1.75, 2.0, 2.25, 2.5, 2.75, 3.0, 3.25, 3.5, 3.75, 4.0, 4.25, 4.5, 4.75, 5.0, 5.25, 5.5, 5.75, 6.0, 6.25, 6.5, 6.75, 7.0, 7.25, 7.5, 7.75, 8.0, 8.25, 8.5, 8.75, 9.0, 9.25, 9.5, 9.75], \"z\": [[0.14141961054935853, 0.14111903500315878, 0.13650222610828716, 0.12777380562398274, 0.11526115097856117, 0.0993958462307399, 0.08069235790121831, 0.059725017515438364, 0.037104384846577534, 0.013454008098850966, -0.01061150357619211, -0.0345063152690242, -0.05769048962428924, -0.07968395387291566, -0.10007704610444179, -0.11853755153953284, -0.13481430178982187, -0.1487375524385824, -0.16021647158282734, -0.16923416092386775, -0.17584069010379264, -0.1801446545297837, -0.18230376872794093, -0.18251498442862385, -0.18100457917857166, -0.17801860199902664, -0.1738139924448547, -0.16865061331126227, -0.16278435980926842, -0.15646143337355978, -0.1499137997580331, -0.14335579129849668, -0.13698176393514344, -0.13096468174943518, -0.1254554756233313, -0.12058300781296416, -0.1164544699167505, -0.1131560467581887, -0.1107536917561867, -0.10929387900894774, -0.10880422217787396, -0.10929387900894774, -0.1107536917561867, -0.1131560467581887, -0.1164544699167505, -0.12058300781296416, -0.1254554756233313, -0.13096468174943518, -0.13698176393514344, -0.14335579129849668, -0.1499137997580331, -0.15646143337355978, -0.16278435980926842, -0.16865061331126227, -0.1738139924448547, -0.17801860199902664, -0.18100457917857166, -0.18251498442862385, -0.18230376872794093, -0.1801446545297837, -0.17584069010379264, -0.16923416092386775, -0.16021647158282734, -0.1487375524385824, -0.13481430178982187, -0.11853755153953284, -0.10007704610444179, -0.07968395387291566, -0.05769048962428924, -0.0345063152690242, -0.01061150357619211, 0.013454008098850966, 0.037104384846577534, 0.059725017515438364, 0.08069235790121831, 0.0993958462307399, 0.11526115097856117, 0.12777380562398274, 0.13650222610828716, 0.14111903500315878], [0.14111903500315878, 0.13632396086944565, 0.12719030582037316, 0.11405907878471819, 0.09738828403656238, 0.07773008237271903, 0.05570574218106777, 0.03197958453286062, 0.007233082355737275, -0.017859822184363938, -0.042655257000177006, -0.06655906279410359, -0.08904297911487404, -0.10965701691843574, -0.12803786284735597, -0.14391335124448024, -0.15710321083861073, -0.16751643729146143, -0.1751457556394694, -0.1800597155006458, -0.18239300622958532, -0.18233559039097344, -0.18012123502583363, -0.1760159755489718, -0.17030698199702413, -0.16329221750830802, -0.15527119023634722, -0.14653700801271363, -0.13736985507049018, -0.12803192632998142, -0.11876378051842666, -0.10978201113265723, -0.10127808535368477, -0.09341816596346665, -0.08634370978474622, -0.08017262722723162, -0.0750007897964791, -0.07090368426500879, -0.06793803188546253, -0.06614321685638791, -0.06554239869174844, -0.06614321685638791, -0.06793803188546253, -0.07090368426500879, -0.0750007897964791, -0.08017262722723162, -0.08634370978474622, -0.09341816596346665, -0.10127808535368477, -0.10978201113265723, -0.11876378051842666, -0.12803192632998142, -0.13736985507049018, -0.14653700801271363, -0.15527119023634722, -0.16329221750830802, -0.17030698199702413, -0.1760159755489718, -0.18012123502583363, -0.18233559039097344, -0.18239300622958532, -0.1800597155006458, -0.1751457556394694, -0.16751643729146143, -0.15710321083861073, -0.14391335124448024, -0.12803786284735597, -0.10965701691843574, -0.08904297911487404, -0.06655906279410359, -0.042655257000177006, -0.017859822184363938, 0.007233082355737275, 0.03197958453286062, 0.05570574218106777, 0.07773008237271903, 0.09738828403656238, 0.11405907878471819, 0.12719030582037316, 0.13632396086944565], [0.13650222610828716, 0.12719030582037316, 0.1136526088802527, 0.09636827159298987, 0.0759235678781371, 0.05298490441364873, 0.028270310898122826, 0.0025207381574719806, -0.023527608249201665, -0.04916880920228074, -0.07374973820785838, -0.09668883252747353, -0.11749065565570795, -0.13575600794040762, -0.1511875643863488, -0.163591222139663, -0.17287351607260817, -0.17903560277058095, -0.1821644169794075, -0.18242166855756492, -0.1800313728705813, -0.1752665961050691, -0.16843605361995675, -0.15987112992755653, -0.1499137997580331, -0.13890582780165694, -0.1271795169340972, -0.11505016730310495, -0.10281030706494565, -0.0907256642328181, -0.07903277128303789, -0.06793803188546253, -0.05761803324395176, -0.04822085787410071, -0.039868134180728126, -0.032657564269347995, -0.026665677985416577, -0.021950582012676394, -0.01855449981019833, -0.016505930263581485, -0.015821288518275644, -0.016505930263581485, -0.01855449981019833, -0.021950582012676394, -0.026665677985416577, -0.032657564269347995, -0.039868134180728126, -0.04822085787410071, -0.05761803324395176, -0.06793803188546253, -0.07903277128303789, -0.0907256642328181, -0.10281030706494565, -0.11505016730310495, -0.1271795169340972, -0.13890582780165694, -0.1499137997580331, -0.15987112992755653, -0.16843605361995675, -0.1752665961050691, -0.1800313728705813, -0.18242166855756492, -0.1821644169794075, -0.17903560277058095, -0.17287351607260817, -0.163591222139663, -0.1511875643863488, -0.13575600794040762, -0.11749065565570795, -0.09668883252747353, -0.07374973820785838, -0.04916880920228074, -0.023527608249201665, 0.0025207381574719806, 0.028270310898122826, 0.05298490441364873, 0.0759235678781371, 0.09636827159298987, 0.1136526088802527, 0.12719030582037316], [0.12777380562398274, 0.11405907878471819, 0.09636827159298987, 0.07531659368730659, 0.05161237775613617, 0.026026147564044762, -0.0006409754282528475, -0.027588123185645037, -0.054043516875550875, -0.07929019757294747, -0.10268778525178764, -0.12368964794720452, -0.14185512230149663, -0.15685668268767797, -0.16848219583369567, -0.17663261032673944, -0.18131560690315682, -0.1826358700412797, -0.18078273088932142, -0.1760159755489718, -0.16865061331126227, -0.15904136091487175, -0.14756752732225356, -0.13461888616197776, -0.12058300781296416, -0.10583439818051152, -0.0907256642328181, -0.07558080422426758, -0.060690608986011814, -0.046310064114579955, -0.032657564269347995, -0.019915691575644292, -0.00823327044894154, 0.0022716100207446164, 0.011507919583092052, 0.019407660252202565, 0.025921773001301992, 0.031016232090896562, 0.03466854669458865, 0.03686485131708162, 0.03759772656874239, 0.03686485131708162, 0.03466854669458865, 0.031016232090896562, 0.025921773001301992, 0.019407660252202565, 0.011507919583092052, 0.0022716100207446164, -0.00823327044894154, -0.019915691575644292, -0.032657564269347995, -0.046310064114579955, -0.060690608986011814, -0.07558080422426758, -0.0907256642328181, -0.10583439818051152, -0.12058300781296416, -0.13461888616197776, -0.14756752732225356, -0.15904136091487175, -0.16865061331126227, -0.1760159755489718, -0.18078273088932142, -0.1826358700412797, -0.18131560690315682, -0.17663261032673944, -0.16848219583369567, -0.15685668268767797, -0.14185512230149663, -0.12368964794720452, -0.10268778525178764, -0.07929019757294747, -0.054043516875550875, -0.027588123185645037, -0.0006409754282528475, 0.026026147564044762, 0.05161237775613617, 0.07531659368730659, 0.09636827159298987, 0.11405907878471819], [0.11526115097856117, 0.09738828403656238, 0.0759235678781371, 0.05161237775613617, 0.025275083284098894, -0.0022274559793407315, -0.03002807965783915, -0.0572857273340844, -0.08321475815193494, -0.10711012813756442, -0.1283676319466868, -0.1464987033293174, -0.16113955966514656, -0.17205475511311313, -0.17913546063850083, -0.18239300622958532, -0.18194839266053625, -0.17801860199902664, -0.17090060569317098, -0.1609539875623888, -0.14858307017251748, -0.13421936300715656, -0.11830504740258321, -0.10127808535368477, -0.08355939645450051, -0.06554239869174844, -0.04758506314163741, -0.030004497243790427, -0.013073952151520388, 0.0029779491154211806, 0.017966041941118966, 0.031745840459068614, 0.044209509361482956, 0.05528095770522729, 0.0649104168254659, 0.07306884206017318, 0.07974244535617742, 0.08492762656935865, 0.08862652853638416, 0.09084339726921295, 0.09158188560927924, 0.09084339726921295, 0.08862652853638416, 0.08492762656935865, 0.07974244535617742, 0.07306884206017318, 0.0649104168254659, 0.05528095770522729, 0.044209509361482956, 0.031745840459068614, 0.017966041941118966, 0.0029779491154211806, -0.013073952151520388, -0.030004497243790427, -0.04758506314163741, -0.06554239869174844, -0.08355939645450051, -0.10127808535368477, -0.11830504740258321, -0.13421936300715656, -0.14858307017251748, -0.1609539875623888, -0.17090060569317098, -0.17801860199902664, -0.18194839266053625, -0.18239300622958532, -0.17913546063850083, -0.17205475511311313, -0.16113955966514656, -0.1464987033293174, -0.1283676319466868, -0.10711012813756442, -0.08321475815193494, -0.0572857273340844, -0.03002807965783915, -0.0022274559793407315, 0.025275083284098894, 0.05161237775613617, 0.0759235678781371, 0.09738828403656238], [0.0993958462307399, 0.07773008237271903, 0.05298490441364873, 0.026026147564044762, -0.0022274559793407315, -0.030841885736018544, -0.05890402451081101, -0.08555491563889543, -0.11001880232017779, -0.1316269478872783, -0.14983554931501694, -0.1642373823959323, -0.17456713788189782, -0.1807007071005138, -0.18264893898060253, -0.18054660691367944, -0.17463748569481502, -0.16525654180237792, -0.1528102839666787, -0.1377563081818195, -0.12058300781296416, -0.10179031338845618, -0.08187218787401292, -0.061301442485772274, -0.040517266401149735, -0.019915691575644292, 0.0001569493213448689, 0.019407660252202565, 0.03759772656874239, 0.054541276561040686, 0.07010183827093616, 0.08418731130237875, 0.09674378883254962, 0.10774865812501504, 0.11720338291232232, 0.12512633286074154, 0.13154597877649798, 0.13649472168344115, 0.14000357308347133, 0.14209785531573388, 0.14279404657238684, 0.14209785531573388, 0.14000357308347133, 0.13649472168344115, 0.13154597877649798, 0.12512633286074154, 0.11720338291232232, 0.10774865812501504, 0.09674378883254962, 0.08418731130237875, 0.07010183827093616, 0.054541276561040686, 0.03759772656874239, 0.019407660252202565, 0.0001569493213448689, -0.019915691575644292, -0.040517266401149735, -0.061301442485772274, -0.08187218787401292, -0.10179031338845618, -0.12058300781296416, -0.1377563081818195, -0.1528102839666787, -0.16525654180237792, -0.17463748569481502, -0.18054660691367944, -0.18264893898060253, -0.1807007071005138, -0.17456713788189782, -0.1642373823959323, -0.14983554931501694, -0.1316269478872783, -0.11001880232017779, -0.08555491563889543, -0.05890402451081101, -0.030841885736018544, -0.0022274559793407315, 0.026026147564044762, 0.05298490441364873, 0.07773008237271903], [0.08069235790121831, 0.05570574218106777, 0.028270310898122826, -0.0006409754282528475, -0.03002807965783915, -0.05890402451081101, -0.08633239590937543, -0.1114606806231028, -0.13354819579908725, -0.15198770280837584, -0.16632015713858264, -0.17624240938958516, -0.18160802037610754, -0.18242166855756492, -0.1788278960809016, -0.17109514979541934, -0.15959621882048483, -0.14478624788034108, -0.1271795169340972, -0.10732612754693129, -0.0857896329957062, -0.0631265026963309, -0.039868134180728126, -0.016505930263581485, 0.0065202421682302655, 0.02883009042098063, 0.05010748884225075, 0.07010183827093616, 0.08862652853638416, 0.10555493165712146, 0.12081441070397907, 0.13437885433763305, 0.14626024334832619, 0.15649972810645998, 0.16515865057394133, 0.17230988766358785, 0.17802983029511174, 0.18239124981424537, 0.18545724476618586, 0.18727640924644018, 0.18787932061729182, 0.18727640924644018, 0.18545724476618586, 0.18239124981424537, 0.17802983029511174, 0.17230988766358785, 0.16515865057394133, 0.15649972810645998, 0.14626024334832619, 0.13437885433763305, 0.12081441070397907, 0.10555493165712146, 0.08862652853638416, 0.07010183827093616, 0.05010748884225075, 0.02883009042098063, 0.0065202421682302655, -0.016505930263581485, -0.039868134180728126, -0.0631265026963309, -0.0857896329957062, -0.10732612754693129, -0.1271795169340972, -0.14478624788034108, -0.15959621882048483, -0.17109514979541934, -0.1788278960809016, -0.18242166855756492, -0.18160802037610754, -0.17624240938958516, -0.16632015713858264, -0.15198770280837584, -0.13354819579908725, -0.1114606806231028, -0.08633239590937543, -0.05890402451081101, -0.03002807965783915, -0.0006409754282528475, 0.028270310898122826, 0.05570574218106777], [0.059725017515438364, 0.03197958453286062, 0.0025207381574719806, -0.027588123185645037, -0.0572857273340844, -0.08555491563889543, -0.1114606806231028, -0.13418273806183595, -0.15304146672549196, -0.16751643729146143, -0.17725715646546372, -0.18208605074549258, -0.18199408570471504, -0.17712974307464055, -0.16778234479339135, -0.1543609103022869, -0.13736985507049018, -0.11738288358628372, -0.0950164022704569, -0.07090368426500879, -0.045670869380806056, -0.019915691575644292, 0.0058103924762656495, 0.031016232090896562, 0.05528095770522729, 0.07825990831739421, 0.09968670899986165, 0.11937185506223688, 0.13719827990417027, 0.15311446345017118, 0.16712567793535366, 0.1792839709402817, 0.18967745729212915, 0.19841943861188654, 0.20563779959612533, 0.21146505144444128, 0.21602931256266372, 0.21944644111666822, 0.22181346801290225, 0.2232034254780841, 0.22366162672468853, 0.2232034254780841, 0.22181346801290225, 0.21944644111666822, 0.21602931256266372, 0.21146505144444128, 0.20563779959612533, 0.19841943861188654, 0.18967745729212915, 0.1792839709402817, 0.16712567793535366, 0.15311446345017118, 0.13719827990417027, 0.11937185506223688, 0.09968670899986165, 0.07825990831739421, 0.05528095770522729, 0.031016232090896562, 0.0058103924762656495, -0.019915691575644292, -0.045670869380806056, -0.07090368426500879, -0.0950164022704569, -0.11738288358628372, -0.13736985507049018, -0.1543609103022869, -0.16778234479339135, -0.17712974307464055, -0.18199408570471504, -0.18208605074549258, -0.17725715646546372, -0.16751643729146143, -0.15304146672549196, -0.13418273806183595, -0.1114606806231028, -0.08555491563889543, -0.0572857273340844, -0.027588123185645037, 0.0025207381574719806, 0.03197958453286062], [0.037104384846577534, 0.007233082355737275, -0.023527608249201665, -0.054043516875550875, -0.08321475815193494, -0.11001880232017779, -0.13354819579908725, -0.15304146672549196, -0.167906160972842, -0.17773339606034183, -0.18230376872794093, -0.18158488243001691, -0.17572115154133375, -0.16501687105976595, -0.1499137997580331, -0.13096468174943518, -0.10880422217787396, -0.08411903827788304, -0.05761803324395176, -0.030004497243790427, -0.001951040868825416, 0.025921773001301992, 0.05306249567952219, 0.07900122348247962, 0.10335731863015635, 0.1258425822940911, 0.14626024334832619, 0.16450028494360933, 0.18053174205108255, 0.1943926655354523, 0.2061784643801796, 0.21602931256266372, 0.22411724822563847, 0.23063350923189954, 0.23577655069724138, 0.23974108638511749, 0.242708395806646, 0.24483804991090946, 0.24626113579560338, 0.24707500803079696, 0.24733956165584545, 0.24707500803079696, 0.24626113579560338, 0.24483804991090946, 0.242708395806646, 0.23974108638511749, 0.23577655069724138, 0.23063350923189954, 0.22411724822563847, 0.21602931256266372, 0.2061784643801796, 0.1943926655354523, 0.18053174205108255, 0.16450028494360933, 0.14626024334832619, 0.1258425822940911, 0.10335731863015635, 0.07900122348247962, 0.05306249567952219, 0.025921773001301992, -0.001951040868825416, -0.030004497243790427, -0.05761803324395176, -0.08411903827788304, -0.10880422217787396, -0.13096468174943518, -0.1499137997580331, -0.16501687105976595, -0.17572115154133375, -0.18158488243001691, -0.18230376872794093, -0.17773339606034183, -0.167906160972842, -0.15304146672549196, -0.13354819579908725, -0.11001880232017779, -0.08321475815193494, -0.054043516875550875, -0.023527608249201665, 0.007233082355737275], [0.013454008098850966, -0.017859822184363938, -0.04916880920228074, -0.07929019757294747, -0.10711012813756442, -0.1316269478872783, -0.15198770280837584, -0.16751643729146143, -0.17773339606034183, -0.18236471957976835, -0.18134271385500067, -0.1747972342928682, -0.16303912773542587, -0.14653700801271363, -0.1258888846262905, -0.10179031338845618, -0.0750007897964791, -0.046310064114579955, -0.016505930263581485, 0.013655158230898757, 0.043473546354522816, 0.07232710218505171, 0.09968670899986165, 0.12512633286074154, 0.14832776112580212, 0.16908036038891633, 0.18727640924644018, 0.20290271423033404, 0.21602931256266372, 0.22679610352037188, 0.23539823538075702, 0.2420710146043941, 0.24707500803079696, 0.2506818889186662, 0.2531614457800734, 0.25477004091850136, 0.2557406839380664, 0.2562747828163765, 0.25653555744366946, 0.2566430509401283, 0.2566706526738519, 0.2566430509401283, 0.25653555744366946, 0.2562747828163765, 0.2557406839380664, 0.25477004091850136, 0.2531614457800734, 0.2506818889186662, 0.24707500803079696, 0.2420710146043941, 0.23539823538075702, 0.22679610352037188, 0.21602931256266372, 0.20290271423033404, 0.18727640924644018, 0.16908036038891633, 0.14832776112580212, 0.12512633286074154, 0.09968670899986165, 0.07232710218505171, 0.043473546354522816, 0.013655158230898757, -0.016505930263581485, -0.046310064114579955, -0.0750007897964791, -0.10179031338845618, -0.1258888846262905, -0.14653700801271363, -0.16303912773542587, -0.1747972342928682, -0.18134271385500067, -0.18236471957976835, -0.17773339606034183, -0.16751643729146143, -0.15198770280837584, -0.1316269478872783, -0.10711012813756442, -0.07929019757294747, -0.04916880920228074, -0.017859822184363938], [-0.01061150357619211, -0.042655257000177006, -0.07374973820785838, -0.10268778525178764, -0.1283676319466868, -0.14983554931501694, -0.16632015713858264, -0.17725715646546372, -0.18230376872794093, -0.18134271385500067, -0.17447608825271163, -0.16200998595397612, -0.14443111863131364, -0.12237701362727325, -0.09660159075517502, -0.06793803188546253, -0.03726086233570953, -0.005449066140771361, 0.026648129724923395, 0.058241427706856384, 0.08862652853638416, 0.11720338291232232, 0.14348926836260514, 0.16712567793535366, 0.18787932061729182, 0.20563779959612533, 0.22040074178662336, 0.23226729318028777, 0.24142096714711753, 0.24811283911536614, 0.25264402764959015, 0.255348298963932, 0.256575492104657, 0.2566762997375786, 0.2559887694405144, 0.2548267267047997, 0.25347017586536014, 0.252157618714697, 0.25108014921898075, 0.25037713957121355, 0.25013332713993036, 0.25037713957121355, 0.25108014921898075, 0.252157618714697, 0.25347017586536014, 0.2548267267047997, 0.2559887694405144, 0.2566762997375786, 0.256575492104657, 0.255348298963932, 0.25264402764959015, 0.24811283911536614, 0.24142096714711753, 0.23226729318028777, 0.22040074178662336, 0.20563779959612533, 0.18787932061729182, 0.16712567793535366, 0.14348926836260514, 0.11720338291232232, 0.08862652853638416, 0.058241427706856384, 0.026648129724923395, -0.005449066140771361, -0.03726086233570953, -0.06793803188546253, -0.09660159075517502, -0.12237701362727325, -0.14443111863131364, -0.16200998595397612, -0.17447608825271163, -0.18134271385500067, -0.18230376872794093, -0.17725715646546372, -0.16632015713858264, -0.14983554931501694, -0.1283676319466868, -0.10268778525178764, -0.07374973820785838, -0.042655257000177006], [-0.0345063152690242, -0.06655906279410359, -0.09668883252747353, -0.12368964794720452, -0.1464987033293174, -0.1642373823959323, -0.17624240938958516, -0.18208605074549258, -0.18158488243001691, -0.1747972342928682, -0.16200998595397612, -0.1437158894806465, -0.12058300781296416, -0.09341816596346665, -0.0631265026963309, -0.03066927919323432, 0.0029779491154211806, 0.03686485131708162, 0.07010183827093616, 0.1018902143955224, 0.13154597877649798, 0.15851669454452746, 0.18239124981424537, 0.20290271423033404, 0.21992483146863692, 0.23346296309158113, 0.24364050109720906, 0.2506818889186662, 0.254893432701845, 0.2566430509401283, 0.2563400102730029, 0.25441554164532254, 0.25130504004127213, 0.24743234013685533, 0.2431963471432226, 0.23896010343988033, 0.23504220166614895, 0.2317103248693539, 0.22917661128094333, 0.22759450814784551, 0.2270567942100705, 0.22759450814784551, 0.22917661128094333, 0.2317103248693539, 0.23504220166614895, 0.23896010343988033, 0.2431963471432226, 0.24743234013685533, 0.25130504004127213, 0.25441554164532254, 0.2563400102730029, 0.2566430509401283, 0.254893432701845, 0.2506818889186662, 0.24364050109720906, 0.23346296309158113, 0.21992483146863692, 0.20290271423033404, 0.18239124981424537, 0.15851669454452746, 0.13154597877649798, 0.1018902143955224, 0.07010183827093616, 0.03686485131708162, 0.0029779491154211806, -0.03066927919323432, -0.0631265026963309, -0.09341816596346665, -0.12058300781296416, -0.1437158894806465, -0.16200998595397612, -0.1747972342928682, -0.18158488243001691, -0.18208605074549258, -0.17624240938958516, -0.1642373823959323, -0.1464987033293174, -0.12368964794720452, -0.09668883252747353, -0.06655906279410359], [-0.05769048962428924, -0.08904297911487404, -0.11749065565570795, -0.14185512230149663, -0.16113955966514656, -0.17456713788189782, -0.18160802037610754, -0.18199408570471504, -0.17572115154133375, -0.16303912773542587, -0.14443111863131364, -0.12058300781296416, -0.09234546620178369, -0.060690608986011814, -0.026665677985416577, 0.008653858363151095, 0.044209509361482956, 0.07900122348247962, 0.11212338767979044, 0.14279404657238684, 0.17037647050011584, 0.1943926655354523, 0.2145288714461612, 0.23063350923189954, 0.242708395806646, 0.2508943222213973, 0.2554522819126627, 0.2567417315441088, 0.25519727019112654, 0.25130504004127213, 0.2455799958764798, 0.23854497801642713, 0.23071227369415245, 0.2225680860000738, 0.21456006847846779, 0.2070878465419809, 0.20049625055173417, 0.19507084218595108, 0.19103523332295086, 0.18854967763954522, 0.18771045677679687, 0.18854967763954522, 0.19103523332295086, 0.19507084218595108, 0.20049625055173417, 0.2070878465419809, 0.21456006847846779, 0.2225680860000738, 0.23071227369415245, 0.23854497801642713, 0.2455799958764798, 0.25130504004127213, 0.25519727019112654, 0.2567417315441088, 0.2554522819126627, 0.2508943222213973, 0.242708395806646, 0.23063350923189954, 0.2145288714461612, 0.1943926655354523, 0.17037647050011584, 0.14279404657238684, 0.11212338767979044, 0.07900122348247962, 0.044209509361482956, 0.008653858363151095, -0.026665677985416577, -0.060690608986011814, -0.09234546620178369, -0.12058300781296416, -0.14443111863131364, -0.16303912773542587, -0.17572115154133375, -0.18199408570471504, -0.18160802037610754, -0.17456713788189782, -0.16113955966514656, -0.14185512230149663, -0.11749065565570795, -0.08904297911487404], [-0.07968395387291566, -0.10965701691843574, -0.13575600794040762, -0.15685668268767797, -0.17205475511311313, -0.1807007071005138, -0.18242166855756492, -0.17712974307464055, -0.16501687105976595, -0.14653700801271363, -0.12237701362727325, -0.09341816596346665, -0.060690608986011814, -0.02532329427921568, 0.011507919583092052, 0.04863139306208121, 0.08492762656935865, 0.11937185506223688, 0.15106960365711752, 0.1792839709402817, 0.20345392533496165, 0.2232034254780841, 0.2383416766936446, 0.24885528388828942, 0.254893432701845, 0.25674750760048576, 0.2548267267047997, 0.24963143467045815, 0.24172565029557566, 0.2317103248693539, 0.22019854657881394, 0.20779364608280457, 0.19507084218595108, 0.18256273925541686, 0.17074867404778504, 0.16004763127913005, 0.15081422331281308, 0.1433370736825879, 0.13783886506830845, 0.134477311926808, 0.1333463922312941, 0.134477311926808, 0.13783886506830845, 0.1433370736825879, 0.15081422331281308, 0.16004763127913005, 0.17074867404778504, 0.18256273925541686, 0.19507084218595108, 0.20779364608280457, 0.22019854657881394, 0.2317103248693539, 0.24172565029557566, 0.24963143467045815, 0.2548267267047997, 0.25674750760048576, 0.254893432701845, 0.24885528388828942, 0.2383416766936446, 0.2232034254780841, 0.20345392533496165, 0.1792839709402817, 0.15106960365711752, 0.11937185506223688, 0.08492762656935865, 0.04863139306208121, 0.011507919583092052, -0.02532329427921568, -0.060690608986011814, -0.09341816596346665, -0.12237701362727325, -0.14653700801271363, -0.16501687105976595, -0.17712974307464055, -0.18242166855756492, -0.1807007071005138, -0.17205475511311313, -0.15685668268767797, -0.13575600794040762, -0.10965701691843574], [-0.10007704610444179, -0.12803786284735597, -0.1511875643863488, -0.16848219583369567, -0.17913546063850083, -0.18264893898060253, -0.1788278960809016, -0.16778234479339135, -0.1499137997580331, -0.1258888846262905, -0.09660159075517502, -0.0631265026963309, -0.026665677985416577, 0.011507919583092052, 0.05010748884225075, 0.0878871354792479, 0.12369173187889267, 0.15649972810645998, 0.18545724476618586, 0.20990234059772522, 0.22937894091767205, 0.24364050109720906, 0.25264402764959015, 0.25653555744366946, 0.25562857790064414, 0.25037713957121355, 0.2413455569066888, 0.22917661128094333, 0.21456006847846779, 0.1982031145119569, 0.18080401871815463, 0.1630299764243758, 0.14549969299473817, 0.12877087581897034, 0.11333242903336226, 0.09960082298540655, 0.08791985781076668, 0.07856287339249271, 0.07173638515428266, 0.06758414818694233, 0.0661907655654817, 0.06758414818694233, 0.07173638515428266, 0.07856287339249271, 0.08791985781076668, 0.09960082298540655, 0.11333242903336226, 0.12877087581897034, 0.14549969299473817, 0.1630299764243758, 0.18080401871815463, 0.1982031145119569, 0.21456006847846779, 0.22917661128094333, 0.2413455569066888, 0.25037713957121355, 0.25562857790064414, 0.25653555744366946, 0.25264402764959015, 0.24364050109720906, 0.22937894091767205, 0.20990234059772522, 0.18545724476618586, 0.15649972810645998, 0.12369173187889267, 0.0878871354792479, 0.05010748884225075, 0.011507919583092052, -0.026665677985416577, -0.0631265026963309, -0.09660159075517502, -0.1258888846262905, -0.1499137997580331, -0.16778234479339135, -0.1788278960809016, -0.18264893898060253, -0.17913546063850083, -0.16848219583369567, -0.1511875643863488, -0.12803786284735597], [-0.11853755153953284, -0.14391335124448024, -0.163591222139663, -0.17663261032673944, -0.18239300622958532, -0.18054660691367944, -0.17109514979541934, -0.1543609103022869, -0.13096468174943518, -0.10179031338845618, -0.06793803188546253, -0.03066927919323432, 0.008653858363151095, 0.04863139306208121, 0.0878871354792479, 0.12512633286074154, 0.15918658398472915, 0.1890798565922851, 0.21402402107025095, 0.23346296309158113, 0.24707500803079696, 0.25477004091850136, 0.2566762997375786, 0.25311832399967577, 0.24458792842044305, 0.2317103248693539, 0.2152076253393881, 0.19586192453391038, 0.17447999195279823, 0.15186131748507978, 0.12877087581897034, 0.10591753298818528, 0.08393854575868848, 0.06339013493636744, 0.044743679368913644, 0.02838670735216783, 0.014627580006334946, 0.0037025838949493145, -0.004215913110515241, -0.009011537058698997, -0.010617349295218181, -0.009011537058698997, -0.004215913110515241, 0.0037025838949493145, 0.014627580006334946, 0.02838670735216783, 0.044743679368913644, 0.06339013493636744, 0.08393854575868848, 0.10591753298818528, 0.12877087581897034, 0.15186131748507978, 0.17447999195279823, 0.19586192453391038, 0.2152076253393881, 0.2317103248693539, 0.24458792842044305, 0.25311832399967577, 0.2566762997375786, 0.25477004091850136, 0.24707500803079696, 0.23346296309158113, 0.21402402107025095, 0.1890798565922851, 0.15918658398472915, 0.12512633286074154, 0.0878871354792479, 0.04863139306208121, 0.008653858363151095, -0.03066927919323432, -0.06793803188546253, -0.10179031338845618, -0.13096468174943518, -0.1543609103022869, -0.17109514979541934, -0.18054660691367944, -0.18239300622958532, -0.17663261032673944, -0.163591222139663, -0.14391335124448024], [-0.13481430178982187, -0.15710321083861073, -0.17287351607260817, -0.18131560690315682, -0.18194839266053625, -0.17463748569481502, -0.15959621882048483, -0.13736985507049018, -0.10880422217787396, -0.0750007897964791, -0.03726086233570953, 0.0029779491154211806, 0.044209509361482956, 0.08492762656935865, 0.12369173187889267, 0.15918658398472915, 0.1902732638436695, 0.21602931256266372, 0.23577655069724138, 0.24909585663212155, 0.25582893038458626, 0.2560677827399544, 0.25013332713993036, 0.23854497801642713, 0.22198354690007724, 0.20124995852555586, 0.17722237538812438, 0.15081422331281308, 0.12293536517635703, 0.09445829662141196, 0.0661907655654817, 0.03885568116655977, 0.013078615468659323, -0.010617349295218181, -0.03181017613329085, -0.050171999808914604, -0.06545830501430487, -0.07749482277960204, -0.08616386191642225, -0.09139170665445415, -0.09313849939964196, -0.09139170665445415, -0.08616386191642225, -0.07749482277960204, -0.06545830501430487, -0.050171999808914604, -0.03181017613329085, -0.010617349295218181, 0.013078615468659323, 0.03885568116655977, 0.0661907655654817, 0.09445829662141196, 0.12293536517635703, 0.15081422331281308, 0.17722237538812438, 0.20124995852555586, 0.22198354690007724, 0.23854497801642713, 0.25013332713993036, 0.2560677827399544, 0.25582893038458626, 0.24909585663212155, 0.23577655069724138, 0.21602931256266372, 0.1902732638436695, 0.15918658398472915, 0.12369173187889267, 0.08492762656935865, 0.044209509361482956, 0.0029779491154211806, -0.03726086233570953, -0.0750007897964791, -0.10880422217787396, -0.13736985507049018, -0.15959621882048483, -0.17463748569481502, -0.18194839266053625, -0.18131560690315682, -0.17287351607260817, -0.15710321083861073], [-0.1487375524385824, -0.16751643729146143, -0.17903560277058095, -0.1826358700412797, -0.17801860199902664, -0.16525654180237792, -0.14478624788034108, -0.11738288358628372, -0.08411903827788304, -0.046310064114579955, -0.005449066140771361, 0.03686485131708162, 0.07900122348247962, 0.11937185506223688, 0.15649972810645998, 0.1890798565922851, 0.21602931256266372, 0.2365243422174828, 0.25002327766855664, 0.2562747828163765, 0.2553118000893658, 0.24743234013685533, 0.23316893482082693, 0.21324911772700825, 0.18854967763954522, 0.16004763127913005, 0.12877087581897034, 0.0957513146109, 0.06198291759831892, 0.02838670735216783, -0.004215913110515241, -0.03512071345143313, -0.06374895250625122, -0.08964697741323371, -0.11247819731414006, -0.132008995765264, -0.14809048863531396, -0.16063822727306362, -0.1696119802323752, -0.17499760171649797, -0.17679272260843765, -0.17499760171649797, -0.1696119802323752, -0.16063822727306362, -0.14809048863531396, -0.132008995765264, -0.11247819731414006, -0.08964697741323371, -0.06374895250625122, -0.03512071345143313, -0.004215913110515241, 0.02838670735216783, 0.06198291759831892, 0.0957513146109, 0.12877087581897034, 0.16004763127913005, 0.18854967763954522, 0.21324911772700825, 0.23316893482082693, 0.24743234013685533, 0.2553118000893658, 0.2562747828163765, 0.25002327766855664, 0.2365243422174828, 0.21602931256266372, 0.1890798565922851, 0.15649972810645998, 0.11937185506223688, 0.07900122348247962, 0.03686485131708162, -0.005449066140771361, -0.046310064114579955, -0.08411903827788304, -0.11738288358628372, -0.14478624788034108, -0.16525654180237792, -0.17801860199902664, -0.1826358700412797, -0.17903560277058095, -0.16751643729146143], [-0.16021647158282734, -0.1751457556394694, -0.1821644169794075, -0.18078273088932142, -0.17090060569317098, -0.1528102839666787, -0.1271795169340972, -0.0950164022704569, -0.05761803324395176, -0.016505930263581485, 0.026648129724923395, 0.07010183827093616, 0.11212338767979044, 0.15106960365711752, 0.18545724476618586, 0.21402402107025095, 0.23577655069724138, 0.25002327766855664, 0.25639126767027576, 0.2548267267047997, 0.2455799958764798, 0.22917661128094333, 0.2063767337439853, 0.17812580971586786, 0.14549969299473817, 0.1096476200446325, 0.07173638515428266, 0.032898814044057145, -0.005810793613848673, -0.043452159632214875, -0.0792240541655952, -0.11247819731414006, -0.1427221428215067, -0.1696119802323752, -0.1929363397545002, -0.2125937105436689, -0.22856545626592412, -0.24088710992360066, -0.24962054293732017, -0.254829433326894, -0.2565601183892334, -0.254829433326894, -0.24962054293732017, -0.24088710992360066, -0.22856545626592412, -0.2125937105436689, -0.1929363397545002, -0.1696119802323752, -0.1427221428215067, -0.11247819731414006, -0.0792240541655952, -0.043452159632214875, -0.005810793613848673, 0.032898814044057145, 0.07173638515428266, 0.1096476200446325, 0.14549969299473817, 0.17812580971586786, 0.2063767337439853, 0.22917661128094333, 0.2455799958764798, 0.2548267267047997, 0.25639126767027576, 0.25002327766855664, 0.23577655069724138, 0.21402402107025095, 0.18545724476618586, 0.15106960365711752, 0.11212338767979044, 0.07010183827093616, 0.026648129724923395, -0.016505930263581485, -0.05761803324395176, -0.0950164022704569, -0.1271795169340972, -0.1528102839666787, -0.17090060569317098, -0.18078273088932142, -0.1821644169794075, -0.1751457556394694], [-0.16923416092386775, -0.1800597155006458, -0.18242166855756492, -0.1760159755489718, -0.1609539875623888, -0.1377563081818195, -0.10732612754693129, -0.07090368426500879, -0.030004497243790427, 0.013655158230898757, 0.058241427706856384, 0.1018902143955224, 0.14279404657238684, 0.1792839709402817, 0.20990234059772522, 0.23346296309158113, 0.24909585663212155, 0.2562747828163765, 0.2548267267047997, 0.24492352037505036, 0.2270567942100705, 0.20199833430642128, 0.17074867404778504, 0.134477311926808, 0.09445829662141196, 0.05200503792795912, 0.00840808631479302, -0.03512071345143313, -0.07749482277960204, -0.1177881852505473, -0.15525760655490364, -0.18935183535374994, -0.21970771693043264, -0.24613461781837798, -0.268589046149572, -0.28714197491104243, -0.30194177876754097, -0.31317589634427284, -0.3210343185560354, -0.32567778292945404, -0.32721314035298743, -0.32567778292945404, -0.3210343185560354, -0.31317589634427284, -0.30194177876754097, -0.28714197491104243, -0.268589046149572, -0.24613461781837798, -0.21970771693043264, -0.18935183535374994, -0.15525760655490364, -0.1177881852505473, -0.07749482277960204, -0.03512071345143313, 0.00840808631479302, 0.05200503792795912, 0.09445829662141196, 0.134477311926808, 0.17074867404778504, 0.20199833430642128, 0.2270567942100705, 0.24492352037505036, 0.2548267267047997, 0.2562747828163765, 0.24909585663212155, 0.23346296309158113, 0.20990234059772522, 0.1792839709402817, 0.14279404657238684, 0.1018902143955224, 0.058241427706856384, 0.013655158230898757, -0.030004497243790427, -0.07090368426500879, -0.10732612754693129, -0.1377563081818195, -0.1609539875623888, -0.1760159755489718, -0.18242166855756492, -0.1800597155006458], [-0.17584069010379264, -0.18239300622958532, -0.1800313728705813, -0.16865061331126227, -0.14858307017251748, -0.12058300781296416, -0.0857896329957062, -0.045670869380806056, -0.001951040868825416, 0.043473546354522816, 0.08862652853638416, 0.13154597877649798, 0.17037647050011584, 0.20345392533496165, 0.22937894091767205, 0.24707500803079696, 0.25582893038458626, 0.2553118000893658, 0.2455799958764798, 0.2270567942100705, 0.20049625055173417, 0.16693195814109418, 0.12761407121954643, 0.08393854575868848, 0.037372873633869375, -0.010617349295218181, -0.05863687417657578, -0.10542055787501849, -0.14988136590815446, -0.19114437378651342, -0.22856545626592412, -0.2617343483375656, -0.29046275344788247, -0.31475910259630246, -0.33479237619194996, -0.35084804028714445, -0.3632795822101567, -0.37245933283868765, -0.3787322233669178, -0.382375848005458, -0.3835697098652554, -0.382375848005458, -0.3787322233669178, -0.37245933283868765, -0.3632795822101567, -0.35084804028714445, -0.33479237619194996, -0.31475910259630246, -0.29046275344788247, -0.2617343483375656, -0.22856545626592412, -0.19114437378651342, -0.14988136590815446, -0.10542055787501849, -0.05863687417657578, -0.010617349295218181, 0.037372873633869375, 0.08393854575868848, 0.12761407121954643, 0.16693195814109418, 0.20049625055173417, 0.2270567942100705, 0.2455799958764798, 0.2553118000893658, 0.25582893038458626, 0.24707500803079696, 0.22937894091767205, 0.20345392533496165, 0.17037647050011584, 0.13154597877649798, 0.08862652853638416, 0.043473546354522816, -0.001951040868825416, -0.045670869380806056, -0.0857896329957062, -0.12058300781296416, -0.14858307017251748, -0.16865061331126227, -0.1800313728705813, -0.18239300622958532], [-0.1801446545297837, -0.18233559039097344, -0.1752665961050691, -0.15904136091487175, -0.13421936300715656, -0.10179031338845618, -0.0631265026963309, -0.019915691575644292, 0.025921773001301992, 0.07232710218505171, 0.11720338291232232, 0.15851669454452746, 0.1943926655354523, 0.2232034254780841, 0.24364050109720906, 0.25477004091850136, 0.2560677827399544, 0.24743234013685533, 0.22917661128094333, 0.20199833430642128, 0.16693195814109418, 0.12528500092613942, 0.07856287339249271, 0.02838670735216783, -0.02359098016854476, -0.0757679524450742, -0.12666669235949252, -0.17499760171649797, -0.21970771693043264, -0.26001264723920775, -0.29541051237375787, -0.32567778292945404, -0.35084804028714445, -0.37117570680030565, -0.38708768931988075, -0.3991265770886398, -0.407889497747319, -0.41396693622794944, -0.417885750201407, -0.4200602785751461, -0.4207548585159486, -0.4200602785751461, -0.417885750201407, -0.41396693622794944, -0.407889497747319, -0.3991265770886398, -0.38708768931988075, -0.37117570680030565, -0.35084804028714445, -0.32567778292945404, -0.29541051237375787, -0.26001264723920775, -0.21970771693043264, -0.17499760171649797, -0.12666669235949252, -0.0757679524450742, -0.02359098016854476, 0.02838670735216783, 0.07856287339249271, 0.12528500092613942, 0.16693195814109418, 0.20199833430642128, 0.22917661128094333, 0.24743234013685533, 0.2560677827399544, 0.25477004091850136, 0.24364050109720906, 0.2232034254780841, 0.1943926655354523, 0.15851669454452746, 0.11720338291232232, 0.07232710218505171, 0.025921773001301992, -0.019915691575644292, -0.0631265026963309, -0.10179031338845618, -0.13421936300715656, -0.15904136091487175, -0.1752665961050691, -0.18233559039097344], [-0.18230376872794093, -0.18012123502583363, -0.16843605361995675, -0.14756752732225356, -0.11830504740258321, -0.08187218787401292, -0.039868134180728126, 0.0058103924762656495, 0.05306249567952219, 0.09968670899986165, 0.14348926836260514, 0.18239124981424537, 0.2145288714461612, 0.2383416766936446, 0.25264402764959015, 0.2566762997375786, 0.25013332713993036, 0.23316893482082693, 0.2063767337439853, 0.17074867404778504, 0.12761407121954643, 0.07856287339249271, 0.02535776443828009, -0.030159748399708135, -0.08616386191642225, -0.1409342819269669, -0.1929363397545002, -0.24088710992360066, -0.2838041182964338, -0.3210343185560354, -0.35226222727992795, -0.37749737145928347, -0.3970424421347404, -0.41144469052055266, -0.42143408131469146, -0.42785247459104203, -0.43157859884674826, -0.4334537754581445, -0.434213248547002, -0.43442757176285574, -0.43445783007337646, -0.43442757176285574, -0.434213248547002, -0.4334537754581445, -0.43157859884674826, -0.42785247459104203, -0.42143408131469146, -0.41144469052055266, -0.3970424421347404, -0.37749737145928347, -0.35226222727992795, -0.3210343185560354, -0.2838041182964338, -0.24088710992360066, -0.1929363397545002, -0.1409342819269669, -0.08616386191642225, -0.030159748399708135, 0.02535776443828009, 0.07856287339249271, 0.12761407121954643, 0.17074867404778504, 0.2063767337439853, 0.23316893482082693, 0.25013332713993036, 0.2566762997375786, 0.25264402764959015, 0.2383416766936446, 0.2145288714461612, 0.18239124981424537, 0.14348926836260514, 0.09968670899986165, 0.05306249567952219, 0.0058103924762656495, -0.039868134180728126, -0.08187218787401292, -0.11830504740258321, -0.14756752732225356, -0.16843605361995675, -0.18012123502583363], [-0.18251498442862385, -0.1760159755489718, -0.15987112992755653, -0.13461888616197776, -0.10127808535368477, -0.061301442485772274, -0.016505930263581485, 0.031016232090896562, 0.07900122348247962, 0.12512633286074154, 0.16712567793535366, 0.20290271423033404, 0.23063350923189954, 0.24885528388828942, 0.25653555744366946, 0.25311832399967577, 0.23854497801642713, 0.21324911772700825, 0.17812580971586786, 0.134477311926808, 0.08393854575868848, 0.02838670735216783, -0.030159748399708135, -0.08964697741323371, -0.14809048863531396, -0.2036729142303004, -0.254829433326894, -0.3003162506586467, -0.3392585664190622, -0.37117570680030565, -0.39598244357893553, -0.41396693622794944, -0.42574709936268906, -0.43220845214435083, -0.43442757176285574, -0.4335860886421158, -0.4308806796227811, -0.4274347075936389, -0.42421701152445723, -0.42197287899622543, -0.421171462695804, -0.42197287899622543, -0.42421701152445723, -0.4274347075936389, -0.4308806796227811, -0.4335860886421158, -0.43442757176285574, -0.43220845214435083, -0.42574709936268906, -0.41396693622794944, -0.39598244357893553, -0.37117570680030565, -0.3392585664190622, -0.3003162506586467, -0.254829433326894, -0.2036729142303004, -0.14809048863531396, -0.08964697741323371, -0.030159748399708135, 0.02838670735216783, 0.08393854575868848, 0.134477311926808, 0.17812580971586786, 0.21324911772700825, 0.23854497801642713, 0.25311832399967577, 0.25653555744366946, 0.24885528388828942, 0.23063350923189954, 0.20290271423033404, 0.16712567793535366, 0.12512633286074154, 0.07900122348247962, 0.031016232090896562, -0.016505930263581485, -0.061301442485772274, -0.10127808535368477, -0.13461888616197776, -0.15987112992755653, -0.1760159755489718], [-0.18100457917857166, -0.17030698199702413, -0.1499137997580331, -0.12058300781296416, -0.08355939645450051, -0.040517266401149735, 0.0065202421682302655, 0.05528095770522729, 0.10335731863015635, 0.14832776112580212, 0.18787932061729182, 0.21992483146863692, 0.242708395806646, 0.254893432701845, 0.25562857790064414, 0.24458792842044305, 0.22198354690007724, 0.18854967763954522, 0.14549969299473817, 0.09445829662141196, 0.037372873633869375, -0.02359098016854476, -0.08616386191642225, -0.14809048863531396, -0.20724458052139974, -0.2617343483375656, -0.309992807249447, -0.35084804028714445, -0.3835697098652554, -0.407889497747319, -0.42399466300627076, -0.43249545715781157, -0.43436863670247905, -0.4308806796227811, -0.42349546556438716, -0.4137720534188708, -0.40325873487122593, -0.39338972722403176, -0.3853906832849483, -0.3801986514917913, -0.3784012476539641, -0.3801986514917913, -0.3853906832849483, -0.39338972722403176, -0.40325873487122593, -0.4137720534188708, -0.42349546556438716, -0.4308806796227811, -0.43436863670247905, -0.43249545715781157, -0.42399466300627076, -0.407889497747319, -0.3835697098652554, -0.35084804028714445, -0.309992807249447, -0.2617343483375656, -0.20724458052139974, -0.14809048863531396, -0.08616386191642225, -0.02359098016854476, 0.037372873633869375, 0.09445829662141196, 0.14549969299473817, 0.18854967763954522, 0.22198354690007724, 0.24458792842044305, 0.25562857790064414, 0.254893432701845, 0.242708395806646, 0.21992483146863692, 0.18787932061729182, 0.14832776112580212, 0.10335731863015635, 0.05528095770522729, 0.0065202421682302655, -0.040517266401149735, -0.08355939645450051, -0.12058300781296416, -0.1499137997580331, -0.17030698199702413], [-0.17801860199902664, -0.16329221750830802, -0.13890582780165694, -0.10583439818051152, -0.06554239869174844, -0.019915691575644292, 0.02883009042098063, 0.07825990831739421, 0.1258425822940911, 0.16908036038891633, 0.20563779959612533, 0.23346296309158113, 0.2508943222213973, 0.25674750760048576, 0.25037713957121355, 0.2317103248693539, 0.20124995852555586, 0.16004763127913005, 0.1096476200446325, 0.05200503792795912, -0.010617349295218181, -0.0757679524450742, -0.1409342819269669, -0.2036729142303004, -0.2617343483375656, -0.31317589634427284, -0.3564564355250057, -0.3905078789395116, -0.4147795406040892, -0.42925310491460716, -0.43442757176285574, -0.4312752446188071, -0.421171462695804, -0.40580225753498556, -0.38705535500366767, -0.36690087535799776, -0.3472686537517362, -0.32992927901128904, -0.3163857196862348, -0.3077817863653888, -0.30483270332925, -0.3077817863653888, -0.3163857196862348, -0.32992927901128904, -0.3472686537517362, -0.36690087535799776, -0.38705535500366767, -0.40580225753498556, -0.421171462695804, -0.4312752446188071, -0.43442757176285574, -0.42925310491460716, -0.4147795406040892, -0.3905078789395116, -0.3564564355250057, -0.31317589634427284, -0.2617343483375656, -0.2036729142303004, -0.1409342819269669, -0.0757679524450742, -0.010617349295218181, 0.05200503792795912, 0.1096476200446325, 0.16004763127913005, 0.20124995852555586, 0.2317103248693539, 0.25037713957121355, 0.25674750760048576, 0.2508943222213973, 0.23346296309158113, 0.20563779959612533, 0.16908036038891633, 0.1258425822940911, 0.07825990831739421, 0.02883009042098063, -0.019915691575644292, -0.06554239869174844, -0.10583439818051152, -0.13890582780165694, -0.16329221750830802], [-0.1738139924448547, -0.15527119023634722, -0.1271795169340972, -0.0907256642328181, -0.04758506314163741, 0.0001569493213448689, 0.05010748884225075, 0.09968670899986165, 0.14626024334832619, 0.18727640924644018, 0.22040074178662336, 0.24364050109720906, 0.2554522819126627, 0.2548267267047997, 0.2413455569066888, 0.2152076253393881, 0.17722237538812438, 0.12877087581897034, 0.07173638515428266, 0.00840808631479302, -0.05863687417657578, -0.12666669235949252, -0.1929363397545002, -0.254829433326894, -0.309992807249447, -0.3564564355250057, -0.39273214882544505, -0.417885750201407, -0.43157859884674826, -0.434076417833265, -0.42622489689420734, -0.4093935036702951, -0.3853906832849483, -0.35635521764627226, -0.324629843053556, -0.2926242127644853, -0.2626748843273063, -0.23691017597600564, -0.21712746254366178, -0.20468978410715197, -0.20044755867978276, -0.20468978410715197, -0.21712746254366178, -0.23691017597600564, -0.2626748843273063, -0.2926242127644853, -0.324629843053556, -0.35635521764627226, -0.3853906832849483, -0.4093935036702951, -0.42622489689420734, -0.434076417833265, -0.43157859884674826, -0.417885750201407, -0.39273214882544505, -0.3564564355250057, -0.309992807249447, -0.254829433326894, -0.1929363397545002, -0.12666669235949252, -0.05863687417657578, 0.00840808631479302, 0.07173638515428266, 0.12877087581897034, 0.17722237538812438, 0.2152076253393881, 0.2413455569066888, 0.2548267267047997, 0.2554522819126627, 0.24364050109720906, 0.22040074178662336, 0.18727640924644018, 0.14626024334832619, 0.09968670899986165, 0.05010748884225075, 0.0001569493213448689, -0.04758506314163741, -0.0907256642328181, -0.1271795169340972, -0.15527119023634722], [-0.16865061331126227, -0.14653700801271363, -0.11505016730310495, -0.07558080422426758, -0.030004497243790427, 0.019407660252202565, 0.07010183827093616, 0.11937185506223688, 0.16450028494360933, 0.20290271423033404, 0.23226729318028777, 0.2506818889186662, 0.2567417315441088, 0.24963143467045815, 0.22917661128094333, 0.19586192453391038, 0.15081422331281308, 0.0957513146109, 0.032898814044057145, -0.03512071345143313, -0.10542055787501849, -0.17499760171649797, -0.24088710992360066, -0.3003162506586467, -0.35084804028714445, -0.3905078789395116, -0.417885750201407, -0.43220845214435083, -0.4333778373354074, -0.42197287899622543, -0.39921534828629784, -0.36690087535799776, -0.32729906443176787, -0.28302803533990717, -0.23691017597600564, -0.19181693290541052, -0.15051108239111077, -0.11549507625799743, -0.08887373699192957, -0.0722388011028484, -0.06658162124929747, -0.0722388011028484, -0.08887373699192957, -0.11549507625799743, -0.15051108239111077, -0.19181693290541052, -0.23691017597600564, -0.28302803533990717, -0.32729906443176787, -0.36690087535799776, -0.39921534828629784, -0.42197287899622543, -0.4333778373354074, -0.43220845214435083, -0.417885750201407, -0.3905078789395116, -0.35084804028714445, -0.3003162506586467, -0.24088710992360066, -0.17499760171649797, -0.10542055787501849, -0.03512071345143313, 0.032898814044057145, 0.0957513146109, 0.15081422331281308, 0.19586192453391038, 0.22917661128094333, 0.24963143467045815, 0.2567417315441088, 0.2506818889186662, 0.23226729318028777, 0.20290271423033404, 0.16450028494360933, 0.11937185506223688, 0.07010183827093616, 0.019407660252202565, -0.030004497243790427, -0.07558080422426758, -0.11505016730310495, -0.14653700801271363], [-0.16278435980926842, -0.13736985507049018, -0.10281030706494565, -0.060690608986011814, -0.013073952151520388, 0.03759772656874239, 0.08862652853638416, 0.13719827990417027, 0.18053174205108255, 0.21602931256266372, 0.24142096714711753, 0.254893432701845, 0.25519727019112654, 0.24172565029557566, 0.21456006847846779, 0.17447999195279823, 0.12293536517635703, 0.06198291759831892, -0.005810793613848673, -0.07749482277960204, -0.14988136590815446, -0.21970771693043264, -0.2838041182964338, -0.3392585664190622, -0.3835697098652554, -0.4147795406040892, -0.43157859884674826, -0.4333778373354074, -0.4203430458705095, -0.39338972722403176, -0.3541384336243295, -0.30483270332925, -0.24822376277499153, -0.187427969950852, -0.1257644689695074, -0.06658162124929747, -0.0130814139378774, 0.03184881503912622, 0.0657883626364726, 0.08691073780520595, 0.0940800053732448, 0.08691073780520595, 0.0657883626364726, 0.03184881503912622, -0.0130814139378774, -0.06658162124929747, -0.1257644689695074, -0.187427969950852, -0.24822376277499153, -0.30483270332925, -0.3541384336243295, -0.39338972722403176, -0.4203430458705095, -0.4333778373354074, -0.43157859884674826, -0.4147795406040892, -0.3835697098652554, -0.3392585664190622, -0.2838041182964338, -0.21970771693043264, -0.14988136590815446, -0.07749482277960204, -0.005810793613848673, 0.06198291759831892, 0.12293536517635703, 0.17447999195279823, 0.21456006847846779, 0.24172565029557566, 0.25519727019112654, 0.254893432701845, 0.24142096714711753, 0.21602931256266372, 0.18053174205108255, 0.13719827990417027, 0.08862652853638416, 0.03759772656874239, -0.013073952151520388, -0.060690608986011814, -0.10281030706494565, -0.13736985507049018], [-0.15646143337355978, -0.12803192632998142, -0.0907256642328181, -0.046310064114579955, 0.0029779491154211806, 0.054541276561040686, 0.10555493165712146, 0.15311446345017118, 0.1943926655354523, 0.22679610352037188, 0.24811283911536614, 0.2566430509401283, 0.25130504004127213, 0.2317103248693539, 0.1982031145119569, 0.15186131748507978, 0.09445829662141196, 0.02838670735216783, -0.043452159632214875, -0.1177881852505473, -0.19114437378651342, -0.26001264723920775, -0.3210343185560354, -0.37117570680030565, -0.407889497747319, -0.42925310491460716, -0.434076417833265, -0.42197287899622543, -0.39338972722403176, -0.3495953826561967, -0.2926242127644853, -0.22518118755916025, -0.15051108239111077, -0.0722388011028484, 0.005811034304373925, 0.07980593576993696, 0.14609889758077332, 0.20141317105264114, 0.24300880867803662, 0.2688222513075441, 0.277571630583514, 0.2688222513075441, 0.24300880867803662, 0.20141317105264114, 0.14609889758077332, 0.07980593576993696, 0.005811034304373925, -0.0722388011028484, -0.15051108239111077, -0.22518118755916025, -0.2926242127644853, -0.3495953826561967, -0.39338972722403176, -0.42197287899622543, -0.434076417833265, -0.42925310491460716, -0.407889497747319, -0.37117570680030565, -0.3210343185560354, -0.26001264723920775, -0.19114437378651342, -0.1177881852505473, -0.043452159632214875, 0.02838670735216783, 0.09445829662141196, 0.15186131748507978, 0.1982031145119569, 0.2317103248693539, 0.25130504004127213, 0.2566430509401283, 0.24811283911536614, 0.22679610352037188, 0.1943926655354523, 0.15311446345017118, 0.10555493165712146, 0.054541276561040686, 0.0029779491154211806, -0.046310064114579955, -0.0907256642328181, -0.12803192632998142], [-0.1499137997580331, -0.11876378051842666, -0.07903277128303789, -0.032657564269347995, 0.017966041941118966, 0.07010183827093616, 0.12081441070397907, 0.16712567793535366, 0.2061784643801796, 0.23539823538075702, 0.25264402764959015, 0.2563400102730029, 0.2455799958764798, 0.22019854657881394, 0.18080401871815463, 0.12877087581897034, 0.0661907655654817, -0.004215913110515241, -0.0792240541655952, -0.15525760655490364, -0.22856545626592412, -0.29541051237375787, -0.35226222727992795, -0.39598244357893553, -0.42399466300627076, -0.43442757176285574, -0.42622489689420734, -0.39921534828629784, -0.3541384336243295, -0.2926242127644853, -0.21712746254366178, -0.13081912452072303, -0.03744017720227128, 0.05887491198907235, 0.1537963512162099, 0.24300880867803662, 0.32242214992953067, 0.38837235101706136, 0.43780226922078175, 0.4684129583840573, 0.47877771528316515, 0.4684129583840573, 0.43780226922078175, 0.38837235101706136, 0.32242214992953067, 0.24300880867803662, 0.1537963512162099, 0.05887491198907235, -0.03744017720227128, -0.13081912452072303, -0.21712746254366178, -0.2926242127644853, -0.3541384336243295, -0.39921534828629784, -0.42622489689420734, -0.43442757176285574, -0.42399466300627076, -0.39598244357893553, -0.35226222727992795, -0.29541051237375787, -0.22856545626592412, -0.15525760655490364, -0.0792240541655952, -0.004215913110515241, 0.0661907655654817, 0.12877087581897034, 0.18080401871815463, 0.22019854657881394, 0.2455799958764798, 0.2563400102730029, 0.25264402764959015, 0.23539823538075702, 0.2061784643801796, 0.16712567793535366, 0.12081441070397907, 0.07010183827093616, 0.017966041941118966, -0.032657564269347995, -0.07903277128303789, -0.11876378051842666], [-0.14335579129849668, -0.10978201113265723, -0.06793803188546253, -0.019915691575644292, 0.031745840459068614, 0.08418731130237875, 0.13437885433763305, 0.1792839709402817, 0.21602931256266372, 0.2420710146043941, 0.255348298963932, 0.25441554164532254, 0.23854497801642713, 0.20779364608280457, 0.1630299764243758, 0.10591753298818528, 0.03885568116655977, -0.03512071345143313, -0.11247819731414006, -0.18935183535374994, -0.2617343483375656, -0.32567778292945404, -0.37749737145928347, -0.41396693622794944, -0.43249545715781157, -0.4312752446188071, -0.4093935036702951, -0.36690087535799776, -0.30483270332925, -0.22518118755916025, -0.13081912452072303, -0.025378460035175753, 0.08691073780520595, 0.20141317105264114, 0.3133036361206578, 0.4177941096414197, 0.5103612401471838, 0.5869627944413911, 0.6442321103834694, 0.6796406846183429, 0.69162061945593, 0.6796406846183429, 0.6442321103834694, 0.5869627944413911, 0.5103612401471838, 0.4177941096414197, 0.3133036361206578, 0.20141317105264114, 0.08691073780520595, -0.025378460035175753, -0.13081912452072303, -0.22518118755916025, -0.30483270332925, -0.36690087535799776, -0.4093935036702951, -0.4312752446188071, -0.43249545715781157, -0.41396693622794944, -0.37749737145928347, -0.32567778292945404, -0.2617343483375656, -0.18935183535374994, -0.11247819731414006, -0.03512071345143313, 0.03885568116655977, 0.10591753298818528, 0.1630299764243758, 0.20779364608280457, 0.23854497801642713, 0.25441554164532254, 0.255348298963932, 0.2420710146043941, 0.21602931256266372, 0.1792839709402817, 0.13437885433763305, 0.08418731130237875, 0.031745840459068614, -0.019915691575644292, -0.06793803188546253, -0.10978201113265723], [-0.13698176393514344, -0.10127808535368477, -0.05761803324395176, -0.00823327044894154, 0.044209509361482956, 0.09674378883254962, 0.14626024334832619, 0.18967745729212915, 0.22411724822563847, 0.24707500803079696, 0.256575492104657, 0.25130504004127213, 0.23071227369415245, 0.19507084218595108, 0.14549969299473817, 0.08393854575868848, 0.013078615468659323, -0.06374895250625122, -0.1427221428215067, -0.21970771693043264, -0.29046275344788247, -0.35084804028714445, -0.3970424421347404, -0.42574709936268906, -0.43436863670247905, -0.421171462695804, -0.3853906832849483, -0.32729906443176787, -0.24822376277499153, -0.15051108239111077, -0.03744017720227128, 0.08691073780520595, 0.21783961811686398, 0.35022902170777614, 0.47877771528316515, 0.5982441516081277, 0.7036898157513979, 0.7907103570985019, 0.8556429685382863, 0.8957396184216221, 0.9092974268256817, 0.8957396184216221, 0.8556429685382863, 0.7907103570985019, 0.7036898157513979, 0.5982441516081277, 0.47877771528316515, 0.35022902170777614, 0.21783961811686398, 0.08691073780520595, -0.03744017720227128, -0.15051108239111077, -0.24822376277499153, -0.32729906443176787, -0.3853906832849483, -0.421171462695804, -0.43436863670247905, -0.42574709936268906, -0.3970424421347404, -0.35084804028714445, -0.29046275344788247, -0.21970771693043264, -0.1427221428215067, -0.06374895250625122, 0.013078615468659323, 0.08393854575868848, 0.14549969299473817, 0.19507084218595108, 0.23071227369415245, 0.25130504004127213, 0.256575492104657, 0.24707500803079696, 0.22411724822563847, 0.18967745729212915, 0.14626024334832619, 0.09674378883254962, 0.044209509361482956, -0.00823327044894154, -0.05761803324395176, -0.10127808535368477], [-0.13096468174943518, -0.09341816596346665, -0.04822085787410071, 0.0022716100207446164, 0.05528095770522729, 0.10774865812501504, 0.15649972810645998, 0.19841943861188654, 0.23063350923189954, 0.2506818889186662, 0.2566762997375786, 0.24743234013685533, 0.2225680860000738, 0.18256273925541686, 0.12877087581897034, 0.06339013493636744, -0.010617349295218181, -0.08964697741323371, -0.1696119802323752, -0.24613461781837798, -0.31475910259630246, -0.37117570680030565, -0.41144469052055266, -0.43220845214435083, -0.4308806796227811, -0.40580225753498556, -0.35635521764627226, -0.28302803533990717, -0.187427969950852, -0.0722388011028484, 0.05887491198907235, 0.20141317105264114, 0.35022902170777614, 0.49975144871271493, 0.6442321103834694, 0.7780040258931075, 0.8957396184216221, 0.992695449836068, 1.0649315658049785, 1.1094945766040856, 1.124555367855928, 1.1094945766040856, 1.0649315658049785, 0.992695449836068, 0.8957396184216221, 0.7780040258931075, 0.6442321103834694, 0.49975144871271493, 0.35022902170777614, 0.20141317105264114, 0.05887491198907235, -0.0722388011028484, -0.187427969950852, -0.28302803533990717, -0.35635521764627226, -0.40580225753498556, -0.4308806796227811, -0.43220845214435083, -0.41144469052055266, -0.37117570680030565, -0.31475910259630246, -0.24613461781837798, -0.1696119802323752, -0.08964697741323371, -0.010617349295218181, 0.06339013493636744, 0.12877087581897034, 0.18256273925541686, 0.2225680860000738, 0.24743234013685533, 0.2566762997375786, 0.2506818889186662, 0.23063350923189954, 0.19841943861188654, 0.15649972810645998, 0.10774865812501504, 0.05528095770522729, 0.0022716100207446164, -0.04822085787410071, -0.09341816596346665], [-0.1254554756233313, -0.08634370978474622, -0.039868134180728126, 0.011507919583092052, 0.0649104168254659, 0.11720338291232232, 0.16515865057394133, 0.20563779959612533, 0.23577655069724138, 0.2531614457800734, 0.2559887694405144, 0.2431963471432226, 0.21456006847846779, 0.17074867404778504, 0.11333242903336226, 0.044743679368913644, -0.03181017613329085, -0.11247819731414006, -0.1929363397545002, -0.268589046149572, -0.33479237619194996, -0.38708768931988075, -0.42143408131469146, -0.43442757176285574, -0.42349546556438716, -0.38705535500366767, -0.324629843053556, -0.23691017597600564, -0.1257644689695074, 0.005811034304373925, 0.1537963512162099, 0.3133036361206578, 0.47877771528316515, 0.6442321103834694, 0.803509484779075, 0.9505541014891831, 1.0796831610910465, 1.1858438330909473, 1.2648434125627805, 1.3135412961886945, 1.3299933154720727, 1.3135412961886945, 1.2648434125627805, 1.1858438330909473, 1.0796831610910465, 0.9505541014891831, 0.803509484779075, 0.6442321103834694, 0.47877771528316515, 0.3133036361206578, 0.1537963512162099, 0.005811034304373925, -0.1257644689695074, -0.23691017597600564, -0.324629843053556, -0.38705535500366767, -0.42349546556438716, -0.43442757176285574, -0.42143408131469146, -0.38708768931988075, -0.33479237619194996, -0.268589046149572, -0.1929363397545002, -0.11247819731414006, -0.03181017613329085, 0.044743679368913644, 0.11333242903336226, 0.17074867404778504, 0.21456006847846779, 0.2431963471432226, 0.2559887694405144, 0.2531614457800734, 0.23577655069724138, 0.20563779959612533, 0.16515865057394133, 0.11720338291232232, 0.0649104168254659, 0.011507919583092052, -0.039868134180728126, -0.08634370978474622], [-0.12058300781296416, -0.08017262722723162, -0.032657564269347995, 0.019407660252202565, 0.07306884206017318, 0.12512633286074154, 0.17230988766358785, 0.21146505144444128, 0.23974108638511749, 0.25477004091850136, 0.2548267267047997, 0.23896010343988033, 0.2070878465419809, 0.16004763127913005, 0.09960082298540655, 0.02838670735216783, -0.050171999808914604, -0.132008995765264, -0.2125937105436689, -0.28714197491104243, -0.35084804028714445, -0.3991265770886398, -0.42785247459104203, -0.4335860886421158, -0.4137720534188708, -0.36690087535799776, -0.2926242127644853, -0.19181693290541052, -0.06658162124929747, 0.07980593576993696, 0.24300880867803662, 0.4177941096414197, 0.5982441516081277, 0.7780040258931075, 0.9505541014891831, 1.1094945766040856, 1.2488284837498442, 1.3632295064019535, 1.4482816142111579, 1.500678835049543, 1.518375390968938, 1.500678835049543, 1.4482816142111579, 1.3632295064019535, 1.2488284837498442, 1.1094945766040856, 0.9505541014891831, 0.7780040258931075, 0.5982441516081277, 0.4177941096414197, 0.24300880867803662, 0.07980593576993696, -0.06658162124929747, -0.19181693290541052, -0.2926242127644853, -0.36690087535799776, -0.4137720534188708, -0.4335860886421158, -0.42785247459104203, -0.3991265770886398, -0.35084804028714445, -0.28714197491104243, -0.2125937105436689, -0.132008995765264, -0.050171999808914604, 0.02838670735216783, 0.09960082298540655, 0.16004763127913005, 0.2070878465419809, 0.23896010343988033, 0.2548267267047997, 0.25477004091850136, 0.23974108638511749, 0.21146505144444128, 0.17230988766358785, 0.12512633286074154, 0.07306884206017318, 0.019407660252202565, -0.032657564269347995, -0.08017262722723162], [-0.1164544699167505, -0.0750007897964791, -0.026665677985416577, 0.025921773001301992, 0.07974244535617742, 0.13154597877649798, 0.17802983029511174, 0.21602931256266372, 0.242708395806646, 0.2557406839380664, 0.25347017586536014, 0.23504220166614895, 0.20049625055173417, 0.15081422331281308, 0.08791985781076668, 0.014627580006334946, -0.06545830501430487, -0.14809048863531396, -0.22856545626592412, -0.30194177876754097, -0.3632795822101567, -0.407889497747319, -0.43157859884674826, -0.4308806796227811, -0.40325873487122593, -0.3472686537517362, -0.2626748843273063, -0.15051108239111077, -0.0130814139378774, 0.14609889758077332, 0.32242214992953067, 0.5103612401471838, 0.7036898157513979, 0.8957396184216221, 1.0796831610910465, 1.2488284837498442, 1.3969119972732167, 1.518375390968938, 1.608613254431116, 1.6641794167481594, 1.682941969615793, 1.6641794167481594, 1.608613254431116, 1.518375390968938, 1.3969119972732167, 1.2488284837498442, 1.0796831610910465, 0.8957396184216221, 0.7036898157513979, 0.5103612401471838, 0.32242214992953067, 0.14609889758077332, -0.0130814139378774, -0.15051108239111077, -0.2626748843273063, -0.3472686537517362, -0.40325873487122593, -0.4308806796227811, -0.43157859884674826, -0.407889497747319, -0.3632795822101567, -0.30194177876754097, -0.22856545626592412, -0.14809048863531396, -0.06545830501430487, 0.014627580006334946, 0.08791985781076668, 0.15081422331281308, 0.20049625055173417, 0.23504220166614895, 0.25347017586536014, 0.2557406839380664, 0.242708395806646, 0.21602931256266372, 0.17802983029511174, 0.13154597877649798, 0.07974244535617742, 0.025921773001301992, -0.026665677985416577, -0.0750007897964791], [-0.1131560467581887, -0.07090368426500879, -0.021950582012676394, 0.031016232090896562, 0.08492762656935865, 0.13649472168344115, 0.18239124981424537, 0.21944644111666822, 0.24483804991090946, 0.2562747828163765, 0.252157618714697, 0.2317103248693539, 0.19507084218595108, 0.1433370736825879, 0.07856287339249271, 0.0037025838949493145, -0.07749482277960204, -0.16063822727306362, -0.24088710992360066, -0.31317589634427284, -0.37245933283868765, -0.41396693622794944, -0.4334537754581445, -0.4274347075936389, -0.39338972722403176, -0.32992927901128904, -0.23691017597600564, -0.11549507625799743, 0.03184881503912622, 0.20141317105264114, 0.38837235101706136, 0.5869627944413911, 0.7907103570985019, 0.992695449836068, 1.1858438330909473, 1.3632295064019535, 1.518375390968938, 1.6455374774968983, 1.7399588071171015, 1.7980810383563555, 1.8177033600622243, 1.7980810383563555, 1.7399588071171015, 1.6455374774968983, 1.518375390968938, 1.3632295064019535, 1.1858438330909473, 0.992695449836068, 0.7907103570985019, 0.5869627944413911, 0.38837235101706136, 0.20141317105264114, 0.03184881503912622, -0.11549507625799743, -0.23691017597600564, -0.32992927901128904, -0.39338972722403176, -0.4274347075936389, -0.4334537754581445, -0.41396693622794944, -0.37245933283868765, -0.31317589634427284, -0.24088710992360066, -0.16063822727306362, -0.07749482277960204, 0.0037025838949493145, 0.07856287339249271, 0.1433370736825879, 0.19507084218595108, 0.2317103248693539, 0.252157618714697, 0.2562747828163765, 0.24483804991090946, 0.21944644111666822, 0.18239124981424537, 0.13649472168344115, 0.08492762656935865, 0.031016232090896562, -0.021950582012676394, -0.07090368426500879], [-0.1107536917561867, -0.06793803188546253, -0.01855449981019833, 0.03466854669458865, 0.08862652853638416, 0.14000357308347133, 0.18545724476618586, 0.22181346801290225, 0.24626113579560338, 0.25653555744366946, 0.25108014921898075, 0.22917661128094333, 0.19103523332295086, 0.13783886506830845, 0.07173638515428266, -0.004215913110515241, -0.08616386191642225, -0.1696119802323752, -0.24962054293732017, -0.3210343185560354, -0.3787322233669178, -0.417885750201407, -0.434213248547002, -0.42421701152445723, -0.3853906832849483, -0.3163857196862348, -0.21712746254366178, -0.08887373699192957, 0.0657883626364726, 0.24300880867803662, 0.43780226922078175, 0.6442321103834694, 0.8556429685382863, 1.0649315658049785, 1.2648434125627805, 1.4482816142111579, 1.608613254431116, 1.7399588071171015, 1.8374507397311368, 1.8974488797623419, 1.917702154416812, 1.8974488797623419, 1.8374507397311368, 1.7399588071171015, 1.608613254431116, 1.4482816142111579, 1.2648434125627805, 1.0649315658049785, 0.8556429685382863, 0.6442321103834694, 0.43780226922078175, 0.24300880867803662, 0.0657883626364726, -0.08887373699192957, -0.21712746254366178, -0.3163857196862348, -0.3853906832849483, -0.42421701152445723, -0.434213248547002, -0.417885750201407, -0.3787322233669178, -0.3210343185560354, -0.24962054293732017, -0.1696119802323752, -0.08616386191642225, -0.004215913110515241, 0.07173638515428266, 0.13783886506830845, 0.19103523332295086, 0.22917661128094333, 0.25108014921898075, 0.25653555744366946, 0.24626113579560338, 0.22181346801290225, 0.18545724476618586, 0.14000357308347133, 0.08862652853638416, 0.03466854669458865, -0.01855449981019833, -0.06793803188546253], [-0.10929387900894774, -0.06614321685638791, -0.016505930263581485, 0.03686485131708162, 0.09084339726921295, 0.14209785531573388, 0.18727640924644018, 0.2232034254780841, 0.24707500803079696, 0.2566430509401283, 0.25037713957121355, 0.22759450814784551, 0.18854967763954522, 0.134477311926808, 0.06758414818694233, -0.009011537058698997, -0.09139170665445415, -0.17499760171649797, -0.254829433326894, -0.32567778292945404, -0.382375848005458, -0.4200602785751461, -0.43442757176285574, -0.42197287899622543, -0.3801986514917913, -0.3077817863653888, -0.20468978410715197, -0.0722388011028484, 0.08691073780520595, 0.2688222513075441, 0.4684129583840573, 0.6796406846183429, 0.8957396184216221, 1.1094945766040856, 1.3135412961886945, 1.500678835049543, 1.6641794167481594, 1.7980810383563555, 1.8974488797623419, 1.9585929762944412, 1.9792316740361835, 1.9585929762944412, 1.8974488797623419, 1.7980810383563555, 1.6641794167481594, 1.500678835049543, 1.3135412961886945, 1.1094945766040856, 0.8957396184216221, 0.6796406846183429, 0.4684129583840573, 0.2688222513075441, 0.08691073780520595, -0.0722388011028484, -0.20468978410715197, -0.3077817863653888, -0.3801986514917913, -0.42197287899622543, -0.43442757176285574, -0.4200602785751461, -0.382375848005458, -0.32567778292945404, -0.254829433326894, -0.17499760171649797, -0.09139170665445415, -0.009011537058698997, 0.06758414818694233, 0.134477311926808, 0.18854967763954522, 0.22759450814784551, 0.25037713957121355, 0.2566430509401283, 0.24707500803079696, 0.2232034254780841, 0.18727640924644018, 0.14209785531573388, 0.09084339726921295, 0.03686485131708162, -0.016505930263581485, -0.06614321685638791], [-0.10880422217787396, -0.06554239869174844, -0.015821288518275644, 0.03759772656874239, 0.09158188560927924, 0.14279404657238684, 0.18787932061729182, 0.22366162672468853, 0.24733956165584545, 0.2566706526738519, 0.25013332713993036, 0.2270567942100705, 0.18771045677679687, 0.1333463922312941, 0.0661907655654817, -0.010617349295218181, -0.09313849939964196, -0.17679272260843765, -0.2565601183892334, -0.32721314035298743, -0.3835697098652554, -0.4207548585159486, -0.43445783007337646, -0.421171462695804, -0.3784012476539641, -0.30483270332925, -0.20044755867978276, -0.06658162124929747, 0.0940800053732448, 0.277571630583514, 0.47877771528316515, 0.69162061945593, 0.9092974268256817, 1.124555367855928, 1.3299933154720727, 1.518375390968938, 1.682941969615793, 1.8177033600622243, 1.917702154416812, 1.9792316740361835, null, 1.9792316740361835, 1.917702154416812, 1.8177033600622243, 1.682941969615793, 1.518375390968938, 1.3299933154720727, 1.124555367855928, 0.9092974268256817, 0.69162061945593, 0.47877771528316515, 0.277571630583514, 0.0940800053732448, -0.06658162124929747, -0.20044755867978276, -0.30483270332925, -0.3784012476539641, -0.421171462695804, -0.43445783007337646, -0.4207548585159486, -0.3835697098652554, -0.32721314035298743, -0.2565601183892334, -0.17679272260843765, -0.09313849939964196, -0.010617349295218181, 0.0661907655654817, 0.1333463922312941, 0.18771045677679687, 0.2270567942100705, 0.25013332713993036, 0.2566706526738519, 0.24733956165584545, 0.22366162672468853, 0.18787932061729182, 0.14279404657238684, 0.09158188560927924, 0.03759772656874239, -0.015821288518275644, -0.06554239869174844], [-0.10929387900894774, -0.06614321685638791, -0.016505930263581485, 0.03686485131708162, 0.09084339726921295, 0.14209785531573388, 0.18727640924644018, 0.2232034254780841, 0.24707500803079696, 0.2566430509401283, 0.25037713957121355, 0.22759450814784551, 0.18854967763954522, 0.134477311926808, 0.06758414818694233, -0.009011537058698997, -0.09139170665445415, -0.17499760171649797, -0.254829433326894, -0.32567778292945404, -0.382375848005458, -0.4200602785751461, -0.43442757176285574, -0.42197287899622543, -0.3801986514917913, -0.3077817863653888, -0.20468978410715197, -0.0722388011028484, 0.08691073780520595, 0.2688222513075441, 0.4684129583840573, 0.6796406846183429, 0.8957396184216221, 1.1094945766040856, 1.3135412961886945, 1.500678835049543, 1.6641794167481594, 1.7980810383563555, 1.8974488797623419, 1.9585929762944412, 1.9792316740361835, 1.9585929762944412, 1.8974488797623419, 1.7980810383563555, 1.6641794167481594, 1.500678835049543, 1.3135412961886945, 1.1094945766040856, 0.8957396184216221, 0.6796406846183429, 0.4684129583840573, 0.2688222513075441, 0.08691073780520595, -0.0722388011028484, -0.20468978410715197, -0.3077817863653888, -0.3801986514917913, -0.42197287899622543, -0.43442757176285574, -0.4200602785751461, -0.382375848005458, -0.32567778292945404, -0.254829433326894, -0.17499760171649797, -0.09139170665445415, -0.009011537058698997, 0.06758414818694233, 0.134477311926808, 0.18854967763954522, 0.22759450814784551, 0.25037713957121355, 0.2566430509401283, 0.24707500803079696, 0.2232034254780841, 0.18727640924644018, 0.14209785531573388, 0.09084339726921295, 0.03686485131708162, -0.016505930263581485, -0.06614321685638791], [-0.1107536917561867, -0.06793803188546253, -0.01855449981019833, 0.03466854669458865, 0.08862652853638416, 0.14000357308347133, 0.18545724476618586, 0.22181346801290225, 0.24626113579560338, 0.25653555744366946, 0.25108014921898075, 0.22917661128094333, 0.19103523332295086, 0.13783886506830845, 0.07173638515428266, -0.004215913110515241, -0.08616386191642225, -0.1696119802323752, -0.24962054293732017, -0.3210343185560354, -0.3787322233669178, -0.417885750201407, -0.434213248547002, -0.42421701152445723, -0.3853906832849483, -0.3163857196862348, -0.21712746254366178, -0.08887373699192957, 0.0657883626364726, 0.24300880867803662, 0.43780226922078175, 0.6442321103834694, 0.8556429685382863, 1.0649315658049785, 1.2648434125627805, 1.4482816142111579, 1.608613254431116, 1.7399588071171015, 1.8374507397311368, 1.8974488797623419, 1.917702154416812, 1.8974488797623419, 1.8374507397311368, 1.7399588071171015, 1.608613254431116, 1.4482816142111579, 1.2648434125627805, 1.0649315658049785, 0.8556429685382863, 0.6442321103834694, 0.43780226922078175, 0.24300880867803662, 0.0657883626364726, -0.08887373699192957, -0.21712746254366178, -0.3163857196862348, -0.3853906832849483, -0.42421701152445723, -0.434213248547002, -0.417885750201407, -0.3787322233669178, -0.3210343185560354, -0.24962054293732017, -0.1696119802323752, -0.08616386191642225, -0.004215913110515241, 0.07173638515428266, 0.13783886506830845, 0.19103523332295086, 0.22917661128094333, 0.25108014921898075, 0.25653555744366946, 0.24626113579560338, 0.22181346801290225, 0.18545724476618586, 0.14000357308347133, 0.08862652853638416, 0.03466854669458865, -0.01855449981019833, -0.06793803188546253], [-0.1131560467581887, -0.07090368426500879, -0.021950582012676394, 0.031016232090896562, 0.08492762656935865, 0.13649472168344115, 0.18239124981424537, 0.21944644111666822, 0.24483804991090946, 0.2562747828163765, 0.252157618714697, 0.2317103248693539, 0.19507084218595108, 0.1433370736825879, 0.07856287339249271, 0.0037025838949493145, -0.07749482277960204, -0.16063822727306362, -0.24088710992360066, -0.31317589634427284, -0.37245933283868765, -0.41396693622794944, -0.4334537754581445, -0.4274347075936389, -0.39338972722403176, -0.32992927901128904, -0.23691017597600564, -0.11549507625799743, 0.03184881503912622, 0.20141317105264114, 0.38837235101706136, 0.5869627944413911, 0.7907103570985019, 0.992695449836068, 1.1858438330909473, 1.3632295064019535, 1.518375390968938, 1.6455374774968983, 1.7399588071171015, 1.7980810383563555, 1.8177033600622243, 1.7980810383563555, 1.7399588071171015, 1.6455374774968983, 1.518375390968938, 1.3632295064019535, 1.1858438330909473, 0.992695449836068, 0.7907103570985019, 0.5869627944413911, 0.38837235101706136, 0.20141317105264114, 0.03184881503912622, -0.11549507625799743, -0.23691017597600564, -0.32992927901128904, -0.39338972722403176, -0.4274347075936389, -0.4334537754581445, -0.41396693622794944, -0.37245933283868765, -0.31317589634427284, -0.24088710992360066, -0.16063822727306362, -0.07749482277960204, 0.0037025838949493145, 0.07856287339249271, 0.1433370736825879, 0.19507084218595108, 0.2317103248693539, 0.252157618714697, 0.2562747828163765, 0.24483804991090946, 0.21944644111666822, 0.18239124981424537, 0.13649472168344115, 0.08492762656935865, 0.031016232090896562, -0.021950582012676394, -0.07090368426500879], [-0.1164544699167505, -0.0750007897964791, -0.026665677985416577, 0.025921773001301992, 0.07974244535617742, 0.13154597877649798, 0.17802983029511174, 0.21602931256266372, 0.242708395806646, 0.2557406839380664, 0.25347017586536014, 0.23504220166614895, 0.20049625055173417, 0.15081422331281308, 0.08791985781076668, 0.014627580006334946, -0.06545830501430487, -0.14809048863531396, -0.22856545626592412, -0.30194177876754097, -0.3632795822101567, -0.407889497747319, -0.43157859884674826, -0.4308806796227811, -0.40325873487122593, -0.3472686537517362, -0.2626748843273063, -0.15051108239111077, -0.0130814139378774, 0.14609889758077332, 0.32242214992953067, 0.5103612401471838, 0.7036898157513979, 0.8957396184216221, 1.0796831610910465, 1.2488284837498442, 1.3969119972732167, 1.518375390968938, 1.608613254431116, 1.6641794167481594, 1.682941969615793, 1.6641794167481594, 1.608613254431116, 1.518375390968938, 1.3969119972732167, 1.2488284837498442, 1.0796831610910465, 0.8957396184216221, 0.7036898157513979, 0.5103612401471838, 0.32242214992953067, 0.14609889758077332, -0.0130814139378774, -0.15051108239111077, -0.2626748843273063, -0.3472686537517362, -0.40325873487122593, -0.4308806796227811, -0.43157859884674826, -0.407889497747319, -0.3632795822101567, -0.30194177876754097, -0.22856545626592412, -0.14809048863531396, -0.06545830501430487, 0.014627580006334946, 0.08791985781076668, 0.15081422331281308, 0.20049625055173417, 0.23504220166614895, 0.25347017586536014, 0.2557406839380664, 0.242708395806646, 0.21602931256266372, 0.17802983029511174, 0.13154597877649798, 0.07974244535617742, 0.025921773001301992, -0.026665677985416577, -0.0750007897964791], [-0.12058300781296416, -0.08017262722723162, -0.032657564269347995, 0.019407660252202565, 0.07306884206017318, 0.12512633286074154, 0.17230988766358785, 0.21146505144444128, 0.23974108638511749, 0.25477004091850136, 0.2548267267047997, 0.23896010343988033, 0.2070878465419809, 0.16004763127913005, 0.09960082298540655, 0.02838670735216783, -0.050171999808914604, -0.132008995765264, -0.2125937105436689, -0.28714197491104243, -0.35084804028714445, -0.3991265770886398, -0.42785247459104203, -0.4335860886421158, -0.4137720534188708, -0.36690087535799776, -0.2926242127644853, -0.19181693290541052, -0.06658162124929747, 0.07980593576993696, 0.24300880867803662, 0.4177941096414197, 0.5982441516081277, 0.7780040258931075, 0.9505541014891831, 1.1094945766040856, 1.2488284837498442, 1.3632295064019535, 1.4482816142111579, 1.500678835049543, 1.518375390968938, 1.500678835049543, 1.4482816142111579, 1.3632295064019535, 1.2488284837498442, 1.1094945766040856, 0.9505541014891831, 0.7780040258931075, 0.5982441516081277, 0.4177941096414197, 0.24300880867803662, 0.07980593576993696, -0.06658162124929747, -0.19181693290541052, -0.2926242127644853, -0.36690087535799776, -0.4137720534188708, -0.4335860886421158, -0.42785247459104203, -0.3991265770886398, -0.35084804028714445, -0.28714197491104243, -0.2125937105436689, -0.132008995765264, -0.050171999808914604, 0.02838670735216783, 0.09960082298540655, 0.16004763127913005, 0.2070878465419809, 0.23896010343988033, 0.2548267267047997, 0.25477004091850136, 0.23974108638511749, 0.21146505144444128, 0.17230988766358785, 0.12512633286074154, 0.07306884206017318, 0.019407660252202565, -0.032657564269347995, -0.08017262722723162], [-0.1254554756233313, -0.08634370978474622, -0.039868134180728126, 0.011507919583092052, 0.0649104168254659, 0.11720338291232232, 0.16515865057394133, 0.20563779959612533, 0.23577655069724138, 0.2531614457800734, 0.2559887694405144, 0.2431963471432226, 0.21456006847846779, 0.17074867404778504, 0.11333242903336226, 0.044743679368913644, -0.03181017613329085, -0.11247819731414006, -0.1929363397545002, -0.268589046149572, -0.33479237619194996, -0.38708768931988075, -0.42143408131469146, -0.43442757176285574, -0.42349546556438716, -0.38705535500366767, -0.324629843053556, -0.23691017597600564, -0.1257644689695074, 0.005811034304373925, 0.1537963512162099, 0.3133036361206578, 0.47877771528316515, 0.6442321103834694, 0.803509484779075, 0.9505541014891831, 1.0796831610910465, 1.1858438330909473, 1.2648434125627805, 1.3135412961886945, 1.3299933154720727, 1.3135412961886945, 1.2648434125627805, 1.1858438330909473, 1.0796831610910465, 0.9505541014891831, 0.803509484779075, 0.6442321103834694, 0.47877771528316515, 0.3133036361206578, 0.1537963512162099, 0.005811034304373925, -0.1257644689695074, -0.23691017597600564, -0.324629843053556, -0.38705535500366767, -0.42349546556438716, -0.43442757176285574, -0.42143408131469146, -0.38708768931988075, -0.33479237619194996, -0.268589046149572, -0.1929363397545002, -0.11247819731414006, -0.03181017613329085, 0.044743679368913644, 0.11333242903336226, 0.17074867404778504, 0.21456006847846779, 0.2431963471432226, 0.2559887694405144, 0.2531614457800734, 0.23577655069724138, 0.20563779959612533, 0.16515865057394133, 0.11720338291232232, 0.0649104168254659, 0.011507919583092052, -0.039868134180728126, -0.08634370978474622], [-0.13096468174943518, -0.09341816596346665, -0.04822085787410071, 0.0022716100207446164, 0.05528095770522729, 0.10774865812501504, 0.15649972810645998, 0.19841943861188654, 0.23063350923189954, 0.2506818889186662, 0.2566762997375786, 0.24743234013685533, 0.2225680860000738, 0.18256273925541686, 0.12877087581897034, 0.06339013493636744, -0.010617349295218181, -0.08964697741323371, -0.1696119802323752, -0.24613461781837798, -0.31475910259630246, -0.37117570680030565, -0.41144469052055266, -0.43220845214435083, -0.4308806796227811, -0.40580225753498556, -0.35635521764627226, -0.28302803533990717, -0.187427969950852, -0.0722388011028484, 0.05887491198907235, 0.20141317105264114, 0.35022902170777614, 0.49975144871271493, 0.6442321103834694, 0.7780040258931075, 0.8957396184216221, 0.992695449836068, 1.0649315658049785, 1.1094945766040856, 1.124555367855928, 1.1094945766040856, 1.0649315658049785, 0.992695449836068, 0.8957396184216221, 0.7780040258931075, 0.6442321103834694, 0.49975144871271493, 0.35022902170777614, 0.20141317105264114, 0.05887491198907235, -0.0722388011028484, -0.187427969950852, -0.28302803533990717, -0.35635521764627226, -0.40580225753498556, -0.4308806796227811, -0.43220845214435083, -0.41144469052055266, -0.37117570680030565, -0.31475910259630246, -0.24613461781837798, -0.1696119802323752, -0.08964697741323371, -0.010617349295218181, 0.06339013493636744, 0.12877087581897034, 0.18256273925541686, 0.2225680860000738, 0.24743234013685533, 0.2566762997375786, 0.2506818889186662, 0.23063350923189954, 0.19841943861188654, 0.15649972810645998, 0.10774865812501504, 0.05528095770522729, 0.0022716100207446164, -0.04822085787410071, -0.09341816596346665], [-0.13698176393514344, -0.10127808535368477, -0.05761803324395176, -0.00823327044894154, 0.044209509361482956, 0.09674378883254962, 0.14626024334832619, 0.18967745729212915, 0.22411724822563847, 0.24707500803079696, 0.256575492104657, 0.25130504004127213, 0.23071227369415245, 0.19507084218595108, 0.14549969299473817, 0.08393854575868848, 0.013078615468659323, -0.06374895250625122, -0.1427221428215067, -0.21970771693043264, -0.29046275344788247, -0.35084804028714445, -0.3970424421347404, -0.42574709936268906, -0.43436863670247905, -0.421171462695804, -0.3853906832849483, -0.32729906443176787, -0.24822376277499153, -0.15051108239111077, -0.03744017720227128, 0.08691073780520595, 0.21783961811686398, 0.35022902170777614, 0.47877771528316515, 0.5982441516081277, 0.7036898157513979, 0.7907103570985019, 0.8556429685382863, 0.8957396184216221, 0.9092974268256817, 0.8957396184216221, 0.8556429685382863, 0.7907103570985019, 0.7036898157513979, 0.5982441516081277, 0.47877771528316515, 0.35022902170777614, 0.21783961811686398, 0.08691073780520595, -0.03744017720227128, -0.15051108239111077, -0.24822376277499153, -0.32729906443176787, -0.3853906832849483, -0.421171462695804, -0.43436863670247905, -0.42574709936268906, -0.3970424421347404, -0.35084804028714445, -0.29046275344788247, -0.21970771693043264, -0.1427221428215067, -0.06374895250625122, 0.013078615468659323, 0.08393854575868848, 0.14549969299473817, 0.19507084218595108, 0.23071227369415245, 0.25130504004127213, 0.256575492104657, 0.24707500803079696, 0.22411724822563847, 0.18967745729212915, 0.14626024334832619, 0.09674378883254962, 0.044209509361482956, -0.00823327044894154, -0.05761803324395176, -0.10127808535368477], [-0.14335579129849668, -0.10978201113265723, -0.06793803188546253, -0.019915691575644292, 0.031745840459068614, 0.08418731130237875, 0.13437885433763305, 0.1792839709402817, 0.21602931256266372, 0.2420710146043941, 0.255348298963932, 0.25441554164532254, 0.23854497801642713, 0.20779364608280457, 0.1630299764243758, 0.10591753298818528, 0.03885568116655977, -0.03512071345143313, -0.11247819731414006, -0.18935183535374994, -0.2617343483375656, -0.32567778292945404, -0.37749737145928347, -0.41396693622794944, -0.43249545715781157, -0.4312752446188071, -0.4093935036702951, -0.36690087535799776, -0.30483270332925, -0.22518118755916025, -0.13081912452072303, -0.025378460035175753, 0.08691073780520595, 0.20141317105264114, 0.3133036361206578, 0.4177941096414197, 0.5103612401471838, 0.5869627944413911, 0.6442321103834694, 0.6796406846183429, 0.69162061945593, 0.6796406846183429, 0.6442321103834694, 0.5869627944413911, 0.5103612401471838, 0.4177941096414197, 0.3133036361206578, 0.20141317105264114, 0.08691073780520595, -0.025378460035175753, -0.13081912452072303, -0.22518118755916025, -0.30483270332925, -0.36690087535799776, -0.4093935036702951, -0.4312752446188071, -0.43249545715781157, -0.41396693622794944, -0.37749737145928347, -0.32567778292945404, -0.2617343483375656, -0.18935183535374994, -0.11247819731414006, -0.03512071345143313, 0.03885568116655977, 0.10591753298818528, 0.1630299764243758, 0.20779364608280457, 0.23854497801642713, 0.25441554164532254, 0.255348298963932, 0.2420710146043941, 0.21602931256266372, 0.1792839709402817, 0.13437885433763305, 0.08418731130237875, 0.031745840459068614, -0.019915691575644292, -0.06793803188546253, -0.10978201113265723], [-0.1499137997580331, -0.11876378051842666, -0.07903277128303789, -0.032657564269347995, 0.017966041941118966, 0.07010183827093616, 0.12081441070397907, 0.16712567793535366, 0.2061784643801796, 0.23539823538075702, 0.25264402764959015, 0.2563400102730029, 0.2455799958764798, 0.22019854657881394, 0.18080401871815463, 0.12877087581897034, 0.0661907655654817, -0.004215913110515241, -0.0792240541655952, -0.15525760655490364, -0.22856545626592412, -0.29541051237375787, -0.35226222727992795, -0.39598244357893553, -0.42399466300627076, -0.43442757176285574, -0.42622489689420734, -0.39921534828629784, -0.3541384336243295, -0.2926242127644853, -0.21712746254366178, -0.13081912452072303, -0.03744017720227128, 0.05887491198907235, 0.1537963512162099, 0.24300880867803662, 0.32242214992953067, 0.38837235101706136, 0.43780226922078175, 0.4684129583840573, 0.47877771528316515, 0.4684129583840573, 0.43780226922078175, 0.38837235101706136, 0.32242214992953067, 0.24300880867803662, 0.1537963512162099, 0.05887491198907235, -0.03744017720227128, -0.13081912452072303, -0.21712746254366178, -0.2926242127644853, -0.3541384336243295, -0.39921534828629784, -0.42622489689420734, -0.43442757176285574, -0.42399466300627076, -0.39598244357893553, -0.35226222727992795, -0.29541051237375787, -0.22856545626592412, -0.15525760655490364, -0.0792240541655952, -0.004215913110515241, 0.0661907655654817, 0.12877087581897034, 0.18080401871815463, 0.22019854657881394, 0.2455799958764798, 0.2563400102730029, 0.25264402764959015, 0.23539823538075702, 0.2061784643801796, 0.16712567793535366, 0.12081441070397907, 0.07010183827093616, 0.017966041941118966, -0.032657564269347995, -0.07903277128303789, -0.11876378051842666], [-0.15646143337355978, -0.12803192632998142, -0.0907256642328181, -0.046310064114579955, 0.0029779491154211806, 0.054541276561040686, 0.10555493165712146, 0.15311446345017118, 0.1943926655354523, 0.22679610352037188, 0.24811283911536614, 0.2566430509401283, 0.25130504004127213, 0.2317103248693539, 0.1982031145119569, 0.15186131748507978, 0.09445829662141196, 0.02838670735216783, -0.043452159632214875, -0.1177881852505473, -0.19114437378651342, -0.26001264723920775, -0.3210343185560354, -0.37117570680030565, -0.407889497747319, -0.42925310491460716, -0.434076417833265, -0.42197287899622543, -0.39338972722403176, -0.3495953826561967, -0.2926242127644853, -0.22518118755916025, -0.15051108239111077, -0.0722388011028484, 0.005811034304373925, 0.07980593576993696, 0.14609889758077332, 0.20141317105264114, 0.24300880867803662, 0.2688222513075441, 0.277571630583514, 0.2688222513075441, 0.24300880867803662, 0.20141317105264114, 0.14609889758077332, 0.07980593576993696, 0.005811034304373925, -0.0722388011028484, -0.15051108239111077, -0.22518118755916025, -0.2926242127644853, -0.3495953826561967, -0.39338972722403176, -0.42197287899622543, -0.434076417833265, -0.42925310491460716, -0.407889497747319, -0.37117570680030565, -0.3210343185560354, -0.26001264723920775, -0.19114437378651342, -0.1177881852505473, -0.043452159632214875, 0.02838670735216783, 0.09445829662141196, 0.15186131748507978, 0.1982031145119569, 0.2317103248693539, 0.25130504004127213, 0.2566430509401283, 0.24811283911536614, 0.22679610352037188, 0.1943926655354523, 0.15311446345017118, 0.10555493165712146, 0.054541276561040686, 0.0029779491154211806, -0.046310064114579955, -0.0907256642328181, -0.12803192632998142], [-0.16278435980926842, -0.13736985507049018, -0.10281030706494565, -0.060690608986011814, -0.013073952151520388, 0.03759772656874239, 0.08862652853638416, 0.13719827990417027, 0.18053174205108255, 0.21602931256266372, 0.24142096714711753, 0.254893432701845, 0.25519727019112654, 0.24172565029557566, 0.21456006847846779, 0.17447999195279823, 0.12293536517635703, 0.06198291759831892, -0.005810793613848673, -0.07749482277960204, -0.14988136590815446, -0.21970771693043264, -0.2838041182964338, -0.3392585664190622, -0.3835697098652554, -0.4147795406040892, -0.43157859884674826, -0.4333778373354074, -0.4203430458705095, -0.39338972722403176, -0.3541384336243295, -0.30483270332925, -0.24822376277499153, -0.187427969950852, -0.1257644689695074, -0.06658162124929747, -0.0130814139378774, 0.03184881503912622, 0.0657883626364726, 0.08691073780520595, 0.0940800053732448, 0.08691073780520595, 0.0657883626364726, 0.03184881503912622, -0.0130814139378774, -0.06658162124929747, -0.1257644689695074, -0.187427969950852, -0.24822376277499153, -0.30483270332925, -0.3541384336243295, -0.39338972722403176, -0.4203430458705095, -0.4333778373354074, -0.43157859884674826, -0.4147795406040892, -0.3835697098652554, -0.3392585664190622, -0.2838041182964338, -0.21970771693043264, -0.14988136590815446, -0.07749482277960204, -0.005810793613848673, 0.06198291759831892, 0.12293536517635703, 0.17447999195279823, 0.21456006847846779, 0.24172565029557566, 0.25519727019112654, 0.254893432701845, 0.24142096714711753, 0.21602931256266372, 0.18053174205108255, 0.13719827990417027, 0.08862652853638416, 0.03759772656874239, -0.013073952151520388, -0.060690608986011814, -0.10281030706494565, -0.13736985507049018], [-0.16865061331126227, -0.14653700801271363, -0.11505016730310495, -0.07558080422426758, -0.030004497243790427, 0.019407660252202565, 0.07010183827093616, 0.11937185506223688, 0.16450028494360933, 0.20290271423033404, 0.23226729318028777, 0.2506818889186662, 0.2567417315441088, 0.24963143467045815, 0.22917661128094333, 0.19586192453391038, 0.15081422331281308, 0.0957513146109, 0.032898814044057145, -0.03512071345143313, -0.10542055787501849, -0.17499760171649797, -0.24088710992360066, -0.3003162506586467, -0.35084804028714445, -0.3905078789395116, -0.417885750201407, -0.43220845214435083, -0.4333778373354074, -0.42197287899622543, -0.39921534828629784, -0.36690087535799776, -0.32729906443176787, -0.28302803533990717, -0.23691017597600564, -0.19181693290541052, -0.15051108239111077, -0.11549507625799743, -0.08887373699192957, -0.0722388011028484, -0.06658162124929747, -0.0722388011028484, -0.08887373699192957, -0.11549507625799743, -0.15051108239111077, -0.19181693290541052, -0.23691017597600564, -0.28302803533990717, -0.32729906443176787, -0.36690087535799776, -0.39921534828629784, -0.42197287899622543, -0.4333778373354074, -0.43220845214435083, -0.417885750201407, -0.3905078789395116, -0.35084804028714445, -0.3003162506586467, -0.24088710992360066, -0.17499760171649797, -0.10542055787501849, -0.03512071345143313, 0.032898814044057145, 0.0957513146109, 0.15081422331281308, 0.19586192453391038, 0.22917661128094333, 0.24963143467045815, 0.2567417315441088, 0.2506818889186662, 0.23226729318028777, 0.20290271423033404, 0.16450028494360933, 0.11937185506223688, 0.07010183827093616, 0.019407660252202565, -0.030004497243790427, -0.07558080422426758, -0.11505016730310495, -0.14653700801271363], [-0.1738139924448547, -0.15527119023634722, -0.1271795169340972, -0.0907256642328181, -0.04758506314163741, 0.0001569493213448689, 0.05010748884225075, 0.09968670899986165, 0.14626024334832619, 0.18727640924644018, 0.22040074178662336, 0.24364050109720906, 0.2554522819126627, 0.2548267267047997, 0.2413455569066888, 0.2152076253393881, 0.17722237538812438, 0.12877087581897034, 0.07173638515428266, 0.00840808631479302, -0.05863687417657578, -0.12666669235949252, -0.1929363397545002, -0.254829433326894, -0.309992807249447, -0.3564564355250057, -0.39273214882544505, -0.417885750201407, -0.43157859884674826, -0.434076417833265, -0.42622489689420734, -0.4093935036702951, -0.3853906832849483, -0.35635521764627226, -0.324629843053556, -0.2926242127644853, -0.2626748843273063, -0.23691017597600564, -0.21712746254366178, -0.20468978410715197, -0.20044755867978276, -0.20468978410715197, -0.21712746254366178, -0.23691017597600564, -0.2626748843273063, -0.2926242127644853, -0.324629843053556, -0.35635521764627226, -0.3853906832849483, -0.4093935036702951, -0.42622489689420734, -0.434076417833265, -0.43157859884674826, -0.417885750201407, -0.39273214882544505, -0.3564564355250057, -0.309992807249447, -0.254829433326894, -0.1929363397545002, -0.12666669235949252, -0.05863687417657578, 0.00840808631479302, 0.07173638515428266, 0.12877087581897034, 0.17722237538812438, 0.2152076253393881, 0.2413455569066888, 0.2548267267047997, 0.2554522819126627, 0.24364050109720906, 0.22040074178662336, 0.18727640924644018, 0.14626024334832619, 0.09968670899986165, 0.05010748884225075, 0.0001569493213448689, -0.04758506314163741, -0.0907256642328181, -0.1271795169340972, -0.15527119023634722], [-0.17801860199902664, -0.16329221750830802, -0.13890582780165694, -0.10583439818051152, -0.06554239869174844, -0.019915691575644292, 0.02883009042098063, 0.07825990831739421, 0.1258425822940911, 0.16908036038891633, 0.20563779959612533, 0.23346296309158113, 0.2508943222213973, 0.25674750760048576, 0.25037713957121355, 0.2317103248693539, 0.20124995852555586, 0.16004763127913005, 0.1096476200446325, 0.05200503792795912, -0.010617349295218181, -0.0757679524450742, -0.1409342819269669, -0.2036729142303004, -0.2617343483375656, -0.31317589634427284, -0.3564564355250057, -0.3905078789395116, -0.4147795406040892, -0.42925310491460716, -0.43442757176285574, -0.4312752446188071, -0.421171462695804, -0.40580225753498556, -0.38705535500366767, -0.36690087535799776, -0.3472686537517362, -0.32992927901128904, -0.3163857196862348, -0.3077817863653888, -0.30483270332925, -0.3077817863653888, -0.3163857196862348, -0.32992927901128904, -0.3472686537517362, -0.36690087535799776, -0.38705535500366767, -0.40580225753498556, -0.421171462695804, -0.4312752446188071, -0.43442757176285574, -0.42925310491460716, -0.4147795406040892, -0.3905078789395116, -0.3564564355250057, -0.31317589634427284, -0.2617343483375656, -0.2036729142303004, -0.1409342819269669, -0.0757679524450742, -0.010617349295218181, 0.05200503792795912, 0.1096476200446325, 0.16004763127913005, 0.20124995852555586, 0.2317103248693539, 0.25037713957121355, 0.25674750760048576, 0.2508943222213973, 0.23346296309158113, 0.20563779959612533, 0.16908036038891633, 0.1258425822940911, 0.07825990831739421, 0.02883009042098063, -0.019915691575644292, -0.06554239869174844, -0.10583439818051152, -0.13890582780165694, -0.16329221750830802], [-0.18100457917857166, -0.17030698199702413, -0.1499137997580331, -0.12058300781296416, -0.08355939645450051, -0.040517266401149735, 0.0065202421682302655, 0.05528095770522729, 0.10335731863015635, 0.14832776112580212, 0.18787932061729182, 0.21992483146863692, 0.242708395806646, 0.254893432701845, 0.25562857790064414, 0.24458792842044305, 0.22198354690007724, 0.18854967763954522, 0.14549969299473817, 0.09445829662141196, 0.037372873633869375, -0.02359098016854476, -0.08616386191642225, -0.14809048863531396, -0.20724458052139974, -0.2617343483375656, -0.309992807249447, -0.35084804028714445, -0.3835697098652554, -0.407889497747319, -0.42399466300627076, -0.43249545715781157, -0.43436863670247905, -0.4308806796227811, -0.42349546556438716, -0.4137720534188708, -0.40325873487122593, -0.39338972722403176, -0.3853906832849483, -0.3801986514917913, -0.3784012476539641, -0.3801986514917913, -0.3853906832849483, -0.39338972722403176, -0.40325873487122593, -0.4137720534188708, -0.42349546556438716, -0.4308806796227811, -0.43436863670247905, -0.43249545715781157, -0.42399466300627076, -0.407889497747319, -0.3835697098652554, -0.35084804028714445, -0.309992807249447, -0.2617343483375656, -0.20724458052139974, -0.14809048863531396, -0.08616386191642225, -0.02359098016854476, 0.037372873633869375, 0.09445829662141196, 0.14549969299473817, 0.18854967763954522, 0.22198354690007724, 0.24458792842044305, 0.25562857790064414, 0.254893432701845, 0.242708395806646, 0.21992483146863692, 0.18787932061729182, 0.14832776112580212, 0.10335731863015635, 0.05528095770522729, 0.0065202421682302655, -0.040517266401149735, -0.08355939645450051, -0.12058300781296416, -0.1499137997580331, -0.17030698199702413], [-0.18251498442862385, -0.1760159755489718, -0.15987112992755653, -0.13461888616197776, -0.10127808535368477, -0.061301442485772274, -0.016505930263581485, 0.031016232090896562, 0.07900122348247962, 0.12512633286074154, 0.16712567793535366, 0.20290271423033404, 0.23063350923189954, 0.24885528388828942, 0.25653555744366946, 0.25311832399967577, 0.23854497801642713, 0.21324911772700825, 0.17812580971586786, 0.134477311926808, 0.08393854575868848, 0.02838670735216783, -0.030159748399708135, -0.08964697741323371, -0.14809048863531396, -0.2036729142303004, -0.254829433326894, -0.3003162506586467, -0.3392585664190622, -0.37117570680030565, -0.39598244357893553, -0.41396693622794944, -0.42574709936268906, -0.43220845214435083, -0.43442757176285574, -0.4335860886421158, -0.4308806796227811, -0.4274347075936389, -0.42421701152445723, -0.42197287899622543, -0.421171462695804, -0.42197287899622543, -0.42421701152445723, -0.4274347075936389, -0.4308806796227811, -0.4335860886421158, -0.43442757176285574, -0.43220845214435083, -0.42574709936268906, -0.41396693622794944, -0.39598244357893553, -0.37117570680030565, -0.3392585664190622, -0.3003162506586467, -0.254829433326894, -0.2036729142303004, -0.14809048863531396, -0.08964697741323371, -0.030159748399708135, 0.02838670735216783, 0.08393854575868848, 0.134477311926808, 0.17812580971586786, 0.21324911772700825, 0.23854497801642713, 0.25311832399967577, 0.25653555744366946, 0.24885528388828942, 0.23063350923189954, 0.20290271423033404, 0.16712567793535366, 0.12512633286074154, 0.07900122348247962, 0.031016232090896562, -0.016505930263581485, -0.061301442485772274, -0.10127808535368477, -0.13461888616197776, -0.15987112992755653, -0.1760159755489718], [-0.18230376872794093, -0.18012123502583363, -0.16843605361995675, -0.14756752732225356, -0.11830504740258321, -0.08187218787401292, -0.039868134180728126, 0.0058103924762656495, 0.05306249567952219, 0.09968670899986165, 0.14348926836260514, 0.18239124981424537, 0.2145288714461612, 0.2383416766936446, 0.25264402764959015, 0.2566762997375786, 0.25013332713993036, 0.23316893482082693, 0.2063767337439853, 0.17074867404778504, 0.12761407121954643, 0.07856287339249271, 0.02535776443828009, -0.030159748399708135, -0.08616386191642225, -0.1409342819269669, -0.1929363397545002, -0.24088710992360066, -0.2838041182964338, -0.3210343185560354, -0.35226222727992795, -0.37749737145928347, -0.3970424421347404, -0.41144469052055266, -0.42143408131469146, -0.42785247459104203, -0.43157859884674826, -0.4334537754581445, -0.434213248547002, -0.43442757176285574, -0.43445783007337646, -0.43442757176285574, -0.434213248547002, -0.4334537754581445, -0.43157859884674826, -0.42785247459104203, -0.42143408131469146, -0.41144469052055266, -0.3970424421347404, -0.37749737145928347, -0.35226222727992795, -0.3210343185560354, -0.2838041182964338, -0.24088710992360066, -0.1929363397545002, -0.1409342819269669, -0.08616386191642225, -0.030159748399708135, 0.02535776443828009, 0.07856287339249271, 0.12761407121954643, 0.17074867404778504, 0.2063767337439853, 0.23316893482082693, 0.25013332713993036, 0.2566762997375786, 0.25264402764959015, 0.2383416766936446, 0.2145288714461612, 0.18239124981424537, 0.14348926836260514, 0.09968670899986165, 0.05306249567952219, 0.0058103924762656495, -0.039868134180728126, -0.08187218787401292, -0.11830504740258321, -0.14756752732225356, -0.16843605361995675, -0.18012123502583363], [-0.1801446545297837, -0.18233559039097344, -0.1752665961050691, -0.15904136091487175, -0.13421936300715656, -0.10179031338845618, -0.0631265026963309, -0.019915691575644292, 0.025921773001301992, 0.07232710218505171, 0.11720338291232232, 0.15851669454452746, 0.1943926655354523, 0.2232034254780841, 0.24364050109720906, 0.25477004091850136, 0.2560677827399544, 0.24743234013685533, 0.22917661128094333, 0.20199833430642128, 0.16693195814109418, 0.12528500092613942, 0.07856287339249271, 0.02838670735216783, -0.02359098016854476, -0.0757679524450742, -0.12666669235949252, -0.17499760171649797, -0.21970771693043264, -0.26001264723920775, -0.29541051237375787, -0.32567778292945404, -0.35084804028714445, -0.37117570680030565, -0.38708768931988075, -0.3991265770886398, -0.407889497747319, -0.41396693622794944, -0.417885750201407, -0.4200602785751461, -0.4207548585159486, -0.4200602785751461, -0.417885750201407, -0.41396693622794944, -0.407889497747319, -0.3991265770886398, -0.38708768931988075, -0.37117570680030565, -0.35084804028714445, -0.32567778292945404, -0.29541051237375787, -0.26001264723920775, -0.21970771693043264, -0.17499760171649797, -0.12666669235949252, -0.0757679524450742, -0.02359098016854476, 0.02838670735216783, 0.07856287339249271, 0.12528500092613942, 0.16693195814109418, 0.20199833430642128, 0.22917661128094333, 0.24743234013685533, 0.2560677827399544, 0.25477004091850136, 0.24364050109720906, 0.2232034254780841, 0.1943926655354523, 0.15851669454452746, 0.11720338291232232, 0.07232710218505171, 0.025921773001301992, -0.019915691575644292, -0.0631265026963309, -0.10179031338845618, -0.13421936300715656, -0.15904136091487175, -0.1752665961050691, -0.18233559039097344], [-0.17584069010379264, -0.18239300622958532, -0.1800313728705813, -0.16865061331126227, -0.14858307017251748, -0.12058300781296416, -0.0857896329957062, -0.045670869380806056, -0.001951040868825416, 0.043473546354522816, 0.08862652853638416, 0.13154597877649798, 0.17037647050011584, 0.20345392533496165, 0.22937894091767205, 0.24707500803079696, 0.25582893038458626, 0.2553118000893658, 0.2455799958764798, 0.2270567942100705, 0.20049625055173417, 0.16693195814109418, 0.12761407121954643, 0.08393854575868848, 0.037372873633869375, -0.010617349295218181, -0.05863687417657578, -0.10542055787501849, -0.14988136590815446, -0.19114437378651342, -0.22856545626592412, -0.2617343483375656, -0.29046275344788247, -0.31475910259630246, -0.33479237619194996, -0.35084804028714445, -0.3632795822101567, -0.37245933283868765, -0.3787322233669178, -0.382375848005458, -0.3835697098652554, -0.382375848005458, -0.3787322233669178, -0.37245933283868765, -0.3632795822101567, -0.35084804028714445, -0.33479237619194996, -0.31475910259630246, -0.29046275344788247, -0.2617343483375656, -0.22856545626592412, -0.19114437378651342, -0.14988136590815446, -0.10542055787501849, -0.05863687417657578, -0.010617349295218181, 0.037372873633869375, 0.08393854575868848, 0.12761407121954643, 0.16693195814109418, 0.20049625055173417, 0.2270567942100705, 0.2455799958764798, 0.2553118000893658, 0.25582893038458626, 0.24707500803079696, 0.22937894091767205, 0.20345392533496165, 0.17037647050011584, 0.13154597877649798, 0.08862652853638416, 0.043473546354522816, -0.001951040868825416, -0.045670869380806056, -0.0857896329957062, -0.12058300781296416, -0.14858307017251748, -0.16865061331126227, -0.1800313728705813, -0.18239300622958532], [-0.16923416092386775, -0.1800597155006458, -0.18242166855756492, -0.1760159755489718, -0.1609539875623888, -0.1377563081818195, -0.10732612754693129, -0.07090368426500879, -0.030004497243790427, 0.013655158230898757, 0.058241427706856384, 0.1018902143955224, 0.14279404657238684, 0.1792839709402817, 0.20990234059772522, 0.23346296309158113, 0.24909585663212155, 0.2562747828163765, 0.2548267267047997, 0.24492352037505036, 0.2270567942100705, 0.20199833430642128, 0.17074867404778504, 0.134477311926808, 0.09445829662141196, 0.05200503792795912, 0.00840808631479302, -0.03512071345143313, -0.07749482277960204, -0.1177881852505473, -0.15525760655490364, -0.18935183535374994, -0.21970771693043264, -0.24613461781837798, -0.268589046149572, -0.28714197491104243, -0.30194177876754097, -0.31317589634427284, -0.3210343185560354, -0.32567778292945404, -0.32721314035298743, -0.32567778292945404, -0.3210343185560354, -0.31317589634427284, -0.30194177876754097, -0.28714197491104243, -0.268589046149572, -0.24613461781837798, -0.21970771693043264, -0.18935183535374994, -0.15525760655490364, -0.1177881852505473, -0.07749482277960204, -0.03512071345143313, 0.00840808631479302, 0.05200503792795912, 0.09445829662141196, 0.134477311926808, 0.17074867404778504, 0.20199833430642128, 0.2270567942100705, 0.24492352037505036, 0.2548267267047997, 0.2562747828163765, 0.24909585663212155, 0.23346296309158113, 0.20990234059772522, 0.1792839709402817, 0.14279404657238684, 0.1018902143955224, 0.058241427706856384, 0.013655158230898757, -0.030004497243790427, -0.07090368426500879, -0.10732612754693129, -0.1377563081818195, -0.1609539875623888, -0.1760159755489718, -0.18242166855756492, -0.1800597155006458], [-0.16021647158282734, -0.1751457556394694, -0.1821644169794075, -0.18078273088932142, -0.17090060569317098, -0.1528102839666787, -0.1271795169340972, -0.0950164022704569, -0.05761803324395176, -0.016505930263581485, 0.026648129724923395, 0.07010183827093616, 0.11212338767979044, 0.15106960365711752, 0.18545724476618586, 0.21402402107025095, 0.23577655069724138, 0.25002327766855664, 0.25639126767027576, 0.2548267267047997, 0.2455799958764798, 0.22917661128094333, 0.2063767337439853, 0.17812580971586786, 0.14549969299473817, 0.1096476200446325, 0.07173638515428266, 0.032898814044057145, -0.005810793613848673, -0.043452159632214875, -0.0792240541655952, -0.11247819731414006, -0.1427221428215067, -0.1696119802323752, -0.1929363397545002, -0.2125937105436689, -0.22856545626592412, -0.24088710992360066, -0.24962054293732017, -0.254829433326894, -0.2565601183892334, -0.254829433326894, -0.24962054293732017, -0.24088710992360066, -0.22856545626592412, -0.2125937105436689, -0.1929363397545002, -0.1696119802323752, -0.1427221428215067, -0.11247819731414006, -0.0792240541655952, -0.043452159632214875, -0.005810793613848673, 0.032898814044057145, 0.07173638515428266, 0.1096476200446325, 0.14549969299473817, 0.17812580971586786, 0.2063767337439853, 0.22917661128094333, 0.2455799958764798, 0.2548267267047997, 0.25639126767027576, 0.25002327766855664, 0.23577655069724138, 0.21402402107025095, 0.18545724476618586, 0.15106960365711752, 0.11212338767979044, 0.07010183827093616, 0.026648129724923395, -0.016505930263581485, -0.05761803324395176, -0.0950164022704569, -0.1271795169340972, -0.1528102839666787, -0.17090060569317098, -0.18078273088932142, -0.1821644169794075, -0.1751457556394694], [-0.1487375524385824, -0.16751643729146143, -0.17903560277058095, -0.1826358700412797, -0.17801860199902664, -0.16525654180237792, -0.14478624788034108, -0.11738288358628372, -0.08411903827788304, -0.046310064114579955, -0.005449066140771361, 0.03686485131708162, 0.07900122348247962, 0.11937185506223688, 0.15649972810645998, 0.1890798565922851, 0.21602931256266372, 0.2365243422174828, 0.25002327766855664, 0.2562747828163765, 0.2553118000893658, 0.24743234013685533, 0.23316893482082693, 0.21324911772700825, 0.18854967763954522, 0.16004763127913005, 0.12877087581897034, 0.0957513146109, 0.06198291759831892, 0.02838670735216783, -0.004215913110515241, -0.03512071345143313, -0.06374895250625122, -0.08964697741323371, -0.11247819731414006, -0.132008995765264, -0.14809048863531396, -0.16063822727306362, -0.1696119802323752, -0.17499760171649797, -0.17679272260843765, -0.17499760171649797, -0.1696119802323752, -0.16063822727306362, -0.14809048863531396, -0.132008995765264, -0.11247819731414006, -0.08964697741323371, -0.06374895250625122, -0.03512071345143313, -0.004215913110515241, 0.02838670735216783, 0.06198291759831892, 0.0957513146109, 0.12877087581897034, 0.16004763127913005, 0.18854967763954522, 0.21324911772700825, 0.23316893482082693, 0.24743234013685533, 0.2553118000893658, 0.2562747828163765, 0.25002327766855664, 0.2365243422174828, 0.21602931256266372, 0.1890798565922851, 0.15649972810645998, 0.11937185506223688, 0.07900122348247962, 0.03686485131708162, -0.005449066140771361, -0.046310064114579955, -0.08411903827788304, -0.11738288358628372, -0.14478624788034108, -0.16525654180237792, -0.17801860199902664, -0.1826358700412797, -0.17903560277058095, -0.16751643729146143], [-0.13481430178982187, -0.15710321083861073, -0.17287351607260817, -0.18131560690315682, -0.18194839266053625, -0.17463748569481502, -0.15959621882048483, -0.13736985507049018, -0.10880422217787396, -0.0750007897964791, -0.03726086233570953, 0.0029779491154211806, 0.044209509361482956, 0.08492762656935865, 0.12369173187889267, 0.15918658398472915, 0.1902732638436695, 0.21602931256266372, 0.23577655069724138, 0.24909585663212155, 0.25582893038458626, 0.2560677827399544, 0.25013332713993036, 0.23854497801642713, 0.22198354690007724, 0.20124995852555586, 0.17722237538812438, 0.15081422331281308, 0.12293536517635703, 0.09445829662141196, 0.0661907655654817, 0.03885568116655977, 0.013078615468659323, -0.010617349295218181, -0.03181017613329085, -0.050171999808914604, -0.06545830501430487, -0.07749482277960204, -0.08616386191642225, -0.09139170665445415, -0.09313849939964196, -0.09139170665445415, -0.08616386191642225, -0.07749482277960204, -0.06545830501430487, -0.050171999808914604, -0.03181017613329085, -0.010617349295218181, 0.013078615468659323, 0.03885568116655977, 0.0661907655654817, 0.09445829662141196, 0.12293536517635703, 0.15081422331281308, 0.17722237538812438, 0.20124995852555586, 0.22198354690007724, 0.23854497801642713, 0.25013332713993036, 0.2560677827399544, 0.25582893038458626, 0.24909585663212155, 0.23577655069724138, 0.21602931256266372, 0.1902732638436695, 0.15918658398472915, 0.12369173187889267, 0.08492762656935865, 0.044209509361482956, 0.0029779491154211806, -0.03726086233570953, -0.0750007897964791, -0.10880422217787396, -0.13736985507049018, -0.15959621882048483, -0.17463748569481502, -0.18194839266053625, -0.18131560690315682, -0.17287351607260817, -0.15710321083861073], [-0.11853755153953284, -0.14391335124448024, -0.163591222139663, -0.17663261032673944, -0.18239300622958532, -0.18054660691367944, -0.17109514979541934, -0.1543609103022869, -0.13096468174943518, -0.10179031338845618, -0.06793803188546253, -0.03066927919323432, 0.008653858363151095, 0.04863139306208121, 0.0878871354792479, 0.12512633286074154, 0.15918658398472915, 0.1890798565922851, 0.21402402107025095, 0.23346296309158113, 0.24707500803079696, 0.25477004091850136, 0.2566762997375786, 0.25311832399967577, 0.24458792842044305, 0.2317103248693539, 0.2152076253393881, 0.19586192453391038, 0.17447999195279823, 0.15186131748507978, 0.12877087581897034, 0.10591753298818528, 0.08393854575868848, 0.06339013493636744, 0.044743679368913644, 0.02838670735216783, 0.014627580006334946, 0.0037025838949493145, -0.004215913110515241, -0.009011537058698997, -0.010617349295218181, -0.009011537058698997, -0.004215913110515241, 0.0037025838949493145, 0.014627580006334946, 0.02838670735216783, 0.044743679368913644, 0.06339013493636744, 0.08393854575868848, 0.10591753298818528, 0.12877087581897034, 0.15186131748507978, 0.17447999195279823, 0.19586192453391038, 0.2152076253393881, 0.2317103248693539, 0.24458792842044305, 0.25311832399967577, 0.2566762997375786, 0.25477004091850136, 0.24707500803079696, 0.23346296309158113, 0.21402402107025095, 0.1890798565922851, 0.15918658398472915, 0.12512633286074154, 0.0878871354792479, 0.04863139306208121, 0.008653858363151095, -0.03066927919323432, -0.06793803188546253, -0.10179031338845618, -0.13096468174943518, -0.1543609103022869, -0.17109514979541934, -0.18054660691367944, -0.18239300622958532, -0.17663261032673944, -0.163591222139663, -0.14391335124448024], [-0.10007704610444179, -0.12803786284735597, -0.1511875643863488, -0.16848219583369567, -0.17913546063850083, -0.18264893898060253, -0.1788278960809016, -0.16778234479339135, -0.1499137997580331, -0.1258888846262905, -0.09660159075517502, -0.0631265026963309, -0.026665677985416577, 0.011507919583092052, 0.05010748884225075, 0.0878871354792479, 0.12369173187889267, 0.15649972810645998, 0.18545724476618586, 0.20990234059772522, 0.22937894091767205, 0.24364050109720906, 0.25264402764959015, 0.25653555744366946, 0.25562857790064414, 0.25037713957121355, 0.2413455569066888, 0.22917661128094333, 0.21456006847846779, 0.1982031145119569, 0.18080401871815463, 0.1630299764243758, 0.14549969299473817, 0.12877087581897034, 0.11333242903336226, 0.09960082298540655, 0.08791985781076668, 0.07856287339249271, 0.07173638515428266, 0.06758414818694233, 0.0661907655654817, 0.06758414818694233, 0.07173638515428266, 0.07856287339249271, 0.08791985781076668, 0.09960082298540655, 0.11333242903336226, 0.12877087581897034, 0.14549969299473817, 0.1630299764243758, 0.18080401871815463, 0.1982031145119569, 0.21456006847846779, 0.22917661128094333, 0.2413455569066888, 0.25037713957121355, 0.25562857790064414, 0.25653555744366946, 0.25264402764959015, 0.24364050109720906, 0.22937894091767205, 0.20990234059772522, 0.18545724476618586, 0.15649972810645998, 0.12369173187889267, 0.0878871354792479, 0.05010748884225075, 0.011507919583092052, -0.026665677985416577, -0.0631265026963309, -0.09660159075517502, -0.1258888846262905, -0.1499137997580331, -0.16778234479339135, -0.1788278960809016, -0.18264893898060253, -0.17913546063850083, -0.16848219583369567, -0.1511875643863488, -0.12803786284735597], [-0.07968395387291566, -0.10965701691843574, -0.13575600794040762, -0.15685668268767797, -0.17205475511311313, -0.1807007071005138, -0.18242166855756492, -0.17712974307464055, -0.16501687105976595, -0.14653700801271363, -0.12237701362727325, -0.09341816596346665, -0.060690608986011814, -0.02532329427921568, 0.011507919583092052, 0.04863139306208121, 0.08492762656935865, 0.11937185506223688, 0.15106960365711752, 0.1792839709402817, 0.20345392533496165, 0.2232034254780841, 0.2383416766936446, 0.24885528388828942, 0.254893432701845, 0.25674750760048576, 0.2548267267047997, 0.24963143467045815, 0.24172565029557566, 0.2317103248693539, 0.22019854657881394, 0.20779364608280457, 0.19507084218595108, 0.18256273925541686, 0.17074867404778504, 0.16004763127913005, 0.15081422331281308, 0.1433370736825879, 0.13783886506830845, 0.134477311926808, 0.1333463922312941, 0.134477311926808, 0.13783886506830845, 0.1433370736825879, 0.15081422331281308, 0.16004763127913005, 0.17074867404778504, 0.18256273925541686, 0.19507084218595108, 0.20779364608280457, 0.22019854657881394, 0.2317103248693539, 0.24172565029557566, 0.24963143467045815, 0.2548267267047997, 0.25674750760048576, 0.254893432701845, 0.24885528388828942, 0.2383416766936446, 0.2232034254780841, 0.20345392533496165, 0.1792839709402817, 0.15106960365711752, 0.11937185506223688, 0.08492762656935865, 0.04863139306208121, 0.011507919583092052, -0.02532329427921568, -0.060690608986011814, -0.09341816596346665, -0.12237701362727325, -0.14653700801271363, -0.16501687105976595, -0.17712974307464055, -0.18242166855756492, -0.1807007071005138, -0.17205475511311313, -0.15685668268767797, -0.13575600794040762, -0.10965701691843574], [-0.05769048962428924, -0.08904297911487404, -0.11749065565570795, -0.14185512230149663, -0.16113955966514656, -0.17456713788189782, -0.18160802037610754, -0.18199408570471504, -0.17572115154133375, -0.16303912773542587, -0.14443111863131364, -0.12058300781296416, -0.09234546620178369, -0.060690608986011814, -0.026665677985416577, 0.008653858363151095, 0.044209509361482956, 0.07900122348247962, 0.11212338767979044, 0.14279404657238684, 0.17037647050011584, 0.1943926655354523, 0.2145288714461612, 0.23063350923189954, 0.242708395806646, 0.2508943222213973, 0.2554522819126627, 0.2567417315441088, 0.25519727019112654, 0.25130504004127213, 0.2455799958764798, 0.23854497801642713, 0.23071227369415245, 0.2225680860000738, 0.21456006847846779, 0.2070878465419809, 0.20049625055173417, 0.19507084218595108, 0.19103523332295086, 0.18854967763954522, 0.18771045677679687, 0.18854967763954522, 0.19103523332295086, 0.19507084218595108, 0.20049625055173417, 0.2070878465419809, 0.21456006847846779, 0.2225680860000738, 0.23071227369415245, 0.23854497801642713, 0.2455799958764798, 0.25130504004127213, 0.25519727019112654, 0.2567417315441088, 0.2554522819126627, 0.2508943222213973, 0.242708395806646, 0.23063350923189954, 0.2145288714461612, 0.1943926655354523, 0.17037647050011584, 0.14279404657238684, 0.11212338767979044, 0.07900122348247962, 0.044209509361482956, 0.008653858363151095, -0.026665677985416577, -0.060690608986011814, -0.09234546620178369, -0.12058300781296416, -0.14443111863131364, -0.16303912773542587, -0.17572115154133375, -0.18199408570471504, -0.18160802037610754, -0.17456713788189782, -0.16113955966514656, -0.14185512230149663, -0.11749065565570795, -0.08904297911487404], [-0.0345063152690242, -0.06655906279410359, -0.09668883252747353, -0.12368964794720452, -0.1464987033293174, -0.1642373823959323, -0.17624240938958516, -0.18208605074549258, -0.18158488243001691, -0.1747972342928682, -0.16200998595397612, -0.1437158894806465, -0.12058300781296416, -0.09341816596346665, -0.0631265026963309, -0.03066927919323432, 0.0029779491154211806, 0.03686485131708162, 0.07010183827093616, 0.1018902143955224, 0.13154597877649798, 0.15851669454452746, 0.18239124981424537, 0.20290271423033404, 0.21992483146863692, 0.23346296309158113, 0.24364050109720906, 0.2506818889186662, 0.254893432701845, 0.2566430509401283, 0.2563400102730029, 0.25441554164532254, 0.25130504004127213, 0.24743234013685533, 0.2431963471432226, 0.23896010343988033, 0.23504220166614895, 0.2317103248693539, 0.22917661128094333, 0.22759450814784551, 0.2270567942100705, 0.22759450814784551, 0.22917661128094333, 0.2317103248693539, 0.23504220166614895, 0.23896010343988033, 0.2431963471432226, 0.24743234013685533, 0.25130504004127213, 0.25441554164532254, 0.2563400102730029, 0.2566430509401283, 0.254893432701845, 0.2506818889186662, 0.24364050109720906, 0.23346296309158113, 0.21992483146863692, 0.20290271423033404, 0.18239124981424537, 0.15851669454452746, 0.13154597877649798, 0.1018902143955224, 0.07010183827093616, 0.03686485131708162, 0.0029779491154211806, -0.03066927919323432, -0.0631265026963309, -0.09341816596346665, -0.12058300781296416, -0.1437158894806465, -0.16200998595397612, -0.1747972342928682, -0.18158488243001691, -0.18208605074549258, -0.17624240938958516, -0.1642373823959323, -0.1464987033293174, -0.12368964794720452, -0.09668883252747353, -0.06655906279410359], [-0.01061150357619211, -0.042655257000177006, -0.07374973820785838, -0.10268778525178764, -0.1283676319466868, -0.14983554931501694, -0.16632015713858264, -0.17725715646546372, -0.18230376872794093, -0.18134271385500067, -0.17447608825271163, -0.16200998595397612, -0.14443111863131364, -0.12237701362727325, -0.09660159075517502, -0.06793803188546253, -0.03726086233570953, -0.005449066140771361, 0.026648129724923395, 0.058241427706856384, 0.08862652853638416, 0.11720338291232232, 0.14348926836260514, 0.16712567793535366, 0.18787932061729182, 0.20563779959612533, 0.22040074178662336, 0.23226729318028777, 0.24142096714711753, 0.24811283911536614, 0.25264402764959015, 0.255348298963932, 0.256575492104657, 0.2566762997375786, 0.2559887694405144, 0.2548267267047997, 0.25347017586536014, 0.252157618714697, 0.25108014921898075, 0.25037713957121355, 0.25013332713993036, 0.25037713957121355, 0.25108014921898075, 0.252157618714697, 0.25347017586536014, 0.2548267267047997, 0.2559887694405144, 0.2566762997375786, 0.256575492104657, 0.255348298963932, 0.25264402764959015, 0.24811283911536614, 0.24142096714711753, 0.23226729318028777, 0.22040074178662336, 0.20563779959612533, 0.18787932061729182, 0.16712567793535366, 0.14348926836260514, 0.11720338291232232, 0.08862652853638416, 0.058241427706856384, 0.026648129724923395, -0.005449066140771361, -0.03726086233570953, -0.06793803188546253, -0.09660159075517502, -0.12237701362727325, -0.14443111863131364, -0.16200998595397612, -0.17447608825271163, -0.18134271385500067, -0.18230376872794093, -0.17725715646546372, -0.16632015713858264, -0.14983554931501694, -0.1283676319466868, -0.10268778525178764, -0.07374973820785838, -0.042655257000177006], [0.013454008098850966, -0.017859822184363938, -0.04916880920228074, -0.07929019757294747, -0.10711012813756442, -0.1316269478872783, -0.15198770280837584, -0.16751643729146143, -0.17773339606034183, -0.18236471957976835, -0.18134271385500067, -0.1747972342928682, -0.16303912773542587, -0.14653700801271363, -0.1258888846262905, -0.10179031338845618, -0.0750007897964791, -0.046310064114579955, -0.016505930263581485, 0.013655158230898757, 0.043473546354522816, 0.07232710218505171, 0.09968670899986165, 0.12512633286074154, 0.14832776112580212, 0.16908036038891633, 0.18727640924644018, 0.20290271423033404, 0.21602931256266372, 0.22679610352037188, 0.23539823538075702, 0.2420710146043941, 0.24707500803079696, 0.2506818889186662, 0.2531614457800734, 0.25477004091850136, 0.2557406839380664, 0.2562747828163765, 0.25653555744366946, 0.2566430509401283, 0.2566706526738519, 0.2566430509401283, 0.25653555744366946, 0.2562747828163765, 0.2557406839380664, 0.25477004091850136, 0.2531614457800734, 0.2506818889186662, 0.24707500803079696, 0.2420710146043941, 0.23539823538075702, 0.22679610352037188, 0.21602931256266372, 0.20290271423033404, 0.18727640924644018, 0.16908036038891633, 0.14832776112580212, 0.12512633286074154, 0.09968670899986165, 0.07232710218505171, 0.043473546354522816, 0.013655158230898757, -0.016505930263581485, -0.046310064114579955, -0.0750007897964791, -0.10179031338845618, -0.1258888846262905, -0.14653700801271363, -0.16303912773542587, -0.1747972342928682, -0.18134271385500067, -0.18236471957976835, -0.17773339606034183, -0.16751643729146143, -0.15198770280837584, -0.1316269478872783, -0.10711012813756442, -0.07929019757294747, -0.04916880920228074, -0.017859822184363938], [0.037104384846577534, 0.007233082355737275, -0.023527608249201665, -0.054043516875550875, -0.08321475815193494, -0.11001880232017779, -0.13354819579908725, -0.15304146672549196, -0.167906160972842, -0.17773339606034183, -0.18230376872794093, -0.18158488243001691, -0.17572115154133375, -0.16501687105976595, -0.1499137997580331, -0.13096468174943518, -0.10880422217787396, -0.08411903827788304, -0.05761803324395176, -0.030004497243790427, -0.001951040868825416, 0.025921773001301992, 0.05306249567952219, 0.07900122348247962, 0.10335731863015635, 0.1258425822940911, 0.14626024334832619, 0.16450028494360933, 0.18053174205108255, 0.1943926655354523, 0.2061784643801796, 0.21602931256266372, 0.22411724822563847, 0.23063350923189954, 0.23577655069724138, 0.23974108638511749, 0.242708395806646, 0.24483804991090946, 0.24626113579560338, 0.24707500803079696, 0.24733956165584545, 0.24707500803079696, 0.24626113579560338, 0.24483804991090946, 0.242708395806646, 0.23974108638511749, 0.23577655069724138, 0.23063350923189954, 0.22411724822563847, 0.21602931256266372, 0.2061784643801796, 0.1943926655354523, 0.18053174205108255, 0.16450028494360933, 0.14626024334832619, 0.1258425822940911, 0.10335731863015635, 0.07900122348247962, 0.05306249567952219, 0.025921773001301992, -0.001951040868825416, -0.030004497243790427, -0.05761803324395176, -0.08411903827788304, -0.10880422217787396, -0.13096468174943518, -0.1499137997580331, -0.16501687105976595, -0.17572115154133375, -0.18158488243001691, -0.18230376872794093, -0.17773339606034183, -0.167906160972842, -0.15304146672549196, -0.13354819579908725, -0.11001880232017779, -0.08321475815193494, -0.054043516875550875, -0.023527608249201665, 0.007233082355737275], [0.059725017515438364, 0.03197958453286062, 0.0025207381574719806, -0.027588123185645037, -0.0572857273340844, -0.08555491563889543, -0.1114606806231028, -0.13418273806183595, -0.15304146672549196, -0.16751643729146143, -0.17725715646546372, -0.18208605074549258, -0.18199408570471504, -0.17712974307464055, -0.16778234479339135, -0.1543609103022869, -0.13736985507049018, -0.11738288358628372, -0.0950164022704569, -0.07090368426500879, -0.045670869380806056, -0.019915691575644292, 0.0058103924762656495, 0.031016232090896562, 0.05528095770522729, 0.07825990831739421, 0.09968670899986165, 0.11937185506223688, 0.13719827990417027, 0.15311446345017118, 0.16712567793535366, 0.1792839709402817, 0.18967745729212915, 0.19841943861188654, 0.20563779959612533, 0.21146505144444128, 0.21602931256266372, 0.21944644111666822, 0.22181346801290225, 0.2232034254780841, 0.22366162672468853, 0.2232034254780841, 0.22181346801290225, 0.21944644111666822, 0.21602931256266372, 0.21146505144444128, 0.20563779959612533, 0.19841943861188654, 0.18967745729212915, 0.1792839709402817, 0.16712567793535366, 0.15311446345017118, 0.13719827990417027, 0.11937185506223688, 0.09968670899986165, 0.07825990831739421, 0.05528095770522729, 0.031016232090896562, 0.0058103924762656495, -0.019915691575644292, -0.045670869380806056, -0.07090368426500879, -0.0950164022704569, -0.11738288358628372, -0.13736985507049018, -0.1543609103022869, -0.16778234479339135, -0.17712974307464055, -0.18199408570471504, -0.18208605074549258, -0.17725715646546372, -0.16751643729146143, -0.15304146672549196, -0.13418273806183595, -0.1114606806231028, -0.08555491563889543, -0.0572857273340844, -0.027588123185645037, 0.0025207381574719806, 0.03197958453286062], [0.08069235790121831, 0.05570574218106777, 0.028270310898122826, -0.0006409754282528475, -0.03002807965783915, -0.05890402451081101, -0.08633239590937543, -0.1114606806231028, -0.13354819579908725, -0.15198770280837584, -0.16632015713858264, -0.17624240938958516, -0.18160802037610754, -0.18242166855756492, -0.1788278960809016, -0.17109514979541934, -0.15959621882048483, -0.14478624788034108, -0.1271795169340972, -0.10732612754693129, -0.0857896329957062, -0.0631265026963309, -0.039868134180728126, -0.016505930263581485, 0.0065202421682302655, 0.02883009042098063, 0.05010748884225075, 0.07010183827093616, 0.08862652853638416, 0.10555493165712146, 0.12081441070397907, 0.13437885433763305, 0.14626024334832619, 0.15649972810645998, 0.16515865057394133, 0.17230988766358785, 0.17802983029511174, 0.18239124981424537, 0.18545724476618586, 0.18727640924644018, 0.18787932061729182, 0.18727640924644018, 0.18545724476618586, 0.18239124981424537, 0.17802983029511174, 0.17230988766358785, 0.16515865057394133, 0.15649972810645998, 0.14626024334832619, 0.13437885433763305, 0.12081441070397907, 0.10555493165712146, 0.08862652853638416, 0.07010183827093616, 0.05010748884225075, 0.02883009042098063, 0.0065202421682302655, -0.016505930263581485, -0.039868134180728126, -0.0631265026963309, -0.0857896329957062, -0.10732612754693129, -0.1271795169340972, -0.14478624788034108, -0.15959621882048483, -0.17109514979541934, -0.1788278960809016, -0.18242166855756492, -0.18160802037610754, -0.17624240938958516, -0.16632015713858264, -0.15198770280837584, -0.13354819579908725, -0.1114606806231028, -0.08633239590937543, -0.05890402451081101, -0.03002807965783915, -0.0006409754282528475, 0.028270310898122826, 0.05570574218106777], [0.0993958462307399, 0.07773008237271903, 0.05298490441364873, 0.026026147564044762, -0.0022274559793407315, -0.030841885736018544, -0.05890402451081101, -0.08555491563889543, -0.11001880232017779, -0.1316269478872783, -0.14983554931501694, -0.1642373823959323, -0.17456713788189782, -0.1807007071005138, -0.18264893898060253, -0.18054660691367944, -0.17463748569481502, -0.16525654180237792, -0.1528102839666787, -0.1377563081818195, -0.12058300781296416, -0.10179031338845618, -0.08187218787401292, -0.061301442485772274, -0.040517266401149735, -0.019915691575644292, 0.0001569493213448689, 0.019407660252202565, 0.03759772656874239, 0.054541276561040686, 0.07010183827093616, 0.08418731130237875, 0.09674378883254962, 0.10774865812501504, 0.11720338291232232, 0.12512633286074154, 0.13154597877649798, 0.13649472168344115, 0.14000357308347133, 0.14209785531573388, 0.14279404657238684, 0.14209785531573388, 0.14000357308347133, 0.13649472168344115, 0.13154597877649798, 0.12512633286074154, 0.11720338291232232, 0.10774865812501504, 0.09674378883254962, 0.08418731130237875, 0.07010183827093616, 0.054541276561040686, 0.03759772656874239, 0.019407660252202565, 0.0001569493213448689, -0.019915691575644292, -0.040517266401149735, -0.061301442485772274, -0.08187218787401292, -0.10179031338845618, -0.12058300781296416, -0.1377563081818195, -0.1528102839666787, -0.16525654180237792, -0.17463748569481502, -0.18054660691367944, -0.18264893898060253, -0.1807007071005138, -0.17456713788189782, -0.1642373823959323, -0.14983554931501694, -0.1316269478872783, -0.11001880232017779, -0.08555491563889543, -0.05890402451081101, -0.030841885736018544, -0.0022274559793407315, 0.026026147564044762, 0.05298490441364873, 0.07773008237271903], [0.11526115097856117, 0.09738828403656238, 0.0759235678781371, 0.05161237775613617, 0.025275083284098894, -0.0022274559793407315, -0.03002807965783915, -0.0572857273340844, -0.08321475815193494, -0.10711012813756442, -0.1283676319466868, -0.1464987033293174, -0.16113955966514656, -0.17205475511311313, -0.17913546063850083, -0.18239300622958532, -0.18194839266053625, -0.17801860199902664, -0.17090060569317098, -0.1609539875623888, -0.14858307017251748, -0.13421936300715656, -0.11830504740258321, -0.10127808535368477, -0.08355939645450051, -0.06554239869174844, -0.04758506314163741, -0.030004497243790427, -0.013073952151520388, 0.0029779491154211806, 0.017966041941118966, 0.031745840459068614, 0.044209509361482956, 0.05528095770522729, 0.0649104168254659, 0.07306884206017318, 0.07974244535617742, 0.08492762656935865, 0.08862652853638416, 0.09084339726921295, 0.09158188560927924, 0.09084339726921295, 0.08862652853638416, 0.08492762656935865, 0.07974244535617742, 0.07306884206017318, 0.0649104168254659, 0.05528095770522729, 0.044209509361482956, 0.031745840459068614, 0.017966041941118966, 0.0029779491154211806, -0.013073952151520388, -0.030004497243790427, -0.04758506314163741, -0.06554239869174844, -0.08355939645450051, -0.10127808535368477, -0.11830504740258321, -0.13421936300715656, -0.14858307017251748, -0.1609539875623888, -0.17090060569317098, -0.17801860199902664, -0.18194839266053625, -0.18239300622958532, -0.17913546063850083, -0.17205475511311313, -0.16113955966514656, -0.1464987033293174, -0.1283676319466868, -0.10711012813756442, -0.08321475815193494, -0.0572857273340844, -0.03002807965783915, -0.0022274559793407315, 0.025275083284098894, 0.05161237775613617, 0.0759235678781371, 0.09738828403656238], [0.12777380562398274, 0.11405907878471819, 0.09636827159298987, 0.07531659368730659, 0.05161237775613617, 0.026026147564044762, -0.0006409754282528475, -0.027588123185645037, -0.054043516875550875, -0.07929019757294747, -0.10268778525178764, -0.12368964794720452, -0.14185512230149663, -0.15685668268767797, -0.16848219583369567, -0.17663261032673944, -0.18131560690315682, -0.1826358700412797, -0.18078273088932142, -0.1760159755489718, -0.16865061331126227, -0.15904136091487175, -0.14756752732225356, -0.13461888616197776, -0.12058300781296416, -0.10583439818051152, -0.0907256642328181, -0.07558080422426758, -0.060690608986011814, -0.046310064114579955, -0.032657564269347995, -0.019915691575644292, -0.00823327044894154, 0.0022716100207446164, 0.011507919583092052, 0.019407660252202565, 0.025921773001301992, 0.031016232090896562, 0.03466854669458865, 0.03686485131708162, 0.03759772656874239, 0.03686485131708162, 0.03466854669458865, 0.031016232090896562, 0.025921773001301992, 0.019407660252202565, 0.011507919583092052, 0.0022716100207446164, -0.00823327044894154, -0.019915691575644292, -0.032657564269347995, -0.046310064114579955, -0.060690608986011814, -0.07558080422426758, -0.0907256642328181, -0.10583439818051152, -0.12058300781296416, -0.13461888616197776, -0.14756752732225356, -0.15904136091487175, -0.16865061331126227, -0.1760159755489718, -0.18078273088932142, -0.1826358700412797, -0.18131560690315682, -0.17663261032673944, -0.16848219583369567, -0.15685668268767797, -0.14185512230149663, -0.12368964794720452, -0.10268778525178764, -0.07929019757294747, -0.054043516875550875, -0.027588123185645037, -0.0006409754282528475, 0.026026147564044762, 0.05161237775613617, 0.07531659368730659, 0.09636827159298987, 0.11405907878471819], [0.13650222610828716, 0.12719030582037316, 0.1136526088802527, 0.09636827159298987, 0.0759235678781371, 0.05298490441364873, 0.028270310898122826, 0.0025207381574719806, -0.023527608249201665, -0.04916880920228074, -0.07374973820785838, -0.09668883252747353, -0.11749065565570795, -0.13575600794040762, -0.1511875643863488, -0.163591222139663, -0.17287351607260817, -0.17903560277058095, -0.1821644169794075, -0.18242166855756492, -0.1800313728705813, -0.1752665961050691, -0.16843605361995675, -0.15987112992755653, -0.1499137997580331, -0.13890582780165694, -0.1271795169340972, -0.11505016730310495, -0.10281030706494565, -0.0907256642328181, -0.07903277128303789, -0.06793803188546253, -0.05761803324395176, -0.04822085787410071, -0.039868134180728126, -0.032657564269347995, -0.026665677985416577, -0.021950582012676394, -0.01855449981019833, -0.016505930263581485, -0.015821288518275644, -0.016505930263581485, -0.01855449981019833, -0.021950582012676394, -0.026665677985416577, -0.032657564269347995, -0.039868134180728126, -0.04822085787410071, -0.05761803324395176, -0.06793803188546253, -0.07903277128303789, -0.0907256642328181, -0.10281030706494565, -0.11505016730310495, -0.1271795169340972, -0.13890582780165694, -0.1499137997580331, -0.15987112992755653, -0.16843605361995675, -0.1752665961050691, -0.1800313728705813, -0.18242166855756492, -0.1821644169794075, -0.17903560277058095, -0.17287351607260817, -0.163591222139663, -0.1511875643863488, -0.13575600794040762, -0.11749065565570795, -0.09668883252747353, -0.07374973820785838, -0.04916880920228074, -0.023527608249201665, 0.0025207381574719806, 0.028270310898122826, 0.05298490441364873, 0.0759235678781371, 0.09636827159298987, 0.1136526088802527, 0.12719030582037316], [0.14111903500315878, 0.13632396086944565, 0.12719030582037316, 0.11405907878471819, 0.09738828403656238, 0.07773008237271903, 0.05570574218106777, 0.03197958453286062, 0.007233082355737275, -0.017859822184363938, -0.042655257000177006, -0.06655906279410359, -0.08904297911487404, -0.10965701691843574, -0.12803786284735597, -0.14391335124448024, -0.15710321083861073, -0.16751643729146143, -0.1751457556394694, -0.1800597155006458, -0.18239300622958532, -0.18233559039097344, -0.18012123502583363, -0.1760159755489718, -0.17030698199702413, -0.16329221750830802, -0.15527119023634722, -0.14653700801271363, -0.13736985507049018, -0.12803192632998142, -0.11876378051842666, -0.10978201113265723, -0.10127808535368477, -0.09341816596346665, -0.08634370978474622, -0.08017262722723162, -0.0750007897964791, -0.07090368426500879, -0.06793803188546253, -0.06614321685638791, -0.06554239869174844, -0.06614321685638791, -0.06793803188546253, -0.07090368426500879, -0.0750007897964791, -0.08017262722723162, -0.08634370978474622, -0.09341816596346665, -0.10127808535368477, -0.10978201113265723, -0.11876378051842666, -0.12803192632998142, -0.13736985507049018, -0.14653700801271363, -0.15527119023634722, -0.16329221750830802, -0.17030698199702413, -0.1760159755489718, -0.18012123502583363, -0.18233559039097344, -0.18239300622958532, -0.1800597155006458, -0.1751457556394694, -0.16751643729146143, -0.15710321083861073, -0.14391335124448024, -0.12803786284735597, -0.10965701691843574, -0.08904297911487404, -0.06655906279410359, -0.042655257000177006, -0.017859822184363938, 0.007233082355737275, 0.03197958453286062, 0.05570574218106777, 0.07773008237271903, 0.09738828403656238, 0.11405907878471819, 0.12719030582037316, 0.13632396086944565]]}],                        {\"legend\": {\"bgcolor\": \"#F5F6F9\", \"font\": {\"color\": \"#4D5663\"}}, \"paper_bgcolor\": \"#F5F6F9\", \"plot_bgcolor\": \"#F5F6F9\", \"template\": {\"data\": {\"bar\": [{\"error_x\": {\"color\": \"#2a3f5f\"}, \"error_y\": {\"color\": \"#2a3f5f\"}, \"marker\": {\"line\": {\"color\": \"#E5ECF6\", \"width\": 0.5}}, \"type\": \"bar\"}], \"barpolar\": [{\"marker\": {\"line\": {\"color\": \"#E5ECF6\", \"width\": 0.5}}, \"type\": \"barpolar\"}], \"carpet\": [{\"aaxis\": {\"endlinecolor\": \"#2a3f5f\", \"gridcolor\": \"white\", \"linecolor\": \"white\", \"minorgridcolor\": \"white\", \"startlinecolor\": \"#2a3f5f\"}, \"baxis\": {\"endlinecolor\": \"#2a3f5f\", \"gridcolor\": \"white\", \"linecolor\": \"white\", \"minorgridcolor\": \"white\", \"startlinecolor\": \"#2a3f5f\"}, \"type\": \"carpet\"}], \"choropleth\": [{\"colorbar\": {\"outlinewidth\": 0, \"ticks\": \"\"}, \"type\": \"choropleth\"}], \"contour\": [{\"colorbar\": {\"outlinewidth\": 0, \"ticks\": \"\"}, \"colorscale\": [[0.0, \"#0d0887\"], [0.1111111111111111, \"#46039f\"], [0.2222222222222222, \"#7201a8\"], [0.3333333333333333, \"#9c179e\"], [0.4444444444444444, \"#bd3786\"], [0.5555555555555556, \"#d8576b\"], [0.6666666666666666, \"#ed7953\"], [0.7777777777777778, \"#fb9f3a\"], [0.8888888888888888, \"#fdca26\"], [1.0, \"#f0f921\"]], \"type\": \"contour\"}], \"contourcarpet\": [{\"colorbar\": {\"outlinewidth\": 0, \"ticks\": \"\"}, \"type\": \"contourcarpet\"}], \"heatmap\": [{\"colorbar\": {\"outlinewidth\": 0, \"ticks\": \"\"}, \"colorscale\": [[0.0, \"#0d0887\"], [0.1111111111111111, \"#46039f\"], [0.2222222222222222, \"#7201a8\"], [0.3333333333333333, \"#9c179e\"], [0.4444444444444444, \"#bd3786\"], [0.5555555555555556, \"#d8576b\"], [0.6666666666666666, \"#ed7953\"], [0.7777777777777778, \"#fb9f3a\"], [0.8888888888888888, \"#fdca26\"], [1.0, \"#f0f921\"]], \"type\": \"heatmap\"}], \"heatmapgl\": [{\"colorbar\": {\"outlinewidth\": 0, \"ticks\": \"\"}, \"colorscale\": [[0.0, \"#0d0887\"], [0.1111111111111111, \"#46039f\"], [0.2222222222222222, \"#7201a8\"], [0.3333333333333333, \"#9c179e\"], [0.4444444444444444, \"#bd3786\"], [0.5555555555555556, \"#d8576b\"], [0.6666666666666666, \"#ed7953\"], [0.7777777777777778, \"#fb9f3a\"], [0.8888888888888888, \"#fdca26\"], [1.0, \"#f0f921\"]], \"type\": \"heatmapgl\"}], \"histogram\": [{\"marker\": {\"colorbar\": {\"outlinewidth\": 0, \"ticks\": \"\"}}, \"type\": \"histogram\"}], \"histogram2d\": [{\"colorbar\": {\"outlinewidth\": 0, \"ticks\": \"\"}, \"colorscale\": [[0.0, \"#0d0887\"], [0.1111111111111111, \"#46039f\"], [0.2222222222222222, \"#7201a8\"], [0.3333333333333333, \"#9c179e\"], [0.4444444444444444, \"#bd3786\"], [0.5555555555555556, \"#d8576b\"], [0.6666666666666666, \"#ed7953\"], [0.7777777777777778, \"#fb9f3a\"], [0.8888888888888888, \"#fdca26\"], [1.0, \"#f0f921\"]], \"type\": \"histogram2d\"}], \"histogram2dcontour\": [{\"colorbar\": {\"outlinewidth\": 0, \"ticks\": \"\"}, \"colorscale\": [[0.0, \"#0d0887\"], [0.1111111111111111, \"#46039f\"], [0.2222222222222222, \"#7201a8\"], [0.3333333333333333, \"#9c179e\"], [0.4444444444444444, \"#bd3786\"], [0.5555555555555556, \"#d8576b\"], [0.6666666666666666, \"#ed7953\"], [0.7777777777777778, \"#fb9f3a\"], [0.8888888888888888, \"#fdca26\"], [1.0, \"#f0f921\"]], \"type\": \"histogram2dcontour\"}], \"mesh3d\": [{\"colorbar\": {\"outlinewidth\": 0, \"ticks\": \"\"}, \"type\": \"mesh3d\"}], \"parcoords\": [{\"line\": {\"colorbar\": {\"outlinewidth\": 0, \"ticks\": \"\"}}, \"type\": \"parcoords\"}], \"pie\": [{\"automargin\": true, \"type\": \"pie\"}], \"scatter\": [{\"marker\": {\"colorbar\": {\"outlinewidth\": 0, \"ticks\": \"\"}}, \"type\": \"scatter\"}], \"scatter3d\": [{\"line\": {\"colorbar\": {\"outlinewidth\": 0, \"ticks\": \"\"}}, \"marker\": {\"colorbar\": {\"outlinewidth\": 0, \"ticks\": \"\"}}, \"type\": \"scatter3d\"}], \"scattercarpet\": [{\"marker\": {\"colorbar\": {\"outlinewidth\": 0, \"ticks\": \"\"}}, \"type\": \"scattercarpet\"}], \"scattergeo\": [{\"marker\": {\"colorbar\": {\"outlinewidth\": 0, \"ticks\": \"\"}}, \"type\": \"scattergeo\"}], \"scattergl\": [{\"marker\": {\"colorbar\": {\"outlinewidth\": 0, \"ticks\": \"\"}}, \"type\": \"scattergl\"}], \"scattermapbox\": [{\"marker\": {\"colorbar\": {\"outlinewidth\": 0, \"ticks\": \"\"}}, \"type\": \"scattermapbox\"}], \"scatterpolar\": [{\"marker\": {\"colorbar\": {\"outlinewidth\": 0, \"ticks\": \"\"}}, \"type\": \"scatterpolar\"}], \"scatterpolargl\": [{\"marker\": {\"colorbar\": {\"outlinewidth\": 0, \"ticks\": \"\"}}, \"type\": \"scatterpolargl\"}], \"scatterternary\": [{\"marker\": {\"colorbar\": {\"outlinewidth\": 0, \"ticks\": \"\"}}, \"type\": \"scatterternary\"}], \"surface\": [{\"colorbar\": {\"outlinewidth\": 0, \"ticks\": \"\"}, \"colorscale\": [[0.0, \"#0d0887\"], [0.1111111111111111, \"#46039f\"], [0.2222222222222222, \"#7201a8\"], [0.3333333333333333, \"#9c179e\"], [0.4444444444444444, \"#bd3786\"], [0.5555555555555556, \"#d8576b\"], [0.6666666666666666, \"#ed7953\"], [0.7777777777777778, \"#fb9f3a\"], [0.8888888888888888, \"#fdca26\"], [1.0, \"#f0f921\"]], \"type\": \"surface\"}], \"table\": [{\"cells\": {\"fill\": {\"color\": \"#EBF0F8\"}, \"line\": {\"color\": \"white\"}}, \"header\": {\"fill\": {\"color\": \"#C8D4E3\"}, \"line\": {\"color\": \"white\"}}, \"type\": \"table\"}]}, \"layout\": {\"annotationdefaults\": {\"arrowcolor\": \"#2a3f5f\", \"arrowhead\": 0, \"arrowwidth\": 1}, \"coloraxis\": {\"colorbar\": {\"outlinewidth\": 0, \"ticks\": \"\"}}, \"colorscale\": {\"diverging\": [[0, \"#8e0152\"], [0.1, \"#c51b7d\"], [0.2, \"#de77ae\"], [0.3, \"#f1b6da\"], [0.4, \"#fde0ef\"], [0.5, \"#f7f7f7\"], [0.6, \"#e6f5d0\"], [0.7, \"#b8e186\"], [0.8, \"#7fbc41\"], [0.9, \"#4d9221\"], [1, \"#276419\"]], \"sequential\": [[0.0, \"#0d0887\"], [0.1111111111111111, \"#46039f\"], [0.2222222222222222, \"#7201a8\"], [0.3333333333333333, \"#9c179e\"], [0.4444444444444444, \"#bd3786\"], [0.5555555555555556, \"#d8576b\"], [0.6666666666666666, \"#ed7953\"], [0.7777777777777778, \"#fb9f3a\"], [0.8888888888888888, \"#fdca26\"], [1.0, \"#f0f921\"]], \"sequentialminus\": [[0.0, \"#0d0887\"], [0.1111111111111111, \"#46039f\"], [0.2222222222222222, \"#7201a8\"], [0.3333333333333333, \"#9c179e\"], [0.4444444444444444, \"#bd3786\"], [0.5555555555555556, \"#d8576b\"], [0.6666666666666666, \"#ed7953\"], [0.7777777777777778, \"#fb9f3a\"], [0.8888888888888888, \"#fdca26\"], [1.0, \"#f0f921\"]]}, \"colorway\": [\"#636efa\", \"#EF553B\", \"#00cc96\", \"#ab63fa\", \"#FFA15A\", \"#19d3f3\", \"#FF6692\", \"#B6E880\", \"#FF97FF\", \"#FECB52\"], \"font\": {\"color\": \"#2a3f5f\"}, \"geo\": {\"bgcolor\": \"white\", \"lakecolor\": \"white\", \"landcolor\": \"#E5ECF6\", \"showlakes\": true, \"showland\": true, \"subunitcolor\": \"white\"}, \"hoverlabel\": {\"align\": \"left\"}, \"hovermode\": \"closest\", \"mapbox\": {\"style\": \"light\"}, \"paper_bgcolor\": \"white\", \"plot_bgcolor\": \"#E5ECF6\", \"polar\": {\"angularaxis\": {\"gridcolor\": \"white\", \"linecolor\": \"white\", \"ticks\": \"\"}, \"bgcolor\": \"#E5ECF6\", \"radialaxis\": {\"gridcolor\": \"white\", \"linecolor\": \"white\", \"ticks\": \"\"}}, \"scene\": {\"xaxis\": {\"backgroundcolor\": \"#E5ECF6\", \"gridcolor\": \"white\", \"gridwidth\": 2, \"linecolor\": \"white\", \"showbackground\": true, \"ticks\": \"\", \"zerolinecolor\": \"white\"}, \"yaxis\": {\"backgroundcolor\": \"#E5ECF6\", \"gridcolor\": \"white\", \"gridwidth\": 2, \"linecolor\": \"white\", \"showbackground\": true, \"ticks\": \"\", \"zerolinecolor\": \"white\"}, \"zaxis\": {\"backgroundcolor\": \"#E5ECF6\", \"gridcolor\": \"white\", \"gridwidth\": 2, \"linecolor\": \"white\", \"showbackground\": true, \"ticks\": \"\", \"zerolinecolor\": \"white\"}}, \"shapedefaults\": {\"line\": {\"color\": \"#2a3f5f\"}}, \"ternary\": {\"aaxis\": {\"gridcolor\": \"white\", \"linecolor\": \"white\", \"ticks\": \"\"}, \"baxis\": {\"gridcolor\": \"white\", \"linecolor\": \"white\", \"ticks\": \"\"}, \"bgcolor\": \"#E5ECF6\", \"caxis\": {\"gridcolor\": \"white\", \"linecolor\": \"white\", \"ticks\": \"\"}}, \"title\": {\"x\": 0.05}, \"xaxis\": {\"automargin\": true, \"gridcolor\": \"white\", \"linecolor\": \"white\", \"ticks\": \"\", \"title\": {\"standoff\": 15}, \"zerolinecolor\": \"white\", \"zerolinewidth\": 2}, \"yaxis\": {\"automargin\": true, \"gridcolor\": \"white\", \"linecolor\": \"white\", \"ticks\": \"\", \"title\": {\"standoff\": 15}, \"zerolinecolor\": \"white\", \"zerolinewidth\": 2}}}, \"title\": {\"font\": {\"color\": \"#4D5663\"}}, \"xaxis\": {\"gridcolor\": \"#E1E5ED\", \"showgrid\": true, \"tickfont\": {\"color\": \"#4D5663\"}, \"title\": {\"font\": {\"color\": \"#4D5663\"}, \"text\": \"\"}, \"zerolinecolor\": \"#E1E5ED\"}, \"yaxis\": {\"gridcolor\": \"#E1E5ED\", \"showgrid\": true, \"tickfont\": {\"color\": \"#4D5663\"}, \"title\": {\"font\": {\"color\": \"#4D5663\"}, \"text\": \"\"}, \"zerolinecolor\": \"#E1E5ED\"}},                        {\"showLink\": true, \"linkText\": \"Export to plot.ly\", \"plotlyServerURL\": \"https://plot.ly\", \"responsive\": true}                    ).then(function(){\n",
       "                            \n",
       "var gd = document.getElementById('01216da5-a845-42eb-9605-190516955af0');\n",
       "var x = new MutationObserver(function (mutations, observer) {{\n",
       "        var display = window.getComputedStyle(gd).display;\n",
       "        if (!display || display === 'none') {{\n",
       "            console.log([gd, 'removed!']);\n",
       "            Plotly.purge(gd);\n",
       "            observer.disconnect();\n",
       "        }}\n",
       "}});\n",
       "\n",
       "// Listen for the removal of the full notebook cells\n",
       "var notebookContainer = gd.closest('#notebook-container');\n",
       "if (notebookContainer) {{\n",
       "    x.observe(notebookContainer, {childList: true});\n",
       "}}\n",
       "\n",
       "// Listen for the clearing of the current output cell\n",
       "var outputEl = gd.closest('.output');\n",
       "if (outputEl) {{\n",
       "    x.observe(outputEl, {childList: true});\n",
       "}}\n",
       "\n",
       "                        })                };                });            </script>        </div>"
      ]
     },
     "metadata": {},
     "output_type": "display_data"
    }
   ],
   "source": [
    "cf.datagen.sinwave(10,0.25).iplot(kind='surface')"
   ]
  },
  {
   "cell_type": "code",
   "execution_count": null,
   "metadata": {},
   "outputs": [],
   "source": [
    "df.iplot(kind='hist',bins=25,bargap=0.5,barmode=''"
   ]
  }
 ],
 "metadata": {
  "kernelspec": {
   "display_name": "Python 3",
   "language": "python",
   "name": "python3"
  },
  "language_info": {
   "codemirror_mode": {
    "name": "ipython",
    "version": 3
   },
   "file_extension": ".py",
   "mimetype": "text/x-python",
   "name": "python",
   "nbconvert_exporter": "python",
   "pygments_lexer": "ipython3",
   "version": "3.8.3"
  }
 },
 "nbformat": 4,
 "nbformat_minor": 4
}
