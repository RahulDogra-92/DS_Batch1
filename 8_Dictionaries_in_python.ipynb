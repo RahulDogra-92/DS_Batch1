{
  "nbformat": 4,
  "nbformat_minor": 0,
  "metadata": {
    "colab": {
      "name": "8_Dictionaries_in_python.ipynb",
      "provenance": [],
      "collapsed_sections": []
    },
    "kernelspec": {
      "name": "python3",
      "display_name": "Python 3"
    }
  },
  "cells": [
    {
      "cell_type": "markdown",
      "metadata": {
        "id": "view-in-github"
      },
      "source": [
        "<a href=\"https://colab.research.google.com/github/avs20/SioLabsPython0/blob/main/8_Dictionaries_in_python.ipynb\" target=\"_parent\"><img src=\"https://colab.research.google.com/assets/colab-badge.svg\" alt=\"Open In Colab\"/></a>"
      ]
    },
    {
      "cell_type": "code",
      "metadata": {
        "id": "nNemaz2mLYdx",
        "colab": {
          "base_uri": "https://localhost:8080/"
        },
        "outputId": "e26e6ca6-2597-4e48-f5e1-30e8115eec7d"
      },
      "source": [
        "#Write a Python function to multiply all the numbers in a list\n",
        "\n",
        "numList = [24,12,31,16,25,3]\n",
        "\n",
        "for i in numList:\n",
        "  print(i, end = \" \")"
      ],
      "execution_count": 3,
      "outputs": [
        {
          "output_type": "stream",
          "text": [
            "24 12 31 16 25 3 "
          ],
          "name": "stdout"
        }
      ]
    },
    {
      "cell_type": "markdown",
      "metadata": {
        "id": "581tQzUJOxDD"
      },
      "source": [
        "Dictionaries\n",
        "-----------"
      ]
    },
    {
      "cell_type": "code",
      "metadata": {
        "id": "gWPeZ_lkOynz",
        "colab": {
          "base_uri": "https://localhost:8080/"
        },
        "outputId": "889dcc72-57a3-448f-9976-12a39d2111db"
      },
      "source": [
        "# how to make a dictionary \n",
        "# dict()\n",
        "\n",
        "# creates empty dictionary\n",
        "mydict = dict()\n",
        "\n",
        "print(mydict)\n",
        "print(type(mydict))"
      ],
      "execution_count": 5,
      "outputs": [
        {
          "output_type": "stream",
          "text": [
            "{}\n",
            "<class 'dict'>\n"
          ],
          "name": "stdout"
        }
      ]
    },
    {
      "cell_type": "code",
      "metadata": {
        "id": "DBRy6bJuQhCL",
        "colab": {
          "base_uri": "https://localhost:8080/"
        },
        "outputId": "e9dd8696-50d9-4714-d292-7bbbd7409571"
      },
      "source": [
        "# how to add value in dictionary\n",
        "\n",
        "\n",
        "mydict = { 'breakfast' : 'banana'   }\n",
        "print(mydict)"
      ],
      "execution_count": 6,
      "outputs": [
        {
          "output_type": "stream",
          "text": [
            "{'breakfast': 'banana'}\n"
          ],
          "name": "stdout"
        }
      ]
    },
    {
      "cell_type": "code",
      "metadata": {
        "id": "BZQYv3mdQ8ej",
        "colab": {
          "base_uri": "https://localhost:8080/"
        },
        "outputId": "c260d72f-2430-42a9-f39e-461715748334"
      },
      "source": [
        "mydict['lunch'] = 'mango'\n",
        "print(mydict)"
      ],
      "execution_count": 7,
      "outputs": [
        {
          "output_type": "stream",
          "text": [
            "{'breakfast': 'banana', 'lunch': 'mango'}\n"
          ],
          "name": "stdout"
        }
      ]
    },
    {
      "cell_type": "code",
      "metadata": {
        "id": "46ohAAR4RCBz",
        "colab": {
          "base_uri": "https://localhost:8080/"
        },
        "outputId": "3a905180-37b8-40cc-937b-b6dd13d39238"
      },
      "source": [
        "mydict['snacks'] = 'apple'\n",
        "mydict['dinner'] = 'orange'\n",
        "\n",
        "print(mydict)"
      ],
      "execution_count": 8,
      "outputs": [
        {
          "output_type": "stream",
          "text": [
            "{'breakfast': 'banana', 'lunch': 'mango', 'snacks': 'apple', 'dinner': 'orange'}\n"
          ],
          "name": "stdout"
        }
      ]
    },
    {
      "cell_type": "code",
      "metadata": {
        "id": "XfhM75m_RYyt",
        "colab": {
          "base_uri": "https://localhost:8080/"
        },
        "outputId": "6a407a1e-c466-4f6f-9144-881c47803551"
      },
      "source": [
        "print(mydict['snacks'])"
      ],
      "execution_count": 9,
      "outputs": [
        {
          "output_type": "stream",
          "text": [
            "apple\n"
          ],
          "name": "stdout"
        }
      ]
    },
    {
      "cell_type": "code",
      "metadata": {
        "id": "DgRt2Eo3RgQT",
        "colab": {
          "base_uri": "https://localhost:8080/"
        },
        "outputId": "d86c8ce4-5dc7-4b7f-fcdc-e1a6bd343a6f"
      },
      "source": [
        "print(mydict['breakfast'])"
      ],
      "execution_count": 10,
      "outputs": [
        {
          "output_type": "stream",
          "text": [
            "banana\n"
          ],
          "name": "stdout"
        }
      ]
    },
    {
      "cell_type": "code",
      "metadata": {
        "id": "lnZUUeKnRmqr",
        "colab": {
          "base_uri": "https://localhost:8080/",
          "height": 171
        },
        "outputId": "8ced94a7-a919-412c-c37b-7d71d3700506"
      },
      "source": [
        "print(mydict['apple'])"
      ],
      "execution_count": 11,
      "outputs": [
        {
          "output_type": "error",
          "ename": "KeyError",
          "evalue": "ignored",
          "traceback": [
            "\u001b[0;31m---------------------------------------------------------------------------\u001b[0m",
            "\u001b[0;31mKeyError\u001b[0m                                  Traceback (most recent call last)",
            "\u001b[0;32m<ipython-input-11-d30eda35f3c3>\u001b[0m in \u001b[0;36m<module>\u001b[0;34m()\u001b[0m\n\u001b[0;32m----> 1\u001b[0;31m \u001b[0mprint\u001b[0m\u001b[0;34m(\u001b[0m\u001b[0mmydict\u001b[0m\u001b[0;34m[\u001b[0m\u001b[0;34m'apple'\u001b[0m\u001b[0;34m]\u001b[0m\u001b[0;34m)\u001b[0m\u001b[0;34m\u001b[0m\u001b[0;34m\u001b[0m\u001b[0m\n\u001b[0m",
            "\u001b[0;31mKeyError\u001b[0m: 'apple'"
          ]
        }
      ]
    },
    {
      "cell_type": "code",
      "metadata": {
        "id": "GgYUb0VaSBmC",
        "colab": {
          "base_uri": "https://localhost:8080/"
        },
        "outputId": "6cf7fa2b-8c48-46a1-fa2a-7bf1a85b9855"
      },
      "source": [
        "mydict['dinner'] = 'guava'\n",
        "print(mydict)"
      ],
      "execution_count": 12,
      "outputs": [
        {
          "output_type": "stream",
          "text": [
            "{'breakfast': 'banana', 'lunch': 'mango', 'snacks': 'apple', 'dinner': 'guava'}\n"
          ],
          "name": "stdout"
        }
      ]
    },
    {
      "cell_type": "code",
      "metadata": {
        "id": "_deFXMqnSWzz"
      },
      "source": [
        "del mydict['snacks']"
      ],
      "execution_count": 13,
      "outputs": []
    },
    {
      "cell_type": "code",
      "metadata": {
        "id": "BYTMplITSaag",
        "colab": {
          "base_uri": "https://localhost:8080/"
        },
        "outputId": "cfb6d1b1-f65a-4191-98f6-0161d78f2989"
      },
      "source": [
        "print(mydict)"
      ],
      "execution_count": 14,
      "outputs": [
        {
          "output_type": "stream",
          "text": [
            "{'breakfast': 'banana', 'lunch': 'mango', 'dinner': 'guava'}\n"
          ],
          "name": "stdout"
        }
      ]
    },
    {
      "cell_type": "code",
      "metadata": {
        "id": "OdMjXcVVSbSM",
        "colab": {
          "base_uri": "https://localhost:8080/"
        },
        "outputId": "4f1a101c-89b9-4165-8168-b680449a099d"
      },
      "source": [
        "mydict.pop('breakfast')\n",
        "print(mydict)"
      ],
      "execution_count": 15,
      "outputs": [
        {
          "output_type": "stream",
          "text": [
            "{'lunch': 'mango', 'dinner': 'guava'}\n"
          ],
          "name": "stdout"
        }
      ]
    },
    {
      "cell_type": "code",
      "metadata": {
        "id": "94kaK333S1n_",
        "colab": {
          "base_uri": "https://localhost:8080/"
        },
        "outputId": "cf195092-8a3b-4343-b47d-e1bc87a34f62"
      },
      "source": [
        "# how to use in for loop \n",
        "\n",
        "'''\n",
        "for item in mylist:\n",
        "  print(item)\n",
        "'''\n",
        "\n",
        "for key in mydict:\n",
        "  print(key,':', mydict[key])\n",
        "\n"
      ],
      "execution_count": 16,
      "outputs": [
        {
          "output_type": "stream",
          "text": [
            "lunch : mango\n",
            "dinner : guava\n"
          ],
          "name": "stdout"
        }
      ]
    },
    {
      "cell_type": "markdown",
      "metadata": {
        "id": "eLzUgpfOTstk"
      },
      "source": [
        "dictionaries are used in counting\n",
        "\n",
        "if the key is in dictionary or not \n",
        "\n",
        "```\n",
        "if key in mydict:\n",
        "```"
      ]
    },
    {
      "cell_type": "code",
      "metadata": {
        "id": "rKKeXYDSTuyV",
        "colab": {
          "base_uri": "https://localhost:8080/"
        },
        "outputId": "89a74e8c-7d62-4e0a-f2a6-00d9f4fa0c5d"
      },
      "source": [
        "print(mydict)"
      ],
      "execution_count": 17,
      "outputs": [
        {
          "output_type": "stream",
          "text": [
            "{'lunch': 'mango', 'dinner': 'guava'}\n"
          ],
          "name": "stdout"
        }
      ]
    },
    {
      "cell_type": "code",
      "metadata": {
        "id": "ePbSp9PtUIJ6",
        "colab": {
          "base_uri": "https://localhost:8080/"
        },
        "outputId": "929e949e-f076-44e0-852b-c653ce3b9b35"
      },
      "source": [
        "if 'snacks' in mydict:\n",
        "    print('snacks is presnet in dict')\n",
        "else:\n",
        "    print('snacks is NOT PRESENT in dict')"
      ],
      "execution_count": 18,
      "outputs": [
        {
          "output_type": "stream",
          "text": [
            "snacks is NOT PRESENT in dict\n"
          ],
          "name": "stdout"
        }
      ]
    },
    {
      "cell_type": "code",
      "metadata": {
        "id": "5IN91bIbUHHM",
        "colab": {
          "base_uri": "https://localhost:8080/"
        },
        "outputId": "47736b93-a177-4cbe-a71a-8461fa01d481"
      },
      "source": [
        "if 'lunch' in mydict:\n",
        "    print('lunch is presnet in dict')\n",
        "else:\n",
        "    print('lunch is NOT PRESENT in dict')"
      ],
      "execution_count": 19,
      "outputs": [
        {
          "output_type": "stream",
          "text": [
            "lunch is presnet in dict\n"
          ],
          "name": "stdout"
        }
      ]
    },
    {
      "cell_type": "code",
      "metadata": {
        "id": "HuWHkh7DUaTD",
        "colab": {
          "base_uri": "https://localhost:8080/"
        },
        "outputId": "831055a3-e946-492f-a45b-c52fbd5406a3"
      },
      "source": [
        "'lunch' in mydict"
      ],
      "execution_count": 21,
      "outputs": [
        {
          "output_type": "execute_result",
          "data": {
            "text/plain": [
              "True"
            ]
          },
          "metadata": {},
          "execution_count": 21
        }
      ]
    },
    {
      "cell_type": "code",
      "metadata": {
        "id": "3EEPEcjWUcsW",
        "colab": {
          "base_uri": "https://localhost:8080/"
        },
        "outputId": "6dc8825e-93ee-455e-943d-92bc4b27431d"
      },
      "source": [
        "'snacks' in mydict"
      ],
      "execution_count": 22,
      "outputs": [
        {
          "output_type": "execute_result",
          "data": {
            "text/plain": [
              "False"
            ]
          },
          "metadata": {},
          "execution_count": 22
        }
      ]
    },
    {
      "cell_type": "markdown",
      "metadata": {
        "id": "kKeK9_jvWScT"
      },
      "source": [
        "Find the frequency of each character in the string \n",
        "\n",
        "Highland Quality"
      ]
    },
    {
      "cell_type": "code",
      "metadata": {
        "id": "9j9vAs9-WXsv",
        "colab": {
          "base_uri": "https://localhost:8080/"
        },
        "outputId": "4a31ceae-71be-4594-f021-a76b8d860d6e"
      },
      "source": [
        "mystr = 'Highland Quality'\n",
        "\n",
        "mydict = {}\n",
        "\n",
        "for ch in mystr:\n",
        "  if ch not in mydict:\n",
        "      mydict[ch] = 1\n",
        "  else:\n",
        "      mydict[ch] = mydict[ch] + 1\n",
        "\n",
        "print(mydict)\n"
      ],
      "execution_count": 23,
      "outputs": [
        {
          "output_type": "stream",
          "text": [
            "{'H': 1, 'i': 2, 'g': 1, 'h': 1, 'l': 2, 'a': 2, 'n': 1, 'd': 1, ' ': 1, 'Q': 1, 'u': 1, 't': 1, 'y': 1}\n"
          ],
          "name": "stdout"
        }
      ]
    },
    {
      "cell_type": "code",
      "metadata": {
        "id": "gLxj0brdYKy2",
        "colab": {
          "base_uri": "https://localhost:8080/"
        },
        "outputId": "77116ef5-aa91-4d79-81d9-fe3ef768fc36"
      },
      "source": [
        "speech = '''\n",
        "The Prime Minister Narendra Modi’s appeal to spiritual leaders to help popularise ‘vocal for local’ for AatmNirbhar Bharat yesterday has found huge response among the prominent spiritual leaders of the country. The ‘sant samaj’ has responded to the Prime Minister’s appeal with great enthusiasm. The Spiritual personalities have come forward with public commitment to promote and popularise ‘vocal for local’ for AatmNirbhar Bharat and have pledged their support for the cause.\n",
        "\n",
        "The Prime Minister’s call came at the unveiling of the ‘Statue of Peace’ to mark the 151st Birth Anniversary celebrations of Jainacharya Shree Vijay Vallabh Surishwer Ji Maharaj, via video conferencing, yesterday. Shri Modi had said, as the base of the freedom struggle was provided by the bhakti movement, similarly, today, basis of the AatmNirbhar Bharat will be provided by the saints, mahatma, mahants and acharyas of our country. He called on the spiritual leaders, to promote AatmNirbhar Bharat in their preaching and interactions with their followers.\n",
        "\n",
        "Sri Sri Ravi Shankar said that in support of the Prime Minister call, youngsters in his organizations have created an app and Sri Sri reiterated the commitment to AatmNirbhar Bharat in things of day to day use.\n",
        "\n",
        "Baba Ramdev also pledged support of Patanjali and his followers to the enterprise of AatmNirbhar Bharat. He offered to get in touch with other spiritual leaders and bring them on the platform of ‘vocal for local’.\n",
        "\n",
        "Sadguru Jaggi Vasudev tweeted in response to the Prime Minister’s call “Self-reliance is a fundamental strength that is vital for a strong and stable Nation. Not to stand in isolation but for resilience of national fiber and be of significance in the world. Only possible with committed Citizenry.”\n",
        "\n",
        "Swami Awadheshanand responded with the unified support on behalf of the top spiritual leaders and called the Prime Minister call inspiring.\n",
        "\n",
        "Bhawat Kathakar and Spiritual personality Devaki Nandan Thakur said that on the call of the Prime Minister his followers have made ‘vocal for local’ their life’s motto.\n",
        "\n",
        "Sentiment of support and appreciation for the call for AatmNirbhar Bharat resonates through the messages of the spiritual leaders. They are not only supporting the call on a personal level but are offering to coordinate the response of the ‘sant samaj’, calling upon their supporters to adopt the ideals of ‘vocal for local’ also they are pledging their infrastructure and resources to the cause. The unstinting support for the movement can be seen in the following messages.\n",
        "'''\n",
        "\n",
        "print(speech)"
      ],
      "execution_count": 28,
      "outputs": [
        {
          "output_type": "stream",
          "text": [
            "\n",
            "The Prime Minister Narendra Modi’s appeal to spiritual leaders to help popularise ‘vocal for local’ for AatmNirbhar Bharat yesterday has found huge response among the prominent spiritual leaders of the country. The ‘sant samaj’ has responded to the Prime Minister’s appeal with great enthusiasm. The Spiritual personalities have come forward with public commitment to promote and popularise ‘vocal for local’ for AatmNirbhar Bharat and have pledged their support for the cause.\n",
            "\n",
            "The Prime Minister’s call came at the unveiling of the ‘Statue of Peace’ to mark the 151st Birth Anniversary celebrations of Jainacharya Shree Vijay Vallabh Surishwer Ji Maharaj, via video conferencing, yesterday. Shri Modi had said, as the base of the freedom struggle was provided by the bhakti movement, similarly, today, basis of the AatmNirbhar Bharat will be provided by the saints, mahatma, mahants and acharyas of our country. He called on the spiritual leaders, to promote AatmNirbhar Bharat in their preaching and interactions with their followers.\n",
            "\n",
            "Sri Sri Ravi Shankar said that in support of the Prime Minister call, youngsters in his organizations have created an app and Sri Sri reiterated the commitment to AatmNirbhar Bharat in things of day to day use.\n",
            "\n",
            "Baba Ramdev also pledged support of Patanjali and his followers to the enterprise of AatmNirbhar Bharat. He offered to get in touch with other spiritual leaders and bring them on the platform of ‘vocal for local’.\n",
            "\n",
            "Sadguru Jaggi Vasudev tweeted in response to the Prime Minister’s call “Self-reliance is a fundamental strength that is vital for a strong and stable Nation. Not to stand in isolation but for resilience of national fiber and be of significance in the world. Only possible with committed Citizenry.”\n",
            "\n",
            "Swami Awadheshanand responded with the unified support on behalf of the top spiritual leaders and called the Prime Minister call inspiring.\n",
            "\n",
            "Bhawat Kathakar and Spiritual personality Devaki Nandan Thakur said that on the call of the Prime Minister his followers have made ‘vocal for local’ their life’s motto.\n",
            "\n",
            "Sentiment of support and appreciation for the call for AatmNirbhar Bharat resonates through the messages of the spiritual leaders. They are not only supporting the call on a personal level but are offering to coordinate the response of the ‘sant samaj’, calling upon their supporters to adopt the ideals of ‘vocal for local’ also they are pledging their infrastructure and resources to the cause. The unstinting support for the movement can be seen in the following messages.\n",
            "\n"
          ],
          "name": "stdout"
        }
      ]
    },
    {
      "cell_type": "code",
      "metadata": {
        "id": "gSsH9KfhYOZN",
        "colab": {
          "base_uri": "https://localhost:8080/"
        },
        "outputId": "b28baf28-1e69-4e06-faa9-38a247debf6a"
      },
      "source": [
        "# count the frequency of words in this release\n",
        "\n",
        "# to convert string to list use split\n",
        "\n",
        "mystr = 'The quick brown fox jump over the lazy dog'\n",
        "\n",
        "print(speech.split())\n",
        "\n",
        "wordlist = mystr.split()\n",
        "for word in wordlist:\n",
        "  print(word)\n"
      ],
      "execution_count": 29,
      "outputs": [
        {
          "output_type": "stream",
          "text": [
            "['The', 'Prime', 'Minister', 'Narendra', 'Modi’s', 'appeal', 'to', 'spiritual', 'leaders', 'to', 'help', 'popularise', '‘vocal', 'for', 'local’', 'for', 'AatmNirbhar', 'Bharat', 'yesterday', 'has', 'found', 'huge', 'response', 'among', 'the', 'prominent', 'spiritual', 'leaders', 'of', 'the', 'country.', 'The', '‘sant', 'samaj’', 'has', 'responded', 'to', 'the', 'Prime', 'Minister’s', 'appeal', 'with', 'great', 'enthusiasm.', 'The', 'Spiritual', 'personalities', 'have', 'come', 'forward', 'with', 'public', 'commitment', 'to', 'promote', 'and', 'popularise', '‘vocal', 'for', 'local’', 'for', 'AatmNirbhar', 'Bharat', 'and', 'have', 'pledged', 'their', 'support', 'for', 'the', 'cause.', 'The', 'Prime', 'Minister’s', 'call', 'came', 'at', 'the', 'unveiling', 'of', 'the', '‘Statue', 'of', 'Peace’', 'to', 'mark', 'the', '151st', 'Birth', 'Anniversary', 'celebrations', 'of', 'Jainacharya', 'Shree', 'Vijay', 'Vallabh', 'Surishwer', 'Ji', 'Maharaj,', 'via', 'video', 'conferencing,', 'yesterday.', 'Shri', 'Modi', 'had', 'said,', 'as', 'the', 'base', 'of', 'the', 'freedom', 'struggle', 'was', 'provided', 'by', 'the', 'bhakti', 'movement,', 'similarly,', 'today,', 'basis', 'of', 'the', 'AatmNirbhar', 'Bharat', 'will', 'be', 'provided', 'by', 'the', 'saints,', 'mahatma,', 'mahants', 'and', 'acharyas', 'of', 'our', 'country.', 'He', 'called', 'on', 'the', 'spiritual', 'leaders,', 'to', 'promote', 'AatmNirbhar', 'Bharat', 'in', 'their', 'preaching', 'and', 'interactions', 'with', 'their', 'followers.', 'Sri', 'Sri', 'Ravi', 'Shankar', 'said', 'that', 'in', 'support', 'of', 'the', 'Prime', 'Minister', 'call,', 'youngsters', 'in', 'his', 'organizations', 'have', 'created', 'an', 'app', 'and', 'Sri', 'Sri', 'reiterated', 'the', 'commitment', 'to', 'AatmNirbhar', 'Bharat', 'in', 'things', 'of', 'day', 'to', 'day', 'use.', 'Baba', 'Ramdev', 'also', 'pledged', 'support', 'of', 'Patanjali', 'and', 'his', 'followers', 'to', 'the', 'enterprise', 'of', 'AatmNirbhar', 'Bharat.', 'He', 'offered', 'to', 'get', 'in', 'touch', 'with', 'other', 'spiritual', 'leaders', 'and', 'bring', 'them', 'on', 'the', 'platform', 'of', '‘vocal', 'for', 'local’.', 'Sadguru', 'Jaggi', 'Vasudev', 'tweeted', 'in', 'response', 'to', 'the', 'Prime', 'Minister’s', 'call', '“Self-reliance', 'is', 'a', 'fundamental', 'strength', 'that', 'is', 'vital', 'for', 'a', 'strong', 'and', 'stable', 'Nation.', 'Not', 'to', 'stand', 'in', 'isolation', 'but', 'for', 'resilience', 'of', 'national', 'fiber', 'and', 'be', 'of', 'significance', 'in', 'the', 'world.', 'Only', 'possible', 'with', 'committed', 'Citizenry.”', 'Swami', 'Awadheshanand', 'responded', 'with', 'the', 'unified', 'support', 'on', 'behalf', 'of', 'the', 'top', 'spiritual', 'leaders', 'and', 'called', 'the', 'Prime', 'Minister', 'call', 'inspiring.', 'Bhawat', 'Kathakar', 'and', 'Spiritual', 'personality', 'Devaki', 'Nandan', 'Thakur', 'said', 'that', 'on', 'the', 'call', 'of', 'the', 'Prime', 'Minister', 'his', 'followers', 'have', 'made', '‘vocal', 'for', 'local’', 'their', 'life’s', 'motto.', 'Sentiment', 'of', 'support', 'and', 'appreciation', 'for', 'the', 'call', 'for', 'AatmNirbhar', 'Bharat', 'resonates', 'through', 'the', 'messages', 'of', 'the', 'spiritual', 'leaders.', 'They', 'are', 'not', 'only', 'supporting', 'the', 'call', 'on', 'a', 'personal', 'level', 'but', 'are', 'offering', 'to', 'coordinate', 'the', 'response', 'of', 'the', '‘sant', 'samaj’,', 'calling', 'upon', 'their', 'supporters', 'to', 'adopt', 'the', 'ideals', 'of', '‘vocal', 'for', 'local’', 'also', 'they', 'are', 'pledging', 'their', 'infrastructure', 'and', 'resources', 'to', 'the', 'cause.', 'The', 'unstinting', 'support', 'for', 'the', 'movement', 'can', 'be', 'seen', 'in', 'the', 'following', 'messages.']\n",
            "The\n",
            "quick\n",
            "brown\n",
            "fox\n",
            "jump\n",
            "over\n",
            "the\n",
            "lazy\n",
            "dog\n"
          ],
          "name": "stdout"
        }
      ]
    },
    {
      "cell_type": "code",
      "metadata": {
        "id": "KrwlJ0rOYo41",
        "colab": {
          "base_uri": "https://localhost:8080/"
        },
        "outputId": "eca53e5d-ff70-4579-8dcf-592a5848eeba"
      },
      "source": [
        "mystr = 'The,quick,brown,fox,jump,over,the,lazy,dog'\n",
        "\n",
        "print(mystr.split())\n"
      ],
      "execution_count": 31,
      "outputs": [
        {
          "output_type": "stream",
          "text": [
            "['The,quick,brown,fox,jump,over,the,lazy,dog']\n"
          ],
          "name": "stdout"
        }
      ]
    },
    {
      "cell_type": "code",
      "metadata": {
        "id": "ufk8bD3RYzK3",
        "colab": {
          "base_uri": "https://localhost:8080/"
        },
        "outputId": "f30e258a-d22e-4ee4-abc7-0c454378e011"
      },
      "source": [
        "print(mystr.split(','))\n"
      ],
      "execution_count": 32,
      "outputs": [
        {
          "output_type": "stream",
          "text": [
            "['The', 'quick', 'brown', 'fox', 'jump', 'over', 'the', 'lazy', 'dog']\n"
          ],
          "name": "stdout"
        }
      ]
    },
    {
      "cell_type": "code",
      "metadata": {
        "id": "Xdw2zKQeZCys",
        "colab": {
          "base_uri": "https://localhost:8080/"
        },
        "outputId": "300564f9-305a-45ac-a466-ba89cfbbb899"
      },
      "source": [
        "wordlist = speech.split()\n",
        "\n",
        "wordCount = {}\n",
        "\n",
        "for word in wordlist:\n",
        "  if word.lower() in wordCount:\n",
        "      wordCount[word.lower()] = wordCount[word.lower()] + 1\n",
        "  else:\n",
        "      wordCount[word.lower()] = 1\n",
        "\n",
        "print(wordCount)"
      ],
      "execution_count": 33,
      "outputs": [
        {
          "output_type": "stream",
          "text": [
            "{'the': 39, 'prime': 7, 'minister': 4, 'narendra': 1, 'modi’s': 1, 'appeal': 2, 'to': 15, 'spiritual': 8, 'leaders': 4, 'help': 1, 'popularise': 2, '‘vocal': 5, 'for': 13, 'local’': 4, 'aatmnirbhar': 7, 'bharat': 6, 'yesterday': 1, 'has': 2, 'found': 1, 'huge': 1, 'response': 3, 'among': 1, 'prominent': 1, 'of': 20, 'country.': 2, '‘sant': 2, 'samaj’': 1, 'responded': 2, 'minister’s': 3, 'with': 6, 'great': 1, 'enthusiasm.': 1, 'personalities': 1, 'have': 4, 'come': 1, 'forward': 1, 'public': 1, 'commitment': 2, 'promote': 2, 'and': 13, 'pledged': 2, 'their': 6, 'support': 6, 'cause.': 2, 'call': 6, 'came': 1, 'at': 1, 'unveiling': 1, '‘statue': 1, 'peace’': 1, 'mark': 1, '151st': 1, 'birth': 1, 'anniversary': 1, 'celebrations': 1, 'jainacharya': 1, 'shree': 1, 'vijay': 1, 'vallabh': 1, 'surishwer': 1, 'ji': 1, 'maharaj,': 1, 'via': 1, 'video': 1, 'conferencing,': 1, 'yesterday.': 1, 'shri': 1, 'modi': 1, 'had': 1, 'said,': 1, 'as': 1, 'base': 1, 'freedom': 1, 'struggle': 1, 'was': 1, 'provided': 2, 'by': 2, 'bhakti': 1, 'movement,': 1, 'similarly,': 1, 'today,': 1, 'basis': 1, 'will': 1, 'be': 3, 'saints,': 1, 'mahatma,': 1, 'mahants': 1, 'acharyas': 1, 'our': 1, 'he': 2, 'called': 2, 'on': 5, 'leaders,': 1, 'in': 9, 'preaching': 1, 'interactions': 1, 'followers.': 1, 'sri': 4, 'ravi': 1, 'shankar': 1, 'said': 2, 'that': 3, 'call,': 1, 'youngsters': 1, 'his': 3, 'organizations': 1, 'created': 1, 'an': 1, 'app': 1, 'reiterated': 1, 'things': 1, 'day': 2, 'use.': 1, 'baba': 1, 'ramdev': 1, 'also': 2, 'patanjali': 1, 'followers': 2, 'enterprise': 1, 'bharat.': 1, 'offered': 1, 'get': 1, 'touch': 1, 'other': 1, 'bring': 1, 'them': 1, 'platform': 1, 'local’.': 1, 'sadguru': 1, 'jaggi': 1, 'vasudev': 1, 'tweeted': 1, '“self-reliance': 1, 'is': 2, 'a': 3, 'fundamental': 1, 'strength': 1, 'vital': 1, 'strong': 1, 'stable': 1, 'nation.': 1, 'not': 2, 'stand': 1, 'isolation': 1, 'but': 2, 'resilience': 1, 'national': 1, 'fiber': 1, 'significance': 1, 'world.': 1, 'only': 2, 'possible': 1, 'committed': 1, 'citizenry.”': 1, 'swami': 1, 'awadheshanand': 1, 'unified': 1, 'behalf': 1, 'top': 1, 'inspiring.': 1, 'bhawat': 1, 'kathakar': 1, 'personality': 1, 'devaki': 1, 'nandan': 1, 'thakur': 1, 'made': 1, 'life’s': 1, 'motto.': 1, 'sentiment': 1, 'appreciation': 1, 'resonates': 1, 'through': 1, 'messages': 1, 'leaders.': 1, 'they': 2, 'are': 3, 'supporting': 1, 'personal': 1, 'level': 1, 'offering': 1, 'coordinate': 1, 'samaj’,': 1, 'calling': 1, 'upon': 1, 'supporters': 1, 'adopt': 1, 'ideals': 1, 'pledging': 1, 'infrastructure': 1, 'resources': 1, 'unstinting': 1, 'movement': 1, 'can': 1, 'seen': 1, 'following': 1, 'messages.': 1}\n"
          ],
          "name": "stdout"
        }
      ]
    },
    {
      "cell_type": "code",
      "metadata": {
        "id": "GeYVtPI5Zlk5",
        "colab": {
          "base_uri": "https://localhost:8080/"
        },
        "outputId": "e7b38430-f993-477c-e69f-8c5b8a1f493f"
      },
      "source": [
        "list(wordCount.keys())"
      ],
      "execution_count": 34,
      "outputs": [
        {
          "output_type": "execute_result",
          "data": {
            "text/plain": [
              "['the',\n",
              " 'prime',\n",
              " 'minister',\n",
              " 'narendra',\n",
              " 'modi’s',\n",
              " 'appeal',\n",
              " 'to',\n",
              " 'spiritual',\n",
              " 'leaders',\n",
              " 'help',\n",
              " 'popularise',\n",
              " '‘vocal',\n",
              " 'for',\n",
              " 'local’',\n",
              " 'aatmnirbhar',\n",
              " 'bharat',\n",
              " 'yesterday',\n",
              " 'has',\n",
              " 'found',\n",
              " 'huge',\n",
              " 'response',\n",
              " 'among',\n",
              " 'prominent',\n",
              " 'of',\n",
              " 'country.',\n",
              " '‘sant',\n",
              " 'samaj’',\n",
              " 'responded',\n",
              " 'minister’s',\n",
              " 'with',\n",
              " 'great',\n",
              " 'enthusiasm.',\n",
              " 'personalities',\n",
              " 'have',\n",
              " 'come',\n",
              " 'forward',\n",
              " 'public',\n",
              " 'commitment',\n",
              " 'promote',\n",
              " 'and',\n",
              " 'pledged',\n",
              " 'their',\n",
              " 'support',\n",
              " 'cause.',\n",
              " 'call',\n",
              " 'came',\n",
              " 'at',\n",
              " 'unveiling',\n",
              " '‘statue',\n",
              " 'peace’',\n",
              " 'mark',\n",
              " '151st',\n",
              " 'birth',\n",
              " 'anniversary',\n",
              " 'celebrations',\n",
              " 'jainacharya',\n",
              " 'shree',\n",
              " 'vijay',\n",
              " 'vallabh',\n",
              " 'surishwer',\n",
              " 'ji',\n",
              " 'maharaj,',\n",
              " 'via',\n",
              " 'video',\n",
              " 'conferencing,',\n",
              " 'yesterday.',\n",
              " 'shri',\n",
              " 'modi',\n",
              " 'had',\n",
              " 'said,',\n",
              " 'as',\n",
              " 'base',\n",
              " 'freedom',\n",
              " 'struggle',\n",
              " 'was',\n",
              " 'provided',\n",
              " 'by',\n",
              " 'bhakti',\n",
              " 'movement,',\n",
              " 'similarly,',\n",
              " 'today,',\n",
              " 'basis',\n",
              " 'will',\n",
              " 'be',\n",
              " 'saints,',\n",
              " 'mahatma,',\n",
              " 'mahants',\n",
              " 'acharyas',\n",
              " 'our',\n",
              " 'he',\n",
              " 'called',\n",
              " 'on',\n",
              " 'leaders,',\n",
              " 'in',\n",
              " 'preaching',\n",
              " 'interactions',\n",
              " 'followers.',\n",
              " 'sri',\n",
              " 'ravi',\n",
              " 'shankar',\n",
              " 'said',\n",
              " 'that',\n",
              " 'call,',\n",
              " 'youngsters',\n",
              " 'his',\n",
              " 'organizations',\n",
              " 'created',\n",
              " 'an',\n",
              " 'app',\n",
              " 'reiterated',\n",
              " 'things',\n",
              " 'day',\n",
              " 'use.',\n",
              " 'baba',\n",
              " 'ramdev',\n",
              " 'also',\n",
              " 'patanjali',\n",
              " 'followers',\n",
              " 'enterprise',\n",
              " 'bharat.',\n",
              " 'offered',\n",
              " 'get',\n",
              " 'touch',\n",
              " 'other',\n",
              " 'bring',\n",
              " 'them',\n",
              " 'platform',\n",
              " 'local’.',\n",
              " 'sadguru',\n",
              " 'jaggi',\n",
              " 'vasudev',\n",
              " 'tweeted',\n",
              " '“self-reliance',\n",
              " 'is',\n",
              " 'a',\n",
              " 'fundamental',\n",
              " 'strength',\n",
              " 'vital',\n",
              " 'strong',\n",
              " 'stable',\n",
              " 'nation.',\n",
              " 'not',\n",
              " 'stand',\n",
              " 'isolation',\n",
              " 'but',\n",
              " 'resilience',\n",
              " 'national',\n",
              " 'fiber',\n",
              " 'significance',\n",
              " 'world.',\n",
              " 'only',\n",
              " 'possible',\n",
              " 'committed',\n",
              " 'citizenry.”',\n",
              " 'swami',\n",
              " 'awadheshanand',\n",
              " 'unified',\n",
              " 'behalf',\n",
              " 'top',\n",
              " 'inspiring.',\n",
              " 'bhawat',\n",
              " 'kathakar',\n",
              " 'personality',\n",
              " 'devaki',\n",
              " 'nandan',\n",
              " 'thakur',\n",
              " 'made',\n",
              " 'life’s',\n",
              " 'motto.',\n",
              " 'sentiment',\n",
              " 'appreciation',\n",
              " 'resonates',\n",
              " 'through',\n",
              " 'messages',\n",
              " 'leaders.',\n",
              " 'they',\n",
              " 'are',\n",
              " 'supporting',\n",
              " 'personal',\n",
              " 'level',\n",
              " 'offering',\n",
              " 'coordinate',\n",
              " 'samaj’,',\n",
              " 'calling',\n",
              " 'upon',\n",
              " 'supporters',\n",
              " 'adopt',\n",
              " 'ideals',\n",
              " 'pledging',\n",
              " 'infrastructure',\n",
              " 'resources',\n",
              " 'unstinting',\n",
              " 'movement',\n",
              " 'can',\n",
              " 'seen',\n",
              " 'following',\n",
              " 'messages.']"
            ]
          },
          "metadata": {},
          "execution_count": 34
        }
      ]
    }
  ]
}