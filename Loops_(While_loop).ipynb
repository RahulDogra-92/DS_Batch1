{
  "nbformat": 4,
  "nbformat_minor": 0,
  "metadata": {
    "colab": {
      "name": "Loops_(While_loop).ipynb",
      "provenance": [],
      "collapsed_sections": []
    },
    "kernelspec": {
      "name": "python3",
      "display_name": "Python 3"
    }
  },
  "cells": [
    {
      "cell_type": "markdown",
      "metadata": {
        "id": "view-in-github"
      },
      "source": [
        "<a href=\"https://colab.research.google.com/github/avs20/SioLabsPython0/blob/main/4_Loops_(While_loop).ipynb\" target=\"_parent\"><img src=\"https://colab.research.google.com/assets/colab-badge.svg\" alt=\"Open In Colab\"/></a>"
      ]
    },
    {
      "cell_type": "markdown",
      "metadata": {
        "id": "Dc_ijzl2Ius0"
      },
      "source": [
        "## Last Class \n",
        "\n",
        "* conditional operations \n",
        "* condition - epxressions with conditional operator\n",
        "* if \n",
        "* if - else \n",
        "* if - elif - else \n"
      ]
    },
    {
      "cell_type": "markdown",
      "metadata": {
        "id": "duduEIdILzdz"
      },
      "source": [
        "## While loops \n",
        "\n",
        "Syntax \n",
        "-----\n",
        "\n",
        "```\n",
        "while <condition expr>:\n",
        "    run code \n",
        "    run code \n",
        "    run code \n",
        "\n",
        "run code outside the loop \n",
        "```\n",
        "\n"
      ]
    },
    {
      "cell_type": "code",
      "metadata": {
        "id": "84Q7U8KiIW4-",
        "colab": {
          "base_uri": "https://localhost:8080/"
        },
        "outputId": "d585c901-d491-4da9-e1dd-950b677557c2"
      },
      "source": [
        "print('I Love Python')\n",
        "print('I Love Python')\n",
        "print('I Love Python')\n",
        "print('I Love Python')\n",
        "print('I Love Python')\n",
        "\n",
        "print('I Love Python')\n",
        "print('I Love Python')\n",
        "print('I Love Python')\n",
        "print('I Love Python')\n",
        "print('I Love Python')\n",
        "\n",
        "print('I Love Python')\n",
        "print('I Love Python')\n",
        "print('I Love Python')\n",
        "print('I Love Python')\n",
        "print('I Love Python')\n",
        "\n",
        "print('I Love Python')\n",
        "print('I Love Python')\n",
        "print('I Love Python')\n",
        "print('I Love Python')\n",
        "print('I Love Python')\n"
      ],
      "execution_count": 40,
      "outputs": [
        {
          "output_type": "stream",
          "text": [
            "I Love Python\n",
            "I Love Python\n",
            "I Love Python\n",
            "I Love Python\n",
            "I Love Python\n",
            "I Love Python\n",
            "I Love Python\n",
            "I Love Python\n",
            "I Love Python\n",
            "I Love Python\n",
            "I Love Python\n",
            "I Love Python\n",
            "I Love Python\n",
            "I Love Python\n",
            "I Love Python\n",
            "I Love Python\n",
            "I Love Python\n",
            "I Love Python\n",
            "I Love Python\n",
            "I Love Python\n"
          ],
          "name": "stdout"
        }
      ]
    },
    {
      "cell_type": "code",
      "metadata": {
        "id": "DWjrYh7mMMXr",
        "colab": {
          "base_uri": "https://localhost:8080/"
        },
        "outputId": "31a1cd91-3090-417a-840e-2b20d71b6104"
      },
      "source": [
        "# using loops \n",
        "\n",
        "count = 0\n",
        "while count < 20:\n",
        "  print('I Love Python')\n",
        "  count = count + 1\n",
        "\n"
      ],
      "execution_count": 41,
      "outputs": [
        {
          "output_type": "stream",
          "text": [
            "I Love Python\n",
            "I Love Python\n",
            "I Love Python\n",
            "I Love Python\n",
            "I Love Python\n",
            "I Love Python\n",
            "I Love Python\n",
            "I Love Python\n",
            "I Love Python\n",
            "I Love Python\n",
            "I Love Python\n",
            "I Love Python\n",
            "I Love Python\n",
            "I Love Python\n",
            "I Love Python\n",
            "I Love Python\n",
            "I Love Python\n",
            "I Love Python\n",
            "I Love Python\n",
            "I Love Python\n"
          ],
          "name": "stdout"
        }
      ]
    },
    {
      "cell_type": "markdown",
      "metadata": {
        "id": "MbJG-9ZIP5e7"
      },
      "source": [
        "1 - 100 \n",
        "\n",
        "multiple of 3  -> Fizz \n",
        "\n",
        "multiple of 5 -> Buzz \n",
        "\n",
        "multiple of 15 - > Fizzbuzz "
      ]
    },
    {
      "cell_type": "code",
      "metadata": {
        "id": "ir9Z6FbpPsAX",
        "colab": {
          "base_uri": "https://localhost:8080/"
        },
        "outputId": "720d0af8-cdcc-45da-989f-9c587f45539b"
      },
      "source": [
        "count = 1 \n",
        "\n",
        "while count < 101:\n",
        "\n",
        "  if count % 15 == 0  :\n",
        "    print('FizzBuzz')\n",
        "  elif count % 5 == 0:\n",
        "    print('Buzz')\n",
        "  elif count % 3 == 0 :\n",
        "    print('Fizz')\n",
        "  elif count % 23 ==0:\n",
        "    count = count + 1\n",
        "    continue\n",
        "  else:\n",
        "    print(count)\n",
        "\n",
        "  count = count + 1 "
      ],
      "execution_count": 42,
      "outputs": [
        {
          "output_type": "stream",
          "text": [
            "1\n",
            "2\n",
            "Fizz\n",
            "4\n",
            "Buzz\n",
            "Fizz\n",
            "7\n",
            "8\n",
            "Fizz\n",
            "Buzz\n",
            "11\n",
            "Fizz\n",
            "13\n",
            "14\n",
            "FizzBuzz\n",
            "16\n",
            "17\n",
            "Fizz\n",
            "19\n",
            "Buzz\n",
            "Fizz\n",
            "22\n",
            "Fizz\n",
            "Buzz\n",
            "26\n",
            "Fizz\n",
            "28\n",
            "29\n",
            "FizzBuzz\n",
            "31\n",
            "32\n",
            "Fizz\n",
            "34\n",
            "Buzz\n",
            "Fizz\n",
            "37\n",
            "38\n",
            "Fizz\n",
            "Buzz\n",
            "41\n",
            "Fizz\n",
            "43\n",
            "44\n",
            "FizzBuzz\n",
            "47\n",
            "Fizz\n",
            "49\n",
            "Buzz\n",
            "Fizz\n",
            "52\n",
            "53\n",
            "Fizz\n",
            "Buzz\n",
            "56\n",
            "Fizz\n",
            "58\n",
            "59\n",
            "FizzBuzz\n",
            "61\n",
            "62\n",
            "Fizz\n",
            "64\n",
            "Buzz\n",
            "Fizz\n",
            "67\n",
            "68\n",
            "Fizz\n",
            "Buzz\n",
            "71\n",
            "Fizz\n",
            "73\n",
            "74\n",
            "FizzBuzz\n",
            "76\n",
            "77\n",
            "Fizz\n",
            "79\n",
            "Buzz\n",
            "Fizz\n",
            "82\n",
            "83\n",
            "Fizz\n",
            "Buzz\n",
            "86\n",
            "Fizz\n",
            "88\n",
            "89\n",
            "FizzBuzz\n",
            "91\n",
            "Fizz\n",
            "94\n",
            "Buzz\n",
            "Fizz\n",
            "97\n",
            "98\n",
            "Fizz\n",
            "Buzz\n"
          ],
          "name": "stdout"
        }
      ]
    },
    {
      "cell_type": "markdown",
      "metadata": {
        "id": "qyT-sVzDSEoH"
      },
      "source": [
        "## String Functions\n",
        "\n",
        "mystr = 'ashutosh'\n",
        "\n",
        "myste = \"ashutosh\"\n",
        "\n",
        "mystr3 = '''ashutosh'''\n",
        "\n",
        "\n"
      ]
    },
    {
      "cell_type": "code",
      "metadata": {
        "id": "tpbqrhBaSG13",
        "colab": {
          "base_uri": "https://localhost:8080/"
        },
        "outputId": "46835859-f12f-4bad-cbc1-a98f79ceabf4"
      },
      "source": [
        "name = \"vasu\"\n",
        "\n",
        "print(name.capitalize())"
      ],
      "execution_count": 43,
      "outputs": [
        {
          "output_type": "stream",
          "text": [
            "Vasu\n"
          ],
          "name": "stdout"
        }
      ]
    },
    {
      "cell_type": "markdown",
      "metadata": {
        "id": "sxrUDSKITlku"
      },
      "source": [
        ""
      ]
    },
    {
      "cell_type": "code",
      "metadata": {
        "id": "3magEySzTw2S",
        "colab": {
          "base_uri": "https://localhost:8080/"
        },
        "outputId": "bc6cab0b-4092-4654-807c-33d2dc3e002c"
      },
      "source": [
        "statement = \"vasu is dhashu\"\n",
        "\n",
        "print(statement.count(\"vasu\"))\n",
        "\n",
        "\n",
        "\n",
        "\n"
      ],
      "execution_count": 44,
      "outputs": [
        {
          "output_type": "stream",
          "text": [
            "1\n"
          ],
          "name": "stdout"
        }
      ]
    },
    {
      "cell_type": "code",
      "metadata": {
        "id": "r0Dq5ytnTzWt",
        "colab": {
          "base_uri": "https://localhost:8080/"
        },
        "outputId": "cc234143-e206-414e-aa0e-580075571be6"
      },
      "source": [
        "# endswith \n",
        "\n",
        "filename = \"vasu-shimla-trip.jpg\"\n",
        "\n",
        "filename.endswith(\".jpg\")"
      ],
      "execution_count": 45,
      "outputs": [
        {
          "output_type": "execute_result",
          "data": {
            "text/plain": [
              "True"
            ]
          },
          "metadata": {},
          "execution_count": 45
        }
      ]
    },
    {
      "cell_type": "code",
      "metadata": {
        "id": "dyUKDjT9UDyY",
        "colab": {
          "base_uri": "https://localhost:8080/"
        },
        "outputId": "f8ba3806-3ebe-464c-fc96-95c98de65fb0"
      },
      "source": [
        "# endswith \n",
        "\n",
        "filename = \"vasu-shimla-trip.jpg\"\n",
        "\n",
        "filename.endswith(\".xls\")"
      ],
      "execution_count": 46,
      "outputs": [
        {
          "output_type": "execute_result",
          "data": {
            "text/plain": [
              "False"
            ]
          },
          "metadata": {},
          "execution_count": 46
        }
      ]
    },
    {
      "cell_type": "code",
      "metadata": {
        "id": "lHylL4rvUHBD",
        "colab": {
          "base_uri": "https://localhost:8080/"
        },
        "outputId": "68778141-dc6a-4abe-830d-065ef0ff2b72"
      },
      "source": [
        "# startswith\n",
        "\n",
        "filename = \"vasu-shimla-trip.jpg\"\n",
        "\n",
        "filename.startswith(\"vasu\")"
      ],
      "execution_count": 47,
      "outputs": [
        {
          "output_type": "execute_result",
          "data": {
            "text/plain": [
              "True"
            ]
          },
          "metadata": {},
          "execution_count": 47
        }
      ]
    },
    {
      "cell_type": "code",
      "metadata": {
        "id": "ryJ3KMmiUW5h",
        "colab": {
          "base_uri": "https://localhost:8080/"
        },
        "outputId": "d5d89f28-a5e6-4ddd-95d2-42a58e1379c9"
      },
      "source": [
        "filename.startswith(\"tree\")"
      ],
      "execution_count": 48,
      "outputs": [
        {
          "output_type": "execute_result",
          "data": {
            "text/plain": [
              "False"
            ]
          },
          "metadata": {},
          "execution_count": 48
        }
      ]
    },
    {
      "cell_type": "code",
      "metadata": {
        "id": "AS4jF3unUcJo",
        "colab": {
          "base_uri": "https://localhost:8080/",
          "height": 35
        },
        "outputId": "a75f21a3-1070-4376-e207-c513b754a30a"
      },
      "source": [
        "filename.upper()"
      ],
      "execution_count": 49,
      "outputs": [
        {
          "output_type": "execute_result",
          "data": {
            "application/vnd.google.colaboratory.intrinsic+json": {
              "type": "string"
            },
            "text/plain": [
              "'VASU-SHIMLA-TRIP.JPG'"
            ]
          },
          "metadata": {},
          "execution_count": 49
        }
      ]
    },
    {
      "cell_type": "code",
      "metadata": {
        "id": "K3ACn2z4UfrK",
        "colab": {
          "base_uri": "https://localhost:8080/",
          "height": 35
        },
        "outputId": "3086778c-0d6c-420c-d5b9-6c7969569c1b"
      },
      "source": [
        "filename"
      ],
      "execution_count": 50,
      "outputs": [
        {
          "output_type": "execute_result",
          "data": {
            "application/vnd.google.colaboratory.intrinsic+json": {
              "type": "string"
            },
            "text/plain": [
              "'vasu-shimla-trip.jpg'"
            ]
          },
          "metadata": {},
          "execution_count": 50
        }
      ]
    },
    {
      "cell_type": "code",
      "metadata": {
        "id": "qQXgvCS3Uj2t"
      },
      "source": [
        "upper_filename = filename.upper()"
      ],
      "execution_count": 51,
      "outputs": []
    },
    {
      "cell_type": "code",
      "metadata": {
        "id": "L36VkKK1Uq4R",
        "colab": {
          "base_uri": "https://localhost:8080/",
          "height": 35
        },
        "outputId": "00535072-bc0d-466e-fbd9-48c26cc6d7c9"
      },
      "source": [
        "upper_filename"
      ],
      "execution_count": 52,
      "outputs": [
        {
          "output_type": "execute_result",
          "data": {
            "application/vnd.google.colaboratory.intrinsic+json": {
              "type": "string"
            },
            "text/plain": [
              "'VASU-SHIMLA-TRIP.JPG'"
            ]
          },
          "metadata": {},
          "execution_count": 52
        }
      ]
    },
    {
      "cell_type": "code",
      "metadata": {
        "id": "m2yB2Rb3UsdO",
        "colab": {
          "base_uri": "https://localhost:8080/",
          "height": 35
        },
        "outputId": "9ff07f7b-d476-4ccb-8159-67cc2ef27a2b"
      },
      "source": [
        "filename"
      ],
      "execution_count": 53,
      "outputs": [
        {
          "output_type": "execute_result",
          "data": {
            "application/vnd.google.colaboratory.intrinsic+json": {
              "type": "string"
            },
            "text/plain": [
              "'vasu-shimla-trip.jpg'"
            ]
          },
          "metadata": {},
          "execution_count": 53
        }
      ]
    },
    {
      "cell_type": "code",
      "metadata": {
        "id": "whzNzMWIUtTh",
        "colab": {
          "base_uri": "https://localhost:8080/",
          "height": 35
        },
        "outputId": "f2e7a3d3-6cbe-49c1-d9fd-3cd93bb68fca"
      },
      "source": [
        "upper_filename.lower()"
      ],
      "execution_count": 54,
      "outputs": [
        {
          "output_type": "execute_result",
          "data": {
            "application/vnd.google.colaboratory.intrinsic+json": {
              "type": "string"
            },
            "text/plain": [
              "'vasu-shimla-trip.jpg'"
            ]
          },
          "metadata": {},
          "execution_count": 54
        }
      ]
    },
    {
      "cell_type": "code",
      "metadata": {
        "id": "Rb7FDBSrUvtt",
        "colab": {
          "base_uri": "https://localhost:8080/"
        },
        "outputId": "3d19a5e6-f355-4d0a-84ee-bcfb4cb7d28a"
      },
      "source": [
        "filename.isalpha()"
      ],
      "execution_count": 55,
      "outputs": [
        {
          "output_type": "execute_result",
          "data": {
            "text/plain": [
              "False"
            ]
          },
          "metadata": {},
          "execution_count": 55
        }
      ]
    },
    {
      "cell_type": "code",
      "metadata": {
        "id": "P5ttkbvbU50_",
        "colab": {
          "base_uri": "https://localhost:8080/"
        },
        "outputId": "e9c2e392-d7d0-4bac-aa12-7fad9b8d0ee8"
      },
      "source": [
        "\"vasu\".isalpha()"
      ],
      "execution_count": 56,
      "outputs": [
        {
          "output_type": "execute_result",
          "data": {
            "text/plain": [
              "True"
            ]
          },
          "metadata": {},
          "execution_count": 56
        }
      ]
    },
    {
      "cell_type": "code",
      "metadata": {
        "id": "FzZJtVzrVVQn"
      },
      "source": [
        ""
      ],
      "execution_count": 56,
      "outputs": []
    }
  ]
}