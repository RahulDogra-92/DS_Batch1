{
  "nbformat": 4,
  "nbformat_minor": 0,
  "metadata": {
    "colab": {
      "name": "if_else_and_loops.ipynb",
      "provenance": []
    },
    "kernelspec": {
      "name": "python3",
      "display_name": "Python 3"
    }
  },
  "cells": [
    {
      "cell_type": "markdown",
      "metadata": {
        "id": "view-in-github"
      },
      "source": [
        "<a href=\"https://colab.research.google.com/github/avs20/SioLabsPython0/blob/main/3_Booleans_if_else_and_loops.ipynb\" target=\"_parent\"><img src=\"https://colab.research.google.com/assets/colab-badge.svg\" alt=\"Open In Colab\"/></a>"
      ]
    },
    {
      "cell_type": "markdown",
      "metadata": {
        "id": "j38EOk1uAWDc"
      },
      "source": [
        "Today we will learn about booleans. \n",
        "\n"
      ]
    },
    {
      "cell_type": "markdown",
      "metadata": {
        "id": "5brez5czAgUu"
      },
      "source": [
        "int \n",
        "\n",
        "float \n",
        "\n",
        "string \n",
        "\n",
        "Expressions : \n",
        "\n",
        "values and operators -→ which evaluates to a value \n",
        "\n",
        "2 * 3 \n",
        "\n",
        "6\n",
        "\n"
      ]
    },
    {
      "cell_type": "markdown",
      "metadata": {
        "id": "aR5zGFtBAvd7"
      },
      "source": [
        "If something is bigger or smaller \n",
        "\n",
        "If some thing is equal to other thing \n",
        "\n",
        "2 things are not same \n",
        "\n",
        "yes \n",
        "\n",
        "no \n",
        "\n",
        "10 > 5  → Yes \n",
        "\n",
        "\n",
        "5 > 10 → No\n",
        "\n",
        "\n",
        "\n",
        "* True \n",
        "* False \n",
        "\n",
        "a = 10 \n",
        "\n",
        "a > 5 → True \n",
        "\n",
        "5 > a → False\n"
      ]
    },
    {
      "cell_type": "code",
      "metadata": {
        "id": "iOQweRYmAPpV",
        "colab": {
          "base_uri": "https://localhost:8080/"
        },
        "outputId": "74de3cfa-01db-47e7-fa26-604159fdc8b1"
      },
      "source": [
        "True "
      ],
      "execution_count": 4,
      "outputs": [
        {
          "output_type": "execute_result",
          "data": {
            "text/plain": [
              "True"
            ]
          },
          "metadata": {},
          "execution_count": 4
        }
      ]
    },
    {
      "cell_type": "code",
      "metadata": {
        "id": "Ntcglm7gBw7v",
        "colab": {
          "base_uri": "https://localhost:8080/"
        },
        "outputId": "16d87353-c6f8-45cd-9b19-3dfe698c98bb"
      },
      "source": [
        "False"
      ],
      "execution_count": 5,
      "outputs": [
        {
          "output_type": "execute_result",
          "data": {
            "text/plain": [
              "False"
            ]
          },
          "metadata": {},
          "execution_count": 5
        }
      ]
    },
    {
      "cell_type": "code",
      "metadata": {
        "id": "ip_M6PIWB2E6",
        "colab": {
          "base_uri": "https://localhost:8080/",
          "height": 171
        },
        "outputId": "53e8cbf8-acf5-47fa-c7f1-44e4931e6c27"
      },
      "source": [
        "true"
      ],
      "execution_count": 6,
      "outputs": [
        {
          "output_type": "error",
          "ename": "NameError",
          "evalue": "ignored",
          "traceback": [
            "\u001b[0;31m---------------------------------------------------------------------------\u001b[0m",
            "\u001b[0;31mNameError\u001b[0m                                 Traceback (most recent call last)",
            "\u001b[0;32m<ipython-input-6-724ba28f4a9a>\u001b[0m in \u001b[0;36m<module>\u001b[0;34m()\u001b[0m\n\u001b[0;32m----> 1\u001b[0;31m \u001b[0mtrue\u001b[0m\u001b[0;34m\u001b[0m\u001b[0;34m\u001b[0m\u001b[0m\n\u001b[0m",
            "\u001b[0;31mNameError\u001b[0m: name 'true' is not defined"
          ]
        }
      ]
    },
    {
      "cell_type": "code",
      "metadata": {
        "id": "wW3jMOniB4R1"
      },
      "source": [
        "a = 10 \n",
        "\n",
        "a > 5"
      ],
      "execution_count": null,
      "outputs": []
    },
    {
      "cell_type": "code",
      "metadata": {
        "id": "3kfkVSSZCFv0"
      },
      "source": [
        "5 > a"
      ],
      "execution_count": null,
      "outputs": []
    },
    {
      "cell_type": "markdown",
      "metadata": {
        "id": "QUeyxR5vCKOZ"
      },
      "source": [
        "## Comparison Operators \n",
        "\n",
        "* `>` \n",
        "* `<` \n",
        "* `>=`\n",
        "* `<=`\n",
        "* `==`  → equality -  if 2 values are same it will return True\n",
        "* `!=`  → not  equality - if 2 values are not same it will return True\n",
        "\n"
      ]
    },
    {
      "cell_type": "code",
      "metadata": {
        "id": "RWo9iSPyChEA"
      },
      "source": [
        "a = 10 \n",
        "b = 20 "
      ],
      "execution_count": null,
      "outputs": []
    },
    {
      "cell_type": "code",
      "metadata": {
        "id": "1YrPwvWYCocT"
      },
      "source": [
        "a < b "
      ],
      "execution_count": null,
      "outputs": []
    },
    {
      "cell_type": "code",
      "metadata": {
        "id": "uZ2WxDOTCp5B"
      },
      "source": [
        "a > b "
      ],
      "execution_count": null,
      "outputs": []
    },
    {
      "cell_type": "code",
      "metadata": {
        "id": "KfbfdwEwCrOJ"
      },
      "source": [
        "c = 10 \n",
        "\n",
        "a <= c"
      ],
      "execution_count": null,
      "outputs": []
    },
    {
      "cell_type": "code",
      "metadata": {
        "id": "GW2ck4ULCvn3"
      },
      "source": [
        "a >= c "
      ],
      "execution_count": null,
      "outputs": []
    },
    {
      "cell_type": "code",
      "metadata": {
        "id": "MEuSn4KyCyTl"
      },
      "source": [
        "a == c "
      ],
      "execution_count": null,
      "outputs": []
    },
    {
      "cell_type": "code",
      "metadata": {
        "id": "sOoVWnkyC8mm"
      },
      "source": [
        "a != c "
      ],
      "execution_count": null,
      "outputs": []
    },
    {
      "cell_type": "code",
      "metadata": {
        "id": "mY1nSxS_C_xm"
      },
      "source": [
        "b != c "
      ],
      "execution_count": null,
      "outputs": []
    },
    {
      "cell_type": "code",
      "metadata": {
        "id": "6dkoZ6sBDBVN"
      },
      "source": [
        "a =! c \n"
      ],
      "execution_count": null,
      "outputs": []
    },
    {
      "cell_type": "markdown",
      "metadata": {
        "id": "DMEfLkqjDhTf"
      },
      "source": [
        "Conditionals"
      ]
    },
    {
      "cell_type": "code",
      "metadata": {
        "id": "7yxVVvuqDTBy"
      },
      "source": [
        "principa = input()\n",
        "rate = ()\n",
        "time = ()\n",
        "\n",
        "si = p*r*t / 100; \n",
        "\n"
      ],
      "execution_count": null,
      "outputs": []
    },
    {
      "cell_type": "markdown",
      "metadata": {
        "id": "ZfpnveBZFKCw"
      },
      "source": [
        "agar time > 5 ho to rate 7.5 \n",
        "\n",
        "agar time < 5 ho to rate 10.5 \n",
        "\n",
        "agar = if \n",
        "\n",
        "\n",
        "## if block \n",
        "\n",
        "Syntax \n",
        "----\n",
        "\n",
        "```\n",
        "if condition : \n",
        "<leave space> code which we want to runt\n",
        "<leave space> if condition is true\n",
        "\n",
        "```\n",
        "\n",
        "in C/java \n",
        "\n",
        "```\n",
        "if (condition) {\n",
        "code if conditoin is true \n",
        "}\n",
        "```\n",
        "\n"
      ]
    },
    {
      "cell_type": "code",
      "metadata": {
        "id": "OHYFtTexGe1t"
      },
      "source": [
        "principal = int(input('Enter principal'))\n",
        "time = int(input('Enter time'))\n",
        "\n",
        "rate = 10.5\n",
        "if time > 5 :\n",
        "    rate = 7.5 \n",
        "\n",
        "interest = principal * rate * time / 100\n",
        "print(interest)      "
      ],
      "execution_count": null,
      "outputs": []
    },
    {
      "cell_type": "code",
      "metadata": {
        "id": "7y6Kzg12HI26"
      },
      "source": [
        "10000*10.5 * 6 /100"
      ],
      "execution_count": null,
      "outputs": []
    },
    {
      "cell_type": "code",
      "metadata": {
        "id": "sYucLs0IHLhm"
      },
      "source": [
        "principal = int(input('Enter principal'))\n",
        "time = int(input('Enter time'))\n",
        "\n",
        "rate = 10.5\n",
        "if time > 5 :\n",
        "    print('You get a discount of 3%')\n",
        "    rate = 7.5 \n",
        "\n",
        "interest = principal * rate * time / 100\n",
        "print(interest)      "
      ],
      "execution_count": null,
      "outputs": []
    },
    {
      "cell_type": "code",
      "metadata": {
        "id": "D6MLhpIzJYBT"
      },
      "source": [
        "principal = int(input('Enter principal'))\n",
        "time = int(input('Enter time'))\n",
        "\n",
        "rate = 10.5\n",
        "if time > 5 :\n",
        "    print('You get a discount of 3%')\n",
        "    rate = 7.5 \n",
        "\n",
        "interest = principal * rate * time / 100\n",
        "print(interest)      "
      ],
      "execution_count": null,
      "outputs": []
    },
    {
      "cell_type": "markdown",
      "metadata": {
        "id": "PIEukAKQKeaA"
      },
      "source": [
        "## else \n",
        "\n",
        "if condition:\n",
        "    \n",
        "else:\n",
        "    "
      ]
    },
    {
      "cell_type": "code",
      "metadata": {
        "id": "Ve3DH4U-LALn"
      },
      "source": [
        "principal = int(input('Enter principal'))\n",
        "time = int(input('Enter time'))\n",
        "\n",
        "rate = 10.5\n",
        "if time > 5 :\n",
        "    print('You get a discount of 3%')\n",
        "    rate = 7.5\n",
        "else : \n",
        "  print('You can get a discount of 3% if your time is > 5')\n",
        "\n",
        "interest = principal * rate * time / 100\n",
        "print(interest)      "
      ],
      "execution_count": null,
      "outputs": []
    },
    {
      "cell_type": "code",
      "metadata": {
        "id": "YmkuBAf-Le4x"
      },
      "source": [
        "'''\n",
        "90+ - > A+\n",
        "80-90 - > A\n",
        "70-80- B \n",
        "60-70 - > C\n",
        "<60 - > D\n",
        "'''\n",
        "\n",
        "\n",
        "marks = 75\n",
        "# print the grade \n",
        "\n",
        "if marks > 90:\n",
        "  print('A+')\n",
        "\n",
        "elif marks > 80:\n",
        "  print('A')\n",
        "\n",
        "elif marks > 70:\n",
        "  print('B')\n",
        "\n",
        "elif marks > 60:\n",
        "  print('C')\n",
        "\n",
        "else : \n",
        "  print('D')\n",
        "\n",
        "\n"
      ],
      "execution_count": null,
      "outputs": []
    }
  ]
}