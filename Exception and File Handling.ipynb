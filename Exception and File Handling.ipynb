{
 "cells": [
  {
   "cell_type": "code",
   "execution_count": 1,
   "metadata": {},
   "outputs": [
    {
     "name": "stdout",
     "output_type": "stream",
     "text": [
      "10\n"
     ]
    }
   ],
   "source": [
    "#Syntax error\n",
    "x = 10\n",
    "if x==10:\n",
    "    print(x)"
   ]
  },
  {
   "cell_type": "code",
   "execution_count": 2,
   "metadata": {},
   "outputs": [
    {
     "name": "stdout",
     "output_type": "stream",
     "text": [
      "Enter 1st no1\n",
      "Enter 2nd no1\n",
      "1.0\n"
     ]
    }
   ],
   "source": [
    "#Runtime Error\n",
    "\n",
    "x= int(input(\"Enter 1st no\"))\n",
    "y= int(input(\"Enter 2nd no\"))\n",
    "print(x/y)"
   ]
  },
  {
   "cell_type": "code",
   "execution_count": 3,
   "metadata": {},
   "outputs": [
    {
     "name": "stdout",
     "output_type": "stream",
     "text": [
      "Yes\n"
     ]
    }
   ],
   "source": [
    "try:\n",
    "    print(10/0)\n",
    "except ZeroDivisionError:\n",
    "    print(\"Yes\")"
   ]
  },
  {
   "cell_type": "code",
   "execution_count": 5,
   "metadata": {},
   "outputs": [
    {
     "name": "stdout",
     "output_type": "stream",
     "text": [
      "Enter 1st no10\n",
      "Enter 2nd no0\n",
      "y cannot be zero for division\n",
      "Finally block gets executed \n",
      "Hi,I am the part of this program\n"
     ]
    }
   ],
   "source": [
    "try:\n",
    "    x= int(input(\"Enter 1st no\"))\n",
    "    y= int(input(\"Enter 2nd no\"))\n",
    "    c=x/y\n",
    "    print(c)\n",
    "    \n",
    "except ZeroDivisionError:\n",
    "    print(\"y cannot be zero for division\")\n",
    "else:\n",
    "    print(\"Else block gets executed\")\n",
    "finally:\n",
    "    print(\"Finally block gets executed \")\n",
    "print(\"Hi,I am the part of this program\")"
   ]
  },
  {
   "cell_type": "code",
   "execution_count": 7,
   "metadata": {},
   "outputs": [],
   "source": [
    "#File Handling---------------->r,w,a,r+,w+\n",
    "\n",
    "#to create the file\n",
    "f = open('f1.txt','w')\n",
    "f.write(\"I love Data Science\")\n",
    "f.close()"
   ]
  },
  {
   "cell_type": "code",
   "execution_count": 8,
   "metadata": {},
   "outputs": [
    {
     "data": {
      "text/plain": [
       "'I love Data Science'"
      ]
     },
     "execution_count": 8,
     "metadata": {},
     "output_type": "execute_result"
    }
   ],
   "source": [
    "#To read the file\n",
    "\n",
    "f = open('f1.txt','r')\n",
    "f.read()"
   ]
  },
  {
   "cell_type": "code",
   "execution_count": 9,
   "metadata": {},
   "outputs": [
    {
     "data": {
      "text/plain": [
       "'f1.txt'"
      ]
     },
     "execution_count": 9,
     "metadata": {},
     "output_type": "execute_result"
    }
   ],
   "source": [
    "f.name"
   ]
  },
  {
   "cell_type": "code",
   "execution_count": 10,
   "metadata": {},
   "outputs": [
    {
     "data": {
      "text/plain": [
       "'r'"
      ]
     },
     "execution_count": 10,
     "metadata": {},
     "output_type": "execute_result"
    }
   ],
   "source": [
    "f.mode"
   ]
  },
  {
   "cell_type": "code",
   "execution_count": 11,
   "metadata": {},
   "outputs": [
    {
     "data": {
      "text/plain": [
       "False"
      ]
     },
     "execution_count": 11,
     "metadata": {},
     "output_type": "execute_result"
    }
   ],
   "source": [
    "f.closed"
   ]
  },
  {
   "cell_type": "code",
   "execution_count": 12,
   "metadata": {},
   "outputs": [
    {
     "data": {
      "text/plain": [
       "''"
      ]
     },
     "execution_count": 12,
     "metadata": {},
     "output_type": "execute_result"
    }
   ],
   "source": [
    "#Read the Characters\n",
    "''''''\n",
    "#1.f.read()--->read the total data\n",
    "#2.f.read(n)--->read 'n' characters\n",
    "#3.f.readline() -----> read only line\n",
    "#4.f.readlines()---->reall all the line\n"
   ]
  },
  {
   "cell_type": "code",
   "execution_count": 17,
   "metadata": {},
   "outputs": [],
   "source": [
    "f = open('f2.txt','w')\n",
    "list1= [\"1\",\" \",\"2\",\" \",\"3\"]\n",
    "\n",
    "f.writelines(list1)\n",
    "f.close()"
   ]
  },
  {
   "cell_type": "code",
   "execution_count": 19,
   "metadata": {},
   "outputs": [],
   "source": [
    "f = open('f2.txt','r')\n",
    "f.read()\n",
    "f.close()"
   ]
  },
  {
   "cell_type": "code",
   "execution_count": 26,
   "metadata": {},
   "outputs": [],
   "source": [
    "with open('f3.txt','w') as f:\n",
    "    f.write(\"Python1\")\n",
    "    f.write(\"Python2\")\n",
    "    f.write(\"Python3\")\n",
    "    f.write(\"Python4\")"
   ]
  },
  {
   "cell_type": "code",
   "execution_count": 27,
   "metadata": {},
   "outputs": [
    {
     "data": {
      "text/plain": [
       "'Python1Python2Python3Python4'"
      ]
     },
     "execution_count": 27,
     "metadata": {},
     "output_type": "execute_result"
    }
   ],
   "source": [
    "f =  open('f3.txt','r')\n",
    "f.read()\n"
   ]
  },
  {
   "cell_type": "code",
   "execution_count": null,
   "metadata": {},
   "outputs": [],
   "source": []
  }
 ],
 "metadata": {
  "kernelspec": {
   "display_name": "Python 3",
   "language": "python",
   "name": "python3"
  },
  "language_info": {
   "codemirror_mode": {
    "name": "ipython",
    "version": 3
   },
   "file_extension": ".py",
   "mimetype": "text/x-python",
   "name": "python",
   "nbconvert_exporter": "python",
   "pygments_lexer": "ipython3",
   "version": "3.8.3"
  }
 },
 "nbformat": 4,
 "nbformat_minor": 4
}
